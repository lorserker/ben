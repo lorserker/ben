{
 "cells": [
  {
   "cell_type": "markdown",
   "id": "75d07246",
   "metadata": {},
   "source": [
    "# Bidding\n",
    "\n",
    "This is a tutorial for how to use the bidding engine"
   ]
  },
  {
   "cell_type": "code",
   "execution_count": 1,
   "id": "59a5664c",
   "metadata": {},
   "outputs": [
    {
     "name": "stderr",
     "output_type": "stream",
     "text": [
      "Loading config file d:\\GitHub\\ben\\src\\./config/default.conf\n",
      "Loading config file d:\\GitHub\\ben\\src\\./config/default.conf\n"
     ]
    }
   ],
   "source": [
    "import os\n",
    "os.chdir('..')\n",
    "\n",
    "import os\n",
    "import logging\n",
    "\n",
    "# Set logging level to suppress warnings\n",
    "logging.getLogger().setLevel(logging.ERROR)\n",
    "# Just disables the warnings\n",
    "os.environ['TF_CPP_MIN_LOG_LEVEL'] = '2'\n",
    "from nn.models_tf2 import Models\n",
    "from botbidder import BotBid\n",
    "from bidding import bidding\n",
    "from util import hand_to_str\n",
    "from deck52 import random_deal\n",
    "from sample import Sample\n",
    "import conf\n",
    "import numpy as np\n",
    "\n",
    "np.set_printoptions(precision=2, suppress=True, linewidth=200)\n",
    "np.random.seed(42)\n",
    "models = Models.from_conf(conf.load('./config/default.conf'),'..')   # loading neural networks\n",
    "sampler = Sample.from_conf(conf.load('./config/default.conf'), False)  # Load sampling strategies\n"
   ]
  },
  {
   "cell_type": "markdown",
   "id": "669da023",
   "metadata": {},
   "source": [
    "### Bidding through an entire auction for all four hands\n",
    "\n",
    "Now we'll take a random deal and let the bot bid for each hand. We assume North deals and nobody is vulnerable.\n",
    "\n",
    "This script was used to detect the reason for some strange bidding. But the error is fixed, so this should look normal now"
   ]
  },
  {
   "cell_type": "code",
   "execution_count": 2,
   "id": "fc27ca79",
   "metadata": {},
   "outputs": [],
   "source": [
    "hands = ['T8732.K7532.J.Q3', '4.AQJ98.KQ975.94', 'AQ.T6.A863.JT862', 'KJ965.4.T42.AK75']"
   ]
  },
  {
   "cell_type": "code",
   "execution_count": 3,
   "id": "d480cbba",
   "metadata": {},
   "outputs": [],
   "source": [
    "from ddsolver import ddsolver\n",
    "dds = ddsolver.DDSolver()\n",
    "\n",
    "bidder_bots = [BotBid([True, False], hand, models, sampler, i, 3, dds, False, False) for i, hand in enumerate(hands)]"
   ]
  },
  {
   "cell_type": "code",
   "execution_count": 4,
   "id": "7d77351a",
   "metadata": {},
   "outputs": [
    {
     "name": "stdout",
     "output_type": "stream",
     "text": [
      "{'bid': '1S', 'who': 'NN', 'quality': '1', 'candidates': [{'call': '1S', 'insta_score': 1.196, 'alert': 'False', 'explanation': '5+ !S -- 6-!H; 5+!S; 11-20 HCP'}], 'hcp': [9.7, 9.8, 9.3], 'shape': [2.8, 4.0, 3.1, 3.0, 2.9, 3.9, 3.1, 2.9, 2.8, 3.9, 3.1, 3.0], 'explanation': '5+ !S -- 6-!H; 5+!S; 11-20 HCP'}\n",
      "{'bid': 'PASS', 'who': 'NN', 'quality': '1', 'candidates': [{'call': 'PASS', 'insta_score': 1.2, 'alert': 'False', 'explanation': ' -- ; 14- HCP'}], 'hcp': [11.0, 9.3, 13.6], 'shape': [1.7, 3.0, 4.2, 4.0, 1.6, 3.1, 4.2, 4.0, 5.1, 2.1, 2.8, 2.9], 'explanation': ' -- ; 14- HCP'}\n",
      "{'bid': '1N', 'who': 'NN', 'quality': '1', 'candidates': [{'call': '1N', 'insta_score': 1.068, 'alert': 'True', 'explanation': 'Forcing 1NT -- 3-!S; 5-12 HCP; Artificial; Forcing'}], 'hcp': [7.7, 13.1, 6.4], 'shape': [3.0, 2.9, 2.9, 4.0, 5.3, 2.3, 2.2, 3.2, 3.2, 2.9, 3.0, 3.9], 'alert': 'True', 'explanation': 'Forcing 1NT -- 3-!S; 5-12 HCP; Artificial; Forcing'}\n",
      "{'bid': 'PASS', 'who': 'NN', 'quality': '1', 'candidates': [{'call': 'PASS', 'insta_score': 1.185, 'alert': 'False', 'explanation': ' -- ; 14- HCP'}], 'hcp': [13.1, 6.7, 9.1], 'shape': [5.4, 3.1, 2.2, 2.2, 3.3, 3.9, 3.1, 2.7, 2.2, 4.0, 3.5, 3.2], 'explanation': ' -- ; 14- HCP'}\n",
      "{'bid': '2C', 'who': 'NN', 'quality': '1', 'candidates': [{'call': '2C', 'insta_score': 1.2, 'alert': 'False', 'explanation': 'Forced -- 3-8!C; 5-!D; 4-!H; 5-10!S; 11-18 HCP'}], 'hcp': [8.9, 9.5, 10.1], 'shape': [3.2, 3.8, 3.1, 2.8, 2.1, 4.1, 3.5, 3.3, 3.1, 3.9, 3.1, 3.0], 'explanation': 'Forced -- 3-8!C; 5-!D; 4-!H; 5-10!S; 11-18 HCP'}\n",
      "{'bid': 'PASS', 'who': 'NN', 'quality': '0.89', 'candidates': [{'call': 'PASS', 'insta_score': 1.2, 'alert': 'False', 'explanation': ' -- ; 14- HCP'}], 'samples': ['Txxxx.Kxxxx.J.Qx A.Jxxx.Qxxx.AJxx Kx.QTx.Axxxx.Txx QJxxx.A.KTx.Kxxx - 0.99974', 'Txxxx.Kxxxx.J.Qx .AQTxx.QTxxx.JTx Qxx.xx.AKxx.Kxxx AKJxx.J.xxx.Axxx - 0.99947', 'Txxxx.Kxxxx.J.Qx .QJTxx.ATxxx.Kxx Kx.Ax.Kxxxx.xxxx AQJxxx.x.Qx.AJTx - 0.99926', 'Txxxx.Kxxxx.J.Qx K.AJTx.xxxxx.Kxx Ax.Qxx.ATxxx.xxx QJxxx.x.KQ.AJTxx - 0.99923', 'Txxxx.Kxxxx.J.Qx Q.QTxx.KQxxx.Jxx Kx.AJx.Txxxx.Kxx AJxxx.x.Ax.ATxxx - 0.99910', 'Txxxx.Kxxxx.J.Qx .QJTx.Qxxxx.KTxx AJx.xxx.KTxx.Axx KQxxx.A.Axx.Jxxx - 0.99900', 'Txxxx.Kxxxx.J.Qx A.JTxx.xxxx.AJxx Jx.AQx.ATxxx.xxx KQxxx.x.KQx.KTxx - 0.99900', 'Txxxx.Kxxxx.J.Qx x.x.KTxxxxx.AJxx QJ.QJxx.AQx.Txxx AKxxx.ATx.xx.Kxx - 0.99896', 'Txxxx.Kxxxx.J.Qx x.Txx.AKxx.KJxxx Kx.Qxx.Txxxx.Axx AQJxx.AJ.Qxx.Txx - 0.99893', 'Txxxx.Kxxxx.J.Qx x.QTxx.AKxxx.JTx Qx.Axx.Qxxxx.Kxx AKJxx.J.Tx.Axxxx - 0.99890', 'Txxxx.Kxxxx.J.Qx A.ATxx.KTxx.Txxx Kx.Jxx.Axxxx.Kxx QJxxx.Q.Qxx.AJxx - 0.99886', 'Txxxx.Kxxxx.J.Qx A.QJx.xxxx.AJxxx xx.Txx.AQTxx.Kxx KQJxx.Ax.Kxx.Txx - 0.99849', 'Txxxx.Kxxxx.J.Qx K.Tx.Kxxxx.KJxxx xx.AQxx.ATxx.Txx AQJxx.Jx.Qxx.Axx - 0.99840', 'Txxxx.Kxxxx.J.Qx J.QJTx.KQTxx.Jxx KQ.Axx.xxxxx.KTx Axxxx.x.Ax.Axxxx - 0.99839', 'Txxxx.Kxxxx.J.Qx Ax.QJ.Txxx.KTxxx x.ATxx.KQxxx.Jxx KQJxx.xx.Axx.Axx - 0.99830', 'Txxxx.Kxxxx.J.Qx K.QJxx.QTxxx.Axx Jx.Axx.Axxx.xxxx AQxxx.T.Kxx.KJTx - 0.99817', 'Txxxx.Kxxxx.J.Qx Kx.Qxx.QTxx.AJxx Q.JTx.Axxxx.KTxx AJxxx.Ax.Kxx.xxx - 0.99799', 'Txxxx.Kxxxx.J.Qx x.JTx.Kxxx.AJTxx KQ.Axxx.Txxxx.Kx AJxxx.Q.AQx.xxxx - 0.99792', 'Txxxx.Kxxxx.J.Qx Jx.AQJT.Kxxx.Jxx A.xxx.QTxxx.ATxx KQxxx.x.Axx.Kxxx - 0.99773', 'Txxxx.Kxxxx.J.Qx Q.QTxx.AQTxx.xxx Jx.Axx.Kxxx.Axxx AKxxx.J.xxx.KJTx - 0.99770'], 'hcp': [9.7, 10.9, 13.4], 'shape': [1.5, 3.4, 4.9, 3.3, 1.9, 3.4, 4.4, 3.4, 5.0, 1.7, 2.3, 4.0], 'explanation': ' -- ; 14- HCP'}\n",
      "{'bid': '2N', 'who': 'Simulation', 'quality': '0.96', 'candidates': [{'call': '2N', 'insta_score': 0.988, 'adjustment': 7.9, 'expected_score': 212, 'expected_imp': -0.27, 'expected_tricks': 9.1, 'alert': 'False', 'explanation': 'Balanced -- 2-4!C; 2+!D; 2+!H; 2-!S; 11-12 HCP'}, {'call': '3N', 'insta_score': 0.135, 'adjustment': 1.08, 'expected_score': 235, 'expected_imp': 0.27, 'expected_tricks': 9.1}], 'samples': ['KJxx.xx.AJxx.xxx x.AQJxx.KQxxx.xx Txx.Kxxx.Tx.KJTx AQxxx.Tx.xx.AQxx - 0.99999 | 1S-P-1N-P-2C-P-2N-P-P-P (8) | 1S-P-1N-P-2C-P-3N-P-P-P (8)', 'Jxx.Txxx.Tx.AQxx x.AQJxx.KQxxx.xx KQTx.Kxx.Jxx.Txx Axxxx.x.Axx.KJxx - 0.99999 | 1S-P-1N-P-2C-P-2N-P-P-P (8) | 1S-P-1N-P-2C-P-3N-P-P-P (8)', 'Txx.Txx.xxx.AQTx x.AQJxx.KQxxx.xx KJxx.xx.AJx.xxxx AQxxx.Kxx.Tx.KJx - 0.99999 | 1S-P-1N-P-2C-P-2N-P-P-P (8) | 1S-P-1N-P-2C-P-3N-P-P-P (8)', 'xxxx.Txxx.AJx.Ax x.AQJxx.KQxxx.xx QJT.xx.Txx.KJxxx AKxxx.Kx.xx.QTxx - 0.99999 | 1S-P-1N-P-2C-P-2N-P-P-P (10) | 1S-P-1N-P-2C-P-3N-P-P-P (10)', 'Ax.xxx.Jxxxx.Kxx x.AQJxx.KQxxx.xx KTxxx.Txx.x.ATxx QJxxx.Kx.AT.QJxx - 0.99998 | 1S-P-1N-P-2C-P-2N-P-P-P (9) | 1S-P-1N-P-2C-P-3N-P-P-P (9)', 'AQxxx.x.xxx.Txxx x.AQJxx.KQxxx.xx Jx.KTxx.JTxx.KQx KTxxx.xxx.A.AJxx - 0.99998 | 1S-P-1N-P-2C-P-2N-P-P-P (8) | 1S-P-1N-P-2C-P-3N-P-P-P (8)', 'JTx.Txxx.Axx.Kxx x.AQJxx.KQxxx.xx Axxx.x.JTx.QTxxx KQxxx.Kxx.xx.AJx - 0.99998 | 1S-P-1N-P-2C-P-2N-P-P-P (7) | 1S-P-1N-P-2C-P-3N-P-P-P (7)', 'Jxxx.xxx.Txx.KTx x.AQJxx.KQxxx.xx xxx.Txx.Axx.AQJx AKQTx.Kx.Jx.xxxx - 0.99996 | 1S-P-1N-P-2C-P-2N-P-P-P (8) | 1S-P-1N-P-2C-P-3N-P-P-P (8)', 'Qxx.KTxxx.J.Txxx x.AQJxx.KQxxx.xx JTx.xx.ATxxx.QJx AKxxxx.x.xx.AKxx - 0.99996 | 1S-P-1N-P-2C-P-2N-P-3C-P-3H-P-4S-P-P-P (10) | 1S-P-1N-P-2C-P-3N-P-P-P (9)', 'AQxxx.xx.Ax.Txxx x.AQJxx.KQxxx.xx xx.Kxxxx.Txx.Jxx KJTxx.T.Jxx.AKQx - 0.99995 | 1S-P-1N-P-2C-P-2N-P-3N-P-P-P (9) | 1S-P-1N-P-2C-P-3N-P-P-P (9)', 'QTxx.xxx.ATx.KJx x.AQJxx.KQxxx.xx xx.KTx.Jxxx.xxxx AKJxxx.xx.x.AQTx - 0.99995 | 1S-P-1N-P-2C-P-2N-P-3C-P-3H-P-4S-P-P-P (9) | 1S-P-1N-P-2C-P-3N-P-P-P (8)', 'Jxxxx.Txx.xx.AQx x.AQJxx.KQxxx.xx Tx.xx.AJTxx.KJxx AKQxx.Kxx.x.Txxx - 0.99994 | 1S-P-1N-P-2C-P-2N-P-P-P (8) | 1S-P-1N-P-2C-P-3N-P-P-P (8)', 'QJxxx.xx.Axx.Jxx x.AQJxx.KQxxx.xx T.KTxx.Txxx.Kxxx AKxxxx.xx.J.AQTx - 0.99994 | 1S-P-1N-P-2C-P-2N-P-3C-P-3H-P-4S-P-P-P (8) | 1S-P-1N-P-2C-P-3N-P-P-P (8)', 'Jxxx.Kx.Jxx.KQxx x.AQJxx.KQxxx.xx Tx.Txxx.ATxx.xxx AKQxxx.xx.x.AJTx - 0.99994 | 1S-P-1N-P-2C-P-2N-P-3C-P-3H-P-4S-P-P-P (10) | 1S-P-1N-P-2C-P-3N-P-P-P (9)', 'Qx.Txx.ATxxx.QJT x.AQJxx.KQxxx.xx KTxxx.xx.Jxx.Kxx AJxxx.Kxx..Axxxx - 0.99994 | 1S-P-1N-P-2C-P-2N-P-P-P (9) | 1S-P-1N-P-2C-P-3N-P-P-P (9)', 'KQxx.Kxxxx.T.xxx x.AQJxx.KQxxx.xx Axx.Tx.xxxx.KTxx JTxxx.x.AJx.AQJx - 0.99994 | 1S-P-1N-P-2C-P-2N-P-P-P (9) | 1S-P-1N-P-2C-P-3N-P-P-P (9)', 'AJx.xxxx.JT.Axxx x.AQJxx.KQxxx.xx Txx.xx.Axxxx.xxx KQxxxx.KT.x.KQJT - 0.99993 | 1S-P-1N-P-2C-P-2N-P-3C-P-3H-P-4S-P-P-P (9) | 1S-P-1N-P-2C-P-3N-P-P-P (9)', 'KTxx.Txxx.Ax.xxx x.AQJxx.KQxxx.xx QJ.xxx.JTxxx.Axx Axxxxx.K.x.KQJTx - 0.99993 | 1S-P-1N-P-2C-P-2N-P-3C-P-3H-P-4S-P-P-P (8) | 1S-P-1N-P-2C-P-3N-P-P-P (8)', 'Kxxx.xxx.Txx.Qxx x.AQJxx.KQxxx.xx Tx.Txx.AJxx.Axxx AQJxxx.Kx.x.KJTx - 0.99992 | 1S-P-1N-P-2C-P-2N-P-3C-P-3H-P-4S-P-P-P (9) | 1S-P-1N-P-2C-P-3N-P-P-P (9)', 'QJxx.x.AJT.Txxxx x.AQJxx.KQxxx.xx ATx.Txxx.xxx.QJx Kxxxx.Kxx.xx.AKx - 0.99991 | 1S-P-1N-P-2C-P-2N-P-P-P (9) | 1S-P-1N-P-2C-P-3N-P-P-P (9)'], 'hcp': [7.8, 12.6, 7.2], 'shape': [3.3, 3.2, 3.3, 3.2, 5.1, 1.7, 1.7, 4.5, 3.4, 3.4, 3.2, 3.1], 'explanation': 'Balanced -- 2-4!C; 2+!D; 2+!H; 2-!S; 11-12 HCP'}\n",
      "{'bid': 'PASS', 'who': 'NN', 'quality': '0.84', 'candidates': [{'call': 'PASS', 'insta_score': 1.2, 'adjustment': 0, 'expected_score': -83, 'expected_tricks': 8.3, 'alert': 'False', 'explanation': ' -- ; 14- HCP'}], 'samples': ['Txxx.QJxx.Txxx.x x.Kxxxx.KQJx.Qxx AQ.Tx.Axxx.JTxxx KJxxxx.Ax.x.AKxx - 0.98602', 'Jxxx.Qxxx.Qxxx.Q x.Axxxx.KJTx.Kxx AQ.Tx.Axxx.JTxxx KTxxxx.KJ.x.Axxx - 0.98561', 'xxxxx.Axxx.Qxx.x x.KQJxx.KTxx.Qxx AQ.Tx.Axxx.JTxxx KJTxx.xx.Jx.AKxx - 0.98480', 'JTxx.Jxxx.Txx.Ax xx.Kxxxx.KQxx.Kx AQ.Tx.Axxx.JTxxx Kxxxx.AQ.Jx.Qxxx - 0.98417', 'xxxx.Qxxxx.xx.Ax xx.Kxx.QJTxx.KQx AQ.Tx.Axxx.JTxxx KJTxx.AJx.Kx.xxx - 0.98266', 'KTxx.QJxxx.Jxx.x xx.Kxxx.KQTxx.Kx AQ.Tx.Axxx.JTxxx Jxxxx.Ax.x.AQxxx - 0.98246', 'Txxx.Axxxx.xxx.x xx.KJxx.KJTx.Kxx AQ.Tx.Axxx.JTxxx KJxxx.Qx.Qx.AQxx - 0.98065', 'xxxxx.xxx.xxxx.Q J.KJxxx.KJTx.Kxx AQ.Tx.Axxx.JTxxx KTxxx.AQx.Q.Axxx - 0.97789', 'JTxx.xxxx.QJxx.K xx.AQxx.KTxx.Qxx AQ.Tx.Axxx.JTxxx Kxxxx.KJx.x.Axxx - 0.97770', 'xxxxx.Axxxx.Txx. J.KQJxx.KQxx.xxx AQ.Tx.Axxx.JTxxx KTxxx.x.Jx.AKQxx - 0.97745', 'Jxxx.Kxxxx.Qx.xx Tx.AJxx.KJxxx.Qx AQ.Tx.Axxx.JTxxx Kxxxx.Qx.Tx.AKxx - 0.97648', 'KTxx.Qxxx.xxxx.Q xx.AJxx.QJTx.Kxx AQ.Tx.Axxx.JTxxx Jxxxx.Kxx.K.Axxx - 0.97507', 'xxx.KJxxx.KTxx.x xx.Qxx.QJxxx.AQx AQ.Tx.Axxx.JTxxx KJTxxx.Axx..Kxxx - 0.97502', 'xxxx.xxxx.QTx.Kx Jx.AQJxx.Kxxx.xx AQ.Tx.Axxx.JTxxx KTxxx.Kx.Jx.AQxx - 0.97474', 'JTxxxx.Axx.Jxx.x .KQJxx.Txxx.KQxx AQ.Tx.Axxx.JTxxx Kxxxx.xxx.KQ.Axx - 0.97362', 'xxx.xxxxx.JTx.Qx Kx.KQJx.Qxxxx.xx AQ.Tx.Axxx.JTxxx JTxxxx.Ax.K.AKxx - 0.97336', 'xxx.Kxxxx.Qxx.Qx xx.AQJx.KJxxx.xx AQ.Tx.Axxx.JTxxx KJTxxx.xx.T.AKxx - 0.97279', 'xxx.Axxxx.Kxxx.x KJ.QJxxx.JTxx.Kx AQ.Tx.Axxx.JTxxx Txxxxx.K.Q.AQxxx - 0.97276', 'KTxx.xxxx.Jxx.Kx xx.KQJx.KQxxx.xx AQ.Tx.Axxx.JTxxx Jxxxx.Axx.T.AQxx - 0.97271', 'xxx.Qxxxx.QJTxx. xx.Axxx.Kxxx.Axx AQ.Tx.Axxx.JTxxx KJTxxx.KJ..KQxxx - 0.97215'], 'hcp': [12.3, 5.3, 11.3], 'shape': [5.2, 2.3, 1.6, 3.9, 3.9, 4.2, 3.2, 1.7, 2.1, 4.2, 4.0, 2.7], 'explanation': ' -- ; 14- HCP'}\n",
      "{'bid': 'PASS', 'who': 'NN', 'quality': '0.86', 'candidates': [{'call': 'PASS', 'insta_score': 1.187, 'adjustment': 0, 'expected_score': 36, 'expected_tricks': 7.5, 'alert': 'False', 'explanation': ' -- 3-8!C; 5-!D; 4-!H; 5-10!S; 11-13 HCP'}, {'call': '3N', 'insta_score': 0.011}], 'samples': ['AQTxx.QTxx.xx.xx x.AJxxx.KQJx.Txx xx.Kxx.Axxx.QJxx KJxxx.x.Txx.AKxx - 0.97191', 'Ax.Txx.Jxx.QTxxx xx.KQxx.KQxx.Jxx QTxx.AJxxx.Axx.x KJxxx.x.Txx.AKxx - 0.96474', 'Qxx.JTxxx.xx.QTx x.AQxxx.KQxx.xxx ATxx.Kx.AJxx.Jxx KJxxx.x.Txx.AKxx - 0.96296', 'Axx.QJTxx.x.Qxxx xx.AKxx.KJxx.Txx QTx.xxx.AQxxx.Jx KJxxx.x.Txx.AKxx - 0.96264', 'x.KTxxx.xx.QJxxx xx.AQxx.KQxx.Txx AQTxx.Jxx.AJxx.x KJxxx.x.Txx.AKxx - 0.96260', 'AQx.Txxxx.x.QJxx Tx.AK.KJxxx.Txxx xxx.QJxxx.AQxx.x KJxxx.x.Txx.AKxx - 0.95839', 'AQTx.JTxxxx.x.xx xx.Kxx.AKJxx.xxx xx.AQx.Qxxx.QJTx KJxxx.x.Txx.AKxx - 0.95836', 'AQTx.Txxx.xx.Txx xx.AKxx.Kxxx.Jxx xx.QJxx.AQJx.Qxx KJxxx.x.Txx.AKxx - 0.95793', 'Axx.KJxx.Jxx.Txx x.Axxx.AQxxx.Jxx QTxx.QTxx.Kx.Qxx KJxxx.x.Txx.AKxx - 0.95786', 'Qxxx.Qxxx.AJx.QT Tx.AKTx.Kxxx.Jxx Ax.Jxxx.Qxx.xxxx KJxxx.x.Txx.AKxx - 0.95785', 'QTx.KJTx.Kxxx.Qx x.Axxx.AQxxx.Jxx Axxx.Qxxx.J.Txxx KJxxx.x.Txx.AKxx - 0.95781', 'Ax.AQx.xxxxx.xxx x.xxxx.AKQJx.JTx QTxxx.KJTxx..Qxx KJxxx.x.Txx.AKxx - 0.95506', 'Tx.Jxxx.AQxxx.Tx xx.AQTxx.KJxx.Jx AQxx.Kxx.x.Qxxxx KJxxx.x.Txx.AKxx - 0.95424', 'ATxx.QJx.Kxx.xxx xx.Kxxx.AQJxx.Jx Qx.ATxxx.xx.QTxx KJxxx.x.Txx.AKxx - 0.95346', 'QTx.AJx.Qxx.Jxxx Ax.Kxxxx.KJxx.Tx xxx.QTxx.Axx.Qxx KJxxx.x.Txx.AKxx - 0.95268', 'Axxx.ATxx.xxxx.Q T.Qxxx.AKJx.JTxx Qxx.KJxx.Qx.xxxx KJxxx.x.Txx.AKxx - 0.95233', 'x.JTxxx.Kxx.Jxxx Tx.Qxx.AQJxx.Qxx AQxxx.AKxx.xx.Tx KJxxx.x.Txx.AKxx - 0.95228', 'Ax.Kxxxx.Kx.Txxx Tx.AQx.QJxxx.Qxx Qxxx.JTxx.Axx.Jx KJxxx.x.Txx.AKxx - 0.95167', 'Axx.Qxx.xxxx.Qxx x.KJTxx.AKx.Txxx QTxx.Axxx.QJx.Jx KJxxx.x.Txx.AKxx - 0.95128', 'AQx.Qxxx.Jxx.Qxx T.KTxx.AKxx.Jxxx xxxx.AJxx.Qxx.Tx KJxxx.x.Txx.AKxx - 0.95095'], 'hcp': [8.3, 11.1, 9.3], 'shape': [3.2, 3.9, 3.1, 2.7, 1.9, 4.1, 3.6, 3.4, 3.1, 4.0, 3.1, 2.8], 'explanation': ' -- 3-8!C; 5-!D; 4-!H; 5-10!S; 11-13 HCP'}\n",
      "{'bid': 'PASS', 'who': 'NN', 'quality': '0.82', 'candidates': [{'call': 'PASS', 'insta_score': 1.2, 'adjustment': 0, 'expected_score': -79, 'expected_tricks': 8.0, 'alert': 'False', 'explanation': ' -- ; 14- HCP'}], 'samples': ['Txxxx.Kxxxx.J.Qx x.Axxx.AKTxx.Txx AK.JT.Qxxxx.Jxxx QJxxx.Qx.xx.AKxx - 0.97050', 'Txxxx.Kxxxx.J.Qx K.Jxxxx.ATxx.KTx xx.QT.KQxxx.AJxx AQJxx.A.xxx.xxxx - 0.96881', 'Txxxx.Kxxxx.J.Qx x.AQxx.Qxxxx.KTx KQ.Txx.AKTx.xxxx AJxxx.J.xxx.AJxx - 0.96716', 'Txxxx.Kxxxx.J.Qx K.Txx.KQxxx.Kxxx Jx.AQx.ATxx.Txxx AQxxx.Jx.xxx.AJx - 0.96611', 'Txxxx.Kxxxx.J.Qx Q.Txx.KQTxx.Axxx Kx.Jxx.Axxxx.KJx AJxxx.AQ.xx.Txxx - 0.96540', 'Txxxx.Kxxxx.J.Qx A.Jxx.Kxxxx.Kxxx Kx.AQx.QTxxx.Jxx QJxxx.Tx.Ax.ATxx - 0.96461', 'Txxxx.Kxxxx.J.Qx A.Axx.KTxxx.Txxx Kx.Jxx.Axxxx.Kxx QJxxx.QT.Qx.AJxx - 0.96297', 'Txxxx.Kxxxx.J.Qx Q.QTxx.AQTx.Jxxx xx.Ax.Kxxxx.ATxx AKJxx.Jx.xxx.Kxx - 0.96160', 'Txxxx.Kxxxx.J.Qx A.JTxx.KQxx.Jxxx QJ.xx.ATxxx.Axxx Kxxxx.AQ.xxx.KTx - 0.96155', 'Txxxx.Kxxxx.J.Qx KJ.Jxx.KTxxx.KTx Q.AQx.xxxxx.Axxx Axxxx.Tx.AQ.Jxxx - 0.96103', 'Txxxx.Kxxxx.J.Qx Q.QTxx.Axxxx.Kxx xx.AJ.QTxx.ATxxx AKJxx.xx.Kxx.Jxx - 0.95710', 'Txxxx.Kxxxx.J.Qx K.Qxxx.Kxxx.KJxx xx.AJ.QTxxx.Axxx AQJxx.Tx.Axx.Txx - 0.95288', 'Txxxx.Kxxxx.J.Qx J.JTxx.AQxxx.KJT xx.Ax.Kxxxx.Axxx AKQxx.Qx.Tx.xxxx - 0.95262', 'Txxxx.Kxxxx.J.Qx Q.QJTx.KTxxx.Axx Ax.Axx.Qxxx.Jxxx KJxxx.x.Axx.KTxx - 0.94927', 'Txxxx.Kxxxx.J.Qx K.AJTxx.Kxxx.Txx Ax.Qx.QTxxx.Kxxx QJxxx.x.Axx.AJxx - 0.94884', 'Txxxx.Kxxxx.J.Qx x.QTxx.KQxxx.AJT QJ.Axx.Axxx.xxxx AKxxx.J.Txx.Kxxx - 0.94875', 'Txxxx.Kxxxx.J.Qx J.AQxx.ATxxx.Jxx Qx.Jx.KQxxx.KTxx AKxxx.Tx.xx.Axxx - 0.94822', 'Txxxx.Kxxxx.J.Qx x.QJTx.Qxxxx.AKT Qx.Axx.Axxx.Jxxx AKJxx.x.KTx.xxxx - 0.94296', 'Txxxx.Kxxxx.J.Qx x.QTxx.Axxx.AJTx Kx.Axx.KQTxx.xxx AQJxx.J.xxx.Kxxx - 0.94249', 'Txxxx.Kxxxx.J.Qx J.AJxx.QTxxx.Kxx Ax.QTx.xxxx.AJxx KQxxx.x.AKx.Txxx - 0.94225'], 'hcp': [11.2, 10.8, 11.9], 'shape': [1.5, 3.6, 4.6, 3.4, 1.7, 3.1, 4.5, 3.6, 5.1, 1.8, 2.3, 3.8], 'explanation': ' -- ; 14- HCP'}\n",
      "['PAD_START', 'PAD_START', 'PAD_START', '1S', 'PASS', '1N', 'PASS', '2C', 'PASS', '2N', 'PASS', 'PASS', 'PASS']\n"
     ]
    }
   ],
   "source": [
    "auction = ['PAD_START','PAD_START','PAD_START']  # since West deals we need 'PAD_START'\n",
    "\n",
    "turn_i = 3 # whose turn is it to bid\n",
    "step = 0\n",
    "\n",
    "while not bidding.auction_over(auction):\n",
    "    bid = bidder_bots[turn_i].bid(auction)\n",
    "    print(bid.to_dict())\n",
    "    auction.append(bid.bid)\n",
    "    turn_i = (turn_i + 1) % 4  # next player's turn\n",
    "    step += 1\n",
    "print(auction)"
   ]
  }
 ],
 "metadata": {
  "kernelspec": {
   "display_name": "Python 3",
   "language": "python",
   "name": "python3"
  },
  "language_info": {
   "codemirror_mode": {
    "name": "ipython",
    "version": 3
   },
   "file_extension": ".py",
   "mimetype": "text/x-python",
   "name": "python",
   "nbconvert_exporter": "python",
   "pygments_lexer": "ipython3",
   "version": "3.12.3"
  }
 },
 "nbformat": 4,
 "nbformat_minor": 5
}
