{
 "cells": [
  {
   "cell_type": "markdown",
   "id": "21a4c878",
   "metadata": {},
   "source": [
    "# Detailed Analysis (Bid by Bid, Card by Card)\n",
    "\n",
    "This is a tutorial of how to do a detailed analysis of a played board.\n",
    "\n",
    "The engine looks at the bidding and play as it originally happened, and does an analysis for every bid and every card played.\n",
    "\n",
    "The analysis is not just a double-dummy analysis for the exact current layout (like if you would press the \"GIB\" button on BBO). Instead, it's an analysis over many different possible layouts (samples)."
   ]
  },
  {
   "cell_type": "code",
   "execution_count": 1,
   "id": "16f73f71",
   "metadata": {},
   "outputs": [],
   "source": [
    "import os\n",
    "os.chdir('..')\n",
    "\n",
    "from nn.models import Models\n",
    "from analysis import CardByCard\n",
    "from util import parse_lin, display_lin\n",
    "from sample import Sample\n",
    "import conf"
   ]
  },
  {
   "cell_type": "code",
   "execution_count": 2,
   "id": "ca7fa897",
   "metadata": {},
   "outputs": [
    {
     "name": "stderr",
     "output_type": "stream",
     "text": [
      "Loading config file d:\\GitHub\\ben\\src\\./config/TF1.x/default_tf1x.conf\n"
     ]
    },
    {
     "name": "stdout",
     "output_type": "stream",
     "text": [
      "WARNING:tensorflow:From d:\\GitHub\\ben\\src\\nn\\bidderv2.py:3: The name tf.disable_v2_behavior is deprecated. Please use tf.compat.v1.disable_v2_behavior instead.\n",
      "\n",
      "WARNING:tensorflow:From C:\\Users\\Thorvald.AALBORGDATA\\AppData\\Roaming\\Python\\Python312\\site-packages\\tensorflow\\python\\compat\\v2_compat.py:98: disable_resource_variables (from tensorflow.python.ops.resource_variables_toggle) is deprecated and will be removed in a future version.\n",
      "Instructions for updating:\n",
      "non-resource variables are not supported in the long term\n",
      "WARNING:tensorflow:From d:\\GitHub\\ben\\src\\nn\\bidderv2.py:12: The name tf.Session is deprecated. Please use tf.compat.v1.Session instead.\n",
      "\n",
      "WARNING:tensorflow:From d:\\GitHub\\ben\\src\\nn\\bidderv2.py:21: The name tf.train.import_meta_graph is deprecated. Please use tf.compat.v1.train.import_meta_graph instead.\n",
      "\n",
      "INFO:tensorflow:Restoring parameters from ..\\models/GIB/2024-07-06_bidding_V2-3114000\n",
      "INFO:tensorflow:Restoring parameters from ..\\models/GIB/2024-07-06_bidding_V2-3114000\n",
      "INFO:tensorflow:Restoring parameters from ..\\models/GIB/binfo_V2-1420000\n",
      "INFO:tensorflow:Restoring parameters from ..\\models/lead/lead_suit-999000\n",
      "INFO:tensorflow:Restoring parameters from ..\\models/lead/lead_nt-475000\n",
      "INFO:tensorflow:Restoring parameters from ..\\models/lr3_model/lr3-1000000\n",
      "INFO:tensorflow:Restoring parameters from ..\\models/single_dummy/single_dummy-32768000\n",
      "INFO:tensorflow:Restoring parameters from ..\\models/playing/lefty_nt-475000\n",
      "INFO:tensorflow:Restoring parameters from ..\\models/playing/dummy_nt-475000\n",
      "INFO:tensorflow:Restoring parameters from ..\\models/playing/righty_nt-475000\n",
      "INFO:tensorflow:Restoring parameters from ..\\models/playing/decl_nt-475000\n",
      "INFO:tensorflow:Restoring parameters from ..\\models/playing/lefty_suit-999000\n",
      "INFO:tensorflow:Restoring parameters from ..\\models/playing/dummy_suit-999000\n",
      "INFO:tensorflow:Restoring parameters from ..\\models/playing/righty_suit-999000\n",
      "INFO:tensorflow:Restoring parameters from ..\\models/playing/decl_suit-999000\n"
     ]
    },
    {
     "name": "stderr",
     "output_type": "stream",
     "text": [
      "Loading config file d:\\GitHub\\ben\\src\\./config/TF1.x/default_tf1x.conf\n"
     ]
    }
   ],
   "source": [
    "models = Models.from_conf(conf.load('./config/TF1.x/default_tf1x.conf'),'..')   # loading neural networks\n",
    "sampler = Sample.from_conf(conf.load('./config/TF1.x/default_tf1x.conf'))  # Load sampling strategies\n",
    "# For some strange reason PIMC is crashing the second time it is called from Jupyter\n",
    "models.pimc_use_declaring = False\n",
    "models.pimc_use_defending = False"
   ]
  },
  {
   "cell_type": "code",
   "execution_count": 3,
   "id": "2940c18a",
   "metadata": {},
   "outputs": [],
   "source": [
    "# we specify all the information about a board\n",
    "# (it's quite tedious to enter every single thing by hand here,\n",
    "# later we'll have an example of how you can give it a board played on BBO)\n",
    "\n",
    "dealer = 'S'\n",
    "vuln = [True, True]  # fist element is NS, second element is EW\n",
    "\n",
    "hands = [\n",
    "    'AJ87632.J96.753.',\n",
    "    'K9.Q8542.T6.AJ74',\n",
    "    'QT4.A.KJ94.KQ986',\n",
    "    '5.KT73.AQ82.T532'\n",
    "]\n",
    "\n",
    "auction = ['1N', 'PASS', '4H', 'PASS', '4S', 'PASS', 'PASS', 'PASS']\n",
    "\n",
    "play = ['C2', 'D3', 'CA', 'C6', 'D6', 'DJ', 'DQ', 'D5', 'DA', 'D7', 'DT', 'D4', 'D8', 'H6', 'H2', 'D9', 'SQ', 'S5', 'S2', 'SK', 'H4', 'HA', 'H7', 'H9', 'S4', 'C3', 'SA', 'S9', 'S3', 'C4', 'ST', 'H3', 'CK', 'C5', 'HJ', 'C7', 'C8', 'CT', 'S6', 'CJ', 'S7', 'H8', 'C9', 'D2', 'S8', 'H5', 'CQ', 'HT', 'SJ', 'HQ', 'DK', 'HK']"
   ]
  },
  {
   "cell_type": "code",
   "execution_count": 4,
   "id": "79dae473",
   "metadata": {},
   "outputs": [
    {
     "name": "stderr",
     "output_type": "stream",
     "text": [
      "Loaded lib dds.dll\n",
      "DDSolver being loaded version 2.9.0.0 - dds mode 1\n"
     ]
    }
   ],
   "source": [
    "card_by_card = CardByCard(dealer, vuln, hands, auction, play, models, sampler, False)"
   ]
  },
  {
   "cell_type": "code",
   "execution_count": 5,
   "id": "7ab0cce5",
   "metadata": {},
   "outputs": [
    {
     "name": "stdout",
     "output_type": "stream",
     "text": [
      "analyzing the bidding\n"
     ]
    },
    {
     "name": "stderr",
     "output_type": "stream",
     "text": [
      "DDSolver being loaded version 2.9.0.0 - dds mode 1\n"
     ]
    },
    {
     "name": "stdout",
     "output_type": "stream",
     "text": [
      "1N Suggested bid from NN: CandidateBid(bid=1C  , insta_score=0.9999, expected_score=---, expected_mp=---, expected_imp=---, expected_tricks=---, adjust=---, alert=    )\n",
      "1N is not in the bids from the neural network\n",
      "PASS OK NN-value: 1.000\n",
      "4H OK NN-value: 0.993\n",
      "PASS OK NN-value: 0.981\n",
      "4S OK NN-value: 1.000\n",
      "PASS OK NN-value: 1.000\n",
      "PASS OK NN-value: 0.998\n",
      "PASS OK NN-value: 1.000\n",
      "analyzing opening lead\n",
      "C2\n",
      "C2 OK\n",
      "analyzing play\n"
     ]
    },
    {
     "name": "stderr",
     "output_type": "stream",
     "text": [
      "DDSolver being loaded version 2.9.0.0 - dds mode 1\n"
     ]
    },
    {
     "name": "stdout",
     "output_type": "stream",
     "text": [
      "D3 ? losing: 0.57\n",
      "CA ?? losing: 0.64\n",
      "C6 OK\n",
      "D6 OK\n",
      "DJ OK\n",
      "DQ Forced\n",
      "D5 OK\n",
      "DA OK\n",
      "D7 OK\n",
      "DT OK\n",
      "D4 OK\n",
      "D8 OK\n",
      "H6 OK\n",
      "H2 OK\n",
      "D9 OK\n",
      "SQ ? losing: 0.11\n",
      "S5 OK\n",
      "S2 OK\n",
      "SK OK\n",
      "H4 OK\n",
      "HA OK\n",
      "H7 OK\n",
      "H9 OK\n",
      "S4 OK\n",
      "C3 Forced\n",
      "SA ?? losing: 1.09\n",
      "S9 Forced\n",
      "S3 OK\n",
      "C4 OK\n",
      "ST OK\n",
      "H3 OK\n",
      "CK OK\n",
      "C5 OK\n",
      "HJ Forced\n",
      "C7 OK\n",
      "C8 OK\n",
      "CT Forced\n",
      "S6 OK\n",
      "CJ OK\n",
      "S7 OK\n",
      "H8 Forced\n",
      "C9 OK\n",
      "D2 OK\n",
      "S8 OK\n",
      "H5 OK\n",
      "CQ Forced\n",
      "HT OK\n"
     ]
    }
   ],
   "source": [
    "# calling this starts the analysis\n",
    "# it will go bid-by-bid and card-by-card, and will take a few moments\n",
    "# possible mistakes will be annotated with ? or with ?? (if it's a bigger mistake)\n",
    "# (possible mistake means that the engine does not agree with the bid/play. the engine could be wrong too :))\n",
    "\n",
    "await card_by_card.analyze()"
   ]
  },
  {
   "cell_type": "code",
   "execution_count": 6,
   "id": "73be8e31",
   "metadata": {},
   "outputs": [
    {
     "data": {
      "text/plain": [
       "{'bid': '1N',\n",
       " 'who': 'Analysis',\n",
       " 'quality': '1.0',\n",
       " 'candidates': [{'call': '1C', 'insta_score': 1.0, 'alert': 'False'}],\n",
       " 'samples': ['AKJ8x.Q8x.Txx.Tx xxx.Kxxx.Q8xx.Jx QTx.A.KJ9x.KQ98x 9x.JT9xx.Ax.Axxx 1.00000',\n",
       "  'A98xxx.x.xxx.Axx xx.J8xxx.AT8x.xx QTx.A.KJ9x.KQ98x KJ.KQT9xx.Qx.JTx 1.00000',\n",
       "  'AJ98.J8xxx.Tx.JT xxx.KQT9x.AQx.xx QTx.A.KJ9x.KQ98x Kxx.xx.8xxx.Axxx 1.00000',\n",
       "  '98xx.xxx.AT8x.Jx KJxx.Jxxx.xxx.Tx QTx.A.KJ9x.KQ98x Ax.KQT98.Qx.Axxx 1.00000',\n",
       "  'J9.xxx.A8xx.AJxx 8xxx.KQTxx.Qxx.x QTx.A.KJ9x.KQ98x AKxx.J98x.Tx.Txx 1.00000',\n",
       "  'J9xx.J98x.8xx.xx 8x.KQxx.AQTx.JTx QTx.A.KJ9x.KQ98x AKxx.Txxx.xx.Axx 1.00000',\n",
       "  '8xxx.Q98.Q8x.xxx J9xx.JTx.Axx.ATx QTx.A.KJ9x.KQ98x AK.Kxxxxx.Txx.Jx 1.00000',\n",
       "  '98x.QJ98xx.Axx.x xxx.KTxx.8xx.JTx QTx.A.KJ9x.KQ98x AKJx.xx.QTx.Axxx 1.00000',\n",
       "  'AKJ8x.Qxx.AQ8x.x 9xx.KT9xx.xx.ATx QTx.A.KJ9x.KQ98x xx.J8xx.Txx.Jxxx 1.00000',\n",
       "  'J98x.Jx.A8x.Jxxx xxx.KTxx.Qxx.Txx QTx.A.KJ9x.KQ98x AKx.Q98xxx.Txx.A 1.00000',\n",
       "  'A98xx.JT8x.A.Axx Kxx.Kxx.QTxxx.Jx QTx.A.KJ9x.KQ98x Jx.Q9xxx.8xx.Txx 1.00000',\n",
       "  'AKJ9x.T9.xxx.ATx 8x.KJ8xx.AQTx.xx QTx.A.KJ9x.KQ98x xxx.Qxxxx.8x.Jxx 1.00000',\n",
       "  'Kxx.QJxx.A8x.Txx xx.T98x.QTxx.Axx QTx.A.KJ9x.KQ98x AJ98x.Kxxx.xx.Jx 1.00000',\n",
       "  '8x.QJ98x.Qxxx.Jx KJ9x.Kxx.Tx.ATxx QTx.A.KJ9x.KQ98x Axxx.Txxx.A8x.xx 1.00000',\n",
       "  'K8xx.J98xx.A.Axx AJ9x.Qxxx.xxx.xx QTx.A.KJ9x.KQ98x xx.KTx.QT8xx.JTx 1.00000',\n",
       "  'A98x.Q98xx.Ax.Tx Jx.Kxxxx.Qxx.AJx QTx.A.KJ9x.KQ98x Kxxx.JT.T8xx.xxx 1.00000',\n",
       "  'A9xxx.Txx.QTx.xx J8xx.K98xx.A8x.x QTx.A.KJ9x.KQ98x K.QJxx.xxx.AJTxx 1.00000',\n",
       "  '9xx.KT9xx.T8.Txx AJ8.Jxxx.xxx.AJx QTx.A.KJ9x.KQ98x Kxxx.Q8x.AQxx.xx 1.00000',\n",
       "  'AK8.Q98xx.xxx.xx xxx.KJxx.QTx.AJx QTx.A.KJ9x.KQ98x J9xx.Txx.A8x.Txx 1.00000',\n",
       "  'AKJ9x.J9x.A8x.xx xxx.xxxx.Tx.AJTx QTx.A.KJ9x.KQ98x 8x.KQT8x.Qxxx.xx 1.00000'],\n",
       " 'hcp': [3.1, 3.9, 3.0, 2.8, 3.1, 4.0, 3.0, 2.8, 3.1, 3.9, 3.0, 2.8],\n",
       " 'shape': [8.2, 8.6, 8.0]}"
      ]
     },
     "execution_count": 6,
     "metadata": {},
     "output_type": "execute_result"
    }
   ],
   "source": [
    "# the engine does not agree with the 1N opening.\n",
    "# indeed, it's a little offbeat with a singleton\n",
    "# let's see what the engine is thinking (what would it bid instead)\n",
    "\n",
    "card_by_card.bid_responses[0].to_dict()  # the 0 index is the first bid in the auction"
   ]
  },
  {
   "cell_type": "markdown",
   "id": "186f6cff",
   "metadata": {},
   "source": [
    "the engine very confidently opens `1C` and doesn't even consider `1N`"
   ]
  },
  {
   "cell_type": "code",
   "execution_count": 7,
   "id": "573b5939",
   "metadata": {},
   "outputs": [
    {
     "data": {
      "text/plain": [
       "{'card': 'C2',\n",
       " 'who': '',\n",
       " 'quality': '0.9078',\n",
       " 'hcp': [6.1, 2.4, 2.1, 2.3, 2.6, 3.2, 3.6, 3.5, 2.9, 3.4, 3.3, 3.3],\n",
       " 'shape': [8.3, 7.1, 15.7],\n",
       " 'candidates': [{'card': 'Sx',\n",
       "   'insta_score': 0.474,\n",
       "   'expected_tricks_dd': 10.25,\n",
       "   'p_make_contract': 0.23,\n",
       "   'expected_score_dd': 463,\n",
       "   'msg': 'suit adjust=-0.2'},\n",
       "  {'card': 'Cx',\n",
       "   'insta_score': 0.307,\n",
       "   'expected_tricks_dd': 10.28,\n",
       "   'p_make_contract': 0.23,\n",
       "   'expected_score_dd': 465,\n",
       "   'msg': ''},\n",
       "  {'card': 'Hx',\n",
       "   'insta_score': 0.148,\n",
       "   'expected_tricks_dd': 10.39,\n",
       "   'p_make_contract': 0.25,\n",
       "   'expected_score_dd': 453,\n",
       "   'msg': ''},\n",
       "  {'card': 'DA',\n",
       "   'insta_score': 0.054,\n",
       "   'expected_tricks_dd': 10.42,\n",
       "   'p_make_contract': 0.17,\n",
       "   'expected_score_dd': 510,\n",
       "   'msg': ''}],\n",
       " 'samples': ['x.KTxx.AQ8x.Txxx QJ98xxx.x.Kx.9xx KTx.Qxxx.T9x.QJ8 Ax.AJ98.Jxxx.AKx 0.99854',\n",
       "  'x.KTxx.AQ8x.Txxx QJTxxxx.xx.K.8xx A8.98x.T9xx.KQJx K9x.AQJx.Jxxx.A9 0.99854',\n",
       "  'x.KTxx.AQ8x.Txxx KQJ9xxx.Q9x.Kxx. T8.J8xx.Txx.KJ8x Axx.Ax.J9x.AQ9xx 0.78955',\n",
       "  'x.KTxx.AQ8x.Txxx AJT9xxx.Jx.xx.QJ Q8x.8x.Txx.K98xx Kx.AQ9xx.KJ9x.Ax 0.97656',\n",
       "  'x.KTxx.AQ8x.Txxx JT8xxx.8xx.9.AKx 9x.QJx.JTxxx.QJ8 AKQx.A9x.Kxx.9xx 0.94629',\n",
       "  'x.KTxx.AQ8x.Txxx KQT9xxx.8xx.xx.x x.Q9.KJT9.QJ98xx AJ8x.AJxx.xxx.AK 0.99902',\n",
       "  'x.KTxx.AQ8x.Txxx JTxxxx.Jx.Kx.K8x Q8x.Axxx.JTxx.9x AK9.Q98.9xx.AQJx 0.89111',\n",
       "  'x.KTxx.AQ8x.Txxx AQJTxxx.Qx.9x.9x 8x.Jxxx.KJTx.Qxx K9x.A98.xxx.AKJ8 0.97754',\n",
       "  'x.KTxx.AQ8x.Txxx KJT8xxxx.J8x.x.J x.9x.KTxxx.KQxxx AQ9.AQxx.J9x.A98 0.98291',\n",
       "  'x.KTxx.AQ8x.Txxx AQT9xxx.Q.Jx.KJx 8xx.Jxx.Txxx.Q9x KJ.A98xx.K9x.A8x 0.91797',\n",
       "  'x.KTxx.AQ8x.Txxx T98xxx.A.Jx.KQxx KQx.9xx.T9xxx.9x AJx.QJ8xx.Kx.AJ8 0.79004',\n",
       "  'x.KTxx.AQ8x.Txxx KT9xxx.8x.x.A8xx QJx.Axx.Jxxx.J9x A8x.QJ9x.KT9x.KQ 0.96436',\n",
       "  'x.KTxx.AQ8x.Txxx Q9xxxx.xx.KJTx.9 JT.Q9x.xxx.AQ8xx AK8x.AJ8x.9x.KJx 0.88184',\n",
       "  'x.KTxx.AQ8x.Txxx KT98xx.AJx.xx.8x Jx.Q98.JT9xx.Axx AQxx.xxx.Kx.KQJ9 0.96143',\n",
       "  'x.KTxx.AQ8x.Txxx AJT9xx.xx.Jx.J9x Qxx.QJ.T9xxx.A8x K8x.A98xx.Kx.KQx 0.86963',\n",
       "  'x.KTxx.AQ8x.Txxx QJTxxx.Qxx.9xx.A A9xx.J8x.JTx.8xx K8.A9x.Kxx.KQJ9x 0.95898',\n",
       "  'x.KTxx.AQ8x.Txxx KJT98xx.J.T9x.98 Qxx.Q9x.Jxx.KQJx Ax.A8xxx.Kxx.Axx 0.99463',\n",
       "  'x.KTxx.AQ8x.Txxx KQJT8xxx.Jx.Jxx. 9.Q8xx.9xx.AJ9xx Axx.A9x.KTx.KQ8x 0.97119',\n",
       "  'x.KTxx.AQ8x.Txxx QJ98xxx.Qxxx.x.K KTx.A8.9xxx.J98x Ax.J9x.KJTx.AQxx 0.98877',\n",
       "  'x.KTxx.AQ8x.Txxx KT8xxxx.Qx.xx.8x Jx.J9x.K9xx.KQJx AQ9.A8xx.JTx.A9x 0.99609']}"
      ]
     },
     "execution_count": 7,
     "metadata": {},
     "output_type": "execute_result"
    }
   ],
   "source": [
    "# what about the opening lead? let's see...\n",
    "\n",
    "card_by_card.cards['C2'].to_dict()"
   ]
  },
  {
   "cell_type": "markdown",
   "id": "0a2a2bde",
   "metadata": {},
   "source": [
    "the engine agrees with leading a low club, but it's very close. the alternative is a low heart"
   ]
  },
  {
   "cell_type": "code",
   "execution_count": 8,
   "id": "7dcf0964",
   "metadata": {},
   "outputs": [
    {
     "data": {
      "text/plain": [
       "{'card': 'S6',\n",
       " 'who': 'NN-Make',\n",
       " 'quality': '0.9555',\n",
       " 'candidates': [{'card': 'S6',\n",
       "   'insta_score': 0.613,\n",
       "   'expected_tricks_dd': 11.13,\n",
       "   'p_make_contract': 0.96,\n",
       "   'expected_score_dd': 630,\n",
       "   'msg': ''},\n",
       "  {'card': 'S2',\n",
       "   'insta_score': 0.613,\n",
       "   'expected_tricks_dd': 11.13,\n",
       "   'p_make_contract': 0.96,\n",
       "   'expected_score_dd': 630,\n",
       "   'msg': ''},\n",
       "  {'card': 'S3',\n",
       "   'insta_score': 0.613,\n",
       "   'expected_tricks_dd': 11.13,\n",
       "   'p_make_contract': 0.96,\n",
       "   'expected_score_dd': 630,\n",
       "   'msg': ''},\n",
       "  {'card': 'S7',\n",
       "   'insta_score': 0.613,\n",
       "   'expected_tricks_dd': 11.13,\n",
       "   'p_make_contract': 0.96,\n",
       "   'expected_score_dd': 630,\n",
       "   'msg': ''},\n",
       "  {'card': 'S8',\n",
       "   'insta_score': 0.034,\n",
       "   'expected_tricks_dd': 11.13,\n",
       "   'p_make_contract': 0.96,\n",
       "   'expected_score_dd': 630,\n",
       "   'msg': ''},\n",
       "  {'card': 'SJ',\n",
       "   'insta_score': 0.011,\n",
       "   'expected_tricks_dd': 11.01,\n",
       "   'p_make_contract': 0.95,\n",
       "   'expected_score_dd': 616,\n",
       "   'msg': ''},\n",
       "  {'card': 'D3',\n",
       "   'insta_score': 0.182,\n",
       "   'expected_tricks_dd': 10.56,\n",
       "   'p_make_contract': 0.9,\n",
       "   'expected_score_dd': 568,\n",
       "   'msg': ''},\n",
       "  {'card': 'D5',\n",
       "   'insta_score': 0.182,\n",
       "   'expected_tricks_dd': 10.56,\n",
       "   'p_make_contract': 0.9,\n",
       "   'expected_score_dd': 568,\n",
       "   'msg': ''},\n",
       "  {'card': 'D7',\n",
       "   'insta_score': 0.182,\n",
       "   'expected_tricks_dd': 10.56,\n",
       "   'p_make_contract': 0.9,\n",
       "   'expected_score_dd': 568,\n",
       "   'msg': ''},\n",
       "  {'card': 'H6',\n",
       "   'insta_score': 0.138,\n",
       "   'expected_tricks_dd': 10.48,\n",
       "   'p_make_contract': 0.88,\n",
       "   'expected_score_dd': 549,\n",
       "   'msg': ''},\n",
       "  {'card': 'H9',\n",
       "   'insta_score': 0.008,\n",
       "   'expected_tricks_dd': 10.48,\n",
       "   'p_make_contract': 0.88,\n",
       "   'expected_score_dd': 549,\n",
       "   'msg': ''},\n",
       "  {'card': 'HJ',\n",
       "   'insta_score': 0.0,\n",
       "   'expected_tricks_dd': 10.48,\n",
       "   'p_make_contract': 0.88,\n",
       "   'expected_score_dd': 549,\n",
       "   'msg': ''},\n",
       "  {'card': 'SA',\n",
       "   'insta_score': 0.015,\n",
       "   'expected_tricks_dd': 10.36,\n",
       "   'p_make_contract': 0.89,\n",
       "   'expected_score_dd': 552,\n",
       "   'msg': ''}],\n",
       " 'samples': ['x.8xxxxx.AT.Txxx AJ8xxxx.J9x.xxx. K9.KQT.Q8xx.AJxx QTx.A.KJ9x.KQ98x | 0.95755 0.00499 0.17303 1.00000 ',\n",
       "  'x.QT8xxx.ATx.Jxx AJ8xxxx.J9x.xxx. K9.Kxx.Q8x.ATxxx QTx.A.KJ9x.KQ98x | 0.99859 0.00520 0.23978 1.00000 ',\n",
       "  'Kx.Kxxxx.AQ8.xxx AJ8xxxx.J9x.xxx. 9.QT8x.Txx.AJTxx QTx.A.KJ9x.KQ98x | 0.99932 0.00520 0.60807 1.00000 ',\n",
       "  'Kx.KQTxx.8x.xxxx AJ8xxxx.J9x.xxx. 9.8xxx.AQTx.AJTx QTx.A.KJ9x.KQ98x | 0.99956 0.00520 0.11817 1.00000 ',\n",
       "  '9x.K8xxx.AQx.xxx AJ8xxxx.J9x.xxx. K.QTxx.T8x.AJTxx QTx.A.KJ9x.KQ98x | 0.99944 0.00520 0.46650 1.00000 ',\n",
       "  'K9.QT8xx..Jxxxxx AJ8xxxx.J9x.xxx. x.Kxxx.AQT8xx.AT QTx.A.KJ9x.KQ98x | 0.97547 0.00508 0.42696 1.00000 ',\n",
       "  'x.QTxxxx.T.Txxxx AJ8xxxx.J9x.xxx. K9.K8x.AQ8xx.AJx QTx.A.KJ9x.KQ98x | 0.88522 0.00461 0.09246 1.00000 ',\n",
       "  'K9x.Kxx.Qxx.Axxx AJ8xxxx.J9x.xxx. .QT8xxx.AT8.JTxx QTx.A.KJ9x.KQ98x | 0.92441 0.00481 0.05092 1.00000 ',\n",
       "  '9x.KTxxx.AQTx.Tx AJ8xxxx.J9x.xxx. K.Q8xx.8x.AJxxxx QTx.A.KJ9x.KQ98x | 0.99634 0.00519 0.03831 1.00000 ',\n",
       "  'K9.T8xxxx.Qxx.xx AJ8xxxx.J9x.xxx. x.KQx.AT8.AJTxxx QTx.A.KJ9x.KQ98x | 0.96852 0.00504 0.63847 1.00000 ',\n",
       "  'x.QTxxx.A8x.Jxxx AJ8xxxx.J9x.xxx. K9.K8xx.QTx.ATxx QTx.A.KJ9x.KQ98x | 0.99650 0.00519 0.25815 1.00000 ',\n",
       "  'Kx.KTxxx.A8x.ATx AJ8xxxx.J9x.xxx. 9.Q8xx.QTx.Jxxxx QTx.A.KJ9x.KQ98x | 0.99802 0.00520 0.03483 1.00000 ',\n",
       "  'K.KQxxxx.xx.xxxx AJ8xxxx.J9x.xxx. 9x.T8x.AQT8.AJTx QTx.A.KJ9x.KQ98x | 0.99859 0.00520 0.14402 1.00000 ',\n",
       "  'Kx.KTxx.AT.JTxxx AJ8xxxx.J9x.xxx. 9.Q8xxx.Q8xx.Axx QTx.A.KJ9x.KQ98x | 0.99719 0.00519 0.03078 1.00000 ',\n",
       "  'K9.Txxxx.8x.Jxxx AJ8xxxx.J9x.xxx. x.KQ8x.AQTx.ATxx QTx.A.KJ9x.KQ98x | 0.78262 0.00407 0.11721 1.00000 ',\n",
       "  '.Q8xxx.Q8x.AJxxx AJ8xxxx.J9x.xxx. K9x.KTxx.ATx.Txx QTx.A.KJ9x.KQ98x | 0.95916 0.00999 0.03445 1.00000 ',\n",
       "  '9x.K8xxx.Ax.Jxxx AJ8xxxx.J9x.xxx. K.QTxx.QT8x.ATxx QTx.A.KJ9x.KQ98x | 0.99719 0.00519 0.25044 1.00000 ',\n",
       "  'K.KT8xxx.Tx.Txxx AJ8xxxx.J9x.xxx. 9x.Qxx.AQ8x.AJxx QTx.A.KJ9x.KQ98x | 0.99635 0.00519 0.18611 1.00000 ',\n",
       "  '9x.KQTxx.Ax.Txxx AJ8xxxx.J9x.xxx. K.8xxx.QT8x.AJxx QTx.A.KJ9x.KQ98x | 0.99956 0.00520 0.12812 1.00000 ',\n",
       "  'K.QT8xx.Q8.Jxxxx AJ8xxxx.J9x.xxx. 9x.Kxxx.ATxx.ATx QTx.A.KJ9x.KQ98x | 0.99874 0.00520 0.23474 1.00000 ']}"
      ]
     },
     "execution_count": 8,
     "metadata": {},
     "output_type": "execute_result"
    }
   ],
   "source": [
    "# the engine considers dummy's discard of D3 on the first trick a big mistake.\n",
    "# perhaps we should ruff instead, let's see what the engine suggests\n",
    "\n",
    "card_by_card.cards['D3'].to_dict()"
   ]
  },
  {
   "cell_type": "markdown",
   "id": "d6dcab82",
   "metadata": {},
   "source": [
    "indeed, the best play is to ruff low.\n",
    "\n",
    "looking at the samples, we see that East has the `CA` in every sample (this is by inference because underleading an A is very unlikely)"
   ]
  },
  {
   "cell_type": "markdown",
   "id": "994e8878",
   "metadata": {},
   "source": [
    "## Analyzing a board played on BBO"
   ]
  },
  {
   "cell_type": "code",
   "execution_count": 9,
   "id": "cdd0edee",
   "metadata": {},
   "outputs": [],
   "source": [
    "# copy-paste from the hand records (in lin format)\n",
    "\n",
    "lin = 'pn|You,~~M7228oka,~~M72302cm,~~M72316sq|st||md|1S4TKHJD68QC679TKA,S35H479TQKD24TAC8,S2789H3AD379JKC35,|rh||ah|Board 3|sv|e|mb|1C|an|Minor suit opening -- 3+ !C; 11-21 HCP; 12-22 total points|mb|2H|an|Aggressive weak jump overcall -- 6+ !H; 4-10 HCP |mb|d|an|Negative double -- 4+ !S; 7+ HCP; 8+ total points |mb|4H|an|The Law: 10 trump -> game support -- 4+ total points |mb|4S|an|3+ !C; 4+ !S; 16-21 HCP; 17-22 total points|mb|p|mb|p|mb|p|pg||pc|DA|pc|D3|pc|D5|pc|D6|pg||pc|C8|pc|C3|pc|CJ|pc|CA|pg||pc|S4|pc|S5|pc|S8|pc|SJ|pg||pc|H5|pc|HJ|pc|HQ|pc|HA|pg||pc|S2|pc|SA|pc|ST|pc|S3|pg||pc|H2|pc|SK|pc|H4|pc|H3|pg||pc|D8|pc|D2|pc|DJ|pc|S6|pg||pc|SQ|pc|C6|pc|H7|pc|S7|pg||pc|H8|pc|C7|pc|HK|pc|S9|pg||pc|C5|pc|C2|pc|CT|pc|HT|pg||pc|CK|pc|H9|pc|D7|pc|C4|pg||pc|DQ|pc|D4|pc|DK|pc|H6|pg||pc|D9|pc|CQ|pc|C9|pc|DT|pg||'"
   ]
  },
  {
   "cell_type": "code",
   "execution_count": 10,
   "id": "86ccd5f5",
   "metadata": {},
   "outputs": [
    {
     "data": {
      "text/html": [
       "<iframe width=\"800\" height=\"600\" src=\"http://bridgebase.com/tools/handviewer.html?lin=pn|You,~~M7228oka,~~M72302cm,~~M72316sq|st||md|1S4TKHJD68QC679TKA,S35H479TQKD24TAC8,S2789H3AD379JKC35,|rh||ah|Board 3|sv|e|mb|1C|an|Minor suit opening -- 3+ !C; 11-21 HCP; 12-22 total points|mb|2H|an|Aggressive weak jump overcall -- 6+ !H; 4-10 HCP |mb|d|an|Negative double -- 4+ !S; 7+ HCP; 8+ total points |mb|4H|an|The Law: 10 trump -> game support -- 4+ total points |mb|4S|an|3+ !C; 4+ !S; 16-21 HCP; 17-22 total points|mb|p|mb|p|mb|p|pg||pc|DA|pc|D3|pc|D5|pc|D6|pg||pc|C8|pc|C3|pc|CJ|pc|CA|pg||pc|S4|pc|S5|pc|S8|pc|SJ|pg||pc|H5|pc|HJ|pc|HQ|pc|HA|pg||pc|S2|pc|SA|pc|ST|pc|S3|pg||pc|H2|pc|SK|pc|H4|pc|H3|pg||pc|D8|pc|D2|pc|DJ|pc|S6|pg||pc|SQ|pc|C6|pc|H7|pc|S7|pg||pc|H8|pc|C7|pc|HK|pc|S9|pg||pc|C5|pc|C2|pc|CT|pc|HT|pg||pc|CK|pc|H9|pc|D7|pc|C4|pg||pc|DQ|pc|D4|pc|DK|pc|H6|pg||pc|D9|pc|CQ|pc|C9|pc|DT|pg||\" />"
      ],
      "text/plain": [
       "<IPython.core.display.HTML object>"
      ]
     },
     "execution_count": 10,
     "metadata": {},
     "output_type": "execute_result"
    }
   ],
   "source": [
    "display_lin(lin)"
   ]
  },
  {
   "cell_type": "code",
   "execution_count": 11,
   "id": "8fa74a29",
   "metadata": {},
   "outputs": [
    {
     "name": "stdout",
     "output_type": "stream",
     "text": [
      "Board(dealer='S', vuln=[False, True], hands=['9872.A3.KJ973.53', 'QJA6.2568.5.2J4Q', 'KT4.J.Q86.AKT976', '53.KQT974.AT42.8'], auction=['1C', '2H', 'X', '4H', '4S', 'PASS', 'PASS', 'PASS'], play=['DA', 'D3', 'D5', 'D6', 'C8', 'C3', 'CJ', 'CA', 'S4', 'S5', 'S8', 'SJ', 'H5', 'HJ', 'HQ', 'HA', 'S2', 'SA', 'ST', 'S3', 'H2', 'SK', 'H4', 'H3', 'D8', 'D2', 'DJ', 'S6', 'SQ', 'C6', 'H7', 'S7', 'H8', 'C7', 'HK', 'S9', 'C5', 'C2', 'CT', 'HT', 'CK', 'H9', 'D7', 'C4', 'DQ', 'D4', 'DK', 'H6', 'D9', 'CQ', 'C9', 'DT'])\n"
     ]
    }
   ],
   "source": [
    "board = parse_lin(lin)\n",
    "print(board)"
   ]
  },
  {
   "cell_type": "code",
   "execution_count": 12,
   "id": "fb875929",
   "metadata": {},
   "outputs": [
    {
     "name": "stderr",
     "output_type": "stream",
     "text": [
      "DDSolver being loaded version 2.9.0.0 - dds mode 1\n"
     ]
    }
   ],
   "source": [
    "card_by_card = CardByCard(*board, models, sampler, False)\n"
   ]
  },
  {
   "cell_type": "code",
   "execution_count": 13,
   "id": "49c15172",
   "metadata": {},
   "outputs": [
    {
     "name": "stdout",
     "output_type": "stream",
     "text": [
      "analyzing the bidding\n"
     ]
    },
    {
     "name": "stderr",
     "output_type": "stream",
     "text": [
      "DDSolver being loaded version 2.9.0.0 - dds mode 1\n"
     ]
    },
    {
     "name": "stdout",
     "output_type": "stream",
     "text": [
      "1C OK NN-value: 1.000\n",
      "2H OK NN-value: 0.998\n",
      "X Suggested bid from NN: CandidateBid(bid=PASS, insta_score=0.9954, expected_score=---, expected_mp=---, expected_imp=---, expected_tricks=---, adjust=---, alert=    )\n",
      "X is not in the bids from the neural network\n",
      "4H Suggested bid from NN: CandidateBid(bid=3H  , insta_score=0.4051, expected_score=   35, expected_mp=---, expected_imp=---, expected_tricks= 9.04, adjust=20.26, alert=    )\n",
      "4H is not in the bids from the neural network\n",
      "4S Suggested bid from NN: CandidateBid(bid=PASS, insta_score=0.9568, expected_score=---, expected_mp=---, expected_imp=---, expected_tricks=---, adjust=---, alert=    )\n",
      "4S is not in the bids from the neural network\n",
      "PASS OK NN-value: 0.998\n",
      "PASS OK NN-value: 0.999\n",
      "PASS OK NN-value: 0.757\n",
      "analyzing opening lead\n",
      "DA\n",
      "DA OK\n",
      "analyzing play\n"
     ]
    },
    {
     "name": "stderr",
     "output_type": "stream",
     "text": [
      "DDSolver being loaded version 2.9.0.0 - dds mode 1\n"
     ]
    },
    {
     "name": "stdout",
     "output_type": "stream",
     "text": [
      "D3 OK\n",
      "D5 Forced\n",
      "D6 OK\n",
      "C8 OK\n",
      "C3 OK\n",
      "CJ OK\n",
      "CA OK\n",
      "S4 ? losing: 0.57\n",
      "S5 OK\n",
      "S8 OK\n",
      "SJ ?? losing: 0.75\n",
      "H5 ? losing: 0.14\n",
      "HJ OK\n",
      "HQ ?? losing: 1.94\n",
      "HA Forced\n",
      "S2 OK\n",
      "SA OK\n",
      "ST OK\n",
      "S3 Forced\n",
      "H2 ? losing: 0.32\n",
      "SK OK\n",
      "H4 OK\n",
      "H3 ?? losing: 1.00\n",
      "D8 OK\n",
      "D2 OK\n",
      "DJ OK\n",
      "S6 OK\n",
      "SQ OK\n",
      "C6 Forced\n",
      "H7 OK\n",
      "S7 OK\n",
      "H8 OK\n",
      "C7 Forced\n",
      "HK OK\n",
      "S9 OK\n",
      "C5 OK\n",
      "C2 OK\n",
      "CT OK\n",
      "HT Forced\n",
      "CK OK\n",
      "H9 OK\n",
      "D7 OK\n",
      "C4 OK\n",
      "DQ OK\n",
      "D4 OK\n",
      "DK OK\n",
      "H6 OK\n"
     ]
    }
   ],
   "source": [
    "await card_by_card.analyze()"
   ]
  },
  {
   "cell_type": "markdown",
   "id": "bf465259",
   "metadata": {},
   "source": [
    "the engine agrees with the bidding, but didn't like something in the cardplay.\n",
    "\n",
    "playing `S4` from hand is the first mistake. apparently this play drops almost half a trick on average."
   ]
  },
  {
   "cell_type": "code",
   "execution_count": 14,
   "id": "d79d9389",
   "metadata": {},
   "outputs": [
    {
     "data": {
      "text/plain": [
       "{'card': 'DQ',\n",
       " 'who': 'NN-Make',\n",
       " 'quality': '0.1645',\n",
       " 'hcp': [6.7, 8.3],\n",
       " 'shape': [3.4, 3.8, 3.3, 2.4, 2.2, 6.0, 2.7, 2.0],\n",
       " 'candidates': [{'card': 'DQ',\n",
       "   'insta_score': 0.095,\n",
       "   'expected_tricks_dd': 7.05,\n",
       "   'p_make_contract': 0.0,\n",
       "   'expected_score_dd': -98,\n",
       "   'msg': ''},\n",
       "  {'card': 'D8',\n",
       "   'insta_score': 0.046,\n",
       "   'expected_tricks_dd': 7.05,\n",
       "   'p_make_contract': 0.0,\n",
       "   'expected_score_dd': -98,\n",
       "   'msg': ''},\n",
       "  {'card': 'HJ',\n",
       "   'insta_score': 0.414,\n",
       "   'expected_tricks_dd': 7.03,\n",
       "   'p_make_contract': 0.0,\n",
       "   'expected_score_dd': -99,\n",
       "   'msg': ''},\n",
       "  {'card': 'CK',\n",
       "   'insta_score': 0.168,\n",
       "   'expected_tricks_dd': 6.9,\n",
       "   'p_make_contract': 0.0,\n",
       "   'expected_score_dd': -105,\n",
       "   'msg': ''},\n",
       "  {'card': 'S4',\n",
       "   'insta_score': 0.192,\n",
       "   'expected_tricks_dd': 6.48,\n",
       "   'p_make_contract': 0.0,\n",
       "   'expected_score_dd': -128,\n",
       "   'msg': 'trump adjust=0.05'},\n",
       "  {'card': 'ST',\n",
       "   'insta_score': 0.057,\n",
       "   'expected_tricks_dd': 6.48,\n",
       "   'p_make_contract': 0.0,\n",
       "   'expected_score_dd': -128,\n",
       "   'msg': 'trump adjust=0.05'},\n",
       "  {'card': 'SK',\n",
       "   'insta_score': 0.016,\n",
       "   'expected_tricks_dd': 6.1,\n",
       "   'p_make_contract': 0.0,\n",
       "   'expected_score_dd': -147,\n",
       "   'msg': 'trump adjust=0.05'},\n",
       "  {'card': 'C6',\n",
       "   'insta_score': 0.009,\n",
       "   'expected_tricks_dd': 5.99,\n",
       "   'p_make_contract': 0.0,\n",
       "   'expected_score_dd': -151,\n",
       "   'msg': ''},\n",
       "  {'card': 'C7',\n",
       "   'insta_score': 0.009,\n",
       "   'expected_tricks_dd': 5.99,\n",
       "   'p_make_contract': 0.0,\n",
       "   'expected_score_dd': -151,\n",
       "   'msg': ''},\n",
       "  {'card': 'C9',\n",
       "   'insta_score': 0.002,\n",
       "   'expected_tricks_dd': 5.99,\n",
       "   'p_make_contract': 0.0,\n",
       "   'expected_score_dd': -151,\n",
       "   'msg': ''},\n",
       "  {'card': 'CT',\n",
       "   'insta_score': 0.002,\n",
       "   'expected_tricks_dd': 5.99,\n",
       "   'p_make_contract': 0.0,\n",
       "   'expected_score_dd': -151,\n",
       "   'msg': ''}],\n",
       " 'samples': ['Qx.KTxxxx.A.Q8xx 98xx.Ax.KJ9xx.xx AJxx.Q98x.Txxx.J KTx.J.Q8x.AKT9xx | 0.52439 0.02776 -1.00000 -1.00000 ',\n",
       "  'Q.KT8xxx.Ax.Q8xx 98xx.Ax.KJ9xx.xx AJxxx.Q9xx.Txx.J KTx.J.Q8x.AKT9xx | 0.49714 0.02632 -1.00000 -1.00000 ',\n",
       "  'x.KQ9xxx.Ax.Q8xx 98xx.Ax.KJ9xx.xx AQJxx.T8xx.Txx.J KTx.J.Q8x.AKT9xx | 0.48421 0.02563 -1.00000 -1.00000 ',\n",
       "  'x.KQ98xx.AT.Q8xx 98xx.Ax.KJ9xx.xx AQJxx.Txxx.xxx.J KTx.J.Q8x.AKT9xx | 0.48288 0.02556 -1.00000 -1.00000 ',\n",
       "  'x.KQTxxx.AT.Q8xx 98xx.Ax.KJ9xx.xx AQJxx.98xx.xxx.J KTx.J.Q8x.AKT9xx | 0.47965 0.02539 -1.00000 -1.00000 ',\n",
       "  'xx.KQ8xxx.A.Q8xx 98xx.Ax.KJ9xx.xx AQJx.T9xx.Txxx.J KTx.J.Q8x.AKT9xx | 0.47710 0.02526 -1.00000 -1.00000 ',\n",
       "  'x.KQT8xx.AT.Q8xx 98xx.Ax.KJ9xx.xx AQJxx.9xxx.xxx.J KTx.J.Q8x.AKT9xx | 0.47348 0.02507 -1.00000 -1.00000 ',\n",
       "  'x.KQ8xxx.Ax.Q8xx 98xx.Ax.KJ9xx.xx AQJxx.T9xx.Txx.J KTx.J.Q8x.AKT9xx | 0.47131 0.02495 -1.00000 -1.00000 ',\n",
       "  'Q.KQ9xxx.ATxx.8x 98xx.Ax.KJ9xx.xx AJxxx.T8xx.x.QJx KTx.J.Q8x.AKT9xx | 0.35760 0.03786 -1.00000 -1.00000 ',\n",
       "  'Q.KQ98xx.ATxx.8x 98xx.Ax.KJ9xx.xx AJxxx.Txxx.x.QJx KTx.J.Q8x.AKT9xx | 0.35239 0.01866 -1.00000 -1.00000 ',\n",
       "  'Qx.KQ8xxx.ATxx.8 98xx.Ax.KJ9xx.xx AJxx.T9xx.x.QJxx KTx.J.Q8x.AKT9xx | 0.35229 0.03730 -1.00000 -1.00000 ',\n",
       "  'Qx.KQTxxx.ATxx.8 98xx.Ax.KJ9xx.xx AJxx.98xx.x.QJxx KTx.J.Q8x.AKT9xx | 0.35073 0.01857 -1.00000 -1.00000 ',\n",
       "  'Qx.QTxxxx.A.Q8xx 98xx.Ax.KJ9xx.xx AJxx.K98x.Txxx.J KTx.J.Q8x.AKT9xx | 0.33775 0.01788 -1.00000 -1.00000 ',\n",
       "  '.KQT9xx.ATxx.Q8x 98xx.Ax.KJ9xx.xx AQJxxx.8xxx.x.Jx KTx.J.Q8x.AKT9xx | 0.30874 0.01634 -1.00000 -1.00000 ',\n",
       "  'J.KT9xxx.AT.Q8xx 98xx.Ax.KJ9xx.xx AQxxx.Q8xx.xxx.J KTx.J.Q8x.AKT9xx | 0.29368 0.01555 -1.00000 -1.00000 ',\n",
       "  'x.KQTxxx.ATxx.Q8 98xx.Ax.KJ9xx.xx AQJxx.98xx.x.Jxx KTx.J.Q8x.AKT9xx | 0.28801 0.01525 -1.00000 -1.00000 ',\n",
       "  'Jx.KTxxxx.A.Q8xx 98xx.Ax.KJ9xx.xx AQxx.Q98x.Txxx.J KTx.J.Q8x.AKT9xx | 0.28067 0.01486 -1.00000 -1.00000 ',\n",
       "  'J.KT8xxx.AT.Q8xx 98xx.Ax.KJ9xx.xx AQxxx.Q9xx.xxx.J KTx.J.Q8x.AKT9xx | 0.28068 0.01486 -1.00000 -1.00000 ',\n",
       "  'Jx.K8xxxx.A.Q8xx 98xx.Ax.KJ9xx.xx AQxx.QT9x.Txxx.J KTx.J.Q8x.AKT9xx | 0.27370 0.01449 -1.00000 -1.00000 ',\n",
       "  'Jx.KT98xx.A.Q8xx 98xx.Ax.KJ9xx.xx AQxx.Qxxx.Txxx.J KTx.J.Q8x.AKT9xx | 0.26888 0.01423 -1.00000 -1.00000 ']}"
      ]
     },
     "execution_count": 14,
     "metadata": {},
     "output_type": "execute_result"
    }
   ],
   "source": [
    "card_by_card.cards['S4'].to_dict()"
   ]
  },
  {
   "cell_type": "markdown",
   "id": "760b7b2f",
   "metadata": {},
   "source": [
    "the opening lead of `DA` is interesting. the engine prefers the `HK` and it's the only card it considers."
   ]
  },
  {
   "cell_type": "code",
   "execution_count": 15,
   "id": "00c728a0",
   "metadata": {},
   "outputs": [
    {
     "data": {
      "text/plain": [
       "{'card': 'DA',\n",
       " 'who': '',\n",
       " 'quality': '0.781',\n",
       " 'hcp': [4.3, 1.7, 3.6, 3.4, 2.6, 4.1, 3.0, 3.2, 4.2, 1.4, 2.3, 5.3],\n",
       " 'shape': [11.4, 5.6, 13.7],\n",
       " 'candidates': [{'card': 'DA',\n",
       "   'insta_score': 0.057,\n",
       "   'expected_tricks_dd': 11.41,\n",
       "   'p_make_contract': 0.01,\n",
       "   'expected_score_dd': 456,\n",
       "   'msg': ''},\n",
       "  {'card': 'C8',\n",
       "   'insta_score': 0.428,\n",
       "   'expected_tricks_dd': 11.75,\n",
       "   'p_make_contract': 0.01,\n",
       "   'expected_score_dd': 466,\n",
       "   'msg': ''},\n",
       "  {'card': 'HK',\n",
       "   'insta_score': 0.44,\n",
       "   'expected_tricks_dd': 11.65,\n",
       "   'p_make_contract': 0.01,\n",
       "   'expected_score_dd': 468,\n",
       "   'msg': 'suit adjust=0.5'},\n",
       "  {'card': 'Sx',\n",
       "   'insta_score': 0.065,\n",
       "   'expected_tricks_dd': 11.83,\n",
       "   'p_make_contract': 0.01,\n",
       "   'expected_score_dd': 472,\n",
       "   'msg': 'suit adjust=-0.2'}],\n",
       " 'samples': ['xx.KQT9xx.ATxx.8 A8xx.x.QJ8xx.KJx T9x.A8xxx.9x.9xx KQJx.J.Kx.AQTxxx 0.88818',\n",
       "  'xx.KQT9xx.ATxx.8 T98x.A.K9xx.KQxx Qx.J8xxx.QJ8x.9x AKJxx.x.x.AJTxxx 0.74658',\n",
       "  'xx.KQT9xx.ATxx.8 AJ98.8.QJ8xx.Qxx xx.Jxxxx.9xx.JTx KQTxx.A.K.AK9xxx 0.74268',\n",
       "  'xx.KQT9xx.ATxx.8 KT9x.A.J8x.KJxxx AJx.J8xxxx.9xx.9 Q8xx..KQx.AQTxxx 0.81445',\n",
       "  'xx.KQT9xx.ATxx.8 KTxx.8.KQ98x.AJx 8x.AJxxxx.Jx.9xx AQJ9x..xx.KQTxxx 0.82275',\n",
       "  'xx.KQT9xx.ATxx.8 QJTx.x.KQ98x.KQx K8x.J8xxx.xx.Jxx A9xx.A.Jx.AT9xxx 0.73828',\n",
       "  'xx.KQT9xx.ATxx.8 AJxx.Jx.KJx.Axxx 9x.A8xxx.Q8xx.Jx KQT8x..9x.KQT9xx 0.74316',\n",
       "  'xx.KQT9xx.ATxx.8 Q98x.Ax.KQ9x.KQx xx.J8xxx.8xx.Jxx AKJTx..Jx.AT9xxx 0.77441',\n",
       "  'xx.KQT9xx.ATxx.8 KQJT9x.J.Jxx.Axx x.8xxx.98xx.KJ9x A8xx.Ax.KQ.QTxxx 0.73193',\n",
       "  'xx.KQT9xx.ATxx.8 QTxx.x.J8xxx.AQJ 9x.AJ8xxx.9x.9xx AKJ8x..KQ.KTxxxx 0.78662',\n",
       "  'xx.KQT9xx.ATxx.8 AQ8x.A.QJxx.J9xx xxx.Jxxx.98xx.Tx KJT9.8x.K.AKQxxx 0.74219',\n",
       "  'xx.KQT9xx.ATxx.8 AK8x.J.QJx.K9xxx xx.8xxxx.98xxx.x QJT9x.A.K.AQJTxx 0.71094',\n",
       "  'xx.KQT9xx.ATxx.8 KJxx.A.Q9xx.Qxxx Txx.J8xxxx.J.Kxx AQ98..K8xx.AJT9x 0.92480',\n",
       "  'xx.KQT9xx.ATxx.8 A8xx.x.KQxxx.K9x Tx.AJ8xx.J98.Txx KQJ9x.x.x.AQJxxx 0.73096',\n",
       "  'xx.KQT9xx.ATxx.8 KQ8x.J8.KQJxx.QJ Txx.xxxx.98.Txxx AJ9x.A.xx.AK9xxx 0.82178',\n",
       "  'xx.KQT9xx.ATxx.8 AQxx.A.KQ8xx.9xx T8x.J8xxx.9x.Qxx KJ9x.x.Jx.AKJTxx 0.75781',\n",
       "  'xx.KQT9xx.ATxx.8 A8xx.x.QJ8xx.AKx Jx.AJ8xxx.9xx.xx KQT9x..K.QJT9xxx 0.74707',\n",
       "  'xx.KQT9xx.ATxx.8 QT98xx.x.KQ.K9xx x.A8xxx.98xx.Txx AKJx.J.Jxx.AQJxx 0.86279',\n",
       "  'xx.KQT9xx.ATxx.8 QJT8xx.J8.QJ.KTx x.Axxx.98xx.Jxxx AK9x.x.Kxx.AQ9xx 0.80322',\n",
       "  'xx.KQT9xx.ATxx.8 A98x.J8.K8x.QJTx Txx.Axxxx.xx.xxx KQJx..QJ9x.AK9xx 0.88916']}"
      ]
     },
     "execution_count": 15,
     "metadata": {},
     "output_type": "execute_result"
    }
   ],
   "source": [
    "card_by_card.cards['DA'].to_dict()"
   ]
  }
 ],
 "metadata": {
  "kernelspec": {
   "display_name": "Python 3",
   "language": "python",
   "name": "python3"
  },
  "language_info": {
   "codemirror_mode": {
    "name": "ipython",
    "version": 3
   },
   "file_extension": ".py",
   "mimetype": "text/x-python",
   "name": "python",
   "nbconvert_exporter": "python",
   "pygments_lexer": "ipython3",
   "version": "3.12.3"
  }
 },
 "nbformat": 4,
 "nbformat_minor": 5
}
