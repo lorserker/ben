{
 "cells": [
  {
   "cell_type": "markdown",
   "id": "21a4c878",
   "metadata": {},
   "source": [
    "# Detailed Analysis (Bid by Bid, Card by Card)\n",
    "\n",
    "This is a tutorial of how to do a detailed analysis of a played board.\n",
    "\n",
    "The engine looks at the bidding and play as it originally happened, and does an analysis for every bid and every card played.\n",
    "\n",
    "The analysis is not just a double-dummy analysis for the exact current layout (like if you would press the \"GIB\" button on BBO). Instead, it's an analysis over many different possible layouts (samples)."
   ]
  },
  {
   "cell_type": "code",
   "execution_count": 1,
   "id": "16f73f71",
   "metadata": {},
   "outputs": [
    {
     "name": "stderr",
     "output_type": "stream",
     "text": [
      "Loading config file d:\\GitHub\\ben\\src\\./config/default.conf\n",
      "Loading config file d:\\GitHub\\ben\\src\\./config/default.conf\n"
     ]
    }
   ],
   "source": [
    "import os\n",
    "os.chdir('..')\n",
    "\n",
    "from nn.models_tf2 import Models\n",
    "from analysis import CardByCard\n",
    "from util import parse_lin, display_lin\n",
    "from sample import Sample\n",
    "import conf\n",
    "\n",
    "models = Models.from_conf(conf.load('./config/default.conf'),'..')   # loading neural networks\n",
    "sampler = Sample.from_conf(conf.load('./config/default.conf'), False)  # Load sampling strategies\n"
   ]
  },
  {
   "cell_type": "code",
   "execution_count": 2,
   "id": "ca7fa897",
   "metadata": {},
   "outputs": [],
   "source": [
    "# For some strange reason PIMC is crashing the second time it is called from Jupyter\n",
    "models.pimc_use_declaring = False\n",
    "models.pimc_use_defending = False"
   ]
  },
  {
   "cell_type": "code",
   "execution_count": 3,
   "id": "2940c18a",
   "metadata": {},
   "outputs": [],
   "source": [
    "# we specify all the information about a board\n",
    "# (it's quite tedious to enter every single thing by hand here,\n",
    "# later we'll have an example of how you can give it a board played on BBO)\n",
    "\n",
    "dealer = 'S'\n",
    "vuln = [True, True]  # fist element is NS, second element is EW\n",
    "\n",
    "hands = [\n",
    "    'AJ87632.J96.753.',\n",
    "    'K9.Q8542.T6.AJ74',\n",
    "    'QT4.A.KJ94.KQ986',\n",
    "    '5.KT73.AQ82.T532'\n",
    "]\n",
    "\n",
    "auction = ['1N', 'PASS', '4H', 'PASS', '4S', 'PASS', 'PASS', 'PASS']\n",
    "\n",
    "play = ['C2', 'D3', 'CA', 'C6', 'D6', 'DJ', 'DQ', 'D5', 'DA', 'D7', 'DT', 'D4', 'D8', 'H6', 'H2', 'D9', 'SQ', 'S5', 'S2', 'SK', 'H4', 'HA', 'H7', 'H9', 'S4', 'C3', 'SA', 'S9', 'S3', 'C4', 'ST', 'H3', 'CK', 'C5', 'HJ', 'C7', 'C8', 'CT', 'S6', 'CJ', 'S7', 'H8', 'C9', 'D2', 'S8', 'H5', 'CQ', 'HT', 'SJ', 'HQ', 'DK', 'HK']"
   ]
  },
  {
   "cell_type": "code",
   "execution_count": 4,
   "id": "79dae473",
   "metadata": {},
   "outputs": [],
   "source": [
    "card_by_card = CardByCard(dealer, vuln, hands, auction, play, models, sampler, False)"
   ]
  },
  {
   "cell_type": "code",
   "execution_count": 5,
   "id": "7ab0cce5",
   "metadata": {},
   "outputs": [
    {
     "name": "stdout",
     "output_type": "stream",
     "text": [
      "analyzing the bidding\n",
      "1N Suggested bid from NN: CandidateBid(bid=1C  , insta_score=1.1999, expected_score=---, expected_mp=---, expected_imp=---, expected_tricks=---, adjust=---, alert=  , Explain=3+ !C -- 3+!C; 6-!D; 5-!H; 5-!S; 11-21 HCP))\n",
      "1N is not in the bids from the neural network\n",
      "PASS OK NN-value: 1.200\n",
      "4H OK NN-value: 1.054\n",
      "PASS OK NN-value: 0.868\n",
      "4S OK NN-value: 1.198\n",
      "PASS OK NN-value: 1.200\n",
      "PASS OK NN-value: 1.165\n",
      "PASS OK NN-value: 1.200\n",
      "analyzing opening lead\n",
      "C2\n",
      "C2 OK\n",
      "analyzing play\n",
      "D3 ?? losing: 0.70\n",
      "CA ?? losing: 1.02\n",
      "C6 OK\n",
      "D6 OK\n",
      "DJ OK\n",
      "DQ Forced\n",
      "D5 OK\n",
      "DA OK\n",
      "D7 OK\n",
      "DT OK\n",
      "D4 OK\n",
      "D8 OK\n",
      "H6 OK\n",
      "H2 OK\n",
      "D9 OK\n",
      "SQ OK\n",
      "S5 OK\n",
      "S2 OK\n",
      "SK OK\n",
      "H4 OK\n",
      "HA OK\n",
      "H7 OK\n",
      "H9 OK\n",
      "S4 OK\n",
      "C3 Forced\n",
      "SA ?? losing: 1.08\n",
      "S9 Forced\n",
      "S3 OK\n",
      "C4 OK\n",
      "ST Forced\n",
      "H3 Forced\n",
      "CK OK\n",
      "C5 OK\n",
      "HJ OK\n",
      "C7 OK\n",
      "C8 OK\n",
      "CT OK\n",
      "S6 Forced\n",
      "CJ OK\n",
      "S7 OK\n",
      "H8 OK\n",
      "C9 OK\n",
      "D2 OK\n",
      "S8 OK\n",
      "H5 Forced\n",
      "CQ OK\n",
      "HT OK\n"
     ]
    }
   ],
   "source": [
    "# calling this starts the analysis\n",
    "# it will go bid-by-bid and card-by-card, and will take a few moments\n",
    "# possible mistakes will be annotated with ? or with ?? (if it's a bigger mistake)\n",
    "# (possible mistake means that the engine does not agree with the bid/play. the engine could be wrong too :))\n",
    "\n",
    "await card_by_card.analyze()"
   ]
  },
  {
   "cell_type": "code",
   "execution_count": 6,
   "id": "73be8e31",
   "metadata": {},
   "outputs": [
    {
     "data": {
      "text/plain": [
       "{'bid': '1N',\n",
       " 'who': 'Analysis',\n",
       " 'quality': '1',\n",
       " 'candidates': [{'call': '1C',\n",
       "   'insta_score': 1.2,\n",
       "   'alert': 'False',\n",
       "   'explanation': '3+ !C -- 3+!C; 6-!D; 5-!H; 5-!S; 11-21 HCP'}],\n",
       " 'hcp': [3.2, 4.0, 2.9, 2.7, 3.3, 3.9, 3.0, 2.7, 3.2, 3.9, 3.0, 2.8],\n",
       " 'shape': [7.9, 8.9, 7.7],\n",
       " 'explanation': '3+ !C -- 3+!C; 6-!D; 5-!H; 5-!S; 11-21 HCP'}"
      ]
     },
     "execution_count": 6,
     "metadata": {},
     "output_type": "execute_result"
    }
   ],
   "source": [
    "# the engine does not agree with the 1N opening.\n",
    "# indeed, it's a little offbeat with a singleton\n",
    "# let's see what the engine is thinking (what would it bid instead)\n",
    "\n",
    "card_by_card.bid_responses[0].to_dict()  # the 0 index is the first bid in the auction"
   ]
  },
  {
   "cell_type": "markdown",
   "id": "186f6cff",
   "metadata": {},
   "source": [
    "the engine very confidently opens `1C` and doesn't even consider `1N`"
   ]
  },
  {
   "cell_type": "code",
   "execution_count": 7,
   "id": "573b5939",
   "metadata": {},
   "outputs": [
    {
     "data": {
      "text/plain": [
       "{'card': 'C2',\n",
       " 'who': '',\n",
       " 'quality': '0.8349',\n",
       " 'hcp': [6.6, 2.1, 2.0, 2.2, 2.6, 3.5, 3.5, 3.5, 2.8, 3.5, 3.3, 3.2],\n",
       " 'shape': [8.3, 7.3, 15.7],\n",
       " 'candidates': [{'card': 'Cx',\n",
       "   'insta_score': 0.287,\n",
       "   'p_make_contract': 0.25,\n",
       "   'expected_score_imp': 0.56,\n",
       "   'msg': ''},\n",
       "  {'card': 'Sx',\n",
       "   'insta_score': 0.402,\n",
       "   'p_make_contract': 0.25,\n",
       "   'expected_score_imp': 0.55,\n",
       "   'msg': ''},\n",
       "  {'card': 'Hx',\n",
       "   'insta_score': 0.209,\n",
       "   'p_make_contract': 0.21,\n",
       "   'expected_score_imp': -0.24,\n",
       "   'msg': ''},\n",
       "  {'card': 'DA',\n",
       "   'insta_score': 0.061,\n",
       "   'p_make_contract': 0.17,\n",
       "   'expected_score_imp': -0.86,\n",
       "   'msg': ''}],\n",
       " 'samples': ['x.KTxx.AQxx.Txxx Jxxxxxx.A.xxx.Ax QTx.xxx.KJxx.Jxx AK.QJxxx.Tx.KQxx - 0.74219 | Sx:-650.0 Cx:-650.0 Hx:-650.0 DA:100.0',\n",
       "  'x.KTxx.AQxx.Txxx QJTxxxx.Qx.xx.Kx Axx.Jxxx.Txx.Qxx Kx.Axx.KJxx.AJxx - 0.97248 | Sx:-620.0 Cx:-620.0 Hx:-650.0 DA:-650.0',\n",
       "  'x.KTxx.AQxx.Txxx AKQxxxx.QJ.xx.Jx Txx.xxx.Txx.Qxxx Jx.Axxx.KJxx.AKx - 0.75425 | Sx:-650.0 Cx:-650.0 Hx:-650.0 DA:-680.0',\n",
       "  'x.KTxx.AQxx.Txxx KJxxxx.x.Jx.AJxx xx.Qxxxx.Txx.Kxx AQTx.AJx.Kxxx.Qx - 0.88552 | Sx:-620.0 Cx:-620.0 Hx:-620.0 DA:-650.0',\n",
       "  'x.KTxx.AQxx.Txxx KQxxxx.Qxx.xx.Kx ATxx.x.JTxx.xxxx Jx.AJxxx.Kxx.AQJ - 0.85606 | Sx:100.0 Cx:100.0 Hx:-620.0 DA:100.0',\n",
       "  'x.KTxx.AQxx.Txxx JTxxxxx.Qx.KJx.J xx.Ax.Txxx.Qxxxx AKQ.Jxxxx.xx.AKx - 0.97619 | Sx:-650.0 Cx:-650.0 Hx:-620.0 DA:-620.0',\n",
       "  'x.KTxx.AQxx.Txxx QTxxxxxx.xxx..Ax Jx.AJx.Kxxxx.Jxx AK.Qxx.JTxx.KQxx - 0.88692 | Sx:-650.0 Cx:-650.0 Hx:-620.0 DA:-650.0',\n",
       "  'x.KTxx.AQxx.Txxx AQTxxxx.Qx.xx.xx Jx.xxx.JTxx.KQJx Kxx.AJxx.Kxx.Axx - 0.92174 | Sx:-650.0 Cx:100.0 Hx:-650.0 DA:-620.0',\n",
       "  'x.KTxx.AQxx.Txxx JTxxxx.Ax.Tx.QJx KQx.Jxxx.Jxxx.xx Axx.Qxx.Kxx.AKxx - 0.82996 | Sx:-620.0 Cx:-620.0 Hx:-620.0 DA:-650.0',\n",
       "  'x.KTxx.AQxx.Txxx KQJxxxx.AQxx.x.x xx.xxx.KJTx.xxxx ATx.Jx.xxxx.AKQJ - 0.75497 | Sx:-710.0 Cx:-710.0 Hx:-710.0 DA:-680.0',\n",
       "  'x.KTxx.AQxx.Txxx Kxxxxx.Axx.x.Qxx JTx.Jx.Txxxx.Axx AQx.Qxxx.KJx.KJx - 0.87397 | Sx:100.0 Cx:100.0 Hx:-620.0 DA:-620.0',\n",
       "  'x.KTxx.AQxx.Txxx AQJxxx.xxx.xx.xx xx.QJxx.xxx.AQxx KTxx.Ax.KJTx.KJx - 0.81284 | Sx:-620.0 Cx:-620.0 Hx:100.0 DA:-620.0',\n",
       "  'x.KTxx.AQxx.Txxx KJxxxx.xx.Kx.Qxx Tx.Jxxxx.Jxx.KJx AQxx.AQ.Txxx.Axx - 0.86663 | Sx:-620.0 Cx:-620.0 Hx:-650.0 DA:-620.0',\n",
       "  'x.KTxx.AQxx.Txxx KQJTxxx.Jxx.T.Kx xxx.Qxx.Jxx.Qxxx Ax.Axx.Kxxxx.AJx - 0.80010 | Sx:-650.0 Cx:-680.0 Hx:-650.0 DA:-680.0',\n",
       "  'x.KTxx.AQxx.Txxx JTxxxxx.Qx.Txx.K Qxx.Jxx.Kxx.Axxx AK.Axxx.Jxx.QJxx - 0.96434 | Sx:200.0 Cx:200.0 Hx:200.0 DA:300.0',\n",
       "  'x.KTxx.AQxx.Txxx AJxxxxx.x.JT.Qxx KQx.Qxxxx.xxx.xx Tx.AJx.Kxxx.AKJx - 0.93189 | Sx:100.0 Cx:100.0 Hx:100.0 DA:-620.0',\n",
       "  'x.KTxx.AQxx.Txxx KQTxxxx.Qxx.xxx. .Jxx.Txxx.AKxxxx AJxxx.Axx.KJ.QJx - 0.97516 | Sx:-620.0 Cx:-620.0 Hx:-620.0 DA:-650.0',\n",
       "  'x.KTxx.AQxx.Txxx JTxxxx.Jx.xx.Axx Qxx.Qxx.Jxxxx.KJ AKx.Axxx.KT.Qxxx - 0.77269 | Sx:100.0 Cx:100.0 Hx:100.0 DA:-620.0',\n",
       "  'x.KTxx.AQxx.Txxx AKQTxxx.xx.x.QJx xxx.Qxx.JTxx.xxx Jx.AJxx.Kxxx.AKx - 0.75424 | Sx:-650.0 Cx:-650.0 Hx:-650.0 DA:-680.0',\n",
       "  'x.KTxx.AQxx.Txxx KQJxxxx.Q.Jx.Jxx xx.Jxxxx.xxxxx.A ATx.Axx.KT.KQxxx - 0.82801 | Sx:-620.0 Cx:200.0 Hx:-650.0 DA:-650.0']}"
      ]
     },
     "execution_count": 7,
     "metadata": {},
     "output_type": "execute_result"
    }
   ],
   "source": [
    "# what about the opening lead? let's see...\n",
    "\n",
    "card_by_card.cards['C2'].to_dict()"
   ]
  },
  {
   "cell_type": "markdown",
   "id": "0a2a2bde",
   "metadata": {},
   "source": [
    "the engine agrees with leading a low club, but it's very close. the alternative is a low heart"
   ]
  },
  {
   "cell_type": "code",
   "execution_count": 8,
   "id": "7dcf0964",
   "metadata": {},
   "outputs": [
    {
     "data": {
      "text/plain": [
       "{'card': 'S6',\n",
       " 'who': 'IMP-calc',\n",
       " 'quality': '0.8523',\n",
       " 'candidates': [{'card': 'S6',\n",
       "   'insta_score': 0.353,\n",
       "   'expected_tricks_dd': 10.98,\n",
       "   'p_make_contract': 0.96,\n",
       "   'expected_score_imp': 1.15,\n",
       "   'msg': ''},\n",
       "  {'card': 'S2',\n",
       "   'insta_score': 0.353,\n",
       "   'expected_tricks_dd': 10.98,\n",
       "   'p_make_contract': 0.96,\n",
       "   'expected_score_imp': 1.15,\n",
       "   'msg': ''},\n",
       "  {'card': 'S3',\n",
       "   'insta_score': 0.353,\n",
       "   'expected_tricks_dd': 10.98,\n",
       "   'p_make_contract': 0.96,\n",
       "   'expected_score_imp': 1.15,\n",
       "   'msg': ''},\n",
       "  {'card': 'S7',\n",
       "   'insta_score': 0.353,\n",
       "   'expected_tricks_dd': 10.98,\n",
       "   'p_make_contract': 0.96,\n",
       "   'expected_score_imp': 1.15,\n",
       "   'msg': ''},\n",
       "  {'card': 'S8',\n",
       "   'insta_score': 0.029,\n",
       "   'expected_tricks_dd': 10.98,\n",
       "   'p_make_contract': 0.96,\n",
       "   'expected_score_imp': 1.15,\n",
       "   'msg': ''},\n",
       "  {'card': 'SJ',\n",
       "   'insta_score': 0.003,\n",
       "   'expected_tricks_dd': 10.89,\n",
       "   'p_make_contract': 0.95,\n",
       "   'expected_score_imp': 0.95,\n",
       "   'msg': ''},\n",
       "  {'card': 'D3',\n",
       "   'insta_score': 0.29,\n",
       "   'expected_tricks_dd': 10.28,\n",
       "   'p_make_contract': 0.9,\n",
       "   'expected_score_imp': -0.43,\n",
       "   'msg': ''},\n",
       "  {'card': 'D5',\n",
       "   'insta_score': 0.29,\n",
       "   'expected_tricks_dd': 10.28,\n",
       "   'p_make_contract': 0.9,\n",
       "   'expected_score_imp': -0.43,\n",
       "   'msg': ''},\n",
       "  {'card': 'D7',\n",
       "   'insta_score': 0.29,\n",
       "   'expected_tricks_dd': 10.28,\n",
       "   'p_make_contract': 0.9,\n",
       "   'expected_score_imp': -0.43,\n",
       "   'msg': ''},\n",
       "  {'card': 'SA',\n",
       "   'insta_score': 0.002,\n",
       "   'expected_tricks_dd': 10.22,\n",
       "   'p_make_contract': 0.88,\n",
       "   'expected_score_imp': -0.67,\n",
       "   'msg': ''},\n",
       "  {'card': 'H6',\n",
       "   'insta_score': 0.298,\n",
       "   'expected_tricks_dd': 10.17,\n",
       "   'p_make_contract': 0.81,\n",
       "   'expected_score_imp': -1.58,\n",
       "   'msg': ''},\n",
       "  {'card': 'H9',\n",
       "   'insta_score': 0.025,\n",
       "   'expected_tricks_dd': 10.17,\n",
       "   'p_make_contract': 0.81,\n",
       "   'expected_score_imp': -1.58,\n",
       "   'msg': ''},\n",
       "  {'card': 'HJ',\n",
       "   'insta_score': 0.001,\n",
       "   'expected_tricks_dd': 10.17,\n",
       "   'p_make_contract': 0.81,\n",
       "   'expected_score_imp': -1.58,\n",
       "   'msg': ''}],\n",
       " 'samples': ['Kx.Txxxx.AQx.xxx AJxxxxx.Jxx.xxx. x.KQxx.Txx.AJTxx QTx.A.KJxx.KQxxx - 0.80750 0.00458 0.44282 1.00000 1.00000 1.00000 ',\n",
       "  '.QTxxxx.ATx.Jxxx AJxxxxx.Jxx.xxx. Kxx.Kxx.Qxx.ATxx QTx.A.KJxx.KQxxx - 0.94779 0.00538 0.50240 1.00000 1.00000 1.00000 ',\n",
       "  'Kx.Kxxx.AQxx.Txx AJxxxxx.Jxx.xxx. x.QTxxx.Tx.AJxxx QTx.A.KJxx.KQxxx - 0.94460 0.00536 0.42081 1.00000 1.00000 1.00000 ',\n",
       "  'Kx.KQxx.ATxx.xxx AJxxxxx.Jxx.xxx. x.Txxxx.Qx.AJTxx QTx.A.KJxx.KQxxx - 0.97825 0.00555 0.27942 1.00000 1.00000 1.00000 ',\n",
       "  'x.QTxxxx.AQx.xxx AJxxxxx.Jxx.xxx. Kx.Kxx.Txx.AJTxx QTx.A.KJxx.KQxxx - 0.93978 0.00533 0.38272 1.00000 1.00000 1.00000 ',\n",
       "  'Kx.KQxx.Qxx.Txxx AJxxxxx.Jxx.xxx. x.Txxxx.ATx.AJxx QTx.A.KJxx.KQxxx - 0.82838 0.00470 0.25097 1.00000 1.00000 1.00000 ',\n",
       "  'Kxx.QTxx.AQTx.xx AJxxxxx.Jxx.xxx. .Kxxxx.xx.AJTxxx QTx.A.KJxx.KQxxx - 0.76463 0.00434 0.59481 1.00000 1.00000 1.00000 ',\n",
       "  'K.Txxxxxx.xx.Jxx AJxxxxx.Jxx.xxx. xx.KQ.AQTx.ATxxx QTx.A.KJxx.KQxxx - 0.78076 0.00443 0.14063 1.00000 1.00000 1.00000 ',\n",
       "  'Kx.KQTxxx.Tx.xxx AJxxxxx.Jxx.xxx. x.xxx.AQxx.AJTxx QTx.A.KJxx.KQxxx - 0.90545 0.00514 0.14219 1.00000 1.00000 1.00000 ',\n",
       "  'Kxx.QTxxxx.Tx.xx AJxxxxx.Jxx.xxx. .Kxx.AQxx.AJTxxx QTx.A.KJxx.KQxxx - 0.81727 0.00464 0.43086 1.00000 1.00000 1.00000 ',\n",
       "  'K.KTx.AQxxx.xxxx AJxxxxx.Jxx.xxx. xx.Qxxxxx.T.AJTx QTx.A.KJxx.KQxxx - 0.90017 0.00511 0.44620 1.00000 1.00000 1.00000 ',\n",
       "  'Kxx.KQx.ATx.Txxx AJxxxxx.Jxx.xxx. .Txxxxx.Qxx.AJxx QTx.A.KJxx.KQxxx - 0.92883 0.00527 0.15344 1.00000 1.00000 1.00000 ',\n",
       "  'Kx.KTxx.AQTx.xxx AJxxxxx.Jxx.xxx. x.Qxxxx.xx.AJTxx QTx.A.KJxx.KQxxx - 0.96117 0.00545 0.51034 1.00000 1.00000 1.00000 ',\n",
       "  '.Qxxxxx.ATx.Txxx AJxxxxx.Jxx.xxx. Kxx.KTx.Qxx.AJxx QTx.A.KJxx.KQxxx - 0.91691 0.01040 0.43917 1.00000 1.00000 1.00000 ',\n",
       "  'x.KTxxx.Axxx.xxx AJxxxxx.Jxx.xxx. Kx.Qxxx.QT.AJTxx QTx.A.KJxx.KQxxx - 0.72089 0.00409 0.42674 1.00000 1.00000 1.00000 ',\n",
       "  'Kx.Txxxx.AQx.xxx AJxxxxx.Jxx.xxx. x.KQxx.Txx.AJTxx QTx.A.KJxx.KQxxx - 0.80750 0.00458 0.45651 1.00000 1.00000 1.00000 ',\n",
       "  'K.KQxxxx.xxx.xxx AJxxxxx.Jxx.xxx. xx.Txx.AQT.AJTxx QTx.A.KJxx.KQxxx - 0.91843 0.00521 0.23477 1.00000 1.00000 1.00000 ',\n",
       "  'Kx.KQTxxx.Tx.xxx AJxxxxx.Jxx.xxx. x.xxx.AQxx.AJTxx QTx.A.KJxx.KQxxx - 0.90545 0.00514 0.14180 1.00000 1.00000 1.00000 ',\n",
       "  'K.KQxx.ATxxx.xxx AJxxxxx.Jxx.xxx. xx.Txxxx.Q.AJTxx QTx.A.KJxx.KQxxx - 0.98275 0.00557 0.22427 1.00000 1.00000 1.00000 ',\n",
       "  'Kx.Kxxx.AQT.Txxx AJxxxxx.Jxx.xxx. x.QTxxx.xxx.AJxx QTx.A.KJxx.KQxxx - 0.95158 0.00540 0.51966 1.00000 1.00000 1.00000 ']}"
      ]
     },
     "execution_count": 8,
     "metadata": {},
     "output_type": "execute_result"
    }
   ],
   "source": [
    "# the engine considers dummy's discard of D3 on the first trick a big mistake.\n",
    "# perhaps we should ruff instead, let's see what the engine suggests\n",
    "\n",
    "card_by_card.cards['D3'].to_dict()"
   ]
  },
  {
   "cell_type": "markdown",
   "id": "d6dcab82",
   "metadata": {},
   "source": [
    "indeed, the best play is to ruff low.\n",
    "\n",
    "looking at the samples, we see that East has the `CA` in every sample (this is by inference because underleading an A is very unlikely)"
   ]
  },
  {
   "cell_type": "markdown",
   "id": "994e8878",
   "metadata": {},
   "source": [
    "## Analyzing a board played on BBO"
   ]
  },
  {
   "cell_type": "code",
   "execution_count": 9,
   "id": "cdd0edee",
   "metadata": {},
   "outputs": [],
   "source": [
    "# copy-paste from the hand records (in lin format)\n",
    "\n",
    "lin = 'pn|You,~~M7228oka,~~M72302cm,~~M72316sq|st||md|1S4TKHJD68QC679TKA,S35H479TQKD24TAC8,S2789H3AD379JKC35,|rh||ah|Board 3|sv|e|mb|1C|an|Minor suit opening -- 3+ !C; 11-21 HCP; 12-22 total points|mb|2H|an|Aggressive weak jump overcall -- 6+ !H; 4-10 HCP |mb|d|an|Negative double -- 4+ !S; 7+ HCP; 8+ total points |mb|4H|an|The Law: 10 trump -> game support -- 4+ total points |mb|4S|an|3+ !C; 4+ !S; 16-21 HCP; 17-22 total points|mb|p|mb|p|mb|p|pg||pc|DA|pc|D3|pc|D5|pc|D6|pg||pc|C8|pc|C3|pc|CJ|pc|CA|pg||pc|S4|pc|S5|pc|S8|pc|SJ|pg||pc|H5|pc|HJ|pc|HQ|pc|HA|pg||pc|S2|pc|SA|pc|ST|pc|S3|pg||pc|H2|pc|SK|pc|H4|pc|H3|pg||pc|D8|pc|D2|pc|DJ|pc|S6|pg||pc|SQ|pc|C6|pc|H7|pc|S7|pg||pc|H8|pc|C7|pc|HK|pc|S9|pg||pc|C5|pc|C2|pc|CT|pc|HT|pg||pc|CK|pc|H9|pc|D7|pc|C4|pg||pc|DQ|pc|D4|pc|DK|pc|H6|pg||pc|D9|pc|CQ|pc|C9|pc|DT|pg||'"
   ]
  },
  {
   "cell_type": "code",
   "execution_count": 10,
   "id": "86ccd5f5",
   "metadata": {},
   "outputs": [
    {
     "data": {
      "text/html": [
       "<iframe width=\"800\" height=\"600\" src=\"http://bridgebase.com/tools/handviewer.html?lin=pn|You,~~M7228oka,~~M72302cm,~~M72316sq|st||md|1S4TKHJD68QC679TKA,S35H479TQKD24TAC8,S2789H3AD379JKC35,|rh||ah|Board 3|sv|e|mb|1C|an|Minor suit opening -- 3+ !C; 11-21 HCP; 12-22 total points|mb|2H|an|Aggressive weak jump overcall -- 6+ !H; 4-10 HCP |mb|d|an|Negative double -- 4+ !S; 7+ HCP; 8+ total points |mb|4H|an|The Law: 10 trump -> game support -- 4+ total points |mb|4S|an|3+ !C; 4+ !S; 16-21 HCP; 17-22 total points|mb|p|mb|p|mb|p|pg||pc|DA|pc|D3|pc|D5|pc|D6|pg||pc|C8|pc|C3|pc|CJ|pc|CA|pg||pc|S4|pc|S5|pc|S8|pc|SJ|pg||pc|H5|pc|HJ|pc|HQ|pc|HA|pg||pc|S2|pc|SA|pc|ST|pc|S3|pg||pc|H2|pc|SK|pc|H4|pc|H3|pg||pc|D8|pc|D2|pc|DJ|pc|S6|pg||pc|SQ|pc|C6|pc|H7|pc|S7|pg||pc|H8|pc|C7|pc|HK|pc|S9|pg||pc|C5|pc|C2|pc|CT|pc|HT|pg||pc|CK|pc|H9|pc|D7|pc|C4|pg||pc|DQ|pc|D4|pc|DK|pc|H6|pg||pc|D9|pc|CQ|pc|C9|pc|DT|pg||\" />"
      ],
      "text/plain": [
       "<IPython.core.display.HTML object>"
      ]
     },
     "execution_count": 10,
     "metadata": {},
     "output_type": "execute_result"
    }
   ],
   "source": [
    "display_lin(lin)"
   ]
  },
  {
   "cell_type": "code",
   "execution_count": 11,
   "id": "8fa74a29",
   "metadata": {},
   "outputs": [
    {
     "name": "stdout",
     "output_type": "stream",
     "text": [
      "Board(dealer='S', vuln=[False, True], hands=['9872.A3.KJ973.53', 'JAQ6.5286.5.J42Q', 'KT4.J.Q86.AKT976', '53.KQT974.AT42.8'], auction=['1C', '2H', 'X', '4H', '4S', 'PASS', 'PASS', 'PASS'], play=['DA', 'D3', 'D5', 'D6', 'C8', 'C3', 'CJ', 'CA', 'S4', 'S5', 'S8', 'SJ', 'H5', 'HJ', 'HQ', 'HA', 'S2', 'SA', 'ST', 'S3', 'H2', 'SK', 'H4', 'H3', 'D8', 'D2', 'DJ', 'S6', 'SQ', 'C6', 'H7', 'S7', 'H8', 'C7', 'HK', 'S9', 'C5', 'C2', 'CT', 'HT', 'CK', 'H9', 'D7', 'C4', 'DQ', 'D4', 'DK', 'H6', 'D9', 'CQ', 'C9', 'DT'])\n"
     ]
    }
   ],
   "source": [
    "board = parse_lin(lin)\n",
    "print(board)"
   ]
  },
  {
   "cell_type": "code",
   "execution_count": 12,
   "id": "fb875929",
   "metadata": {},
   "outputs": [],
   "source": [
    "card_by_card = CardByCard(*board, models, sampler, False)\n"
   ]
  },
  {
   "cell_type": "code",
   "execution_count": 13,
   "id": "49c15172",
   "metadata": {},
   "outputs": [
    {
     "name": "stdout",
     "output_type": "stream",
     "text": [
      "analyzing the bidding\n",
      "1C OK NN-value: 1.200\n",
      "2H OK NN-value: 1.148\n",
      "X Suggested bid from NN: CandidateBid(bid=PASS, insta_score=1.1132, expected_score=---, expected_mp=---, expected_imp=---, expected_tricks=---, adjust=---, alert=  , Explain= -- ; 13- HCP))\n",
      "X NN-values:CandidateBid(bid=X   , insta_score=0.0836, expected_score=---, expected_mp=---, expected_imp=---, expected_tricks=---, adjust=---, alert=  )\n",
      "4H Suggested bid from NN: CandidateBid(bid=3H  , insta_score=0.6403, expected_score=  136, expected_mp=---, expected_imp= -0.1, expected_tricks= 9.19, adjust=1.54, alert=  , Explain=Preemptive -- 2+!H; 3-8 HCP))\n",
      "4H NN-values:CandidateBid(bid=4H  , insta_score=0.4117, expected_score=  106, expected_mp=---, expected_imp= -1.1, expected_tricks= 9.31, adjust=0.99, alert=  )\n",
      "4S Suggested bid from NN: CandidateBid(bid=PASS, insta_score=1.0817, expected_score=  146, expected_mp=---, expected_imp=---, expected_tricks= 7.94, adjust=0.00, alert=  , Explain= -- 3+!C; 6-!D; 5-!H; 5-!S; 11-16 HCP))\n",
      "4S is not in the bids from the neural network\n",
      "PASS OK NN-value: 1.197\n",
      "PASS OK NN-value: 1.173\n",
      "PASS OK NN-value: 1.189\n",
      "analyzing opening lead\n",
      "DA\n",
      "DA OK\n",
      "analyzing play\n",
      "D3 OK\n",
      "D5 Forced\n",
      "D6 OK\n",
      "C8 OK\n",
      "C3 OK\n",
      "CJ OK\n",
      "CA OK\n",
      "S4 ? losing: 0.40\n",
      "S5 OK\n",
      "S8 OK\n",
      "SJ OK\n",
      "H5 OK\n",
      "HJ OK\n",
      "HQ OK\n",
      "HA OK\n",
      "S2 OK\n",
      "SA OK\n",
      "ST Forced\n",
      "S3 Follow\n",
      "H2 OK\n",
      "SK OK\n",
      "H4 OK\n",
      "H3 OK\n",
      "D8 OK\n",
      "D2 Forced\n",
      "DJ OK\n",
      "S6 Follow\n",
      "SQ OK\n",
      "C6 OK\n",
      "H7 ? losing: 0.23\n",
      "S7 Forced\n",
      "H8 OK\n",
      "C7 OK\n",
      "HK OK\n",
      "S9 OK\n",
      "C5 OK\n",
      "C2 OK\n",
      "CT ?? losing: 0.90\n",
      "HT OK\n",
      "CK OK\n",
      "H9 Forced\n",
      "D7 ?? losing: 3.00\n",
      "C4 OK\n",
      "DQ OK\n",
      "D4 OK\n",
      "DK OK\n",
      "H6 OK\n"
     ]
    }
   ],
   "source": [
    "await card_by_card.analyze()"
   ]
  },
  {
   "cell_type": "markdown",
   "id": "bf465259",
   "metadata": {},
   "source": [
    "the engine agrees with the bidding, but didn't like something in the cardplay.\n",
    "\n",
    "playing `S4` from hand is the first mistake. apparently this play drops almost half a trick on average."
   ]
  },
  {
   "cell_type": "code",
   "execution_count": 14,
   "id": "d79d9389",
   "metadata": {},
   "outputs": [
    {
     "data": {
      "text/plain": [
       "{'card': 'HJ',\n",
       " 'who': 'IMP-calc',\n",
       " 'quality': '0.4812',\n",
       " 'hcp': [7.5, 8.1],\n",
       " 'shape': [3.1, 4.2, 3.2, 2.4, 2.4, 6.1, 2.5, 1.9],\n",
       " 'candidates': [{'card': 'HJ',\n",
       "   'insta_score': 0.29,\n",
       "   'expected_tricks_dd': 7.54,\n",
       "   'p_make_contract': 0.0,\n",
       "   'expected_score_imp': 1.16,\n",
       "   'msg': ''},\n",
       "  {'card': 'DQ',\n",
       "   'insta_score': 0.254,\n",
       "   'expected_tricks_dd': 7.47,\n",
       "   'p_make_contract': 0.01,\n",
       "   'expected_score_imp': 1.05,\n",
       "   'msg': ''},\n",
       "  {'card': 'D8',\n",
       "   'insta_score': 0.099,\n",
       "   'expected_tricks_dd': 7.47,\n",
       "   'p_make_contract': 0.01,\n",
       "   'expected_score_imp': 1.05,\n",
       "   'msg': ''},\n",
       "  {'card': 'CK',\n",
       "   'insta_score': 0.144,\n",
       "   'expected_tricks_dd': 7.41,\n",
       "   'p_make_contract': 0.0,\n",
       "   'expected_score_imp': 0.92,\n",
       "   'msg': ''},\n",
       "  {'card': 'S4',\n",
       "   'insta_score': 0.043,\n",
       "   'expected_tricks_dd': 7.14,\n",
       "   'p_make_contract': 0.01,\n",
       "   'expected_score_imp': 0.41,\n",
       "   'msg': ''},\n",
       "  {'card': 'ST',\n",
       "   'insta_score': 0.006,\n",
       "   'expected_tricks_dd': 7.13,\n",
       "   'p_make_contract': 0.0,\n",
       "   'expected_score_imp': 0.37,\n",
       "   'msg': ''},\n",
       "  {'card': 'SK',\n",
       "   'insta_score': 0.134,\n",
       "   'expected_tricks_dd': 6.45,\n",
       "   'p_make_contract': 0.0,\n",
       "   'expected_score_imp': -0.91,\n",
       "   'msg': ''},\n",
       "  {'card': 'C6',\n",
       "   'insta_score': 0.015,\n",
       "   'expected_tricks_dd': 6.47,\n",
       "   'p_make_contract': 0.0,\n",
       "   'expected_score_imp': -1.01,\n",
       "   'msg': ''},\n",
       "  {'card': 'C7',\n",
       "   'insta_score': 0.015,\n",
       "   'expected_tricks_dd': 6.47,\n",
       "   'p_make_contract': 0.0,\n",
       "   'expected_score_imp': -1.01,\n",
       "   'msg': ''},\n",
       "  {'card': 'C9',\n",
       "   'insta_score': 0.007,\n",
       "   'expected_tricks_dd': 6.47,\n",
       "   'p_make_contract': 0.0,\n",
       "   'expected_score_imp': -1.01,\n",
       "   'msg': ''},\n",
       "  {'card': 'CT',\n",
       "   'insta_score': 0.007,\n",
       "   'expected_tricks_dd': 6.47,\n",
       "   'p_make_contract': 0.0,\n",
       "   'expected_score_imp': -1.01,\n",
       "   'msg': ''}],\n",
       " 'samples': ['.Kxxxxx.ATxx.Qxx xxxx.Ax.KJxxx.xx AQJxxx.QTxx.x.Jx KTx.J.Qxx.AKTxxx - 0.68157 0.00372 0.20627 0.18971 1.00000 1.00000 ',\n",
       "  '.QTxxxx.ATx.Qxxx xxxx.Ax.KJxxx.xx AQJxxx.Kxxx.xx.J KTx.J.Qxx.AKTxxx - 0.67504 0.00372 0.10918 0.24942 1.00000 1.00000 ',\n",
       "  'QJxx.QTxxxx.A.xx xxxx.Ax.KJxxx.xx Ax.Kxxx.Txxx.QJx KTx.J.Qxx.AKTxxx - 0.61961 0.00743 0.53450 0.47098 1.00000 1.00000 ',\n",
       "  'QJxx.QTxxxx.A.xx xxxx.Ax.KJxxx.xx Ax.Kxxx.Txxx.QJx KTx.J.Qxx.AKTxxx - 0.61961 0.00372 0.51750 0.46509 1.00000 1.00000 ',\n",
       "  'QJxx.QTxxxx.A.xx xxxx.Ax.KJxxx.xx Ax.Kxxx.Txxx.QJx KTx.J.Qxx.AKTxxx - 0.61961 0.01115 0.51196 0.47478 1.00000 1.00000 ',\n",
       "  'J.QTxxxx.ATxx.Qx xxxx.Ax.KJxxx.xx AQxxx.Kxxx.x.Jxx KTx.J.Qxx.AKTxxx - 0.60409 0.00372 0.13988 0.06099 1.00000 1.00000 ',\n",
       "  'x.Qxxxxx.AT.Qxxx xxxx.Ax.KJxxx.xx AQJxx.KTxx.xxx.J KTx.J.Qxx.AKTxxx - 0.59654 0.00372 0.27193 0.17887 1.00000 1.00000 ',\n",
       "  'x.Qxxxxx.Ax.Qxxx xxxx.Ax.KJxxx.xx AQJxx.KTxx.Txx.J KTx.J.Qxx.AKTxxx - 0.59003 0.00372 0.36170 0.13547 1.00000 1.00000 ',\n",
       "  'x.Qxxxxx.Ax.Qxxx xxxx.Ax.KJxxx.xx AQJxx.KTxx.Txx.J KTx.J.Qxx.AKTxxx - 0.59003 0.00372 0.37603 0.14338 1.00000 1.00000 ',\n",
       "  'x.QTxxxx.ATxx.Qx xxxx.Ax.KJxxx.xx AQJxx.Kxxx.x.Jxx KTx.J.Qxx.AKTxxx - 0.58859 0.00372 0.11488 0.04688 1.00000 1.00000 ',\n",
       "  'x.QTxxxx.AT.Qxxx xxxx.Ax.KJxxx.xx AQJxx.Kxxx.xxx.J KTx.J.Qxx.AKTxxx - 0.58416 0.00372 0.25910 0.19610 1.00000 1.00000 ',\n",
       "  'x.QTxxxx.AT.Qxxx xxxx.Ax.KJxxx.xx AQJxx.Kxxx.xxx.J KTx.J.Qxx.AKTxxx - 0.58416 0.00372 0.24165 0.17261 1.00000 1.00000 ',\n",
       "  'x.Qxxxxx.ATx.Qxx xxxx.Ax.KJxxx.xx AQJxx.KTxx.xx.Jx KTx.J.Qxx.AKTxxx - 0.57948 0.00743 0.12656 0.14065 1.00000 1.00000 ',\n",
       "  'x.Qxxxxx.ATx.Qxx xxxx.Ax.KJxxx.xx AQJxx.KTxx.xx.Jx KTx.J.Qxx.AKTxxx - 0.57948 0.00372 0.12531 0.15540 1.00000 1.00000 ',\n",
       "  'x.Qxxxxx.ATx.Qxx xxxx.Ax.KJxxx.xx AQJxx.KTxx.xx.Jx KTx.J.Qxx.AKTxxx - 0.57948 0.00372 0.12890 0.14249 1.00000 1.00000 ',\n",
       "  'x.QTxxxx.Ax.Qxxx xxxx.Ax.KJxxx.xx AQJxx.Kxxx.Txx.J KTx.J.Qxx.AKTxxx - 0.57744 0.00743 0.30713 0.15286 1.00000 1.00000 ',\n",
       "  'J.QTxxxx.Ax.Qxxx xxxx.Ax.KJxxx.xx AQxxx.Kxxx.Txx.J KTx.J.Qxx.AKTxxx - 0.57444 0.00372 0.32609 0.18389 1.00000 1.00000 ',\n",
       "  'QJxx.QTxxxx.AT.x xxxx.Ax.KJxxx.xx Ax.Kxxx.xxx.QJxx KTx.J.Qxx.AKTxxx - 0.56926 0.00372 0.24675 0.32058 1.00000 1.00000 ',\n",
       "  'Jxxx.QTxxxx.A.Qx xxxx.Ax.KJxxx.xx AQ.Kxxx.Txxx.Jxx KTx.J.Qxx.AKTxxx - 0.56872 0.00372 0.50491 0.21646 1.00000 1.00000 ',\n",
       "  'x.QTxxxx.ATx.Qxx xxxx.Ax.KJxxx.xx AQJxx.Kxxx.xx.Jx KTx.J.Qxx.AKTxxx - 0.56806 0.00372 0.12216 0.15481 1.00000 1.00000 ']}"
      ]
     },
     "execution_count": 14,
     "metadata": {},
     "output_type": "execute_result"
    }
   ],
   "source": [
    "card_by_card.cards['S4'].to_dict()"
   ]
  },
  {
   "cell_type": "markdown",
   "id": "760b7b2f",
   "metadata": {},
   "source": [
    "the opening lead of `DA` is interesting. the engine prefers the `HK` and it's the only card it considers."
   ]
  },
  {
   "cell_type": "code",
   "execution_count": 15,
   "id": "00c728a0",
   "metadata": {},
   "outputs": [
    {
     "data": {
      "text/plain": [
       "{'card': 'DA',\n",
       " 'who': '',\n",
       " 'quality': '0.7976',\n",
       " 'hcp': [4.2, 2.2, 3.6, 3.0, 2.8, 4.2, 3.2, 2.7, 4.1, 1.0, 2.2, 5.7],\n",
       " 'shape': [11.1, 6.4, 13.4],\n",
       " 'candidates': [{'card': 'DA',\n",
       "   'insta_score': 0.042,\n",
       "   'p_make_contract': 0.1,\n",
       "   'expected_score_imp': 0.74,\n",
       "   'msg': ''},\n",
       "  {'card': 'C8',\n",
       "   'insta_score': 0.365,\n",
       "   'p_make_contract': 0.1,\n",
       "   'expected_score_imp': 0.39,\n",
       "   'msg': ''},\n",
       "  {'card': 'HK',\n",
       "   'insta_score': 0.523,\n",
       "   'p_make_contract': 0.06,\n",
       "   'expected_score_imp': 0.21,\n",
       "   'msg': 'suit adjust=0.5'},\n",
       "  {'card': 'Sx',\n",
       "   'insta_score': 0.039,\n",
       "   'p_make_contract': 0.03,\n",
       "   'expected_score_imp': -0.84,\n",
       "   'msg': ''}],\n",
       " 'samples': ['xx.KQTxxx.ATxx.x KQxx.x.Qxxxx.AQx Axx.Jxxxx.Jx.Jxx JTxx.A.Kx.KTxxxx - 0.73866 | HK:-450.0 C8:-420.0 DA:-420.0 Sx:-450.0',\n",
       "  'xx.KQTxxx.ATxx.x KTxx.Ax.QJx.xxxx xx.Jxxxx.Kxxx.Tx AQJxx..xx.AKQJxx - 0.88019 | HK:-480.0 C8:-480.0 DA:-450.0 Sx:-480.0',\n",
       "  'xx.KQTxxx.ATxx.x Txxx.x.Qxxx.AKxx Axx.AJxxx.xxx.xx KQJx.x.KJ.QJTxxx - 0.90147 | HK:50.0 C8:50.0 DA:50.0 Sx:-420.0',\n",
       "  'xx.KQTxxx.ATxx.x Kxxx.x.KJxx.Qxxx Axx.Axxx.Qxxx.xx QJTx.Jx.x.AKJTxx - 0.73115 | HK:50.0 C8:50.0 DA:50.0 Sx:-420.0',\n",
       "  'xx.KQTxxx.ATxx.x Qxxx.x.KQxx.JTxx Txx.AJxxx.xx.Kxx AKJx.x.Jxx.AQxxx - 0.72468 | HK:-450.0 C8:-480.0 DA:-450.0 Sx:-480.0',\n",
       "  'xx.KQTxxx.ATxx.x AJxx.x.KJxxx.KJx xx.Axxxx.xxx.Txx KQTxx.J.Q.AQxxxx - 0.89871 | HK:-450.0 C8:-480.0 DA:-450.0 Sx:-480.0',\n",
       "  'xx.KQTxxx.ATxx.x KTxx.x.KQJxxx.Qx xx.Axxxx.xxx.xxx AQJxx.J..AKJTxxx - 0.85917 | HK:-480.0 C8:-510.0 DA:-510.0 Sx:-510.0',\n",
       "  'xx.KQTxxx.ATxx.x Qxxx.A.Kx.QJTxxx Kx.Jxxxx.QJxxxx. AJTxx.x.x.AKxxxx - 0.83592 | HK:-480.0 C8:-450.0 DA:-450.0 Sx:-480.0',\n",
       "  'xx.KQTxxx.ATxx.x AQTx.A.KQxxxx.xx Jxx.Jxxxxx.x.QTx Kxxx..Jx.AKJxxxx - 0.76369 | HK:-480.0 C8:-480.0 DA:-450.0 Sx:-480.0',\n",
       "  'xx.KQTxxx.ATxx.x KQxx.xx.Qxx.Jxxx xxx.AJxxx.Kxxx.K AJTx..Jx.AQTxxxx - 0.70807 | HK:-480.0 C8:-480.0 DA:-450.0 Sx:-480.0',\n",
       "  'xx.KQTxxx.ATxx.x KQxx.x.Kxxx.ATxx JTx.AJxxx.Jxx.xx Axxx.x.Qx.KQJxxx - 0.80611 | HK:-450.0 C8:-480.0 DA:-450.0 Sx:-480.0',\n",
       "  'xx.KQTxxx.ATxx.x ATxx.AJx.xx.ATxx xx.xxxx.KQJxxx.J KQJxx..x.KQxxxxx - 0.71966 | HK:-510.0 C8:-510.0 DA:-480.0 Sx:-510.0',\n",
       "  'xx.KQTxxx.ATxx.x QTxxx.Jx.Qxx.ATx xx.Axxxx.KJxxx.Q AKJx..x.KJxxxxxx - 0.71417 | HK:-510.0 C8:-510.0 DA:-480.0 Sx:-510.0',\n",
       "  'xx.KQTxxx.ATxx.x KTxx.Ax.Kxx.Axxx Jxx.Jxxxx.QJxx.x AQxx..xx.KQJTxxx - 0.73785 | HK:-510.0 C8:-510.0 DA:-480.0 Sx:-510.0',\n",
       "  'xx.KQTxxx.ATxx.x Jxxx.Ax.Jxxxx.Kx Tx.Jxxxx.KQ.xxxx AKQxx..xx.AQJTxx - 0.85459 | HK:-480.0 C8:-480.0 DA:-450.0 Sx:-480.0',\n",
       "  'xx.KQTxxx.ATxx.x AQJxx.x.Qxxx.xxx xx.AJxxx.Kxx.Txx KTxx.x.Jx.AKQJxx - 0.81888 | HK:-420.0 C8:-450.0 DA:-420.0 Sx:-450.0',\n",
       "  'xx.KQTxxx.ATxx.x AKQJ.x.QJxx.KTxx Tx.Jxxxx.xxxx.Ax xxxxx.A.K.QJxxxx - 0.71822 | HK:-450.0 C8:-420.0 DA:-420.0 Sx:-450.0',\n",
       "  'xx.KQTxxx.ATxx.x QTxx.A.QJxx.KQxx Jxx.Jxxxx.xx.ATx AKxx.x.Kxx.Jxxxx - 0.70515 | HK:-450.0 C8:-420.0 DA:-420.0 Sx:-450.0',\n",
       "  'xx.KQTxxx.ATxx.x xxxx.x.KJxx.AJxx Ax.AJxxxx.xxx.Tx KQJTx..Qx.KQxxxx - 0.92324 | HK:-450.0 C8:-420.0 DA:-420.0 Sx:-450.0',\n",
       "  'xx.KQTxxx.ATxx.x Qxxx.A.KJxx.Txxx AKT.Jxxxx.xx.xxx Jxxx.x.Qxx.AKQJx - 0.82729 | HK:50.0 C8:100.0 DA:50.0 Sx:50.0']}"
      ]
     },
     "execution_count": 15,
     "metadata": {},
     "output_type": "execute_result"
    }
   ],
   "source": [
    "card_by_card.cards['DA'].to_dict()"
   ]
  }
 ],
 "metadata": {
  "kernelspec": {
   "display_name": "Python 3",
   "language": "python",
   "name": "python3"
  },
  "language_info": {
   "codemirror_mode": {
    "name": "ipython",
    "version": 3
   },
   "file_extension": ".py",
   "mimetype": "text/x-python",
   "name": "python",
   "nbconvert_exporter": "python",
   "pygments_lexer": "ipython3",
   "version": "3.12.3"
  }
 },
 "nbformat": 4,
 "nbformat_minor": 5
}
