{
 "cells": [
  {
   "cell_type": "markdown",
   "id": "21a4c878",
   "metadata": {},
   "source": [
    "# Detailed Analysis (Bid by Bid, Card by Card)\n",
    "\n",
    "This is a tutorial of how to do a detailed analysis of a played board.\n",
    "\n",
    "The engine looks at the bidding and play as it originally happened, and does an analysis for every bid and every card played.\n",
    "\n",
    "The analysis is not just a double-dummy analysis for the exact current layout (like if you would press the \"GIB\" button on BBO). Instead, it's an analysis over many different possible layouts (samples)."
   ]
  },
  {
   "cell_type": "code",
   "execution_count": 1,
   "id": "16f73f71",
   "metadata": {},
   "outputs": [],
   "source": [
    "import os\n",
    "os.chdir('..')\n",
    "\n",
    "from nn.models import Models\n",
    "from analysis import CardByCard\n",
    "from util import parse_lin, display_lin\n",
    "from sample import Sample\n",
    "import conf"
   ]
  },
  {
   "cell_type": "code",
   "execution_count": 2,
   "id": "ca7fa897",
   "metadata": {},
   "outputs": [
    {
     "name": "stdout",
     "output_type": "stream",
     "text": [
      "WARNING:tensorflow:From d:\\GitHub\\ben\\src\\nn\\bidderv2.py:3: The name tf.disable_v2_behavior is deprecated. Please use tf.compat.v1.disable_v2_behavior instead.\n",
      "\n",
      "WARNING:tensorflow:From c:\\ProgramData\\miniconda3\\Lib\\site-packages\\tensorflow\\python\\compat\\v2_compat.py:98: disable_resource_variables (from tensorflow.python.ops.resource_variables_toggle) is deprecated and will be removed in a future version.\n",
      "Instructions for updating:\n",
      "non-resource variables are not supported in the long term\n",
      "WARNING:tensorflow:From d:\\GitHub\\ben\\src\\nn\\bidderv2.py:12: The name tf.Session is deprecated. Please use tf.compat.v1.Session instead.\n",
      "\n",
      "WARNING:tensorflow:From d:\\GitHub\\ben\\src\\nn\\bidderv2.py:21: The name tf.train.import_meta_graph is deprecated. Please use tf.compat.v1.train.import_meta_graph instead.\n",
      "\n",
      "INFO:tensorflow:Restoring parameters from ..\\models/GIB/2024-07-06_bidding_V2-3114000\n",
      "INFO:tensorflow:Restoring parameters from ..\\models/GIB/2024-07-06_bidding_V2-3114000\n",
      "INFO:tensorflow:Restoring parameters from ..\\models/contract/contract-193200\n",
      "INFO:tensorflow:Restoring parameters from ..\\models/GIB/binfo_V2-1420000\n",
      "INFO:tensorflow:Restoring parameters from ..\\UCBC 2024/Models/lead_suit-999000\n",
      "INFO:tensorflow:Restoring parameters from ..\\UCBC 2024/Models/lead_nt-475000\n",
      "INFO:tensorflow:Restoring parameters from ..\\models/lr3_model/lr3-1000000\n",
      "INFO:tensorflow:Restoring parameters from ..\\models/single_dummy/single_dummy-32768000\n",
      "INFO:tensorflow:Restoring parameters from ..\\models/playing/lefty_nt-475000\n",
      "INFO:tensorflow:Restoring parameters from ..\\models/playing/dummy_nt-475000\n",
      "INFO:tensorflow:Restoring parameters from ..\\models/playing/righty_nt-475000\n",
      "INFO:tensorflow:Restoring parameters from ..\\models/playing/decl_nt-475000\n",
      "INFO:tensorflow:Restoring parameters from ..\\models/playing/lefty_suit-999000\n",
      "INFO:tensorflow:Restoring parameters from ..\\models/playing/dummy_suit-999000\n",
      "INFO:tensorflow:Restoring parameters from ..\\models/playing/righty_suit-999000\n",
      "INFO:tensorflow:Restoring parameters from ..\\models/playing/decl_suit-999000\n"
     ]
    }
   ],
   "source": [
    "models = Models.from_conf(conf.load('./config/default_tf1x.conf'),'..')   # loading neural networks\n",
    "sampler = Sample.from_conf(conf.load('./config/default_tf1x.conf'))  # Load sampling strategies\n",
    "# For some strange reason PIMC is crashing the second time it is called from Jupyter\n",
    "models.pimc_use_declaring = False\n",
    "models.pimc_use_defending = False"
   ]
  },
  {
   "cell_type": "code",
   "execution_count": 3,
   "id": "2940c18a",
   "metadata": {},
   "outputs": [],
   "source": [
    "# we specify all the information about a board\n",
    "# (it's quite tedious to enter every single thing by hand here,\n",
    "# later we'll have an example of how you can give it a board played on BBO)\n",
    "\n",
    "dealer = 'S'\n",
    "vuln = [True, True]  # fist element is NS, second element is EW\n",
    "\n",
    "hands = [\n",
    "    'AJ87632.J96.753.',\n",
    "    'K9.Q8542.T6.AJ74',\n",
    "    'QT4.A.KJ94.KQ986',\n",
    "    '5.KT73.AQ82.T532'\n",
    "]\n",
    "\n",
    "auction = ['1N', 'PASS', '4H', 'PASS', '4S', 'PASS', 'PASS', 'PASS']\n",
    "\n",
    "play = ['C2', 'D3', 'CA', 'C6', 'D6', 'DJ', 'DQ', 'D5', 'DA', 'D7', 'DT', 'D4', 'D8', 'H6', 'H2', 'D9', 'SQ', 'S5', 'S2', 'SK', 'H4', 'HA', 'H7', 'H9', 'S4', 'C3', 'SA', 'S9', 'S3', 'C4', 'ST', 'H3', 'CK', 'C5', 'HJ', 'C7', 'C8', 'CT', 'S6', 'CJ', 'S7', 'H8', 'C9', 'D2', 'S8', 'H5', 'CQ', 'HT', 'SJ', 'HQ', 'DK', 'HK']"
   ]
  },
  {
   "cell_type": "code",
   "execution_count": 4,
   "id": "79dae473",
   "metadata": {},
   "outputs": [
    {
     "name": "stderr",
     "output_type": "stream",
     "text": [
      "Loaded lib dds.dll\n",
      "DDSolver being loaded - dds mode 1\n"
     ]
    }
   ],
   "source": [
    "card_by_card = CardByCard(dealer, vuln, hands, auction, play, models, sampler, False)"
   ]
  },
  {
   "cell_type": "code",
   "execution_count": 5,
   "id": "7ab0cce5",
   "metadata": {},
   "outputs": [
    {
     "name": "stdout",
     "output_type": "stream",
     "text": [
      "analyzing the bidding\n"
     ]
    },
    {
     "name": "stderr",
     "output_type": "stream",
     "text": [
      "DDSolver being loaded - dds mode 1\n"
     ]
    },
    {
     "name": "stdout",
     "output_type": "stream",
     "text": [
      "1N Suggested bid from NN: CandidateBid(bid=1C  , insta_score=0.9999, expected_score=---, expected_mp=---, expected_imp=---, expected_tricks=---, adjust=---, alert=  )\n",
      "1N is not in the bids from the neural network\n",
      "PASS OK NN-value: 1.000\n",
      "4H OK NN-value: 0.993\n",
      "PASS OK NN-value: 0.981\n",
      "4S OK NN-value: 1.000\n",
      "PASS OK NN-value: 1.000\n",
      "PASS OK NN-value: 0.998\n",
      "PASS OK NN-value: 1.000\n",
      "analyzing opening lead\n",
      "C2\n",
      "C2 OK\n",
      "analyzing play\n"
     ]
    },
    {
     "name": "stderr",
     "output_type": "stream",
     "text": [
      "DDSolver being loaded - dds mode 1\n"
     ]
    },
    {
     "name": "stdout",
     "output_type": "stream",
     "text": [
      "D3 ? losing: 0.53\n",
      "CA ?? losing: 0.65\n",
      "C6 OK\n",
      "D6 OK\n",
      "DJ OK\n",
      "DQ Forced\n",
      "D5 OK\n",
      "DA OK\n",
      "D7 OK\n",
      "DT OK\n",
      "D4 OK\n",
      "D8 OK\n",
      "H6 OK\n",
      "H2 OK\n",
      "D9 OK\n",
      "SQ OK\n",
      "S5 OK\n",
      "S2 OK\n",
      "SK OK\n",
      "H4 OK\n",
      "HA OK\n",
      "H7 OK\n",
      "H9 OK\n",
      "S4 OK\n",
      "C3 Forced\n",
      "SA ?? losing: 1.14\n",
      "S9 Forced\n",
      "S3 OK\n",
      "C4 OK\n",
      "ST OK\n",
      "H3 OK\n",
      "CK OK\n",
      "C5 OK\n",
      "HJ Forced\n",
      "C7 OK\n",
      "C8 OK\n",
      "CT Forced\n",
      "S6 OK\n",
      "CJ OK\n",
      "S7 OK\n",
      "H8 OK\n",
      "C9 Forced\n",
      "D2 OK\n",
      "S8 OK\n",
      "H5 Forced\n",
      "CQ OK\n",
      "HT OK\n"
     ]
    }
   ],
   "source": [
    "# calling this starts the analysis\n",
    "# it will go bid-by-bid and card-by-card, and will take a few moments\n",
    "# possible mistakes will be annotated with ? or with ?? (if it's a bigger mistake)\n",
    "# (possible mistake means that the engine does not agree with the bid/play. the engine could be wrong too :))\n",
    "\n",
    "await card_by_card.analyze()"
   ]
  },
  {
   "cell_type": "code",
   "execution_count": 6,
   "id": "73be8e31",
   "metadata": {},
   "outputs": [
    {
     "data": {
      "text/plain": [
       "{'bid': '1N',\n",
       " 'who': 'Analysis',\n",
       " 'quality': '1.0',\n",
       " 'candidates': [{'call': '1C', 'insta_score': 1.0, 'alert': 'False'}],\n",
       " 'samples': ['K8x.Q9x.QTx.JTxx J9x.Txxxx.xx.Axx QTx.A.KJ9x.KQ98x Axxx.KJ8x.A8xx.x 1.00000',\n",
       "  'Ax.QJT9xx.Tx.Jxx K9xxx.8x.Qxxx.Tx QTx.A.KJ9x.KQ98x J8x.Kxxx.A8x.Axx 1.00000',\n",
       "  'A8x.KQJTx.A8.ATx 9x.9xxx.Txxx.xxx QTx.A.KJ9x.KQ98x KJxxx.8xx.Qxx.Jx 1.00000',\n",
       "  'K9xx.xxx.QTx.ATx xxx.K9x.Axx.Jxxx QTx.A.KJ9x.KQ98x AJ8.QJT8xx.8xx.x 1.00000',\n",
       "  'K8xx.T9x.Qxxx.Tx Axx.KJxxxx.xx.Jx QTx.A.KJ9x.KQ98x J9x.Q8x.AT8.Axxx 1.00000',\n",
       "  'xxxx.Qxx.AQxx.Jx KJ98x.T9xx.8x.xx QTx.A.KJ9x.KQ98x A.KJ8xx.Txx.ATxx 1.00000',\n",
       "  'K8xx.QJxx.Qx.xxx AJxxx.Txx.T8xx.A QTx.A.KJ9x.KQ98x 9.K98xx.Axx.JTxx 1.00000',\n",
       "  '8xx.QTxx.Q8xxx.x AKx.K8xx.xx.Axxx QTx.A.KJ9x.KQ98x J9xx.J9xx.AT.JTx 1.00000',\n",
       "  'AKxxx.KT.xx.Txxx J9x.98xx.AQ8x.Ax QTx.A.KJ9x.KQ98x 8x.QJxxxx.Txx.Jx 1.00000',\n",
       "  'A8xx.J9x.Qxx.Jxx J9xx.Kxx.8xx.ATx QTx.A.KJ9x.KQ98x Kx.QT8xxx.ATx.xx 1.00000',\n",
       "  'x.KJ8xxx.Qxx.Jxx KJ98x.Q9.ATxx.Tx QTx.A.KJ9x.KQ98x Axxx.Txxx.8x.Axx 1.00000',\n",
       "  'K9xx.QJ98.Qx.xxx J8xx.Txxx.AT8x.x QTx.A.KJ9x.KQ98x Ax.Kxxx.xxx.AJTx 1.00000',\n",
       "  '8x.98xx.AQx.JTxx Kxx.Jxxx.8xxx.Ax QTx.A.KJ9x.KQ98x AJ9xx.KQTx.Tx.xx 1.00000',\n",
       "  'A8xx.9xxxx.xx.xx K9x.KQJ8.Q8xx.JT QTx.A.KJ9x.KQ98x Jxx.Txx.ATx.Axxx 1.00000',\n",
       "  'A8xxx.Jxx.Qx.ATx 9x.K9xx.T8xx.Jxx QTx.A.KJ9x.KQ98x KJx.QT8xx.Axx.xx 1.00000',\n",
       "  'xxx.Q9x.A8x.ATxx K8x.JTxx.QTxx.xx QTx.A.KJ9x.KQ98x AJ9x.K8xxx.xx.Jx 1.00000',\n",
       "  'J.QJxx.Qxxx.ATxx K8xxx.T9xxx.x.xx QTx.A.KJ9x.KQ98x A9xx.K8x.AT8x.Jx 1.00000',\n",
       "  '98x.Txx.AQx.AJxx Axxxx.K9xx.T8x.T QTx.A.KJ9x.KQ98x KJ.QJ8xx.xxx.xxx 1.00000',\n",
       "  'Axx.J8xx.ATxx.AJ xxx.KTxxx.8x.Txx QTx.A.KJ9x.KQ98x KJ98.Q9x.Qxx.xxx 1.00000',\n",
       "  'J8x.KJT8xx.Ax.xx AKx.9xx.QT8x.xxx QTx.A.KJ9x.KQ98x 9xxx.Qxx.xxx.AJT 1.00000'],\n",
       " 'hcp': [3.1, 3.9, 3.0, 2.8, 3.1, 4.0, 3.0, 2.8, 3.1, 3.9, 3.0, 2.8],\n",
       " 'shape': [8.2, 8.6, 8.0]}"
      ]
     },
     "execution_count": 6,
     "metadata": {},
     "output_type": "execute_result"
    }
   ],
   "source": [
    "# the engine does not agree with the 1N opening.\n",
    "# indeed, it's a little offbeat with a singleton\n",
    "# let's see what the engine is thinking (what would it bid instead)\n",
    "\n",
    "card_by_card.bid_responses[0].to_dict()  # the 0 index is the first bid in the auction"
   ]
  },
  {
   "cell_type": "markdown",
   "id": "186f6cff",
   "metadata": {},
   "source": [
    "the engine very confidently opens `1C` and doesn't even consider `1N`"
   ]
  },
  {
   "cell_type": "code",
   "execution_count": 7,
   "id": "573b5939",
   "metadata": {},
   "outputs": [
    {
     "data": {
      "text/plain": [
       "{'card': 'C2',\n",
       " 'who': '',\n",
       " 'quality': '0.908',\n",
       " 'hcp': [6.1, 2.4, 2.1, 2.3, 2.6, 3.2, 3.6, 3.5, 2.9, 3.4, 3.3, 3.3],\n",
       " 'shape': [8.3, 7.1, 15.7],\n",
       " 'candidates': [{'card': 'Sx',\n",
       "   'insta_score': 0.474,\n",
       "   'expected_tricks_dd': 10.22,\n",
       "   'p_make_contract': 0.28,\n",
       "   'expected_score_dd': 431},\n",
       "  {'card': 'Cx',\n",
       "   'insta_score': 0.307,\n",
       "   'expected_tricks_dd': 10.21,\n",
       "   'p_make_contract': 0.28,\n",
       "   'expected_score_dd': 428},\n",
       "  {'card': 'Hx',\n",
       "   'insta_score': 0.148,\n",
       "   'expected_tricks_dd': 10.35,\n",
       "   'p_make_contract': 0.28,\n",
       "   'expected_score_dd': 428},\n",
       "  {'card': 'DA',\n",
       "   'insta_score': 0.054,\n",
       "   'expected_tricks_dd': 10.41,\n",
       "   'p_make_contract': 0.2,\n",
       "   'expected_score_dd': 494}],\n",
       " 'samples': ['x.KTxx.AQ8x.Txxx AT98xx.xx.xxx.Ax KJx.J98xx.9x.Q9x Qxx.AQ.KJTx.KJ8x 0.94189',\n",
       "  'x.KTxx.AQ8x.Txxx JT98xxxx.xx.9x.Q K.A98.JTxx.A9xxx AQx.QJxx.Kxx.KJ8 0.99854',\n",
       "  'x.KTxx.AQ8x.Txxx J98xxx.A8.KJ.Q8x KTxx.9xxx.xxx.Jx AQ.QJx.T9xx.AK9x 0.78662',\n",
       "  'x.KTxx.AQ8x.Txxx AQ9xxxx.x.xx.KQ9 8x.J9x.JT9x.J8xx KJT.AQ8xx.Kxx.Ax 0.88623',\n",
       "  'x.KTxx.AQ8x.Txxx AQT98xx.9x.K.Kxx Kxx.8x.T9xxx.98x Jx.AQJxx.Jxx.AQJ 0.87109',\n",
       "  'x.KTxx.AQ8x.Txxx AJ98xxx.9xx.xx.9 Qx.Q8x.K9xx.QJxx KTx.AJx.JTx.AK8x 0.99902',\n",
       "  'x.KTxx.AQ8x.Txxx AQT9xx.A9x.9x.xx xx.Qxxx.Txxx.A98 KJ8x.J8.KJx.KQJx 0.84131',\n",
       "  'x.KTxx.AQ8x.Txxx KT98xxx.9x.Jx.8x AJx.Axxx.T9xx.QJ Qx.QJ8.Kxx.AK9xx 0.99365',\n",
       "  'x.KTxx.AQ8x.Txxx KQT98xxx.x.Kxx.x Jx.8xxx.9x.KQ8xx Ax.AQJ9.JTxx.AJ9 0.89893',\n",
       "  'x.KTxx.AQ8x.Txxx QJ8xxxx.AQ.Tx.J8 KT9.J8xx.J9xx.xx Ax.9xx.Kxx.AKQ9x 0.85449',\n",
       "  'x.KTxx.AQ8x.Txxx QJ9xxx.QJ98..AKx 8x.xxx.JT9xx.98x AKTx.Ax.Kxxx.QJx 0.78955',\n",
       "  'x.KTxx.AQ8x.Txxx AQJTxxx.98x.x.Jx xx.Qxx.KJxxx.Q9x K98.AJx.T9x.AK8x 0.99072',\n",
       "  'x.KTxx.AQ8x.Txxx Q98xxxx.Jx.Kxx.A JTx.98x.JTx.KJ9x AK.AQxx.9xx.Q8xx 0.83789',\n",
       "  'x.KTxx.AQ8x.Txxx QJ9xxxx.A9x.x.J8 K8.J8.T9xxx.K9xx ATx.Qxxx.KJx.AQx 0.98779',\n",
       "  'x.KTxx.AQ8x.Txxx QJ98xxxx.9x.x.J9 A.Jxx.JT9xx.KQxx KTx.AQ8x.Kxx.A8x 0.99854',\n",
       "  'x.KTxx.AQ8x.Txxx KQJT98x.9xx.Kx.8 xxx.Jx.J9xx.QJxx Ax.AQ8x.Txx.AK9x 0.97119',\n",
       "  'x.KTxx.AQ8x.Txxx AT8xxx.QJx.xx.8x KJx.xxx.J9x.QJ9x Q9x.A98.KTxx.AKx 0.87891',\n",
       "  'x.KTxx.AQ8x.Txxx A98xxx.J9x.KTx.x Txx.xxx.Jxx.KQJ8 KQJ.AQ8.9xx.A9xx 0.92432',\n",
       "  'x.KTxx.AQ8x.Txxx QJT8xxx.AQ.Jx.Q8 xx.98x.T9xx.K9xx AK9.Jxxx.Kxx.AJx 0.88428',\n",
       "  'x.KTxx.AQ8x.Txxx AQT98xx.9x.9x.J9 Kxx.Jxxx.Txx.KQ8 Jx.AQ8.KJxx.Axxx 0.99658']}"
      ]
     },
     "execution_count": 7,
     "metadata": {},
     "output_type": "execute_result"
    }
   ],
   "source": [
    "# what about the opening lead? let's see...\n",
    "\n",
    "card_by_card.cards['C2'].to_dict()"
   ]
  },
  {
   "cell_type": "markdown",
   "id": "0a2a2bde",
   "metadata": {},
   "source": [
    "the engine agrees with leading a low club, but it's very close. the alternative is a low heart"
   ]
  },
  {
   "cell_type": "code",
   "execution_count": 8,
   "id": "7dcf0964",
   "metadata": {},
   "outputs": [
    {
     "data": {
      "text/plain": [
       "{'card': 'S2',\n",
       " 'who': 'NN-Make',\n",
       " 'quality': '0.8506',\n",
       " 'hcp': [8.8, 9.3],\n",
       " 'shape': [2.0, 3.3, 3.2, 4.5, 2.1, 3.2, 3.2, 4.4],\n",
       " 'candidates': [{'card': 'S6',\n",
       "   'insta_score': 0.613,\n",
       "   'expected_tricks_dd': 11.11,\n",
       "   'p_make_contract': 0.96,\n",
       "   'expected_score_dd': 625,\n",
       "   'msg': ''},\n",
       "  {'card': 'S2',\n",
       "   'insta_score': 0.613,\n",
       "   'expected_tricks_dd': 11.11,\n",
       "   'p_make_contract': 0.96,\n",
       "   'expected_score_dd': 625,\n",
       "   'msg': ''},\n",
       "  {'card': 'S3',\n",
       "   'insta_score': 0.613,\n",
       "   'expected_tricks_dd': 11.11,\n",
       "   'p_make_contract': 0.96,\n",
       "   'expected_score_dd': 625,\n",
       "   'msg': ''},\n",
       "  {'card': 'S7',\n",
       "   'insta_score': 0.613,\n",
       "   'expected_tricks_dd': 11.11,\n",
       "   'p_make_contract': 0.96,\n",
       "   'expected_score_dd': 625,\n",
       "   'msg': ''},\n",
       "  {'card': 'S8',\n",
       "   'insta_score': 0.034,\n",
       "   'expected_tricks_dd': 11.11,\n",
       "   'p_make_contract': 0.96,\n",
       "   'expected_score_dd': 625,\n",
       "   'msg': ''},\n",
       "  {'card': 'SJ',\n",
       "   'insta_score': 0.011,\n",
       "   'expected_tricks_dd': 11.02,\n",
       "   'p_make_contract': 0.95,\n",
       "   'expected_score_dd': 618,\n",
       "   'msg': ''},\n",
       "  {'card': 'D3',\n",
       "   'insta_score': 0.182,\n",
       "   'expected_tricks_dd': 10.58,\n",
       "   'p_make_contract': 0.92,\n",
       "   'expected_score_dd': 578,\n",
       "   'msg': ''},\n",
       "  {'card': 'D5',\n",
       "   'insta_score': 0.182,\n",
       "   'expected_tricks_dd': 10.58,\n",
       "   'p_make_contract': 0.92,\n",
       "   'expected_score_dd': 578,\n",
       "   'msg': ''},\n",
       "  {'card': 'D7',\n",
       "   'insta_score': 0.182,\n",
       "   'expected_tricks_dd': 10.58,\n",
       "   'p_make_contract': 0.92,\n",
       "   'expected_score_dd': 578,\n",
       "   'msg': ''},\n",
       "  {'card': 'SA',\n",
       "   'insta_score': 0.015,\n",
       "   'expected_tricks_dd': 10.31,\n",
       "   'p_make_contract': 0.92,\n",
       "   'expected_score_dd': 573,\n",
       "   'msg': ''},\n",
       "  {'card': 'H6',\n",
       "   'insta_score': 0.138,\n",
       "   'expected_tricks_dd': 10.5,\n",
       "   'p_make_contract': 0.88,\n",
       "   'expected_score_dd': 546,\n",
       "   'msg': ''},\n",
       "  {'card': 'H9',\n",
       "   'insta_score': 0.008,\n",
       "   'expected_tricks_dd': 10.5,\n",
       "   'p_make_contract': 0.88,\n",
       "   'expected_score_dd': 546,\n",
       "   'msg': ''},\n",
       "  {'card': 'HJ',\n",
       "   'insta_score': 0.0,\n",
       "   'expected_tricks_dd': 10.5,\n",
       "   'p_make_contract': 0.88,\n",
       "   'expected_score_dd': 546,\n",
       "   'msg': ''}],\n",
       " 'samples': ['K.KQ8xx.T.Txxxxx AJ8xxxx.J9x.xxx. 9x.Txxx.AQ8xx.AJ QTx.A.KJ9x.KQ98x 0.99594 0.00572 0.13206 ',\n",
       "  '9.KQxxx.ATx.xxxx AJ8xxxx.J9x.xxx. Kx.T8xx.Q8x.AJTx QTx.A.KJ9x.KQ98x 0.99972 0.00575 0.26201 ',\n",
       "  '9x.KQTxx.ATx.Txx AJ8xxxx.J9x.xxx. K.8xxx.Q8x.AJxxx QTx.A.KJ9x.KQ98x 0.99989 0.00575 0.19274 ',\n",
       "  'Kx.T8xxx.AT.Jxxx AJ8xxxx.J9x.xxx. 9.KQxx.Q8xx.ATxx QTx.A.KJ9x.KQ98x 0.80982 0.00465 0.23486 ',\n",
       "  '9.KTxxx.AQTx.Txx AJ8xxxx.J9x.xxx. Kx.Q8xx.8x.AJxxx QTx.A.KJ9x.KQ98x 0.99539 0.00572 0.33996 ',\n",
       "  'Kx.Qxxx.Q8xx.Jxx AJ8xxxx.J9x.xxx. 9.KT8xx.AT.ATxxx QTx.A.KJ9x.KQ98x 0.15735 0.00090 0.28469 ',\n",
       "  'K.Qxxx.AQ8x.xxxx AJ8xxxx.J9x.xxx. 9x.KT8xx.Tx.AJTx QTx.A.KJ9x.KQ98x 0.46269 0.00266 0.36878 ',\n",
       "  '9.KT8xxx.AT8.xxx AJ8xxxx.J9x.xxx. Kx.Qxx.Qxx.AJTxx QTx.A.KJ9x.KQ98x 0.99913 0.00574 0.40465 ',\n",
       "  'K9.K8xx.Tx.Txxxx AJ8xxxx.J9x.xxx. x.QTxxx.AQ8x.AJx QTx.A.KJ9x.KQ98x 0.76841 0.00442 0.22159 ',\n",
       "  'Kx.Q8xx.T8xx.Axx AJ8xxxx.J9x.xxx. 9.KTxxx.AQ.JTxxx QTx.A.KJ9x.KQ98x 0.26853 0.00154 0.04402 ',\n",
       "  '9.Q8xx.T8xx.Axxx AJ8xxxx.J9x.xxx. Kx.KTxxx.AQ.JTxx QTx.A.KJ9x.KQ98x 0.16523 0.00095 0.04586 ',\n",
       "  'x.Qxxxx.QT8x.Axx AJ8xxxx.J9x.xxx. K9.KT8x.Ax.JTxxx QTx.A.KJ9x.KQ98x 0.99170 0.00570 0.03699 ',\n",
       "  '9x.K8xxx.8x.xxxx AJ8xxxx.J9x.xxx. K.QTxx.AQTx.AJTx QTx.A.KJ9x.KQ98x 0.83891 0.00482 0.22028 ',\n",
       "  '9x.K8xx.Axx.Axxx AJ8xxxx.J9x.xxx. K.QTxxx.QT8.JTxx QTx.A.KJ9x.KQ98x 0.98295 0.00565 0.03222 ',\n",
       "  '.T8xxxx.T8xx.Axx AJ8xxxx.J9x.xxx. K9x.KQx.AQ.JTxxx QTx.A.KJ9x.KQ98x 0.97385 0.00560 0.03581 ',\n",
       "  'K9x.KTxx.8.Jxxxx AJ8xxxx.J9x.xxx. .Q8xxx.AQTxx.ATx QTx.A.KJ9x.KQ98x 0.77642 0.00446 0.08042 ',\n",
       "  '9x.QT8xx.Tx.ATxx AJ8xxxx.J9x.xxx. K.Kxxx.AQ8x.Jxxx QTx.A.KJ9x.KQ98x 0.99123 0.00570 0.04189 ',\n",
       "  'K9x.K8xxx.8x.Jxx AJ8xxxx.J9x.xxx. .QTxx.AQTx.ATxxx QTx.A.KJ9x.KQ98x 0.99627 0.00573 0.13442 ',\n",
       "  'Kx.KQxx.Q8.xxxxx AJ8xxxx.J9x.xxx. 9.T8xxx.ATxx.AJT QTx.A.KJ9x.KQ98x 0.99553 0.00572 0.27309 ',\n",
       "  'K.xxxx.AQx.Jxxxx AJ8xxxx.J9x.xxx. 9x.KQT8x.T8x.ATx QTx.A.KJ9x.KQ98x 0.10944 0.00063 0.31207 ']}"
      ]
     },
     "execution_count": 8,
     "metadata": {},
     "output_type": "execute_result"
    }
   ],
   "source": [
    "# the engine considers dummy's discard of D3 on the first trick a big mistake.\n",
    "# perhaps we should ruff instead, let's see what the engine suggests\n",
    "\n",
    "card_by_card.cards['D3'].to_dict()"
   ]
  },
  {
   "cell_type": "markdown",
   "id": "d6dcab82",
   "metadata": {},
   "source": [
    "indeed, the best play is to ruff low.\n",
    "\n",
    "looking at the samples, we see that East has the `CA` in every sample (this is by inference because underleading an A is very unlikely)"
   ]
  },
  {
   "cell_type": "markdown",
   "id": "994e8878",
   "metadata": {},
   "source": [
    "## Analyzing a board played on BBO"
   ]
  },
  {
   "cell_type": "code",
   "execution_count": 9,
   "id": "cdd0edee",
   "metadata": {},
   "outputs": [],
   "source": [
    "# copy-paste from the hand records (in lin format)\n",
    "\n",
    "lin = 'pn|You,~~M7228oka,~~M72302cm,~~M72316sq|st||md|1S4TKHJD68QC679TKA,S35H479TQKD24TAC8,S2789H3AD379JKC35,|rh||ah|Board 3|sv|e|mb|1C|an|Minor suit opening -- 3+ !C; 11-21 HCP; 12-22 total points|mb|2H|an|Aggressive weak jump overcall -- 6+ !H; 4-10 HCP |mb|d|an|Negative double -- 4+ !S; 7+ HCP; 8+ total points |mb|4H|an|The Law: 10 trump -> game support -- 4+ total points |mb|4S|an|3+ !C; 4+ !S; 16-21 HCP; 17-22 total points|mb|p|mb|p|mb|p|pg||pc|DA|pc|D3|pc|D5|pc|D6|pg||pc|C8|pc|C3|pc|CJ|pc|CA|pg||pc|S4|pc|S5|pc|S8|pc|SJ|pg||pc|H5|pc|HJ|pc|HQ|pc|HA|pg||pc|S2|pc|SA|pc|ST|pc|S3|pg||pc|H2|pc|SK|pc|H4|pc|H3|pg||pc|D8|pc|D2|pc|DJ|pc|S6|pg||pc|SQ|pc|C6|pc|H7|pc|S7|pg||pc|H8|pc|C7|pc|HK|pc|S9|pg||pc|C5|pc|C2|pc|CT|pc|HT|pg||pc|CK|pc|H9|pc|D7|pc|C4|pg||pc|DQ|pc|D4|pc|DK|pc|H6|pg||pc|D9|pc|CQ|pc|C9|pc|DT|pg||'"
   ]
  },
  {
   "cell_type": "code",
   "execution_count": 10,
   "id": "86ccd5f5",
   "metadata": {},
   "outputs": [
    {
     "data": {
      "text/html": [
       "<iframe width=\"800\" height=\"600\" src=\"http://bridgebase.com/tools/handviewer.html?lin=pn|You,~~M7228oka,~~M72302cm,~~M72316sq|st||md|1S4TKHJD68QC679TKA,S35H479TQKD24TAC8,S2789H3AD379JKC35,|rh||ah|Board 3|sv|e|mb|1C|an|Minor suit opening -- 3+ !C; 11-21 HCP; 12-22 total points|mb|2H|an|Aggressive weak jump overcall -- 6+ !H; 4-10 HCP |mb|d|an|Negative double -- 4+ !S; 7+ HCP; 8+ total points |mb|4H|an|The Law: 10 trump -> game support -- 4+ total points |mb|4S|an|3+ !C; 4+ !S; 16-21 HCP; 17-22 total points|mb|p|mb|p|mb|p|pg||pc|DA|pc|D3|pc|D5|pc|D6|pg||pc|C8|pc|C3|pc|CJ|pc|CA|pg||pc|S4|pc|S5|pc|S8|pc|SJ|pg||pc|H5|pc|HJ|pc|HQ|pc|HA|pg||pc|S2|pc|SA|pc|ST|pc|S3|pg||pc|H2|pc|SK|pc|H4|pc|H3|pg||pc|D8|pc|D2|pc|DJ|pc|S6|pg||pc|SQ|pc|C6|pc|H7|pc|S7|pg||pc|H8|pc|C7|pc|HK|pc|S9|pg||pc|C5|pc|C2|pc|CT|pc|HT|pg||pc|CK|pc|H9|pc|D7|pc|C4|pg||pc|DQ|pc|D4|pc|DK|pc|H6|pg||pc|D9|pc|CQ|pc|C9|pc|DT|pg||\" />"
      ],
      "text/plain": [
       "<IPython.core.display.HTML object>"
      ]
     },
     "execution_count": 10,
     "metadata": {},
     "output_type": "execute_result"
    }
   ],
   "source": [
    "display_lin(lin)"
   ]
  },
  {
   "cell_type": "code",
   "execution_count": 11,
   "id": "8fa74a29",
   "metadata": {},
   "outputs": [
    {
     "name": "stdout",
     "output_type": "stream",
     "text": [
      "Board(dealer='S', vuln=[False, True], hands=['9872.A3.KJ973.53', 'JQ6A.5826.5.2JQ4', 'KT4.J.Q86.AKT976', '53.KQT974.AT42.8'], auction=['1C', '2H', 'X', '4H', '4S', 'PASS', 'PASS', 'PASS'], play=['DA', 'D3', 'D5', 'D6', 'C8', 'C3', 'CJ', 'CA', 'S4', 'S5', 'S8', 'SJ', 'H5', 'HJ', 'HQ', 'HA', 'S2', 'SA', 'ST', 'S3', 'H2', 'SK', 'H4', 'H3', 'D8', 'D2', 'DJ', 'S6', 'SQ', 'C6', 'H7', 'S7', 'H8', 'C7', 'HK', 'S9', 'C5', 'C2', 'CT', 'HT', 'CK', 'H9', 'D7', 'C4', 'DQ', 'D4', 'DK', 'H6', 'D9', 'CQ', 'C9', 'DT'])\n"
     ]
    }
   ],
   "source": [
    "board = parse_lin(lin)\n",
    "print(board)"
   ]
  },
  {
   "cell_type": "code",
   "execution_count": 12,
   "id": "fb875929",
   "metadata": {},
   "outputs": [
    {
     "name": "stderr",
     "output_type": "stream",
     "text": [
      "DDSolver being loaded - dds mode 1\n"
     ]
    }
   ],
   "source": [
    "card_by_card = CardByCard(*board, models, sampler, False)\n"
   ]
  },
  {
   "cell_type": "code",
   "execution_count": 13,
   "id": "49c15172",
   "metadata": {},
   "outputs": [
    {
     "name": "stdout",
     "output_type": "stream",
     "text": [
      "analyzing the bidding\n"
     ]
    },
    {
     "name": "stderr",
     "output_type": "stream",
     "text": [
      "DDSolver being loaded - dds mode 1\n"
     ]
    },
    {
     "name": "stdout",
     "output_type": "stream",
     "text": [
      "1C OK NN-value: 1.000\n",
      "2H OK NN-value: 0.998\n",
      "X Suggested bid from NN: CandidateBid(bid=PASS, insta_score=0.9954, expected_score=---, expected_mp=---, expected_imp=---, expected_tricks=---, adjust=---, alert=  )\n",
      "X is not in the bids from the neural network\n",
      "4H Suggested bid from NN: CandidateBid(bid=2S  , insta_score=0.3332, expected_score=   27, expected_mp=---, expected_imp=---, expected_tricks= 8.84, adjust=16.66, alert=  )\n",
      "4H is not in the bids from the neural network\n",
      "4S Suggested bid from NN: CandidateBid(bid=PASS, insta_score=0.9568, expected_score=---, expected_mp=---, expected_imp=---, expected_tricks=---, adjust=---, alert=  )\n",
      "4S is not in the bids from the neural network\n",
      "PASS OK NN-value: 0.998\n",
      "PASS OK NN-value: 0.999\n",
      "PASS OK NN-value: 0.757\n",
      "analyzing opening lead\n",
      "DA\n",
      "DA OK\n",
      "analyzing play\n"
     ]
    },
    {
     "name": "stderr",
     "output_type": "stream",
     "text": [
      "DDSolver being loaded - dds mode 1\n"
     ]
    },
    {
     "name": "stdout",
     "output_type": "stream",
     "text": [
      "D3 OK\n",
      "D5 Forced\n",
      "D6 OK\n",
      "C8 OK\n",
      "C3 OK\n",
      "CJ OK\n",
      "CA OK\n",
      "S4 ? losing: 0.55\n",
      "S5 OK\n",
      "S8 OK\n",
      "SJ ?? losing: 0.74\n",
      "H5 ? losing: 0.13\n",
      "HJ OK\n",
      "HQ ?? losing: 1.92\n",
      "HA Forced\n",
      "S2 OK\n",
      "SA OK\n",
      "ST OK\n",
      "S3 Forced\n",
      "H2 ? losing: 0.34\n",
      "SK OK\n",
      "H4 OK\n",
      "H3 ?? losing: 1.00\n",
      "D8 OK\n",
      "D2 OK\n",
      "DJ OK\n",
      "S6 OK\n",
      "SQ OK\n",
      "C6 OK\n",
      "H7 Follow\n",
      "S7 Forced\n",
      "H8 OK\n",
      "C7 Forced\n",
      "HK OK\n",
      "S9 OK\n",
      "C5 OK\n",
      "C2 OK\n",
      "CT OK\n",
      "HT OK\n",
      "CK OK\n",
      "H9 OK\n",
      "D7 OK\n",
      "C4 OK\n",
      "DQ OK\n",
      "D4 OK\n",
      "DK OK\n",
      "H6 Forced\n"
     ]
    }
   ],
   "source": [
    "await card_by_card.analyze()"
   ]
  },
  {
   "cell_type": "markdown",
   "id": "bf465259",
   "metadata": {},
   "source": [
    "the engine agrees with the bidding, but didn't like something in the cardplay.\n",
    "\n",
    "playing `S4` from hand is the first mistake. apparently this play drops almost half a trick on average."
   ]
  },
  {
   "cell_type": "code",
   "execution_count": 14,
   "id": "d79d9389",
   "metadata": {},
   "outputs": [
    {
     "data": {
      "text/plain": [
       "{'card': 'DQ',\n",
       " 'who': 'NN-Make',\n",
       " 'quality': '0.1661',\n",
       " 'hcp': [6.7, 8.3],\n",
       " 'shape': [3.4, 3.8, 3.3, 2.4, 2.2, 6.0, 2.7, 2.0],\n",
       " 'candidates': [{'card': 'DQ',\n",
       "   'insta_score': 0.095,\n",
       "   'expected_tricks_dd': 7.04,\n",
       "   'p_make_contract': 0.0,\n",
       "   'expected_score_dd': -98,\n",
       "   'msg': ''},\n",
       "  {'card': 'D8',\n",
       "   'insta_score': 0.046,\n",
       "   'expected_tricks_dd': 7.04,\n",
       "   'p_make_contract': 0.0,\n",
       "   'expected_score_dd': -98,\n",
       "   'msg': ''},\n",
       "  {'card': 'HJ',\n",
       "   'insta_score': 0.414,\n",
       "   'expected_tricks_dd': 7.03,\n",
       "   'p_make_contract': 0.0,\n",
       "   'expected_score_dd': -98,\n",
       "   'msg': ''},\n",
       "  {'card': 'CK',\n",
       "   'insta_score': 0.168,\n",
       "   'expected_tricks_dd': 6.9,\n",
       "   'p_make_contract': 0.0,\n",
       "   'expected_score_dd': -105,\n",
       "   'msg': ''},\n",
       "  {'card': 'S4',\n",
       "   'insta_score': 0.192,\n",
       "   'expected_tricks_dd': 6.49,\n",
       "   'p_make_contract': 0.0,\n",
       "   'expected_score_dd': -128,\n",
       "   'msg': 'trump adjust=0.05'},\n",
       "  {'card': 'ST',\n",
       "   'insta_score': 0.057,\n",
       "   'expected_tricks_dd': 6.49,\n",
       "   'p_make_contract': 0.0,\n",
       "   'expected_score_dd': -128,\n",
       "   'msg': 'trump adjust=0.05'},\n",
       "  {'card': 'SK',\n",
       "   'insta_score': 0.016,\n",
       "   'expected_tricks_dd': 6.11,\n",
       "   'p_make_contract': 0.0,\n",
       "   'expected_score_dd': -147,\n",
       "   'msg': 'trump adjust=0.05'},\n",
       "  {'card': 'C6',\n",
       "   'insta_score': 0.009,\n",
       "   'expected_tricks_dd': 5.98,\n",
       "   'p_make_contract': 0.0,\n",
       "   'expected_score_dd': -151,\n",
       "   'msg': ''},\n",
       "  {'card': 'C7',\n",
       "   'insta_score': 0.009,\n",
       "   'expected_tricks_dd': 5.98,\n",
       "   'p_make_contract': 0.0,\n",
       "   'expected_score_dd': -151,\n",
       "   'msg': ''},\n",
       "  {'card': 'C9',\n",
       "   'insta_score': 0.002,\n",
       "   'expected_tricks_dd': 5.98,\n",
       "   'p_make_contract': 0.0,\n",
       "   'expected_score_dd': -151,\n",
       "   'msg': ''},\n",
       "  {'card': 'CT',\n",
       "   'insta_score': 0.002,\n",
       "   'expected_tricks_dd': 5.98,\n",
       "   'p_make_contract': 0.0,\n",
       "   'expected_score_dd': -151,\n",
       "   'msg': ''}],\n",
       " 'samples': ['Qx.KTxxxx.A.Q8xx 98xx.Ax.KJ9xx.xx AJxx.Q98x.Txxx.J KTx.J.Q8x.AKT9xx 0.52439 0.02804 0.72728 ',\n",
       "  'Q.KT8xxx.Ax.Q8xx 98xx.Ax.KJ9xx.xx AJxxx.Q9xx.Txx.J KTx.J.Q8x.AKT9xx 0.49714 0.02658 0.36987 ',\n",
       "  'x.KQ9xxx.Ax.Q8xx 98xx.Ax.KJ9xx.xx AQJxx.T8xx.Txx.J KTx.J.Q8x.AKT9xx 0.48421 0.02589 0.24991 ',\n",
       "  'x.KQ98xx.AT.Q8xx 98xx.Ax.KJ9xx.xx AQJxx.Txxx.xxx.J KTx.J.Q8x.AKT9xx 0.48288 0.02582 0.20144 ',\n",
       "  'x.KQTxxx.AT.Q8xx 98xx.Ax.KJ9xx.xx AQJxx.98xx.xxx.J KTx.J.Q8x.AKT9xx 0.47965 0.02565 0.19945 ',\n",
       "  'xx.KQ8xxx.A.Q8xx 98xx.Ax.KJ9xx.xx AQJx.T9xx.Txxx.J KTx.J.Q8x.AKT9xx 0.47710 0.02551 0.50678 ',\n",
       "  'x.KQT8xx.AT.Q8xx 98xx.Ax.KJ9xx.xx AQJxx.9xxx.xxx.J KTx.J.Q8x.AKT9xx 0.47348 0.02532 0.19562 ',\n",
       "  'x.KQ8xxx.Ax.Q8xx 98xx.Ax.KJ9xx.xx AQJxx.T9xx.Txx.J KTx.J.Q8x.AKT9xx 0.47131 0.02520 0.26388 ',\n",
       "  'Q.KQ9xxx.ATxx.8x 98xx.Ax.KJ9xx.xx AJxxx.T8xx.x.QJx KTx.J.Q8x.AKT9xx 0.35760 0.03824 0.06853 ',\n",
       "  'Q.KQ98xx.ATxx.8x 98xx.Ax.KJ9xx.xx AJxxx.Txxx.x.QJx KTx.J.Q8x.AKT9xx 0.35239 0.01884 0.06012 ',\n",
       "  'Qx.KQ8xxx.ATxx.8 98xx.Ax.KJ9xx.xx AJxx.T9xx.x.QJxx KTx.J.Q8x.AKT9xx 0.35229 0.03767 0.05823 ',\n",
       "  'Qx.KQTxxx.ATxx.8 98xx.Ax.KJ9xx.xx AJxx.98xx.x.QJxx KTx.J.Q8x.AKT9xx 0.35073 0.01875 0.05013 ',\n",
       "  'Qx.QTxxxx.A.Q8xx 98xx.Ax.KJ9xx.xx AJxx.K98x.Txxx.J KTx.J.Q8x.AKT9xx 0.33775 0.01806 0.68856 ',\n",
       "  '.KQT9xx.ATxx.Q8x 98xx.Ax.KJ9xx.xx AQJxxx.8xxx.x.Jx KTx.J.Q8x.AKT9xx 0.30874 0.01651 0.09940 ',\n",
       "  'J.KT9xxx.AT.Q8xx 98xx.Ax.KJ9xx.xx AQxxx.Q8xx.xxx.J KTx.J.Q8x.AKT9xx 0.29368 0.01570 0.22668 ',\n",
       "  'x.KQTxxx.ATxx.Q8 98xx.Ax.KJ9xx.xx AQJxx.98xx.x.Jxx KTx.J.Q8x.AKT9xx 0.28801 0.01540 0.06348 ',\n",
       "  'Jx.KTxxxx.A.Q8xx 98xx.Ax.KJ9xx.xx AQxx.Q98x.Txxx.J KTx.J.Q8x.AKT9xx 0.28067 0.01501 0.73044 ',\n",
       "  'J.KT8xxx.AT.Q8xx 98xx.Ax.KJ9xx.xx AQxxx.Q9xx.xxx.J KTx.J.Q8x.AKT9xx 0.28068 0.01501 0.23906 ',\n",
       "  'Jx.K8xxxx.A.Q8xx 98xx.Ax.KJ9xx.xx AQxx.QT9x.Txxx.J KTx.J.Q8x.AKT9xx 0.27370 0.01463 0.73141 ',\n",
       "  'Jx.KT98xx.A.Q8xx 98xx.Ax.KJ9xx.xx AQxx.Qxxx.Txxx.J KTx.J.Q8x.AKT9xx 0.26888 0.01438 0.65962 ']}"
      ]
     },
     "execution_count": 14,
     "metadata": {},
     "output_type": "execute_result"
    }
   ],
   "source": [
    "card_by_card.cards['S4'].to_dict()"
   ]
  },
  {
   "cell_type": "markdown",
   "id": "760b7b2f",
   "metadata": {},
   "source": [
    "the opening lead of `DA` is interesting. the engine prefers the `HK` and it's the only card it considers."
   ]
  },
  {
   "cell_type": "code",
   "execution_count": 15,
   "id": "00c728a0",
   "metadata": {},
   "outputs": [
    {
     "data": {
      "text/plain": [
       "{'card': 'DA',\n",
       " 'who': '',\n",
       " 'quality': '0.782',\n",
       " 'hcp': [4.3, 1.7, 3.6, 3.4, 2.6, 4.1, 3.0, 3.2, 4.2, 1.4, 2.3, 5.3],\n",
       " 'shape': [11.4, 5.6, 13.7],\n",
       " 'candidates': [{'card': 'DA',\n",
       "   'insta_score': 0.057,\n",
       "   'expected_tricks_dd': 11.43,\n",
       "   'p_make_contract': 0.01,\n",
       "   'expected_score_dd': 458},\n",
       "  {'card': 'C8',\n",
       "   'insta_score': 0.428,\n",
       "   'expected_tricks_dd': 11.73,\n",
       "   'p_make_contract': 0.01,\n",
       "   'expected_score_dd': 468},\n",
       "  {'card': 'HK',\n",
       "   'insta_score': 0.44,\n",
       "   'expected_tricks_dd': 11.67,\n",
       "   'p_make_contract': 0.01,\n",
       "   'expected_score_dd': 468},\n",
       "  {'card': 'Sx',\n",
       "   'insta_score': 0.065,\n",
       "   'expected_tricks_dd': 11.79,\n",
       "   'p_make_contract': 0.01,\n",
       "   'expected_score_dd': 472}],\n",
       " 'samples': ['xx.KQT9xx.ATxx.8 KJT9.Ax.Kxx.Q9xx xx.J8xxx.J98x.Jx AQ8xx..Qx.AKTxxx 0.76074',\n",
       "  'xx.KQT9xx.ATxx.8 QT8x.A8.QJ8.AJxx 9xx.Jxxx.9xx.T9x AKJx.x.Kxx.KQxxx 0.76709',\n",
       "  'xx.KQT9xx.ATxx.8 QTxx.Ax.KJ8.KQxx 8x.J8xxx.Qxxx.9x AKJ9x..9x.AJTxxx 0.87695',\n",
       "  'xx.KQT9xx.ATxx.8 QT9x.8.KQ98x.Axx 8xx.Jxxxx.xx.KTx AKJx.A.Jx.QJ9xxx 0.88623',\n",
       "  'xx.KQT9xx.ATxx.8 KQxx..KQ9xx.Qxxx A9x.8xxxx.8xx.Jx JT8x.AJ.J.AKT9xx 0.75391',\n",
       "  'xx.KQT9xx.ATxx.8 AK8x.J.Q9xx.KTxx QTx.8xxxx.Kxx.9x J9xx.A.J8.AQJxxx 0.71729',\n",
       "  'xx.KQT9xx.ATxx.8 AJxx.J.QJxxx.KQ9 QT.A8xxxx.98x.xx K98xx..K.AJTxxxx 0.82227',\n",
       "  'xx.KQT9xx.ATxx.8 AJ9x.Ax.Qxx.J9xx T8xx.J8xxx.Jx.xx KQx..K98x.AKQTxx 0.73779',\n",
       "  'xx.KQT9xx.ATxx.8 QT8x.A.QJ9xx.Q9x AJ9.J8xxx.xx.Txx Kxxx.x.K8.AKJxxx 0.76221',\n",
       "  'xx.KQT9xx.ATxx.8 KQJx.x.Kxxx.AJ9x xx.AJ8xxx.J98.xx AT98x..Qx.KQTxxx 0.79346',\n",
       "  'xx.KQT9xx.ATxx.8 KQ8x.8x.KJx.AQTx xx.Jxxx.Q98xx.xx AJT9x.A.x.KJ9xxx 0.73975',\n",
       "  'xx.KQT9xx.ATxx.8 AKT9xx.x.KQx.xxx x.J8xx.J9xxx.Q9x QJ8x.Ax.8.AKJTxx 0.72168',\n",
       "  'xx.KQT9xx.ATxx.8 K8xx.x.KJxx.ATxx Q9x.A8xxx.98.9xx AJTx.J.Qxx.KQJxx 0.72412',\n",
       "  'xx.KQT9xx.ATxx.8 JTxx.A.Kxx.KJxxx K98.Jxxxx.98x.9x AQxx.8.QJx.AQTxx 0.87305',\n",
       "  'xx.KQT9xx.ATxx.8 QJxx.Ax.K8xxx.QJ T8x.J8xxx.J9.T9x AK9x..Qx.AKxxxxx 0.72559',\n",
       "  'xx.KQT9xx.ATxx.8 Q98x.A.Jxx.AJTxx Axx.J8xxxx.Qx.9x KJTx..K98x.KQxxx 0.81201',\n",
       "  'xx.KQT9xx.ATxx.8 AQTx.8x.9xx.AQTx 8xx.AJxxx.Jxx.xx KJ9x..KQ8.KJ9xxx 0.77734',\n",
       "  'xx.KQT9xx.ATxx.8 K8xx.x.KJ8xx.AJx JTx.J8xxx.9x.QTx AQ9x.A.Qx.K9xxxx 0.85352',\n",
       "  'xx.KQT9xx.ATxx.8 JT8x.A.Q8x.AKTxx 9xx.J8xxx.K9xx.J AKQx.x.Jx.Q9xxxx 0.76758',\n",
       "  'xx.KQT9xx.ATxx.8 K9xx.A.Q8xx.Kxxx T8x.J8xxx.J9x.9x AQJx.x.Kx.AQJTxx 0.83643']}"
      ]
     },
     "execution_count": 15,
     "metadata": {},
     "output_type": "execute_result"
    }
   ],
   "source": [
    "card_by_card.cards['DA'].to_dict()"
   ]
  }
 ],
 "metadata": {
  "kernelspec": {
   "display_name": "Python 3",
   "language": "python",
   "name": "python3"
  },
  "language_info": {
   "codemirror_mode": {
    "name": "ipython",
    "version": 3
   },
   "file_extension": ".py",
   "mimetype": "text/x-python",
   "name": "python",
   "nbconvert_exporter": "python",
   "pygments_lexer": "ipython3",
   "version": "3.12.3"
  }
 },
 "nbformat": 4,
 "nbformat_minor": 5
}
