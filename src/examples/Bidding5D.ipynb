{
 "cells": [
  {
   "cell_type": "markdown",
   "id": "75d07246",
   "metadata": {},
   "source": [
    "# Bidding\n",
    "\n",
    "This is a tutorial for how to use the bidding engine"
   ]
  },
  {
   "cell_type": "code",
   "execution_count": 1,
   "id": "59a5664c",
   "metadata": {},
   "outputs": [
    {
     "name": "stderr",
     "output_type": "stream",
     "text": [
      "Loading config file d:\\GitHub\\ben\\src\\./config/default.conf\n",
      "Loading config file d:\\GitHub\\ben\\src\\./config/default.conf\n"
     ]
    }
   ],
   "source": [
    "import os\n",
    "os.chdir('..')\n",
    "\n",
    "from nn.models_tf2 import Models\n",
    "from botbidder import BotBid\n",
    "from util import hand_to_str\n",
    "from sample import Sample\n",
    "import conf\n",
    "import numpy as np\n",
    "\n",
    "np.set_printoptions(precision=2, suppress=True, linewidth=200)\n",
    "np.random.seed(42)\n",
    "\n",
    "models = Models.from_conf(conf.load('./config/default.conf'),'..')   # loading neural networks\n",
    "sampler = Sample.from_conf(conf.load('./config/default.conf'), False)  # Load sampling strategies\n"
   ]
  },
  {
   "cell_type": "markdown",
   "id": "10d8f2fc",
   "metadata": {},
   "source": [
    "### Running through an example"
   ]
  },
  {
   "cell_type": "code",
   "execution_count": 2,
   "id": "19dbfeb7",
   "metadata": {},
   "outputs": [
    {
     "data": {
      "text/plain": [
       "[{'call': '3D',\n",
       "  'insta_score': 0.559,\n",
       "  'adjustment': 1.34,\n",
       "  'expected_score': -36,\n",
       "  'expected_imp': 1.98,\n",
       "  'expected_tricks': 8.7,\n",
       "  'alert': 'False',\n",
       "  'explanation': 'Bidable suit -- 6-!C; 5+!D; 7-11 HCP'},\n",
       " {'call': 'PASS',\n",
       "  'insta_score': 0.521,\n",
       "  'adjustment': 1.25,\n",
       "  'expected_score': -124,\n",
       "  'expected_imp': -1.98,\n",
       "  'expected_tricks': 8.6}]"
      ]
     },
     "execution_count": 2,
     "metadata": {},
     "output_type": "execute_result"
    }
   ],
   "source": [
    "# East deals, EW vulnerable.\n",
    "vuln_ns, vuln_ew = False, False\n",
    "\n",
    "from ddsolver import ddsolver\n",
    "dds = ddsolver.DDSolver()\n",
    "\n",
    "# you sit West and hold:\n",
    "hand = 'J.J82.A98632.T52'\n",
    "\n",
    "# the auction goes:\n",
    "# (a few words about 'PAD_START':\n",
    "# the auction is padded to dealer North\n",
    "# if North is not dealer, than we have to put in a 'PAD_START' for every seat that was skipped\n",
    "# if East deals we have one pad (because North is skipped)\n",
    "# if South deals we have two pads (because North and East are skipped)\n",
    "# etc.)\n",
    "auction = [\"PAD_START\",\"PAD_START\",\"1H\", \"1N\", \"2S\"]\n",
    "bot_bid = BotBid([vuln_ns, vuln_ew], hand, models, sampler, seat=1, dealer=2, ddsolver=dds, bba_is_controlling=False, verbose=False)\n",
    "\n",
    "bid = bot_bid.bid(auction)\n",
    "bid.to_dict()['candidates']\n",
    "\n",
    "# what's your bid?"
   ]
  },
  {
   "cell_type": "code",
   "execution_count": 3,
   "id": "ce89b968",
   "metadata": {},
   "outputs": [
    {
     "data": {
      "text/plain": [
       "['Axxxxxx..QJT.Jxx J.Jxx.Axxxxx.Txx Tx.KTxxxx.Kx.KQx KQx.AQxx.xx.Axxx - 0.94676 | 1H-1N-2S-P-P-P (9) | 1H-1N-2S-3D-P-P-P (8)',\n",
       " 'Qxxxxx.Kx.QJT.xx J.Jxx.Axxxxx.Txx KTx.Txxxx.x.AKJx Axx.AQx.Kxx.Qxxx - 0.94462 | 1H-1N-2S-P-P-P (9) | 1H-1N-2S-3D-3S-P-P-4D-P-P-4S-P-P-P (9)',\n",
       " 'AQxxxx.Q.Txx.xxx J.Jxx.Axxxxx.Txx xxx.Kxxxx.KJ.Axx KTx.ATxx.Qx.KQJx - 0.94411 | 1H-1N-2S-P-P-P (8) | 1H-1N-2S-3D-3S-P-4S-P-P-P (8)',\n",
       " 'KQTxxxx..Jxx.Jxx J.Jxx.Axxxxx.Txx xx.KQxxxx.Tx.AQx Axx.ATxx.KQ.Kxxx - 0.94321 | 1H-1N-2S-P-P-P (8) | 1H-1N-2S-3D-P-P-P (9)',\n",
       " 'KTxxxxx.x.xx.Axx J.Jxx.Axxxxx.Txx xx.AQxxx.QT.KJxx AQx.KTxx.KJx.Qxx - 0.93697 | 1H-1N-2S-P-P-P (9) | 1H-1N-2S-3D-P-P-P (7)',\n",
       " 'Qxxxxx.x.QTx.Axx J.Jxx.Axxxxx.Txx Axx.ATxxxx.x.QJx KTx.KQx.KJx.Kxxx - 0.93588 | 1H-1N-2S-P-3S-P-P-4D-P-P-4S-P-P-P (10) | 1H-1N-2S-3D-3S-P-P-4D-P-P-4S-P-P-5D-X-P-P-P (7)',\n",
       " 'KTxxxx.x.JTx.Axx J.Jxx.Axxxxx.Txx Qxx.AKQTxx.x.xxx Axx.xxx.KQx.KQJx - 0.93461 | 1H-1N-2S-P-P-P (11) | 1H-1N-2S-3D-3S-P-4S-P-P-P (11)',\n",
       " 'KTxxxxx.x.JTx.Kx J.Jxx.Axxxxx.Txx xx.AQTxxx.x.AQxx AQx.Kxx.KQx.Jxxx - 0.93033 | 1H-1N-2S-P-P-P (9) | 1H-1N-2S-3D-P-P-P (7)',\n",
       " 'KTxxxxx.x.Tx.Axx J.Jxx.Axxxxx.Txx x.KQTxx.xx.KQJxx AQxx.Axxx.KQJ.xx - 0.92615 | 1H-1N-2S-P-P-P (7) | 1H-1N-2S-3D-P-P-P (9)',\n",
       " 'AQTxxxx..T.Jxxxx J.Jxx.Axxxxx.Txx Kx.AQxxxx.xxx.Kx xxx.KTxx.KQJ.AQx - 0.92170 | 1H-1N-2S-P-P-P (10) | 1H-1N-2S-3D-P-P-4S-P-P-P (10)',\n",
       " 'QTxxxx.x.Jxx.AJx J.Jxx.Axxxxx.Txx Axx.ATxxxx..Kxxx Kxx.KQx.KQTx.Qxx - 0.91804 | 1H-1N-2S-P-3S-P-P-4D-P-P-4S-P-P-P (12) | 1H-1N-2S-3D-3S-4D-4S-5D-P-P-X-P-P-P (6)',\n",
       " 'ATxxxxx..Tx.Axxx J.Jxx.Axxxxx.Txx xx.KQTxxx.KQx.Jx KQx.Axxx.Jx.KQxx - 0.91701 | 1H-1N-2S-P-P-P (8) | 1H-1N-2S-3D-P-P-4S-P-P-X-P-P-P (8)',\n",
       " 'AQTxxx..Qxx.Jxxx J.Jxx.Axxxxx.Txx xxxx.ATxxxx.T.AQ Kx.KQxx.KJx.Kxxx - 0.90792 | 1H-1N-2S-P-P-P (11) | 1H-1N-2S-3D-3S-4D-4S-5D-P-P-X-P-P-P (8)',\n",
       " 'KTxxxx.x.QT.QJxx J.Jxx.Axxxxx.Txx xx.AKTxxx.Jx.Kxx AQxx.Qxx.Kxx.Axx - 0.90629 | 1H-1N-2S-P-P-P (8) | 1H-1N-2S-3D-P-P-P (8)',\n",
       " 'ATxxxx.Kx.T.xxxx J.Jxx.Axxxxx.Txx xxx.QTxxx.KJx.AQ KQx.Axx.Qxx.KJxx - 0.90428 | 1H-1N-2S-P-P-P (8) | 1H-1N-2S-3D-3S-P-4S-P-P-P (8)',\n",
       " 'QTxxxx.x.xx.AJxx J.Jxx.Axxxxx.Txx Axxx.KQTxx.Q.xxx Kx.Axxx.KJTx.KQx - 0.90350 | 1H-1N-2S-P-3S-P-P-4D-4S-5D-X-P-P-P (9) | 1H-1N-2S-3D-3S-4D-4S-5D-P-P-X-P-P-P (9)',\n",
       " 'ATxxxxx.Ax.Txx.x J.Jxx.Axxxxx.Txx x.Kxxxx.Jx.AQJxx KQxx.QTx.KQ.Kxxx - 0.90336 | 1H-1N-2S-P-P-P (8) | 1H-1N-2S-3D-P-P-4S-P-P-X-P-P-P (8)',\n",
       " 'QTxxxx.T.KQx.xxx J.Jxx.Axxxxx.Txx Axx.Axxxx.Tx.QJx Kxx.KQxx.Jx.AKxx - 0.90211 | 1H-1N-2S-P-P-P (8) | 1H-1N-2S-3D-3S-P-P-4D-P-P-P (9)',\n",
       " 'Qxxxxxx.x.KQx.xx J.Jxx.Axxxxx.Txx Tx.AQxxxx..AJxxx AKx.KTx.JTxx.KQx - 0.90195 | 1H-1N-2S-P-P-P (8) | 1H-1N-2S-3D-P-P-4S-P-P-P (8)',\n",
       " 'KQxxxxx.Q..xxxxx J.Jxx.Axxxxx.Txx Tx.AKxxxx.QJTx.J Axx.Txx.Kxx.AKQx - 0.90048 | 1H-1N-2S-P-P-P (8) | 1H-1N-2S-3D-P-P-4S-P-P-P (8)']"
      ]
     },
     "execution_count": 3,
     "metadata": {},
     "output_type": "execute_result"
    }
   ],
   "source": [
    "bid.samples"
   ]
  },
  {
   "cell_type": "code",
   "execution_count": 4,
   "id": "bfe98f56",
   "metadata": {},
   "outputs": [
    {
     "data": {
      "text/plain": [
       "[{'call': 'PASS',\n",
       "  'insta_score': 1.08,\n",
       "  'adjustment': 0,\n",
       "  'expected_score': -157,\n",
       "  'expected_tricks': 9.4,\n",
       "  'alert': 'False',\n",
       "  'explanation': ' -- 6-!C; 5+!D; 7-8 HCP'},\n",
       " {'call': '5D', 'insta_score': 0.113}]"
      ]
     },
     "execution_count": 4,
     "metadata": {},
     "output_type": "execute_result"
    }
   ],
   "source": [
    "auction = [\"PAD_START\",\"PAD_START\",\"1H\", \"1N\", \"2S\",\"3D\",\"3S\",\"PASS\",\"4S\"]\n",
    "bid = bot_bid.bid(auction)\n",
    "\n",
    "bid.to_dict()['candidates']"
   ]
  },
  {
   "cell_type": "markdown",
   "id": "ad120123",
   "metadata": {},
   "source": [
    "in the output above:\n",
    "- `insta_score` reflects what the neural network prefers to bid\n",
    "- `expected_score` is based on what you expect to score on difference samples (for example, 70% of the time you are making and 30% of the time you are going one off, then the expected score is 0.7 * 620 - 0.3 * 100)"
   ]
  },
  {
   "cell_type": "markdown",
   "id": "051ff121",
   "metadata": {},
   "source": [
    "### Samples consistent with the auction so far\n",
    "\n",
    "Above we said that we are computig expected scores on samples consistent with the auction so far.\n",
    "\n",
    "How do we get these samples?\n",
    "\n",
    "We get some samples in the response we get from the bot (i.e `bid.samples`)"
   ]
  },
  {
   "cell_type": "code",
   "execution_count": 5,
   "id": "55b647a5",
   "metadata": {},
   "outputs": [
    {
     "data": {
      "text/plain": [
       "['AKxxx.xx.xx.Jxxx J.Jxx.Axxxxx.Txx Qxxx.ATxxx.Jx.Ax Txx.KQx.KQT.KQxx - 0.71845',\n",
       " 'AQTxx.x.QJTx.xxx J.Jxx.Axxxxx.Txx xxxx.AKTxx.x.Kxx Kxx.Qxxx.Kx.AQJx - 0.71404',\n",
       " 'AKTxx.xx.T.xxxxx J.Jxx.Axxxxx.Txx xxxx.AQTxx.QJx.K Qxx.Kxx.Kxx.AQJx - 0.70547',\n",
       " 'Axxxx.AT.Tx.Jxxx J.Jxx.Axxxxx.Txx Txxx.Kxxxx.K.Axx KQx.Qxx.QJxx.KQx - 0.70453',\n",
       " 'QTxxxx.xx.Jxx.Ax J.Jxx.Axxxxx.Txx Axxx.AQxxx..Qxxx Kx.KTx.KQTx.KJxx - 0.70335',\n",
       " 'Txxxx.Ax.xx.Axxx J.Jxx.Axxxxx.Txx AKxx.Qxxxx.J.Jxx Qxx.KTx.KQTx.KQx - 0.70279',\n",
       " 'QTxxxx.x.Jx.AQxx J.Jxx.Axxxxx.Txx Axxx.AQxxx.x.xxx Kx.KTxx.KQTx.KJx - 0.69771',\n",
       " 'AQxxx.xx.Jxx.xxx J.Jxx.Axxxxx.Txx KTxx.AQxxx.K.xxx xxx.KTx.QTx.AKQJ - 0.67814',\n",
       " 'KQTxxx.xx.T.Qxxx J.Jxx.Axxxxx.Txx Axxx.AKTxx.Jx.xx xx.Qxx.KQxx.AKJx - 0.67648',\n",
       " 'QTxxx.x.KTx.Jxxx J.Jxx.Axxxxx.Txx Axxx.Axxxx.Jx.Ax Kxx.KQTx.Qx.KQxx - 0.67592',\n",
       " 'Qxxxx.x.KQx.xxxx J.Jxx.Axxxxx.Txx ATxx.AQTxx.xx.Qx Kxx.Kxxx.JT.AKJx - 0.67376',\n",
       " 'AKxxxx.xx.Tx.Jxx J.Jxx.Axxxxx.Txx Qxxx.KQTxx.x.Axx Tx.Axx.KQJx.KQxx - 0.67207',\n",
       " 'Kxxxx.Qx.KJTx.xx J.Jxx.Axxxxx.Txx AQx.Txxxx.x.Axxx Txxx.AKx.Qx.KQJx - 0.67033',\n",
       " 'KTxxxxx..x.Axxxx J.Jxx.Axxxxx.Txx Qxx.AQTxxx.KJT.x Ax.Kxxx.Qxx.KQJx - 0.66847',\n",
       " 'KTxxxx.A.Qxx.xxx J.Jxx.Axxxxx.Txx AQxx.Kxxxxx..Jxx xx.QTx.KJTx.AKQx - 0.66593',\n",
       " 'Txxxx.x.QJxx.KJx J.Jxx.Axxxxx.Txx AQxx.AQxxx.T.xxx Kxx.KTxx.Kx.AQxx - 0.66546',\n",
       " 'Kxxxx.x.Kxx.Jxxx J.Jxx.Axxxxx.Txx QTxx.AQxxx.T.Axx Axx.KTxx.QJx.KQx - 0.66333',\n",
       " 'xxxxxx.A.QJTx.xx J.Jxx.Axxxxx.Txx AKx.KTxxxx..Qxxx QTx.Qxx.Kxx.AKJx - 0.66235',\n",
       " 'AQxxx.Tx.Tx.Jxxx J.Jxx.Axxxxx.Txx KTxx.Axxxx.x.KQx xxx.KQx.KQJx.Axx - 0.66221',\n",
       " 'QTxxxx.Kx.xx.QJx J.Jxx.Axxxxx.Txx xxxx.ATxxx.T.AKx AK.Qxx.KQJx.xxxx - 0.65823']"
      ]
     },
     "execution_count": 5,
     "metadata": {},
     "output_type": "execute_result"
    }
   ],
   "source": [
    "bid.samples"
   ]
  }
 ],
 "metadata": {
  "kernelspec": {
   "display_name": "Python 3",
   "language": "python",
   "name": "python3"
  },
  "language_info": {
   "codemirror_mode": {
    "name": "ipython",
    "version": 3
   },
   "file_extension": ".py",
   "mimetype": "text/x-python",
   "name": "python",
   "nbconvert_exporter": "python",
   "pygments_lexer": "ipython3",
   "version": "3.12.3"
  }
 },
 "nbformat": 4,
 "nbformat_minor": 5
}
