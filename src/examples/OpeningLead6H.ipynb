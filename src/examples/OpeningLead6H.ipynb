{
 "cells": [
  {
   "cell_type": "markdown",
   "id": "170af530",
   "metadata": {},
   "source": [
    "# Opening Lead\n",
    "\n",
    "This is a tutorial for how to use the opening lead engine."
   ]
  },
  {
   "cell_type": "code",
   "execution_count": 1,
   "id": "26570686",
   "metadata": {},
   "outputs": [
    {
     "name": "stderr",
     "output_type": "stream",
     "text": [
      "Loading config file d:\\GitHub\\ben\\src\\./config/default.conf\n",
      "Loading config file d:\\GitHub\\ben\\src\\./config/default.conf\n"
     ]
    }
   ],
   "source": [
    "import os\n",
    "os.chdir('..')\n",
    "\n",
    "from nn.models_tf2 import Models\n",
    "import botopeninglead\n",
    "from sample import Sample\n",
    "import conf\n",
    "import numpy as np\n",
    "\n",
    "np.set_printoptions(precision=2, suppress=True, linewidth=200)\n",
    "np.random.seed(42)\n",
    "\n",
    "models = Models.from_conf(conf.load('./config/default.conf'),'..')   # loading neural networks\n",
    "sampler = Sample.from_conf(conf.load('./config/default.conf'), False)  # Load sampling strategies\n"
   ]
  },
  {
   "cell_type": "code",
   "execution_count": 2,
   "id": "c3397678",
   "metadata": {},
   "outputs": [],
   "source": [
    "# both vulnerable. you are sitting East and hold\n",
    "hand = 'KQ854.854.JT96.8'\n",
    "seat = 1\n",
    "\n",
    "# the auction goes:\n",
    "auction = [\"PAD_START\", \"PAD_START\", \"1C\", \"PASS\", \"1H\", \"PASS\", \"3S\", \"PASS\", \"4D\", \"PASS\", \"4H\", \"PASS\", \"4N\", \"PASS\", \"5H\", \"PASS\", \"6H\", \"PASS\", \"PASS\", \"PASS\"]\n",
    "\n",
    "from ddsolver import ddsolver\n",
    "dds = ddsolver.DDSolver()\n",
    "\n",
    "# what to lead?\n",
    "lead_bot = botopeninglead.BotLead([True, True], hand, models, sampler, seat, dealer=2, dds=dds, verbose=False)\n",
    "lead = lead_bot.find_opening_lead(auction, {})"
   ]
  },
  {
   "cell_type": "code",
   "execution_count": 3,
   "id": "a2b5fe25",
   "metadata": {},
   "outputs": [
    {
     "data": {
      "text/plain": [
       "C8"
      ]
     },
     "execution_count": 3,
     "metadata": {},
     "output_type": "execute_result"
    }
   ],
   "source": [
    "lead.card"
   ]
  },
  {
   "cell_type": "markdown",
   "id": "02e88396",
   "metadata": {},
   "source": [
    "seems like the engine chose to lead the ace of diamonds\n",
    "\n",
    "the other options it considered were: a small spade and a small club"
   ]
  },
  {
   "cell_type": "code",
   "execution_count": 4,
   "id": "956ef356",
   "metadata": {},
   "outputs": [
    {
     "data": {
      "text/plain": [
       "[{'card': 'C8',\n",
       "  'insta_score': 0.343,\n",
       "  'p_make_contract': 0.44,\n",
       "  'expected_score_imp': 3.28,\n",
       "  'msg': ''},\n",
       " {'card': 'DJ',\n",
       "  'insta_score': 0.213,\n",
       "  'p_make_contract': 0.26,\n",
       "  'expected_score_imp': -0.79,\n",
       "  'msg': ''},\n",
       " {'card': 'Hx',\n",
       "  'insta_score': 0.087,\n",
       "  'p_make_contract': 0.26,\n",
       "  'expected_score_imp': -1.02,\n",
       "  'msg': ''},\n",
       " {'card': 'SK',\n",
       "  'insta_score': 0.33,\n",
       "  'p_make_contract': 0.24,\n",
       "  'expected_score_imp': -1.47,\n",
       "  'msg': ''}]"
      ]
     },
     "execution_count": 4,
     "metadata": {},
     "output_type": "execute_result"
    }
   ],
   "source": [
    "lead.to_dict()['candidates']"
   ]
  },
  {
   "cell_type": "markdown",
   "id": "97efc5a1",
   "metadata": {},
   "source": [
    "in the above output:\n",
    "- `insta_score` reflects the preference of the neural network\n",
    "- `expected_tricks` how many tricks declarer is expected to take on this lead\n",
    "- `p_make_contract` is the probability of the contract making on this lead\n",
    "\n",
    "the probability of making and the expected tricks are computed on samples which are consistent with the auction. the samples are estimated single dummy using a neural network (more on this in another tutorial). we could also solve the samples double dummy, but that would be quite a bit slower."
   ]
  },
  {
   "cell_type": "code",
   "execution_count": 5,
   "id": "7cb2bf98",
   "metadata": {},
   "outputs": [
    {
     "data": {
      "text/plain": [
       "['KQ8xx.8xx.JT9x.8 x.AKxx.KQx.KQxxx JTxx.Qx.xxx.ATxx Axx.JTxx.Axx.Jxx - 0.71565 | C8:100.0 SK:-1430.0 DJ:-1430.0 Hx:-1430.0',\n",
       " 'KQxxx.xxx.JTxx.x x.KJxx.KQx.AKQTx AJx.Qx.xxx.Jxxxx Txxx.ATxx.Axx.xx - 0.71509 | C8:100.0 SK:-1430.0 DJ:-1430.0 Hx:100.0',\n",
       " 'KQxxx.xxx.JTxx.x .KJxx.Kxxx.AKQxx JTxx.A.Qxxx.Txxx Axxx.QTxxx.A.Jxx - 0.69095 | C8:100.0 SK:-1430.0 DJ:-1430.0 Hx:-1430.0',\n",
       " 'KQxxx.xxx.JTxx.x x.Axxx.AKx.KQJTx Txx.Jx.xxxx.Axxx AJxx.KQTx.Qx.xxx - 0.69009 | C8:100.0 SK:-1430.0 DJ:-1430.0 Hx:-1430.0',\n",
       " 'KQxxx.xxx.JTxx.x x.KTxx.KQ.AKQJTx JTxx.Ax.Axx.xxxx Axx.QJxx.xxxx.xx - 0.68001 | C8:200.0 SK:100.0 DJ:200.0 Hx:100.0',\n",
       " 'KQxxx.xxx.JTxx.x .Kxxx.Qx.AKQJxxx JTxx.J.AKxx.Txxx Axxx.AQTxx.xxx.x - 0.66920 | C8:-1460.0 SK:-1460.0 DJ:100.0 Hx:-1460.0',\n",
       " 'KQxxx.xxx.JTxx.x .JTxx.AKQ.AKJTxx Jxxx.KQ.xx.Qxxxx ATxx.Axxx.xxxx.x - 0.66302 | C8:100.0 SK:-1430.0 DJ:-1430.0 Hx:-1430.0',\n",
       " 'KQxxx.xxx.JTxx.x J.Txxx.AKQ.AKQxx xxxxx.A.xxxxx.Tx AT.KQJxx.x.Jxxxx - 0.70413 | C8:100.0 SK:-1430.0 DJ:-1430.0 Hx:-1430.0',\n",
       " 'KQxxx.xxx.JTxx.x .AJxx.AKx.KJTxxx Jxxx.Q.xxxx.AQxx ATxx.KTxxx.Qx.xx - 0.69973 | C8:100.0 SK:100.0 DJ:-1430.0 Hx:-1430.0',\n",
       " 'KQxxx.xxx.JTxx.x .xxxx.AKQx.AKQTx JTxx.Ax.xxxx.xxx Axxx.KQJT.x.Jxxx - 0.65527 | C8:100.0 SK:-1430.0 DJ:-1430.0 Hx:-1430.0',\n",
       " 'KQxxx.xxx.JTxx.x .JTxx.AKxx.AKQxx Txxx.Kx.Qxx.JTxx AJxx.AQxx.xx.xxx - 0.64845 | C8:-1430.0 SK:-1460.0 DJ:-1430.0 Hx:-1430.0',\n",
       " 'KQxxx.xxx.JTxx.x .Kxxx.KQx.AKJxxx ATxxx.x.xxxx.Qxx Jxx.AQJTx.Ax.Txx - 0.63927 | C8:-1460.0 SK:-1430.0 DJ:-1460.0 Hx:-1460.0',\n",
       " 'KQxxx.xxx.JTxx.x .AKTxx.Kx.KQTxxx AJxx.x.AQxx.Jxxx Txxx.QJxx.xxx.Ax - 0.60327 | C8:-1430.0 SK:-1430.0 DJ:100.0 Hx:-1430.0',\n",
       " 'KQxxx.xxx.JTxx.x x.AKJx.KQx.KQxxx xxx.QT.xxx.Axxxx AJTx.xxxx.Axx.JT - 0.69456 | C8:100.0 SK:-1430.0 DJ:-1430.0 Hx:-1430.0',\n",
       " 'KQxxx.xxx.JTxx.x T.AJxx.KQx.AKTxx xxx.Tx.Axx.Qxxxx AJxx.KQxx.xxx.Jx - 0.69268 | C8:100.0 SK:100.0 DJ:200.0 Hx:100.0',\n",
       " 'KQxxx.xxx.JTxx.x J.Axxx.KQx.AKxxx Axxx.x.xxx.QJTxx Txx.KQJTx.Axx.xx - 0.68086 | C8:100.0 SK:-1430.0 DJ:-1430.0 Hx:100.0',\n",
       " 'KQxxx.xxx.JTxx.x A.JTxx.Kx.AKQxxx JTx.KQ.xxxxx.Txx xxxx.Axxx.AQ.Jxx - 0.63792 | C8:100.0 SK:-1430.0 DJ:-1430.0 Hx:-1430.0',\n",
       " 'KQxxx.xxx.JTxx.x .Kxxx.Qxx.AKQJxx JTxx.AT.Axxx.Txx Axxx.QJxx.Kx.xxx - 0.62443 | C8:300.0 SK:100.0 DJ:200.0 Hx:100.0',\n",
       " 'KQxxx.xxx.JTxx.x .KTxx.AKx.KQJTxx Axxx.Qx.Qxxx.xxx JTxx.AJxx.xx.Axx - 0.71389 | ',\n",
       " 'KQxxx.xxx.JTxx.x .ATxx.Kxx.AKQTxx ATxx.Qx.Qxx.Jxxx Jxxx.KJxx.Axx.xx - 0.72240 | ']"
      ]
     },
     "execution_count": 5,
     "metadata": {},
     "output_type": "execute_result"
    }
   ],
   "source": [
    "# each row is one sample board\n",
    "# the hands are in the order: LHO, Partner, RHO. Your cards are not shown as they are fixed/\n",
    "\n",
    "lead.samples"
   ]
  }
 ],
 "metadata": {
  "kernelspec": {
   "display_name": "Python 3",
   "language": "python",
   "name": "python3"
  },
  "language_info": {
   "codemirror_mode": {
    "name": "ipython",
    "version": 3
   },
   "file_extension": ".py",
   "mimetype": "text/x-python",
   "name": "python",
   "nbconvert_exporter": "python",
   "pygments_lexer": "ipython3",
   "version": "3.12.3"
  }
 },
 "nbformat": 4,
 "nbformat_minor": 5
}
