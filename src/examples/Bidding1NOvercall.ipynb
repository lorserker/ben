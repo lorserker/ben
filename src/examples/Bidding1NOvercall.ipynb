{
 "cells": [
  {
   "cell_type": "markdown",
   "id": "75d07246",
   "metadata": {},
   "source": [
    "# Bidding\n",
    "\n",
    "This is a tutorial for how to use the bidding engine"
   ]
  },
  {
   "cell_type": "code",
   "execution_count": 1,
   "id": "59a5664c",
   "metadata": {},
   "outputs": [
    {
     "name": "stderr",
     "output_type": "stream",
     "text": [
      "Loading config file d:\\GitHub\\ben\\src\\./config/default.conf\n",
      "Loading config file d:\\GitHub\\ben\\src\\./config/default.conf\n"
     ]
    }
   ],
   "source": [
    "import os\n",
    "os.chdir('..')\n",
    "\n",
    "from nn.models_tf2 import Models\n",
    "from botbidder import BotBid\n",
    "from util import hand_to_str\n",
    "from sample import Sample\n",
    "import conf\n",
    "import numpy as np\n",
    "\n",
    "np.set_printoptions(precision=2, suppress=True, linewidth=200)\n",
    "np.random.seed(42)\n",
    "models = Models.from_conf(conf.load('./config/default.conf'),'..')   # loading neural networks\n",
    "sampler = Sample.from_conf(conf.load('./config/default.conf'), False)  # Load sampling strategies\n"
   ]
  },
  {
   "cell_type": "markdown",
   "id": "10d8f2fc",
   "metadata": {},
   "source": [
    "### Bidding"
   ]
  },
  {
   "cell_type": "code",
   "execution_count": 2,
   "id": "19dbfeb7",
   "metadata": {},
   "outputs": [
    {
     "data": {
      "text/plain": [
       "[{'call': '2D',\n",
       "  'insta_score': 1.174,\n",
       "  'alert': 'True',\n",
       "  'explanation': 'Cappelletti, both majors -- 5-!C; 5-!D; 4-9!H; 4-9!S; 9+ HCP; Artificial'}]"
      ]
     },
     "execution_count": 2,
     "metadata": {},
     "output_type": "execute_result"
    }
   ],
   "source": [
    "vuln_ns, vuln_ew = False, False\n",
    "hand = 'AQJ986.QJ952.7.8'\n",
    "\n",
    "from ddsolver import ddsolver\n",
    "dds = ddsolver.DDSolver()\n",
    "\n",
    "auction = [\"PASS\", \"1N\"]\n",
    "bot_bid = BotBid([vuln_ns, vuln_ew], hand, models, sampler, 2, 0, dds, False, False)\n",
    "\n",
    "bid = bot_bid.bid(auction)\n",
    "bid.to_dict()['candidates']\n",
    "\n",
    "# what's your bid?"
   ]
  },
  {
   "cell_type": "code",
   "execution_count": 3,
   "id": "55b647a5",
   "metadata": {},
   "outputs": [],
   "source": [
    "### Samples consistent with the auction so far\n",
    "\n",
    "for i in range(min(10,len(bid.samples))):\n",
    "    print(bid.samples[i])\n"
   ]
  },
  {
   "cell_type": "markdown",
   "id": "7d0dd8f5",
   "metadata": {},
   "source": [
    "West always has the same cards because it's your hand and it's known to you"
   ]
  },
  {
   "cell_type": "code",
   "execution_count": 5,
   "id": "7101e514",
   "metadata": {},
   "outputs": [
    {
     "name": "stdout",
     "output_type": "stream",
     "text": [
      "Good quality: 0.9767754673957825\n",
      "Kx.Txxx.xxx.AJxx Txx.AKx.AKx.QTxx AQJxxx.QJxxx.x.x xx.x.QJTxxx.Kxxx 1.00\n",
      "xx.Kxx.KQTx.JTxx KTx.Axx.Jxxx.AKx AQJxxx.QJxxx.x.x xx.Tx.Axxx.Qxxxx 1.00\n",
      "Kxx.Kx.xxx.xxxxx Txx.ATx.Axx.AKJT AQJxxx.QJxxx.x.x x.xxx.KQJTxx.Qxx 1.00\n",
      "Txxx.xxx.xxx.Kxx Kxx.AKxx.Qxx.ATx AQJxxx.QJxxx.x.x .T.AKJTxx.QJxxxx 1.00\n",
      "xx.AKTx.QTxx.xxx Kxx.xxx.KJx.AKJx AQJxxx.QJxxx.x.x Tx.x.Axxxx.QTxxx 1.00\n",
      "xxx.xx.xxxx.xxxx Kxx.Axx.JTx.AKTx AQJxxx.QJxxx.x.x T.KTx.AKQxx.QJxx 1.00\n",
      "x.xxxx.AKxx.Qxxx xxx.AKT.QJxx.AKT AQJxxx.QJxxx.x.x KTx.x.Txxx.Jxxxx 1.00\n",
      "Tx.xx.xxxx.KTxxx Kxx.AKxx.KJx.Qxx AQJxxx.QJxxx.x.x xx.Tx.AQTxx.AJxx 1.00\n",
      "xx.Ax.Txxx.xxxxx Txx.xxx.AKQJ.AJT AQJxxx.QJxxx.x.x Kx.KTx.xxxx.KQxx 1.00\n",
      "Kxx.xx.Qxxx.Jxxx Txx.KTx.AKTx.AKx AQJxxx.QJxxx.x.x x.Axx.Jxxx.QTxxx 1.00\n"
     ]
    }
   ],
   "source": [
    "# we got some samples above. if we want more, we can always get more\n",
    "auction = [\"PASS\", \"1N\"]\n",
    "sample_hands, sorted_score, p_hcp, p_shp, good_quality = bot_bid.sample_hands_for_auction(auction, 2)\n",
    "print(\"Good quality:\", good_quality)\n",
    "for i in range(min(10,sample_hands.shape[0])):\n",
    "    print(f'{hand_to_str(sample_hands[i, 0, :], models.n_cards_bidding)} {hand_to_str(sample_hands[i, 1, :], models.n_cards_bidding)} {hand_to_str(sample_hands[i, 2, :], models.n_cards_bidding)} {hand_to_str(sample_hands[i, 3, :], models.n_cards_bidding)} {sorted_score[i]:.2f}')"
   ]
  }
 ],
 "metadata": {
  "kernelspec": {
   "display_name": "Python 3",
   "language": "python",
   "name": "python3"
  },
  "language_info": {
   "codemirror_mode": {
    "name": "ipython",
    "version": 3
   },
   "file_extension": ".py",
   "mimetype": "text/x-python",
   "name": "python",
   "nbconvert_exporter": "python",
   "pygments_lexer": "ipython3",
   "version": "3.12.3"
  }
 },
 "nbformat": 4,
 "nbformat_minor": 5
}
