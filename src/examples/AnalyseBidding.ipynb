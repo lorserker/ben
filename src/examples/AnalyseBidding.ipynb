{
 "cells": [
  {
   "cell_type": "markdown",
   "id": "21a4c878",
   "metadata": {},
   "source": [
    "# Detailed Analysis of bidding"
   ]
  },
  {
   "cell_type": "code",
   "execution_count": 1,
   "id": "16f73f71",
   "metadata": {},
   "outputs": [
    {
     "name": "stderr",
     "output_type": "stream",
     "text": [
      "Loading config file d:\\GitHub\\ben\\src\\./config/default.conf\n",
      "Loading config file d:\\GitHub\\ben\\src\\./config/default.conf\n"
     ]
    }
   ],
   "source": [
    "import os\n",
    "os.chdir('..')\n",
    "\n",
    "from analysis import CardByCard\n",
    "\n",
    "from nn.models_tf2 import Models\n",
    "from util import hand_to_str\n",
    "from sample import Sample\n",
    "import conf\n",
    "\n",
    "import numpy as np\n",
    "\n",
    "np.set_printoptions(precision=2, suppress=True, linewidth=200)\n",
    "np.random.seed(42)\n",
    "models = Models.from_conf(conf.load('./config/default.conf'),'..')   # loading neural networks\n",
    "sampler = Sample.from_conf(conf.load('./config/default.conf'), False)  # Load sampling strategies\n"
   ]
  },
  {
   "cell_type": "code",
   "execution_count": 2,
   "id": "2940c18a",
   "metadata": {},
   "outputs": [],
   "source": [
    "# We specify all the information about a board\n",
    "\n",
    "dealer = 'E'\n",
    "vuln = [False, False]  # first element is NS, second element is EW\n",
    "hands = [ 'AJTx.KJxx.J9x.Ax','Q.A8xx.AQTxxx.Jx','9x.QT9x.xx.K98xx','K8xxxx.x.K8.QTxx']\n",
    "auction = ['1D', 'PASS', '1S', 'PASS', '2D', 'PASS', '2S', 'PASS', 'PASS', 'PASS']\n",
    "\n",
    "card_by_card = CardByCard(dealer, vuln, hands, auction, [], models, sampler, False)"
   ]
  },
  {
   "cell_type": "code",
   "execution_count": 3,
   "id": "7ab0cce5",
   "metadata": {},
   "outputs": [
    {
     "name": "stdout",
     "output_type": "stream",
     "text": [
      "1D OK NN-value: 1.200\n",
      "PASS OK NN-value: 1.200\n",
      "1S OK NN-value: 1.200\n",
      "PASS OK NN-value: 0.767\n",
      "2D OK NN-value: 1.199\n",
      "PASS OK NN-value: 1.200\n",
      "2S OK NN-value: 1.106\n",
      "PASS OK NN-value: 1.189\n",
      "PASS OK NN-value: 1.171\n",
      "PASS OK NN-value: 1.200\n"
     ]
    }
   ],
   "source": [
    "# calling this starts the analysis\n",
    "# it will go bid-by-bid and card-by-card, and will take a few moments\n",
    "# possible mistakes will be annotated with ? or with ?? (if it's a bigger mistake)\n",
    "# (possible mistake means that the engine does not agree with the bid/play. the engine could be wrong too :))\n",
    "\n",
    "card_by_card.analyze_bidding()"
   ]
  }
 ],
 "metadata": {
  "kernelspec": {
   "display_name": "Python 3",
   "language": "python",
   "name": "python3"
  },
  "language_info": {
   "codemirror_mode": {
    "name": "ipython",
    "version": 3
   },
   "file_extension": ".py",
   "mimetype": "text/x-python",
   "name": "python",
   "nbconvert_exporter": "python",
   "pygments_lexer": "ipython3",
   "version": "3.12.3"
  }
 },
 "nbformat": 4,
 "nbformat_minor": 5
}
