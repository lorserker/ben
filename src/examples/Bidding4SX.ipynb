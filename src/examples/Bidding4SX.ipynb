{
 "cells": [
  {
   "cell_type": "markdown",
   "id": "75d07246",
   "metadata": {},
   "source": [
    "# Bidding\n",
    "\n",
    "This is a tutorial for how to use the bidding engine"
   ]
  },
  {
   "cell_type": "code",
   "execution_count": 1,
   "id": "59a5664c",
   "metadata": {},
   "outputs": [
    {
     "name": "stderr",
     "output_type": "stream",
     "text": [
      "Loading config file d:\\GitHub\\ben\\src\\./config/default.conf\n",
      "Loading config file d:\\GitHub\\ben\\src\\./config/default.conf\n"
     ]
    }
   ],
   "source": [
    "import os\n",
    "os.chdir('..')\n",
    "\n",
    "from nn.models_tf2 import Models\n",
    "from botbidder import BotBid\n",
    "from util import hand_to_str\n",
    "from sample import Sample\n",
    "import conf\n",
    "import numpy as np\n",
    "\n",
    "np.set_printoptions(precision=2, suppress=True, linewidth=200)\n",
    "np.random.seed(42)\n",
    "models = Models.from_conf(conf.load('./config/default.conf'),'..')   # loading neural networks\n",
    "sampler = Sample.from_conf(conf.load('./config/default.conf'), False)  # Load sampling strategies\n"
   ]
  },
  {
   "cell_type": "markdown",
   "id": "10d8f2fc",
   "metadata": {},
   "source": [
    "### Running through an example"
   ]
  },
  {
   "cell_type": "code",
   "execution_count": 2,
   "id": "19dbfeb7",
   "metadata": {},
   "outputs": [
    {
     "data": {
      "text/plain": [
       "[{'call': '1S',\n",
       "  'insta_score': 1.172,\n",
       "  'alert': 'False',\n",
       "  'explanation': '5+ !S -- 6-!H; 5+!S; 11-20 HCP'}]"
      ]
     },
     "execution_count": 2,
     "metadata": {},
     "output_type": "execute_result"
    }
   ],
   "source": [
    "# East deals, EW vulnerable.\n",
    "vuln_ns, vuln_ew = True, True\n",
    "\n",
    "from ddsolver import ddsolver\n",
    "dds = ddsolver.DDSolver()\n",
    "\n",
    "# you sit West and hold:\n",
    "hand = 'KJ7432.9.A.QJT86'\n",
    "\n",
    "# the auction goes:\n",
    "# (a few words about 'PAD_START':\n",
    "# the auction is padded to dealer North\n",
    "# if North is not dealer, than we have to put in a 'PAD_START' for every seat that was skipped\n",
    "# if East deals we have one pad (because North is skipped)\n",
    "# if South deals we have two pads (because North and East are skipped)\n",
    "# etc.)\n",
    "auction = [\"PAD_START\", \"PAD_START\", \"PASS\", \"PASS\"]\n",
    "bot_bid = BotBid([vuln_ns, vuln_ew], hand, models, sampler, 0, 2, dds, False, False)\n",
    "\n",
    "bid = bot_bid.bid(auction)\n",
    "bid.to_dict()['candidates']\n",
    "\n",
    "# what's your bid?"
   ]
  },
  {
   "cell_type": "code",
   "execution_count": 3,
   "id": "bfe98f56",
   "metadata": {},
   "outputs": [
    {
     "data": {
      "text/plain": [
       "[{'call': 'PASS',\n",
       "  'insta_score': 1.082,\n",
       "  'adjustment': 0,\n",
       "  'expected_score': -75,\n",
       "  'expected_tricks': 9.6,\n",
       "  'alert': 'False',\n",
       "  'explanation': ' -- 6-!H; 5+!S; 11-20 HCP'},\n",
       " {'call': '3S', 'insta_score': 0.115}]"
      ]
     },
     "execution_count": 3,
     "metadata": {},
     "output_type": "execute_result"
    }
   ],
   "source": [
    "auction = [\"PAD_START\", \"PAD_START\", \"PASS\", \"PASS\", \"1S\", \"2H\", \"PASS\", \"3D\"]\n",
    "bid = bot_bid.bid(auction)\n",
    "\n",
    "bid.to_dict()['candidates']"
   ]
  },
  {
   "cell_type": "code",
   "execution_count": 4,
   "id": "55b647a5",
   "metadata": {},
   "outputs": [
    {
     "data": {
      "text/plain": [
       "['KJxxxx.x.A.QJTxx x.AKJxxx.Kxx.Axx x.QTxxx.xxx.Kxxx AQTxx.x.QJTxxx.x - 0.84457',\n",
       " 'KJxxxx.x.A.QJTxx AQ.KQJTxx.x.Axxx x.xxxx.Txxxx.Kxx Txxx.Ax.KQJxxx.x - 0.80495',\n",
       " 'KJxxxx.x.A.QJTxx Qxx.AQTxxx.Tx.Ax .KJxxx.Kxxx.xxxx ATxx.x.QJxxxx.Kx - 0.80252',\n",
       " 'KJxxxx.x.A.QJTxx x.AKJxxx.KTxx.Kx Tx.Txxxx.xxx.Axx AQxx.Q.QJxxx.xxx - 0.79120',\n",
       " 'KJxxxx.x.A.QJTxx x.QJTxxx.Qx.AKxx Tx.AKxx.xxxx.xxx AQxx.xx.KJTxxx.x - 0.79102',\n",
       " 'KJxxxx.x.A.QJTxx Qx.AKxxxx.Jxx.Kx x.QJxx.xxx.Axxxx ATxx.Tx.KQTxxx.x - 0.78081',\n",
       " 'KJxxxx.x.A.QJTxx x.AKQTxxxx.Kxx.x xx.xxx.xxx.AKxxx AQTx.J.QJTxxx.xx - 0.78075',\n",
       " 'KJxxxx.x.A.QJTxx QTx.KJxxx.Q.AKxx .ATxxx.Jxxxx.xxx Axxx.Qx.KTxxxx.x - 0.77850',\n",
       " 'KJxxxx.x.A.QJTxx ATx.AKQxxx.Jxx.x x.xxxx.Txx.Axxxx Qxx.JT.KQxxxx.Kx - 0.77810',\n",
       " 'KJxxxx.x.A.QJTxx Qx.AKTxx.xxx.Kxx T.Qxxxx.Jxx.Axxx Axxx.Jx.KQTxxx.x - 0.77784',\n",
       " 'KJxxxx.x.A.QJTxx xx.KQJTxx.x.AKxx Q.xxxx.KJxxx.xxx ATxx.Ax.QTxxxx.x - 0.77382',\n",
       " 'KJxxxx.x.A.QJTxx x.AKQJTxxx.xxx.K A.xxx.Qxxx.xxxxx QTxxx.x.KJTxx.Ax - 0.76714',\n",
       " 'KJxxxx.x.A.QJTxx A.AKQTxxx.Txx.xx xx.Jxx.xxxx.Axxx QTxx.xx.KQJxx.Kx - 0.76663',\n",
       " 'KJxxxx.x.A.QJTxx xx.AKQxxx.xx.AKx .Jxxx.Qxxxx.xxxx AQTxx.Tx.KJTxx.x - 0.76447',\n",
       " 'KJxxxx.x.A.QJTxx A.AKQTxxx.QTx.xx xx.Jxx.xxxx.Kxxx QTxx.xx.KJxxx.Ax - 0.76274',\n",
       " 'KJxxxx.x.A.QJTxx Ax.AQJTxxx.xx.Ax x.xxx.KTxxx.xxxx QTxx.Kx.QJxxx.Kx - 0.76217',\n",
       " 'KJxxxx.x.A.QJTxx Txx.AKTxxx.xx.Ax Ax.xxxx.Txxx.Kxx Qx.QJ.KQJxxx.xxx - 0.76109',\n",
       " 'KJxxxx.x.A.QJTxx x.KTxxxxx.KQx.Ax Tx.AJxx.xxx.Kxxx AQxx.Q.JTxxxx.xx - 0.76075',\n",
       " 'KJxxxx.x.A.QJTxx A.Axxxxx.xxx.Kxx xx.KJTxx.Kxxx.xx QTxx.Q.QJTxx.Axx - 0.75515',\n",
       " 'KJxxxx.x.A.QJTxx T.AKQTxx.QJx.Axx xx.xxxxx.Txxx.Kx AQxx.J.Kxxxx.xxx - 0.75459']"
      ]
     },
     "execution_count": 4,
     "metadata": {},
     "output_type": "execute_result"
    }
   ],
   "source": [
    "bid.samples"
   ]
  },
  {
   "cell_type": "code",
   "execution_count": 5,
   "id": "d7bb325c",
   "metadata": {},
   "outputs": [
    {
     "data": {
      "text/plain": [
       "[{'call': 'PASS',\n",
       "  'insta_score': 1.199,\n",
       "  'adjustment': 0,\n",
       "  'expected_score': -288,\n",
       "  'expected_tricks': 8.9,\n",
       "  'alert': 'False',\n",
       "  'explanation': ' -- 6-!H; 5+!S; 11-20 HCP'}]"
      ]
     },
     "execution_count": 5,
     "metadata": {},
     "output_type": "execute_result"
    }
   ],
   "source": [
    "auction = [\"PAD_START\", \"PAD_START\", \"PASS\", \"PASS\", \"1S\", \"2H\", \"PASS\", \"3D\", \"PASS\", \"3N\" , \"PASS\", \"PASS\"]\n",
    "bid = bot_bid.bid(auction)\n",
    "\n",
    "bid.to_dict()['candidates']"
   ]
  },
  {
   "cell_type": "code",
   "execution_count": 7,
   "id": "7101e514",
   "metadata": {},
   "outputs": [
    {
     "name": "stdout",
     "output_type": "stream",
     "text": [
      "Good quality: 0.8848420595606045\n",
      "KJxxxx.x.A.QJTxx AQx.KTxx.xxxxx.x .Jxxx.KQTx.Axxxx Txxx.AQxx.Jxx.Kx\n",
      "KJxxxx.x.A.QJTxx AQT.Jxxx.JTx.xxx x.Kxxx.KQxx.Axxx xxx.AQTx.xxxxx.K\n",
      "KJxxxx.x.A.QJTxx Axxx.Txx.Qxxx.Ax .AQxx.JTxxx.Kxxx QTx.KJxxx.Kxx.xx\n",
      "KJxxxx.x.A.QJTxx AQxx.Qxx.KJTxx.x T.JTxx.Qxxx.AKxx xx.AKxxx.xxx.xxx\n",
      "KJxxxx.x.A.QJTxx AQx.KTxx.Qxxxx.x x.AQJx.Jxxx.Kxxx Txx.xxxx.KTx.Axx\n",
      "KJxxxx.x.A.QJTxx Axx.Kxxx.KJxx.xx T.AQxx.Qxxx.Axxx Qxx.JTxx.Txxx.Kx\n",
      "KJxxxx.x.A.QJTxx Txx.Kxx.QTxx.Axx x.Axxx.KJxx.Kxxx AQx.QJTxx.xxxx.x\n",
      "KJxxxx.x.A.QJTxx AQT.AJxx.Qxx.xxx .KTxx.KJxxx.Kxxx xxxx.Qxxx.Txxx.A\n",
      "KJxxxx.x.A.QJTxx Qxxx.ATxx.QJxx.A .KJxx.Kxxx.Kxxxx ATx.Qxxx.Txxx.xx\n",
      "KJxxxx.x.A.QJTxx Qxxx.KQxx.JTxx.x x.Axxx.Qxxx.AKxx AT.JTxx.Kxxx.xxx\n",
      "KJxxxx.x.A.QJTxx Axx.AQx.Txxxx.xx x.KTxx.KQJx.Axxx QTx.Jxxxx.xxx.Kx\n",
      "KJxxxx.x.A.QJTxx Axxx.ATxx.xx.Kxx .Qxxx.KQJx.Axxxx QTx.KJxx.Txxxxx.\n",
      "KJxxxx.x.A.QJTxx Qx.KQJxx.xxxx.xx x.ATxx.KTxx.Axxx ATxx.xxx.QJxx.Kx\n",
      "KJxxxx.x.A.QJTxx Axx.Jxxx.QTxx.Ax .ATxx.KJxxx.Kxxx QTxx.KQxx.xxx.xx\n",
      "KJxxxx.x.A.QJTxx AT.Kxxx.Jxxx.Kxx x.AQxx.KTxx.Axxx Qxxx.JTxx.Qxxx.x\n",
      "KJxxxx.x.A.QJTxx Axx.ATxx.Qxxx.xx .KQJx.JTxx.Kxxxx QTxx.xxxx.Kxxx.A\n",
      "KJxxxx.x.A.QJTxx ATx.Jxxx.Jxxxx.x x.AKQx.Txxx.Kxxx Qxx.Txxx.KQx.Axx\n",
      "KJxxxx.x.A.QJTxx Qx.AJx.Kxxx.Kxxx A.Txxx.QTxx.Axxx Txxx.KQxxx.Jxxx.\n",
      "KJxxxx.x.A.QJTxx Txx.KJTxx.Txx.Ax .Axxx.Kxxxx.Kxxx AQxx.Qxx.QJxx.xx\n",
      "KJxxxx.x.A.QJTxx Qxx.KJxx.Qxxxx.K A.QTxx.KTxx.Axxx Txx.Axxx.Jxx.xxx\n",
      "KJxxxx.x.A.QJTxx Ax.Axxxx.Txxxx.x x.KQTx.KQxx.Kxxx QTxx.Jxx.Jxx.Axx\n",
      "KJxxxx.x.A.QJTxx Tx.ATxx.xxxxx.AK A.KJxx.Qxxx.xxxx Qxxx.Qxxx.KJT.xx\n",
      "KJxxxx.x.A.QJTxx Ax.Kxxx.xxxx.xxx x.QJxx.Qxxx.AKxx QTxx.ATxx.KJTx.x\n",
      "KJxxxx.x.A.QJTxx Qxx.KTxxx.Txx.Kx A.Jxxx.KQxx.Axxx Txx.AQx.Jxxxx.xx\n",
      "KJxxxx.x.A.QJTxx Txxx.ATxx.Kxx.xx .KJxx.QTxxx.AKxx AQx.Qxxx.Jxxx.xx\n",
      "KJxxxx.x.A.QJTxx QTxx.Kxx.Txx.Kxx A.Qxxx.KJxx.Axxx xx.AJTxx.Qxxxx.x\n",
      "KJxxxx.x.A.QJTxx ATx.KJx.Qxx.Kxxx .AQxx.KTxxx.Axxx Qxxx.Txxxx.Jxxx.\n",
      "KJxxxx.x.A.QJTxx Axxx.KJTx.Jxx.xx Q.AQxx.KTxx.Kxxx Tx.xxxx.Qxxxx.Ax\n",
      "KJxxxx.x.A.QJTxx Txx.AKQx.xxx.xxx .xxxx.KQTxx.AKxx AQxx.JTxx.Jxxx.x\n",
      "KJxxxx.x.A.QJTxx Qxx.KJx.xxx.Kxxx x.QTxx.KQxx.Axxx ATx.Axxxx.JTxxx.\n",
      "KJxxxx.x.A.QJTxx AQxxx.Txx.Tx.xxx x.Axxx.KJxx.AKxx T.KQJxx.Qxxxxx.x\n",
      "KJxxxx.x.A.QJTxx Axxx.Kxxx.xx.Kxx .AQxx.KJxxx.Axxx QTx.JTxx.QTxxx.x\n",
      "KJxxxx.x.A.QJTxx Txxx.Axx.KTx.xxx A.Qxxx.Qxxx.AKxx Qx.KJTxx.Jxxxx.x\n",
      "KJxxxx.x.A.QJTxx QTxx.AKTx.Jx.xxx .Qxxx.KQxxx.AKxx Axx.Jxxx.Txxxx.x\n",
      "KJxxxx.x.A.QJTxx Axx.AJxxx.xxx.xx .KTxx.QTxxx.AKxx QTxx.Qxx.KJxx.xx\n",
      "KJxxxx.x.A.QJTxx Txxx.KQTxx.Kxxx. A.AJxx.Jxxx.Axxx Qx.xxx.QTxx.Kxxx\n",
      "KJxxxx.x.A.QJTxx QTxx.KJxx.xx.Kxx x.ATxx.KTxx.Axxx Ax.Qxxx.QJxxxx.x\n",
      "KJxxxx.x.A.QJTxx Txx.QTxx.KQTxx.x .Axxx.xxxx.AKxxx AQxx.KJxx.Jxx.xx\n",
      "KJxxxx.x.A.QJTxx AT.ATxx.xxxx.xxx Q.KQxx.KQxx.Kxxx xxxx.Jxxx.JTxx.A\n",
      "KJxxxx.x.A.QJTxx QTx.AJTx.xxx.xxx .KQxx.KTxxx.AKxx Axxx.xxxx.QJxx.x\n",
      "KJxxxx.x.A.QJTxx xxx.AJxx.KQJx.Kx A.KTxx.xxxx.Axxx QTx.Qxxx.Txxx.xx\n",
      "KJxxxx.x.A.QJTxx ATx.QTx.JTxxx.xx .AKJx.Qxxx.AKxxx Qxxx.xxxxx.Kxx.x\n",
      "KJxxxx.x.A.QJTxx QTxx.AQxxx.Txx.x .KJxx.KJxxx.AKxx Axx.Txx.Qxxx.xxx\n",
      "KJxxxx.x.A.QJTxx Ax.Axx.Qxxxx.xxx x.QTxx.JTxx.AKxx QTxx.KJxxx.Kxx.x\n",
      "KJxxxx.x.A.QJTxx xx.Jxxx.QJxxx.Ax Q.AKxx.KTxx.Kxxx ATxx.QTxx.xxx.xx\n",
      "KJxxxx.x.A.QJTxx AQxx.KQxx.QJxxx. .Axxx.Kxxxx.Kxxx Txx.JTxx.Tx.Axxx\n",
      "KJxxxx.x.A.QJTxx xxxx.Axxx.xxx.xx T.KQJx.KQJx.Axxx AQ.Txxx.Txxxx.Kx\n",
      "KJxxxx.x.A.QJTxx Axxx.xxx.QJxx.Ax x.QJxx.KTxx.Kxxx QT.AKTxx.xxxx.xx\n",
      "KJxxxx.x.A.QJTxx Qxxx.Axx.Jxxxx.x .KJTx.KQxxx.Kxxx ATx.Qxxxx.Tx.Axx\n",
      "KJxxxx.x.A.QJTxx xx.KJxxxx.xx.Kxx A.ATxx.Kxxx.Axxx QTxx.Qx.QJTxxx.x\n",
      "KJxxxx.x.A.QJTxx Axx.Qxxx.JTxx.xx T.AKxx.Qxxx.AKxx Qxx.JTxx.Kxxx.xx\n",
      "KJxxxx.x.A.QJTxx xx.Jxxx.KQTxx.Ax A.ATxx.Jxx.Kxxxx QTxx.KQxx.xxxx.x\n",
      "KJxxxx.x.A.QJTxx Txx.AQxxx.Txxx.x .KJxx.KQxxx.AKxx AQxx.Txx.Jxx.xxx\n",
      "KJxxxx.x.A.QJTxx xxxx.KJxx.KQx.xx T.AQxx.Jxxxx.Kxx AQ.Txxx.Txxx.Axx\n",
      "KJxxxx.x.A.QJTxx AQTx.Txx.Txxx.Ax x.AQxx.Qxxxx.Kxx xx.KJxxx.KJx.xxx\n",
      "KJxxxx.x.A.QJTxx Txx.KQxx.xxxxx.x .AJxx.KQJx.AKxxx AQxx.Txxx.Txx.xx\n",
      "KJxxxx.x.A.QJTxx Qxxx.ATx.Txxxx.x A.KQxx.QJxx.Axxx Tx.Jxxxx.Kxx.Kxx\n",
      "KJxxxx.x.A.QJTxx QTxx.Jxxxx.Kxx.x A.KQTx.QJxx.Axxx xx.Axx.Txxxx.Kxx\n",
      "KJxxxx.x.A.QJTxx xxxx.KJx.Jxx.Axx .Axxx.KTxxx.Kxxx AQT.QTxxx.Qxxx.x\n",
      "KJxxxx.x.A.QJTxx QTxx.xxx.KQxxx.A x.AJxx.Jxxx.Kxxx Ax.KQTxx.Txx.xxx\n",
      "KJxxxx.x.A.QJTxx AQx.Axx.xxxx.Kxx x.Txxx.KQJTx.Axx Txx.KQJxx.xxx.xx\n",
      "KJxxxx.x.A.QJTxx Axx.AJxxx.Jxx.xx T.KQxx.KQTx.Kxxx Qxx.Txx.xxxxx.Ax\n",
      "KJxxxx.x.A.QJTxx AQxx.AJxx.QTx.xx x.Qxxx.Kxxxx.AKx Tx.KTxx.Jxxx.xxx\n",
      "KJxxxx.x.A.QJTxx Qx.AQxx.Jxxxx.xx A.KTxx.QTxx.AKxx Txxx.Jxxx.Kxx.xx\n",
      "KJxxxx.x.A.QJTxx QTxxx.AJxx.Txxx. A.KTxx.Qxxx.AKxx x.Qxxx.KJxx.xxxx\n",
      "KJxxxx.x.A.QJTxx ATxx.xxxx.Jxx.xx x.AKQT.KTxx.Axxx Qx.Jxxx.Qxxxx.Kx\n",
      "KJxxxx.x.A.QJTxx xxxx.AKxx.Txx.xx A.QJTx.Jxxxx.Kxx QT.xxxx.KQxx.Axx\n",
      "KJxxxx.x.A.QJTxx Axx.Axxx.xxxx.xx x.QTxx.KQJxx.Axx QTx.KJxx.Txx.Kxx\n",
      "KJxxxx.x.A.QJTxx Txx.ATxx.Kxxx.xx A.QJxx.Qxxxx.Kxx Qxx.Kxxx.JTx.Axx\n",
      "KJxxxx.x.A.QJTxx QTx.Axxx.KQx.xxx x.KQTx.Jxxxx.AKx Axx.Jxxx.Txxx.xx\n",
      "KJxxxx.x.A.QJTxx Qxxx.JTxx.KTx.Ax T.KQxx.Jxxx.Kxxx Ax.Axxx.Qxxxx.xx\n",
      "KJxxxx.x.A.QJTxx AQx.Txxx.xxx.AKx x.AQxx.KQxxx.xxx Txx.KJxx.JTxx.xx\n",
      "KJxxxx.x.A.QJTxx AQx.QTxx.xx.xxxx x.Axxx.Qxxxx.AKx Txx.KJxx.KJTxx.x\n",
      "KJxxxx.x.A.QJTxx ATx.Qxxx.Txxx.xx x.KJTx.KQJ.Kxxxx Qxx.Axxx.xxxxx.A\n",
      "KJxxxx.x.A.QJTxx Axxx.KQxx.Jxx.xx .AJTx.KQxxx.AKxx QTx.xxxx.Txxx.xx\n",
      "KJxxxx.x.A.QJTxx AQx.KQx.Txxxx.xx x.Axxx.KQJxx.Kxx Txx.JTxxx.xx.Axx\n",
      "KJxxxx.x.A.QJTxx ATx.AKxx.xxxx.xx x.QTxx.KQTxx.AKx Qxx.Jxxx.Jxx.xxx\n",
      "KJxxxx.x.A.QJTxx ATx.Axxx.Txxxx.x Q.JTxx.KJx.Kxxxx xxx.KQxx.Qxxx.Ax\n",
      "KJxxxx.x.A.QJTxx Ax.xxxx.JTxxx.xx T.AJTx.Qxx.AKxxx Qxxx.KQxx.Kxxx.x\n",
      "KJxxxx.x.A.QJTxx Axx.AQTxx.Tx.xxx .Kxxx.KJxxx.AKxx QTxx.Jxx.Qxxxx.x\n",
      "KJxxxx.x.A.QJTxx Qxxx.KQTxx.xx.xx x.AJxx.KQJxx.Kxx AT.xxx.Txxxx.Axx\n",
      "KJxxxx.x.A.QJTxx QTx.Jxx.Kxxxx.xx x.Axxx.QJxxx.AKx Axx.KQTxx.Tx.xxx\n",
      "KJxxxx.x.A.QJTxx AQxx.Jxxx.KQx.xx x.AKxx.Jxxxx.Axx Tx.QTxx.Txxx.Kxx\n",
      "KJxxxx.x.A.QJTxx xxxx.AKTx.xxxx.x A.QJxx.QJxx.AKxx QT.xxxx.KTxx.xxx\n",
      "KJxxxx.x.A.QJTxx xxx.Axxx.Qxx.Axx Q.KQxx.Kxxxx.Kxx ATx.JTxx.JTxx.xx\n",
      "KJxxxx.x.A.QJTxx Tx.QJx.Txxxx.AKx Q.Axxx.KQxxx.xxx Axxx.KTxxx.Jx.xx\n",
      "KJxxxx.x.A.QJTxx Ax.Qxxx.Jxx.Axxx Q.AKTx.Txxxx.Kxx Txxx.Jxxx.KQxx.x\n",
      "KJxxxx.x.A.QJTxx xxx.KQTxx.Qxxx.x x.Axxx.KTx.AKxxx AQT.Jxx.Jxxxx.xx\n",
      "KJxxxx.x.A.QJTxx xxx.Kxxx.Qxxxx.x x.AQxx.KJxx.AKxx AQT.JTxx.Txx.xxx\n",
      "KJxxxx.x.A.QJTxx Tx.KJTxxx.xx.Kxx x.Axxx.KJxxx.Axx AQxx.Qx.QTxxx.xx\n",
      "KJxxxx.x.A.QJTxx AQTxx.Txxx.xxx.x x.KJxx.KQJxx.Axx x.AQxx.Txxx.Kxxx\n",
      "KJxxxx.x.A.QJTxx QT.xxxx.JTxxx.xx x.AQJx.Kxxx.AKxx Axxx.KTxx.Qxx.xx\n",
      "KJxxxx.x.A.QJTxx Txx.KQxx.xx.Kxxx A.xxxx.QJTxx.Axx Qxx.AJTx.Kxxxx.x\n",
      "KJxxxx.x.A.QJTxx Tx.Kxxxx.Qxxx.Ax A.AQTx.KTxx.Kxxx Qxxx.Jxx.Jxxx.xx\n",
      "KJxxxx.x.A.QJTxx Axxx.Kxxx.Jxx.Kx x.ATxx.KQxxx.Axx QT.QJxx.Txxx.xxx\n",
      "KJxxxx.x.A.QJTxx xxx.KJxx.Txxxx.x x.ATxx.KQJx.AKxx AQT.Qxxx.xxx.xxx\n",
      "KJxxxx.x.A.QJTxx QTxx.Axxx.xxx.xx x.Qxxx.KQJTx.AKx Ax.KJTx.xxxx.xxx\n",
      "KJxxxx.x.A.QJTxx xx.KQxxx.xxx.Axx A.Jxxx.KJTxx.Kxx QTxx.ATx.Qxxx.xx\n",
      "KJxxxx.x.A.QJTxx A.AQxx.xxxxx.xxx x.Jxxx.KQx.AKxxx QTxxx.KTxx.JTxx.\n",
      "KJxxxx.x.A.QJTxx xx.Txxxx.Jxxx.Kx A.KJxx.Qxxx.Axxx QTxx.AQx.KTxx.xx\n",
      "KJxxxx.x.A.QJTxx ATxx.KQx.JTxx.xx x.AJxx.KQxxx.Axx Qx.Txxxx.xxx.Kxx\n",
      "KJxxxx.x.A.QJTxx Qx.AJTxx.Txx.xxx x.Qxxx.KQJxx.AKx ATxx.Kxx.xxxx.xx\n",
      "KJxxxx.x.A.QJTxx Axxx.Ax.xxxxx.xx T.KQJx.KQx.Kxxxx Qx.Txxxxx.JTxx.A\n",
      "KJxxxx.x.A.QJTxx ATx.AQJxx.Txx.xx x.KTxx.Kxxx.AKxx Qxx.xxx.QJxxx.xx\n",
      "KJxxxx.x.A.QJTxx Axx.Qxxx.xxx.Axx x.AKJx.KQJx.Kxxx QTx.Txxx.Txxxx.x\n",
      "KJxxxx.x.A.QJTxx AQTx.Qxxx.xx.Axx x.AKJx.KQJxx.xxx xx.Txxx.Txxxx.Kx\n",
      "KJxxxx.x.A.QJTxx Qxx.Txx.QJxx.Axx A.KJxx.Kxxxx.Kxx Txx.AQxxx.Txx.xx\n",
      "KJxxxx.x.A.QJTxx Qx.AQTxxx.Jxx.xx x.KJxx.KTxx.Axxx ATxx.xx.Qxxxx.Kx\n",
      "KJxxxx.x.A.QJTxx Qx.Qxxxxx.Kxxxx. A.KJTx.Qxxx.AKxx Txxx.Ax.JTx.xxxx\n",
      "KJxxxx.x.A.QJTxx ATx.xxxxx.xxx.xx Q.QJTx.KQxxx.Axx xxx.AKx.JTxx.Kxx\n",
      "KJxxxx.x.A.QJTxx xx.KJxxx.Jxxxxx. A.ATxx.Qxxx.AKxx QTxx.Qxx.KT.xxxx\n",
      "KJxxxx.x.A.QJTxx Qx.xxxx.Txxx.Kxx A.AJxx.Jxxxx.Axx Txxx.KQTx.KQx.xx\n",
      "KJxxxx.x.A.QJTxx Axx.Kxx.QTxxxx.x Q.Jxxx.Kxx.Axxxx Txx.AQTxx.Jxx.Kx\n",
      "KJxxxx.x.A.QJTxx xxx.KTxx.Qxx.Kxx Q.AJxx.KTxxx.Axx ATx.Qxxx.Jxxx.xx\n",
      "KJxxxx.x.A.QJTxx Txx.AQTxx.Jxx.xx A.Kxxx.Kxxx.AKxx Qxx.Jxx.QTxxx.xx\n",
      "KJxxxx.x.A.QJTxx AQx.KJxxx.KT.xxx x.AQxx.xxxxx.Axx Txx.Txx.QJxxx.Kx\n",
      "KJxxxx.x.A.QJTxx ATx.AJx.Jxxx.xxx x.KQTx.Kxx.AKxxx Qxx.xxxxx.QTxxx.\n",
      "KJxxxx.x.A.QJTxx Qxx.Txxxx.JTx.Ax x.AKxx.KQxxx.Kxx ATx.QJx.xxxx.xxx\n",
      "KJxxxx.x.A.QJTxx QTxx.KTxx.Qxx.Kx A.AQxx.Kxxx.Axxx xx.Jxxx.JTxxx.xx\n",
      "KJxxxx.x.A.QJTxx Axx.Txx.Txxx.Kxx x.AKQx.Qxxxx.Axx QTx.Jxxxx.KJx.xx\n",
      "KJxxxx.x.A.QJTxx ATxx.Qxx.KQTx.Kx Q.AKxx.xxxx.xxxx xx.JTxxx.Jxxx.Ax\n",
      "KJxxxx.x.A.QJTxx AQTxx.Kxx.Kxx.xx x.AQTx.QJxxx.Kxx x.Jxxxx.Txxx.Axx\n",
      "KJxxxx.x.A.QJTxx ATx.KQJxx.xxx.Kx x.Axxx.QTxxx.Axx Qxx.Txx.KJxx.xxx\n",
      "KJxxxx.x.A.QJTxx xxx.KQx.Jxxx.Axx Q.AJxx.KQxxx.Kxx ATx.Txxxx.Txx.xx\n",
      "KJxxxx.x.A.QJTxx Ax.KQTxx.xx.xxxx x.xxxx.KTxxx.AKx QTxx.AJx.QJxxx.x\n",
      "KJxxxx.x.A.QJTxx xxx.Jx.KJxxx.Kxx .AKxx.QTxx.Axxxx AQTx.QTxxxx.xxx.\n",
      "KJxxxx.x.A.QJTxx Axx.QTxxxx.xxx.K x.KJxx.KQxx.Axxx QTx.Ax.JTxxx.xxx\n",
      "KJxxxx.x.A.QJTxx Ax.Axxx.JTxx.xxx T.QTxx.Kxxxx.Axx Qxxx.KJxx.Qxx.Kx\n",
      "KJxxxx.x.A.QJTxx QTx.Axxx.KQxx.xx x.JTxx.Jxxxx.AKx Axx.KQxx.Txx.xxx\n",
      "KJxxxx.x.A.QJTxx Tx.AJxxx.xxxx.xx A.KQTx.KQJTx.xxx Qxxx.xxx.xxx.AKx\n",
      "KJxxxx.x.A.QJTxx Qxx.AKQxx.Jxx.xx x.Jxxx.KQTxx.Axx ATx.Txx.xxxx.Kxx\n",
      "KJxxxx.x.A.QJTxx Tx.QJxxx.xxxx.Ax A.AKxx.KTxx.Kxxx Qxxx.Txx.QJxx.xx\n",
      "KJxxxx.x.A.QJTxx AQx.QJTxx.QTx.Kx x.AKxx.Kxx.Axxxx Txx.xxx.Jxxxxx.x\n",
      "KJxxxx.x.A.QJTxx Ax.QTxxx.KTxxx.x x.Kxxx.Jxx.AKxxx QTxx.AJx.Qxxx.xx\n",
      "KJxxxx.x.A.QJTxx Qx.KQJxx.xxx.Kxx A.Txxx.KQxx.Axxx Txxx.Axx.JTxxx.x\n",
      "KJxxxx.x.A.QJTxx AQxx.Qxx.Qx.Kxxx T.JTxx.KJxxx.Axx xx.AKxxx.Txxxx.x\n",
      "KJxxxx.x.A.QJTxx Qxx.Kxxxx.Jxxx.x A.AJTx.QTxxx.Axx Txx.Qxx.Kxx.Kxxx\n",
      "KJxxxx.x.A.QJTxx xxx.Qxxx.xx.Axxx A.AKTx.Jxxxx.Kxx QTx.Jxxx.KQTxx.x\n",
      "KJxxxx.x.A.QJTxx Qx.AKTxx.Jxx.xxx x.Jxxx.QTxxx.AKx ATxx.Qxx.Kxxx.xx\n",
      "KJxxxx.x.A.QJTxx AQTxx.Qx.Txxxx.x .AKxx.KQxxx.AKxx xx.JTxxxx.Jx.xxx\n",
      "KJxxxx.x.A.QJTxx AQx.QJTxxx.xxxx. x.AKxx.KQTx.Axxx Txx.xx.Jxxx.Kxxx\n",
      "KJxxxx.x.A.QJTxx Qxx.KQxx.xxx.Kxx x.Axxx.KQTxx.xxx ATx.JTxx.Jxxx.Ax\n",
      "KJxxxx.x.A.QJTxx AQTxx.QJx.QTxx.x .Axxx.Kxxx.Axxxx xx.KTxxx.Jxxx.Kx\n",
      "KJxxxx.x.A.QJTxx AQxxx.Axx.JTxx.K .Qxxx.KQxxx.Axxx Tx.KJTxx.xxx.xxx\n",
      "KJxxxx.x.A.QJTxx Axxx.Txxxx.KQTx. Q.KQxx.xxx.AKxxx Tx.AJx.Jxxxx.xxx\n",
      "KJxxxx.x.A.QJTxx Tx.Jxxxx.Txx.AKx A.KQxx.Jxxxx.xxx Qxxx.ATx.KQxx.xx\n",
      "KJxxxx.x.A.QJTxx AQx.Txx.KTxxxx.x x.AKxx.Qxxxx.Axx Txx.QJxxx.J.Kxxx\n",
      "KJxxxx.x.A.QJTxx AQTxx.Axx.Txxx.A .Jxxx.KQJx.Kxxxx xx.KQTxx.xxxx.xx\n",
      "KJxxxx.x.A.QJTxx Qx.AQTxx.QJx.Kxx .KJxx.Kxxxx.Axxx ATxxx.xxx.Txxx.x\n",
      "KJxxxx.x.A.QJTxx AQxx.Qxxx.xx.Axx T.AKJT.KQxxx.Kxx xx.xxxx.JTxxx.xx\n",
      "KJxxxx.x.A.QJTxx Qxx.AJxx.JTx.Axx A.xxxx.Qxxxx.Kxx Txx.KQTx.Kxxx.xx\n",
      "KJxxxx.x.A.QJTxx Tx.QJTxx.KJxx.xx x.AKxx.QTxxx.AKx AQxx.xxx.xxx.xxx\n",
      "KJxxxx.x.A.QJTxx Qxx.AKJTx.JTxx.x x.Qxxx.KQxx.AKxx ATx.xxx.xxxx.xxx\n",
      "KJxxxx.x.A.QJTxx ATx.AQTxx.Txxx.K .Kxxx.KQxx.Axxxx Qxxx.Jxx.Jxxx.xx\n",
      "KJxxxx.x.A.QJTxx Qxx.AQx.KQxxx.xx A.KJxx.Jxxxx.AKx Txx.Txxxx.Tx.xxx\n",
      "KJxxxx.x.A.QJTxx Ax.QJxxx.Txxxx.x Q.ATxx.Qxx.AKxxx Txxx.Kxx.KJxx.xx\n",
      "KJxxxx.x.A.QJTxx Tx.JTxxx.QTxxx.x A.AQxx.Jxxx.AKxx Qxxx.Kxx.Kxx.xxx\n",
      "KJxxxx.x.A.QJTxx AQxxx.KJxx.QTx.x T.QTxx.Jxxx.AKxx x.Axxx.Kxxxx.xxx\n",
      "KJxxxx.x.A.QJTxx AQ.AQJxx.xxxx.Kx .Kxxx.KTxx.Axxxx Txxxx.Txx.QJxx.x\n",
      "KJxxxx.x.A.QJTxx Axx.KQTxx.Qxxxx. .xxxx.KTxx.AKxxx QTxx.AJx.Jxx.xxx\n",
      "KJxxxx.x.A.QJTxx AQx.ATxxxx.Qxxx. x.KQxx.Jxxx.AKxx Txx.Jx.KTxx.xxxx\n",
      "KJxxxx.x.A.QJTxx AQxx.KJTxx.Tx.Kx .Axxx.KJxx.Axxxx Txx.Qxx.Qxxxxx.x\n",
      "KJxxxx.x.A.QJTxx Ax.Axxx.Qx.Axxxx Q.KTxx.JTxxx.Kxx Txxx.QJxx.Kxxxx.\n",
      "KJxxxx.x.A.QJTxx AQT.QJxx.QJxx.Ax x.AKxx.xxxx.Kxxx xxx.Txxx.KTxx.xx\n",
      "KJxxxx.x.A.QJTxx Axxx.Qxxx.xxx.xx Q.ATxx.QJxxx.AKx Tx.KJxx.KTxx.xxx\n",
      "KJxxxx.x.A.QJTxx AQx.KTxxx.KJxx.x x.Axxx.xxx.AKxxx Txx.QJx.QTxxx.xx\n",
      "KJxxxx.x.A.QJTxx xxx.Kxxx.xxxx.xx A.AQTx.KJTx.Axxx QTx.Jxxx.Qxxx.Kx\n",
      "KJxxxx.x.A.QJTxx Txxx.ATxx.KQT.xx .KQJx.Jxxxxx.AKx AQx.xxxx.xxx.xxx\n",
      "KJxxxx.x.A.QJTxx Txx.AJTxx.Qxx.Kx x.KQxx.KJTxx.xxx AQx.xxx.xxxx.Axx\n",
      "KJxxxx.x.A.QJTxx Txx.KJxxx.Qxx.xx Q.AQxx.KJTxx.Axx Axx.Txx.xxxx.Kxx\n",
      "KJxxxx.x.A.QJTxx Qxx.AQxxx.Qxxxx. A.KJTx.KJxx.Axxx Txx.xxx.Txx.Kxxx\n",
      "KJxxxx.x.A.QJTxx AQxx.ATxxx.QJxx. x.KQJx.xxx.AKxxx Tx.xxx.KTxxx.xxx\n",
      "KJxxxx.x.A.QJTxx ATx.ATxx.Jxx.xxx x.KQxx.KQxxx.AKx Qxx.Jxxx.Txxx.xx\n",
      "KJxxxx.x.A.QJTxx AQxx.QJxxx.Qxx.x x.Axxx.Kxxxx.Kxx Tx.KTx.JTxx.Axxx\n",
      "KJxxxx.x.A.QJTxx QTx.Qxxx.xxx.Axx A.AKTx.KJTx.Kxxx xxx.Jxxx.Qxxxx.x\n",
      "KJxxxx.x.A.QJTxx Txxx.xxx.KQxx.xx x.AKQx.JTxxx.AKx AQ.JTxxx.xxx.xxx\n",
      "KJxxxx.x.A.QJTxx QTxx.xx.JTxxx.Ax A.AKQx.KQxx.xxxx xx.JTxxxx.xxx.Kx\n",
      "KJxxxx.x.A.QJTxx AQxx.JTx.KQTx.Ax x.AKxx.Jxxxx.Kxx Tx.Qxxxx.xxx.xxx\n",
      "KJxxxx.x.A.QJTxx Q.KJxxx.Jxxx.Kxx A.QTxx.Txxx.Axxx Txxxx.Axx.KQxx.x\n",
      "KJxxxx.x.A.QJTxx Qxxx.QTx.Qxx.Kxx A.AKxx.Jxxxx.Axx Tx.Jxxxx.KTxx.xx\n",
      "KJxxxx.x.A.QJTxx AQx.Jxxx.Kxx.xxx .AKQT.JTxxxx.Kxx Txxx.xxxx.Qxx.Ax\n",
      "KJxxxx.x.A.QJTxx AQxxx.AJxx.Qx.xx T.KQxx.KJxxx.Axx x.Txxx.Txxxx.Kxx\n",
      "KJxxxx.x.A.QJTxx Ax.QTxx.Txxx.xxx T.AKJx.KQxxx.Axx Qxxx.xxxx.Jxx.Kx\n",
      "KJxxxx.x.A.QJTxx Qxx.Qxxxx.xxx.Kx A.AKxx.KQTxx.xxx Txx.JTx.Jxxx.Axx\n",
      "KJxxxx.x.A.QJTxx Qxxx.Qxxxx.Qxx.x .KTxx.KJxxxx.AKx ATx.AJx.Txx.xxxx\n",
      "KJxxxx.x.A.QJTxx Qxxx.xxxx.xx.xxx T.AKQT.KJTxx.Axx Ax.Jxxx.Qxxxx.Kx\n",
      "KJxxxx.x.A.QJTxx QTx.AQxxx.xx.xxx A.Jxxx.KQxxx.AKx xxx.KTx.JTxxx.xx\n",
      "KJxxxx.x.A.QJTxx QTx.Qxxx.xxxx.Ax .AKxx.QJTxxx.Kxx Axxx.JTxx.Kx.xxx\n",
      "KJxxxx.x.A.QJTxx AQTx.Jxx.Kxxx.xx .ATxx.QJTxxx.Axx xxx.KQxxx.xx.Kxx\n",
      "KJxxxx.x.A.QJTxx Qx.KQJxx.QJ.Kxxx A.ATxx.Txxxx.Axx Txxx.xxx.Kxxxx.x\n",
      "KJxxxx.x.A.QJTxx Axx.Qxxx.KQxx.xx .AJTx.JTxxxx.Axx QTxx.Kxxx.xx.Kxx\n",
      "KJxxxx.x.A.QJTxx x.Txx.QTxxxx.Axx .AKxx.Kxxx.Kxxxx AQTxxx.QJxxx.Jx.\n",
      "KJxxxx.x.A.QJTxx xxx.AK.Jxx.xxxxx .QJxx.Kxxxxx.AKx AQTx.Txxxxx.QTx.\n",
      "KJxxxx.x.A.QJTxx ATxx.ATxxx.xx.xx .KJxx.KJTxxx.Kxx Qxx.Qxx.Qxxx.Axx\n",
      "KJxxxx.x.A.QJTxx AQxxx.xxx.Qxx.xx .AKTx.KJxxxx.Kxx Tx.QJxxx.Txx.Axx\n",
      "KJxxxx.x.A.QJTxx Ax.xx.QJxxx.Axxx T.AKxx.Kxxxx.Kxx Qxxx.QJTxxx.Tx.x\n",
      "KJxxxx.x.A.QJTxx xx.Qxx.KQTxx.xxx A.KJTx.Jxxxx.Kxx QTxx.Axxxx.xx.Ax\n",
      "KJxxxx.x.A.QJTxx xxx.Axxx.Txx.Kxx .KTxx.KQxxxx.Axx AQTx.QJxx.Jxx.xx\n",
      "KJxxxx.x.A.QJTxx xxx.JTxxx.Txx.Kx A.AQxx.QJxxx.Axx QTx.Kxx.Kxxx.xxx\n",
      "KJxxxx.x.A.QJTxx Txx.AQTxx.xxxx.K A.KJxx.KJx.Axxxx Qxx.xxx.QTxxx.xx\n"
     ]
    }
   ],
   "source": [
    "# we got some samples above. if we want more, we can always get more\n",
    "\n",
    "sample_hands, sorted_score, p_hcp, p_shp, good_quality = bot_bid.sample_hands_for_auction([\"PAD_START\", \"PAD_START\", \"PAD_START\", \"PASS\", \"1N\", \"PASS\", \"3S\",\"PASS\"],0)\n",
    "print(\"Good quality:\", good_quality)\n",
    "for i in range(sample_hands.shape[0]):\n",
    "    print(f'{hand_to_str(sample_hands[i, 0, :], models.n_cards_bidding)} {hand_to_str(sample_hands[i, 1, :], models.n_cards_bidding)} {hand_to_str(sample_hands[i, 2, :], models.n_cards_bidding)} {hand_to_str(sample_hands[i, 3, :], models.n_cards_bidding)}')"
   ]
  }
 ],
 "metadata": {
  "kernelspec": {
   "display_name": "Python 3",
   "language": "python",
   "name": "python3"
  },
  "language_info": {
   "codemirror_mode": {
    "name": "ipython",
    "version": 3
   },
   "file_extension": ".py",
   "mimetype": "text/x-python",
   "name": "python",
   "nbconvert_exporter": "python",
   "pygments_lexer": "ipython3",
   "version": "3.12.3"
  }
 },
 "nbformat": 4,
 "nbformat_minor": 5
}
