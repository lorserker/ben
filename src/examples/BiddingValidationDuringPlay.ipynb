{
 "cells": [
  {
   "cell_type": "markdown",
   "id": "75d07246",
   "metadata": {},
   "source": [
    "# Bidding validation during play\n",
    "\n",
    "When playing the samples are matched against bidding. This is an example of how this is done"
   ]
  },
  {
   "cell_type": "code",
   "execution_count": 1,
   "id": "59a5664c",
   "metadata": {},
   "outputs": [
    {
     "name": "stderr",
     "output_type": "stream",
     "text": [
      "Loading config file d:\\GitHub\\ben\\src\\./config/default.conf\n",
      "Loading config file d:\\GitHub\\ben\\src\\./config/default.conf\n"
     ]
    }
   ],
   "source": [
    "import os\n",
    "os.chdir('..')\n",
    "\n",
    "import os\n",
    "import logging\n",
    "\n",
    "# Set logging level to suppress warnings\n",
    "logging.getLogger().setLevel(logging.ERROR)\n",
    "# Just disables the warnings\n",
    "os.environ['TF_CPP_MIN_LOG_LEVEL'] = '2'\n",
    "from nn.models_tf2 import Models\n",
    "from botbidder import BotBid\n",
    "from bidding import bidding\n",
    "from util import hand_to_str\n",
    "from deck52 import random_deal\n",
    "from sample import Sample\n",
    "import conf\n",
    "import numpy as np\n",
    "from binary import parse_hand_f\n",
    "\n",
    "np.set_printoptions(precision=2, suppress=True, linewidth=200)\n",
    "np.random.seed(42)\n",
    "\n",
    "models = Models.from_conf(conf.load('./config/default.conf'),'..')   # loading neural networks\n",
    "sampler = Sample.from_conf(conf.load('./config/default.conf'), False)  # Load sampling strategies\n"
   ]
  },
  {
   "cell_type": "code",
   "execution_count": 2,
   "id": "44786d5d",
   "metadata": {},
   "outputs": [
    {
     "name": "stdout",
     "output_type": "stream",
     "text": [
      "[1.]\n"
     ]
    }
   ],
   "source": [
    "auction = ['PAD_START', 'PAD_START', 'PASS', '1N', 'PASS', 'PASS', 'PASS']\n",
    "\n",
    "hand_str_list = [\n",
    "    \"J9x.Axxx.AKxx.AT\"\n",
    "]\n",
    "\n",
    "hands = np.array([parse_hand_f(32)(hand_str).reshape(32) for hand_str in hand_str_list])\n",
    "\n",
    "hand_no = 3\n",
    "dealer = 0\n",
    "scores = sampler.get_bid_scores(hand_no,dealer,auction,[True, False],hands, models)\n",
    "print(scores)"
   ]
  },
  {
   "cell_type": "code",
   "execution_count": 3,
   "id": "5d7ac78f",
   "metadata": {},
   "outputs": [
    {
     "name": "stdout",
     "output_type": "stream",
     "text": [
      "[0.95]\n"
     ]
    }
   ],
   "source": [
    "hand_str = \"8.9xx.9x.KT8xxxx\"\n",
    "hand = parse_hand_f(32)(hand_str).reshape(32)\n",
    "hands = np.array([hand])\n",
    "hand_no = 0\n",
    "scores = sampler.get_bid_scores(hand_no,dealer,auction,[False, True],hands, models)\n",
    "print(scores)"
   ]
  },
  {
   "cell_type": "code",
   "execution_count": 4,
   "id": "44f5dbc0",
   "metadata": {},
   "outputs": [
    {
     "name": "stdout",
     "output_type": "stream",
     "text": [
      "[0.]\n"
     ]
    }
   ],
   "source": [
    "hand_str = \"A9x.AK.T8xx.Q9xx\"\n",
    "hand = parse_hand_f(32)(hand_str).reshape(32)\n",
    "hands = np.array([hand])\n",
    "hand_no = 2\n",
    "scores = sampler.get_bid_scores(hand_no,dealer,auction,[True, True],hands, models)\n",
    "print(scores)"
   ]
  },
  {
   "cell_type": "code",
   "execution_count": 5,
   "metadata": {},
   "outputs": [
    {
     "name": "stdout",
     "output_type": "stream",
     "text": [
      "[0.]\n"
     ]
    }
   ],
   "source": [
    "hand_str = \"KTxx.J9xx.Qx.AKx\"\n",
    "hand = parse_hand_f(32)(hand_str).reshape(32)\n",
    "hands = np.array([hand])\n",
    "hand_no = 3\n",
    "scores = sampler.get_bid_scores(hand_no,dealer,auction,[True, True],hands, models)\n",
    "print(scores)"
   ]
  }
 ],
 "metadata": {
  "kernelspec": {
   "display_name": "Python 3",
   "language": "python",
   "name": "python3"
  },
  "language_info": {
   "codemirror_mode": {
    "name": "ipython",
    "version": 3
   },
   "file_extension": ".py",
   "mimetype": "text/x-python",
   "name": "python",
   "nbconvert_exporter": "python",
   "pygments_lexer": "ipython3",
   "version": "3.12.3"
  }
 },
 "nbformat": 4,
 "nbformat_minor": 5
}
