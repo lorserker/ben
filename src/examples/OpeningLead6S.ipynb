{
 "cells": [
  {
   "cell_type": "markdown",
   "id": "170af530",
   "metadata": {},
   "source": [
    "# Opening Lead\n",
    "\n",
    "This is a tutorial for how to use the opening lead engine."
   ]
  },
  {
   "cell_type": "code",
   "execution_count": 1,
   "id": "26570686",
   "metadata": {},
   "outputs": [
    {
     "name": "stderr",
     "output_type": "stream",
     "text": [
      "Loading config file d:\\GitHub\\ben\\src\\./config/default.conf\n",
      "Loading config file d:\\GitHub\\ben\\src\\./config/default.conf\n"
     ]
    }
   ],
   "source": [
    "import os\n",
    "os.chdir('..')\n",
    "\n",
    "from nn.models_tf2 import Models\n",
    "import botopeninglead\n",
    "from sample import Sample\n",
    "import conf\n",
    "import numpy as np\n",
    "\n",
    "np.set_printoptions(precision=2, suppress=True, linewidth=200)\n",
    "np.random.seed(42)\n",
    "\n",
    "models = Models.from_conf(conf.load('./config/default.conf'),'..')   # loading neural networks\n",
    "sampler = Sample.from_conf(conf.load('./config/default.conf'), False)  # Load sampling strategies\n"
   ]
  },
  {
   "cell_type": "code",
   "execution_count": 2,
   "id": "c3397678",
   "metadata": {},
   "outputs": [],
   "source": [
    "# both vulnerable. you are sitting South\n",
    "hand = '5.A97643.Q82.QJ5'\n",
    "\n",
    "# the auction goes:\n",
    "auction = [\"PAD_START\",\"PAD_START\",\"PAD_START\",\"1C\", \"PASS\", \"2S\", \"PASS\", \"3S\", \"PASS\", \"4D\",  \"PASS\", \"4S\", \"PASS\", \"4N\", \"PASS\", \"5D\", \"PASS\", \"6S\", \"PASS\", \"PASS\", \"PASS\"]\n",
    "\n",
    "from ddsolver import ddsolver\n",
    "dds = ddsolver.DDSolver()\n",
    "\n",
    "# what to lead?\n",
    "lead_bot = botopeninglead.BotLead([True, True], hand, models, sampler, seat=2, dealer=3, dds=dds, verbose=False)\n",
    "lead = lead_bot.find_opening_lead(auction,{})"
   ]
  },
  {
   "cell_type": "code",
   "execution_count": 3,
   "id": "a2b5fe25",
   "metadata": {},
   "outputs": [
    {
     "data": {
      "text/plain": [
       "HA"
      ]
     },
     "execution_count": 3,
     "metadata": {},
     "output_type": "execute_result"
    }
   ],
   "source": [
    "lead.card"
   ]
  },
  {
   "cell_type": "markdown",
   "id": "02e88396",
   "metadata": {},
   "source": [
    "seems like the engine chose to lead a small diamond\n",
    "\n",
    "Actually HQ was only card, but it was not among the candidates"
   ]
  },
  {
   "cell_type": "code",
   "execution_count": 4,
   "id": "956ef356",
   "metadata": {},
   "outputs": [
    {
     "data": {
      "text/plain": [
       "[{'card': 'HA',\n",
       "  'insta_score': 0.171,\n",
       "  'p_make_contract': 0.83,\n",
       "  'expected_score_imp': 2.82,\n",
       "  'msg': ''},\n",
       " {'card': 'Sx',\n",
       "  'insta_score': 0.087,\n",
       "  'p_make_contract': 0.75,\n",
       "  'expected_score_imp': 0.75,\n",
       "  'msg': ''},\n",
       " {'card': 'Dx',\n",
       "  'insta_score': 0.314,\n",
       "  'p_make_contract': 0.73,\n",
       "  'expected_score_imp': -0.45,\n",
       "  'msg': 'suit adjust=-1'},\n",
       " {'card': 'CQ',\n",
       "  'insta_score': 0.367,\n",
       "  'p_make_contract': 0.54,\n",
       "  'expected_score_imp': -4.12,\n",
       "  'msg': ''}]"
      ]
     },
     "execution_count": 4,
     "metadata": {},
     "output_type": "execute_result"
    }
   ],
   "source": [
    "lead.to_dict()['candidates']"
   ]
  },
  {
   "cell_type": "markdown",
   "id": "97efc5a1",
   "metadata": {},
   "source": [
    "in the above output:\n",
    "- `insta_score` reflects the preference of the neural network\n",
    "- `expected_tricks` how many tricks declarer is expected to take on this lead\n",
    "- `p_make_contract` is the probability of the contract making on this lead\n",
    "\n",
    "the probability of making and the expected tricks are computed on samples which are consistent with the auction. the samples are estimated single dummy using a neural network (more on this in another tutorial). we could also solve the samples double dummy, but that would be quite a bit slower."
   ]
  },
  {
   "cell_type": "code",
   "execution_count": 5,
   "id": "7cb2bf98",
   "metadata": {},
   "outputs": [
    {
     "data": {
      "text/plain": [
       "['x.A9xxxx.Q8x.QJx Qxxx.KQJ.Jxx.ATx Txx.xxx.KTxxx.xx AKJxx.T.Ax.Kxxxx - 0.70547 | CQ:-1430.0 Dx:200.0 HA:100.0 Sx:100.0',\n",
       " 'x.Axxxxx.Qxx.QJx Jxxx.QJx.KJx.Axx xx.xx.Txxxxx.Kxx AKQTxx.KT.A.Txxx - 0.71604 | CQ:200.0 Dx:100.0 HA:100.0 Sx:100.0',\n",
       " 'x.Axxxxx.Qxx.QJx AQxx.QTx.JTx.Kxx xxx.Jxx.Axxxx.xx KJTxx.K.Kx.ATxxx - 0.72286 | CQ:100.0 Dx:200.0 HA:200.0 Sx:200.0',\n",
       " 'x.Axxxxx.Qxx.QJx QTxx.QJx.AKx.Txx Jx.Tx.Txxxx.Kxxx AKxxxx.Kx.Jx.Axx - 0.71200 | CQ:200.0 Dx:-1430.0 HA:100.0 Sx:100.0',\n",
       " 'x.Axxxxx.Qxx.QJx Txxx.KQx.Axx.Kxx xxx.Tx.JTxxxx.xx AKQJx.Jx.K.ATxxx - 0.70939 | CQ:-1430.0 Dx:100.0 HA:100.0 Sx:100.0',\n",
       " 'x.Axxxxx.Qxx.QJx Kxxx.KQJ.Kxx.xxx JT.xxx.Jxxxx.ATx AQxxxx.T.AT.Kxxx - 0.70892 | CQ:200.0 Dx:100.0 HA:100.0 Sx:100.0',\n",
       " 'x.Axxxxx.Qxx.QJx Qxx.KTx.AKx.Txxx JTx.x.Txxxxx.Axx AKxxxx.QJx.J.Kxx - 0.68054 | CQ:200.0 Dx:100.0 HA:200.0 Sx:100.0',\n",
       " 'x.Axxxxx.Qxx.QJx Jxx.Kx.KJx.ATxxx xxx.JTxx.Txxxx.K AKQTxx.Q.Ax.xxxx - 0.67978 | CQ:-1430.0 Dx:100.0 HA:100.0 Sx:100.0',\n",
       " 'x.Axxxxx.Qxx.QJx QJxx.xxx.AKx.KTx Txx.QJ.Txxxx.xxx AKxxx.KT.Jx.Axxx - 0.67669 | CQ:-1430.0 Dx:100.0 HA:100.0 Sx:100.0',\n",
       " 'x.Axxxxx.Qxx.QJx Txxx.KQ.ATx.KTxx Axx.Txx.Jxxxx.xx KQJxx.Jx.Kx.Axxx - 0.67577 | CQ:100.0 Dx:200.0 HA:200.0 Sx:200.0',\n",
       " 'x.Axxxxx.Qxx.QJx JTxx.KJx.Jxx.AKx xx.QTx.KTxxx.Txx AKQxxx.x.Ax.xxxx - 0.67247 | CQ:100.0 Dx:200.0 HA:100.0 Sx:100.0',\n",
       " 'x.Axxxxx.Qxx.QJx KQTx.KTx.JTx.Kxx Jxx.QJxx.xxxxx.x Axxxx..AK.ATxxxx - 0.70368 | CQ:-1460.0 Dx:-1430.0 HA:-1430.0 Sx:-1430.0',\n",
       " 'x.Axxxxx.Qxx.QJx Axxx.J.Kxx.KTxxx Jxx.Qxxx.JTxxx.x KQTxx.KT.Ax.Axxx - 0.69345 | CQ:-1430.0 Dx:100.0 HA:100.0 Sx:100.0',\n",
       " 'x.Axxxxx.Qxx.QJx JTx.Kx.JTx.AKxxx xxxx.JTxx.xxxxx. AKQxx.Q.AK.Txxxx - 0.69165 | CQ:200.0 Dx:-1430.0 HA:100.0 Sx:-1430.0',\n",
       " 'x.Axxxxx.Qxx.QJx QJxx.QTx.Jx.AKxx xxx.Kx.Txxxxx.xx AKTxx.Jx.AK.Txxx - 0.68452 | CQ:100.0 Dx:200.0 HA:200.0 Sx:200.0',\n",
       " 'x.Axxxxx.Qxx.QJx AQx.QTx.KJT.xxxx Txxx.x.xxxxx.Txx KJxxx.KJx.Ax.AKx - 0.67933 | CQ:-1430.0 Dx:-1430.0 HA:100.0 Sx:-1430.0',\n",
       " 'x.Axxxxx.Qxx.QJx KTxx.QJ.KJT.Kxxx xx.Txxx.xxxxx.xx AQJxxx.K.Ax.ATxx - 0.67926 | CQ:-1460.0 Dx:-1430.0 HA:-1430.0 Sx:-1430.0',\n",
       " 'x.Axxxxx.Qxx.QJx Qxx.Qx.AJx.KTxxx Jxxx.Tx.KTxxx.xx AKTxx.KJx.xx.Axx - 0.67686 | CQ:-1430.0 Dx:200.0 HA:200.0 Sx:100.0',\n",
       " 'x.Axxxxx.Qxx.QJx QTxx.JT.Kxx.AKxx xxx.Qx.JTxxxx.xx AKJxx.Kxx.A.Txxx - 0.67550 | CQ:-1430.0 Dx:100.0 HA:100.0 Sx:100.0',\n",
       " 'x.Axxxxx.Qxx.QJx xxxx.KQ.KJx.Axxx Txx.Tx.Txxxxx.Tx AKQJx.Jxx.A.Kxxx - 0.67510 | CQ:100.0 Dx:-1430.0 HA:-1430.0 Sx:-1430.0']"
      ]
     },
     "execution_count": 5,
     "metadata": {},
     "output_type": "execute_result"
    }
   ],
   "source": [
    "# each row is one sample board\n",
    "# the hands are in the order: You, LHO, Partner, RHO. \n",
    "# After each hand there is a score to tell how well the board match the actual bidding\n",
    "\n",
    "lead.samples"
   ]
  }
 ],
 "metadata": {
  "kernelspec": {
   "display_name": "Python 3",
   "language": "python",
   "name": "python3"
  },
  "language_info": {
   "codemirror_mode": {
    "name": "ipython",
    "version": 3
   },
   "file_extension": ".py",
   "mimetype": "text/x-python",
   "name": "python",
   "nbconvert_exporter": "python",
   "pygments_lexer": "ipython3",
   "version": "3.12.3"
  }
 },
 "nbformat": 4,
 "nbformat_minor": 5
}
