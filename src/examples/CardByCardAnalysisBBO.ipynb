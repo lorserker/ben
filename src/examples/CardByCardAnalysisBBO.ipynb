{
 "cells": [
  {
   "cell_type": "markdown",
   "id": "21a4c878",
   "metadata": {},
   "source": [
    "# Detailed Analysis (Bid by Bid, Card by Card)\n",
    "\n",
    "This is a tutorial of how to do a detailed analysis of a played board.\n",
    "\n",
    "The engine looks at the bidding and play as it originally happened, and does an analysis for every bid and every card played.\n",
    "\n",
    "The analysis is not just a double-dummy analysis for the exact current layout (like if you would press the \"GIB\" button on BBO). Instead, it's an analysis over many different possible layouts (samples)."
   ]
  },
  {
   "cell_type": "code",
   "execution_count": 1,
   "id": "16f73f71",
   "metadata": {},
   "outputs": [
    {
     "name": "stderr",
     "output_type": "stream",
     "text": [
      "Loading config file d:\\GitHub\\ben\\src\\./config/default.conf\n",
      "Loading config file d:\\GitHub\\ben\\src\\./config/default.conf\n"
     ]
    }
   ],
   "source": [
    "import os\n",
    "os.chdir('..')\n",
    "\n",
    "from nn.models_tf2 import Models\n",
    "from analysis import CardByCard\n",
    "from util import parse_lin, display_lin\n",
    "from sample import Sample\n",
    "import conf\n",
    "import numpy as np\n",
    "\n",
    "np.set_printoptions(precision=2, suppress=True, linewidth=200)\n",
    "np.random.seed(42)\n",
    "\n",
    "models = Models.from_conf(conf.load('./config/default.conf'),'..')   # loading neural networks\n",
    "sampler = Sample.from_conf(conf.load('./config/default.conf'), False)  # Load sampling strategies\n"
   ]
  },
  {
   "cell_type": "markdown",
   "id": "994e8878",
   "metadata": {},
   "source": [
    "## Analyzing a board played on BBO"
   ]
  },
  {
   "cell_type": "code",
   "execution_count": 2,
   "id": "cdd0edee",
   "metadata": {},
   "outputs": [],
   "source": [
    "# copy-paste from the hand records (in lin format)\n",
    "\n",
    "lin = 'pn|You,~~M7228oka,~~M72302cm,~~M72316sq|st||md|1S4TKHJD68QC679TKA,S35H479TQKD24TAC8,S2789H3AD379JKC35,|rh||ah|Board 3|sv|e|mb|1C|an|Minor suit opening -- 3+ !C; 11-21 HCP; 12-22 total points|mb|2H|an|Aggressive weak jump overcall -- 6+ !H; 4-10 HCP |mb|d|an|Negative double -- 4+ !S; 7+ HCP; 8+ total points |mb|4H|an|The Law: 10 trump -> game support -- 4+ total points |mb|4S|an|3+ !C; 4+ !S; 16-21 HCP; 17-22 total points|mb|p|mb|p|mb|p|pg||pc|DA|pc|D3|pc|D5|pc|D6|pg||pc|C8|pc|C3|pc|CJ|pc|CA|pg||pc|S4|pc|S5|pc|S8|pc|SJ|pg||pc|H5|pc|HJ|pc|HQ|pc|HA|pg||pc|S2|pc|SA|pc|ST|pc|S3|pg||pc|H2|pc|SK|pc|H4|pc|H3|pg||pc|D8|pc|D2|pc|DJ|pc|S6|pg||pc|SQ|pc|C6|pc|H7|pc|S7|pg||pc|H8|pc|C7|pc|HK|pc|S9|pg||pc|C5|pc|C2|pc|CT|pc|HT|pg||pc|CK|pc|H9|pc|D7|pc|C4|pg||pc|DQ|pc|D4|pc|DK|pc|H6|pg||pc|D9|pc|CQ|pc|C9|pc|DT|pg||'"
   ]
  },
  {
   "cell_type": "code",
   "execution_count": 3,
   "id": "86ccd5f5",
   "metadata": {},
   "outputs": [
    {
     "data": {
      "text/html": [
       "<iframe width=\"800\" height=\"600\" src=\"http://bridgebase.com/tools/handviewer.html?lin=pn|You,~~M7228oka,~~M72302cm,~~M72316sq|st||md|1S4TKHJD68QC679TKA,S35H479TQKD24TAC8,S2789H3AD379JKC35,|rh||ah|Board 3|sv|e|mb|1C|an|Minor suit opening -- 3+ !C; 11-21 HCP; 12-22 total points|mb|2H|an|Aggressive weak jump overcall -- 6+ !H; 4-10 HCP |mb|d|an|Negative double -- 4+ !S; 7+ HCP; 8+ total points |mb|4H|an|The Law: 10 trump -> game support -- 4+ total points |mb|4S|an|3+ !C; 4+ !S; 16-21 HCP; 17-22 total points|mb|p|mb|p|mb|p|pg||pc|DA|pc|D3|pc|D5|pc|D6|pg||pc|C8|pc|C3|pc|CJ|pc|CA|pg||pc|S4|pc|S5|pc|S8|pc|SJ|pg||pc|H5|pc|HJ|pc|HQ|pc|HA|pg||pc|S2|pc|SA|pc|ST|pc|S3|pg||pc|H2|pc|SK|pc|H4|pc|H3|pg||pc|D8|pc|D2|pc|DJ|pc|S6|pg||pc|SQ|pc|C6|pc|H7|pc|S7|pg||pc|H8|pc|C7|pc|HK|pc|S9|pg||pc|C5|pc|C2|pc|CT|pc|HT|pg||pc|CK|pc|H9|pc|D7|pc|C4|pg||pc|DQ|pc|D4|pc|DK|pc|H6|pg||pc|D9|pc|CQ|pc|C9|pc|DT|pg||\" />"
      ],
      "text/plain": [
       "<IPython.core.display.HTML object>"
      ]
     },
     "execution_count": 3,
     "metadata": {},
     "output_type": "execute_result"
    }
   ],
   "source": [
    "display_lin(lin)"
   ]
  },
  {
   "cell_type": "code",
   "execution_count": 4,
   "id": "8fa74a29",
   "metadata": {},
   "outputs": [
    {
     "name": "stdout",
     "output_type": "stream",
     "text": [
      "Board(dealer='S', vuln=[False, True], hands=['9872.A3.KJ973.53', '6QAJ.5628.5.42QJ', 'KT4.J.Q86.AKT976', '53.KQT974.AT42.8'], auction=['1C', '2H', 'X', '4H', '4S', 'PASS', 'PASS', 'PASS'], play=['DA', 'D3', 'D5', 'D6', 'C8', 'C3', 'CJ', 'CA', 'S4', 'S5', 'S8', 'SJ', 'H5', 'HJ', 'HQ', 'HA', 'S2', 'SA', 'ST', 'S3', 'H2', 'SK', 'H4', 'H3', 'D8', 'D2', 'DJ', 'S6', 'SQ', 'C6', 'H7', 'S7', 'H8', 'C7', 'HK', 'S9', 'C5', 'C2', 'CT', 'HT', 'CK', 'H9', 'D7', 'C4', 'DQ', 'D4', 'DK', 'H6', 'D9', 'CQ', 'C9', 'DT'])\n"
     ]
    }
   ],
   "source": [
    "board = parse_lin(lin)\n",
    "print(board)"
   ]
  },
  {
   "cell_type": "code",
   "execution_count": 5,
   "id": "fb875929",
   "metadata": {},
   "outputs": [],
   "source": [
    "card_by_card = CardByCard(*board, models, sampler, False)"
   ]
  },
  {
   "cell_type": "code",
   "execution_count": 6,
   "id": "49c15172",
   "metadata": {},
   "outputs": [
    {
     "name": "stdout",
     "output_type": "stream",
     "text": [
      "analyzing the bidding\n",
      "1C OK NN-value: 1.200\n",
      "2H OK NN-value: 1.148\n",
      "X Suggested bid from NN: CandidateBid(bid=PASS, insta_score=1.1132, expected_score=---, expected_mp=---, expected_imp=---, expected_tricks=---, adjust=---, alert=  , Explain= -- ; 13- HCP))\n",
      "X NN-values:CandidateBid(bid=X   , insta_score=0.0836, expected_score=---, expected_mp=---, expected_imp=---, expected_tricks=---, adjust=---, alert=  )\n",
      "4H Suggested bid from NN: CandidateBid(bid=3H  , insta_score=0.6403, expected_score=  178, expected_mp=---, expected_imp= -0.2, expected_tricks= 9.38, adjust=1.54, alert=  , Explain=Preemptive -- 2+!H; 3-8 HCP))\n",
      "4H NN-values:CandidateBid(bid=4H  , insta_score=0.4117, expected_score=  208, expected_mp=---, expected_imp=  0.1, expected_tricks= 9.47, adjust=0.99, alert=  )\n",
      "4S Suggested bid from NN: CandidateBid(bid=PASS, insta_score=1.0817, expected_score=  146, expected_mp=---, expected_imp=---, expected_tricks= 7.94, adjust=0.00, alert=  , Explain= -- 3+!C; 6-!D; 5-!H; 5-!S; 11-16 HCP))\n",
      "4S is not in the bids from the neural network\n",
      "PASS OK NN-value: 1.197\n",
      "PASS OK NN-value: 1.173\n",
      "PASS OK NN-value: 1.189\n",
      "analyzing opening lead\n",
      "DA\n",
      "DA OK\n",
      "analyzing play\n",
      "Error: Duplicate cards in deck: AKQJT98765432.AKQJT98765432.AKQJT98765432.AKQJT98765432\n",
      "   ved BGADLL.PIMC.validateInput() i D:\\GitHub\\BGA\\BGADLL\\PIMC.cs:linje 197\n",
      "   ved BGADLL.PIMC.SetupEvaluation(Hand[] our, Hand oppos, Play current_trick, Play previous_tricks, Constraints[] consts, Player nextToLead, Int32 maxPlayout, Boolean autoplaysingleton, Boolean useStratefy) i D:\\GitHub\\BGA\\BGADLL\\PIMC.cs:linje 303 \n",
      "max_playout 200\n",
      "player_i 1\n",
      "9872.A3.KJ973.53 KT4.J.Q86.AKT976\n",
      "AQJ653.KQT9876542.T542.QJ842 AD AD AD\n",
      "Voids: [set(), set(), set(), set()]\n",
      "North\n",
      "Tricks taken: 0 Tricks needed: 10\n",
      "East (RHO) 0 5 0 4 3 5 1 6 6 16\n",
      "West (LHO) 0 5 0 3 5 7 0 5 0 1\n",
      "Current trick AD AD AD\n",
      "Previous tricks \n",
      "RHO hand ...\n",
      "LHO hand ..AAA.\n",
      "Strategy False\n"
     ]
    },
    {
     "ename": "Exception",
     "evalue": "Duplicate cards in deck: AKQJT98765432.AKQJT98765432.AKQJT98765432.AKQJT98765432\r\n   ved BGADLL.PIMC.validateInput() i D:\\GitHub\\BGA\\BGADLL\\PIMC.cs:linje 197\r\n   ved BGADLL.PIMC.SetupEvaluation(Hand[] our, Hand oppos, Play current_trick, Play previous_tricks, Constraints[] consts, Player nextToLead, Int32 maxPlayout, Boolean autoplaysingleton, Boolean useStratefy) i D:\\GitHub\\BGA\\BGADLL\\PIMC.cs:linje 303",
     "output_type": "error",
     "traceback": [
      "\u001b[1;31m---------------------------------------------------------------------------\u001b[0m",
      "\u001b[1;31mException\u001b[0m                                 Traceback (most recent call last)",
      "Cell \u001b[1;32mIn[6], line 1\u001b[0m\n\u001b[1;32m----> 1\u001b[0m \u001b[38;5;28;01mawait\u001b[39;00m card_by_card\u001b[38;5;241m.\u001b[39manalyze()\n",
      "File \u001b[1;32md:\\GitHub\\ben\\src\\analysis.py:35\u001b[0m, in \u001b[0;36mCardByCard.analyze\u001b[1;34m(self)\u001b[0m\n\u001b[0;32m     33\u001b[0m \u001b[38;5;28mself\u001b[39m\u001b[38;5;241m.\u001b[39manalyze_opening_lead()\n\u001b[0;32m     34\u001b[0m \u001b[38;5;28mprint\u001b[39m(\u001b[38;5;124m'\u001b[39m\u001b[38;5;124manalyzing play\u001b[39m\u001b[38;5;124m'\u001b[39m)\n\u001b[1;32m---> 35\u001b[0m \u001b[38;5;28;01mawait\u001b[39;00m \u001b[38;5;28mself\u001b[39m\u001b[38;5;241m.\u001b[39manalyze_play()\n",
      "File \u001b[1;32md:\\GitHub\\ben\\src\\analysis.py:199\u001b[0m, in \u001b[0;36mCardByCard.analyze_play\u001b[1;34m(self)\u001b[0m\n\u001b[0;32m    196\u001b[0m rollout_states, bidding_scores, c_hcp, c_shp, quality, probability_of_occurence, lead_scores, play_scores, logical_play_scores, discard_scores, worlds \u001b[38;5;241m=\u001b[39m \u001b[38;5;28mself\u001b[39m\u001b[38;5;241m.\u001b[39msampler\u001b[38;5;241m.\u001b[39minit_rollout_states(trick_i, player_i, card_players, played_cards, player_cards_played, shown_out_suits, discards, aceking, current_trick, \u001b[38;5;28mself\u001b[39m\u001b[38;5;241m.\u001b[39mpadded_auction, card_players[player_i]\u001b[38;5;241m.\u001b[39mhand_str, card_players[player_i]\u001b[38;5;241m.\u001b[39mpublic_hand_str, \u001b[38;5;28mself\u001b[39m\u001b[38;5;241m.\u001b[39mvuln, \u001b[38;5;28mself\u001b[39m\u001b[38;5;241m.\u001b[39mmodels, card_players[player_i]\u001b[38;5;241m.\u001b[39mget_random_generator())\n\u001b[0;32m    198\u001b[0m card_players[player_i]\u001b[38;5;241m.\u001b[39mcheck_pimc_constraints(trick_i, rollout_states, quality)\n\u001b[1;32m--> 199\u001b[0m card_resp \u001b[38;5;241m=\u001b[39m card_players[player_i]\u001b[38;5;241m.\u001b[39mplay_card(trick_i, leader_i, current_trick52, tricks52, rollout_states, worlds, bidding_scores, quality, probability_of_occurence, shown_out_suits, play_status, lead_scores, play_scores, logical_play_scores, discard_scores, features)\n\u001b[0;32m    200\u001b[0m card_resp\u001b[38;5;241m.\u001b[39mhcp \u001b[38;5;241m=\u001b[39m c_hcp\n\u001b[0;32m    201\u001b[0m card_resp\u001b[38;5;241m.\u001b[39mshape \u001b[38;5;241m=\u001b[39m c_shp\n",
      "File \u001b[1;32md:\\GitHub\\ben\\src\\botcardplayer.py:323\u001b[0m, in \u001b[0;36mCardPlayer.play_card\u001b[1;34m(self, trick_i, leader_i, current_trick52, tricks52, players_states, worlds, bidding_scores, quality, probability_of_occurence, shown_out_suits, play_status, lead_scores, play_scores, logical_play_scores, discard_scores, features)\u001b[0m\n\u001b[0;32m    321\u001b[0m \u001b[38;5;28;01melse\u001b[39;00m:                    \n\u001b[0;32m    322\u001b[0m     \u001b[38;5;28;01mif\u001b[39;00m \u001b[38;5;28mself\u001b[39m\u001b[38;5;241m.\u001b[39mpimc_declaring \u001b[38;5;129;01mand\u001b[39;00m (\u001b[38;5;28mself\u001b[39m\u001b[38;5;241m.\u001b[39mplayer_i \u001b[38;5;241m==\u001b[39m \u001b[38;5;241m1\u001b[39m \u001b[38;5;129;01mor\u001b[39;00m \u001b[38;5;28mself\u001b[39m\u001b[38;5;241m.\u001b[39mplayer_i \u001b[38;5;241m==\u001b[39m \u001b[38;5;241m3\u001b[39m):\n\u001b[1;32m--> 323\u001b[0m         pimc_resp_cards \u001b[38;5;241m=\u001b[39m \u001b[38;5;28mself\u001b[39m\u001b[38;5;241m.\u001b[39mpimc\u001b[38;5;241m.\u001b[39mnextplay(\u001b[38;5;28mself\u001b[39m\u001b[38;5;241m.\u001b[39mplayer_i, shown_out_suits, \u001b[38;5;28mself\u001b[39m\u001b[38;5;241m.\u001b[39mmissing_cards)\n\u001b[0;32m    324\u001b[0m         \u001b[38;5;28;01mif\u001b[39;00m \u001b[38;5;28mself\u001b[39m\u001b[38;5;241m.\u001b[39mverbose:\n\u001b[0;32m    325\u001b[0m             \u001b[38;5;28mprint\u001b[39m(\u001b[38;5;124m\"\u001b[39m\u001b[38;5;124mPIMC result:\u001b[39m\u001b[38;5;124m\"\u001b[39m)\n",
      "File \u001b[1;32md:\\GitHub\\ben\\src\\pimc\\PIMC.py:472\u001b[0m, in \u001b[0;36mBGADLL.nextplay\u001b[1;34m(self, player_i, shown_out_suits, missing_cards)\u001b[0m\n\u001b[0;32m    470\u001b[0m     \u001b[38;5;28mprint\u001b[39m(\u001b[38;5;124m\"\u001b[39m\u001b[38;5;124mLHO hand\u001b[39m\u001b[38;5;124m\"\u001b[39m, \u001b[38;5;28mself\u001b[39m\u001b[38;5;241m.\u001b[39mlhohand\u001b[38;5;241m.\u001b[39mToString())\n\u001b[0;32m    471\u001b[0m     \u001b[38;5;28mprint\u001b[39m(\u001b[38;5;124m\"\u001b[39m\u001b[38;5;124mStrategy\u001b[39m\u001b[38;5;124m\"\u001b[39m,\u001b[38;5;28mself\u001b[39m\u001b[38;5;241m.\u001b[39mmodels\u001b[38;5;241m.\u001b[39mpimc_use_fusion_strategy)\n\u001b[1;32m--> 472\u001b[0m     \u001b[38;5;28;01mraise\u001b[39;00m ex \n\u001b[0;32m    474\u001b[0m \u001b[38;5;28;01mif\u001b[39;00m \u001b[38;5;28mself\u001b[39m\u001b[38;5;241m.\u001b[39mverbose:\n\u001b[0;32m    475\u001b[0m     \u001b[38;5;28mprint\u001b[39m(\u001b[38;5;124m\"\u001b[39m\u001b[38;5;124mTrump:\u001b[39m\u001b[38;5;124m\"\u001b[39m,\u001b[38;5;28mself\u001b[39m\u001b[38;5;241m.\u001b[39mtrump)\n",
      "File \u001b[1;32md:\\GitHub\\ben\\src\\pimc\\PIMC.py:454\u001b[0m, in \u001b[0;36mBGADLL.nextplay\u001b[1;34m(self, player_i, shown_out_suits, missing_cards)\u001b[0m\n\u001b[0;32m    451\u001b[0m     \u001b[38;5;28mprint\u001b[39m(\u001b[38;5;124m\"\u001b[39m\u001b[38;5;124mStrategy\u001b[39m\u001b[38;5;124m\"\u001b[39m,\u001b[38;5;28mself\u001b[39m\u001b[38;5;241m.\u001b[39mmodels\u001b[38;5;241m.\u001b[39mpimc_use_fusion_strategy)\n\u001b[0;32m    453\u001b[0m \u001b[38;5;28;01mtry\u001b[39;00m:\n\u001b[1;32m--> 454\u001b[0m     \u001b[38;5;28mself\u001b[39m\u001b[38;5;241m.\u001b[39mpimc\u001b[38;5;241m.\u001b[39mSetupEvaluation(hands, \u001b[38;5;28mself\u001b[39m\u001b[38;5;241m.\u001b[39mopposHand, \u001b[38;5;28mself\u001b[39m\u001b[38;5;241m.\u001b[39mcurrent_trick, \u001b[38;5;28mself\u001b[39m\u001b[38;5;241m.\u001b[39mprevious_tricks, [\u001b[38;5;28mself\u001b[39m\u001b[38;5;241m.\u001b[39mrho_constraints,\n\u001b[0;32m    455\u001b[0m                           \u001b[38;5;28mself\u001b[39m\u001b[38;5;241m.\u001b[39mlho_constraints], Macros\u001b[38;5;241m.\u001b[39mPlayer\u001b[38;5;241m.\u001b[39mSouth \u001b[38;5;28;01mif\u001b[39;00m player_i \u001b[38;5;241m==\u001b[39m \u001b[38;5;241m3\u001b[39m \u001b[38;5;28;01melse\u001b[39;00m Macros\u001b[38;5;241m.\u001b[39mPlayer\u001b[38;5;241m.\u001b[39mNorth, \u001b[38;5;28mself\u001b[39m\u001b[38;5;241m.\u001b[39mmax_playout, \u001b[38;5;28mself\u001b[39m\u001b[38;5;241m.\u001b[39mautoplay, \u001b[38;5;28mself\u001b[39m\u001b[38;5;241m.\u001b[39mmodels\u001b[38;5;241m.\u001b[39mpimc_use_fusion_strategy)\n\u001b[0;32m    456\u001b[0m \u001b[38;5;28;01mexcept\u001b[39;00m \u001b[38;5;167;01mException\u001b[39;00m \u001b[38;5;28;01mas\u001b[39;00m ex:        \n\u001b[0;32m    457\u001b[0m     \u001b[38;5;28mprint\u001b[39m(\u001b[38;5;124mf\u001b[39m\u001b[38;5;124m\"\u001b[39m\u001b[38;5;132;01m{\u001b[39;00mFore\u001b[38;5;241m.\u001b[39mRED\u001b[38;5;132;01m}\u001b[39;00m\u001b[38;5;124mError: \u001b[39m\u001b[38;5;132;01m{\u001b[39;00mex\u001b[38;5;132;01m}\u001b[39;00m\u001b[38;5;124m \u001b[39m\u001b[38;5;132;01m{\u001b[39;00mFore\u001b[38;5;241m.\u001b[39mRESET\u001b[38;5;132;01m}\u001b[39;00m\u001b[38;5;124m\"\u001b[39m)\n",
      "\u001b[1;31mException\u001b[0m: Duplicate cards in deck: AKQJT98765432.AKQJT98765432.AKQJT98765432.AKQJT98765432\r\n   ved BGADLL.PIMC.validateInput() i D:\\GitHub\\BGA\\BGADLL\\PIMC.cs:linje 197\r\n   ved BGADLL.PIMC.SetupEvaluation(Hand[] our, Hand oppos, Play current_trick, Play previous_tricks, Constraints[] consts, Player nextToLead, Int32 maxPlayout, Boolean autoplaysingleton, Boolean useStratefy) i D:\\GitHub\\BGA\\BGADLL\\PIMC.cs:linje 303"
     ]
    }
   ],
   "source": [
    "await card_by_card.analyze()"
   ]
  },
  {
   "cell_type": "markdown",
   "id": "bf465259",
   "metadata": {},
   "source": [
    "the engine agrees with the bidding, but didn't like something in the cardplay.\n",
    "\n",
    "playing `S4` from hand is the first mistake. apparently this play drops almost half a trick on average."
   ]
  },
  {
   "cell_type": "code",
   "execution_count": null,
   "id": "d79d9389",
   "metadata": {},
   "outputs": [],
   "source": [
    "card_by_card.cards['S4'].to_dict()"
   ]
  },
  {
   "cell_type": "markdown",
   "id": "760b7b2f",
   "metadata": {},
   "source": [
    "the opening lead of `DA` is interesting. the engine prefers the `HK` and it's the only card it considers."
   ]
  },
  {
   "cell_type": "code",
   "execution_count": null,
   "id": "00c728a0",
   "metadata": {},
   "outputs": [],
   "source": [
    "card_by_card.cards['DA'].to_dict()"
   ]
  }
 ],
 "metadata": {
  "kernelspec": {
   "display_name": "Python 3",
   "language": "python",
   "name": "python3"
  },
  "language_info": {
   "codemirror_mode": {
    "name": "ipython",
    "version": 3
   },
   "file_extension": ".py",
   "mimetype": "text/x-python",
   "name": "python",
   "nbconvert_exporter": "python",
   "pygments_lexer": "ipython3",
   "version": "3.12.3"
  }
 },
 "nbformat": 4,
 "nbformat_minor": 5
}
