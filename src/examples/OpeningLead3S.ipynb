{
 "cells": [
  {
   "cell_type": "markdown",
   "id": "170af530",
   "metadata": {},
   "source": [
    "# Opening Lead\n",
    "\n",
    "This is a tutorial for how to use the opening lead engine."
   ]
  },
  {
   "cell_type": "code",
   "execution_count": 1,
   "id": "26570686",
   "metadata": {},
   "outputs": [
    {
     "name": "stderr",
     "output_type": "stream",
     "text": [
      "Loading config file d:\\GitHub\\ben\\src\\./config/default.conf\n",
      "Loading config file d:\\GitHub\\ben\\src\\./config/default.conf\n"
     ]
    }
   ],
   "source": [
    "import os\n",
    "os.chdir('..')\n",
    "\n",
    "from nn.models_tf2 import Models\n",
    "import botopeninglead\n",
    "from sample import Sample\n",
    "import conf\n",
    "import numpy as np\n",
    "\n",
    "np.set_printoptions(precision=2, suppress=True, linewidth=200)\n",
    "np.random.seed(42)\n",
    "\n",
    "models = Models.from_conf(conf.load('./config/default.conf'),'..')   # loading neural networks\n",
    "sampler = Sample.from_conf(conf.load('./config/default.conf'), False)  # Load sampling strategies\n"
   ]
  },
  {
   "cell_type": "code",
   "execution_count": 2,
   "id": "c3397678",
   "metadata": {},
   "outputs": [],
   "source": [
    "# both vulnerable. you are sitting East, South is dealer\n",
    "hand = 'AQT8.AKT82.JT.43'\n",
    "seat = 1\n",
    "dealer = 2\n",
    "# the auction goes:\n",
    "auction = [\"PAD_START\",\"PAD_START\", \"PASS\", \"2D\", \"3S\", \"PASS\", \"PASS\", \"PASS\"]\n",
    "\n",
    "from ddsolver import ddsolver\n",
    "dds = ddsolver.DDSolver()\n",
    "\n",
    "# what to lead?\n",
    "lead_bot = botopeninglead.BotLead([True, True], hand, models, sampler, seat, dealer, dds, False)\n",
    "lead = lead_bot.find_opening_lead(auction, {})"
   ]
  },
  {
   "cell_type": "code",
   "execution_count": 3,
   "id": "a2b5fe25",
   "metadata": {},
   "outputs": [
    {
     "data": {
      "text/plain": [
       "DJ"
      ]
     },
     "execution_count": 3,
     "metadata": {},
     "output_type": "execute_result"
    }
   ],
   "source": [
    "lead.card"
   ]
  },
  {
   "cell_type": "markdown",
   "id": "02e88396",
   "metadata": {},
   "source": [
    "seems like the engine chose to lead the king of hearts\n",
    "\n",
    "the other options it considered were: Jack of diamonds, Ace of hearts and a small club"
   ]
  },
  {
   "cell_type": "code",
   "execution_count": 4,
   "id": "956ef356",
   "metadata": {},
   "outputs": [
    {
     "data": {
      "text/plain": [
       "[{'card': 'DJ',\n",
       "  'insta_score': 0.394,\n",
       "  'p_make_contract': 0.98,\n",
       "  'expected_score_imp': 0.34,\n",
       "  'msg': 'suit adjust=0.5'},\n",
       " {'card': 'HA',\n",
       "  'insta_score': 0.293,\n",
       "  'p_make_contract': 0.98,\n",
       "  'expected_score_imp': 0.26,\n",
       "  'msg': ''},\n",
       " {'card': 'HK',\n",
       "  'insta_score': 0.218,\n",
       "  'p_make_contract': 0.98,\n",
       "  'expected_score_imp': 0.26,\n",
       "  'msg': ''},\n",
       " {'card': 'Cx',\n",
       "  'insta_score': 0.091,\n",
       "  'p_make_contract': 0.98,\n",
       "  'expected_score_imp': -0.35,\n",
       "  'msg': ''}]"
      ]
     },
     "execution_count": 4,
     "metadata": {},
     "output_type": "execute_result"
    }
   ],
   "source": [
    "lead.to_dict()['candidates']"
   ]
  },
  {
   "cell_type": "markdown",
   "id": "97efc5a1",
   "metadata": {},
   "source": [
    "in the above output:\n",
    "- `insta_score` reflects the preference of the neural network\n",
    "- `expected_tricks` how many tricks declarer is expected to take on this lead\n",
    "- `p_make_contract` is the probability of the contract making on this lead\n",
    "\n",
    "the probability of making and the expected tricks are computed on samples which are consistent with the auction. the samples are estimated single dummy using a neural network (more on this in another tutorial). we could also solve the samples double dummy, but that would be quite a bit slower."
   ]
  },
  {
   "cell_type": "code",
   "execution_count": 5,
   "id": "7cb2bf98",
   "metadata": {},
   "outputs": [
    {
     "data": {
      "text/plain": [
       "['AQTx.AKTxx.JT.xx x.xxxx.xxx.AJxxx Jx.QJx.AQxxxx.Tx Kxxxxx.x.Kx.KQxx - 0.84825 | DJ:200.0 HA:300.0 HK:300.0 Cx:200.0',\n",
       " 'AQTx.AKTxx.JT.xx x.Qxxx.Qxxx.AJxx x.xx.Axxxxx.KTxx KJxxxxx.Jx.K.Qxx - 0.83101 | DJ:300.0 HA:400.0 HK:400.0 Cx:400.0',\n",
       " 'AQTx.AKTxx.JT.xx xx.Qxx.AQxxx.Txx x.Jx.Kxxxxx.KJxx KJxxxx.xxx..AQxx - 0.70242 | DJ:200.0 HA:300.0 HK:300.0 Cx:200.0',\n",
       " 'AQTx.AKTxx.JT.xx Jx.xxxx.xxxx.JTx x.QJ.AQxxxx.xxxx Kxxxxx.xx.K.AKQx - 0.79579 | DJ:300.0 HA:200.0 HK:200.0 Cx:300.0',\n",
       " 'AQTx.AKTxx.JT.xx xx.xxx.xxxx.Txxx x.xxx.KQxxxx.AJx KJxxxx.QJ.A.KQxx - 0.83500 | DJ:400.0 HA:400.0 HK:400.0 Cx:300.0',\n",
       " 'AQTx.AKTxx.JT.xx x.Jxxx.Qxx.AJxxx J.Qx.AKxxxx.Txxx Kxxxxxx.xx.xx.KQ - 0.86775 | DJ:400.0 HA:400.0 HK:400.0 Cx:300.0',\n",
       " 'AQTx.AKTxx.JT.xx xx.xxx.Kxxx.Jxxx x.xx.Qxxxxx.ATxx KJxxxx.QJx.A.KQx - 0.73479 | DJ:300.0 HA:400.0 HK:400.0 Cx:400.0',\n",
       " 'AQTx.AKTxx.JT.xx x.xxxx.Axxx.xxxx xx.Jxx.KQxxxx.Kx KJxxxx.Q.x.AQJTx - 0.85485 | DJ:100.0 HA:300.0 HK:300.0 Cx:100.0',\n",
       " 'AQTx.AKTxx.JT.xx .Jxxxx.AQxxx.Kxx x.x.Kxxxxx.AQxxx KJxxxxxx.Qx..JTx - 0.70045 | DJ:300.0 HA:400.0 HK:400.0 Cx:400.0',\n",
       " 'AQTx.AKTxx.JT.xx x.xxxx.xxx.QJxxx x.Jx.AQxxxx.Txxx KJxxxxx.Qx.Kx.AK - 0.78939 | DJ:300.0 HA:400.0 HK:400.0 Cx:400.0',\n",
       " 'AQTx.AKTxx.JT.xx x.Qxxx.AQxxx.Txx x.Jx.Kxxxxx.KQJx KJxxxxx.xx..Axxx - 0.89023 | DJ:200.0 HA:300.0 HK:300.0 Cx:300.0',\n",
       " 'AQTx.AKTxx.JT.xx .Jxxx.Axxxx.QTxx x.x.KQxxxx.KJxxx KJxxxxxx.Qxx..Ax - 0.85341 | DJ:200.0 HA:300.0 HK:300.0 Cx:300.0',\n",
       " 'AQTx.AKTxx.JT.xx x.Jxx.Qxxx.QJxxx x.Qxx.Kxxxxx.Kxx KJxxxxx.xx.A.ATx - 0.82563 | DJ:300.0 HA:300.0 HK:300.0 Cx:200.0',\n",
       " 'AQTx.AKTxx.JT.xx .Jxxxx.KQxxx.Txx xx.x.Axxxxx.QJxx KJxxxxx.Qx..AKxx - 0.77637 | DJ:200.0 HA:300.0 HK:300.0 Cx:300.0',\n",
       " 'AQTx.AKTxx.JT.xx x.Qxx.KQxx.Jxxxx x.xx.xxxxxx.AKTx KJxxxxx.Jxx.A.Qx - 0.73942 | DJ:400.0 HA:500.0 HK:500.0 Cx:500.0',\n",
       " 'AQTx.AKTxx.JT.xx .Jxxxxx.Kxx.QJxx Jxx.Q.AQxxxx.Txx Kxxxxx.x.xx.AKxx - 0.75952 | DJ:400.0 HA:300.0 HK:300.0 Cx:400.0',\n",
       " 'AQTx.AKTxx.JT.xx x.QJxxx.Kxxx.Txx xx.xxx.AQxxxx.xx KJxxxx..x.AKQJxx - 0.78413 | DJ:200.0 HA:100.0 HK:100.0 Cx:100.0',\n",
       " 'AQTx.AKTxx.JT.xx x.Jxx.Qxxx.Kxxxx xx.Qxx.AKxxxx.Tx KJxxxx.xx.x.AQJx - 0.85055 | DJ:400.0 HA:300.0 HK:300.0 Cx:300.0',\n",
       " 'AQTx.AKTxx.JT.xx x.xxxxx.x.AQJxxx x.Qx.KQxxxx.KTxx KJxxxxx.J.Axxx.x - 0.87762 | DJ:200.0 HA:300.0 HK:300.0 Cx:200.0',\n",
       " 'AQTx.AKTxx.JT.xx .xxx.AQxxx.xxxxx xx.QJx.Kxxxxx.KJ KJxxxxx.xx..AQTx - 0.89749 | DJ:100.0 HA:300.0 HK:300.0 Cx:200.0']"
      ]
     },
     "execution_count": 5,
     "metadata": {},
     "output_type": "execute_result"
    }
   ],
   "source": [
    "# each row is one sample board\n",
    "# the hands are in the order: You, LHO, Partner, RHO. \n",
    "\n",
    "lead.samples"
   ]
  }
 ],
 "metadata": {
  "kernelspec": {
   "display_name": "Python 3",
   "language": "python",
   "name": "python3"
  },
  "language_info": {
   "codemirror_mode": {
    "name": "ipython",
    "version": 3
   },
   "file_extension": ".py",
   "mimetype": "text/x-python",
   "name": "python",
   "nbconvert_exporter": "python",
   "pygments_lexer": "ipython3",
   "version": "3.12.3"
  }
 },
 "nbformat": 4,
 "nbformat_minor": 5
}
