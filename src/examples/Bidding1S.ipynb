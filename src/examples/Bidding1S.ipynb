{
 "cells": [
  {
   "cell_type": "markdown",
   "id": "75d07246",
   "metadata": {},
   "source": [
    "# Bidding\n",
    "\n",
    "This is a tutorial for how to use the bidding engine"
   ]
  },
  {
   "cell_type": "code",
   "execution_count": 1,
   "id": "59a5664c",
   "metadata": {},
   "outputs": [
    {
     "name": "stderr",
     "output_type": "stream",
     "text": [
      "Loading config file d:\\GitHub\\ben\\src\\./config/default.conf\n",
      "Loading config file d:\\GitHub\\ben\\src\\./config/default.conf\n"
     ]
    }
   ],
   "source": [
    "import os\n",
    "os.chdir('..')\n",
    "\n",
    "from nn.models_tf2 import Models\n",
    "from botbidder import BotBid\n",
    "from util import hand_to_str\n",
    "from sample import Sample\n",
    "import conf\n",
    "import numpy as np\n",
    "\n",
    "np.set_printoptions(precision=2, suppress=True, linewidth=200)\n",
    "np.random.seed(42)\n",
    "models = Models.from_conf(conf.load('./config/default.conf'),'..')   # loading neural networks\n",
    "sampler = Sample.from_conf(conf.load('./config/default.conf'), False)  # Load sampling strategies\n",
    "models.search_threshold = -1\n"
   ]
  },
  {
   "cell_type": "markdown",
   "id": "10d8f2fc",
   "metadata": {},
   "source": [
    "### Bidding"
   ]
  },
  {
   "cell_type": "code",
   "execution_count": 2,
   "id": "19dbfeb7",
   "metadata": {},
   "outputs": [
    {
     "data": {
      "text/plain": [
       "[{'call': '2C', 'insta_score': 0.699}]"
      ]
     },
     "execution_count": 2,
     "metadata": {},
     "output_type": "execute_result"
    }
   ],
   "source": [
    "vuln_ns, vuln_ew = False, True\n",
    "hand = 'A.8xx.Jxx.AQxxxx'\n",
    "\n",
    "from ddsolver import ddsolver\n",
    "dds = ddsolver.DDSolver()\n",
    "\n",
    "auction = [\"1S\"]\n",
    "bot_bid = BotBid([vuln_ns, vuln_ew], hand, models, sampler, 1, 0, dds, False, False)\n",
    "\n",
    "bid = bot_bid.bid(auction)\n",
    "bid.to_dict()['candidates']\n",
    "\n",
    "# what's your bid?\n"
   ]
  },
  {
   "cell_type": "code",
   "execution_count": 3,
   "id": "f8eaf1c5",
   "metadata": {},
   "outputs": [
    {
     "data": {
      "text/plain": [
       "[{'call': 'X', 'insta_score': 0.598}]"
      ]
     },
     "execution_count": 3,
     "metadata": {},
     "output_type": "execute_result"
    }
   ],
   "source": [
    "auction = [\"1S\",\"PASS\",\"1N\",\"PASS\",\"2C\"]\n",
    "bot_bid = BotBid([vuln_ns, vuln_ew], hand, models, sampler, 1, 0, dds, False, False)\n",
    "\n",
    "bid = bot_bid.bid(auction)\n",
    "bid.to_dict()['candidates']\n"
   ]
  },
  {
   "cell_type": "code",
   "execution_count": 4,
   "id": "55b647a5",
   "metadata": {},
   "outputs": [
    {
     "name": "stdout",
     "output_type": "stream",
     "text": [
      "KQxxx.AKx.xx.Jxx A.xxx.Jxx.AQxxxx JT.QJxx.ATxx.KTx xxxxx.Txx.KQxx.x - 0.99998\n",
      "KJTxx.ATx.Qx.Kxx A.xxx.Jxx.AQxxxx xx.KQJ.KTxx.JTxx Qxxxx.xxxx.Axxx. - 0.99998\n",
      "Kxxxx.KTx.Ax.Kxx A.xxx.Jxx.AQxxxx QT.Axx.QTxxx.JTx Jxxxx.QJxx.Kxx.x - 0.99997\n",
      "KJxxx.Axx.Kx.JTx A.xxx.Jxx.AQxxxx xx.KJxx.QTxxx.Kx QTxxx.QTx.Axx.xx - 0.99997\n",
      "Qxxxx.Ax.KT.KJTx A.xxx.Jxx.AQxxxx xx.KJTxx.Axxxx.x KJTxx.Qxx.Qxx.xx - 0.99994\n",
      "KTxxx.KQ.Kx.JTxx A.xxx.Jxx.AQxxxx xx.ATxxx.Qxxx.Kx QJxxx.Jxx.ATxx.x - 0.99994\n",
      "KQTxx.Ax.x.KTxxx A.xxx.Jxx.AQxxxx xx.QJxx.KQxxx.Jx Jxxxx.KTxx.ATxx. - 0.99993\n",
      "KQxxx.Ax.Ax.Txxx A.xxx.Jxx.AQxxxx xx.KQxx.QTxxxx.J JTxxx.JTxx.Kx.Kx - 0.99991\n",
      "QTxxx.Ax.Ax.KTxx A.xxx.Jxx.AQxxxx Jx.KTxxx.Kxxxx.J Kxxxx.QJx.QTx.xx - 0.99989\n",
      "KJxxx.Ax.KQx.xxx A.xxx.Jxx.AQxxxx Qx.QJxx.xxx.KJTx Txxxx.KTxx.ATxx. - 0.99988\n"
     ]
    }
   ],
   "source": [
    "### Samples consistent with the auction so far\n",
    "\n",
    "for i in range(min(10,len(bid.samples))):\n",
    "    print(bid.samples[i])\n"
   ]
  },
  {
   "cell_type": "markdown",
   "id": "7d0dd8f5",
   "metadata": {},
   "source": [
    "West always has the same cards because it's your hand and it's known to you"
   ]
  },
  {
   "cell_type": "code",
   "execution_count": 6,
   "id": "7101e514",
   "metadata": {},
   "outputs": [
    {
     "name": "stdout",
     "output_type": "stream",
     "text": [
      "Good quality: 0.9801585078239441\n",
      "xxx.Axxx.KTx.xxx KQxx.KQTx.Qxx.KJ A.xxx.Jxx.AQxxxx JTxxx.Jx.Axxx.Tx 1.00\n",
      "Kxxx.Jxx.Kx.JTxx QTx.ATx.AQxx.Kxx A.xxx.Jxx.AQxxxx Jxxxx.KQxx.Txxx. 1.00\n",
      "Jxxx.JTxx.Txx.Kx Qxx.AQx.AKx.JTxx A.xxx.Jxx.AQxxxx KTxxx.Kxx.Qxxx.x 1.00\n",
      "Qx.KQxx.Qxxx.Txx KTx.Axx.AKxx.Kxx A.xxx.Jxx.AQxxxx Jxxxxxx.JTx.Tx.J 1.00\n",
      "Txxx.KQJx.Qxxxx. Qxx.ATxx.AKx.Kxx A.xxx.Jxx.AQxxxx KJxxx.xx.Tx.JTxx 1.00\n",
      "Jxxx.Txx.Kxx.xxx KQxx.KJxx.Axx.Kx A.xxx.Jxx.AQxxxx Txxx.AQx.QTxx.JT 1.00\n",
      "Kxxx.Qxxx.Tx.Txx Qxxx.AKTx.Axx.Kx A.xxx.Jxx.AQxxxx JTxx.Jx.KQxxx.Jx 1.00\n",
      "xxxx.Jxxx.xxx.Tx Qxx.AKT.KTx.KJxx A.xxx.Jxx.AQxxxx KJTxx.Qxx.AQxx.x 1.00\n",
      "Jxxx.xxx.Txxx.Tx QTx.AKQ.Qxx.Kxxx A.xxx.Jxx.AQxxxx Kxxxx.JTxx.AKx.J 1.00\n",
      "xxxx.QTx.AQxx.xx KQxx.AKx.Kxx.JTx A.xxx.Jxx.AQxxxx JTxx.Jxxx.Txx.Kx 1.00\n"
     ]
    }
   ],
   "source": [
    "# we got some samples above. if we want more, we can always get more\n",
    "auction = [\"PASS\", \"1N\"]\n",
    "sample_hands, sorted_score, p_hcp, p_shp, good_quality = bot_bid.sample_hands_for_auction(auction,2)\n",
    "print(\"Good quality:\", good_quality)\n",
    "for i in range(min(10,sample_hands.shape[0])):\n",
    "    print(f'{hand_to_str(sample_hands[i, 0, :], models.n_cards_bidding)} {hand_to_str(sample_hands[i, 1, :], models.n_cards_bidding)} {hand_to_str(sample_hands[i, 2, :], models.n_cards_bidding)} {hand_to_str(sample_hands[i, 3, :], models.n_cards_bidding)} {sorted_score[i]:.2f}')"
   ]
  }
 ],
 "metadata": {
  "kernelspec": {
   "display_name": "Python 3",
   "language": "python",
   "name": "python3"
  },
  "language_info": {
   "codemirror_mode": {
    "name": "ipython",
    "version": 3
   },
   "file_extension": ".py",
   "mimetype": "text/x-python",
   "name": "python",
   "nbconvert_exporter": "python",
   "pygments_lexer": "ipython3",
   "version": "3.12.3"
  }
 },
 "nbformat": 4,
 "nbformat_minor": 5
}
