{
 "cells": [
  {
   "cell_type": "markdown",
   "id": "75d07246",
   "metadata": {},
   "source": [
    "# Bidding\n",
    "\n",
    "This is a tutorial for how to use the bidding engine"
   ]
  },
  {
   "cell_type": "code",
   "execution_count": 1,
   "id": "59a5664c",
   "metadata": {},
   "outputs": [
    {
     "name": "stderr",
     "output_type": "stream",
     "text": [
      "Loading config file d:\\GitHub\\ben\\src\\./config/default.conf\n",
      "Loading config file d:\\GitHub\\ben\\src\\./config/default.conf\n"
     ]
    }
   ],
   "source": [
    "import os\n",
    "os.chdir('..')\n",
    "\n",
    "from nn.models_tf2 import Models\n",
    "from botbidder import BotBid\n",
    "from util import hand_to_str\n",
    "from sample import Sample\n",
    "import conf\n",
    "import numpy as np\n",
    "\n",
    "np.set_printoptions(precision=2, suppress=True, linewidth=200)\n",
    "np.random.seed(42)\n",
    "models = Models.from_conf(conf.load('./config/default.conf'),'..')   # loading neural networks\n",
    "sampler = Sample.from_conf(conf.load('./config/default.conf'), False)  # Load sampling strategies\n"
   ]
  },
  {
   "cell_type": "markdown",
   "id": "10d8f2fc",
   "metadata": {},
   "source": [
    "### Running through an example"
   ]
  },
  {
   "cell_type": "code",
   "execution_count": 2,
   "id": "19dbfeb7",
   "metadata": {},
   "outputs": [
    {
     "data": {
      "text/plain": [
       "[{'call': '2N',\n",
       "  'insta_score': 1.1,\n",
       "  'alert': 'True',\n",
       "  'explanation': 'Jacoby 2NT -- 4+!H; 4-!S; 11+ HCP; Artificial; GF'}]"
      ]
     },
     "execution_count": 2,
     "metadata": {},
     "output_type": "execute_result"
    }
   ],
   "source": [
    "# East deals, EW vulnerable.\n",
    "vuln_ns, vuln_ew = True, True\n",
    "\n",
    "# you sit West and hold:\n",
    "hand = 'K6.98432.KQ.AT52'\n",
    "from ddsolver import ddsolver\n",
    "dds = ddsolver.DDSolver()\n",
    "\n",
    "auction = ['PAD_START', 'PAD_START', '1H', 'PASS']\n",
    "bot_bid = BotBid([vuln_ns, vuln_ew], hand, models, sampler, 0, 2, dds, False, False)\n",
    "\n",
    "bid = bot_bid.bid(auction)\n",
    "bid.to_dict()['candidates']\n",
    "\n",
    "# what's your bid?"
   ]
  },
  {
   "cell_type": "code",
   "execution_count": 3,
   "id": "bfe98f56",
   "metadata": {},
   "outputs": [
    {
     "data": {
      "text/plain": [
       "[{'call': '4H',\n",
       "  'insta_score': 0.625,\n",
       "  'adjustment': 5.0,\n",
       "  'expected_score': 635,\n",
       "  'expected_imp': 0.44,\n",
       "  'expected_tricks': 11.0,\n",
       "  'alert': 'False',\n",
       "  'explanation': 'Nat. -- 4+!H; 4-!S; 11-12 HCP; GF'},\n",
       " {'call': '3H',\n",
       "  'insta_score': 0.306,\n",
       "  'adjustment': 2.45,\n",
       "  'expected_score': 555,\n",
       "  'expected_imp': -1.26,\n",
       "  'expected_tricks': 11.0},\n",
       " {'call': '3S',\n",
       "  'insta_score': 0.12,\n",
       "  'adjustment': 0.96,\n",
       "  'expected_score': 600,\n",
       "  'expected_imp': -0.34,\n",
       "  'expected_tricks': 11.0},\n",
       " {'call': '4C',\n",
       "  'insta_score': 0.073,\n",
       "  'adjustment': -3.42,\n",
       "  'expected_score': 665,\n",
       "  'expected_imp': 1.15,\n",
       "  'expected_tricks': 11.0}]"
      ]
     },
     "execution_count": 3,
     "metadata": {},
     "output_type": "execute_result"
    }
   ],
   "source": [
    "auction = [\"PAD_START\", \"PAD_START\", \"1H\", \"PASS\", \"2N\", \"PASS\", \"3D\", \"PASS\"]\n",
    "bid = bot_bid.bid(auction)\n",
    "\n",
    "bid.to_dict()['candidates']"
   ]
  },
  {
   "cell_type": "code",
   "execution_count": 4,
   "id": "55b647a5",
   "metadata": {},
   "outputs": [
    {
     "name": "stderr",
     "output_type": "stream",
     "text": [
      "No samples found for auction ['PAD_START', 'PAD_START', '1H', 'PASS', '2N', 'PASS', '3D', 'PASS', '4H', 'PASS', 'PASS', 'X'] - Samplings: 30000 max 30000\n",
      "Quality -1.00 to low for auction ['PAD_START', 'PAD_START', '1H', 'PASS', '2N', 'PASS', '3D', 'PASS', '4H', 'PASS', 'PASS', 'X'] - Samplings: 30000 max 30000\n",
      "Skipping their doubles\n"
     ]
    },
    {
     "data": {
      "text/plain": [
       "[{'call': 'PASS',\n",
       "  'insta_score': 1.163,\n",
       "  'alert': 'False',\n",
       "  'explanation': ' -- 4+!H; 4-!S; 11-12 HCP; GF'}]"
      ]
     },
     "execution_count": 4,
     "metadata": {},
     "output_type": "execute_result"
    }
   ],
   "source": [
    "auction = ['PAD_START', 'PAD_START', '1H', 'PASS', '2N', 'PASS', '3D', 'PASS', '4H', 'PASS', 'PASS','X']\n",
    "bid = bot_bid.bid(auction)\n",
    "\n",
    "bid.to_dict()['candidates']"
   ]
  }
 ],
 "metadata": {
  "kernelspec": {
   "display_name": "Python 3",
   "language": "python",
   "name": "python3"
  },
  "language_info": {
   "codemirror_mode": {
    "name": "ipython",
    "version": 3
   },
   "file_extension": ".py",
   "mimetype": "text/x-python",
   "name": "python",
   "nbconvert_exporter": "python",
   "pygments_lexer": "ipython3",
   "version": "3.12.3"
  }
 },
 "nbformat": 4,
 "nbformat_minor": 5
}
