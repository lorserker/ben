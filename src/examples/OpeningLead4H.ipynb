{
 "cells": [
  {
   "cell_type": "markdown",
   "id": "170af530",
   "metadata": {},
   "source": [
    "# Opening Lead\n",
    "\n",
    "This is a tutorial for how to use the opening lead engine."
   ]
  },
  {
   "cell_type": "code",
   "execution_count": 1,
   "id": "26570686",
   "metadata": {},
   "outputs": [
    {
     "name": "stderr",
     "output_type": "stream",
     "text": [
      "Loading config file d:\\GitHub\\ben\\src\\./config/default.conf\n",
      "Loading config file d:\\GitHub\\ben\\src\\./config/default.conf\n"
     ]
    }
   ],
   "source": [
    "import os\n",
    "os.chdir('..')\n",
    "\n",
    "from nn.models_tf2 import Models\n",
    "import botopeninglead\n",
    "from sample import Sample\n",
    "import conf\n",
    "import numpy as np\n",
    "\n",
    "np.set_printoptions(precision=2, suppress=True, linewidth=200)\n",
    "np.random.seed(42)\n",
    "\n",
    "models = Models.from_conf(conf.load('./config/default.conf'),'..')   # loading neural networks\n",
    "sampler = Sample.from_conf(conf.load('./config/default.conf'), False)  # Load sampling strategies\n"
   ]
  },
  {
   "cell_type": "code",
   "execution_count": 2,
   "id": "c3397678",
   "metadata": {},
   "outputs": [],
   "source": [
    "# both vulnerable. you are sitting North as dealer and you hold\n",
    "hand = 'AT873.T5.A3.8763'\n",
    "seat = 0\n",
    "# the auction goes:\n",
    "auction = [\"PASS\", \"1N\", \"PASS\", \"2D\", \"X\", \"2H\", \"PASS\", \"4H\", \"PASS\", \"PASS\", \"PASS\"]\n",
    "\n",
    "from ddsolver import ddsolver\n",
    "dds = ddsolver.DDSolver()\n",
    "\n",
    "# what to lead?\n",
    "lead_bot = botopeninglead.BotLead([True, True], hand, models, sampler, seat, 0, dds, False)\n",
    "lead = lead_bot.find_opening_lead(auction, {})"
   ]
  },
  {
   "cell_type": "code",
   "execution_count": 3,
   "id": "a2b5fe25",
   "metadata": {},
   "outputs": [
    {
     "data": {
      "text/plain": [
       "DA"
      ]
     },
     "execution_count": 3,
     "metadata": {},
     "output_type": "execute_result"
    }
   ],
   "source": [
    "lead.card"
   ]
  },
  {
   "cell_type": "markdown",
   "id": "02e88396",
   "metadata": {},
   "source": [
    "seems like the engine chose to lead the ace of diamonds\n",
    "\n",
    "the other options it considered were: a small spade and a small club"
   ]
  },
  {
   "cell_type": "code",
   "execution_count": 4,
   "id": "956ef356",
   "metadata": {},
   "outputs": [
    {
     "data": {
      "text/plain": [
       "[{'card': 'DA',\n",
       "  'insta_score': 0.406,\n",
       "  'p_make_contract': 0.61,\n",
       "  'expected_score_imp': 1.99,\n",
       "  'msg': ''},\n",
       " {'card': 'SA',\n",
       "  'insta_score': 0.118,\n",
       "  'p_make_contract': 0.59,\n",
       "  'expected_score_imp': 1.39,\n",
       "  'msg': ''},\n",
       " {'card': 'Cx',\n",
       "  'insta_score': 0.265,\n",
       "  'p_make_contract': 0.43,\n",
       "  'expected_score_imp': -1.56,\n",
       "  'msg': ''},\n",
       " {'card': 'HT',\n",
       "  'insta_score': 0.158,\n",
       "  'p_make_contract': 0.41,\n",
       "  'expected_score_imp': -1.82,\n",
       "  'msg': ''}]"
      ]
     },
     "execution_count": 4,
     "metadata": {},
     "output_type": "execute_result"
    }
   ],
   "source": [
    "lead.to_dict()['candidates']"
   ]
  },
  {
   "cell_type": "markdown",
   "id": "97efc5a1",
   "metadata": {},
   "source": [
    "in the above output:\n",
    "- `insta_score` reflects the preference of the neural network\n",
    "- `expected_tricks` how many tricks declarer is expected to take on this lead\n",
    "- `p_make_contract` is the probability of the contract making on this lead\n",
    "\n",
    "the probability of making and the expected tricks are computed on samples which are consistent with the auction. the samples are estimated single dummy using a neural network (more on this in another tutorial). we could also solve the samples double dummy, but that would be quite a bit slower."
   ]
  },
  {
   "cell_type": "code",
   "execution_count": 5,
   "id": "7cb2bf98",
   "metadata": {},
   "outputs": [
    {
     "data": {
      "text/plain": [
       "['AT8xx.Tx.Ax.8xxx x.KQxxx.Qxxx.Txx Jx.xxx.KJTxx.AJx KQxxx.AJx.xx.KQx - 0.77765 | DA:200.0 Cx:200.0 HT:200.0 SA:100.0',\n",
       " 'ATxxx.Tx.Ax.xxxx x.KQxxxx.Kxx.Txx KQxx.Jx.QTxxxx.x Jxx.Axx.Jx.AKQJx - 0.73484 | DA:-650.0 Cx:-680.0 HT:-680.0 SA:-650.0',\n",
       " 'ATxxx.Tx.Ax.xxxx KJx.Kxxxxx.xxx.x xxx.QJ.KJTxx.Jxx Qx.Axx.Qxx.AKQTx - 0.70604 | DA:100.0 Cx:-680.0 HT:-680.0 SA:100.0',\n",
       " 'ATxxx.Tx.Ax.xxxx x.Axxxxx.Qxx.Txx QJxx.Jx.KJTxxx.Q Kxx.KQx.xx.AKJxx - 0.78194 | DA:-620.0 Cx:-650.0 HT:-650.0 SA:-620.0',\n",
       " 'ATxxx.Tx.Ax.xxxx QJxx.Jxxxx.Jx.Qx xx.Axx.KQTxx.Txx Kx.KQx.xxxx.AKJx - 0.76297 | DA:100.0 Cx:-620.0 HT:100.0 SA:100.0',\n",
       " 'ATxxx.Tx.Ax.xxxx x.KQJxxxxx.xx.KT Jxxx..KQTxx.Qxxx KQx.Axx.Jxxx.AJx - 0.70831 | DA:-620.0 Cx:-680.0 HT:-680.0 SA:-620.0',\n",
       " 'ATxxx.Tx.Ax.xxxx Qxx.Kxxxxx.Txx.J xx.Ax.KJxxx.Qxxx KJx.QJx.Qxx.AKTx - 0.77350 | DA:200.0 Cx:100.0 HT:200.0 SA:200.0',\n",
       " 'ATxxx.Tx.Ax.xxxx J.Qxxxx.JTxx.Axx Kx.xxx.KQxxx.JTx Qxxxx.AKJ.xx.KQx - 0.75694 | DA:100.0 Cx:100.0 HT:100.0 SA:-620.0',\n",
       " 'ATxxx.Tx.Ax.xxxx Jxx.AJxxx.Tx.Qxx x.xxx.KQxxx.KJTx KQxx.KQx.Jxxx.Ax - 0.75495 | DA:200.0 Cx:200.0 HT:100.0 SA:200.0',\n",
       " 'ATxxx.Tx.Ax.xxxx xxxx.KQxxx.Qxx.x Qx.Jxx.KJTxx.QJx KJ.Axx.xxx.AKTxx - 0.76548 | DA:200.0 Cx:-620.0 HT:-620.0 SA:200.0',\n",
       " 'ATxxx.Tx.Ax.xxxx x.AQJxxxx.xx.Txx Qxxx.x.KQTxxx.Jx KJx.Kxx.Jxx.AKQx - 0.76042 | DA:-620.0 Cx:-650.0 HT:-650.0 SA:-620.0',\n",
       " 'ATxxx.Tx.Ax.xxxx Kx.Jxxxx.xxx.AJx x.Qxx.KJxxx.QTxx QJxxx.AKx.QTx.Kx - 0.73658 | DA:300.0 Cx:100.0 HT:-620.0 SA:300.0',\n",
       " 'ATxxx.Tx.Ax.xxxx Jxx.Kxxxx.Qxx.Jx Qx.Qxx.KJxxx.Qxx Kxx.AJx.Txx.AKTx - 0.73561 | DA:200.0 Cx:-620.0 HT:-620.0 SA:200.0',\n",
       " 'ATxxx.Tx.Ax.xxxx x.Qxxxxx.Kxx.Qxx Qxx.xx.QJxxx.ATx KJxx.AKJ.Txx.KJx - 0.71091 | DA:100.0 Cx:-620.0 HT:-620.0 SA:-620.0',\n",
       " 'ATxxx.Tx.Ax.xxxx Qx.AJxxxx.Txx.Jx Kxxx.xx.KQxxx.Tx Jx.KQx.Jxx.AKQxx - 0.77547 | DA:200.0 Cx:-650.0 HT:-650.0 SA:200.0',\n",
       " 'ATxxx.Tx.Ax.xxxx x.Jxxxxx.Kxx.Jxx Jxx.AK.QJTxx.Txx KQxx.Qxx.xxx.AKQ - 0.76316 | DA:200.0 Cx:100.0 HT:200.0 SA:100.0',\n",
       " 'ATxxx.Tx.Ax.xxxx xxx.KQJxx.Jxxx.x x.xxx.KQTxx.QJxx KQJx.Axx.xx.AKTx - 0.71497 | DA:100.0 Cx:100.0 HT:100.0 SA:200.0',\n",
       " 'ATxxx.Tx.Ax.xxxx x.Jxxxx.xx.KQJTx Jxx.AQx.QJTxx.xx KQxx.Kxx.Kxxx.Ax - 0.76705 | DA:100.0 Cx:100.0 HT:200.0 SA:100.0',\n",
       " 'ATxxx.Tx.Ax.xxxx KQx.QJxxxx.xx.Jx xx.Kx.QJTxx.QTxx Jxx.Axx.Kxxx.AKx - 0.76155 | DA:-650.0 Cx:-620.0 HT:-620.0 SA:-620.0',\n",
       " 'ATxxx.Tx.Ax.xxxx xx.KJxxx.Tx.QJxx Qxx.Qxx.QJxxx.KT KJx.Axx.Kxxx.Axx - 0.70612 | DA:-620.0 Cx:-620.0 HT:-620.0 SA:-650.0']"
      ]
     },
     "execution_count": 5,
     "metadata": {},
     "output_type": "execute_result"
    }
   ],
   "source": [
    "# each row is one sample board\n",
    "# the hands are in the order: LHO, Partner, RHO. Your cards are not shown as they are fixed/\n",
    "\n",
    "lead.samples"
   ]
  }
 ],
 "metadata": {
  "kernelspec": {
   "display_name": "Python 3",
   "language": "python",
   "name": "python3"
  },
  "language_info": {
   "codemirror_mode": {
    "name": "ipython",
    "version": 3
   },
   "file_extension": ".py",
   "mimetype": "text/x-python",
   "name": "python",
   "nbconvert_exporter": "python",
   "pygments_lexer": "ipython3",
   "version": "3.12.3"
  }
 },
 "nbformat": 4,
 "nbformat_minor": 5
}
