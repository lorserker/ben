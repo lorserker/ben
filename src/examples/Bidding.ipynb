{
 "cells": [
  {
   "cell_type": "markdown",
   "id": "75d07246",
   "metadata": {},
   "source": [
    "# Bidding\n",
    "\n",
    "This is a tutorial for how to use the bidding engine"
   ]
  },
  {
   "cell_type": "code",
   "execution_count": 1,
   "id": "59a5664c",
   "metadata": {},
   "outputs": [],
   "source": [
    "import os\n",
    "os.chdir('..')\n",
    "\n",
    "from nn.models import Models\n",
    "from bots import BotBid\n",
    "from bidding import bidding\n",
    "from util import hand_to_str\n",
    "from deck52 import random_deal\n",
    "from sample import Sample\n",
    "import conf\n",
    "import numpy as np\n",
    "\n",
    "np.set_printoptions(precision=2, suppress=True, linewidth=200)\n"
   ]
  },
  {
   "cell_type": "code",
   "execution_count": 2,
   "id": "44786d5d",
   "metadata": {},
   "outputs": [
    {
     "name": "stdout",
     "output_type": "stream",
     "text": [
      "WARNING:tensorflow:From d:\\GitHub\\ben\\src\\nn\\bidderv2.py:3: The name tf.disable_v2_behavior is deprecated. Please use tf.compat.v1.disable_v2_behavior instead.\n",
      "\n",
      "WARNING:tensorflow:From c:\\ProgramData\\miniconda3\\Lib\\site-packages\\tensorflow\\python\\compat\\v2_compat.py:98: disable_resource_variables (from tensorflow.python.ops.resource_variables_toggle) is deprecated and will be removed in a future version.\n",
      "Instructions for updating:\n",
      "non-resource variables are not supported in the long term\n",
      "WARNING:tensorflow:From d:\\GitHub\\ben\\src\\nn\\bidderv2.py:12: The name tf.Session is deprecated. Please use tf.compat.v1.Session instead.\n",
      "\n",
      "WARNING:tensorflow:From d:\\GitHub\\ben\\src\\nn\\bidderv2.py:21: The name tf.train.import_meta_graph is deprecated. Please use tf.compat.v1.train.import_meta_graph instead.\n",
      "\n",
      "INFO:tensorflow:Restoring parameters from ..\\models/GIB/2024-07-06_bidding_V2-3114000\n",
      "INFO:tensorflow:Restoring parameters from ..\\models/GIB/2024-07-06_bidding_V2-3114000\n",
      "INFO:tensorflow:Restoring parameters from ..\\models/contract/contract-193200\n",
      "INFO:tensorflow:Restoring parameters from ..\\models/GIB/binfo_V2-1420000\n",
      "INFO:tensorflow:Restoring parameters from ..\\UCBC 2024/Models/lead_suit-999000\n",
      "INFO:tensorflow:Restoring parameters from ..\\UCBC 2024/Models/lead_nt-475000\n",
      "INFO:tensorflow:Restoring parameters from ..\\models/lr3_model/lr3-1000000\n",
      "INFO:tensorflow:Restoring parameters from ..\\models/single_dummy/single_dummy-32768000\n",
      "INFO:tensorflow:Restoring parameters from ..\\models/playing/lefty_nt-475000\n",
      "INFO:tensorflow:Restoring parameters from ..\\models/playing/dummy_nt-475000\n",
      "INFO:tensorflow:Restoring parameters from ..\\models/playing/righty_nt-475000\n",
      "INFO:tensorflow:Restoring parameters from ..\\models/playing/decl_nt-475000\n",
      "INFO:tensorflow:Restoring parameters from ..\\models/playing/lefty_suit-999000\n",
      "INFO:tensorflow:Restoring parameters from ..\\models/playing/dummy_suit-999000\n",
      "INFO:tensorflow:Restoring parameters from ..\\models/playing/righty_suit-999000\n",
      "INFO:tensorflow:Restoring parameters from ..\\models/playing/decl_suit-999000\n"
     ]
    }
   ],
   "source": [
    "models = Models.from_conf(conf.load('./config/default_tf1x.conf'),'..')   # loading neural networks\n",
    "sampler = Sample.from_conf(conf.load('./config/default_tf1x.conf'))  # Load sampling strategies"
   ]
  },
  {
   "cell_type": "markdown",
   "id": "10d8f2fc",
   "metadata": {},
   "source": [
    "### Running through an example"
   ]
  },
  {
   "cell_type": "code",
   "execution_count": 3,
   "id": "19dbfeb7",
   "metadata": {},
   "outputs": [
    {
     "name": "stderr",
     "output_type": "stream",
     "text": [
      "Loaded lib dds.dll\n",
      "DDSolver being loaded - dds mode 1\n"
     ]
    },
    {
     "data": {
      "text/plain": [
       "[{'call': '4H',\n",
       "  'insta_score': 0.474,\n",
       "  'adjustment': 24,\n",
       "  'expected_score': 220,\n",
       "  'expected_tricks': 10.1,\n",
       "  'alert': 'False'},\n",
       " {'call': 'PASS',\n",
       "  'insta_score': 0.515,\n",
       "  'adjustment': 26,\n",
       "  'expected_score': 83,\n",
       "  'expected_tricks': 8.9,\n",
       "  'alert': 'False'}]"
      ]
     },
     "execution_count": 3,
     "metadata": {},
     "output_type": "execute_result"
    }
   ],
   "source": [
    "\n",
    "vuln_ns, vuln_ew = False, False\n",
    "\n",
    "from ddsolver import ddsolver\n",
    "dds = ddsolver.DDSolver()\n",
    "\n",
    "# you sit West and hold:\n",
    "hand = '6.AKJT82.762.K63'\n",
    "\n",
    "# the auction goes:\n",
    "auction = ['1D', '3S']\n",
    "bot_bid = BotBid([vuln_ns, vuln_ew], hand, models, sampler, seat=2, dealer=0, ddsolver=dds, verbose=False)\n",
    "\n",
    "bid = bot_bid.bid(auction)\n",
    "bid.to_dict()['candidates']\n",
    "\n",
    "# what's your bid?"
   ]
  },
  {
   "cell_type": "code",
   "execution_count": 4,
   "id": "bfe98f56",
   "metadata": {},
   "outputs": [
    {
     "data": {
      "text/plain": [
       "[{'call': 'PASS', 'insta_score': 0.941, 'alert': 'False'}]"
      ]
     },
     "execution_count": 4,
     "metadata": {},
     "output_type": "execute_result"
    }
   ],
   "source": [
    "auction = ['1D', '3S', '4H', '4S', '5H', 'PASS']\n",
    "bid = bot_bid.bid(auction)\n",
    "bid.to_dict()['candidates']"
   ]
  },
  {
   "cell_type": "markdown",
   "id": "ad120123",
   "metadata": {},
   "source": [
    "in the output above:\n",
    "- `insta_score` reflects what the neural network prefers to bid\n",
    "- `expected_score` is based on what you expect to score on difference samples (for example, 70% of the time you are making and 30% of the time you are going one off, then the expected score is 0.7 * 620 - 0.3 * 100)"
   ]
  },
  {
   "cell_type": "markdown",
   "id": "051ff121",
   "metadata": {},
   "source": [
    "### Samples consistent with the auction so far\n",
    "\n",
    "Above we said that we are computig expected scores on samples consistent with the auction so far.\n",
    "\n",
    "How do we get these samples?\n",
    "\n",
    "We get some samples in the response we get from the bot (i.e `bid.samples`)"
   ]
  },
  {
   "cell_type": "code",
   "execution_count": 5,
   "id": "55b647a5",
   "metadata": {},
   "outputs": [
    {
     "data": {
      "text/plain": [
       "['J.Q9xx.KQJ8xx.Qx KT8xxxx.x.x.JT9x x.AKJT8x.xxx.Kxx AQ9x.xx.AT9.A8xx 0.77734',\n",
       " 'x.9xxxx.AKQJTx.9 QT98xxx.x.9x.QJx x.AKJT8x.xxx.Kxx AKJx.Q.8x.AT8xxx 0.76221',\n",
       " 'Q.Qxxx.KQJT9xx.Q AJT8xxx.9.x.8xxx x.AKJT8x.xxx.Kxx K9xx.xx.A8.AJT9x 0.71338',\n",
       " 'Jx.Qxxx.AKT9xx.Q QT98xxx.x.J.Jxxx x.AKJT8x.xxx.Kxx AKx.9x.Q8x.AT98x 0.69434',\n",
       " 'Q.Qxxx.AQTxxx.8x KJT8xxx.x.KJ9.J9 x.AKJT8x.xxx.Kxx A9xx.9x.8.AQTxxx 0.69287',\n",
       " 'x.Q9xx.AKJT9x.QT KJ98xxx.x.x.J9xx x.AKJT8x.xxx.Kxx AQTx.xx.Q8x.A8xx 0.68408',\n",
       " 'A.Qxx.KQT8xx.xxx KQ9xxxx.9x.J9.98 x.AKJT8x.xxx.Kxx JT8x.xx.Ax.AQJTx 0.68311',\n",
       " 'x.Qxxx.AKQ98x.Jx QJT9xxx.9.Tx.Qxx x.AKJT8x.xxx.Kxx AK8x.xx.Jx.AT98x 0.67969',\n",
       " 'Q.Qxx.AK98xx.9xx AJ98xxx.x.Qx.T8x x.AKJT8x.xxx.Kxx KTxx.9xx.JT.AQJx 0.67578',\n",
       " '9.Qxx.AQ98xx.QJ8 QJ8xxxx.x.KTx.xx x.AKJT8x.xxx.Kxx AKTx.9xx.J.AT9xx 0.67090',\n",
       " '9.Q9xx.KJT98x.Ax QJT8xxx.xx.A.98x x.AKJT8x.xxx.Kxx AKxx.x.Qxx.QJTxx 0.66748',\n",
       " 'x.Q9xx.A98xxx.A8 KQT98xx.x.J.JT9x x.AKJT8x.xxx.Kxx AJxx.xx.KQT.Qxxx 0.66309',\n",
       " 'Q.Qxx.AQJ98x.T8x KJT98xx.9x.K.xxx x.AKJT8x.xxx.Kxx Axxx.xx.Txx.AQJ9 0.65625',\n",
       " '.xxxx.KQJ98x.A8x QT8xxxx..AT.J9xx x.AKJT8x.xxx.Kxx AKJ9x.Q9x.xx.QTx 0.64941',\n",
       " 'x.Qxx.KQ8xx.AT9x QJT98xx.9x.J.Jxx x.AKJT8x.xxx.Kxx AKxx.xx.AT9x.Q8x 0.64502',\n",
       " 'Kx.Qxxx.QT98x.AT JT98xxx.9.A.Q8xx x.AKJT8x.xxx.Kxx AQx.xx.KJxx.J9xx 0.64307',\n",
       " 'K.9x.KJT98x.A98x QJ8xxxx.Qx.x.Txx x.AKJT8x.xxx.Kxx AT9x.xxx.AQx.QJx 0.64111',\n",
       " 'T.9xx.AK98xx.A8x QJ98xxx.x.J.QJxx x.AKJT8x.xxx.Kxx AKxx.Qxx.QTx.T9x 0.64014',\n",
       " 'A8x.Q9x.KQ98xx.x KJT9xxx.xxx..T9x x.AKJT8x.xxx.Kxx Qx.x.AJTx.AQJ8xx 0.63916',\n",
       " '.Q9xx.KJ98xx.ATx AJT8xxx.xx.x.xxx x.AKJT8x.xxx.Kxx KQ9xx.x.AQT.QJ98 0.63818']"
      ]
     },
     "execution_count": 5,
     "metadata": {},
     "output_type": "execute_result"
    }
   ],
   "source": [
    "bid.samples"
   ]
  },
  {
   "cell_type": "markdown",
   "id": "7d0dd8f5",
   "metadata": {},
   "source": [
    "each row is one sample. the hands are in the order: N E S W\n",
    "\n",
    "(West always has the same cards because it's your hand and it's known to you)"
   ]
  },
  {
   "cell_type": "code",
   "execution_count": 6,
   "id": "7101e514",
   "metadata": {},
   "outputs": [
    {
     "name": "stdout",
     "output_type": "stream",
     "text": [
      "Good quality: 0.998\n",
      "x.AKJT8x.xxx.Kxx AKQ.Qx.AQJ9.Q8xx T8xxx..KT8xxx.JT J9xx.9xxxx..A9xx\n",
      "x.AKJT8x.xxx.Kxx KQ8.Q9.AKQx.AJTx JTxxx.xx.8xx.Q8x A9xx.xxx.JT9.9xx\n",
      "x.AKJT8x.xxx.Kxx ATx.Q9x.AKx.AQJx 98xxxx..QJx.T9xx KQJ.xxxx.T98x.8x\n",
      "x.AKJT8x.xxx.Kxx AKQ.Qxx.AKxx.QTx 98xxx.9x.98.A8xx JTxx.xx.QJTx.J9x\n",
      "x.AKJT8x.xxx.Kxx AJx.Q9x.AKxx.AQx QT9xx.xx.x.JT8xx K8xx.xx.QJT98.9x\n",
      "x.AKJT8x.xxx.Kxx KQx.Qx.AKQ8x.ATx T8xx.9.9x.QJ98xx AJ9xx.xxxx.JTx.x\n",
      "x.AKJT8x.xxx.Kxx AK8.9xx.AKQ9.Axx 9xxxx.x.T8x.T8xx QJTx.Qxx.Jxx.QJ9\n",
      "x.AKJT8x.xxx.Kxx AKx.Q9.AKT9.A9xx Q8xxx.xx.8x.JT8x JT9x.xxx.QJxx.Qx\n",
      "x.AKJT8x.xxx.Kxx AK8.xx.AKJ8.AJTx T9xxx.xx.Q9x.Q9x QJxx.Q9x.Txx.8xx\n",
      "x.AKJT8x.xxx.Kxx AK.Q9x.AK9x.Axxx QJ8xxx.x.Tx.JT8x T9xx.xxx.QJ8x.Q9\n",
      "x.AKJT8x.xxx.Kxx KJ.Qxx.AKx.AQJ9x QT9xxx.x.JTxx.xx A8xx.9xx.Q98.T8x\n",
      "x.AKJT8x.xxx.Kxx K8x.Qx.AKQT8.AQx QJxxx.xxx.9x.9xx AT9x.9x.Jxx.JT8x\n",
      "x.AKJT8x.xxx.Kxx A8x.Q9x.AKQx.AJT JT9xx.xx.8x.Q98x KQxx.xx.JT9x.xxx\n",
      "x.AKJT8x.xxx.Kxx KQx.Qx.AKQ9x.AJx JT8xx.9x.T8x.Q8x A9xx.xxx.Jx.T9xx\n",
      "x.AKJT8x.xxx.Kxx AQ8.xx.AKQ9x.AJx JTxxx.x.Jx.Q98xx K9xx.Q9xx.T8x.Tx\n",
      "x.AKJT8x.xxx.Kxx AQx.xxx.AKQJx.A9 KT98..T9x.J8xxxx Jxxxx.Q9xx.8x.QT\n",
      "x.AKJT8x.xxx.Kxx AKx.Qx.KQx.AQ8xx JT98x.9x.T98x.Jx Qxxx.xxx.AJx.T9x\n",
      "x.AKJT8x.xxx.Kxx AKx.Qx.KQx.AQTxx QJT98x.x.Txx.9xx xxx.9xxx.AJ98.J8\n",
      "x.AKJT8x.xxx.Kxx AKx.xx.AKQ9x.Axx JT9xx..8xx.QJ9xx Q8xx.Q9xxx.JT.T8\n",
      "x.AKJT8x.xxx.Kxx AKJ.9x.AKQ8x.A98 9xxxx.xx.Tx.QJxx QT8x.Qxx.J9x.Txx\n",
      "x.AKJT8x.xxx.Kxx AK9.9x.AKQJT.A9x Q8xx.x.98xx.T8xx JTxxx.Qxxx.x.QJx\n",
      "x.AKJT8x.xxx.Kxx AKx.Qxx.AK.A98xx T9xxx.9xx.T8xx.x QJ8x.x.QJ9x.QJTx\n",
      "x.AKJT8x.xxx.Kxx AKQ.9x.AKT.AJT8x 8xxxx.x.J9xx.9xx JT9x.Qxxx.Q8x.Qx\n",
      "x.AKJT8x.xxx.Kxx KT9.Q9.AKQ9x.AQx QJ8xxxx.x.xx.JT8 Ax.xxxx.JT8.9xxx\n",
      "x.AKJT8x.xxx.Kxx AKx.9x.AKQTx.A98 QJ98xxx.x.J8.Txx Tx.Qxxx.9xx.QJxx\n",
      "x.AKJT8x.xxx.Kxx KJ.xx.AKQx.AQJxx Q9xxxx.9.98xx.8x AT8x.Qxxx.JT.T9x\n",
      "x.AKJT8x.xxx.Kxx AK.9x.AKTx.AQTxx JT98xxx.x.Q9.98x Qxx.Qxxx.J8xx.Jx\n"
     ]
    }
   ],
   "source": [
    "# we got some samples above. if we want more, we can always get more\n",
    "\n",
    "sample_hands, sorted_score, p_hcp, p_shp, good_quality = bot_bid.sample_hands_for_auction(['PAD_START','2N','PASS','3C','PASS','3D'], 0)\n",
    "print(\"Good quality:\", good_quality)\n",
    "for i in range(sample_hands.shape[0]):\n",
    "    print(f'{hand_to_str(sample_hands[i, 0, :])} {hand_to_str(sample_hands[i, 1, :])} {hand_to_str(sample_hands[i, 2, :])} {hand_to_str(sample_hands[i, 3, :])}')"
   ]
  },
  {
   "cell_type": "markdown",
   "id": "7e7f18d2",
   "metadata": {},
   "source": [
    "How do we know on which sample 4H is making and on which sample it is not? It's the topic for another tutorial, but basically we could do either (1) solve the sample double dummpy or (2) estimate the outcome using a neural network"
   ]
  },
  {
   "cell_type": "markdown",
   "id": "669da023",
   "metadata": {},
   "source": [
    "### Bidding through an entire auction for all four hands\n",
    "\n",
    "Now we'll take a random deal and let the bot bid for each hand. We assume North deals and nobody is vulnerable."
   ]
  },
  {
   "cell_type": "code",
   "execution_count": 7,
   "id": "fc27ca79",
   "metadata": {},
   "outputs": [
    {
     "data": {
      "text/plain": [
       "['J54.K3.KQT92.985',\n",
       " 'T9.J98.A8543.T76',\n",
       " 'AQ73.6542.7.QJ42',\n",
       " 'K862.AQT7.J6.AK3']"
      ]
     },
     "execution_count": 7,
     "metadata": {},
     "output_type": "execute_result"
    }
   ],
   "source": [
    "hands = random_deal().split()\n",
    "hands # N, E, S, W"
   ]
  },
  {
   "cell_type": "code",
   "execution_count": 8,
   "id": "d480cbba",
   "metadata": {},
   "outputs": [],
   "source": [
    "bidder_bots = [BotBid([False, False], hand, models, sampler,i, 0, dds, False) for i, hand in enumerate(hands)]"
   ]
  },
  {
   "cell_type": "code",
   "execution_count": 9,
   "id": "7d77351a",
   "metadata": {},
   "outputs": [
    {
     "data": {
      "text/plain": [
       "['PASS', 'PASS', 'PASS', '1N', 'PASS', 'PASS', 'PASS']"
      ]
     },
     "execution_count": 9,
     "metadata": {},
     "output_type": "execute_result"
    }
   ],
   "source": [
    "auction = []  # since North deals, we don't need any 'PAD_START'\n",
    "\n",
    "turn_i = 0  # whose turn is it to bid\n",
    "\n",
    "while not bidding.auction_over(auction):\n",
    "    auction.append(bidder_bots[turn_i].bid(auction).bid)\n",
    "    turn_i = (turn_i + 1) % 4  # next player's turn\n",
    "    \n",
    "auction"
   ]
  }
 ],
 "metadata": {
  "kernelspec": {
   "display_name": "Python 3",
   "language": "python",
   "name": "python3"
  },
  "language_info": {
   "codemirror_mode": {
    "name": "ipython",
    "version": 3
   },
   "file_extension": ".py",
   "mimetype": "text/x-python",
   "name": "python",
   "nbconvert_exporter": "python",
   "pygments_lexer": "ipython3",
   "version": "3.12.3"
  }
 },
 "nbformat": 4,
 "nbformat_minor": 5
}
