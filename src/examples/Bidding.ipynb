{
 "cells": [
  {
   "cell_type": "markdown",
   "id": "75d07246",
   "metadata": {},
   "source": [
    "# Bidding\n",
    "\n",
    "This is a tutorial for how to use the bidding engine"
   ]
  },
  {
   "cell_type": "code",
   "execution_count": 1,
   "id": "59a5664c",
   "metadata": {},
   "outputs": [
    {
     "name": "stderr",
     "output_type": "stream",
     "text": [
      "Loading config file d:\\GitHub\\ben\\src\\./config/default.conf\n",
      "Loading config file d:\\GitHub\\ben\\src\\./config/default.conf\n"
     ]
    }
   ],
   "source": [
    "import os\n",
    "os.chdir('..')\n",
    "\n",
    "from nn.models_tf2 import Models\n",
    "from botbidder import BotBid\n",
    "from bidding import bidding\n",
    "from util import hand_to_str\n",
    "from deck52 import random_deal\n",
    "from sample import Sample\n",
    "import conf\n",
    "import numpy as np\n",
    "\n",
    "np.set_printoptions(precision=2, suppress=True, linewidth=200)\n",
    "models = Models.from_conf(conf.load('./config/default.conf'),'..')   # loading neural networks\n",
    "sampler = Sample.from_conf(conf.load('./config/default.conf'), False)  # Load sampling strategies\n",
    "\n"
   ]
  },
  {
   "cell_type": "markdown",
   "id": "10d8f2fc",
   "metadata": {},
   "source": [
    "### Running through an example"
   ]
  },
  {
   "cell_type": "code",
   "execution_count": 2,
   "id": "19dbfeb7",
   "metadata": {},
   "outputs": [
    {
     "data": {
      "text/plain": [
       "[{'call': '4H',\n",
       "  'insta_score': 1.003,\n",
       "  'alert': 'False',\n",
       "  'explanation': 'Bidable suit -- 6+!H; 6-!S; 11-24 HCP'},\n",
       " {'call': 'PASS', 'insta_score': 0.179}]"
      ]
     },
     "execution_count": 2,
     "metadata": {},
     "output_type": "execute_result"
    }
   ],
   "source": [
    "\n",
    "vuln_ns, vuln_ew = False, False\n",
    "\n",
    "from ddsolver import ddsolver\n",
    "dds = ddsolver.DDSolver()\n",
    "\n",
    "# you sit West and hold:\n",
    "hand = '6.AKJT82.762.K63'\n",
    "\n",
    "# the auction goes:\n",
    "auction = ['1D', '3S']\n",
    "bot_bid = BotBid([vuln_ns, vuln_ew], hand, models, sampler, seat=2, dealer=0, ddsolver=dds, bba_is_controlling=False, verbose=False)\n",
    "\n",
    "bid = bot_bid.bid(auction)\n",
    "bid.to_dict()['candidates']\n",
    "\n",
    "# what's your bid?"
   ]
  },
  {
   "cell_type": "code",
   "execution_count": 3,
   "id": "bfe98f56",
   "metadata": {},
   "outputs": [
    {
     "data": {
      "text/plain": [
       "[{'call': 'PASS',\n",
       "  'insta_score': 1.178,\n",
       "  'adjustment': 0,\n",
       "  'expected_score': 265,\n",
       "  'expected_tricks': 10.8,\n",
       "  'alert': 'False',\n",
       "  'explanation': ' -- 6+!H; 6-!S; 11-21 HCP'},\n",
       " {'call': '6H', 'insta_score': 0.016}]"
      ]
     },
     "execution_count": 3,
     "metadata": {},
     "output_type": "execute_result"
    }
   ],
   "source": [
    "auction = ['1D', '3S', '4H', '4S', '5H', 'PASS']\n",
    "bid = bot_bid.bid(auction)\n",
    "bid.to_dict()['candidates']"
   ]
  },
  {
   "cell_type": "markdown",
   "id": "ad120123",
   "metadata": {},
   "source": [
    "in the output above:\n",
    "- `insta_score` reflects what the neural network prefers to bid\n",
    "- `expected_score` is based on what you expect to score on difference samples (for example, 70% of the time you are making and 30% of the time you are going one off, then the expected score is 0.7 * 620 - 0.3 * 100)"
   ]
  },
  {
   "cell_type": "markdown",
   "id": "051ff121",
   "metadata": {},
   "source": [
    "### Samples consistent with the auction so far\n",
    "\n",
    "Above we said that we are computig expected scores on samples consistent with the auction so far.\n",
    "\n",
    "How do we get these samples?\n",
    "\n",
    "We get some samples in the response we get from the bot (i.e `bid.samples`)"
   ]
  },
  {
   "cell_type": "code",
   "execution_count": 4,
   "id": "55b647a5",
   "metadata": {},
   "outputs": [
    {
     "data": {
      "text/plain": [
       "['x.Qxxx.AKQTxx.xx AQJTxxx.xx.xx.xx x.AKJTxx.xxx.Kxx Kxxx.x.Jx.AQJTxx - 0.72722',\n",
       " 'x.Qxxx.AKJxxx.Jx AKJTxxx.xx.xx.Tx x.AKJTxx.xxx.Kxx Qxxx.x.QT.AQxxxx - 0.72617',\n",
       " '.Qxxx.AKJTxx.Jxx QJxxxxx.xxx.Q.Qx x.AKJTxx.xxx.Kxx AKTxx..xxx.ATxxx - 0.72337',\n",
       " 'x.Qxxx.AKQxxx.Tx KJTxxxx.xx.Jx.Ax x.AKJTxx.xxx.Kxx AQxx.x.Tx.QJxxxx - 0.71872',\n",
       " 'x.Qxxx.AKQxxx.Tx QTxxxxx.xx.J.Axx x.AKJTxx.xxx.Kxx AKJx.x.Txx.QJxxx - 0.71708',\n",
       " 'x.Qxxx.KQTxxx.Ax AQTxxxx..xx.Jxxx x.AKJTxx.xxx.Kxx KJxx.xxx.AJ.QTxx - 0.71445',\n",
       " 'K.Qxxx.KQJxx.QJx QJTxxxx.x.Axx.xx x.AKJTxx.xxx.Kxx Axxx.xx.Tx.ATxxx - 0.71434',\n",
       " '.Qxxx.AKJTxx.xxx KQTxxxx.xx.Qxx.x x.AKJTxx.xxx.Kxx AJxxx.x.x.AQJTxx - 0.71278',\n",
       " '.Qxx.AKJxxx.Jxxx KQJTxxx.x.Txx.xx x.AKJTxx.xxx.Kxx Axxxx.xxx.Q.AQTx - 0.71135',\n",
       " '.Qxxx.AKQTx.xxxx AKJTxxx.x.Jxx.xx x.AKJTxx.xxx.Kxx Qxxxx.xx.xx.AQJT - 0.71079',\n",
       " '.Qxx.AKJxxx.Jxxx AKJxxxx.xxx.Tx.T x.AKJTxx.xxx.Kxx QTxxx.x.Qx.AQxxx - 0.71004',\n",
       " '.xxx.AKQxxx.QTxx AQxxxxx.xx.J.Jxx x.AKJTxx.xxx.Kxx KJTxx.Qx.Txx.Axx - 0.70935',\n",
       " 'J.Qxxx.AKJTxx.Tx KQxxxxx.xx.x.Jxx x.AKJTxx.xxx.Kxx ATxx.x.Qxx.AQxxx - 0.70935',\n",
       " '.Qxx.AKTxxx.QTxx QJTxxxx.xx.Jx.Ax x.AKJTxx.xxx.Kxx AKxxx.xx.Qx.Jxxx - 0.70891',\n",
       " '.Qxxx.AKQJx.xxxx QJTxxxx.x.xx.AJx x.AKJTxx.xxx.Kxx AKxxx.xx.Txx.QTx - 0.70868',\n",
       " '.xxx.KQJxxx.AJxx KQJTxxx.Qx.Tx.Tx x.AKJTxx.xxx.Kxx Axxxx.xx.Ax.Qxxx - 0.70841',\n",
       " '.Qxxx.KTxxx.AQxx KTxxxxx.xx.Ax.Jx x.AKJTxx.xxx.Kxx AQJxx.x.QJx.Txxx - 0.70780',\n",
       " '.Qxxx.KTxxx.AQTx KQTxxxx.xx.J.xxx x.AKJTxx.xxx.Kxx AJxxx.x.AQxx.Jxx - 0.70734',\n",
       " 'K.Qxxx.AQJTxx.Tx AQJTxxx.xx.xx.xx x.AKJTxx.xxx.Kxx xxxx.x.Kx.AQJxxx - 0.70514',\n",
       " '.Qxxx.AKJTx.Jxxx AKJxxxx.x.xx.Qxx x.AKJTxx.xxx.Kxx QTxxx.xx.Qxx.ATx - 0.70473']"
      ]
     },
     "execution_count": 4,
     "metadata": {},
     "output_type": "execute_result"
    }
   ],
   "source": [
    "bid.samples"
   ]
  },
  {
   "cell_type": "markdown",
   "id": "7d0dd8f5",
   "metadata": {},
   "source": [
    "each row is one sample. the hands are in the order: N E S W\n",
    "\n",
    "(West always has the same cards because it's your hand and it's known to you)"
   ]
  },
  {
   "cell_type": "code",
   "execution_count": 5,
   "id": "7101e514",
   "metadata": {},
   "outputs": [
    {
     "name": "stdout",
     "output_type": "stream",
     "text": [
      "Good quality: 0.8874763110104729\n",
      "x.AKJTxx.xxx.Kxx KTx.Qxx.AKQx.AQx Jxxxx..JTxx.Txxx AQxx.xxxx.xx.Jxx\n",
      "x.AKJTxx.xxx.Kxx AKx.Qxx.AKxx.ATx xxxxx.x.Jxx.Jxxx QJTx.xxx.QTx.Qxx\n",
      "x.AKJTxx.xxx.Kxx Kxx.Qxx.AKQx.AQx Txxxx.x.JTx.Txxx AQJx.xxx.xxx.Jxx\n",
      "x.AKJTxx.xxx.Kxx AKx.xxx.AKJx.AJx JTxxx.Qx.xxx.xxx Qxxx.xx.QTx.QTxx\n",
      "x.AKJTxx.xxx.Kxx AKx.xxx.AKx.AQxx Txxxx.x.JTxx.JTx QJxx.Qxx.Qxx.xxx\n",
      "x.AKJTxx.xxx.Kxx AKT.Qxx.AQT.AJxx Jxxxx.x.Jxxx.Txx Qxxx.xxx.Kxx.Qxx\n",
      "x.AKJTxx.xxx.Kxx AQT.xxx.AKxx.AQJ KJxxx.x.xx.Txxxx xxxx.Qxx.QJTx.xx\n",
      "x.AKJTxx.xxx.Kxx KQx.Qxx.AKx.AQTx xxxxx.x.Qxx.Jxxx AJTx.xxx.JTxx.xx\n",
      "x.AKJTxx.xxx.Kxx AKx.xxx.AKJx.AJx QTxxx.x.Txxx.Qxx Jxxx.Qxx.Qx.Txxx\n",
      "x.AKJTxx.xxx.Kxx AKx.Qx.KQxx.AQxx Txxxx.x.Txxx.xxx QJxx.xxxx.AJ.JTx\n",
      "x.AKJTxx.xxx.Kxx AKx.Qxx.AJx.AQxx xxxxx.xx.QTx.Txx QJTx.xx.Kxxx.Jxx\n",
      "x.AKJTxx.xxx.Kxx AKx.Qx.AKxx.ATxx Jxxxx.x.Txx.Jxxx QTxx.xxxx.QJx.Qx\n",
      "x.AKJTxx.xxx.Kxx AKx.xx.AKxx.AQTx Txxxx.x.JTx.Jxxx QJxx.Qxxx.Qxx.xx\n",
      "x.AKJTxx.xxx.Kxx AKx.xx.AKxx.AQxx QTxxx.x.JTxx.Txx Jxxx.Qxxx.Qx.Jxx\n",
      "x.AKJTxx.xxx.Kxx AKT.xx.AKQx.ATxx Qxxxx.xx.xxx.Jxx Jxxx.Qxx.JTx.Qxx\n",
      "x.AKJTxx.xxx.Kxx AKx.xx.AKxx.AQxx QTxxx.xx.xx.Jxxx Jxxx.Qxx.QJTx.Tx\n",
      "x.AKJTxx.xxx.Kxx Axx.Qx.AKQT.AJTx Txxxx.xxx.xx.xxx KQJx.xx.Jxxx.Qxx\n",
      "x.AKJTxx.xxx.Kxx AQ.xxx.AKQx.AJxx JTxxxx.Qx.Tx.Txx Kxxx.xx.Jxxx.Qxx\n",
      "x.AKJTxx.xxx.Kxx Ax.Qxx.AKx.AQJxx Qxxxxx.x.Jxx.Txx KJTx.xxx.QTxx.xx\n",
      "x.AKJTxx.xxx.Kxx KJx.Qx.AKQ.AJxxx xxxxx.xx.Jxxx.QT AQTx.xxx.Txx.xxx\n",
      "x.AKJTxx.xxx.Kxx AKx.xxx.AKJx.AQx Jxxxx.Q.xxx.xxxx QTxx.xxx.QTx.JTx\n",
      "x.AKJTxx.xxx.Kxx AKx.xxx.AKQx.AJx JTxxx.x.Txxx.Qxx Qxxx.Qxx.Jx.Txxx\n",
      "x.AKJTxx.xxx.Kxx KJx.Qx.AKQx.AJxx Axxxx.xx.xxxx.Tx QTxx.xxx.JT.Qxxx\n",
      "x.AKJTxx.xxx.Kxx Kxx.Qx.AKQ.AQxxx QTxxx.xx.Tx.Txxx AJxx.xxx.Jxxxx.J\n",
      "x.AKJTxx.xxx.Kxx AKx.xxx.AK.AQxxx Jxxxx.xx.JTxx.Jx QTxx.Qx.Qxxx.Txx\n",
      "x.AKJTxx.xxx.Kxx AKx.xx.AQx.AQJTx xxxxx.xxx.JTx.xx QJTx.Qx.Kxxx.xxx\n",
      "x.AKJTxx.xxx.Kxx AKx.Qxx.KQJx.AJx Qxxxxx..xx.QTxxx JTx.xxxx.ATxx.xx\n",
      "x.AKJTxx.xxx.Kxx AKx.xx.AKxx.AQxx QTxxxx.x.JT.JTxx Jxx.Qxxx.Qxxx.xx\n",
      "x.AKJTxx.xxx.Kxx AJx.xx.AKQx.AQTx Qxxxx.Qx.Txx.xxx KTxx.xxx.Jxx.Jxx\n",
      "x.AKJTxx.xxx.Kxx AJx.Qx.AKQx.AJxx QTxxx.xx.Txx.Txx Kxxx.xxx.Jxx.Qxx\n",
      "x.AKJTxx.xxx.Kxx AK.xxx.AKQxx.Axx xxxxxx.xx.x.JTxx QJTx.Qx.JTxx.Qxx\n",
      "x.AKJTxx.xxx.Kxx AKx.Qx.Axxx.AQJx xxxx.x.QTxx.Txxx QJTxx.xxxx.KJ.xx\n",
      "x.AKJTxx.xxx.Kxx AKJ.xx.AQJT.AQxx Txxxx.xxx.xx.Jxx Qxxx.Qx.Kxxx.Txx\n",
      "x.AKJTxx.xxx.Kxx AKx.xxx.AKJ.AQxx Jxxxx.x.QTx.Txxx QTxx.Qxx.xxxx.Jx\n",
      "x.AKJTxx.xxx.Kxx AQx.Qx.AQTxx.AQT Jxxxx.x.Jxx.xxxx KTxx.xxxx.Kx.Jxx\n",
      "x.AKJTxx.xxx.Kxx Ax.xxx.AKQxx.AQJ QTxxxx.x.Tx.xxxx KJxx.Qxx.Jxx.Txx\n",
      "x.AKJTxx.xxx.Kxx AJx.Qx.AKQx.ATxx QTxxx.xxx.xxx.Qx Kxxx.xx.JTx.Jxxx\n",
      "x.AKJTxx.xxx.Kxx AKx.xx.AKQJT.QJx Txxxx.xx.xx.Txxx QJxx.Qxx.xxx.Axx\n",
      "x.AKJTxx.xxx.Kxx KQx.Qxx.AKJ.AQxx Txxxx.x.xxxx.xxx AJxx.xxx.QTx.JTx\n",
      "x.AKJTxx.xxx.Kxx KJx.Qx.AKQTx.AJx QTxxx.xxx.xx.Txx Axxx.xx.Jxx.Qxxx\n",
      "x.AKJTxx.xxx.Kxx AKx.xxx.AKx.AQJx Txxxx.x.QJTx.Txx QJxx.Qxx.xxx.xxx\n",
      "x.AKJTxx.xxx.Kxx AKx.xx.AKQJ.Axxx Txxxxx.x.Tx.Qxxx QJx.Qxxx.xxxx.JT\n",
      "x.AKJTxx.xxx.Kxx AKx.xx.AKQJ.ATxx Jxxxx.xxx.xxx.xx QTxx.Qx.Txx.QJxx\n",
      "x.AKJTxx.xxx.Kxx AKJ.Qxx.AKQTx.Jx Txxxxxx..xx.QTxx Qx.xxxx.Jxx.Axxx\n",
      "x.AKJTxx.xxx.Kxx AKJ.Qxx.KQx.AQxx Txxxx.xx.Jxx.Jxx Qxxx.xx.ATxx.Txx\n",
      "x.AKJTxx.xxx.Kxx ATx.Qx.AKQJx.Axx Jxxxx.x.xxx.Jxxx KQxx.xxxx.Tx.QTx\n",
      "x.AKJTxx.xxx.Kxx AKx.xx.AKQ.AJxxx JTxxx.xx.JTxx.xx Qxxx.Qxx.xxx.QTx\n",
      "x.AKJTxx.xxx.Kxx AQx.Qxx.AQx.AQJx xxxxx.x.JTx.Txxx KJTx.xxx.Kxxx.xx\n",
      "x.AKJTxx.xxx.Kxx AK.Qxx.AKTx.AJxx JTxxxx.xx.Qxx.Tx Qxxx.xx.Jxx.Qxxx\n",
      "x.AKJTxx.xxx.Kxx AQx.xx.AKQJx.Axx JTxxx.xx.xx.xxxx Kxxx.Qxx.Txx.QJT\n",
      "x.AKJTxx.xxx.Kxx AKQ.Qx.Axxx.AQxx JTxxx.x.QTx.Txxx xxxx.xxxx.KJx.Jx\n",
      "x.AKJTxx.xxx.Kxx AKT.Qxx.Ax.AQJTx Qxxxx.x.QTx.xxxx Jxxx.xxx.KJxxx.x\n",
      "x.AKJTxx.xxx.Kxx KQT.Qx.AQx.AQJTx Jxxxx.xxx.KT.xxx Axxx.xx.Jxxxx.xx\n",
      "x.AKJTxx.xxx.Kxx AK.xxx.AKJTx.AJx Txxxxx.Qx.Qxx.xx QJxx.xx.xx.QTxxx\n",
      "x.AKJTxx.xxx.Kxx AKx.Qxx.AQx.AQxx Qxxxx.x.Txxx.xxx JTxx.xxx.KJx.JTx\n",
      "x.AKJTxx.xxx.Kxx Axx.Qx.AKJ.AQJTx JTxxx.xx.xx.xxxx KQxx.xxx.QTxxx.x\n",
      "x.AKJTxx.xxx.Kxx KQx.Qx.AKQJ.ATxx Txxx.x.Txxx.Qxxx AJxxx.xxxx.xx.Jx\n",
      "x.AKJTxx.xxx.Kxx AKx.xx.AKx.AQJTx Jxxxxx.x.xxx.xxx QTx.Qxxx.QJTx.xx\n",
      "x.AKJTxx.xxx.Kxx AKQ.xx.AQxx.AQxx Txxxx..JTxx.xxxx Jxxx.Qxxxx.Kx.JT\n",
      "x.AKJTxx.xxx.Kxx AK.Qxx.AKQJx.Qxx Qxxxxx.xx.x.JTxx JTxx.xx.Txxx.Axx\n",
      "x.AKJTxx.xxx.Kxx AKx.Qx.AKJxx.ATx Txxxx.xx.Txx.Qxx QJxx.xxx.Qx.Jxxx\n",
      "x.AKJTxx.xxx.Kxx AKQ.xx.AKxxx.ATx xxxx.x.QJTx.Jxxx JTxxx.Qxxx.x.Qxx\n",
      "x.AKJTxx.xxx.Kxx AQx.Qx.AKQxx.Axx Jxxxx.xx.Jxx.Txx KTxx.xxx.Tx.QJxx\n",
      "x.AKJTxx.xxx.Kxx AKx.xx.AKQxx.AJx QTxxxx.x.JT.Txxx Jxx.Qxxx.xxx.Qxx\n",
      "x.AKJTxx.xxx.Kxx AKJ.xx.AKx.AJxxx QTxx.x.xxxx.Qxxx xxxxx.Qxxx.QJT.T\n",
      "x.AKJTxx.xxx.Kxx Axx.Qx.AKQTx.AQx QTxxx.x.xx.JTxxx KJxx.xxxx.Jxx.xx\n",
      "x.AKJTxx.xxx.Kxx Axx.Qx.AKJx.AQTx Kxxx.x.xxx.Jxxxx QJTxx.xxxx.QTx.x\n",
      "x.AKJTxx.xxx.Kxx Axx.Qx.AKJTx.AQx QJxx.x.xxx.JTxxx KTxxx.xxxx.Qx.xx\n",
      "x.AKJTxx.xxx.Kxx AKQ.xxx.Ax.AQJxx JTxxx..KJTxxx.Tx xxxx.Qxxx.Qx.xxx\n",
      "x.AKJTxx.xxx.Kxx AKT.xx.AKQxx.AJx xxxx.x.xx.Qxxxxx QJxxx.Qxxx.JTx.T\n",
      "x.AKJTxx.xxx.Kxx AKx.Qx.AKxx.Axxx Qxxx.x.xxx.QTxxx JTxxx.xxxx.QJT.J\n",
      "x.AKJTxx.xxx.Kxx AK.Qxx.AKQx.Qxxx Txxxxx..Txx.AJTx QJxx.xxxx.Jxx.xx\n",
      "x.AKJTxx.xxx.Kxx AQx.Qx.AKxx.AQxx KJTxx.x.Txxx.xxx xxxx.xxxx.QJ.JTx\n",
      "x.AKJTxx.xxx.Kxx AK.xx.AKQx.Axxxx Jxxxxx..Jxxxx.Tx QTxx.Qxxxx.T.QJx\n",
      "x.AKJTxx.xxx.Kxx KQ.xx.AKJx.AQJxx ATxxxx.x.xxx.Txx Jxxx.Qxxx.QTx.xx\n",
      "x.AKJTxx.xxx.Kxx Kx.Qx.AKJxx.AQJx ATxxx.x.Txx.xxxx QJxxx.xxxx.Qx.Tx\n",
      "x.AKJTxx.xxx.Kxx AJ.xx.AKQJx.AJxx Txxxxx.xxx.Tx.Tx KQxx.Qx.xxx.Qxxx\n",
      "x.AKJTxx.xxx.Kxx AKx.Qxx.KQJx.AJx QJTxx.x.x.QTxxxx xxxx.xxx.ATxxx.x\n",
      "x.AKJTxx.xxx.Kxx KQx.Qx.AKJx.AQxx Jxxxx.xx.Q.JTxxx ATxx.xxx.Txxxx.x\n",
      "x.AKJTxx.xxx.Kxx AKx.Qx.AQTx.AJxx QJxxx.xx.x.QTxxx Txxx.xxx.KJxxx.x\n",
      "x.AKJTxx.xxx.Kxx AK.xx.AKTxx.AQJx Txxxxx.xx.Jxx.xx QJxx.Qxx.Qx.Txxx\n",
      "x.AKJTxx.xxx.Kxx AKJ.Qxx.AKTxx.Ax QTxxxx..Jxxx.Jxx xxx.xxxx.Q.QTxxx\n",
      "x.AKJTxx.xxx.Kxx Ax.xx.AKQxx.AQJx QJTxxx.xx.Tx.xxx Kxxx.Qxx.Jxx.Txx\n",
      "x.AKJTxx.xxx.Kxx Kx.Qx.AKQJx.AQTx QTxxx.x.Txx.Jxxx AJxxx.xxxx.xx.xx\n",
      "x.AKJTxx.xxx.Kxx AKx.Qx.AQT.AJTxx Txxxx.xxx.Kx.Qxx QJxx.xx.Jxxxx.xx\n",
      "x.AKJTxx.xxx.Kxx AK.Qxx.AKxxx.Axx JTxxxx.x.Jx.QJxx Qxxx.xxx.QTx.Txx\n",
      "x.AKJTxx.xxx.Kxx AQx.Qxx.AQT.AQxx KTxxx.x.Jxxx.Jxx Jxxx.xxx.Kxx.Txx\n",
      "x.AKJTxx.xxx.Kxx KJx.Qxx.AKTx.AQJ ATxxx.x.Jxx.Txxx Qxxx.xxx.Qxx.xxx\n",
      "x.AKJTxx.xxx.Kxx AKx.xx.AKQxx.Axx QTxxx.xx.Jx.QTxx Jxxx.Qxx.Txx.Jxx\n",
      "x.AKJTxx.xxx.Kxx AKJ.xxx.AQx.AQTx Qxxxx.Q.Jxxx.xxx Txxx.xxx.KTx.Jxx\n",
      "x.AKJTxx.xxx.Kxx AJx.Qx.AKxx.AQJx KQxxx.x.Txx.xxxx Txxx.xxxx.QJx.Tx\n",
      "x.AKJTxx.xxx.Kxx AKx.Qx.KQTx.AQTx Txxxx.xx.Axx.Jxx QJxx.xxx.Jxx.xxx\n",
      "x.AKJTxx.xxx.Kxx AKQ.Qx.Kxx.AQxxx Jxxxx.xx.ATxx.xx Txxx.xxx.QJx.JTx\n",
      "x.AKJTxx.xxx.Kxx AK.xxx.AKJx.AJxx JTxxxx.Qx.Qx.xxx Qxxx.xx.Txxx.QTx\n",
      "x.AKJTxx.xxx.Kxx AQx.xx.AKx.AQJxx Kxxxx.Qx.Txxx.Tx JTxx.xxx.QJx.xxx\n",
      "x.AKJTxx.xxx.Kxx AQT.xx.AKQT.AJxx KJxxx.x.xxxx.Qxx xxxx.Qxxx.Jx.Txx\n",
      "x.AKJTxx.xxx.Kxx AKQ.Qx.Axx.AQTxx Jxxxx.xx.QJxx.xx Txxx.xxx.KTx.Jxx\n",
      "x.AKJTxx.xxx.Kxx Ax.Qxx.AKQx.AJxx KJTxxx.xx.JT.Txx Qxxx.xx.xxxx.Qxx\n",
      "x.AKJTxx.xxx.Kxx AKx.Qx.AKQJx.Qxx QJxxx.xxxx.xx.JT Txxx.x.Txx.Axxxx\n",
      "x.AKJTxx.xxx.Kxx AKT.xx.AKQT.AJxx Qxxxx.x.Jxx.QTxx Jxxx.Qxxx.xxx.xx\n",
      "x.AKJTxx.xxx.Kxx AK.Qxx.AQTx.AJTx Jxxxxx..Kxxxx.Qx QTxx.xxxx.J.xxxx\n",
      "x.AKJTxx.xxx.Kxx AKx.Qxx.AKx.Axxx JTxxxx.x.xx.JTxx Qxx.xxx.QJTxx.Qx\n",
      "x.AKJTxx.xxx.Kxx AKx.xxx.AKQx.Axx QTxxxx.x.x.Txxxx Jxx.Qxx.JTxxx.QJ\n",
      "x.AKJTxx.xxx.Kxx AKx.xx.AKQx.AJxx QTxxx.Qx.Txxx.xx Jxxx.xxx.Jx.QTxx\n",
      "x.AKJTxx.xxx.Kxx AKx.Qx.AKJTx.ATx QTxxx.x.Qx.Jxxxx Jxxx.xxxx.xxx.Qx\n",
      "x.AKJTxx.xxx.Kxx KQx.Qx.AKxx.AQxx ATxxxxx.x.xx.JTx Jx.xxxx.QJTx.xxx\n",
      "x.AKJTxx.xxx.Kxx AK.Qx.AKxx.AJxxx Qxxxxx.xx.QTx.Tx JTxx.xxx.Jxx.Qxx\n",
      "x.AKJTxx.xxx.Kxx KQx.Qx.AKxx.AQxx Axxxx.xxx.JTx.xx JTxx.xx.Qxx.JTxx\n",
      "x.AKJTxx.xxx.Kxx KQx.Qx.AKxx.AQxx ATxxxx.xxxx..xxx Jxx.x.QJTxxx.JTx\n",
      "x.AKJTxx.xxx.Kxx AK.Qxx.AKJxx.Axx JTxxxx.xx.Tx.QJx Qxxx.xx.Qxx.Txxx\n",
      "x.AKJTxx.xxx.Kxx AK.Qx.KQJxx.AJxx QTxxxx.x.Axxx.xx Jxxx.xxxx.T.QTxx\n",
      "x.AKJTxx.xxx.Kxx AKx.Qx.AQJxx.AJT Txx.x.xxx.Qxxxxx QJxxxx.xxxx.KT.x\n",
      "x.AKJTxx.xxx.Kxx AJx.Qxx.AKJT.AJx Qxx..xxxx.Qxxxxx KTxxxx.xxxx.Qx.T\n",
      "x.AKJTxx.xxx.Kxx AK.xx.AKQxx.ATxx QJxxxx.x.xx.QJxx Txxx.Qxxx.JTx.xx\n",
      "x.AKJTxx.xxx.Kxx AKQ.Qx.KQxxx.ATx Jxxxxx.xx.T.xxxx Txx.xxx.AJxx.QJx\n",
      "x.AKJTxx.xxx.Kxx KQT.Qx.AKQx.ATxx Jxxxxx.xx.Tx.xxx Axx.xxx.Jxxx.QJx\n",
      "x.AKJTxx.xxx.Kxx AKQ.xxx.AKxx.ATx Txxxxx.Q.JTxx.xx Jxx.xxx.Qx.QJxxx\n",
      "x.AKJTxx.xxx.Kxx AKT.xxx.AKxx.AQT Qxxxxx.x.Tx.xxxx Jxx.Qxx.QJxx.Jxx\n",
      "x.AKJTxx.xxx.Kxx Axx.xx.AKQx.AQJx KQJxx.xxx.x.xxxx Txxx.Qx.JTxxx.Tx\n",
      "x.AKJTxx.xxx.Kxx AKJ.xxx.AKQTx.Ax Txxxx.Qx.xx.Qxxx Qxxx.xx.Jxx.JTxx\n",
      "x.AKJTxx.xxx.Kxx AKx.xxx.AKx.AQJx Txxxxx.x.xxxx.xx QJx.Qxx.QJT.Txxx\n",
      "x.AKJTxx.xxx.Kxx AKx.xxx.AKQx.Axx Txxxxx.Q.xxx.Txx QJx.xxx.JTx.QJxx\n",
      "x.AKJTxx.xxx.Kxx AKx.xx.AKJ.AJxxx QJTxxx.xx.xxx.xx xxx.Qxx.QTxx.QTx\n",
      "x.AKJTxx.xxx.Kxx Axx.xx.AKQJx.AQx Jxxxxx.xx.Tx.Txx KQT.Qxx.xxx.Jxxx\n",
      "x.AKJTxx.xxx.Kxx AQT.Qxx.AKx.AQxx Jxxxxx.x.Txx.JTx Kxx.xxx.QJxx.xxx\n",
      "x.AKJTxx.xxx.Kxx AKT.Qx.AQx.AJxxx QJxxx.xx.KTx.Txx xxxx.xxx.Jxxx.Qx\n",
      "x.AKJTxx.xxx.Kxx AKJ.xxx.KQJx.AQx Qxxxxx..Ax.Jxxxx Txx.Qxxx.Txxx.Tx\n",
      "x.AKJTxx.xxx.Kxx Axx.Qx.AKJxx.AQx Qxxx..QTx.JTxxxx KJTxx.xxxxx.xx.x\n",
      "x.AKJTxx.xxx.Kxx AJx.xx.AKQx.AQxx QTxxxx.Qxxx..Jxx Kxx.x.JTxxxx.Txx\n",
      "x.AKJTxx.xxx.Kxx KQJ.xx.AKQx.AQxx xxxxxx.xx.Jxx.xx ATx.Qxx.Txx.JTxx\n",
      "x.AKJTxx.xxx.Kxx AKx.Qx.KQxx.AQxx QJxxx.x.AT.JTxxx Txxx.xxxx.Jxxx.x\n",
      "x.AKJTxx.xxx.Kxx KJT.Qxx.AK.AQJxx AQxxxx..JTxx.Txx xxx.xxxx.Qxxx.xx\n",
      "x.AKJTxx.xxx.Kxx AKx.Qx.AKxx.ATxx xxxxxx..Jx.Jxxxx QJT.xxxxx.QTxx.Q\n",
      "x.AKJTxx.xxx.Kxx AKx.Qx.AKTxx.ATx QTxxx.x.QJx.Qxxx Jxxx.xxxx.xx.Jxx\n",
      "x.AKJTxx.xxx.Kxx AK.Qxx.AKx.ATxxx JTxxxxx.xx.Jx.xx Qxx.xx.QTxxx.QJx\n",
      "x.AKJTxx.xxx.Kxx AKx.xxx.AKQx.ATx Txxxxxx.x.Jxx.xx QJ.Qxx.Txx.QJxxx\n",
      "x.AKJTxx.xxx.Kxx KQx.Qxx.AKx.AQxx Axxxx.x.Qxxx.Txx JTxx.xxx.JTx.Jxx\n",
      "x.AKJTxx.xxx.Kxx AKx.xx.AKJx.AJTx xxxxx.Qx.QTx.Qxx QJTx.xxx.xxx.xxx\n",
      "x.AKJTxx.xxx.Kxx AKx.xxx.AKQx.Axx Qxxxxx.xx.JTx.xx JTx.Qx.xxx.QJTxx\n",
      "x.AKJTxx.xxx.Kxx AKx.xxx.AKx.AQxx JTxxxx.Qx.Txx.xx Qxx.xx.QJxx.JTxx\n",
      "x.AKJTxx.xxx.Kxx AJx.Qxx.AKQx.Axx KTxxx.x.JT.QJTxx Qxxx.xxx.xxxx.xx\n",
      "x.AKJTxx.xxx.Kxx AKx.Qx.AJTx.AQxx Jxxxxx..Qxxx.Txx QTx.xxxxx.Kx.Jxx\n",
      "x.AKJTxx.xxx.Kxx AKJ.Qxx.AKxx.Axx Qxxxxxx.x.Txxx.T Tx.xxx.QJ.QJxxxx\n",
      "x.AKJTxx.xxx.Kxx KQx.xxx.AKQx.AQx ATxxxx.x.Jx.Txxx Jxx.Qxx.Txxx.Jxx\n",
      "x.AKJTxx.xxx.Kxx AJx.Qx.AKx.AQxxx KQxxx.xx.Jxxxx.x Txxx.xxx.QT.JTxx\n",
      "x.AKJTxx.xxx.Kxx Axx.Qxx.AKJ.AQTx QJxx..QTxxx.Jxxx KTxxx.xxxx.xx.xx\n",
      "x.AKJTxx.xxx.Kxx AKJ.xxx.AQx.AQJx Txxxxx.Qx.JTx.xx Qxx.xx.Kxxx.Txxx\n",
      "x.AKJTxx.xxx.Kxx AKx.Qxx.AQJxx.Ax Jxxxxx.xx.xx.Txx QTx.xx.KTx.QJxxx\n",
      "x.AKJTxx.xxx.Kxx AJx.xx.AKJT.AQJT KQxxxx.x.Qxx.xxx Txx.Qxxx.xxx.xxx\n",
      "x.AKJTxx.xxx.Kxx AJT.Qx.AKTx.AQxx Qxxx.x.QJxx.Jxxx Kxxxx.xxxx.xx.Tx\n",
      "x.AKJTxx.xxx.Kxx AKT.xx.AKJx.AJxx Jxxxx.Qx.Qx.QTxx Qxxx.xxx.Txxx.xx\n",
      "x.AKJTxx.xxx.Kxx AKT.Qxx.AKxx.AJx Qxxxxx.x.Tx.QTxx Jxx.xxx.QJxx.xxx\n",
      "x.AKJTxx.xxx.Kxx AKx.Qx.AQJx.Axxx QJTxx.x.KTxxx.QT xxxx.xxxx.x.Jxxx\n",
      "x.AKJTxx.xxx.Kxx AKx.Qxx.AKJx.Axx Jxxxx.xx.QTx.Qxx QTxx.xx.xxx.JTxx\n",
      "x.AKJTxx.xxx.Kxx AKx.Qxx.Ax.AQJTx QJxxx..KQTxx.xxx Txxx.xxxx.Jxx.xx\n",
      "x.AKJTxx.xxx.Kxx KQx.Qxx.AKxx.AQx xxxx.x.QTxx.Jxxx AJTxx.xxx.Jx.Txx\n",
      "x.AKJTxx.xxx.Kxx AKQ.xxx.AQTx.AQx JTxxxx.Q.xx.JTxx xxx.xxx.KJxx.xxx\n",
      "x.AKJTxx.xxx.Kxx AKx.Qxx.AKxxx.Ax Jxxxxx.xx.Qx.xxx QTx.xx.JTx.QJTxx\n",
      "x.AKJTxx.xxx.Kxx AKQ.xx.AKQTx.QJx JTxxxx.Qx.xx.xxx xxx.xxx.Jxx.ATxx\n",
      "x.AKJTxx.xxx.Kxx KQx.Qx.AKTx.AQxx Jxxx.xx.Jxxx.JTx ATxxx.xxx.Qx.xxx\n",
      "x.AKJTxx.xxx.Kxx AKQ.xxx.AKJ.Axxx xxxxx.Qx.QTxx.JT JTxx.xx.xxx.Qxxx\n",
      "x.AKJTxx.xxx.Kxx AKx.xxx.AKQ.AJxx QTxxxx.x.Txx.QTx Jxx.Qxx.Jxxx.xxx\n",
      "x.AKJTxx.xxx.Kxx AJx.Qx.AKQTx.Axx KQTxx.x.xx.QJTxx xxxx.xxxx.Jxx.xx\n",
      "x.AKJTxx.xxx.Kxx AKx.xx.AKJ.AJTxx QJTxx..Qxxx.Qxxx xxxx.Qxxxx.Txx.x\n",
      "x.AKJTxx.xxx.Kxx KJx.Qx.AKQ.AJTxx ATxxxx.xx.JTxx.x Qxx.xxx.xxx.Qxxx\n",
      "x.AKJTxx.xxx.Kxx AK.xxx.AKQx.AJxx Jxxxx.xx.JTxxx.x QTxxx.Qx.x.QTxxx\n",
      "x.AKJTxx.xxx.Kxx AKT.Qx.AKxx.AJTx QJxxxx.x.JTxx.Qx xxx.xxxx.Qx.xxxx\n",
      "x.AKJTxx.xxx.Kxx Axx.xx.AKQJx.AQx KQJTxx.x.xx.JTxx xxx.Qxxx.Txx.xxx\n",
      "x.AKJTxx.xxx.Kxx AK.Qx.AQTx.AQTxx QTxxx.x.Jxxx.Jxx Jxxxx.xxxx.Kx.xx\n",
      "x.AKJTxx.xxx.Kxx AJ.xxx.AKQT.AQTx Kxxxxxx.x.Jx.Jxx QTx.Qxx.xxxx.xxx\n",
      "x.AKJTxx.xxx.Kxx Ax.Qx.AKxx.AQJxx JTxx.x.JTxx.Txxx KQxxxx.xxxx.Qx.x\n",
      "x.AKJTxx.xxx.Kxx AK.xx.AKQxx.AJxx QJTxx.x.JTxx.Txx xxxxx.Qxxx.x.Qxx\n",
      "x.AKJTxx.xxx.Kxx AK.xx.AKQxx.ATxx Jxxxxxx.xx.Tx.Qx QTx.Qxx.Jxx.Jxxx\n",
      "x.AKJTxx.xxx.Kxx AK.Qx.AKTxx.ATxx JTxxxxx.xxx.x.xx Qxx.xx.QJxx.QJxx\n",
      "x.AKJTxx.xxx.Kxx Ax.Qx.AKQJx.AJxx KTxxxx.x.Txx.Qxx QJxx.xxxx.xx.Txx\n",
      "x.AKJTxx.xxx.Kxx Kx.Qx.AKQx.AQJxx AQJxxx.x.xxx.xxx Txxx.xxxx.JTx.Tx\n",
      "x.AKJTxx.xxx.Kxx Kx.Qx.AKJx.AQJTx AQJTxx.xx.x.xxxx xxxx.xxx.QTxxx.x\n",
      "x.AKJTxx.xxx.Kxx AK.xx.AKxx.AQJTx QJxxxx.Q.Qxx.xxx Txxx.xxxx.JTx.xx\n",
      "x.AKJTxx.xxx.Kxx Ax.Qx.AKTx.AQJxx KQJTxx.x.Qxx.Txx xxxx.xxxx.Jxx.xx\n",
      "x.AKJTxx.xxx.Kxx Ax.Qx.AKTx.AQJxx KQJTxx.xxx.Jx.Tx xxxx.xx.Qxxx.xxx\n",
      "x.AKJTxx.xxx.Kxx Ax.Qx.AKxx.AQJTx QJTxxx..QJTx.xxx Kxxx.xxxxx.xx.xx\n",
      "x.AKJTxx.xxx.Kxx AKJ.xx.AKQx.QJxx QTxxxxx.x.xx.Axx xx.Qxxx.JTxx.Txx\n",
      "x.AKJTxx.xxx.Kxx AK.Qx.AKQJxx.Jxx QTxxxx.x.Txx.xxx Jxxx.xxxx.x.AQTx\n",
      "x.AKJTxx.xxx.Kxx AQ.Qx.AKJxxx.Axx Kxxxxx.xx.Tx.Jxx JTxx.xxx.Qx.QTxx\n",
      "x.AKJTxx.xxx.Kxx AK.Qxx.AQJTx.ATx QJTxxxxx..xx.Jxx xx.xxxx.Kxx.Qxxx\n",
      "x.AKJTxx.xxx.Kxx Ax.Qx.AKQJx.AJTx KQxxx.x.xxx.xxxx JTxxx.xxxx.Tx.Qx\n",
      "x.AKJTxx.xxx.Kxx AK.xx.AKxxx.AQJx QJxxxxx.xx.J.xxx Txx.Qxx.QTxx.Txx\n"
     ]
    }
   ],
   "source": [
    "# we got some samples above. if we want more, we can always get more\n",
    "\n",
    "sample_hands, sorted_score, p_hcp, p_shp, good_quality = bot_bid.sample_hands_for_auction(['PAD_START','2N','PASS','3C','PASS','3D'], 0)\n",
    "print(\"Good quality:\", good_quality)\n",
    "for i in range(sample_hands.shape[0]):\n",
    "    print(f'{hand_to_str(sample_hands[i, 0, :], models.n_cards_bidding)} {hand_to_str(sample_hands[i, 1, :], models.n_cards_bidding)} {hand_to_str(sample_hands[i, 2, :], models.n_cards_bidding)} {hand_to_str(sample_hands[i, 3, :], models.n_cards_bidding)}')"
   ]
  },
  {
   "cell_type": "markdown",
   "id": "7e7f18d2",
   "metadata": {},
   "source": [
    "How do we know on which sample 4H is making and on which sample it is not? It's the topic for another tutorial, but basically we could do either (1) solve the sample double dummpy or (2) estimate the outcome using a neural network"
   ]
  },
  {
   "cell_type": "markdown",
   "id": "669da023",
   "metadata": {},
   "source": [
    "### Bidding through an entire auction for all four hands\n",
    "\n",
    "Now we'll take a random deal and let the bot bid for each hand. We assume North deals and nobody is vulnerable."
   ]
  },
  {
   "cell_type": "code",
   "execution_count": 6,
   "id": "fc27ca79",
   "metadata": {},
   "outputs": [
    {
     "data": {
      "text/plain": [
       "['84.832.KQ73.J872',\n",
       " 'K9.AQJ9754.82.Q9',\n",
       " 'AQJT72.KT.AJ6.64',\n",
       " '653.6.T954.AKT53']"
      ]
     },
     "execution_count": 6,
     "metadata": {},
     "output_type": "execute_result"
    }
   ],
   "source": [
    "hands = random_deal().split()\n",
    "hands # N, E, S, W"
   ]
  },
  {
   "cell_type": "code",
   "execution_count": 7,
   "id": "d480cbba",
   "metadata": {},
   "outputs": [],
   "source": [
    "bidder_bots = [BotBid([False, False], hand, models, sampler,i, 0, dds, False, False) for i, hand in enumerate(hands)]"
   ]
  },
  {
   "cell_type": "code",
   "execution_count": 8,
   "id": "7d77351a",
   "metadata": {},
   "outputs": [
    {
     "data": {
      "text/plain": [
       "['PASS',\n",
       " '1H',\n",
       " '1S',\n",
       " 'X',\n",
       " 'PASS',\n",
       " '2H',\n",
       " '2S',\n",
       " 'PASS',\n",
       " 'PASS',\n",
       " '3H',\n",
       " 'PASS',\n",
       " 'PASS',\n",
       " 'PASS']"
      ]
     },
     "execution_count": 8,
     "metadata": {},
     "output_type": "execute_result"
    }
   ],
   "source": [
    "auction = []  # since North deals, we don't need any 'PAD_START'\n",
    "\n",
    "turn_i = 0  # whose turn is it to bid\n",
    "\n",
    "while not bidding.auction_over(auction):\n",
    "    auction.append(bidder_bots[turn_i].bid(auction).bid)\n",
    "    turn_i = (turn_i + 1) % 4  # next player's turn\n",
    "    \n",
    "auction"
   ]
  }
 ],
 "metadata": {
  "kernelspec": {
   "display_name": "Python 3",
   "language": "python",
   "name": "python3"
  },
  "language_info": {
   "codemirror_mode": {
    "name": "ipython",
    "version": 3
   },
   "file_extension": ".py",
   "mimetype": "text/x-python",
   "name": "python",
   "nbconvert_exporter": "python",
   "pygments_lexer": "ipython3",
   "version": "3.12.3"
  }
 },
 "nbformat": 4,
 "nbformat_minor": 5
}
