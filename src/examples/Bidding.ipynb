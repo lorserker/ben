{
 "cells": [
  {
   "cell_type": "markdown",
   "id": "75d07246",
   "metadata": {},
   "source": [
    "# Bidding\n",
    "\n",
    "This is a tutorial for how to use the bidding engine"
   ]
  },
  {
   "cell_type": "code",
   "execution_count": 1,
   "id": "59a5664c",
   "metadata": {},
   "outputs": [],
   "source": [
    "import os\n",
    "os.chdir('..')\n",
    "\n",
    "from nn.models import Models\n",
    "from botbidder import BotBid\n",
    "from bidding import bidding\n",
    "from util import hand_to_str\n",
    "from deck52 import random_deal\n",
    "from sample import Sample\n",
    "import conf\n",
    "import numpy as np\n",
    "\n",
    "np.set_printoptions(precision=2, suppress=True, linewidth=200)\n"
   ]
  },
  {
   "cell_type": "code",
   "execution_count": 2,
   "id": "44786d5d",
   "metadata": {},
   "outputs": [
    {
     "name": "stderr",
     "output_type": "stream",
     "text": [
      "Loading config file d:\\GitHub\\ben\\src\\./config/TF1.x/default_tf1x.conf\n"
     ]
    },
    {
     "name": "stdout",
     "output_type": "stream",
     "text": [
      "WARNING:tensorflow:From d:\\GitHub\\ben\\src\\nn\\bidderv2.py:3: The name tf.disable_v2_behavior is deprecated. Please use tf.compat.v1.disable_v2_behavior instead.\n",
      "\n",
      "WARNING:tensorflow:From C:\\Users\\Thorvald.AALBORGDATA\\AppData\\Roaming\\Python\\Python312\\site-packages\\tensorflow\\python\\compat\\v2_compat.py:98: disable_resource_variables (from tensorflow.python.ops.resource_variables_toggle) is deprecated and will be removed in a future version.\n",
      "Instructions for updating:\n",
      "non-resource variables are not supported in the long term\n",
      "WARNING:tensorflow:From d:\\GitHub\\ben\\src\\nn\\bidderv2.py:12: The name tf.Session is deprecated. Please use tf.compat.v1.Session instead.\n",
      "\n",
      "WARNING:tensorflow:From d:\\GitHub\\ben\\src\\nn\\bidderv2.py:21: The name tf.train.import_meta_graph is deprecated. Please use tf.compat.v1.train.import_meta_graph instead.\n",
      "\n",
      "INFO:tensorflow:Restoring parameters from ..\\models/GIB/2024-07-06_bidding_V2-3114000\n",
      "INFO:tensorflow:Restoring parameters from ..\\models/GIB/2024-07-06_bidding_V2-3114000\n",
      "INFO:tensorflow:Restoring parameters from ..\\models/GIB/binfo_V2-1420000\n",
      "INFO:tensorflow:Restoring parameters from ..\\models/lead/lead_suit-999000\n",
      "INFO:tensorflow:Restoring parameters from ..\\models/lead/lead_nt-475000\n",
      "INFO:tensorflow:Restoring parameters from ..\\models/lr3_model/lr3-1000000\n",
      "INFO:tensorflow:Restoring parameters from ..\\models/single_dummy/single_dummy-32768000\n",
      "INFO:tensorflow:Restoring parameters from ..\\models/playing/lefty_nt-475000\n",
      "INFO:tensorflow:Restoring parameters from ..\\models/playing/dummy_nt-475000\n",
      "INFO:tensorflow:Restoring parameters from ..\\models/playing/righty_nt-475000\n",
      "INFO:tensorflow:Restoring parameters from ..\\models/playing/decl_nt-475000\n",
      "INFO:tensorflow:Restoring parameters from ..\\models/playing/lefty_suit-999000\n",
      "INFO:tensorflow:Restoring parameters from ..\\models/playing/dummy_suit-999000\n",
      "INFO:tensorflow:Restoring parameters from ..\\models/playing/righty_suit-999000\n",
      "INFO:tensorflow:Restoring parameters from ..\\models/playing/decl_suit-999000\n"
     ]
    },
    {
     "name": "stderr",
     "output_type": "stream",
     "text": [
      "Loading config file d:\\GitHub\\ben\\src\\./config/TF1.x/default_tf1x.conf\n"
     ]
    }
   ],
   "source": [
    "models = Models.from_conf(conf.load('./config/TF1.x/default_tf1x.conf'),'..')   # loading neural networks\n",
    "sampler = Sample.from_conf(conf.load('./config/TF1.x/default_tf1x.conf'))  # Load sampling strategies"
   ]
  },
  {
   "cell_type": "markdown",
   "id": "10d8f2fc",
   "metadata": {},
   "source": [
    "### Running through an example"
   ]
  },
  {
   "cell_type": "code",
   "execution_count": 3,
   "id": "19dbfeb7",
   "metadata": {},
   "outputs": [
    {
     "data": {
      "text/plain": [
       "[{'call': '4H',\n",
       "  'insta_score': 0.474,\n",
       "  'adjustment': 24,\n",
       "  'expected_score': 206,\n",
       "  'expected_tricks': 10.5,\n",
       "  'alert': 'False'},\n",
       " {'call': 'PASS',\n",
       "  'insta_score': 0.515,\n",
       "  'adjustment': 26,\n",
       "  'expected_score': 39,\n",
       "  'expected_tricks': 8.6,\n",
       "  'alert': 'False'}]"
      ]
     },
     "execution_count": 3,
     "metadata": {},
     "output_type": "execute_result"
    }
   ],
   "source": [
    "\n",
    "vuln_ns, vuln_ew = False, False\n",
    "\n",
    "from ddsolver import ddsolver\n",
    "dds = ddsolver.DDSolver()\n",
    "\n",
    "# you sit West and hold:\n",
    "hand = '6.AKJT82.762.K63'\n",
    "\n",
    "# the auction goes:\n",
    "auction = ['1D', '3S']\n",
    "bot_bid = BotBid([vuln_ns, vuln_ew], hand, models, sampler, seat=2, dealer=0, ddsolver=dds, verbose=False)\n",
    "\n",
    "bid = bot_bid.bid(auction)\n",
    "bid.to_dict()['candidates']\n",
    "\n",
    "# what's your bid?"
   ]
  },
  {
   "cell_type": "code",
   "execution_count": 4,
   "id": "bfe98f56",
   "metadata": {},
   "outputs": [
    {
     "data": {
      "text/plain": [
       "[{'call': 'PASS', 'insta_score': 0.941, 'alert': 'False'}]"
      ]
     },
     "execution_count": 4,
     "metadata": {},
     "output_type": "execute_result"
    }
   ],
   "source": [
    "auction = ['1D', '3S', '4H', '4S', '5H', 'PASS']\n",
    "bid = bot_bid.bid(auction)\n",
    "bid.to_dict()['candidates']"
   ]
  },
  {
   "cell_type": "markdown",
   "id": "ad120123",
   "metadata": {},
   "source": [
    "in the output above:\n",
    "- `insta_score` reflects what the neural network prefers to bid\n",
    "- `expected_score` is based on what you expect to score on difference samples (for example, 70% of the time you are making and 30% of the time you are going one off, then the expected score is 0.7 * 620 - 0.3 * 100)"
   ]
  },
  {
   "cell_type": "markdown",
   "id": "051ff121",
   "metadata": {},
   "source": [
    "### Samples consistent with the auction so far\n",
    "\n",
    "Above we said that we are computig expected scores on samples consistent with the auction so far.\n",
    "\n",
    "How do we get these samples?\n",
    "\n",
    "We get some samples in the response we get from the bot (i.e `bid.samples`)"
   ]
  },
  {
   "cell_type": "code",
   "execution_count": 5,
   "id": "55b647a5",
   "metadata": {},
   "outputs": [
    {
     "data": {
      "text/plain": [
       "['x.Q9xx.AKJ9xx.98 QJ98xxx.xx.Q.QTx x.AKJT8x.xxx.Kxx AKTx.x.T8x.AJxxx - 0.71387',\n",
       " 'A.9xx.AQT9xx.9xx QJ98xxx..Kx.J8xx x.AKJT8x.xxx.Kxx KTxx.Qxxx.J8.AQT - 0.68750',\n",
       " '.Q9xx.AKJ98xx.Tx QJ8xxxx.xx.x.QJ9 x.AKJT8x.xxx.Kxx AKT9x.x.QT.A8xxx - 0.66357',\n",
       " 'J.xxxx.AKQT9xx.x AT9xxxx.Q.x.QJ9x x.AKJT8x.xxx.Kxx KQ8x.9x.J8.AT8xx - 0.65381',\n",
       " 'x.9xxx.KQJT8x.Ax AQT98xx.x.9.QTxx x.AKJT8x.xxx.Kxx KJxx.Qx.Axx.J98x - 0.64502',\n",
       " 'Q.Qxxx.K8xxx.A8x AT8xxxx.9x.J.JTx x.AKJT8x.xxx.Kxx KJ9x.x.AQT9.Q9xx - 0.64307',\n",
       " 'A.Q9x.QJT8x.QT8x KJT98xx.x.Kx.Jxx x.AKJT8x.xxx.Kxx Qxxx.xxx.A9x.A9x - 0.63965',\n",
       " 'Q.Qxxx.AQJ8x.J9x JT98xxx.x.xx.AQx x.AKJT8x.xxx.Kxx AKxx.9x.KT9.T8xx - 0.63525',\n",
       " 'K8.xxx.KJ9xx.A8x QJ9xxxx.Q.T.J9xx x.AKJT8x.xxx.Kxx ATx.9xx.AQ8x.QTx - 0.62598',\n",
       " 'Kx.Qxx.AKT98x.8x QJT98xx..Jx.QJxx x.AKJT8x.xxx.Kxx Axx.9xxx.Qx.AT9x - 0.62549',\n",
       " '9.Qxx.AKJ98x.JT8 AQJT8xx.x.QT.9xx x.AKJT8x.xxx.Kxx Kxxx.9xx.xx.AQxx - 0.62256',\n",
       " 'A9.9xx.AQT98x.8x KQ8xxxx.Qx.x.Q9x x.AKJT8x.xxx.Kxx JTx.xx.KJx.AJTxx - 0.60840',\n",
       " 'Ax.Qxx.A98xxx.Qx QT9xxxx.x.QJ.Jxx x.AKJT8x.xxx.Kxx KJ8.9xx.KT.AT98x - 0.60596',\n",
       " 'Tx.Qxx.AJ9xxx.A8 KQJ9xxx.x.T.Qxxx x.AKJT8x.xxx.Kxx A8x.9xx.KQ8.JT9x - 0.60596',\n",
       " '.xxxx.AQT9xx.A8x KJ98xxx.Qx.x.QJx x.AKJT8x.xxx.Kxx AQTxx.9.KJ8.T9xx - 0.60596',\n",
       " 'K.9xx.KJ98xx.A8x AJ98xxx.Qx.Q.xxx x.AKJT8x.xxx.Kxx QTxx.xx.ATx.QJT9 - 0.59814',\n",
       " 'A.Qxx.KJT8x.JT8x QJ8xxxx.x.x.AQ9x x.AKJT8x.xxx.Kxx KT9x.9xx.AQ9x.xx - 0.59375',\n",
       " 'JT.9x.KQJTxx.A8x A8xxxxx.x.9x.QJx x.AKJT8x.xxx.Kxx KQ9.Qxxx.A8.T9xx - 0.59326',\n",
       " 'Kx.xxxx.KQJT9x.J AQT9xxx.Q.8x.Qxx x.AKJT8x.xxx.Kxx J8x.9x.Ax.AT98xx - 0.58936',\n",
       " 'Ax.Qxxx.AJ8xxx.x KJT98xx.9.T9.J9x x.AKJT8x.xxx.Kxx Qxx.xx.KQ.AQT8xx - 0.58838']"
      ]
     },
     "execution_count": 5,
     "metadata": {},
     "output_type": "execute_result"
    }
   ],
   "source": [
    "bid.samples"
   ]
  },
  {
   "cell_type": "markdown",
   "id": "7d0dd8f5",
   "metadata": {},
   "source": [
    "each row is one sample. the hands are in the order: N E S W\n",
    "\n",
    "(West always has the same cards because it's your hand and it's known to you)"
   ]
  },
  {
   "cell_type": "code",
   "execution_count": 6,
   "id": "7101e514",
   "metadata": {},
   "outputs": [
    {
     "name": "stdout",
     "output_type": "stream",
     "text": [
      "Good quality: 1.0\n",
      "x.AKJT8x.xxx.Kxx AKx.Qx.AQ8x.AJ8x Qxxxx.x.T9xx.Txx JT98.9xxx.KJ.Q9x\n",
      "x.AKJT8x.xxx.Kxx KQT.xx.AKQJx.AQ8 8xxx.x.98x.T9xxx AJ9xx.Q9xx.Tx.Jx\n",
      "x.AKJT8x.xxx.Kxx AK.xxx.AKQT.ATxx T98xxx.Qx.J8.J9x QJxx.9x.9xxx.Q8x\n",
      "x.AKJT8x.xxx.Kxx ATx.xx.AKQJT.AQ9 K9xxx.9.xxx.JTxx QJ8x.Qxxx.98.8xx\n",
      "x.AKJT8x.xxx.Kxx AK.Q9x.AQ9.AQ9xx QTxxxx.xx.Tx.Txx J98x.xx.KJ8xx.J8\n",
      "x.AKJT8x.xxx.Kxx KT8.Qx.AKQTx.AQx J9xxx.9.8xx.98xx AQxx.xxxx.J9.JTx\n",
      "x.AKJT8x.xxx.Kxx KQ.Qxx.AKQxx.ATx J9xxxx.x.T8.9xxx AT8x.9xx.J9x.QJ8\n",
      "x.AKJT8x.xxx.Kxx KQx.Q9x.AK9.AQxx T8xxxx..QTx.J8xx AJ9.xxxx.J8xx.T9\n",
      "x.AKJT8x.xxx.Kxx AKx.9x.AQJx.AQxx J9xxx.x.Txx.J8xx QT8x.Qxxx.K98.T9\n",
      "x.AKJT8x.xxx.Kxx QJx.Q9x.AKQx.AQJ T9xxx..T98xx.xxx AK8x.xxxx.J.T98x\n",
      "x.AKJT8x.xxx.Kxx AK9.Qxx.KJ8.AQJ9 8xxxx.x.Qxxx.xxx QJTx.9xx.AT9.T8x\n",
      "x.AKJT8x.xxx.Kxx AKx.Q9x.AKxx.Axx J98xx.x.JT98.Txx QTxx.xxx.Qx.QJ98\n",
      "x.AKJT8x.xxx.Kxx AQx.Qx.AK8x.AQxx T8xxx.xx.Txx.J9x KJ9x.9xx.QJ9.T8x\n",
      "x.AKJT8x.xxx.Kxx AK.Qxx.A9xx.AQJx JTxxxx.x.8x.T8xx Q98x.9xx.KQJT.9x\n",
      "x.AKJT8x.xxx.Kxx KQJ.Qxx.AKJ.AJT9 T9xxx.9x.T9x.Qxx A8xx.xx.Q8xx.8xx\n",
      "x.AKJT8x.xxx.Kxx Axx.Q9.AKJx.AQxx KT8xx.x.8x.T98xx QJ9x.xxxx.QT9x.J\n",
      "x.AKJT8x.xxx.Kxx AKQ.xx.KQT9.AQTx T98xx.Qx.8xx.9xx Jxxx.9xx.AJx.J8x\n",
      "x.AKJT8x.xxx.Kxx AKx.9x.AKQ9.AJxx J98xxx.x.Txx.QTx QTx.Qxxx.J8x.98x\n",
      "x.AKJT8x.xxx.Kxx AJT.Qx.AK9.AQ8xx Q98xxx.x.JT8x.Jx Kxx.9xxx.Qxx.T9x\n"
     ]
    }
   ],
   "source": [
    "# we got some samples above. if we want more, we can always get more\n",
    "\n",
    "sample_hands, sorted_score, p_hcp, p_shp, good_quality = bot_bid.sample_hands_for_auction(['PAD_START','2N','PASS','3C','PASS','3D'], 0)\n",
    "print(\"Good quality:\", good_quality)\n",
    "for i in range(sample_hands.shape[0]):\n",
    "    print(f'{hand_to_str(sample_hands[i, 0, :])} {hand_to_str(sample_hands[i, 1, :])} {hand_to_str(sample_hands[i, 2, :])} {hand_to_str(sample_hands[i, 3, :])}')"
   ]
  },
  {
   "cell_type": "markdown",
   "id": "7e7f18d2",
   "metadata": {},
   "source": [
    "How do we know on which sample 4H is making and on which sample it is not? It's the topic for another tutorial, but basically we could do either (1) solve the sample double dummpy or (2) estimate the outcome using a neural network"
   ]
  },
  {
   "cell_type": "markdown",
   "id": "669da023",
   "metadata": {},
   "source": [
    "### Bidding through an entire auction for all four hands\n",
    "\n",
    "Now we'll take a random deal and let the bot bid for each hand. We assume North deals and nobody is vulnerable."
   ]
  },
  {
   "cell_type": "code",
   "execution_count": 7,
   "id": "fc27ca79",
   "metadata": {},
   "outputs": [
    {
     "data": {
      "text/plain": [
       "['KQJ.T72.AJ9.AK52',\n",
       " 'A76542.A84.Q72.6',\n",
       " '.KQJ63.KT8653.93',\n",
       " 'T983.95.4.QJT874']"
      ]
     },
     "execution_count": 7,
     "metadata": {},
     "output_type": "execute_result"
    }
   ],
   "source": [
    "hands = random_deal().split()\n",
    "hands # N, E, S, W"
   ]
  },
  {
   "cell_type": "code",
   "execution_count": 8,
   "id": "d480cbba",
   "metadata": {},
   "outputs": [],
   "source": [
    "bidder_bots = [BotBid([False, False], hand, models, sampler,i, 0, dds, False) for i, hand in enumerate(hands)]"
   ]
  },
  {
   "cell_type": "code",
   "execution_count": 9,
   "id": "7d77351a",
   "metadata": {},
   "outputs": [
    {
     "data": {
      "text/plain": [
       "['1C', '1S', '2H', '3S', '4H', '4S', '5H', 'PASS', 'PASS', 'PASS']"
      ]
     },
     "execution_count": 9,
     "metadata": {},
     "output_type": "execute_result"
    }
   ],
   "source": [
    "auction = []  # since North deals, we don't need any 'PAD_START'\n",
    "\n",
    "turn_i = 0  # whose turn is it to bid\n",
    "\n",
    "while not bidding.auction_over(auction):\n",
    "    auction.append(bidder_bots[turn_i].bid(auction).bid)\n",
    "    turn_i = (turn_i + 1) % 4  # next player's turn\n",
    "    \n",
    "auction"
   ]
  }
 ],
 "metadata": {
  "kernelspec": {
   "display_name": "Python 3",
   "language": "python",
   "name": "python3"
  },
  "language_info": {
   "codemirror_mode": {
    "name": "ipython",
    "version": 3
   },
   "file_extension": ".py",
   "mimetype": "text/x-python",
   "name": "python",
   "nbconvert_exporter": "python",
   "pygments_lexer": "ipython3",
   "version": "3.12.3"
  }
 },
 "nbformat": 4,
 "nbformat_minor": 5
}
