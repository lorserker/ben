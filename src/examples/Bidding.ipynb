{
 "cells": [
  {
   "cell_type": "markdown",
   "id": "75d07246",
   "metadata": {},
   "source": [
    "# Bidding\n",
    "\n",
    "This is a tutorial for how to use the bidding engine"
   ]
  },
  {
   "cell_type": "code",
   "execution_count": 1,
   "id": "59a5664c",
   "metadata": {},
   "outputs": [],
   "source": [
    "import os\n",
    "os.chdir('..')\n",
    "\n",
    "from nn.models import Models\n",
    "from bots import BotBid\n",
    "from bidding import bidding\n",
    "from util import hand_to_str\n",
    "from deck52 import random_deal\n",
    "from sample import Sample\n",
    "import conf"
   ]
  },
  {
   "cell_type": "code",
   "execution_count": 2,
   "id": "44786d5d",
   "metadata": {},
   "outputs": [
    {
     "name": "stdout",
     "output_type": "stream",
     "text": [
      "Reading configuration from ../src/config/default.conf\n",
      "INFO:tensorflow:Restoring parameters from ..\\models/gib21_model/gib21-1000000\n",
      "INFO:tensorflow:Restoring parameters from ..\\models/gib21_info_model/gib21_info-500000\n",
      "INFO:tensorflow:Restoring parameters from ..\\models/lead_model_b/lead-1000000\n",
      "INFO:tensorflow:Restoring parameters from ..\\models/lr3_model/lr3-1000000\n",
      "INFO:tensorflow:Restoring parameters from ..\\models/lefty_model/lefty-1000000\n",
      "INFO:tensorflow:Restoring parameters from ..\\models/dummy_model/dummy-920000\n",
      "INFO:tensorflow:Restoring parameters from ..\\models/righty_model/righty-1000000\n",
      "INFO:tensorflow:Restoring parameters from ..\\models/decl_model/decl-1000000\n",
      "Reading configuration from ../src/config/default.conf\n"
     ]
    }
   ],
   "source": [
    "models = Models.from_conf(conf.load('../src/config/default.conf'))   # loading neural networks\n",
    "sampler = Sample.from_conf(conf.load('../src/config/default.conf'))  # Load sampling strategies"
   ]
  },
  {
   "cell_type": "markdown",
   "id": "10d8f2fc",
   "metadata": {},
   "source": [
    "### Running through an example"
   ]
  },
  {
   "cell_type": "code",
   "execution_count": 3,
   "id": "19dbfeb7",
   "metadata": {},
   "outputs": [],
   "source": [
    "# East deals, EW vulnerable.\n",
    "vuln_ns, vuln_ew = False, True\n",
    "\n",
    "# you sit West and hold:\n",
    "hand = '73.KJ83.AT2.T962'\n",
    "\n",
    "# the auction goes:\n",
    "# (a few words about 'PAD_START':\n",
    "# the auction is padded to dealer North\n",
    "# if North is not dealer, than we have to put in a 'PAD_START' for every seat that was skipped\n",
    "# if East deals we have one pad (because North is skipped)\n",
    "# if South deals we have two pads (because North and East are skipped)\n",
    "# etc.)\n",
    "auction = ['PAD_START', '1D', '1S']\n",
    "\n",
    "# what's your bid?"
   ]
  },
  {
   "cell_type": "code",
   "execution_count": 4,
   "id": "bfe98f56",
   "metadata": {},
   "outputs": [
    {
     "data": {
      "text/plain": [
       "'X'"
      ]
     },
     "execution_count": 4,
     "metadata": {},
     "output_type": "execute_result"
    }
   ],
   "source": [
    "bot_bid = BotBid([vuln_ns, vuln_ew], hand, models, -1, -1, 0.1, sampler, False)\n",
    "\n",
    "bot_bid.bid(['PAD_START', '1D', '1S']).bid"
   ]
  },
  {
   "cell_type": "code",
   "execution_count": 5,
   "id": "602468ef",
   "metadata": {},
   "outputs": [
    {
     "name": "stdout",
     "output_type": "stream",
     "text": [
      "1: 4H   0.6589 Expected Score: 101  \n",
      "2: PASS 0.3114 Expected Score: 44   \n"
     ]
    },
    {
     "data": {
      "text/plain": [
       "'4H'"
      ]
     },
     "execution_count": 5,
     "metadata": {},
     "output_type": "execute_result"
    }
   ],
   "source": [
    "# you double, North bids 2S, your partner 3H, PASS, back to you ...\n",
    "\n",
    "bid = bot_bid.bid(['PAD_START', '1D', '1S', 'X', '2S', '3H', 'PASS'])\n",
    "bid.bid"
   ]
  },
  {
   "cell_type": "code",
   "execution_count": 6,
   "id": "7227ea6b",
   "metadata": {},
   "outputs": [
    {
     "data": {
      "text/plain": [
       "[{'call': '4H',\n",
       "  'insta_score': 0.6589298844337463,\n",
       "  'expected_score': 101.5339689096782},\n",
       " {'call': 'PASS',\n",
       "  'insta_score': 0.3114379048347473,\n",
       "  'expected_score': 44.314525486562495}]"
      ]
     },
     "execution_count": 6,
     "metadata": {},
     "output_type": "execute_result"
    }
   ],
   "source": [
    "# what options were considered?\n",
    "\n",
    "bid.to_dict()['candidates']"
   ]
  },
  {
   "cell_type": "markdown",
   "id": "ad120123",
   "metadata": {},
   "source": [
    "in the output above:\n",
    "- `insta_score` reflects what the neural network prefers to bid\n",
    "- `expected_score` is based on what you expect to score on difference samples (for example, 70% of the time you are making and 30% of the time you are going one off, then the expected score is 0.7 * 620 - 0.3 * 100)"
   ]
  },
  {
   "cell_type": "markdown",
   "id": "051ff121",
   "metadata": {},
   "source": [
    "### Samples consistent with the auction so far\n",
    "\n",
    "Above we said that we are computig expected scores on samples consistent with the auction so far.\n",
    "\n",
    "How do we get these samples?\n",
    "\n",
    "We get some samples in the response we get from the bot (i.e `bid.samples`)"
   ]
  },
  {
   "cell_type": "code",
   "execution_count": 7,
   "id": "55b647a5",
   "metadata": {},
   "outputs": [
    {
     "data": {
      "text/plain": [
       "['KQTx.9xx.8xxx.8x 9x.ATxx.KQ9x.AJx AJ8xx.Qx.Jx.KQxx xx.KJ8x.ATx.T9xx',\n",
       " 'Jxx.Qx.Jxxx.AJxx Q8x.AT9x.K9xx.Kx AKT9x.xxx.Q8.Q8x xx.KJ8x.ATx.T9xx',\n",
       " 'J8xx.Txxx.xx.KQx Qx.AQ9x.KQJ8xx.8 AKT9x.x.9x.AJxxx xx.KJ8x.ATx.T9xx',\n",
       " 'KJx.9xxx.Kxx.Qxx Axx.AQTx.J9xx.Jx QT98x.x.Q8x.AK8x xx.KJ8x.ATx.T9xx',\n",
       " 'K8xx.xx.J9xx.Q8x J9.AQTx.KQ8x.Jxx AQTxx.9xx.xx.AKx xx.KJ8x.ATx.T9xx',\n",
       " 'QJ8.Qxx.Jxxx.8xx AK.A9xx.KQ98x.Jx T9xxxx.Tx.x.AKQx xx.KJ8x.ATx.T9xx',\n",
       " 'A9x.Qxx.QJ9x.8xx KTx.A9xx.K8xx.KJ QJ8xx.Tx.xx.AQxx xx.KJ8x.ATx.T9xx',\n",
       " 'ATx.Txxx.QJx.Qxx QJ.AQ9x.98xx.A8x K98xxx.x.Kxx.KJx xx.KJ8x.ATx.T9xx',\n",
       " 'A98x.9xx.J9x.Jxx KJ.AQxx.KQxxxx.8 QTxxx.Tx.8.AKQxx xx.KJ8x.ATx.T9xx',\n",
       " 'KJx.Qx.K8xx.xxxx Axx.Axxx.QJ9x.Q8 QT98x.T9x.xx.AKJ xx.KJ8x.ATx.T9xx']"
      ]
     },
     "execution_count": 7,
     "metadata": {},
     "output_type": "execute_result"
    }
   ],
   "source": [
    "bid.samples"
   ]
  },
  {
   "cell_type": "markdown",
   "id": "7d0dd8f5",
   "metadata": {},
   "source": [
    "each row is one sample. the hands are in the order: N E S W\n",
    "\n",
    "(West always has the same cards because it's your hand and it's known to you)"
   ]
  },
  {
   "cell_type": "code",
   "execution_count": 8,
   "id": "7101e514",
   "metadata": {},
   "outputs": [
    {
     "name": "stdout",
     "output_type": "stream",
     "text": [
      "98x.xx.8xx.AQ8xx QJx.AQxx.KQJ9x.x AKTxx.T9x.xx.KJx xx.KJ8x.ATx.T9xx\n",
      "KTx.Txx.J8xx.AJx 98.AQxx.K9xx.Kxx AQJxxx.9x.Qx.Q8x xx.KJ8x.ATx.T9xx\n",
      "QJT8x.9xx.Q8x.Jx A.AQxx.KJ9xx.K8x K9xxx.Tx.xx.AQxx xx.KJ8x.ATx.T9xx\n",
      "8xxx.Txxx..KJxxx Tx.AQ9x.QJ98x.A8 AKQJ9.x.Kxxxx.Qx xx.KJ8x.ATx.T9xx\n",
      "Qxxx.xxx.KJxx.xx KJ.QT9x.Q8xx.KJ8 AT98x.Ax.9x.AQxx xx.KJ8x.ATx.T9xx\n",
      "Q8xx.9xx.Qxx.QJx T9x.AQxx.K9xx.A8 AKJx.Tx.J8x.Kxxx xx.KJ8x.ATx.T9xx\n",
      "T98x.9xx.J9x.KQx Qx.ATxx.KQxxx.Jx AKJxx.Qx.8x.A8xx xx.KJ8x.ATx.T9xx\n",
      "Q8x.QT9x.J9x.QJx AJx.Axx.KQ8xx.xx KT9xx.xx.xx.AK8x xx.KJ8x.ATx.T9xx\n",
      "AT9.9xx.K9x.Qxxx K8x.ATx.QJxxx.Ax QJxxx.Qxx.8x.KJ8 xx.KJ8x.ATx.T9xx\n",
      "Kxx.xxx.Qxxx.K8x 98.AQxx.KJ98x.Ax AQJTxx.T9.x.QJxx xx.KJ8x.ATx.T9xx\n",
      "Jxx.x.KJ98.Qxxxx QT8x.Q9xx.Qxx.AK AK9x.ATxx.xxx.J8 xx.KJ8x.ATx.T9xx\n",
      "A9x.9xx.Q98xx.Kx Qx.AQTx.Kxxx.Q8x KJT8xx.xx.J.AJxx xx.KJ8x.ATx.T9xx\n",
      "98xx.Txxx.Kxx.QJ KT.AQ9x.Jxxx.K8x AQJxx.x.Q98.Axxx xx.KJ8x.ATx.T9xx\n",
      "JTx.Qxx.Q9xx.Jxx A98.A9xx.KJ8xx.Q KQxxx.Tx.x.AK8xx xx.KJ8x.ATx.T9xx\n",
      "JTx.xx.98.KQJ8xx Q9x.A9xx.KQxxx.A AK8xx.QTx.Jxx.xx xx.KJ8x.ATx.T9xx\n",
      "A9xx.Q9x.8xxx.Kx x.ATxx.KJ9x.Axxx KQJT8x.xx.Qx.QJ8 xx.KJ8x.ATx.T9xx\n",
      "KTx.T9xx.Qx.QJ8x Jx.AQxx.Kxxx.Axx AQ98xx.x.J98x.Kx xx.KJ8x.ATx.T9xx\n",
      "T8x.Qxx.Kxx.Qxxx AKx.ATxx.QJ9xx.x QJ9xx.9x.8x.AKJ8 xx.KJ8x.ATx.T9xx\n",
      "9xx.Q9x.xxx.Axxx ATx.Axxx.QJ9xx.K KQJ8x.Tx.K8.QJ8x xx.KJ8x.ATx.T9xx\n",
      "ATxx.Q9x.8xx.Jxx KJ.Axxx.J9xx.K8x Q98xx.Tx.KQx.AQx xx.KJ8x.ATx.T9xx\n",
      "T9xx.A.J8xxx.Jxx Qx.Qxxx.KQ9x.KQx AKJ8x.T9xx.x.A8x xx.KJ8x.ATx.T9xx\n",
      "T98.ATx.8x.Jxxxx Axx.9xxx.KQxx.K8 KQJxx.Qx.J9xx.AQ xx.KJ8x.ATx.T9xx\n",
      "xxx.Axx.xxx.Q8xx AJT.Qxxx.KJ8x.Kx KQ98x.T9.Q9x.AJx xx.KJ8x.ATx.T9xx\n",
      "Qxx.9xx.K8x.Kxxx K9x.AQxx.QJ9x.J8 AJT8x.Tx.xxx.AQx xx.KJ8x.ATx.T9xx\n",
      "QT8.9xx.Q8x.QJ8x A9x.QTxx.Kxxx.Ax KJxxx.Ax.J9x.Kxx xx.KJ8x.ATx.T9xx\n",
      "J9x.Qxx.Qxxx.K8x 8xxx.Axxx.KJ9.Ax AKQT.T9.8xx.QJxx xx.KJ8x.ATx.T9xx\n",
      "T8x.Qxx.J9x.AJxx KJx.Axxx.KQxxx.x AQ9xx.T9.8x.KQ8x xx.KJ8x.ATx.T9xx\n",
      "J8x.Qxx.KJxx.J8x Q9.Axxx.8xxx.AKx AKTxxx.T9.Q9.Qxx xx.KJ8x.ATx.T9xx\n"
     ]
    }
   ],
   "source": [
    "# we got some samples above. if we want more, we can always get more\n",
    "\n",
    "sample_hands = bot_bid.sample_hands(['PAD_START', '1D', '1S', 'X', '2S', '3H', 'PASS'])\n",
    "\n",
    "for i in range(sample_hands.shape[0]):\n",
    "    print(f'{hand_to_str(sample_hands[i, 0, :])} {hand_to_str(sample_hands[i, 1, :])} {hand_to_str(sample_hands[i, 2, :])} {hand_to_str(sample_hands[i, 3, :])}')"
   ]
  },
  {
   "cell_type": "markdown",
   "id": "7e7f18d2",
   "metadata": {},
   "source": [
    "How do we know on which sample 4H is making and on which sample it is not? It's the topic for another tutorial, but basically we could do either (1) solve the sample double dummpy or (2) estimate the outcome using a neural network"
   ]
  },
  {
   "cell_type": "markdown",
   "id": "669da023",
   "metadata": {},
   "source": [
    "### Bidding through an entire auction for all four hands\n",
    "\n",
    "Now we'll take a random deal and let the bot bid for each hand. We assume North deals and nobody is vulnerable."
   ]
  },
  {
   "cell_type": "code",
   "execution_count": 9,
   "id": "fc27ca79",
   "metadata": {},
   "outputs": [
    {
     "data": {
      "text/plain": [
       "['KJT4.Q3.A2.K9754',\n",
       " '852.K95.QT986.Q6',\n",
       " 'A976.J742.54.AT3',\n",
       " 'Q3.AT86.KJ73.J82']"
      ]
     },
     "execution_count": 9,
     "metadata": {},
     "output_type": "execute_result"
    }
   ],
   "source": [
    "hands = random_deal().split()\n",
    "hands # N, E, S, W"
   ]
  },
  {
   "cell_type": "code",
   "execution_count": 10,
   "id": "d480cbba",
   "metadata": {},
   "outputs": [],
   "source": [
    "bidder_bots = [BotBid([False, False], hand, models, -1, -1, 0.1, sampler, False) for hand in hands]"
   ]
  },
  {
   "cell_type": "code",
   "execution_count": 11,
   "id": "7d77351a",
   "metadata": {},
   "outputs": [
    {
     "name": "stdout",
     "output_type": "stream",
     "text": [
      "1: 4S   0.3891 Expected Score: 161  \n",
      "2: PASS 0.5305 Expected Score: 106  \n"
     ]
    },
    {
     "data": {
      "text/plain": [
       "['1C',\n",
       " 'PASS',\n",
       " '1H',\n",
       " 'PASS',\n",
       " '1S',\n",
       " 'PASS',\n",
       " '3S',\n",
       " 'PASS',\n",
       " '4S',\n",
       " 'PASS',\n",
       " 'PASS',\n",
       " 'PASS']"
      ]
     },
     "execution_count": 11,
     "metadata": {},
     "output_type": "execute_result"
    }
   ],
   "source": [
    "auction = []  # since North deals, we don't need any 'PAD_START'\n",
    "\n",
    "turn_i = 0  # whose turn is it to bid\n",
    "\n",
    "while not bidding.auction_over(auction):\n",
    "    auction.append(bidder_bots[turn_i].bid(auction).bid)\n",
    "    turn_i = (turn_i + 1) % 4  # next player's turn\n",
    "    \n",
    "auction"
   ]
  }
 ],
 "metadata": {
  "kernelspec": {
   "display_name": "Python 3 (ipykernel)",
   "language": "python",
   "name": "python3"
  },
  "language_info": {
   "codemirror_mode": {
    "name": "ipython",
    "version": 3
   },
   "file_extension": ".py",
   "mimetype": "text/x-python",
   "name": "python",
   "nbconvert_exporter": "python",
   "pygments_lexer": "ipython3",
   "version": "3.7.16"
  }
 },
 "nbformat": 4,
 "nbformat_minor": 5
}
