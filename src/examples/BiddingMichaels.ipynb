{
 "cells": [
  {
   "cell_type": "markdown",
   "id": "75d07246",
   "metadata": {},
   "source": [
    "# Bidding\n",
    "\n",
    "This is a tutorial for how to use the bidding engine"
   ]
  },
  {
   "cell_type": "code",
   "execution_count": 1,
   "id": "59a5664c",
   "metadata": {},
   "outputs": [
    {
     "name": "stderr",
     "output_type": "stream",
     "text": [
      "Loading config file d:\\GitHub\\ben\\src\\./config/default.conf\n",
      "Loading config file d:\\GitHub\\ben\\src\\./config/default.conf\n"
     ]
    }
   ],
   "source": [
    "import os\n",
    "os.chdir('..')\n",
    "\n",
    "from nn.models_tf2 import Models\n",
    "from botbidder import BotBid\n",
    "from util import hand_to_str\n",
    "from sample import Sample\n",
    "import conf\n",
    "import numpy as np\n",
    "\n",
    "np.set_printoptions(precision=2, suppress=True, linewidth=200)\n",
    "np.random.seed(42)\n",
    "models = Models.from_conf(conf.load('./config/default.conf'),'..')   # loading neural networks\n",
    "sampler = Sample.from_conf(conf.load('./config/default.conf'), False)  # Load sampling strategies\n"
   ]
  },
  {
   "cell_type": "markdown",
   "id": "10d8f2fc",
   "metadata": {},
   "source": [
    "### Bidding"
   ]
  },
  {
   "cell_type": "code",
   "execution_count": 2,
   "id": "19dbfeb7",
   "metadata": {},
   "outputs": [
    {
     "data": {
      "text/plain": [
       "[{'call': '6S',\n",
       "  'insta_score': 0.2,\n",
       "  'adjustment': 0.0,\n",
       "  'expected_score': 948,\n",
       "  'expected_imp': 5.74,\n",
       "  'expected_tricks': 11.8,\n",
       "  'alert': 'False',\n",
       "  'who': 'BBA',\n",
       "  'explanation': 'Nat. -- 3+!S; 8-17 HCP'},\n",
       " {'call': '4S',\n",
       "  'insta_score': 0.177,\n",
       "  'adjustment': 0.43,\n",
       "  'expected_score': 693,\n",
       "  'expected_imp': 4.19,\n",
       "  'expected_tricks': 11.7},\n",
       " {'call': '2H',\n",
       "  'insta_score': 0.127,\n",
       "  'adjustment': 0.3,\n",
       "  'expected_score': 478,\n",
       "  'expected_imp': -1.83,\n",
       "  'expected_tricks': 10.7},\n",
       " {'call': '2S',\n",
       "  'insta_score': 0.211,\n",
       "  'adjustment': 0.51,\n",
       "  'expected_score': 314,\n",
       "  'expected_imp': -4.06,\n",
       "  'expected_tricks': 11.8},\n",
       " {'call': '3S',\n",
       "  'insta_score': 0.129,\n",
       "  'adjustment': 0.31,\n",
       "  'expected_score': 334,\n",
       "  'expected_imp': -4.04,\n",
       "  'expected_tricks': 11.8}]"
      ]
     },
     "execution_count": 2,
     "metadata": {},
     "output_type": "execute_result"
    }
   ],
   "source": [
    "vuln_ns, vuln_ew = True, False\n",
    "hand = 'K983.8.AJ873.AQ6'\n",
    "\n",
    "from ddsolver import ddsolver\n",
    "dds = ddsolver.DDSolver()\n",
    "\n",
    "auction = [\"PAD_START\",\"1C\",\"2C\",\"PASS\"]\n",
    "bot_bid = BotBid([vuln_ns, vuln_ew], hand, models, sampler, 0, 1, dds, False, False)\n",
    "\n",
    "bid = bot_bid.bid(auction)\n",
    "bid.to_dict()['candidates']\n",
    "\n",
    "# what's your bid?\n"
   ]
  },
  {
   "cell_type": "code",
   "execution_count": 3,
   "id": "55b647a5",
   "metadata": {},
   "outputs": [
    {
     "name": "stdout",
     "output_type": "stream",
     "text": [
      "Kxxx.x.AJxxx.AQx .AKx.xxx.KJTxxxx AJTxxx.QTxxxx.K. Qxx.Jxx.QTxx.xxx - 0.99076 | 1C-2C-P-2S-P-P-P (12) | 1C-2C-P-4S-P-P-P (12) | 1C-2C-P-3S-P-P-P (12) | 1C-2C-P-2H-P-P-P (10) | 1C-2C-P-6S-P-P-P (12)\n",
      "Kxxx.x.AJxxx.AQx .KTx.KQx.KJTxxxx Axxxxx.AQJxxx..x QJT.xxx.Txxxx.xx - 0.98960 | 1C-2C-P-2S-3C-P-P-4S-P-4N-P-5C-P-7S-P-P-P (12) | 1C-2C-P-4S-P-P-P (12) | 1C-2C-P-3S-P-4S-P-4N-P-5H-P-6S-P-P-X-P-P-P (12) | 1C-2C-P-2H-3C-3H-P-P-P (11) | 1C-2C-P-6S-P-P-X-P-P-P (12)\n",
      "Kxxx.x.AJxxx.AQx A.xx.Kxx.KJxxxxx QJxxxx.AKxxxx.x. Tx.QJTx.QTxx.Txx - 0.98867 | 1C-2C-P-2S-P-P-P (12) | 1C-2C-P-4S-P-P-P (12) | 1C-2C-P-3S-P-P-P (12) | 1C-2C-P-2H-P-P-P (10) | 1C-2C-P-6S-P-P-P (12)\n",
      "Kxxx.x.AJxxx.AQx Jx.Qxx.KQ.KJxxxx AQTxx.AKxxxx.Tx. xx.JTx.xxxx.Txxx - 0.98826 | 1C-2C-P-2S-P-P-P (13) | 1C-2C-P-4S-P-P-P (13) | 1C-2C-P-3S-P-4S-P-4N-P-5S-P-6S-P-P-P (13) | 1C-2C-P-2H-P-P-P (12) | 1C-2C-P-6S-P-P-P (13)\n",
      "Kxxx.x.AJxxx.AQx AT.Jxx.Kx.KJTxxx Qxxxxx.AKQxxx.x. J.Txx.QTxxx.xxxx - 0.98817 | 1C-2C-P-2S-P-P-P (12) | 1C-2C-P-4S-P-P-P (12) | 1C-2C-P-3S-P-4S-P-4N-P-5D-P-6S-P-P-P (12) | 1C-2C-P-2H-P-P-P (11) | 1C-2C-P-6S-P-P-P (12)\n",
      "Kxxx.x.AJxxx.AQx x.AJxx.Kx.KTxxxx AQxxx.KQTxxx.QT. JTx.xx.xxxx.Jxxx - 0.98710 | 1C-2C-P-2S-P-P-P (12) | 1C-2C-P-4S-P-P-P (12) | 1C-2C-P-3S-P-P-P (12) | 1C-2C-P-2H-P-P-P (11) | 1C-2C-P-6S-P-P-P (12)\n",
      "Kxxx.x.AJxxx.AQx .Kxx.KQx.KJTxxxx QJTxxx.AQJxxx.x. Axx.Txx.Txxx.xxx - 0.98669 | 1C-2C-P-2S-3C-P-P-4S-P-4N-P-5C-P-6S-P-P-P (12) | 1C-2C-P-4S-P-P-P (12) | 1C-2C-P-3S-P-P-P (12) | 1C-2C-P-2H-3C-P-P-4S-P-4N-P-5C-P-6S-P-P-P (12) | 1C-2C-P-6S-P-P-P (12)\n",
      "Kxxx.x.AJxxx.AQx A.xxx.KTxx.KJTxx QJTxxx.AKQJx.Q.x xx.Txxx.xxx.xxxx - 0.98642 | 1C-2C-P-2S-P-P-P (12) | 1C-2C-P-4S-P-P-P (12) | 1C-2C-P-3S-P-4S-P-4N-P-5D-P-6S-P-P-P (12) | 1C-2C-P-2H-P-2S-P-4N-P-5D-P-6S-P-P-P (12) | 1C-2C-P-6S-P-P-P (12)\n",
      "Kxxx.x.AJxxx.AQx Q.Axx.Kxx.KJTxxx AJxxxx.KJTxxx..x Tx.Qxx.QTxxx.xxx - 0.98577 | 1C-2C-P-2S-P-P-P (12) | 1C-2C-P-4S-P-P-P (12) | 1C-2C-P-3S-P-P-P (12) | 1C-2C-P-2H-P-P-P (11) | 1C-2C-P-6S-P-P-P (12)\n",
      "Kxxx.x.AJxxx.AQx A.Ax.KTxx.KJTxxx QJTxxx.KJTxxx.Q. xx.Qxxx.xxx.xxxx - 0.98533 | 1C-2C-P-2S-3C-P-P-4S-P-P-P (11) | 1C-2C-P-4S-P-P-P (11) | 1C-2C-P-3S-P-P-P (11) | 1C-2C-P-2H-3C-P-P-4S-P-4N-P-5C-P-5S-P-6S-P-P-P (11) | 1C-2C-P-6S-P-P-P (11)\n"
     ]
    }
   ],
   "source": [
    "### Samples consistent with the auction so far\n",
    "\n",
    "for i in range(min(10,len(bid.samples))):\n",
    "    print(bid.samples[i])\n"
   ]
  }
 ],
 "metadata": {
  "kernelspec": {
   "display_name": "Python 3",
   "language": "python",
   "name": "python3"
  },
  "language_info": {
   "codemirror_mode": {
    "name": "ipython",
    "version": 3
   },
   "file_extension": ".py",
   "mimetype": "text/x-python",
   "name": "python",
   "nbconvert_exporter": "python",
   "pygments_lexer": "ipython3",
   "version": "3.12.3"
  }
 },
 "nbformat": 4,
 "nbformat_minor": 5
}
