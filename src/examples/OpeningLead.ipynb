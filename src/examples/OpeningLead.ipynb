{
 "cells": [
  {
   "cell_type": "markdown",
   "id": "170af530",
   "metadata": {},
   "source": [
    "# Opening Lead\n",
    "\n",
    "This is a tutorial for how to use the opening lead engine."
   ]
  },
  {
   "cell_type": "code",
   "execution_count": 1,
   "id": "26570686",
   "metadata": {},
   "outputs": [
    {
     "name": "stderr",
     "output_type": "stream",
     "text": [
      "Loading config file d:\\GitHub\\ben\\src\\./config/default.conf\n",
      "Loading config file d:\\GitHub\\ben\\src\\./config/default.conf\n"
     ]
    }
   ],
   "source": [
    "import os\n",
    "os.chdir('..')\n",
    "\n",
    "from nn.models_tf2 import Models\n",
    "import botopeninglead\n",
    "from sample import Sample\n",
    "import conf\n",
    "\n",
    "models = Models.from_conf(conf.load('./config/default.conf'),'..')   # loading neural networks\n",
    "sampler = Sample.from_conf(conf.load('./config/default.conf'), False)  # Load sampling strategies\n"
   ]
  },
  {
   "cell_type": "code",
   "execution_count": 2,
   "id": "c3397678",
   "metadata": {},
   "outputs": [],
   "source": [
    "# both vulnerable. you are sitting North as dealer and you hold\n",
    "hand = 'T54.QT87.A98.943'\n",
    "\n",
    "# the auction goes:\n",
    "auction = [\"1C\",\"1D\",\"1S\",\"2D\",\"X\",\"PASS\",\"2S\",\"PASS\",\"3C\",\"PASS\",\"3N\",\"PASS\",\"4S\",'PASS', 'PASS', 'PASS']\n",
    "\n",
    "from ddsolver import ddsolver\n",
    "dds = ddsolver.DDSolver()\n",
    "\n",
    "# what to lead?\n",
    "lead_bot = botopeninglead.BotLead([True, True], hand, models, sampler, 0, 0, dds, False)\n",
    "lead = lead_bot.find_opening_lead(auction, {})"
   ]
  },
  {
   "cell_type": "code",
   "execution_count": 3,
   "id": "a2b5fe25",
   "metadata": {},
   "outputs": [
    {
     "data": {
      "text/plain": [
       "C3"
      ]
     },
     "execution_count": 3,
     "metadata": {},
     "output_type": "execute_result"
    }
   ],
   "source": [
    "lead.card"
   ]
  },
  {
   "cell_type": "markdown",
   "id": "02e88396",
   "metadata": {},
   "source": [
    "seems like the engine chose to lead the ace of diamonds\n",
    "\n",
    "the other options it considered were: a small spade and a small club"
   ]
  },
  {
   "cell_type": "code",
   "execution_count": 4,
   "id": "956ef356",
   "metadata": {},
   "outputs": [
    {
     "data": {
      "text/plain": [
       "[{'card': 'Cx',\n",
       "  'insta_score': 0.298,\n",
       "  'p_make_contract': 0.33,\n",
       "  'expected_score_imp': 0.45,\n",
       "  'msg': ''},\n",
       " {'card': 'Hx',\n",
       "  'insta_score': 0.336,\n",
       "  'p_make_contract': 0.33,\n",
       "  'expected_score_imp': 0.35,\n",
       "  'msg': ''},\n",
       " {'card': 'DA',\n",
       "  'insta_score': 0.108,\n",
       "  'p_make_contract': 0.31,\n",
       "  'expected_score_imp': -0.15,\n",
       "  'msg': ''},\n",
       " {'card': 'Sx',\n",
       "  'insta_score': 0.144,\n",
       "  'p_make_contract': 0.27,\n",
       "  'expected_score_imp': -0.15,\n",
       "  'msg': 'suit adjust=0.5'}]"
      ]
     },
     "execution_count": 4,
     "metadata": {},
     "output_type": "execute_result"
    }
   ],
   "source": [
    "lead.to_dict()['candidates']"
   ]
  },
  {
   "cell_type": "markdown",
   "id": "97efc5a1",
   "metadata": {},
   "source": [
    "in the above output:\n",
    "- `insta_score` reflects the preference of the neural network\n",
    "- `expected_tricks` how many tricks declarer is expected to take on this lead\n",
    "- `p_make_contract` is the probability of the contract making on this lead\n",
    "\n",
    "the probability of making and the expected tricks are computed on samples which are consistent with the auction. the samples are estimated single dummy using a neural network (more on this in another tutorial). we could also solve the samples double dummy, but that would be quite a bit slower."
   ]
  },
  {
   "cell_type": "code",
   "execution_count": 5,
   "id": "7cb2bf98",
   "metadata": {},
   "outputs": [
    {
     "data": {
      "text/plain": [
       "['Txx.QT8x.A98.9xx Kxx.xx.T.AKQTxxx AJx.Jxxx.QJxxx.x Qxxx.AKx.Kxxx.Jx - 0.51789 | Hx:200.0 Cx:200.0 Sx:100.0 DA:-620.0',\n",
       " 'Txx.QTxx.Axx.xxx AJx.xxx.Q.AKJxxx Qxx.Axx.Kxxxx.Tx Kxxx.KJx.JTxx.Qx - 0.51400 | Hx:100.0 Cx:100.0 Sx:-620.0 DA:100.0',\n",
       " 'Txx.QTxx.Axx.xxx AKx.xx.K.KQJxxxx Jxx.AJxx.xxxxx.A Qxxx.Kxx.QJTx.Tx - 0.49699 | Hx:100.0 Cx:100.0 Sx:-620.0 DA:100.0',\n",
       " 'Txx.QTxx.Axx.xxx Axx.AKx.x.AKTxxx KQJ.xxxx.KJxxx.x xxxx.Jx.QTxx.QJx - 0.49686 | Hx:100.0 Cx:200.0 Sx:100.0 DA:200.0',\n",
       " 'Txx.QTxx.Axx.xxx Axx.AKx.x.AQTxxx Kxx.xxx.KQJxx.Jx QJxx.Jxx.Txxx.Kx - 0.49658 | Hx:-650.0 Cx:-650.0 Sx:-650.0 DA:-620.0',\n",
       " 'Txx.QTxx.Axx.xxx AJx.AKJx..QJxxxx Qxx.xxx.KQTxx.Kx Kxxx.xx.Jxxxx.AT - 0.49507 | Hx:-680.0 Cx:-680.0 Sx:-680.0 DA:-620.0',\n",
       " 'Txx.QTxx.Axx.xxx Kxx.Axx.x.AQJxxx Jx.Kxx.QJxxx.KTx AQxxx.Jxx.KTxx.x - 0.48969 | Hx:-650.0 Cx:-650.0 Sx:-650.0 DA:-680.0',\n",
       " 'Txx.QTxx.Axx.xxx Ax.AJxx.x.AKJTxx Kxxx.Kxx.QJTxx.x QJxx.xx.Kxxx.Qxx - 0.48685 | Hx:400.0 Cx:400.0 Sx:400.0 DA:200.0',\n",
       " 'Txx.QTxx.Axx.xxx Kx.AKxx.x.AKTxxx AJxx.xxx.QJTxx.J Qxxx.Jx.Kxxx.Qxx - 0.48282 | Hx:300.0 Cx:300.0 Sx:400.0 DA:300.0',\n",
       " 'Txx.QTxx.Axx.xxx AJ.AKxx.x.KQTxxx KQx.Jxx.KJTxx.xx xxxxx.xx.Qxxx.AJ - 0.48003 | Hx:200.0 Cx:200.0 Sx:300.0 DA:200.0',\n",
       " 'Txx.QTxx.Axx.xxx AKJ.Axxx..KQxxxx xx.KJx.QTxxx.ATx Qxxxx.xx.KJxxx.J - 0.47117 | Hx:-620.0 Cx:-650.0 Sx:-650.0 DA:-650.0',\n",
       " 'Txx.QTxx.Axx.xxx Axx.KJx..KQTxxxx Qxx.Axx.xxxxx.AJ KJxx.xxx.KQJTx.x - 0.50293 | Hx:-620.0 Cx:-650.0 Sx:-620.0 DA:-650.0',\n",
       " 'Txx.QTxx.Axx.xxx AKx.AJx.x.AQJxxx xx.Kxx.QJxxx.Kxx QJxxx.xxx.KTxx.T - 0.50045 | Hx:-650.0 Cx:-650.0 Sx:-650.0 DA:-680.0',\n",
       " 'Txx.QTxx.Axx.xxx Kxx.Kx.K.AQJTxxx Ax.Axxx.JTxxx.xx QJxxx.Jxx.Qxxx.K - 0.49358 | Hx:-620.0 Cx:-620.0 Sx:-620.0 DA:100.0',\n",
       " 'Txx.QTxx.Axx.xxx AKx.Axx.x.AJxxxx Jx.KJxx.JTxxx.KQ Qxxxx.xx.KQxx.Tx - 0.48186 | Hx:-620.0 Cx:-650.0 Sx:-650.0 DA:-620.0',\n",
       " 'Txx.QTxx.Axx.xxx AJx.AJx.Tx.AQJxx Kxx.xxx.QJxxx.Kx Qxxx.Kxx.Kxx.Txx - 0.48147 | Hx:100.0 Cx:200.0 Sx:100.0 DA:-620.0',\n",
       " 'Txx.QTxx.Axx.xxx AKx.Axx..AKJTxxx xxx.KJxx.QJTxx.Q QJxx.xx.Kxxxx.xx - 0.47908 | Hx:-680.0 Cx:-680.0 Sx:-680.0 DA:-710.0',\n",
       " 'Txx.QTxx.Axx.xxx Kxx.Kxx.Q.AKJxxx QJx.AJx.KTxxx.xx Axxx.xxx.Jxxx.QT - 0.46765 | Hx:300.0 Cx:200.0 Sx:200.0 DA:300.0',\n",
       " 'Txx.QTxx.Axx.xxx xxx.AKx.x.AQJTxx KJx.Jxxx.KTxxx.x AQxx.xx.QJxx.Kxx - 0.46479 | Hx:-650.0 Cx:-620.0 Sx:-650.0 DA:-620.0',\n",
       " 'Txx.QTxx.Axx.xxx Axx.Ax.x.AKxxxxx Kxx.xxxx.KQxxx.J QJxx.KJx.JTxx.QT - 0.55287 | Hx:-650.0 Cx:-620.0 Sx:-650.0 DA:-620.0']"
      ]
     },
     "execution_count": 5,
     "metadata": {},
     "output_type": "execute_result"
    }
   ],
   "source": [
    "# each row is one sample board\n",
    "# the hands are in the order: LHO, Partner, RHO. Your cards are not shown as they are fixed/\n",
    "\n",
    "lead.samples"
   ]
  }
 ],
 "metadata": {
  "kernelspec": {
   "display_name": "Python 3",
   "language": "python",
   "name": "python3"
  },
  "language_info": {
   "codemirror_mode": {
    "name": "ipython",
    "version": 3
   },
   "file_extension": ".py",
   "mimetype": "text/x-python",
   "name": "python",
   "nbconvert_exporter": "python",
   "pygments_lexer": "ipython3",
   "version": "3.12.3"
  }
 },
 "nbformat": 4,
 "nbformat_minor": 5
}
