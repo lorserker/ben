{
 "cells": [
  {
   "cell_type": "markdown",
   "id": "170af530",
   "metadata": {},
   "source": [
    "# Opening Lead\n",
    "\n",
    "This is a tutorial for how to use the opening lead engine."
   ]
  },
  {
   "cell_type": "code",
   "execution_count": 1,
   "id": "26570686",
   "metadata": {},
   "outputs": [],
   "source": [
    "import os\n",
    "os.chdir('..')\n",
    "\n",
    "from nn.models import Models\n",
    "from bots import BotLead\n",
    "from sample import Sample\n",
    "import conf"
   ]
  },
  {
   "cell_type": "code",
   "execution_count": 2,
   "id": "fe373c76",
   "metadata": {},
   "outputs": [
    {
     "name": "stdout",
     "output_type": "stream",
     "text": [
      "Reading configuration from ../src/config/default.conf\n",
      "INFO:tensorflow:Restoring parameters from ..\\models/gib21_model/gib21-1000000\n",
      "INFO:tensorflow:Restoring parameters from ..\\models/gib21_info_model/gib21_info-500000\n",
      "INFO:tensorflow:Restoring parameters from ..\\models/lead_model_b/lead-1000000\n",
      "INFO:tensorflow:Restoring parameters from ..\\models/lr3_model/lr3-1000000\n",
      "INFO:tensorflow:Restoring parameters from ..\\models/lefty_model/lefty-1000000\n",
      "INFO:tensorflow:Restoring parameters from ..\\models/dummy_model/dummy-920000\n",
      "INFO:tensorflow:Restoring parameters from ..\\models/righty_model/righty-1000000\n",
      "INFO:tensorflow:Restoring parameters from ..\\models/decl_model/decl-1000000\n",
      "Reading configuration from ../src/config/default.conf\n"
     ]
    }
   ],
   "source": [
    "models = Models.from_conf(conf.load('../src/config/default.conf'))   # loading neural networks\n",
    "sampler = Sample.from_conf(conf.load('../src/config/default.conf'))  # Load sampling strategies"
   ]
  },
  {
   "cell_type": "code",
   "execution_count": 5,
   "id": "c3397678",
   "metadata": {},
   "outputs": [
    {
     "name": "stdout",
     "output_type": "stream",
     "text": [
      "accepted_samples for outcome: 190\n",
      "Accepted samples for lead: 190\n"
     ]
    }
   ],
   "source": [
    "# both vulnerable. you are sitting North as dealer and you hold\n",
    "hand = 'J96.J43.A32.KJ42'\n",
    "\n",
    "# the auction goes:\n",
    "auction = ['PASS', '1C', '2D', '2H', '3D', '3H', 'PASS', '4H', 'PASS', 'PASS', 'PASS']\n",
    "\n",
    "# what to lead?\n",
    "\n",
    "lead_bot = BotLead([True, True], hand, models, -1, -1, sampler)\n",
    "lead = lead_bot.lead(auction)"
   ]
  },
  {
   "cell_type": "code",
   "execution_count": null,
   "id": "a2b5fe25",
   "metadata": {},
   "outputs": [
    {
     "data": {
      "text/plain": [
       "DA"
      ]
     },
     "execution_count": 5,
     "metadata": {},
     "output_type": "execute_result"
    }
   ],
   "source": [
    "lead.card"
   ]
  },
  {
   "cell_type": "markdown",
   "id": "02e88396",
   "metadata": {},
   "source": [
    "seems like the engine chose to lead the ace of diamonds\n",
    "\n",
    "the other options it considered were: a small spade and a small club"
   ]
  },
  {
   "cell_type": "code",
   "execution_count": null,
   "id": "956ef356",
   "metadata": {},
   "outputs": [
    {
     "data": {
      "text/plain": [
       "[{'card': 'DA',\n",
       "  'insta_score': 0.47322094440460205,\n",
       "  'expected_tricks': 10.629251118440992,\n",
       "  'p_make_contract': 0.7950033359229565},\n",
       " {'card': 'Sx',\n",
       "  'insta_score': 0.36946824193000793,\n",
       "  'expected_tricks': 10.77333517339385,\n",
       "  'p_make_contract': 0.8074503623933162},\n",
       " {'card': 'Cx',\n",
       "  'insta_score': 0.1154632419347763,\n",
       "  'expected_tricks': 10.879938450693007,\n",
       "  'p_make_contract': 0.8312122057069022}]"
      ]
     },
     "execution_count": 6,
     "metadata": {},
     "output_type": "execute_result"
    }
   ],
   "source": [
    "lead.to_dict()['candidates']"
   ]
  },
  {
   "cell_type": "markdown",
   "id": "97efc5a1",
   "metadata": {},
   "source": [
    "in the above output:\n",
    "- `insta_score` reflects the preference of the neural network\n",
    "- `expected_tricks` how many tricks declarer is expected to take on this lead\n",
    "- `p_make_contract` is the probability of the contract making on this lead\n",
    "\n",
    "the probability of making and the expected tricks are computed on samples which are consistent with the auction. the samples are estimated single dummy using a neural network (more on this in another tutorial). we could also solve the samples double dummy, but that would be quite a bit slower."
   ]
  },
  {
   "cell_type": "code",
   "execution_count": null,
   "id": "7cb2bf98",
   "metadata": {},
   "outputs": [
    {
     "data": {
      "text/plain": [
       "['ATxx.Kx.x.AQ98xx Q8x.Q8.KQJT98x.x Kxx.AT9xxx.xx.Tx',\n",
       " 'Kxx.A8xx.J8.AQ9x 8xxx.9.KQT9xx.xx AQT.KQTxx.xx.T8x',\n",
       " 'Kxxx.A9x..AT8xxx 8xx.K.QT98xxxx.x AQT.QT8xxx.KJ.Q9',\n",
       " 'AKx.AK.Jx.AT8xxx Q8xxx..QT98xxx.9 Tx.QT98xxxx.K.Qx',\n",
       " 'KQxx.AT8x.Kx.Qxx 8xx..QT98xxx.A98 ATx.KQ9xxx.J.Txx',\n",
       " 'ATxx.ATx.T.AT8xx Q8xx.x.KQ9xxxx.9 Kx.KQ98xx.J8.Qxx',\n",
       " 'KQT8.98x.K8x.AQx xxx.xx.QJT9xx.xx Axx.AKQTx.x.T98x',\n",
       " 'QT8x.AKx.Q.QT8xx Kx.T8.JT98xxx.9x Axxx.Q9xxx.Kx.Ax',\n",
       " 'Qx.AK9.Kxx.T98xx Axxx.x.QJT8xx.Qx KT8x.QT8xxx.9.Ax',\n",
       " 'KT8x.Ax.T9.AQTxx xx.9x.KJ8xxxx.8x AQxx.KQT8xx.Q.9x',\n",
       " 'AQ8x.ATxx.Qx.T98 xxx.x.KT98xx.Qxx KTx.KQ98x.Jx.Axx',\n",
       " 'Qxx.AK9x.T.AQT9x A8xx..J98xxxx.8x KTx.QT8xxx.KQ.xx',\n",
       " 'AQx.QT9x.x.AT8xx T8xx..KT98xxx.9x Kxx.AK8xxx.QJ.Qx',\n",
       " 'AQx.KT8x.KTx.Q9x KTxx..QJ98xxx.Tx 8xx.AQ9xxx..A8xx',\n",
       " 'KQx.K9x.9x.AQT8x T8xx.Q.QJT8xx.9x Axx.AT8xxx.Kx.xx',\n",
       " '8xx.AQx.Jx.AQ8xx QTx.x.KQT8xx.Txx AKxx.KT98xx.9x.9',\n",
       " 'AQ.8xx.K.AQT9xxx 8xxx.Kx.JT98xxx. KTxx.AQT9x.Qx.8x',\n",
       " 'KQ8.8xx.Kx.A98xx xx.Q.JT98xxx.Txx ATxxx.AKT9xx.Q.Q',\n",
       " 'AQ8x.Tx.T.AQ98xx xx.xx.KQ98xxx.xx KTxx.AKQ98x.Jx.T',\n",
       " 'Axx.AQx.J.AQ9xxx Q8xx..KQ9xxxx.Tx KTx.KT98xxx.T8.8',\n",
       " 'AQxx.Kx.Kx.A9xxx 8x.8x.QJT8xx.T8x KTxx.AQT9xx.9x.Q',\n",
       " 'QTx.AKxx.Tx.A8xx 8xxx.T.QJ98xxx.Q AKx.Q98xx.K.T9xx',\n",
       " 'AKQx.xx.Kx.Q98xx Txx..QJT8xxx.Txx 8xx.AKQT98xx.9.A',\n",
       " 'AKT8.9x.Kx.AT8xx xxxx.Tx.QJ98xx.x Qx.AKQ8xx.Tx.Q9x',\n",
       " 'QTxx.KQ8.J9x.AQx xx.9x.KQT8xx.8xx AK8x.ATxxx.x.T9x',\n",
       " 'Kxx.KT.Q9.AQT8xx Q8x.x.KT8xxxx.xx ATxx.AQ98xxx.J.9',\n",
       " 'KQ8x.8x.KJ.A98xx Tx.xx.QT98xxx.Qx Axxx.AKQT9x.x.Tx',\n",
       " 'AKxx.KT9x.8x.Q8x QT8x..QJT9xxx.A9 xx.AQ8xxx.K.Txxx',\n",
       " 'K8xx.QTx.Kx.A98x Txx.x.QJT9xx.QTx AQx.AK98xx.8x.xx',\n",
       " 'KTxx.Q9.KQ.QT9xx Ax.Kx.JT98xxx.xx Q8xx.AT8xxx.x.A8',\n",
       " 'K8x.KQT8.xx.A98x ATxx.9.QJ98xx.xx Qxx.Axxxx.KT.QTx',\n",
       " 'AKx.QT.Jx.QT8xxx QTx.A9.QT98xxx.9 8xxx.K8xxxx.K.Ax',\n",
       " '8x.AQ.9xx.AQTxxx xxx.xx.QJT8xx.8x AKQTx.KT98xx.K.9',\n",
       " 'KQ8.A98x.xx.A9xx Txx..KQJT98x.T8x Axxx.KQTxxx.x.Qx',\n",
       " 'AKxx.Qx.J8.AT8xx Txxx.Kx.KQ9xxx.9 Q8.AT98xx.Tx.Qxx',\n",
       " 'Kx.9x.K98.AQ98xx Txxx.Ax.QJTxxx.x AQ8x.KQT8xx.x.Tx',\n",
       " 'AKxx.AQT8.9x.8xx 8xx..KQJT8x.QT9x QTx.K9xxxx.xx.Ax',\n",
       " 'QT8.KQx.9.AQT9xx Axx.x.KJT8xxx.8x Kxxx.AT98xx.Qx.x',\n",
       " 'KQTx.QT9x.x.AQxx 8xx.K.QJT9xxx.8x Axx.A8xxx.K8.T9x',\n",
       " 'Kxx.AK9.KT.98xxx QT8x.x.QJ9xxx.Tx Axx.QT8xxx.8x.AQ',\n",
       " 'Txxx.KQ.KQ.AQ8xx K8x.x.J98xxxx.T9 AQx.AT98xxx.T.xx',\n",
       " 'KQx.Kxx.9x.ATxxx ATxx.9x.QJTxxx.x 8xx.AQT8x.K8.Q98',\n",
       " 'AKxx.K9x.x.Q9xxx QT8x.x.KJT9xxx.T xx.AQT8xx.Q8.A8x',\n",
       " '8x.KQx.K98.AQT8x KQxx.x.QJTxxx.9x ATxx.AT98xx.x.xx',\n",
       " 'Kx.AKxx.9x.A8xxx QTxxx..KQTxxx.Qx A8x.QT98xx.J8.T9',\n",
       " 'Kxx.Axx.xx.AQT8x AT8x.T.KQJ98x.xx Qxx.KQ98xx.Tx.9x',\n",
       " 'KTx.AQx.x.A98xxx Qxxx.x.QJT9xxx.Q A8x.KT98xx.K8.Tx',\n",
       " 'A8x.9x.QT8.AQT98 Txx.Txx.KJ9xxx.x KQxx.AKQ8x.x.xxx',\n",
       " 'AKx.T8x.9x.AQ8xx Qxx.A.KJTxxx.Txx T8xx.KQ9xxx.Q8.9',\n",
       " 'Ax.KTx.x.AQ98xxx QTxx.A.KJT98xx.x K8xx.Q98xxx.Qx.T',\n",
       " 'Axx.KQ8x..A8xxxx KTxx..QJT9xxx.Q9 Q8x.AT9xxx.K8x.T',\n",
       " 'QTxx.KT9x.J9.AQT Kxxx..KQT8xx.xxx A8.AQ8xxx.xx.98x',\n",
       " 'Kxxx.ATx.K.QT9xx AQT8x..QJTxxx.8x x.KQ98xxx.98x.Ax',\n",
       " 'xxxx.AK8.98.AQxx T8.Tx.QJTxxx.T98 AKQx.Q9xxx.Kx.xx',\n",
       " 'AKxx.A8.Q9.A9xxx T8x.x.JT8xxxx.8x Qxx.KQT9xxx.K.QT',\n",
       " 'KQTx.K9x.K.QT98x Axx.8.QT8xxxx.xx 8xx.AQTxxx.J9.Ax',\n",
       " 'AKx.T8x.x.A98xxx QT8xx..KQJTxxx.T xx.AKQ9xxx.98.Qx',\n",
       " 'AQx.T8x.Q8.Axxxx Kxx.9.KJT9xxx.T8 T8xx.AKQxxx.x.Q9',\n",
       " 'T8x.AQx.Kx.A8xxx Qxxx.x.QJT98x.Q9 AKx.KT98xx.xx.Tx',\n",
       " 'KQxx.KT.Kx.Q8xxx T8x.Q.QJ98xx.T9x Axx.A98xxxx.Tx.A',\n",
       " 'Kxx.Kx.98x.AQTxx Q8x.8x.KQJxxx.98 ATxx.AQT9xx.T.xx',\n",
       " 'KQxx.AT9x.x.A98x xxx..KQ8xxx.QTxx AT8.KQ8xxx.JT9.x',\n",
       " 'AKQx.KTx.Tx.QTxx 8xx..KQJ98xx.98x Txx.AQ98xxx.x.Ax',\n",
       " 'K8xx.KQx.xx.AQTx Axx.9.KQT9xx.xxx QTx.AT8xxx.J8.98',\n",
       " 'AKQx.QT8x.9.AQT8 Txx..KJT8xxx.xxx 8xx.AK9xxx.Qx.9x',\n",
       " 'AT8x.Q9x.Q9.AT8x Kxx.x.KJT8xxx.Qx Qxx.AKT8xx.x.9xx',\n",
       " 'ATx.KQ8.Kx.T98xx 8xxx.xx.QJT9xx.A KQx.AT9xx.8x.Qxx',\n",
       " 'AK8x.Tx.Kx.QT8xx xx.9.QJ98xxx.Axx QTxx.AKQ8xxx.T.9',\n",
       " 'AKTx.KT8.x.Q98xx 8xx.Ax.QJT9xxx.x Qxx.Q9xxx.K8.ATx',\n",
       " 'K8x.Q9x.K.AQT8xx ATxx.x.QJT9xx.9x Qxx.AKT8xx.8xx.x',\n",
       " 'Qxx.A8.98.AQT8xx 8xxx.9x.KJxxxx.x AKT.KQTxxx.QT.9x',\n",
       " 'AQTx.8xx..AT98xx 8x.QT.JT98xxx.xx Kxxx.AK9xx.KQx.Q',\n",
       " 'KTxx.Qx.Q9.AQ8xx Q8x.8.JT8xxxx.T9 Axx.AKT9xxx.K.xx',\n",
       " 'AKT8.QT.x.AQT8xx xxxx.8.QJT9xxx.x Qx.AK9xxxx.K8.9x',\n",
       " 'A8xx.Axx..AQT8xx xxx.x.KQ98xxx.9x KQT.KQT98x.JTx.x',\n",
       " 'AKx.KQ9x.8x.9xxx QT8xx..KQT9xx.Qx xx.AT8xxx.Jx.AT8',\n",
       " 'ATx.Axx.T8x.AT98 Q8xxx..KQJ9xx.Qx Kx.KQT98xx.x.xxx',\n",
       " 'Qx.QTxx.KT.AQ8xx A8xx.9.QJ98xx.T9 KTxx.AK8xx.xx.xx',\n",
       " 'K8x.KQxx.Jx.ATxx Txxx.T.KQT8xx.98 AQx.A98xx.9x.Qxx',\n",
       " 'Qxxx.AKQT.T9.Qxx KT8x.x.QJxxxx.T9 Ax.98xxx.K8.A8xx',\n",
       " 'ATx.QT8x.Q.ATxxx Qxx.9.KJT9xx.Q8x K8xx.AKxxx.8xx.9',\n",
       " 'AKQ.T98x.KTx.QTx T8xx.x.QJ9xxx.9x xxx.AKQxx.8.A8xx',\n",
       " 'ATx.Qx.Kx.AQT9xx Qxxx.Tx.QJ98xxx. K8x.AK98xx.T.8xx',\n",
       " 'ATxx.KQ8.K.QT98x 8x.x.JT98xxx.xxx KQxx.AT9xxx.Qx.A',\n",
       " 'AKQT.KQx.T.A98xx 8xxx..QJ8xxx.Qxx xx.AT98xxx.K9x.T',\n",
       " 'xxx.KQ8x.K9.ATxx KQ8x.x.QT8xxxx.x ATx.AT9xx.J.Q98x',\n",
       " 'AKQx.A9.Tx.Q98xx T8x.8x.KQJ98xxx. xxx.KQTxxx..ATxx',\n",
       " 'xx.KQ8x.Qxx.AQ9x Axx..KJT98x.T8xx KQT8x.AT9xxx.x.x',\n",
       " 'AKxx.8xx.J8x.A8x QT8x..KQT9xxx.Qx xx.AKQT9xx..T9xx',\n",
       " 'AQTx.QTx.x.AT8xx 8xx.8x.KQJ98xx.x Kxx.AK9xx.Tx.Q9x',\n",
       " 'Kx.8x.K98.AQ9xxx Txx.KQ.QJTxxxx.T AQ8xx.AT9xxx..8x',\n",
       " 'AQ8x.Qx.xx.AQ8xx Kxx.8x.KQJ98x.T9 Txx.AKT9xx.Tx.xx',\n",
       " 'KQ8x.K9x.Qx.QTxx xxx.QT.KT98xxx.x ATx.A8xxx.J.A98x',\n",
       " 'Ax.AQT.Tx.A9xxxx 8xxx..KJ98xxx.Q8 KQTx.K98xxxx.Q.T',\n",
       " 'KTxx.K9x.xx.AQTx Q8x.8.QJ98xx.98x Axx.AQTxxx.KT.xx',\n",
       " 'Ax.KQx.xx.AQ98xx Txx.x.KQJT98x.Tx KQ8xx.AT98xx.x.x',\n",
       " 'QTxx.K9x.J.AQxxx A8.8x.QT98xxx.T8 Kxxx.AQTxx.Kx.9x',\n",
       " 'AKTx.KQT.T8.QTxx Qxx.8.KQJ9xxx.8x 8xx.A9xxxx.x.A9x',\n",
       " 'KQxx.KQ8x.Qx.QT9 T8xx.T.KJT8xx.xx Ax.A9xxx.9x.A8xx',\n",
       " 'Qxx.AK8x..AT9xxx T8xx.9.KQJT98x.x AKx.QTxxx.xxx.Q8']"
      ]
     },
     "execution_count": 7,
     "metadata": {},
     "output_type": "execute_result"
    }
   ],
   "source": [
    "# each row is one sample board\n",
    "# the hands are in the order: LHO, Partner, RHO. Your cards are not shown as they are fixed/\n",
    "\n",
    "lead.samples"
   ]
  },
  {
   "cell_type": "code",
   "execution_count": null,
   "id": "9f4ecd47",
   "metadata": {},
   "outputs": [],
   "source": []
  }
 ],
 "metadata": {
  "kernelspec": {
   "display_name": "Python 3 (ipykernel)",
   "language": "python",
   "name": "python3"
  },
  "language_info": {
   "codemirror_mode": {
    "name": "ipython",
    "version": 3
   },
   "file_extension": ".py",
   "mimetype": "text/x-python",
   "name": "python",
   "nbconvert_exporter": "python",
   "pygments_lexer": "ipython3",
   "version": "3.7.16"
  }
 },
 "nbformat": 4,
 "nbformat_minor": 5
}
