{
 "cells": [
  {
   "cell_type": "markdown",
   "id": "170af530",
   "metadata": {},
   "source": [
    "# Opening Lead\n",
    "\n",
    "This is a tutorial for how to use the opening lead engine."
   ]
  },
  {
   "cell_type": "code",
   "execution_count": 1,
   "id": "26570686",
   "metadata": {},
   "outputs": [],
   "source": [
    "import os\n",
    "os.chdir('..')\n",
    "\n",
    "from nn.models import Models\n",
    "from bots import BotLead\n",
    "from sample import Sample\n",
    "import conf"
   ]
  },
  {
   "cell_type": "code",
   "execution_count": null,
   "id": "fe373c76",
   "metadata": {},
   "outputs": [
    {
     "name": "stdout",
     "output_type": "stream",
     "text": [
      "WARNING:tensorflow:From c:\\Python311\\Lib\\site-packages\\tensorflow\\python\\compat\\v2_compat.py:107: disable_resource_variables (from tensorflow.python.ops.variable_scope) is deprecated and will be removed in a future version.\n",
      "Instructions for updating:\n",
      "non-resource variables are not supported in the long term\n",
      "INFO:tensorflow:Restoring parameters from ..\\models/GIB/bidding_V2-3130000\n",
      "INFO:tensorflow:Restoring parameters from ..\\models/contract/contract-193200\n",
      "INFO:tensorflow:Restoring parameters from ..\\models/GIB/binfo_V2-3130000\n",
      "INFO:tensorflow:Restoring parameters from ..\\UCBC 2024/Models/lead_suit-999000\n",
      "INFO:tensorflow:Restoring parameters from ..\\UCBC 2024/Models/lead_nt-475000\n",
      "INFO:tensorflow:Restoring parameters from ..\\models/lr3_model/lr3-1000000\n",
      "INFO:tensorflow:Restoring parameters from ..\\models/single_dummy/single_dummy-32768000\n",
      "INFO:tensorflow:Restoring parameters from ..\\models/playing/lefty_nt-475000\n",
      "INFO:tensorflow:Restoring parameters from ..\\models/playing/dummy_nt-475000\n",
      "INFO:tensorflow:Restoring parameters from ..\\models/playing/righty_nt-475000\n",
      "INFO:tensorflow:Restoring parameters from ..\\models/playing/decl_nt-475000\n",
      "INFO:tensorflow:Restoring parameters from ..\\models/playing/lefty_suit-999000\n",
      "INFO:tensorflow:Restoring parameters from ..\\models/playing/dummy_suit-999000\n",
      "INFO:tensorflow:Restoring parameters from ..\\models/playing/righty_suit-999000\n",
      "INFO:tensorflow:Restoring parameters from ..\\models/playing/decl_suit-999000\n"
     ]
    }
   ],
   "source": [
    "models = Models.from_conf(conf.load('./config/default_tf1x.conf'),'..')   # loading neural networks\n",
    "sampler = Sample.from_conf(conf.load('./config/default_tf1x.conf'), False)  # Load sampling strategies"
   ]
  },
  {
   "cell_type": "code",
   "execution_count": null,
   "id": "c3397678",
   "metadata": {},
   "outputs": [
    {
     "name": "stderr",
     "output_type": "stream",
     "text": [
      "Loaded lib dds.dll\n"
     ]
    }
   ],
   "source": [
    "# both vulnerable. you are sitting North as dealer and you hold\n",
    "hand = 'T54.QT87.A98.943'\n",
    "\n",
    "# the auction goes:\n",
    "auction = [\"1C\",\"1D\",\"1S\",\"2D\",\"X\",\"PASS\",\"2S\",\"PASS\",\"3C\",\"PASS\",\"3N\",\"PASS\",\"4S\",'PASS', 'PASS', 'PASS']\n",
    "\n",
    "from ddsolver import ddsolver\n",
    "dds = ddsolver.DDSolver()\n",
    "\n",
    "# what to lead?\n",
    "lead_bot = BotLead([True, True], hand, models, sampler, 0, 0, dds, False)\n",
    "lead = lead_bot.find_opening_lead(auction)"
   ]
  },
  {
   "cell_type": "code",
   "execution_count": 4,
   "id": "a2b5fe25",
   "metadata": {},
   "outputs": [
    {
     "data": {
      "text/plain": [
       "H8"
      ]
     },
     "execution_count": 4,
     "metadata": {},
     "output_type": "execute_result"
    }
   ],
   "source": [
    "lead.card"
   ]
  },
  {
   "cell_type": "markdown",
   "id": "02e88396",
   "metadata": {},
   "source": [
    "seems like the engine chose to lead the ace of diamonds\n",
    "\n",
    "the other options it considered were: a small spade and a small club"
   ]
  },
  {
   "cell_type": "code",
   "execution_count": 5,
   "id": "956ef356",
   "metadata": {},
   "outputs": [
    {
     "data": {
      "text/plain": [
       "[{'card': 'Hx',\n",
       "  'insta_score': 0.256,\n",
       "  'expected_tricks_sd': 9.25,\n",
       "  'p_make_contract': 0.55,\n",
       "  'expected_score_sd': -194},\n",
       " {'card': 'Cx',\n",
       "  'insta_score': 0.288,\n",
       "  'expected_tricks_sd': 9.6,\n",
       "  'p_make_contract': 0.55,\n",
       "  'expected_score_sd': -214},\n",
       " {'card': 'Sx',\n",
       "  'insta_score': 0.2,\n",
       "  'expected_tricks_sd': 9.6,\n",
       "  'p_make_contract': 0.5,\n",
       "  'expected_score_sd': -242},\n",
       " {'card': 'DA',\n",
       "  'insta_score': 0.141,\n",
       "  'expected_tricks_sd': 9.6,\n",
       "  'p_make_contract': 0.45,\n",
       "  'expected_score_sd': -287}]"
      ]
     },
     "execution_count": 5,
     "metadata": {},
     "output_type": "execute_result"
    }
   ],
   "source": [
    "lead.to_dict()['candidates']"
   ]
  },
  {
   "cell_type": "markdown",
   "id": "97efc5a1",
   "metadata": {},
   "source": [
    "in the above output:\n",
    "- `insta_score` reflects the preference of the neural network\n",
    "- `expected_tricks` how many tricks declarer is expected to take on this lead\n",
    "- `p_make_contract` is the probability of the contract making on this lead\n",
    "\n",
    "the probability of making and the expected tricks are computed on samples which are consistent with the auction. the samples are estimated single dummy using a neural network (more on this in another tutorial). we could also solve the samples double dummy, but that would be quite a bit slower."
   ]
  },
  {
   "cell_type": "code",
   "execution_count": 6,
   "id": "7cb2bf98",
   "metadata": {},
   "outputs": [
    {
     "data": {
      "text/plain": [
       "['Txx.QT8x.A98.9xx A8xx.xx.x.AKQJxx 9x.AJ9x.QJxxx.Tx KQJx.Kxx.KTxx.8x 0.62129',\n",
       " 'Txx.QT8x.A98.9xx 9xx.Axxx.K.Axxxx AKx.9x.Jxxxx.QJ8 QJ8x.KJx.QTxx.KT 0.59060',\n",
       " 'Txx.QT8x.A98.9xx Kxx.J9xx.xx.AKTx A98.Ax.Jxxxx.Q8x QJxx.Kxx.KQT.Jxx 0.57488',\n",
       " 'Txx.QT8x.A98.9xx Qx.KJ9.x.AKQTxxx K8xx.Axx.Jxxxx.x AJ9x.xxx.KQTx.J8 0.57443',\n",
       " 'Txx.QT8x.A98.9xx KQx.A9x.J.AQT8xx 98x.Kxx.Qxxxxx.K AJxx.Jxx.KTx.Jxx 0.56668',\n",
       " 'Txx.QT8x.A98.9xx J9xx.Axx.xx.AKJx KQ.J9x.JTxxx.QT8 A8xx.Kxx.KQx.xxx 0.56096',\n",
       " 'Txx.QT8x.A98.9xx KQx.xxx.Q.AT8xxx 98x.AKx.Jxxxx.KJ AJxx.J9x.KTxx.Qx 0.56083',\n",
       " 'Txx.QT8x.A98.9xx A98x.KJxx.x.KJTx Qx.A9.KJTxx.Q8xx KJxx.xxx.Qxxx.Ax 0.55998',\n",
       " 'Txx.QT8x.A98.9xx Q9xx.Kxx.x.AKxxx Kx.AJxx.QJxxx.JT AJ8x.9x.KTxx.Q8x 0.55927',\n",
       " 'Txx.QT8x.A98.9xx KJ9.K9xx.T.AQJxx Axx.Axx.QJxxx.Tx Q8xx.Jx.Kxxx.K8x 0.55848',\n",
       " 'Txx.QT8x.A98.9xx A9x.Axx.x.QJT8xx KQx.Kxx.KJxxx.xx J8xx.J9x.QTxx.AK 0.55758',\n",
       " 'Txx.QT8x.A98.9xx AKx.K9x.Tx.QJxxx Jxx.Axxx.QJxxx.K Q98x.Jx.Kxx.AT8x 0.55719',\n",
       " 'Txx.QT8x.A98.9xx 8xx.Axx.Qx.AQJxx AKx.Kxx.JTxxx.8x QJ9x.J9x.Kxx.KTx 0.55606',\n",
       " 'Txx.QT8x.A98.9xx AJxx.9x.x.AQTxxx 8x.AKJx.QJxxx.Jx KQ9x.xxx.KTxx.K8 0.55574',\n",
       " 'Txx.QT8x.A98.9xx K98x.Axx.x.KQJxx AJ.KJ9x.Qxxxx.Tx Qxxx.xx.KJTx.A8x 0.55455',\n",
       " 'Txx.QT8x.A98.9xx KQ9x.Jxx.T.AQ8xx J8.AKxx.QJxxx.Jx Axxx.9x.Kxxx.KTx 0.55394',\n",
       " 'Txx.QT8x.A98.9xx Qx.KJx.x.AKT8xxx AKxx.9xx.Qxxxx.J J98x.Axx.KJTx.Qx 0.55280',\n",
       " 'Txx.QT8x.A98.9xx K9x.Kxx.T.AQJ8xx AJx.J9xx.Jxxxx.K Q8xx.Ax.KQxx.Txx 0.55266',\n",
       " 'Txx.QT8x.A98.9xx Axx.K9x.QTx.QJ8x K8x.Axx.Jxxxx.Kx QJ9x.Jxx.Kx.ATxx 0.55038',\n",
       " 'Txx.QT8x.A98.9xx Q8x.KJxx.x.AKJT8 KJ9.Ax.Qxxxx.xxx Axxx.9xx.KJTx.Qx 0.54947']"
      ]
     },
     "execution_count": 6,
     "metadata": {},
     "output_type": "execute_result"
    }
   ],
   "source": [
    "# each row is one sample board\n",
    "# the hands are in the order: LHO, Partner, RHO. Your cards are not shown as they are fixed/\n",
    "\n",
    "lead.samples"
   ]
  }
 ],
 "metadata": {
  "kernelspec": {
   "display_name": "Python 3 (ipykernel)",
   "language": "python",
   "name": "python3"
  },
  "language_info": {
   "codemirror_mode": {
    "name": "ipython",
    "version": 3
   },
   "file_extension": ".py",
   "mimetype": "text/x-python",
   "name": "python",
   "nbconvert_exporter": "python",
   "pygments_lexer": "ipython3",
   "version": "3.11.9"
  }
 },
 "nbformat": 4,
 "nbformat_minor": 5
}
