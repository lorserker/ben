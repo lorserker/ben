{
 "cells": [
  {
   "cell_type": "markdown",
   "id": "170af530",
   "metadata": {},
   "source": [
    "# Opening Lead\n",
    "\n",
    "This is a tutorial for how to use the opening lead engine."
   ]
  },
  {
   "cell_type": "code",
   "execution_count": 1,
   "id": "26570686",
   "metadata": {},
   "outputs": [],
   "source": [
    "import os\n",
    "os.chdir('..')\n",
    "\n",
    "from nn.models import Models\n",
    "from bots import BotLead\n",
    "from sample import Sample\n",
    "import conf"
   ]
  },
  {
   "cell_type": "code",
   "execution_count": 2,
   "id": "fe373c76",
   "metadata": {},
   "outputs": [
    {
     "name": "stderr",
     "output_type": "stream",
     "text": [
      "Loading config file d:\\GitHub\\ben\\src\\./config/TF1.x/default_tf1x.conf\n"
     ]
    },
    {
     "name": "stdout",
     "output_type": "stream",
     "text": [
      "WARNING:tensorflow:From d:\\GitHub\\ben\\src\\nn\\bidderv2.py:3: The name tf.disable_v2_behavior is deprecated. Please use tf.compat.v1.disable_v2_behavior instead.\n",
      "\n",
      "WARNING:tensorflow:From C:\\Users\\Thorvald.AALBORGDATA\\AppData\\Roaming\\Python\\Python312\\site-packages\\tensorflow\\python\\compat\\v2_compat.py:98: disable_resource_variables (from tensorflow.python.ops.resource_variables_toggle) is deprecated and will be removed in a future version.\n",
      "Instructions for updating:\n",
      "non-resource variables are not supported in the long term\n",
      "WARNING:tensorflow:From d:\\GitHub\\ben\\src\\nn\\bidderv2.py:12: The name tf.Session is deprecated. Please use tf.compat.v1.Session instead.\n",
      "\n",
      "WARNING:tensorflow:From d:\\GitHub\\ben\\src\\nn\\bidderv2.py:21: The name tf.train.import_meta_graph is deprecated. Please use tf.compat.v1.train.import_meta_graph instead.\n",
      "\n",
      "INFO:tensorflow:Restoring parameters from ..\\models/GIB/2024-07-06_bidding_V2-3114000\n",
      "INFO:tensorflow:Restoring parameters from ..\\models/GIB/2024-07-06_bidding_V2-3114000\n",
      "INFO:tensorflow:Restoring parameters from ..\\models/GIB/binfo_V2-1420000\n",
      "INFO:tensorflow:Restoring parameters from ..\\models/lead/lead_suit-999000\n",
      "INFO:tensorflow:Restoring parameters from ..\\models/lead/lead_nt-475000\n",
      "INFO:tensorflow:Restoring parameters from ..\\models/lr3_model/lr3-1000000\n",
      "INFO:tensorflow:Restoring parameters from ..\\models/single_dummy/single_dummy-32768000\n",
      "INFO:tensorflow:Restoring parameters from ..\\models/playing/lefty_nt-475000\n",
      "INFO:tensorflow:Restoring parameters from ..\\models/playing/dummy_nt-475000\n",
      "INFO:tensorflow:Restoring parameters from ..\\models/playing/righty_nt-475000\n",
      "INFO:tensorflow:Restoring parameters from ..\\models/playing/decl_nt-475000\n",
      "INFO:tensorflow:Restoring parameters from ..\\models/playing/lefty_suit-999000\n",
      "INFO:tensorflow:Restoring parameters from ..\\models/playing/dummy_suit-999000\n",
      "INFO:tensorflow:Restoring parameters from ..\\models/playing/righty_suit-999000\n",
      "INFO:tensorflow:Restoring parameters from ..\\models/playing/decl_suit-999000\n"
     ]
    },
    {
     "name": "stderr",
     "output_type": "stream",
     "text": [
      "Loading config file d:\\GitHub\\ben\\src\\./config/TF1.x/default_tf1x.conf\n"
     ]
    }
   ],
   "source": [
    "models = Models.from_conf(conf.load('./config/TF1.x/default_tf1x.conf'),'..')   # loading neural networks\n",
    "sampler = Sample.from_conf(conf.load('./config/TF1.x/default_tf1x.conf'), False)  # Load sampling strategies"
   ]
  },
  {
   "cell_type": "code",
   "execution_count": 3,
   "id": "c3397678",
   "metadata": {},
   "outputs": [],
   "source": [
    "# both vulnerable. you are sitting North as dealer and you hold\n",
    "hand = 'T54.QT87.A98.943'\n",
    "\n",
    "# the auction goes:\n",
    "auction = [\"1C\",\"1D\",\"1S\",\"2D\",\"X\",\"PASS\",\"2S\",\"PASS\",\"3C\",\"PASS\",\"3N\",\"PASS\",\"4S\",'PASS', 'PASS', 'PASS']\n",
    "\n",
    "from ddsolver import ddsolver\n",
    "dds = ddsolver.DDSolver()\n",
    "\n",
    "# what to lead?\n",
    "lead_bot = BotLead([True, True], hand, models, sampler, 0, 0, dds, False)\n",
    "lead = lead_bot.find_opening_lead(auction, {})"
   ]
  },
  {
   "cell_type": "code",
   "execution_count": 4,
   "id": "a2b5fe25",
   "metadata": {},
   "outputs": [
    {
     "data": {
      "text/plain": [
       "H8"
      ]
     },
     "execution_count": 4,
     "metadata": {},
     "output_type": "execute_result"
    }
   ],
   "source": [
    "lead.card"
   ]
  },
  {
   "cell_type": "markdown",
   "id": "02e88396",
   "metadata": {},
   "source": [
    "seems like the engine chose to lead the ace of diamonds\n",
    "\n",
    "the other options it considered were: a small spade and a small club"
   ]
  },
  {
   "cell_type": "code",
   "execution_count": 5,
   "id": "956ef356",
   "metadata": {},
   "outputs": [
    {
     "data": {
      "text/plain": [
       "[{'card': 'Hx',\n",
       "  'insta_score': 0.279,\n",
       "  'expected_tricks_dd': 11.0,\n",
       "  'p_make_contract': 0.14,\n",
       "  'expected_score_dd': 551,\n",
       "  'msg': ''},\n",
       " {'card': 'Cx',\n",
       "  'insta_score': 0.298,\n",
       "  'expected_tricks_dd': 11.19,\n",
       "  'p_make_contract': 0.07,\n",
       "  'expected_score_dd': 606,\n",
       "  'msg': ''},\n",
       " {'card': 'Sx',\n",
       "  'insta_score': 0.151,\n",
       "  'expected_tricks_dd': 11.26,\n",
       "  'p_make_contract': 0.07,\n",
       "  'expected_score_dd': 607,\n",
       "  'msg': 'suit adjust=0.3'},\n",
       " {'card': 'DA',\n",
       "  'insta_score': 0.146,\n",
       "  'expected_tricks_dd': 10.83,\n",
       "  'p_make_contract': 0.05,\n",
       "  'expected_score_dd': 612,\n",
       "  'msg': ''}]"
      ]
     },
     "execution_count": 5,
     "metadata": {},
     "output_type": "execute_result"
    }
   ],
   "source": [
    "lead.to_dict()['candidates']"
   ]
  },
  {
   "cell_type": "markdown",
   "id": "97efc5a1",
   "metadata": {},
   "source": [
    "in the above output:\n",
    "- `insta_score` reflects the preference of the neural network\n",
    "- `expected_tricks` how many tricks declarer is expected to take on this lead\n",
    "- `p_make_contract` is the probability of the contract making on this lead\n",
    "\n",
    "the probability of making and the expected tricks are computed on samples which are consistent with the auction. the samples are estimated single dummy using a neural network (more on this in another tutorial). we could also solve the samples double dummy, but that would be quite a bit slower."
   ]
  },
  {
   "cell_type": "code",
   "execution_count": 6,
   "id": "7cb2bf98",
   "metadata": {},
   "outputs": [
    {
     "data": {
      "text/plain": [
       "['Txx.QT8x.A98.9xx AKx.AKx.x.KJT8xx Q8x.9xx.KQTxx.Qx J9xx.Jxx.Jxxx.Ax - 0.58154',\n",
       " 'Txx.QT8x.A98.9xx A8x.AKx.x.AKJ8xx xx.9xxx.KQJxxx.Q KQJ9x.Jx.Txx.Txx - 0.38037',\n",
       " 'Txx.QT8x.A98.9xx AQ8.KJxx.x.AKTxx Kx.9xx.KJTxx.Qxx J9xxx.Ax.Qxxx.J8 - 0.54688',\n",
       " 'Txx.QT8x.A98.9xx AKx.AJ.xx.KQJT8x xx.K9xx.QJxxx.Ax QJ98x.xxx.KTx.xx - 0.52930',\n",
       " 'Txx.QT8x.A98.9xx AQx.Kx.x.AKT8xxx J.Jxxx.KQJTxx.Qx K98xxx.A9x.xxx.J - 0.27441',\n",
       " 'Txx.QT8x.A98.9xx AKx.A9xx.x.AQTxx Qx.Kxxx.KJxxx.J8 J98xx.J.QTxx.Kxx - 0.54150',\n",
       " 'Txx.QT8x.A98.9xx Axx.Axx.K.AQTxxx 9x.KJxx.QJxxx.Kx KQJ8x.9x.Txxx.J8 - 0.53174',\n",
       " 'Txx.QT8x.A98.9xx A9x.K9x.K.AQJxxx J8.AJxx.QJTxxx.T KQxxx.xx.xxx.K8x - 0.37061',\n",
       " 'Txx.QT8x.A98.9xx AKx.A9xx.T.AQ8xx Jxx.Kx.QJxxx.KTx Q98x.Jxx.Kxxx.Jx - 0.54297',\n",
       " 'Txx.QT8x.A98.9xx AKx.AKx.x.QJTxxx 8.9xxx.KQJTx.A8x QJ9xxx.Jx.xxxx.K - 0.52148',\n",
       " 'Txx.QT8x.A98.9xx A8x.A9x.x.AKQJxx Qx.xxx.KQJTx.T8x KJ9xx.KJx.xxxx.x - 0.14941',\n",
       " 'Txx.QT8x.A98.9xx K98.AKx.J.AQJxxx AJx.J9xx.QTxxx.x Qxxx.xx.Kxxx.KT8 - 0.62891',\n",
       " 'Txx.QT8x.A98.9xx A9x.Axx.K.KQJT8x Qx.J9xx.QTxxx.Ax KJ8xx.Kx.Jxxx.xx - 0.57812',\n",
       " 'Txx.QT8x.A98.9xx A8x.A9x.x.AKQ8xx Jx.KJxx.KJxxx.Tx KQ9xx.xx.QTxx.Jx - 0.55664',\n",
       " 'Txx.QT8x.A98.9xx AKx.A9xx.J.AQTxx 9x.Jxx.KQTxx.K8x QJ8xx.Kx.xxxx.Jx - 0.55078',\n",
       " 'Txx.QT8x.A98.9xx AKJ.xx.KT.KQJ8xx 8xx.AKxx.QJxxx.x Q9xx.J9x.xxx.ATx - 0.52490',\n",
       " 'Txx.QT8x.A98.9xx Qxx.AKx.x.AKQ8xx A98.J9x.KTxxx.Jx KJxx.xxx.QJxx.Tx - 0.40039',\n",
       " 'Txx.QT8x.A98.9xx K9x.AKx.x.AQxxxx AJ.9xxx.KJxxxx.8 Q8xxx.Jx.QTx.KJT - 0.30811',\n",
       " 'Txx.QT8x.A98.9xx A8x.AJx.x.AKQTxx J9.K9xx.KQJTx.Jx KQxxx.xx.xxxx.8x - 0.55957',\n",
       " 'Txx.QT8x.A98.9xx AQx.Kxx.x.AKQTxx x.AJxx.KJTxxx.xx KJ98xx.9x.Qxx.J8 - 0.22021']"
      ]
     },
     "execution_count": 6,
     "metadata": {},
     "output_type": "execute_result"
    }
   ],
   "source": [
    "# each row is one sample board\n",
    "# the hands are in the order: LHO, Partner, RHO. Your cards are not shown as they are fixed/\n",
    "\n",
    "lead.samples"
   ]
  }
 ],
 "metadata": {
  "kernelspec": {
   "display_name": "Python 3",
   "language": "python",
   "name": "python3"
  },
  "language_info": {
   "codemirror_mode": {
    "name": "ipython",
    "version": 3
   },
   "file_extension": ".py",
   "mimetype": "text/x-python",
   "name": "python",
   "nbconvert_exporter": "python",
   "pygments_lexer": "ipython3",
   "version": "3.12.3"
  }
 },
 "nbformat": 4,
 "nbformat_minor": 5
}
