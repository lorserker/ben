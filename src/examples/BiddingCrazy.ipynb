{
 "cells": [
  {
   "cell_type": "markdown",
   "id": "75d07246",
   "metadata": {},
   "source": [
    "# Bidding\n",
    "\n",
    "This is a tutorial for how to use the bidding engine"
   ]
  },
  {
   "cell_type": "code",
   "execution_count": 1,
   "id": "59a5664c",
   "metadata": {},
   "outputs": [
    {
     "name": "stderr",
     "output_type": "stream",
     "text": [
      "Loading config file d:\\GitHub\\ben\\src\\./config/default.conf\n",
      "Loading config file d:\\GitHub\\ben\\src\\./config/default.conf\n"
     ]
    }
   ],
   "source": [
    "import os\n",
    "os.chdir('..')\n",
    "\n",
    "import logging\n",
    "\n",
    "# Set logging level to suppress warnings\n",
    "logging.getLogger().setLevel(logging.ERROR)\n",
    "# Just disables the warnings\n",
    "os.environ['TF_CPP_MIN_LOG_LEVEL'] = '2'\n",
    "from nn.models_tf2 import Models\n",
    "from botbidder import BotBid\n",
    "from bidding import bidding\n",
    "from util import hand_to_str\n",
    "from deck52 import random_deal\n",
    "from sample import Sample\n",
    "import conf\n",
    "import numpy as np\n",
    "\n",
    "np.set_printoptions(precision=2, suppress=True, linewidth=200)\n",
    "np.random.seed(42)\n",
    "\n",
    "models = Models.from_conf(conf.load('./config/default.conf'),'..')   # loading neural networks\n",
    "sampler = Sample.from_conf(conf.load('./config/default.conf'), False)  # Load sampling strategies\n"
   ]
  },
  {
   "cell_type": "code",
   "execution_count": 2,
   "id": "44786d5d",
   "metadata": {},
   "outputs": [],
   "source": [
    "models.search_threshold = 0.07\n",
    "models.double_dummy_calculator = True\n",
    "# Filter to remove hands not consistent with the bidding. Used during play\n",
    "models.bid_accept_play_threshold = 0.01\n",
    "#sampler.use_distance = False\n",
    "#sampler.bidding_threshold_sampling = 0.25\n"
   ]
  },
  {
   "cell_type": "markdown",
   "id": "669da023",
   "metadata": {},
   "source": [
    "### Bidding through an entire auction for all four hands\n",
    "\n",
    "Now we'll take a random deal and let the bot bid for each hand. We assume North deals and nobody is vulnerable.\n",
    "\n",
    "This script was used to detect the reason for some strange bidding. But the error is fixed, so this should look normal now"
   ]
  },
  {
   "cell_type": "code",
   "execution_count": 3,
   "id": "fc27ca79",
   "metadata": {},
   "outputs": [],
   "source": [
    "from ddsolver import ddsolver\n",
    "dds = ddsolver.DDSolver()\n",
    "\n",
    "hands = [\"AJ.KJ9.A9764.AJ8\",\"T853.AT65.Q8.T52\", \"K976.Q874.KT.K74\", \"Q42.32.J532.Q963\"]\n",
    "#hands = ['AKQJTx.AQTx.Ax.x', 'xxx.Kx.KT8x.KJxx', 'x.J98xxxx.9.QTxx', '98x..QJxxxx.A98x']"
   ]
  },
  {
   "cell_type": "code",
   "execution_count": 4,
   "id": "d480cbba",
   "metadata": {},
   "outputs": [],
   "source": [
    "# North is dealer\n",
    "dealer = 0\n",
    "bidder_bots = [BotBid([False, True], hand, models, sampler, i, dealer, dds, False, False) for i, hand in enumerate(hands)]"
   ]
  },
  {
   "cell_type": "code",
   "execution_count": 5,
   "id": "7d77351a",
   "metadata": {},
   "outputs": [
    {
     "name": "stdout",
     "output_type": "stream",
     "text": [
      "{'bid': '1D', 'who': 'NN', 'quality': '1', 'candidates': [{'call': '1D', 'insta_score': 1.199, 'alert': 'False', 'explanation': '3+ !D -- 6-!C; 3+!D; 6-!H; 6-!S; 11-21 HCP'}], 'hcp': [6.4, 8.1, 6.4], 'shape': [3.7, 3.3, 2.8, 3.2, 3.6, 3.4, 2.8, 3.1, 3.7, 3.2, 2.8, 3.2], 'explanation': '3+ !D -- 6-!C; 3+!D; 6-!H; 6-!S; 11-21 HCP'}\n",
      "{'bid': 'PASS', 'who': 'NN', 'quality': '1', 'candidates': [{'call': 'PASS', 'insta_score': 1.2, 'alert': 'False', 'explanation': ' -- ; 14- HCP'}], 'hcp': [10.7, 9.6, 13.3], 'shape': [3.2, 3.2, 3.0, 3.5, 3.2, 3.2, 2.9, 3.6, 2.6, 2.6, 4.9, 2.9], 'explanation': ' -- ; 14- HCP'}\n",
      "{'bid': '1H', 'who': 'NN', 'quality': '1', 'candidates': [{'call': '1H', 'insta_score': 1.2, 'alert': 'False', 'explanation': 'Bidable suit -- 4+!H; 6-!S; 6-29 HCP; Forcing'}], 'hcp': [9.1, 13.1, 6.3], 'shape': [3.3, 3.3, 2.8, 3.6, 2.6, 2.7, 4.9, 2.8, 3.1, 3.1, 3.2, 3.7], 'explanation': 'Bidable suit -- 4+!H; 6-!S; 6-29 HCP; Forcing'}\n",
      "{'bid': 'PASS', 'who': 'NN', 'quality': '1', 'candidates': [{'call': 'PASS', 'insta_score': 1.2, 'alert': 'False', 'explanation': ' -- ; 14- HCP'}], 'hcp': [14.0, 7.4, 12.8], 'shape': [3.2, 2.7, 4.5, 2.6, 3.6, 3.2, 2.7, 3.5, 3.2, 4.9, 2.0, 2.8], 'explanation': ' -- ; 14- HCP'}\n",
      "{'bid': '2N', 'who': 'NN', 'quality': '1', 'candidates': [{'call': '2N', 'insta_score': 1.2, 'alert': 'False', 'explanation': 'Strong -- 2-6!C; 3-7!D; 1-3!H; 2-4!S; 18-19 HCP'}], 'hcp': [5.5, 10.3, 6.0], 'shape': [3.9, 2.6, 2.9, 3.5, 3.3, 4.6, 2.3, 2.7, 3.9, 2.7, 2.9, 3.4], 'explanation': 'Strong -- 2-6!C; 3-7!D; 1-3!H; 2-4!S; 18-19 HCP'}\n",
      "{'bid': 'PASS', 'who': 'NN', 'quality': '0.97', 'candidates': [{'call': 'PASS', 'insta_score': 1.2, 'adjustment': 0, 'expected_score': -171, 'expected_tricks': 9.9, 'alert': 'False', 'explanation': ' -- ; 14- HCP'}], 'samples': ['Jxxx.KQx.AKJx.Ax Txxx.ATxx.Qx.Txx Ax.Jxxx.Txxx.KQx KQx.xx.xxx.Jxxxx - 0.99991', 'Axx.xx.AKTx.AKxx Txxx.ATxx.Qx.Txx QJx.KQJxxx.xx.xx Kxx.x.Jxxxx.QJxx - 0.99988', 'KQx.xx.AKJx.KQxx Txxx.ATxx.Qx.Txx xxx.KQJxx.xx.AJx AJx.xx.Txxxx.xxx - 0.99988', 'AQx.Jx.KTxx.AKJx Txxx.ATxx.Qx.Txx KJx.Kxxxx.Jx.Qxx xxx.Qx.Axxxx.xxx - 0.99988', 'Kxxx.Kx.AKJx.Axx Txxx.ATxx.Qx.Txx AJx.QJxx.xxx.Jxx Qx.xxx.Txxx.KQxx - 0.99988', 'KJx.Kx.AKxx.KJxx Txxx.ATxx.Qx.Txx AQxx.QJxxx.Tx.xx xx.xx.Jxxxx.AQxx - 0.99987', 'AKx.Kx.KTxx.KQxx Txxx.ATxx.Qx.Txx Jxx.QJxx.xxxx.Ax Qxx.xxx.AJx.Jxxx - 0.99987', 'AKx.Kx.KJxx.Axxx Txxx.ATxx.Qx.Txx Jxx.Jxxxx.ATx.Qx Qxx.Qx.xxxx.KJxx - 0.99986', 'AQJx.Kx.AKTx.Jxx Txxx.ATxx.Qx.Txx Kxx.Jxxxx.xx.AQx xx.Qx.Jxxxx.Kxxx - 0.99985', 'KQxx.Qx.AJxx.AQx Txxx.ATxx.Qx.Txx Ax.Kxxxxx.Kx.xxx Jxx.J.Txxxx.KJxx - 0.99985', 'AJxx.Kx.KTxx.AKx Txxx.ATxx.Qx.Txx Kxx.Qxxx.Axx.QJx Qx.Jxx.Jxxx.xxxx - 0.99984', 'AKJx.Jx.ATxx.KQx Txxx.ATxx.Qx.Txx xxx.Qxxx.Jxx.AJx Qx.Kxx.Kxxx.xxxx - 0.99984', 'Kxxx.Qx.Axxx.AKQ Txxx.ATxx.Qx.Txx AQ.KJxx.Jxx.Jxxx Jxx.xxx.KTxx.xxx - 0.99984', 'AJxx.Jx.AJxx.AKx Txxx.ATxx.Qx.Txx K.Kxxxx.xxxx.QJx Qxxx.Qx.KTx.xxxx - 0.99982', 'AQJ.Kxx.AKTxx.Jx Txxx.ATxx.Qx.Txx Kxx.xxxx.xxx.AKx xxx.QJ.Jxx.Qxxxx - 0.99980', 'AKxx.Kx.KJxx.Axx Txxx.ATxx.Qx.Txx J.QJxxx.x.QJxxxx Qxxx.xx.ATxxxx.K - 0.99979', 'AK.Kxx.KJTx.KJxx Txxx.ATxx.Qx.Txx Qx.QJxxx.Axx.Qxx Jxxxx.x.xxxx.Axx - 0.99978', 'AKQJ.Kxx.JTxx.Ax Txxx.ATxx.Qx.Txx xx.QJxxx.Axx.KQJ xxx.x.Kxxx.xxxxx - 0.99978', 'Kxx.KQJ.AJTxx.Ax Txxx.ATxx.Qx.Txx QJx.xxxx.Kx.Jxxx Axx.xx.xxxx.KQxx - 0.99978', 'AKQx.KQ.xxxx.KJx Txxx.ATxx.Qx.Txx Jxx.Jxxxx.AKT.xx xx.xx.Jxxx.AQxxx - 0.99977'], 'hcp': [9.7, 5.6, 18.9], 'shape': [2.8, 4.6, 2.5, 3.0, 3.4, 2.1, 3.7, 3.8, 3.1, 2.4, 4.4, 3.1], 'explanation': ' -- ; 14- HCP'}\n",
      "{'bid': '3S', 'who': 'NN', 'quality': '0.97', 'candidates': [{'call': '3S', 'insta_score': 1.197, 'alert': 'False', 'explanation': 'Bidable suit -- 5-!C; 5-!D; 4-9!H; 4-6!S; 7-22 HCP; Forcing'}], 'samples': ['ATxx.AKx.AQxx.JT Jxxx.Tx.xx.Qxxxx Kxxx.Qxxx.KT.Kxx Q.Jxxx.Jxxxx.Axx - 0.99989', 'Axxx.AKJ.AJxx.Jx QJx.Txx.Qxx.xxxx Kxxx.Qxxx.KT.Kxx Tx.xxx.xxxx.AQTx - 0.99988', 'AQxx.AKJ.QJxx.Jx Jxx.Txx.xxxx.AQx Kxxx.Qxxx.KT.Kxx Tx.xxx.Axx.Txxxx - 0.99988', 'AQTx.AKx.Axxx.Jx xx.Txxx.Qxx.AQxx Kxxx.Qxxx.KT.Kxx Jxx.Jx.Jxxx.Txxx - 0.99988', 'AQTx.Kxx.Axxx.AJ xxx.Txx.xxx.Qxxx Kxxx.Qxxx.KT.Kxx Jx.AJx.QJxx.Txxx - 0.99987', 'AJxx.Kxx.Axxx.AQ QT.Txxx.Qx.JTxxx Kxxx.Qxxx.KT.Kxx xxx.AJ.Jxxxx.xxx - 0.99987', 'Axx.Ax.AQxx.ATxx JTxx.Kxx.xxxx.xx Kxxx.Qxxx.KT.Kxx Qx.JTxx.Jxx.QJxx - 0.99985', 'AQTx.AJx.AQJx.xx Jxxx.Kx.xxxx.AQJ Kxxx.Qxxx.KT.Kxx x.Txxx.xxx.Txxxx - 0.99984', 'Qxxx.AKT.Axxx.AJ AJx.Jxx.QJ.xxxxx Kxxx.Qxxx.KT.Kxx Tx.xxx.xxxxx.QTx - 0.99984', 'Tx.AKx.Axxx.AQJx Axx.Jxx.xxxx.xxx Kxxx.Qxxx.KT.Kxx QJxx.Txx.QJx.Txx - 0.99983', 'AJxx.AKx.AQxx.xx QTx.xxx.xxx.AJTx Kxxx.Qxxx.KT.Kxx xx.JTx.Jxxx.Qxxx - 0.99983', 'xx.AKT.AJxx.AQxx ATx.xxx.Qxx.JTxx Kxxx.Qxxx.KT.Kxx QJxx.Jxx.xxxx.xx - 0.99983', 'Ax.Axx.Axxx.AQxx Jxx.JTxx.xxx.Jxx Kxxx.Qxxx.KT.Kxx QTxx.Kx.QJxx.Txx - 0.99982', 'AJxx.Kxx.AJxx.AJ Txx.Tx.Qxxxx.xxx Kxxx.Qxxx.KT.Kxx Qx.AJxx.xx.QTxxx - 0.99982', 'Axxx.Axx.Axxx.AQ xx.KJ.QJx.JTxxxx Kxxx.Qxxx.KT.Kxx QJT.Txxx.xxxx.xx - 0.99982', 'Axx.AK.QJxx.Axxx Txx.JTxx.xxx.QTx Kxxx.Qxxx.KT.Kxx QJx.xxx.Axxx.Jxx - 0.99981', 'AQx.Kx.AJxx.ATxx Txx.Jxx.Qxx.Qxxx Kxxx.Qxxx.KT.Kxx Jxx.ATxx.xxxx.Jx - 0.99981', 'QJx.AK.Axxx.Axxx Axx.xxx.QJxx.Txx Kxxx.Qxxx.KT.Kxx Txx.JTxx.xxx.QJx - 0.99980', 'ATx.KT.AJxx.AQxx xx.AJxxx.xxx.Txx Kxxx.Qxxx.KT.Kxx QJxx.xx.Qxxx.Jxx - 0.99980', 'AJxx.Ax.AQJx.Qxx Qxx.JTx.xxx.Jxxx Kxxx.Qxxx.KT.Kxx Tx.Kxxx.xxxx.ATx - 0.99979'], 'hcp': [5.1, 18.9, 5.1], 'shape': [3.2, 3.3, 3.1, 3.4, 2.8, 2.8, 4.5, 3.0, 3.1, 3.2, 3.1, 3.6], 'explanation': 'Bidable suit -- 5-!C; 5-!D; 4-9!H; 4-6!S; 7-22 HCP; Forcing'}\n",
      "{'bid': 'PASS', 'who': 'NN', 'quality': '0.85', 'candidates': [{'call': 'PASS', 'insta_score': 1.2, 'adjustment': 0, 'expected_score': -195, 'expected_tricks': 11.0, 'alert': 'False', 'explanation': ' -- ; 14- HCP'}], 'samples': ['AK.xxx.Axxx.AKxx Txxx.AQxx.Tx.xxx Jxxx.KJTx.KQx.JT Qxx.xx.Jxxx.Qxxx - 0.99911', 'AJx.KTx.AQxx.KJx Txx.Jxxx.Txx.Axx Kxxx.AQxx.Kx.Txx Qxx.xx.Jxxx.Qxxx - 0.99899', 'Txx.AKT.AKxx.KJx AJx.Jxxx.Txx.Txx Kxxx.Qxxx.Qx.Axx Qxx.xx.Jxxx.Qxxx - 0.99898', 'AKJ.Kxx.AKxxx.xx Txx.JTx.xx.KJTxx xxxx.AQxxx.QT.Ax Qxx.xx.Jxxx.Qxxx - 0.99891', 'AKxx.Axx.QTxx.AJ JT.JTxx.xx.Kxxxx xxxx.KQxx.AKx.Tx Qxx.xx.Jxxx.Qxxx - 0.99890', 'Axx.Axx.KTxx.AKx Jxx.xxxx.Qxx.JTx KTxx.KQJT.Ax.xxx Qxx.xx.Jxxx.Qxxx - 0.99873', 'Kxx.AJ.QTxxx.AKJ Jxx.KQxxx.xx.Txx ATxx.Txxx.AK.xxx Qxx.xx.Jxxx.Qxxx - 0.99873', 'AKJ.AQx.Txxx.AJx Txx.xxxx.Qx.Kxxx xxxx.KJTx.AKx.Tx Qxx.xx.Jxxx.Qxxx - 0.99866', 'xx.AKJ.AKxx.KJxx JTxx.Qxxx.Qxx.Tx AKxx.Txxx.Tx.Axx Qxx.xx.Jxxx.Qxxx - 0.99858', 'Kxx.KQ.AKTxx.Kxx Txx.Txxxx.xx.ATx AJxx.AJxx.Qx.Jxx Qxx.xx.Jxxx.Qxxx - 0.99857', 'AKx.Txx.AKTx.KJx JTx.Qxx.xxx.ATxx xxxx.AKJxx.Qx.xx Qxx.xx.Jxxx.Qxxx - 0.99818', 'AK.QJT.AKQxx.xxx Txxx.xxx.xx.AJTx Jxxx.AKxxx.Tx.Kx Qxx.xx.Jxxx.Qxxx - 0.99802', 'JT.ATx.AKQTx.ATx Kxxx.xxx.xx.KJxx Axxx.KQJxx.xx.xx Qxx.xx.Jxxx.Qxxx - 0.99779', 'Kx.Axx.ATxx.AKxx xxxx.KQx.Qxx.Txx AJTx.JTxxx.Kx.Jx Qxx.xx.Jxxx.Qxxx - 0.99775', 'Kxx.AJ.AQTxx.ATx AJx.Txxx.xxx.xxx Txxx.KQxxx.K.KJx Qxx.xx.Jxxx.Qxxx - 0.99759', 'ATxx.AQx.ATxx.Ax xx.Kxxx.Kxx.JTxx KJxx.JTxx.Qx.Kxx Qxx.xx.Jxxx.Qxxx - 0.99752', 'AKT.Txx.AKxx.KJT xxx.KJx.Txxx.xxx Jxxx.AQxxx.Q.Axx Qxx.xx.Jxxx.Qxxx - 0.99739', 'AKx.xx.ATxx.AKxx Txx.JTxx.KQxx.Tx Jxxx.AKQxx.x.Jxx Qxx.xx.Jxxx.Qxxx - 0.99719', 'Kxx.Axx.AKxx.AJx Axx.QTx.Txxx.Txx JTxx.KJxxx.Q.Kxx Qxx.xx.Jxxx.Qxxx - 0.99713', 'ATxx.KTx.AKQx.Kx Jx.Jxxx.Txx.JTxx Kxxx.AQxx.xx.Axx Qxx.xx.Jxxx.Qxxx - 0.99683'], 'hcp': [18.4, 5.5, 10.8], 'shape': [2.9, 2.6, 4.3, 3.2, 3.0, 3.7, 2.8, 3.6, 4.0, 4.8, 1.9, 2.3], 'explanation': ' -- ; 14- HCP'}\n",
      "{'bid': '3N', 'who': 'NN', 'quality': '0.92', 'candidates': [{'call': '3N', 'insta_score': 1.19, 'alert': 'False', 'explanation': 'Nat. -- 2-6!C; 3-6!D; 1-3!H; 2-3!S; 18-19 HCP'}], 'samples': ['AJ.KJx.Axxxx.AJx xxx.Axx.QJxx.xxx KQTx.QTxxx.Kx.KT xxxx.xx.Tx.Qxxxx - 0.99898', 'AJ.KJx.Axxxx.AJx xxxx.Qxx.Txx.Kxx KTxx.Axxx.KQ.xxx Qxx.Txx.Jxx.QTxx - 0.99855', 'AJ.KJx.Axxxx.AJx Qxx.xx.JTxx.Kxxx Kxxx.ATxxx.Qx.Qx Txxx.Qxx.Kx.Txxx - 0.99847', 'AJ.KJx.Axxxx.AJx Txx.Qx.QTx.KQxxx KQxx.ATxx.Kx.xxx xxxx.xxxx.Jxx.Tx - 0.99845', 'AJ.KJx.Axxxx.AJx QTxxx.xx.xx.QTxx Kxxx.AQTxx.Tx.Kx xx.xxx.KQJx.xxxx - 0.99844', 'AJ.KJx.Axxxx.AJx QTx.QTxx.K.xxxxx Kxxx.Axxxx.Qx.Qx xxxx.x.JTxxx.KTx - 0.99841', 'AJ.KJx.Axxxx.AJx Txx.Tx.Kxxx.Txxx Kxxx.Axxxx.QT.Qx Qxxx.Qxx.Jx.Kxxx - 0.99838', 'AJ.KJx.Axxxx.AJx KTxx.Qxx.Txx.Kxx xxxx.Axxx.KQJ.QT Qxx.Txx.xx.xxxxx - 0.99834', 'AJ.KJx.Axxxx.AJx Qx.Qxx.QTx.Kxxxx Kxxx.Axxxx.Kx.Qx Txxxx.Tx.Jxx.Txx - 0.99832', 'AJ.KJx.Axxxx.AJx xxxx.xxx.Kxxx.xx Kxxx.ATxx.QT.Kxx QTx.Qxx.Jx.QTxxx - 0.99831', 'AJ.KJx.Axxxx.AJx Txx.Tx.QJTxx.KQx Kxxx.AQxxx.Kx.Tx Qxxx.xxx.x.xxxxx - 0.99829', 'AJ.KJx.Axxxx.AJx xxxxx.Axxx.x.xxx KQTx.QTxx.QJx.Kx xx.xx.KTxx.QTxxx - 0.99829', 'AJ.KJx.Axxxx.AJx xxx.xx.KQJxx.xxx KQxx.AQTxx.xx.xx Txxx.xxx.T.KQTxx - 0.99828', 'AJ.KJx.Axxxx.AJx Kxx.xxxx.QJT.xxx Qxxx.AQTxx.xx.Kx Txxx.x.Kxx.QTxxx - 0.99828', 'AJ.KJx.Axxxx.AJx Qxxx.xx.QTxx.Kxx Txxx.AQxx.KJx.Qx Kxx.Txxx.x.Txxxx - 0.99821', 'AJ.KJx.Axxxx.AJx Qxx.Txxxx.xx.Kxx Kxxx.AQxxx.QT.Qx Txxx..KJxx.Txxxx - 0.99820', 'AJ.KJx.Axxxx.AJx xxxx.xx.Qxxx.Txx KQTx.Axxxx.Tx.Qx xxx.QTx.KJ.Kxxxx - 0.99814', 'AJ.KJx.Axxxx.AJx xxx.Txx.Qxx.Txxx Qxxx.Axxx.KT.Qxx KTxx.Qxx.Jxx.Kxx - 0.99810', 'AJ.KJx.Axxxx.AJx Kxxxx.Txx.Tx.Txx Txxx.AQxx.Kx.Kxx Qx.xxx.QJxx.Qxxx - 0.99804', 'AJ.KJx.Axxxx.AJx xxx.Txxx.QTx.Txx KTxx.AQxx.xx.Kxx Qxxx.xx.KJx.Qxxx - 0.99801'], 'hcp': [5.3, 10.9, 5.7], 'shape': [3.4, 2.7, 3.2, 3.8, 4.2, 4.5, 1.9, 2.3, 3.5, 2.8, 3.1, 3.6], 'explanation': 'Nat. -- 2-6!C; 3-6!D; 1-3!H; 2-3!S; 18-19 HCP'}\n",
      "{'bid': 'PASS', 'who': 'NN', 'quality': '0.91', 'candidates': [{'call': 'PASS', 'insta_score': 1.2, 'adjustment': 0, 'expected_score': -402, 'expected_tricks': 10.3, 'alert': 'False', 'explanation': ' -- ; 14- HCP'}], 'samples': ['KJ.KJx.AKxx.Axxx Txxx.ATxx.Qx.Txx AQxx.Qxxx.Jx.Kxx xxx.xx.Txxxx.QJx - 0.99582', 'Kxx.xxx.AKxx.AKJ Txxx.ATxx.Qx.Txx AJxx.KQJx.Tx.xxx Qx.xx.Jxxxx.Qxxx - 0.99565', 'AKx.Qx.AJxxx.AJx Txxx.ATxx.Qx.Txx Qxxx.KJxxx.Kx.Kx Jx.xx.Txxx.Qxxxx - 0.99553', 'AKx.Qx.KTxxx.AQJ Txxx.ATxx.Qx.Txx QJxx.Jxxx.Ax.Kxx xx.Kxx.Jxxx.xxxx - 0.99516', 'Kx.KJx.Axxxx.AKx Txxx.ATxx.Qx.Txx QJxx.Qxxx.Kx.Qxx Axx.xx.JTxx.Jxxx - 0.99500', 'AQx.Kxx.Kxxx.AQJ Txxx.ATxx.Qx.Txx KJxx.QJxxx.Tx.Kx xx.x.AJxxx.xxxxx - 0.99495', 'AK.Jxx.KTxxx.AKx Txxx.ATxx.Qx.Txx QJxx.xxxx.Ax.QJx xxx.KQ.Jxxx.xxxx - 0.99493', 'AK.KQx.KJxxx.Kxx Txxx.ATxx.Qx.Txx QJxx.Jxxx.ATx.AJ xxx.xx.xxx.Qxxxx - 0.99485', 'AKx.Qx.AKJxx.Qxx Txxx.ATxx.Qx.Txx QJxx.Kxxx.xxx.AJ xx.Jxx.Txx.Kxxxx - 0.99484', 'KJx.KJx.AKxx.Axx Txxx.ATxx.Qx.Txx Axxx.Qxxxx.Jx.Kx Qx.x.Txxxx.QJxxx - 0.99473', 'KQx.xx.AKxxx.AQx Txxx.ATxx.Qx.Txx AJxx.QJxx.Jx.Kxx xx.Kxx.Txxx.Jxxx - 0.99456', 'AJx.KJx.Kxxx.AQx Txxx.ATxx.Qx.Txx Qxxx.Qxxx.Ax.Kxx Kx.xx.JTxxx.Jxxx - 0.99429', 'Qxx.KQx.Kxxx.AKQ Txxx.ATxx.Qx.Txx AKxx.xxxx.ATx.Jx Jx.Jx.Jxxx.xxxxx - 0.99412', 'AKx.Qxx.AKxxx.Kx Txxx.ATxx.Qx.Txx Qxxx.KJxx.xx.AQx Jx.xx.JTxx.Jxxxx - 0.99411', 'AKx.QJx.Axxx.Axx Txxx.ATxx.Qx.Txx Qxxx.Kxxx.xx.KQJ Jx.xx.KJTxx.xxxx - 0.99411', 'KQx.KJ.Axxxx.AJx Txxx.ATxx.Qx.Txx Axxx.Qxxx.KTx.Kx Jx.xxx.Jxx.Qxxxx - 0.99370', 'KQJ.Jxx.ATxxx.AK Txxx.ATxx.Qx.Txx Axxx.Qxxx.Kxx.Jx xx.Kx.Jxx.Qxxxxx - 0.99360', 'AKx.KQJ.xxxx.AQx Txxx.ATxx.Qx.Txx QJxx.xxxx.KJ.Kxx xx.xx.ATxxx.Jxxx - 0.99348', 'AKx.Kxx.AKxxx.Qx Txxx.ATxx.Qx.Txx QJxx.QJxxx.J.Kxx xx.x.Txxxx.AJxxx - 0.99318', 'Jxx.KQx.AKJx.AJx Txxx.ATxx.Qx.Txx Axxx.Jxxx.xx.KQx KQ.xx.Txxxx.xxxx - 0.99271'], 'hcp': [10.0, 5.3, 18.8], 'shape': [4.1, 4.4, 2.1, 2.4, 2.5, 2.4, 4.0, 4.2, 2.7, 2.4, 4.6, 3.4], 'explanation': ' -- ; 14- HCP'}\n",
      "{'bid': 'PASS', 'who': 'NN', 'quality': '0.95', 'candidates': [{'call': 'PASS', 'insta_score': 1.185, 'adjustment': 0, 'expected_score': 464, 'expected_tricks': 11.2, 'alert': 'False', 'explanation': ' -- 5-!C; 5-!D; 4-9!H; 4-6!S; 7-22 HCP'}], 'samples': ['AQ.KTx.AJxxx.AJx JTxx.Jxx.Qxx.Txx Kxxx.Qxxx.KT.Kxx xxx.Axx.xxx.Qxxx - 0.99485', 'AQ.Axx.AJxx.ATxx Txxxx.Kx.Qx.Qxxx Kxxx.Qxxx.KT.Kxx Jx.JTxx.xxxxx.Jx - 0.99464', 'AQ.ATx.Axxxx.AJx JTx.KJx.x.QTxxxx Kxxx.Qxxx.KT.Kxx xxxx.xxx.QJxxx.x - 0.99441', 'AJ.Kxx.AJxx.AQTx Txx.AJ.Qxxxx.xxx Kxxx.Qxxx.KT.Kxx Qxxx.Txxx.xx.Jxx - 0.99435', 'Axx.Axx.AQxx.AJT JTxx.KJx.xx.Qxxx Kxxx.Qxxx.KT.Kxx Qx.Txx.Jxxxx.xxx - 0.99435', 'AQT.Jxx.AQJx.Axx xxxx.x.xxx.Qxxxx Kxxx.Qxxx.KT.Kxx Jx.AKTxx.xxxx.JT - 0.99434', 'Ax.Axx.Axxx.AQxx Jxx.JTxx.xxx.Jxx Kxxx.Qxxx.KT.Kxx QTxx.Kx.QJxx.Txx - 0.99420', 'QT.Axx.AQxxx.AQT Axxxx.Jx.xxx.Jxx Kxxx.Qxxx.KT.Kxx Jx.KTxx.Jxx.xxxx - 0.99415', 'AQx.AKx.Qxxx.Axx Txxx.Jxx.Jxx.xxx Kxxx.Qxxx.KT.Kxx Jx.Txx.Axxx.QJTx - 0.99409', 'AQx.AKx.xxxx.AQx JTx.Tx.QJxx.xxxx Kxxx.Qxxx.KT.Kxx xxx.Jxxx.Axx.JTx - 0.99409', 'AQx.AKx.xxxx.AQx Jx.JTx.Qxx.JTxxx Kxxx.Qxxx.KT.Kxx Txxx.xxx.AJxx.xx - 0.99407', 'QJ.ATx.AQxx.AQxx Axxx.xx.xx.Txxxx Kxxx.Qxxx.KT.Kxx Txx.KJxx.Jxxxx.J - 0.99398', 'Axx.AJx.AQxx.Axx Txx.Txx.xx.QTxxx Kxxx.Qxxx.KT.Kxx QJx.Kxx.Jxxxx.Jx - 0.99379', 'ATx.KJ.AQxxx.Axx Qxxx.Axxx.J.xxxx Kxxx.Qxxx.KT.Kxx Jx.Txx.xxxxx.QJT - 0.99371', 'QT.AKx.Axxxx.AJx Jxxx.JTx.QJxxx.x Kxxx.Qxxx.KT.Kxx Axx.xxx.x.QTxxxx - 0.99370', 'Jxx.AK.AJxxx.AJx AQTx.Txx.xxxx.QT Kxxx.Qxxx.KT.Kxx xx.Jxxx.Qx.xxxxx - 0.99370', 'AJx.AK.AJxxx.Qxx Tx.JTxx.xxx.Jxxx Kxxx.Qxxx.KT.Kxx Qxxx.xxx.Qxx.ATx - 0.99369', 'ATx.Axx.Axxx.AQx Jx.KJx.xxx.JTxxx Kxxx.Qxxx.KT.Kxx Qxxx.Txx.QJxx.xx - 0.99364', 'QJx.AKx.AJxx.Axx Axx.Jxxx.xxx.xxx Kxxx.Qxxx.KT.Kxx Txx.Tx.Qxxx.QJTx - 0.99364', 'Jxx.AK.AQxxx.Axx QTx.xx.xx.QJxxxx Kxxx.Qxxx.KT.Kxx Axx.JTxxx.Jxxx.T - 0.99362'], 'hcp': [5.2, 18.5, 5.0], 'shape': [3.2, 3.3, 3.1, 3.4, 2.8, 2.7, 4.5, 3.1, 3.1, 3.3, 3.0, 3.6], 'explanation': ' -- 5-!C; 5-!D; 4-9!H; 4-6!S; 7-22 HCP'}\n",
      "{'bid': 'PASS', 'who': 'NN', 'quality': '0.83', 'candidates': [{'call': 'PASS', 'insta_score': 1.2, 'adjustment': 0, 'expected_score': -432, 'expected_tricks': 11.0, 'alert': 'False', 'explanation': ' -- ; 14- HCP'}], 'samples': ['AK.AJx.Kxxx.ATxx xxxx.xxx.ATx.Jxx JTxx.KQTxx.Qx.Kx Qxx.xx.Jxxx.Qxxx - 0.99440', 'Kx.ATx.KQTx.AKTx Axxx.Jxx.xxxx.Jx JTxx.KQxxx.A.xxx Qxx.xx.Jxxx.Qxxx - 0.99425', 'Ax.xxx.AKTxx.AKJ KTxx.Axx.xx.Txxx Jxxx.KQJTx.Qx.xx Qxx.xx.Jxxx.Qxxx - 0.99413', 'AKT.Ax.Txxxx.AKx Jxx.Qxxx.Ax.Txxx xxxx.KJTxx.KQ.Jx Qxx.xx.Jxxx.Qxxx - 0.99371', 'ATx.AQx.AKTxx.Jx xxx.Jxx.xx.AKTxx KJxx.KTxxx.Qx.xx Qxx.xx.Jxxx.Qxxx - 0.99337', 'AKx.Kxx.AKTx.JTx Txx.JTxx.Qx.Axxx Jxxx.AQxx.xxx.Kx Qxx.xx.Jxxx.Qxxx - 0.99290', 'Ax.Qxx.Axxx.AKJx Kxxx.Txx.Kxx.xxx JTxx.AKJxx.QT.Tx Qxx.xx.Jxxx.Qxxx - 0.99259', 'AJx.Jxx.AQTx.AKx xxx.ATx.Kxx.JTxx KTxx.KQxxx.xx.xx Qxx.xx.Jxxx.Qxxx - 0.99203', 'JTx.KQ.AQxxx.AKT Axx.Txxx.Txx.Jxx Kxxx.AJxxx.K.xxx Qxx.xx.Jxxx.Qxxx - 0.99184', 'JT.AQx.AKxx.Axxx Kxxx.JTxx.QTx.Jx Axxx.Kxxx.xx.KTx Qxx.xx.Jxxx.Qxxx - 0.99163', 'AT.Qxx.AQxx.AKxx KJxx.Txx.Kxx.xxx xxxx.AKJxx.Tx.JT Qxx.xx.Jxxx.Qxxx - 0.99152', 'JT.ATx.AKQTx.ATx Kxxx.xxx.xx.KJxx Axxx.KQJxx.xx.xx Qxx.xx.Jxxx.Qxxx - 0.99150', 'Axx.Axx.KTxx.AKx Jxx.xxxx.AQx.JTx KTxx.KQJT.xx.xxx Qxx.xx.Jxxx.Qxxx - 0.99131', 'Axx.Kxx.ATxx.AKx Txx.AQJx.xx.Jxxx KJxx.Txxx.KQx.Tx Qxx.xx.Jxxx.Qxxx - 0.99076', 'AKx.Txx.AKTx.KJx JTx.Qxx.Qxx.Axxx xxxx.AKJxx.xx.Tx Qxx.xx.Jxxx.Qxxx - 0.99045', 'AK.Kxx.AQxxx.KTx Txxx.Axx.Txx.Axx Jxxx.QJTxx.K.Jxx Qxx.xx.Jxxx.Qxxx - 0.99043', 'ATx.Ax.AKxxx.Kxx xxx.KQxx.Qxx.JTx KJxx.JTxxx.T.Axx Qxx.xx.Jxxx.Qxxx - 0.99012', 'Kxx.AJ.QTxxx.AKJ Jxx.KQxxx.xx.Txx ATxx.Txxx.AK.xxx Qxx.xx.Jxxx.Qxxx - 0.98952', 'Kxx.Axx.AQxx.AJx Txx.QJx.Kxxx.Kxx AJxx.KTxxx.T.Txx Qxx.xx.Jxxx.Qxxx - 0.98896', 'AK.KQx.AKxxx.Txx Jxxx.Axx.QTx.xxx Txxx.JTxxx.x.AKJ Qxx.xx.Jxxx.Qxxx - 0.98861'], 'hcp': [18.5, 6.3, 9.8], 'shape': [2.8, 2.5, 4.4, 3.3, 3.0, 3.8, 2.6, 3.6, 4.1, 4.8, 1.9, 2.3], 'explanation': ' -- ; 14- HCP'}\n",
      "['1D', 'PASS', '1H', 'PASS', '2N', 'PASS', '3S', 'PASS', '3N', 'PASS', 'PASS', 'PASS']\n"
     ]
    }
   ],
   "source": [
    "auction = [] \n",
    "\n",
    "turn_i = 0 # whose turn is it to bid\n",
    "step = 0\n",
    "\n",
    "while not bidding.auction_over(auction):\n",
    "    bid = bidder_bots[turn_i].bid(auction)\n",
    "    #if step== 5:\n",
    "    #     bid.bid='X'\n",
    "    #if step== 1:\n",
    "    #     bid.bid='PASS'\n",
    "    print(bid.to_dict())\n",
    "    auction.append(bid.bid)\n",
    "    turn_i = (turn_i + 1) % 4  # next player's turn\n",
    "    step += 1\n",
    "print(auction)"
   ]
  }
 ],
 "metadata": {
  "kernelspec": {
   "display_name": "Python 3",
   "language": "python",
   "name": "python3"
  },
  "language_info": {
   "codemirror_mode": {
    "name": "ipython",
    "version": 3
   },
   "file_extension": ".py",
   "mimetype": "text/x-python",
   "name": "python",
   "nbconvert_exporter": "python",
   "pygments_lexer": "ipython3",
   "version": "3.12.3"
  }
 },
 "nbformat": 4,
 "nbformat_minor": 5
}
