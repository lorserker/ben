{
 "cells": [
  {
   "cell_type": "markdown",
   "id": "75d07246",
   "metadata": {},
   "source": [
    "# Bidding\n",
    "\n",
    "This is a tutorial for how to use the bidding engine"
   ]
  },
  {
   "cell_type": "code",
   "execution_count": 1,
   "id": "59a5664c",
   "metadata": {},
   "outputs": [
    {
     "name": "stderr",
     "output_type": "stream",
     "text": [
      "Loading config file d:\\GitHub\\ben\\src\\./config/default.conf\n",
      "Loading config file d:\\GitHub\\ben\\src\\./config/default.conf\n"
     ]
    }
   ],
   "source": [
    "import os\n",
    "os.chdir('..')\n",
    "\n",
    "from nn.models_tf2 import Models\n",
    "from botbidder import BotBid\n",
    "from util import hand_to_str\n",
    "from sample import Sample\n",
    "import conf\n",
    "import numpy as np\n",
    "\n",
    "np.set_printoptions(precision=2, suppress=True, linewidth=200)\n",
    "np.random.seed(42)\n",
    "models = Models.from_conf(conf.load('./config/default.conf'),'..')   # loading neural networks\n",
    "sampler = Sample.from_conf(conf.load('./config/default.conf'), False)  # Load sampling strategies\n"
   ]
  },
  {
   "cell_type": "markdown",
   "id": "10d8f2fc",
   "metadata": {},
   "source": [
    "### Running through an example"
   ]
  },
  {
   "cell_type": "code",
   "execution_count": 2,
   "id": "19dbfeb7",
   "metadata": {},
   "outputs": [
    {
     "data": {
      "text/plain": [
       "[{'call': 'PASS',\n",
       "  'insta_score': 1.194,\n",
       "  'alert': 'False',\n",
       "  'explanation': ' -- ; 10- HCP'}]"
      ]
     },
     "execution_count": 2,
     "metadata": {},
     "output_type": "execute_result"
    }
   ],
   "source": [
    "# East deals, EW vulnerable.\n",
    "vuln_ns, vuln_ew = True, True\n",
    "\n",
    "from ddsolver import ddsolver\n",
    "dds = ddsolver.DDSolver()\n",
    "\n",
    "# you sit West and hold:\n",
    "hand = '7632.J964.K94.J5'\n",
    "\n",
    "auction = [\"PAD_START\", \"PAD_START\", \"PAD_START\", \"PASS\", \"1C\", \"1H\"]\n",
    "bot_bid = BotBid([vuln_ns, vuln_ew], hand, models, sampler, 2, 3, dds, False, False)\n",
    "\n",
    "bid = bot_bid.bid(auction)\n",
    "bid.to_dict()['candidates']\n",
    "\n",
    "# what's your bid?"
   ]
  },
  {
   "cell_type": "code",
   "execution_count": 3,
   "id": "bfe98f56",
   "metadata": {},
   "outputs": [
    {
     "data": {
      "text/plain": [
       "[{'call': '1S',\n",
       "  'insta_score': 1.188,\n",
       "  'alert': 'False',\n",
       "  'explanation': 'Bidable suit -- 6-!H; 4+!S; 6- HCP'}]"
      ]
     },
     "execution_count": 3,
     "metadata": {},
     "output_type": "execute_result"
    }
   ],
   "source": [
    "auction = [\"PAD_START\", \"PAD_START\", \"PAD_START\", \"PASS\", \"1C\", \"1H\",\"PASS\",\"PASS\",\"X\",\"PASS\"]\n",
    "bid = bot_bid.bid(auction)\n",
    "\n",
    "bid.to_dict()['candidates']"
   ]
  },
  {
   "cell_type": "code",
   "execution_count": 4,
   "id": "55b647a5",
   "metadata": {},
   "outputs": [
    {
     "data": {
      "text/plain": [
       "[{'call': '3N',\n",
       "  'insta_score': 0.141,\n",
       "  'adjustment': 0.56,\n",
       "  'expected_score': 474,\n",
       "  'expected_imp': 3.31,\n",
       "  'expected_tricks': 9.9},\n",
       " {'call': '4S',\n",
       "  'insta_score': 0.2,\n",
       "  'adjustment': 0.8,\n",
       "  'expected_score': 419,\n",
       "  'expected_imp': 2.22,\n",
       "  'expected_tricks': 9.7,\n",
       "  'alert': 'False',\n",
       "  'who': 'BBA',\n",
       "  'explanation': 'Nat. -- 6-!H; 4+!S; 2-6 HCP'},\n",
       " {'call': '3D',\n",
       "  'insta_score': 0.195,\n",
       "  'adjustment': 0.78,\n",
       "  'expected_score': 419,\n",
       "  'expected_imp': 2.22,\n",
       "  'expected_tricks': 9.7},\n",
       " {'call': '2N',\n",
       "  'insta_score': 0.145,\n",
       "  'adjustment': 0.58,\n",
       "  'expected_score': 419,\n",
       "  'expected_imp': 2.22,\n",
       "  'expected_tricks': 9.7},\n",
       " {'call': '3C',\n",
       "  'insta_score': 0.17,\n",
       "  'adjustment': 0.68,\n",
       "  'expected_score': 337,\n",
       "  'expected_imp': 0.3,\n",
       "  'expected_tricks': 9.7},\n",
       " {'call': '2S',\n",
       "  'insta_score': 0.212,\n",
       "  'adjustment': 0.85,\n",
       "  'expected_score': 192,\n",
       "  'expected_imp': -3.34,\n",
       "  'expected_tricks': 9.7},\n",
       " {'call': 'PASS',\n",
       "  'insta_score': -1.0,\n",
       "  'adjustment': -20.0,\n",
       "  'expected_score': 21,\n",
       "  'expected_imp': -6.93,\n",
       "  'expected_tricks': 7.6,\n",
       "  'explanation': 'We are not allowed to pass'}]"
      ]
     },
     "execution_count": 4,
     "metadata": {},
     "output_type": "execute_result"
    }
   ],
   "source": [
    "auction = [\"PAD_START\", \"PAD_START\", \"PAD_START\", \"PASS\", \"1C\", \"1H\",\"PASS\",\"PASS\",\"X\",\"PASS\",\"1S\",\"PASS\",\"2H\",\"PASS\"]\n",
    "bid = bot_bid.bid(auction)\n",
    "\n",
    "bid.to_dict()['candidates']"
   ]
  }
 ],
 "metadata": {
  "kernelspec": {
   "display_name": "Python 3",
   "language": "python",
   "name": "python3"
  },
  "language_info": {
   "codemirror_mode": {
    "name": "ipython",
    "version": 3
   },
   "file_extension": ".py",
   "mimetype": "text/x-python",
   "name": "python",
   "nbconvert_exporter": "python",
   "pygments_lexer": "ipython3",
   "version": "3.12.3"
  }
 },
 "nbformat": 4,
 "nbformat_minor": 5
}
