{
 "cells": [
  {
   "cell_type": "markdown",
   "id": "170af530",
   "metadata": {},
   "source": [
    "# Opening Lead\n",
    "\n",
    "Checking the opening lead for a specific contract"
   ]
  },
  {
   "cell_type": "code",
   "execution_count": 1,
   "id": "26570686",
   "metadata": {},
   "outputs": [
    {
     "name": "stderr",
     "output_type": "stream",
     "text": [
      "Loading config file d:\\GitHub\\ben\\src\\./config/default.conf\n",
      "Loading config file d:\\GitHub\\ben\\src\\./config/default.conf\n"
     ]
    }
   ],
   "source": [
    "import os\n",
    "os.chdir('..')\n",
    "\n",
    "from nn.models_tf2 import Models\n",
    "import botopeninglead\n",
    "from sample import Sample\n",
    "import conf\n",
    "import numpy as np\n",
    "\n",
    "np.set_printoptions(precision=2, suppress=True, linewidth=200)\n",
    "np.random.seed(42)\n",
    "\n",
    "models = Models.from_conf(conf.load('./config/default.conf'),'..')   # loading neural networks\n",
    "sampler = Sample.from_conf(conf.load('./config/default.conf'), False)  # Load sampling strategies\n"
   ]
  },
  {
   "cell_type": "code",
   "execution_count": 2,
   "id": "c3397678",
   "metadata": {},
   "outputs": [],
   "source": [
    "# both vulnerable. you are sitting North as dealer and you hold\n",
    "hand = 'QJT75.86.63.AT52'\n",
    "\n",
    "# the auction goes:\n",
    "auction = [\"PAD_START\", \"PAD_START\", \"PAD_START\", \"2N\", \"PASS\", \"3C\", \"PASS\", \"3D\", \"PASS\", \"6N\", \"PASS\", \"PASS\", \"PASS\"]\n",
    "\n",
    "from ddsolver import ddsolver\n",
    "dds = ddsolver.DDSolver()\n",
    "\n",
    "# what to lead?\n",
    "lead_bot = botopeninglead.BotLead([False, False], hand, models, sampler, seat=0, dealer=3, dds=dds, verbose=False)\n",
    "lead = lead_bot.find_opening_lead(auction,{})"
   ]
  },
  {
   "cell_type": "code",
   "execution_count": 3,
   "id": "a2b5fe25",
   "metadata": {},
   "outputs": [
    {
     "data": {
      "text/plain": [
       "SQ"
      ]
     },
     "execution_count": 3,
     "metadata": {},
     "output_type": "execute_result"
    }
   ],
   "source": [
    "lead.card"
   ]
  },
  {
   "cell_type": "markdown",
   "id": "02e88396",
   "metadata": {},
   "source": [
    "seems like the engine chose to lead the ace of diamonds\n",
    "\n",
    "the other options it considered were: a small spade and a small club"
   ]
  },
  {
   "cell_type": "code",
   "execution_count": 4,
   "id": "956ef356",
   "metadata": {},
   "outputs": [
    {
     "data": {
      "text/plain": [
       "[{'card': 'SQ',\n",
       "  'insta_score': 0.863,\n",
       "  'p_make_contract': 0.4,\n",
       "  'expected_score_imp': 0.5,\n",
       "  'msg': ''},\n",
       " {'card': 'Sx',\n",
       "  'insta_score': 0.028,\n",
       "  'p_make_contract': 0.39,\n",
       "  'expected_score_imp': 0.46,\n",
       "  'msg': ''},\n",
       " {'card': 'Dx',\n",
       "  'insta_score': 0.034,\n",
       "  'p_make_contract': 0.36,\n",
       "  'expected_score_imp': -0.31,\n",
       "  'msg': ''},\n",
       " {'card': 'H8',\n",
       "  'insta_score': 0.042,\n",
       "  'p_make_contract': 0.35,\n",
       "  'expected_score_imp': -0.64,\n",
       "  'msg': ''}]"
      ]
     },
     "execution_count": 4,
     "metadata": {},
     "output_type": "execute_result"
    }
   ],
   "source": [
    "lead.to_dict()['candidates']"
   ]
  },
  {
   "cell_type": "markdown",
   "id": "97efc5a1",
   "metadata": {},
   "source": [
    "in the above output:\n",
    "- `insta_score` reflects the preference of the neural network\n",
    "- `expected_tricks` how many tricks declarer is expected to take on this lead\n",
    "- `p_make_contract` is the probability of the contract making on this lead\n",
    "\n",
    "the probability of making and the expected tricks are computed on samples which are consistent with the auction. the samples are estimated single dummy using a neural network (more on this in another tutorial). we could also solve the samples double dummy, but that would be quite a bit slower."
   ]
  },
  {
   "cell_type": "code",
   "execution_count": 5,
   "id": "7cb2bf98",
   "metadata": {},
   "outputs": [
    {
     "data": {
      "text/plain": [
       "['QJTxx.xx.xx.ATxx Kxxx.KQx.KJTx.xx x.Txxxxx.xxx.Jxx Axx.AJ.AQxx.KQxx - 0.88808 | SQ:50.0 H8:50.0 Dx:50.0 Sx:100.0',\n",
       " 'QJTxx.xx.xx.ATxx Kxxx.KQx.QJxx.xx x.Txxxxx.xxx.Qxx Axx.AJ.AKTx.KJxx - 0.82173 | SQ:50.0 H8:50.0 Dx:50.0 Sx:100.0',\n",
       " 'QJTxx.xx.xx.ATxx Axx.Axx.xxxx.Kxx xxx.JTxxx.Txx.Jx Kx.KQx.AKQJ.Qxxx - 0.77849 | SQ:100.0 H8:50.0 Dx:50.0 Sx:100.0',\n",
       " 'QJTxx.xx.xx.ATxx Axxx.Txxx.Axxx.Q xx.QJxx.xxx.xxxx Kx.AKx.KQJT.KJxx - 0.81603 | SQ:50.0 H8:-990.0 Dx:50.0 Sx:50.0',\n",
       " 'QJTxx.xx.xx.ATxx Axxx.Axx.Txxx.Qx xx.Txxxx.Jxx.Jxx Kx.KQJ.AKQx.Kxxx - 0.79965 | SQ:100.0 H8:50.0 Dx:50.0 Sx:100.0',\n",
       " 'QJTxx.xx.xx.ATxx xxxx.AJ.Axxx.Jxx xx.Txxxxx.Jxx.Qx AK.KQx.KQTx.Kxxx - 0.79390 | SQ:100.0 H8:50.0 Dx:50.0 Sx:100.0',\n",
       " 'QJTxx.xx.xx.ATxx Kxxx.Qxx.AQxx.xx x.Txxxx.Jxx.Jxxx Axx.AKJ.KTxx.KQx - 0.84421 | SQ:50.0 H8:100.0 Dx:100.0 Sx:100.0',\n",
       " 'QJTxx.xx.xx.ATxx Kxxx.AQxx.JTxx.x x.JTxx.xxxx.Jxxx Axx.Kxx.AKQ.KQxx - 0.80007 | SQ:50.0 H8:100.0 Dx:100.0 Sx:100.0',\n",
       " 'QJTxx.xx.xx.ATxx Axxx.AJT.KTxx.xx xx.xxxxx.xxxx.Jx Kx.KQx.AQJ.KQxxx - 0.90782 | SQ:100.0 H8:50.0 Dx:50.0 Sx:100.0',\n",
       " 'QJTxx.xx.xx.ATxx xxx.Txx.AKTxx.Qx xx.Jxxxx.Qx.Jxxx AKx.AKQ.Jxxx.Kxx - 0.77916 | SQ:50.0 H8:-990.0 Dx:-990.0 Sx:50.0',\n",
       " 'QJTxx.xx.xx.ATxx xxx.KQx.KJxx.Qxx xxx.JTxxx.Txx.Jx AK.Axx.AQxx.Kxxx - 0.77796 | SQ:100.0 H8:50.0 Dx:50.0 Sx:100.0',\n",
       " 'QJTxx.xx.xx.ATxx Kxxx.Jxxx.KJxx.Q xx.QTxx.xxxx.xxx Ax.AKx.AQT.KJxxx - 0.78530 | SQ:50.0 H8:-990.0 Dx:-990.0 Sx:50.0',\n",
       " 'QJTxx.xx.xx.ATxx xxx.KJ.AQxx.xxxx xx.Txxxxx.Jxx.Qx AKx.AQx.KTxx.KJx - 0.77887 | SQ:100.0 H8:50.0 Dx:50.0 Sx:100.0',\n",
       " 'QJTxx.xx.xx.ATxx xxxx.KQJx.ATxx.x x.Txxxx.Jxxx.Jxx AKx.Ax.KQx.KQxxx - 0.80071 | SQ:50.0 H8:50.0 Dx:50.0 Sx:100.0',\n",
       " 'QJTxx.xx.xx.ATxx Kxxx.KJxx.KT.xxx x.QTxxx.xxxxx.Jx Axx.Ax.AQJx.KQxx - 0.79101 | SQ:100.0 H8:50.0 Dx:100.0 Sx:100.0',\n",
       " 'QJTxx.xx.xx.ATxx Kxx.Kxx.Axxx.xxx xx.JTxxxx.JTx.xx Axx.AQ.KQxx.KQJx - 0.78102 | SQ:50.0 H8:-990.0 Dx:-990.0 Sx:50.0',\n",
       " 'QJTxx.xx.xx.ATxx Axxx.KQTx.QJx.xx x.Jxxx.Txxxxx.xx Kxx.Axx.AK.KQJxx - 0.88554 | SQ:50.0 H8:-990.0 Dx:50.0 Sx:50.0',\n",
       " 'QJTxx.xx.xx.ATxx Axx.Qxxx.QJxx.Jx xx.JTxxx.xxx.Qxx Kxx.AK.AKTx.Kxxx - 0.78421 | SQ:100.0 H8:50.0 Dx:50.0 Sx:100.0',\n",
       " 'QJTxx.xx.xx.ATxx xxx.Axxx.Ax.Jxxx Kx.Txxx.JTxxx.xx Axx.KQJ.KQxx.KQx - 0.77905 | SQ:200.0 H8:50.0 Dx:50.0 Sx:200.0',\n",
       " 'QJTxx.xx.xx.ATxx Axxx.Jxxx.Axx.xx xx.QTxx.JTxx.Jxx Kx.AKx.KQxx.KQxx - 0.77758 | SQ:150.0 H8:100.0 Dx:100.0 Sx:150.0']"
      ]
     },
     "execution_count": 5,
     "metadata": {},
     "output_type": "execute_result"
    }
   ],
   "source": [
    "# each row is one sample board\n",
    "# the hands are in the order: LHO, Partner, RHO. Your cards are not shown as they are fixed/\n",
    "\n",
    "lead.samples"
   ]
  }
 ],
 "metadata": {
  "kernelspec": {
   "display_name": "Python 3",
   "language": "python",
   "name": "python3"
  },
  "language_info": {
   "codemirror_mode": {
    "name": "ipython",
    "version": 3
   },
   "file_extension": ".py",
   "mimetype": "text/x-python",
   "name": "python",
   "nbconvert_exporter": "python",
   "pygments_lexer": "ipython3",
   "version": "3.12.3"
  }
 },
 "nbformat": 4,
 "nbformat_minor": 5
}
