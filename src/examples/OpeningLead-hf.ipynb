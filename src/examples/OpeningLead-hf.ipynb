{
 "cells": [
  {
   "cell_type": "markdown",
   "id": "170af530",
   "metadata": {},
   "source": [
    "# Opening Lead\n",
    "\n",
    "This is a tutorial for how to use the opening lead engine."
   ]
  },
  {
   "cell_type": "code",
   "execution_count": null,
   "id": "e299ffcc-5180-4607-b6f8-c7280208d9c6",
   "metadata": {
    "tags": []
   },
   "outputs": [],
   "source": [
    "# %pip install --upgrade tensorflow[and-cuda]\n",
    "# %pip install -q huggingface_hub"
   ]
  },
  {
   "cell_type": "code",
   "execution_count": null,
   "id": "26570686",
   "metadata": {},
   "outputs": [],
   "source": [
    "import os\n",
    "os.chdir('..')\n",
    "\n",
    "from nn.models import Models\n",
    "from bots import BotLead\n",
    "from sample import Sample\n",
    "import conf"
   ]
  },
  {
   "cell_type": "code",
   "execution_count": null,
   "id": "fe373c76",
   "metadata": {},
   "outputs": [],
   "source": [
    "import huggingface_hub\n",
    "import os\n",
    "lead_id=\"AIBridgeEngine/Ben-3B-Lead-v0.1\"\n",
    "bidding_id=\"AIBridgeEngine/Ben-3B-Bidding-v0.1\"\n",
    "biddinginfo_id=\"AIBridgeEngine/Ben-3B-Biddinginformation-v0.1\"\n",
    "singledummy_id=\"AIBridgeEngine/Ben-3B-Singledummy-v0.1\"\n",
    "folder=\"hfmodels\"\n",
    "huggingface_hub.snapshot_download(repo_id=lead_id, local_dir=folder)\n",
    "huggingface_hub.snapshot_download(repo_id=bidding_id, local_dir=folder)\n",
    "huggingface_hub.snapshot_download(repo_id=biddinginfo_id, local_dir=folder)\n",
    "huggingface_hub.snapshot_download(repo_id=singledummy_id, local_dir=folder)"
   ]
  },
  {
   "cell_type": "code",
   "execution_count": null,
   "id": "627ca134-93a3-4d36-bc4d-a1207d84cd88",
   "metadata": {
    "tags": []
   },
   "outputs": [],
   "source": [
    "from nn.leader import Leader\n",
    "from nn.bid_info import BidInfo\n",
    "from nn.bidder import Bidder\n",
    "from nn.lead_singledummy import LeadSingleDummy\n",
    "lead_suit = Leader(f'{folder}/lead-1000000')\n",
    "lead_nt = Leader(f'{folder}/lead-1000000')\n",
    "biddinginfo = BidInfo(f'{folder}/binfo-100000')\n",
    "bidder = Bidder(\"\", f'{folder}/bidding-100000')\n",
    "sd_model = LeadSingleDummy(f'{folder}/lr3-1000000')\n",
    "models = Models(bidder, biddinginfo, lead_suit, lead_nt, sd_model, None, None, 0.1, 0.05, 1.0, 0.1, False, -1, -1, False, True, False, False, 1)\n",
    "sampler = Sample(0.01, 0.1, 0.03, 0.05, 64, 10, 5000, 5000, 128, 100, 10, 500, False)"
   ]
  },
  {
   "cell_type": "code",
   "execution_count": null,
   "id": "c3397678",
   "metadata": {},
   "outputs": [],
   "source": [
    "# both vulnerable. you are sitting North as dealer and you hold\n",
    "hand = 'T54.QT87.A98.943'\n",
    "\n",
    "# the auction goes:\n",
    "auction = [\"1C\",\"1D\",\"1S\",\"2D\",\"X\",\"PASS\",\"2S\",\"PASS\",\"3C\",\"PASS\",\"3N\",\"PASS\",\"4S\",'PASS', 'PASS', 'PASS']\n",
    "\n",
    "from ddsolver import ddsolver\n",
    "dds = ddsolver.DDSolver()\n",
    "\n",
    "# what to lead?\n",
    "lead_bot = BotLead([True, True], hand, models, sampler, dds, False)\n",
    "lead = lead_bot.find_opening_lead(auction)"
   ]
  },
  {
   "cell_type": "code",
   "execution_count": null,
   "id": "a2b5fe25",
   "metadata": {},
   "outputs": [],
   "source": [
    "lead.card"
   ]
  },
  {
   "cell_type": "markdown",
   "id": "02e88396",
   "metadata": {},
   "source": [
    "seems like the engine chose to lead the ace of diamonds\n",
    "\n",
    "the other options it considered were: a small spade and a small club"
   ]
  },
  {
   "cell_type": "code",
   "execution_count": null,
   "id": "956ef356",
   "metadata": {},
   "outputs": [],
   "source": [
    "lead.to_dict()['candidates']"
   ]
  },
  {
   "cell_type": "markdown",
   "id": "97efc5a1",
   "metadata": {},
   "source": [
    "in the above output:\n",
    "- `insta_score` reflects the preference of the neural network\n",
    "- `expected_tricks` how many tricks declarer is expected to take on this lead\n",
    "- `p_make_contract` is the probability of the contract making on this lead\n",
    "\n",
    "the probability of making and the expected tricks are computed on samples which are consistent with the auction. the samples are estimated single dummy using a neural network (more on this in another tutorial). we could also solve the samples double dummy, but that would be quite a bit slower."
   ]
  },
  {
   "cell_type": "code",
   "execution_count": null,
   "id": "7cb2bf98",
   "metadata": {},
   "outputs": [],
   "source": [
    "# each row is one sample board\n",
    "# the hands are in the order: LHO, Partner, RHO. Your cards are not shown as they are fixed/\n",
    "\n",
    "lead.samples"
   ]
  }
 ],
 "metadata": {
  "kernelspec": {
   "display_name": "Python 3",
   "language": "python",
   "name": "python3"
  },
  "language_info": {
   "codemirror_mode": {
    "name": "ipython",
    "version": 3
   },
   "file_extension": ".py",
   "mimetype": "text/x-python",
   "name": "python",
   "nbconvert_exporter": "python",
   "pygments_lexer": "ipython3",
   "version": "3.12.3"
  }
 },
 "nbformat": 4,
 "nbformat_minor": 5
}
