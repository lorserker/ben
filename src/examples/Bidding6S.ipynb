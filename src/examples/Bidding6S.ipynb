{
 "cells": [
  {
   "cell_type": "markdown",
   "id": "75d07246",
   "metadata": {},
   "source": [
    "# Bidding\n",
    "\n",
    "This is a tutorial for how to use the bidding engine"
   ]
  },
  {
   "cell_type": "code",
   "execution_count": 1,
   "id": "59a5664c",
   "metadata": {},
   "outputs": [
    {
     "name": "stderr",
     "output_type": "stream",
     "text": [
      "Loading config file d:\\GitHub\\ben\\src\\./config/default.conf\n",
      "Loading config file d:\\GitHub\\ben\\src\\./config/default.conf\n"
     ]
    }
   ],
   "source": [
    "import os\n",
    "os.chdir('..')\n",
    "\n",
    "import logging\n",
    "\n",
    "# Set logging level to suppress warnings\n",
    "logging.getLogger().setLevel(logging.ERROR)\n",
    "# Just disables the warnings\n",
    "os.environ['TF_CPP_MIN_LOG_LEVEL'] = '2'\n",
    "\n",
    "from nn.models_tf2 import Models\n",
    "from botbidder import BotBid\n",
    "from util import hand_to_str\n",
    "from sample import Sample\n",
    "import conf\n",
    "import numpy as np\n",
    "\n",
    "np.set_printoptions(precision=2, suppress=True, linewidth=200)\n",
    "np.random.seed(42)\n",
    "\n",
    "models = Models.from_conf(conf.load('./config/default.conf'),'..')   # loading neural networks\n",
    "sampler = Sample.from_conf(conf.load('./config/default.conf'), False)  # Load sampling strategies\n"
   ]
  },
  {
   "cell_type": "markdown",
   "id": "10d8f2fc",
   "metadata": {},
   "source": [
    "### Running through an example"
   ]
  },
  {
   "cell_type": "code",
   "execution_count": 2,
   "id": "19dbfeb7",
   "metadata": {},
   "outputs": [
    {
     "data": {
      "text/plain": [
       "[{'call': '1S',\n",
       "  'insta_score': 1.2,\n",
       "  'alert': 'False',\n",
       "  'explanation': '5+ !S -- 6-!H; 5+!S; 11-20 HCP'}]"
      ]
     },
     "execution_count": 2,
     "metadata": {},
     "output_type": "execute_result"
    }
   ],
   "source": [
    "# East deals, EW vulnerable.\n",
    "vuln_ns, vuln_ew = False, True\n",
    "\n",
    "from ddsolver import ddsolver\n",
    "dds = ddsolver.DDSolver()\n",
    "\n",
    "# you sit West as dealer and hold:\n",
    "hand = 'Q6542.QJ7.AKT6.7'\n",
    "\n",
    "auction = [\"PAD_START\",\"PAD_START\",\"PAD_START\"]\n",
    "bot_bid = BotBid([vuln_ns, vuln_ew], hand, models, sampler, 3, 3, dds, False, False)\n",
    "\n",
    "bid = bot_bid.bid(auction)\n",
    "bid.to_dict()['candidates']\n",
    "\n",
    "# what's your bid?"
   ]
  },
  {
   "cell_type": "code",
   "execution_count": 3,
   "metadata": {},
   "outputs": [
    {
     "data": {
      "text/plain": [
       "[]"
      ]
     },
     "execution_count": 3,
     "metadata": {},
     "output_type": "execute_result"
    }
   ],
   "source": [
    "bid.samples"
   ]
  },
  {
   "cell_type": "code",
   "execution_count": 4,
   "id": "bfe98f56",
   "metadata": {},
   "outputs": [
    {
     "data": {
      "text/plain": [
       "[{'call': '3C',\n",
       "  'insta_score': 1.102,\n",
       "  'alert': 'True',\n",
       "  'explanation': 'Shortness  !C -- 1-!C; 6-!H; 5+!S; 11-20 HCP; Artificial; Forcing'},\n",
       " {'call': '4S', 'insta_score': 0.091}]"
      ]
     },
     "execution_count": 4,
     "metadata": {},
     "output_type": "execute_result"
    }
   ],
   "source": [
    "auction = [\"PAD_START\",\"PAD_START\",\"PAD_START\",\"1S\", \"PASS\", \"2N\",\"PASS\"]\n",
    "bid = bot_bid.bid(auction)\n",
    "\n",
    "bid.to_dict()['candidates']"
   ]
  },
  {
   "cell_type": "code",
   "execution_count": 5,
   "id": "55b647a5",
   "metadata": {},
   "outputs": [
    {
     "data": {
      "text/plain": [
       "['Ax.xxx.xxx.Qxxxx KJTx.AKx.QJx.Kxx xx.Txxx.xxx.AJTx Qxxxx.QJx.AKTx.x - 0.99992',\n",
       " 'Kx.Txx.Qxx.Txxxx JTxx.AKx.xxx.AQx Ax.xxxx.Jxx.KJxx Qxxxx.QJx.AKTx.x - 0.99972',\n",
       " 'JT.Txxxx.xx.Kxxx AKxx.Axx.Jxxx.AQ xx.Kx.Qxx.JTxxxx Qxxxx.QJx.AKTx.x - 0.99955',\n",
       " 'A.Txxxx.xxxx.KTx KJTx.AK.Qxxx.Axx xxx.xxx.J.QJxxxx Qxxxx.QJx.AKTx.x - 0.99943',\n",
       " 'A.xxxx.Qxxx.xxxx Txxx.AKx.Jxx.AJx KJx.Txx.xx.KQTxx Qxxxx.QJx.AKTx.x - 0.99919',\n",
       " 'Axx.x.xxxx.Kxxxx KJTx.Axx.QJx.AQx x.KTxxxx.xx.JTxx Qxxxx.QJx.AKTx.x - 0.99912',\n",
       " 'x.Kxxxx.xx.JTxxx AKJTx.Ax.Jxx.AQx xx.Txx.Qxxx.Kxxx Qxxxx.QJx.AKTx.x - 0.99895',\n",
       " 'xx.Tx.xxx.Axxxxx AKJx.Axxx.xxx.KJ Tx.Kxxx.QJx.QTxx Qxxxx.QJx.AKTx.x - 0.99895',\n",
       " 'KJ.KTxxx.xxx.Qxx ATxx.Ax.Jxxx.AJx xx.xxx.Qx.KTxxxx Qxxxx.QJx.AKTx.x - 0.99862',\n",
       " 'Jx.xx.Jxxxxx.Jxx AKTx.ATxx.Qx.AKx xx.Kxxx.x.QTxxxx Qxxxx.QJx.AKTx.x - 0.99841',\n",
       " 'x.xxx.Qxx.QJTxxx AKJTxx.AKx.xx.Ax x.Txxx.Jxxx.Kxxx Qxxxx.QJx.AKTx.x - 0.99834',\n",
       " 'Tx.xxxx.Jx.QJxxx AKxx.AK.Qxxx.AKx Jx.Txxx.xxx.Txxx Qxxxx.QJx.AKTx.x - 0.99820',\n",
       " 'x.Kxx.xxx.QJTxxx AKJxxx.Axx.Jx.Ax T.Txxx.Qxxx.Kxxx Qxxxx.QJx.AKTx.x - 0.99796',\n",
       " 'xxx.xxxx.xx.AQxx AKTx.AK.Jxxxx.Kx J.Txxx.Qx.JTxxxx Qxxxx.QJx.AKTx.x - 0.99792',\n",
       " 'Kxx.xxxx.xx.QJxx AJTx.Kx.xxx.AKxx x.ATxx.QJxx.Txxx Qxxxx.QJx.AKTx.x - 0.99724',\n",
       " 'Jx.ATxxx.Jx.Txxx AKxx.Kx.Qxx.KQJx Tx.xxx.xxxx.Axxx Qxxxx.QJx.AKTx.x - 0.99722',\n",
       " 'x.Txxxx.Jxx.KJxx KJTx.Kx.Qxx.AQTx Axx.Axx.xxx.xxxx Qxxxx.QJx.AKTx.x - 0.99716',\n",
       " 'Jx.Txxx.Qxxx.Jxx AKTx.AKx.Jx.KQxx xx.xxx.xxx.ATxxx Qxxxx.QJx.AKTx.x - 0.99706',\n",
       " 'x.Axxx.xx.Jxxxxx AKJT.Kx.Jxx.ATxx xxx.Txxx.Qxxx.KQ Qxxxx.QJx.AKTx.x - 0.99696',\n",
       " 'KJ.Txxxx.xxx.Qxx ATxx.xx.QJxx.AKx xx.AKx.xx.JTxxxx Qxxxx.QJx.AKTx.x - 0.99690']"
      ]
     },
     "execution_count": 5,
     "metadata": {},
     "output_type": "execute_result"
    }
   ],
   "source": [
    "bid.samples"
   ]
  },
  {
   "cell_type": "code",
   "execution_count": 6,
   "id": "7101e514",
   "metadata": {},
   "outputs": [
    {
     "name": "stderr",
     "output_type": "stream",
     "text": [
      "Quality 0.18 to low for auction ['PAD_START', 'PAD_START', 'PAD_START', '1S', 'PASS', '2N', 'PASS', '3C', 'X', 'PASS', 'PASS'] - Samplings: 30000 max 30000\n",
      "Skipping their doubles\n"
     ]
    },
    {
     "data": {
      "text/plain": [
       "[{'call': '3S',\n",
       "  'insta_score': 0.368,\n",
       "  'adjustment': 2.94,\n",
       "  'expected_score': 456,\n",
       "  'expected_imp': 4.09,\n",
       "  'expected_tricks': 9.9},\n",
       " {'call': '3D',\n",
       "  'insta_score': 0.293,\n",
       "  'adjustment': 2.34,\n",
       "  'expected_score': 456,\n",
       "  'expected_imp': 4.09,\n",
       "  'expected_tricks': 9.9},\n",
       " {'call': '4S',\n",
       "  'insta_score': 0.2,\n",
       "  'adjustment': 1.6,\n",
       "  'expected_score': 456,\n",
       "  'expected_imp': 4.09,\n",
       "  'expected_tricks': 9.9,\n",
       "  'alert': 'False',\n",
       "  'who': 'BBA',\n",
       "  'explanation': 'Nat. -- 1-!C; 6-!H; 5+!S; 11-12 HCP'},\n",
       " {'call': '4D',\n",
       "  'insta_score': 0.06,\n",
       "  'adjustment': -3.52,\n",
       "  'expected_score': 364,\n",
       "  'expected_imp': 2.56,\n",
       "  'expected_tricks': 9.9},\n",
       " {'call': '3H',\n",
       "  'insta_score': 0.077,\n",
       "  'adjustment': -3.38,\n",
       "  'expected_score': 317,\n",
       "  'expected_imp': 2.31,\n",
       "  'expected_tricks': 9.0},\n",
       " {'call': 'PASS',\n",
       "  'insta_score': 0.127,\n",
       "  'adjustment': 1.02,\n",
       "  'expected_score': -1233,\n",
       "  'expected_imp': -17.13,\n",
       "  'expected_tricks': 4.6}]"
      ]
     },
     "execution_count": 6,
     "metadata": {},
     "output_type": "execute_result"
    }
   ],
   "source": [
    "auction = [\"PAD_START\",\"PAD_START\",\"PAD_START\", \"1S\", \"PASS\", \"2N\", \"PASS\",\"3C\",\"X\",\"PASS\",\"PASS\"]\n",
    "bid = bot_bid.bid(auction)\n",
    "\n",
    "bid.to_dict()['candidates']"
   ]
  },
  {
   "cell_type": "code",
   "execution_count": 7,
   "metadata": {},
   "outputs": [
    {
     "data": {
      "text/plain": [
       "['Jx.xx.xxx.KQJxxx ATxx.KTx.QJx.Txx Kx.Axxxx.xxx.Axx Qxxxx.QJx.AKTx.x - 0.32654 | 1S-P-2N-P-3C-X-P-P-3S-P-4S-P-P-P (10) | 1S-P-2N-P-3C-X-P-P-3D-P-4S-P-P-P (10) | 1S-P-2N-P-3C-X-P-P-P (5) | 1S-P-2N-P-3C-X-P-P-3H-P-4S-P-P-P (10) | 1S-P-2N-P-3C-X-P-P-4D-P-4S-P-P-P (10) | 1S-P-2N-P-3C-X-P-P-4S-P-P-P (10)',\n",
       " 'xx.Axx.xxx.KJTxx KTxx.Kxx.Qxx.Qxx AJ.Txxx.Jxx.Axxx Qxxxx.QJx.AKTx.x - 0.28264 | 1S-P-2N-P-3C-X-P-P-3S-P-4S-P-P-P (10) | 1S-P-2N-P-3C-X-P-P-3D-P-4S-P-P-P (10) | 1S-P-2N-P-3C-X-P-P-P (6) | 1S-P-2N-P-3C-X-P-P-3H-P-4S-P-P-P (10) | 1S-P-2N-P-3C-X-P-P-4D-P-4S-P-P-P (10) | 1S-P-2N-P-3C-X-P-P-4S-P-P-P (10)',\n",
       " 'xx.Axx.xxx.AKxxx KJxx.Kxx.QJx.Txx AT.Txxx.xxx.QJxx Qxxxx.QJx.AKTx.x - 0.26628 | 1S-P-2N-P-3C-X-P-P-3S-P-4S-P-P-P (10) | 1S-P-2N-P-3C-X-P-P-3D-P-4S-P-P-P (10) | 1S-P-2N-P-3C-X-P-P-P (6) | 1S-P-2N-P-3C-X-P-P-3H-P-4S-P-P-P (10) | 1S-P-2N-P-3C-X-P-P-4D-P-4S-P-P-P (10) | 1S-P-2N-P-3C-X-P-P-4S-P-P-P (10)',\n",
       " 'A.xxx.Qxx.QJxxxx Kxxx.Kxx.Jxx.Kxx JTx.ATxx.xxx.ATx Qxxxx.QJx.AKTx.x - 0.15424 | 1S-P-2N-P-3C-X-P-P-3S-P-4S-P-P-P (9) | 1S-P-2N-P-3C-X-P-P-3D-P-4S-P-P-P (9) | 1S-P-2N-P-3C-X-P-P-P (4) | 1S-P-2N-P-3C-X-P-P-3H-P-4S-P-P-P (9) | 1S-P-2N-P-3C-X-P-P-4D-P-4S-P-P-P (9) | 1S-P-2N-P-3C-X-P-P-4S-P-P-P (9)',\n",
       " 'x.Axx.Jxxx.AQxxx AJxx.KTx.Qxx.xxx KTx.xxxx.xx.KJTx Qxxxx.QJx.AKTx.x - 0.14156 | 1S-P-2N-P-3C-X-P-P-3S-P-4S-P-P-P (10) | 1S-P-2N-P-3C-X-P-P-3D-P-4S-P-P-P (10) | 1S-P-2N-P-3C-X-P-P-P (4) | 1S-P-2N-P-3C-X-P-P-3H-P-4S-P-P-P (10) | 1S-P-2N-P-3C-X-P-P-4D-P-4S-P-P-P (10) | 1S-P-2N-P-3C-X-P-P-4S-P-P-P (10)',\n",
       " 'JT.xx.xx.AKQJxxx AKxx.Kxx.xxx.Txx xx.ATxxx.QJxx.xx Qxxxx.QJx.AKTx.x - 0.13154 | 1S-P-2N-P-3C-X-P-P-3S-P-4S-P-P-P (11) | 1S-P-2N-P-3C-X-P-P-3D-P-4S-P-P-P (11) | 1S-P-2N-P-3C-X-P-P-P (5) | 1S-P-2N-P-3C-X-P-P-3H-P-4S-P-P-P (11) | 1S-P-2N-P-3C-X-P-P-4D-P-4S-P-P-P (11) | 1S-P-2N-P-3C-X-P-P-4S-P-P-P (11)',\n",
       " 'x.ATx.Jxxx.AQxxx AKJTxxx.x.xx.Txx .Kxxxxx.Qxx.KJxx Qxxxx.QJx.AKTx.x - 0.10677 | 1S-P-2N-P-3C-X-P-P-3S-P-4N-P-5D-P-5S-P-P-P (11) | 1S-P-2N-P-3C-X-P-P-3D-P-4S-P-P-P (11) | 1S-P-2N-P-3C-X-P-P-P (3) | 1S-P-2N-P-3C-X-P-P-3H-P-P-P (3) | 1S-P-2N-P-3C-X-P-P-4D-P-4S-P-P-P (11) | 1S-P-2N-P-3C-X-P-P-4S-P-P-P (11)',\n",
       " 'x.x.xxx.KJTxxxxx Jxxx.ATxxx.x.Axx AKT.Kxxx.QJxxx.Q Qxxxx.QJx.AKTx.x - 0.09337 | 1S-P-2N-P-3C-X-P-P-3S-P-4S-P-P-P (10) | 1S-P-2N-P-3C-X-P-P-3D-P-4S-P-P-P (10) | 1S-P-2N-P-3C-X-P-P-P (4) | 1S-P-2N-P-3C-X-P-P-3H-P-4S-P-P-P (10) | 1S-P-2N-P-3C-X-P-P-4D-P-4N-P-5D-P-5S-X-P-P-P (10) | 1S-P-2N-P-3C-X-P-P-4S-P-P-P (10)',\n",
       " 'JT.x.Jxx.KQTxxxx AKxx.Kxx.xxx.xxx xx.ATxxxx.Qxx.AJ Qxxxx.QJx.AKTx.x - 0.08441 | 1S-P-2N-P-3C-X-P-P-3S-P-4S-P-P-P (8) | 1S-P-2N-P-3C-X-P-P-3D-P-4S-P-P-P (8) | 1S-P-2N-P-3C-X-P-P-P (4) | 1S-P-2N-P-3C-X-P-P-3H-P-4S-P-P-P (8) | 1S-P-2N-P-3C-X-P-P-4D-P-4S-P-P-P (8) | 1S-P-2N-P-3C-X-P-P-4S-P-P-P (8)']"
      ]
     },
     "execution_count": 7,
     "metadata": {},
     "output_type": "execute_result"
    }
   ],
   "source": [
    "bid.samples"
   ]
  },
  {
   "cell_type": "code",
   "execution_count": 8,
   "metadata": {},
   "outputs": [
    {
     "name": "stderr",
     "output_type": "stream",
     "text": [
      "Quality 0.13 to low for auction ['PAD_START', 'PAD_START', 'PAD_START', '1S', 'PASS', '2N', 'PASS', '3C', 'X', 'PASS', 'PASS', '4S', 'PASS', 'PASS', '5C'] - Samplings: 48000 max 45000\n",
      "Skipping their doubles\n",
      "Could not update auction ['PAD_START', 'PAD_START', 'PAD_START', '1S', 'PASS', '2N', 'PASS', '3C', 'X', 'PASS', 'PASS', '4S', 'PASS', 'PASS', '5C']\n"
     ]
    },
    {
     "data": {
      "text/plain": [
       "[{'call': 'X',\n",
       "  'insta_score': 0.886,\n",
       "  'adjustment': 0.13,\n",
       "  'expected_score': 400,\n",
       "  'expected_imp': 0.63,\n",
       "  'expected_tricks': 8.5,\n",
       "  'alert': 'False',\n",
       "  'explanation': 'Penalty -- 1=!C; 6-!H; 5+!S; 11-12 HCP'},\n",
       " {'call': 'PASS',\n",
       "  'insta_score': 0.298,\n",
       "  'adjustment': 0.71,\n",
       "  'expected_score': 371,\n",
       "  'expected_imp': -0.63,\n",
       "  'expected_tricks': 8.7}]"
      ]
     },
     "execution_count": 8,
     "metadata": {},
     "output_type": "execute_result"
    }
   ],
   "source": [
    "auction = [\"PAD_START\",\"PAD_START\",\"PAD_START\", \"1S\", \"PASS\", \"2N\", \"PASS\",\"3C\",\"X\",\"PASS\",\"PASS\",\"4S\",\"PASS\",\"PASS\",\"5C\"]\n",
    "bid = bot_bid.bid(auction)\n",
    "\n",
    "bid.to_dict()['candidates']"
   ]
  },
  {
   "cell_type": "code",
   "execution_count": 9,
   "metadata": {},
   "outputs": [
    {
     "data": {
      "text/plain": [
       "['Jx.xxx.Jx.AKJxxx AKTx.Txx.Qxxxx.x xx.AKxx.xx.QTxxx Qxxxx.QJx.AKTx.x - 0.28958 | 1S-P-2N-P-3C-X-P-P-4S-P-P-5C-X-P-P-P (8) | 1S-P-2N-P-3C-X-P-P-4S-P-P-5C-P-P-X-P-P-P (8)',\n",
       " 'Tx.xxx.xx.AKQTxx KJxx.Kxx.QJx.xxx Ax.ATxx.xxxx.Jxx Qxxxx.QJx.AKTx.x - 0.25258 | 1S-P-2N-P-3C-X-P-P-4S-P-P-5C-X-P-P-P (8) | 1S-P-2N-P-3C-X-P-P-4S-P-P-5C-P-P-X-P-P-P (8)',\n",
       " 'x.xxx.Qxx.AQJxxx AKTx.Kxx.xxx.Txx Jxx.ATxx.Jxx.Kxx Qxxxx.QJx.AKTx.x - 0.24308 | 1S-P-2N-P-3C-X-P-P-4S-P-P-5C-X-P-P-P (8) | 1S-P-2N-P-3C-X-P-P-4S-P-P-5C-P-P-X-P-P-P (8)',\n",
       " 'K.xx.Jxxx.KJxxxx AJTxxx.Kxxxx.x.x x.ATx.Qxxx.AQTxx Qxxxx.QJx.AKTx.x - 0.22078 | 1S-P-2N-P-3C-X-P-P-4S-P-P-5C-X-P-P-P (8) | 1S-P-2N-P-3C-X-P-P-4S-P-P-5C-P-P-5S-P-P-P (11)',\n",
       " 'x.Axx.xxx.KQxxxx KJTx.KTx.Qxx.JTx Axx.xxxx.Jxx.Axx Qxxxx.QJx.AKTx.x - 0.21081 | 1S-P-2N-P-3C-X-P-P-4S-P-P-5C-X-P-P-P (8) | 1S-P-2N-P-3C-X-P-P-4S-P-P-5C-P-P-X-P-P-P (8)',\n",
       " 'x.xxx.xxxx.AKxxx AJxx.Kxx.Jxx.JTx KTx.ATxx.Qx.Qxxx Qxxxx.QJx.AKTx.x - 0.21081 | 1S-P-2N-P-3C-X-P-P-4S-P-P-5C-X-P-P-P (8) | 1S-P-2N-P-3C-X-P-P-4S-P-P-5C-P-P-X-P-P-P (8)',\n",
       " 'Axx.x.xxx.AJxxxx KJTx.Kxx.xxx.KTx x.ATxxxx.QJx.Qxx Qxxxx.QJx.AKTx.x - 0.19516 | 1S-P-2N-P-3C-X-P-P-4S-P-P-5C-X-P-P-P (9) | 1S-P-2N-P-3C-X-P-P-4S-P-P-5C-P-P-X-P-P-P (9)',\n",
       " 'xx.Txx.QJx.AJTxx AKTx.Kxx.xxx.xxx Jx.Axxx.xxx.KQxx Qxxxx.QJx.AKTx.x - 0.19072 | 1S-P-2N-P-3C-X-P-P-4S-P-P-5C-X-P-P-P (7) | 1S-P-2N-P-3C-X-P-P-4S-P-P-5C-P-P-X-P-P-P (7)',\n",
       " 'xx.xx.Qxxx.AQxxx AJxx.Kxx.Jxx.JTx KT.ATxxx.xx.Kxxx Qxxxx.QJx.AKTx.x - 0.15765 | 1S-P-2N-P-3C-X-P-P-4S-P-P-5C-X-P-P-P (9) | 1S-P-2N-P-3C-X-P-P-4S-P-P-5C-P-P-X-P-P-P (9)',\n",
       " 'T.Ax.QJxx.QJTxxx AJxxx.KTxxxx..xx Kx.xx.xxxxx.AKxx Qxxxx.QJx.AKTx.x - 0.15287 | 1S-P-2N-P-3C-X-P-P-4S-P-P-5C-X-P-5S-P-P-P (10) | 1S-P-2N-P-3C-X-P-P-4S-P-P-5C-P-P-5S-P-P-P (10)',\n",
       " 'Kx.Axxx.xx.QJTxx AJxx.KTx.Qxx.xxx Tx.xxx.Jxxx.AKxx Qxxxx.QJx.AKTx.x - 0.07138 | 1S-P-2N-P-3C-X-P-P-4S-P-P-5C-X-P-P-P (7) | 1S-P-2N-P-3C-X-P-P-4S-P-P-5C-P-P-X-P-P-P (7)',\n",
       " 'KTx.xx.Jxx.Axxxx Axxx.Txx.Qxx.KJT J.AKxxx.xxx.Qxxx Qxxxx.QJx.AKTx.x - 0.04774 | 1S-P-2N-P-3C-X-P-P-4S-P-P-5C-X-P-P-P (8) | 1S-P-2N-P-3C-X-P-P-4S-P-P-5C-P-P-X-P-P-P (8)',\n",
       " 'Tx.Axxxx.x.AJTxx Kxxx.Txx.Qxx.KQx AJ.Kx.Jxxxx.xxxx Qxxxx.QJx.AKTx.x - 0.04374 | 1S-P-2N-P-3C-X-P-P-4S-P-P-5C-X-P-P-P (10) | 1S-P-2N-P-3C-X-P-P-4S-P-P-5C-P-P-X-P-P-P (10)',\n",
       " '.Kx.xxxxx.QJTxxx AKJxx.Txxxx..xxx Txx.Axx.QJxx.AKx Qxxxx.QJx.AKTx.x - 0.04304 | 1S-P-2N-P-3C-X-P-P-4S-P-P-5C-X-P-P-P (9) | 1S-P-2N-P-3C-X-P-P-4S-P-P-5C-P-P-5S-X-P-P-P (10)',\n",
       " 'J.xxx.xx.AKTxxxx AKxx.xxx.Qxxxx.x Txx.AKTx.Jx.QJxx Qxxxx.QJx.AKTx.x - 0.02932 | 1S-P-2N-P-3C-X-P-P-4S-P-P-5C-X-P-P-P (9) | 1S-P-2N-P-3C-X-P-P-4S-P-P-5C-P-P-X-P-P-P (9)',\n",
       " 'Ax.Axx.xxx.JTxxx KJxx.Kxx.Jxx.Qxx Tx.Txxx.Qxx.AKxx Qxxxx.QJx.AKTx.x - 0.02790 | 1S-P-2N-P-3C-X-P-P-4S-P-P-5C-X-P-P-P (7) | 1S-P-2N-P-3C-X-P-P-4S-P-P-5C-P-P-X-P-P-P (7)',\n",
       " 'x.xxx.Jxxx.ATxxx AJxx.KTx.Qxx.xxx KTx.Axxx.xx.KQJx Qxxxx.QJx.AKTx.x - 0.02498 | 1S-P-2N-P-3C-X-P-P-4S-P-P-5C-X-P-P-P (8) | 1S-P-2N-P-3C-X-P-P-4S-P-P-5C-P-P-X-P-P-P (8)',\n",
       " 'x.KTx.Jxx.AKQTxx AKJTxxx.x.xxx.xx .Axxxxx.Qxx.Jxxx Qxxxx.QJx.AKTx.x - 0.01889 | 1S-P-2N-P-3C-X-P-P-4S-P-P-5C-X-P-P-P (10) | 1S-P-2N-P-3C-X-P-P-4S-P-P-5C-P-P-5S-P-P-P (10)',\n",
       " '.KTx.xxx.AQJTxxx AKJTxxxx.xx.x.xx .Axxxx.QJxxx.Kxx Qxxxx.QJx.AKTx.x - 0.01493 | 1S-P-2N-P-3C-X-P-P-4S-P-P-5C-X-P-5S-P-P-P (10) | 1S-P-2N-P-3C-X-P-P-4S-P-P-5C-P-P-5S-P-P-P (10)']"
      ]
     },
     "execution_count": 9,
     "metadata": {},
     "output_type": "execute_result"
    }
   ],
   "source": [
    "bid.samples"
   ]
  },
  {
   "cell_type": "code",
   "execution_count": 10,
   "metadata": {},
   "outputs": [
    {
     "name": "stderr",
     "output_type": "stream",
     "text": [
      "Quality 0.11 to low for auction ['PAD_START', 'PAD_START', 'PAD_START', '1S', 'PASS', '2N', 'PASS', '3C', 'X', 'PASS', 'PASS', '4S', 'PASS', 'PASS', '5C', 'X', 'PASS', '5S', 'PASS'] - Samplings: 48000 max 45000\n",
      "Skipping their doubles\n",
      "Could not update auction ['PAD_START', 'PAD_START', 'PAD_START', '1S', 'PASS', '2N', 'PASS', '3C', 'X', 'PASS', 'PASS', '4S', 'PASS', 'PASS', '5C', 'X', 'PASS', '5S', 'PASS']\n"
     ]
    },
    {
     "data": {
      "text/plain": [
       "[{'call': 'PASS',\n",
       "  'insta_score': 1.196,\n",
       "  'alert': 'False',\n",
       "  'explanation': ' -- 1=!C; 6-!H; 5+!S; 11-12 HCP'}]"
      ]
     },
     "execution_count": 10,
     "metadata": {},
     "output_type": "execute_result"
    }
   ],
   "source": [
    "auction = [\"PAD_START\",\"PAD_START\",\"PAD_START\",\"1S\", \"PASS\", \"2N\", \"PASS\",\"3C\",\"X\",\"PASS\",\"PASS\",\"4S\",\"PASS\",\"PASS\",\"5C\",\"X\",\"PASS\",\"5S\",\"PASS\"]\n",
    "bid = bot_bid.bid(auction)\n",
    "\n",
    "bid.to_dict()['candidates']"
   ]
  },
  {
   "cell_type": "code",
   "execution_count": 11,
   "metadata": {},
   "outputs": [
    {
     "data": {
      "text/plain": [
       "['Jx.Axxx.x.AJTxxx AKTx.xxx.Qxxxx.x xx.KTx.Jxx.KQxxx Qxxxx.QJx.AKTx.x - 0.25390',\n",
       " 'Jx.Txx.Jxx.AKTxx AKxx.Kxx.xxx.xxx Tx.Axxx.Qxx.QJxx Qxxxx.QJx.AKTx.x - 0.25105',\n",
       " 'x.xx.Qxxx.AQJxxx AJxxx.KTxxxx..Tx KT.Ax.Jxxxx.Kxxx Qxxxx.QJx.AKTx.x - 0.24740',\n",
       " 'K.Txx.xxxx.AQxxx AJTxx.Kxxxxx.x.T xx.A.QJxx.KJxxxx Qxxxx.QJx.AKTx.x - 0.23758',\n",
       " 'x.Axx.Jxxx.ATxxx AJTxx.KTxxxx.x.x Kx.x.Qxxx.KQJxxx Qxxxx.QJx.AKTx.x - 0.17384',\n",
       " 'xx.ATx.xxx.AKTxx AKTx.Kxx.xxx.xxx Jx.xxxx.QJx.QJxx Qxxxx.QJx.AKTx.x - 0.14259',\n",
       " 'Jx.Ax.Qxxx.Kxxxx AKTxxx.Txxxxx..T .Kx.Jxxxx.AQJxxx Qxxxx.QJx.AKTx.x - 0.12240',\n",
       " 'K.xx.QJxxxx.AKxx JTxxx.AKTxxxx..x Ax.x.xxx.QJTxxxx Qxxxx.QJx.AKTx.x - 0.09965',\n",
       " 'Ax.K.Qxxx.Kxxxxx KJTxxx.Axxxxx.x. .Txx.Jxxx.AQJTxx Qxxxx.QJx.AKTx.x - 0.09151',\n",
       " 'Jx.x.QJxx.AKQTxx KTxxx.ATxxxxx.x. A.Kx.xxxx.Jxxxxx Qxxxx.QJx.AKTx.x - 0.08269',\n",
       " 'x.AK.Jxxx.Txxxxx AKJTxx.xxxxxx..x x.Tx.Qxxxx.AKQJx Qxxxx.QJx.AKTx.x - 0.07874',\n",
       " 'Ax.xxx.Jxx.KTxxx Kxxx.Kxx.Qxx.Qxx JT.ATxx.xxx.AJxx Qxxxx.QJx.AKTx.x - 0.06470',\n",
       " 'Tx.Ax.xxx.AKJxxx AKJxxx.Txxxx.x.x .Kxx.QJxxx.QTxxx Qxxxx.QJx.AKTx.x - 0.05973',\n",
       " '.Txx.xxx.KJTxxxx AKJTxxxx.xx.xx.x .AKxxx.QJxx.AQxx Qxxxx.QJx.AKTx.x - 0.05739',\n",
       " 'K.Ax.xxxx.AQTxxx JTxxx.KTxxxx.J.K Ax.xx.Qxxx.Jxxxx Qxxxx.QJx.AKTx.x - 0.05317',\n",
       " 'Ax.Ax.Jxxx.KTxxx KJxx.Kxx.Qxx.Jxx Tx.Txxxx.xx.AQxx Qxxxx.QJx.AKTx.x - 0.04308',\n",
       " '.Ax.QJxxx.Txxxxx KTxxx.Txxxxx..AJ AJx.Kx.xxxx.KQxx Qxxxx.QJx.AKTx.x - 0.03813',\n",
       " 'KT.Kxx.Qxx.QJxxx Jxxx.ATxxx.x.Axx Ax.xx.Jxxxx.KTxx Qxxxx.QJx.AKTx.x - 0.03752',\n",
       " 'KT.Txx.xxx.Axxxx Axxx.Kxx.Jxx.QTx Jx.Axxx.Qxx.KJxx Qxxxx.QJx.AKTx.x - 0.03225',\n",
       " 'Kxx.xx.Jxx.AKQTx AJTx.KTx.Qxx.xxx x.Axxxx.xxx.Jxxx Qxxxx.QJx.AKTx.x - 0.02290']"
      ]
     },
     "execution_count": 11,
     "metadata": {},
     "output_type": "execute_result"
    }
   ],
   "source": [
    "bid.samples"
   ]
  }
 ],
 "metadata": {
  "kernelspec": {
   "display_name": "Python 3",
   "language": "python",
   "name": "python3"
  },
  "language_info": {
   "codemirror_mode": {
    "name": "ipython",
    "version": 3
   },
   "file_extension": ".py",
   "mimetype": "text/x-python",
   "name": "python",
   "nbconvert_exporter": "python",
   "pygments_lexer": "ipython3",
   "version": "3.12.3"
  }
 },
 "nbformat": 4,
 "nbformat_minor": 5
}
