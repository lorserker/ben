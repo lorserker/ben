{
 "cells": [
  {
   "cell_type": "markdown",
   "id": "75d07246",
   "metadata": {},
   "source": [
    "# Bidding\n",
    "\n",
    "This is a tutorial for how to use the bidding engine"
   ]
  },
  {
   "cell_type": "code",
   "execution_count": 1,
   "id": "59a5664c",
   "metadata": {},
   "outputs": [
    {
     "name": "stdout",
     "output_type": "stream",
     "text": [
      "WARNING:tensorflow:From c:\\Python311\\Lib\\site-packages\\tensorflow\\python\\compat\\v2_compat.py:107: disable_resource_variables (from tensorflow.python.ops.variable_scope) is deprecated and will be removed in a future version.\n",
      "Instructions for updating:\n",
      "non-resource variables are not supported in the long term\n",
      "INFO:tensorflow:Restoring parameters from ..\\Models/NS1EW99-bidding_same-5556000\n",
      "INFO:tensorflow:Restoring parameters from ..\\Models/NS1EW99-binfo_same-5556000\n",
      "INFO:tensorflow:Restoring parameters from ..\\Models/lead_suit-999000\n",
      "INFO:tensorflow:Restoring parameters from ..\\Models/lead_nt-475000\n",
      "INFO:tensorflow:Restoring parameters from ..\\Models/Jack/lr3-1000000\n",
      "INFO:tensorflow:Restoring parameters from ..\\Models/single_dummy-32768000\n",
      "INFO:tensorflow:Restoring parameters from ..\\Models/jack/lefty-1000000\n",
      "INFO:tensorflow:Restoring parameters from ..\\Models/jack/dummy-920000\n",
      "INFO:tensorflow:Restoring parameters from ..\\Models/jack/righty-1000000\n",
      "INFO:tensorflow:Restoring parameters from ..\\Models/jack/decl-1000000\n",
      "INFO:tensorflow:Restoring parameters from ..\\Models/jack/lefty-1000000\n",
      "INFO:tensorflow:Restoring parameters from ..\\Models/jack/dummy-920000\n",
      "INFO:tensorflow:Restoring parameters from ..\\Models/jack/righty-1000000\n",
      "INFO:tensorflow:Restoring parameters from ..\\Models/jack/decl-1000000\n"
     ]
    }
   ],
   "source": [
    "import sys\n",
    "import os\n",
    "sys.path.append('../../src')\n",
    "os.environ['BEN_HOME'] = \"../..\"\n",
    "\n",
    "from nn.models import Models\n",
    "from bots import BotBid\n",
    "from util import hand_to_str\n",
    "from sample import Sample\n",
    "import conf\n",
    "import numpy as np\n",
    "\n",
    "np.set_printoptions(precision=2, suppress=True, linewidth=200)\n",
    "np.random.seed(42)\n",
    "\n",
    "models = Models.from_conf(conf.load('../UCBC 2024/Conf/UCBC2024.conf'),'..')   # loading neural networks\n",
    "sampler = Sample.from_conf(conf.load('../UCBC 2024/Conf/UCBC2024.conf'), False)  # Load sampling strategies\n"
   ]
  },
  {
   "cell_type": "markdown",
   "id": "10d8f2fc",
   "metadata": {},
   "source": [
    "### Running through an example"
   ]
  },
  {
   "cell_type": "code",
   "execution_count": null,
   "id": "19dbfeb7",
   "metadata": {},
   "outputs": [
    {
     "name": "stderr",
     "output_type": "stream",
     "text": [
      "Loaded lib dds.dll\n"
     ]
    }
   ],
   "source": [
    "# EW vulnerable.\n",
    "vuln_ns, vuln_ew = False, True\n",
    "from ddsolver import ddsolver\n",
    "dds = ddsolver.DDSolver()\n",
    "\n",
    "# you sit North and hold:\n",
    "hand = 'QT5.T8.KQT87.864'\n",
    "bot_bid = BotBid([vuln_ns, vuln_ew], hand, models, sampler, 0, 3, dds, False)\n",
    "\n",
    "# the auction goes:\n",
    "auction = [\"PAD_START\",\"PAD_START\",\"PAD_START\",\"PASS\"]\n",
    "bid = bot_bid.bid(auction)\n",
    "\n",
    "auction = [\"PAD_START\",\"PAD_START\",\"PAD_START\",\"PASS\", \"PASS\", \"1N\", \"2C\", \"PASS\"]\n",
    "# what's your bid?\n",
    "bid = bot_bid.bid(auction)\n"
   ]
  },
  {
   "cell_type": "code",
   "execution_count": 3,
   "id": "55b647a5",
   "metadata": {},
   "outputs": [
    {
     "data": {
      "text/plain": [
       "['QTx.T8.KQT8x.8xx AKxx.AKQx.J9x.xx xxx.J9x.Ax.AKQT9 J98.xxxx.xxx.Jxx 0.88559 \\n P-P-1N-2C-P-2S-P-P-P (6, 6.0, 7.0)  \\n P-P-1N-2C-P-P-P (9, 8.3, 8.5)  \\n P-P-1N-2C-P-2H-P-P-P (6, 5.5, 7.2) ',\n",
       " 'QTx.T8.KQT8x.8xx AKxx.Qxxx.Ax.AT9 Jxx.AK9.9x.KQJxx 98x.Jxxx.Jxxx.xx 0.86874 \\n P-P-1N-2C-P-2S-P-P-P (6, 6.7, 7.8)  \\n P-P-1N-2C-P-P-P (9, 8.3, 8.1)  \\n P-P-1N-2C-P-2H-P-P-P (5, 5.5, 7.6) ',\n",
       " 'QTx.T8.KQT8x.8xx KJx.Axx.Axx.KQTx A98xx.KQ9xx.x.J9 xx.Jxx.J9xx.Axxx 0.86392 \\n P-P-1N-2C-P-2S-P-P-P (7, 7.9, 7.9)  \\n P-P-1N-2C-P-P-P (4, 4.3, 5.6)  \\n P-P-1N-2C-P-2H-P-P-P (6, 6.8, 7.5) ',\n",
       " 'QTx.T8.KQT8x.8xx Axx.AKJx.AJ9x.xx K98.9xx.xx.AKQ9x Jxxx.Qxxx.xx.JTx 0.85282 \\n P-P-1N-2C-P-2S-P-P-P (6, 5.5, 6.3)  \\n P-P-1N-2C-P-P-X-P-2H-P-P-P (8, 8.4, 8.7)  \\n P-P-1N-2C-P-2H-P-P-P (5, 4.7, 6.2) ',\n",
       " 'QTx.T8.KQT8x.8xx xxx.AQx.AJ9x.KJx AKJxx.KJxxx.x.Qx 98.9xx.xxx.AT9xx 0.82567 \\n P-P-1N-2C-P-2S-P-P-P (9, 8.8, 8.6)  \\n P-P-1N-2C-P-P-P (4, 4.6, 6.5)  \\n P-P-1N-2C-P-2H-P-P-P (8, 7.6, 7.7) ',\n",
       " 'QTx.T8.KQT8x.8xx Kx.KJx.Axxx.KJ9x A8xxx.Qxxxx.9.AQ J9x.A9x.Jxx.Txxx 0.82168 \\n P-P-1N-2C-P-2S-P-P-P (9, 8.3, 8.4)  \\n P-P-1N-2C-P-P-P (6, 5.2, 6.3)  \\n P-P-1N-2C-P-2H-P-P-P (8, 7.1, 7.3) ',\n",
       " 'QTx.T8.KQT8x.8xx A8xx.AQxx.Ax.KTx Kx.K9x.xxx.AQJxx J9xx.Jxxx.J9x.9x 0.81877 \\n P-P-1N-2C-P-2S-P-P-P (6, 6.1, 7.2)  \\n P-P-1N-2C-P-P-P (9, 9.0, 8.3)  \\n P-P-1N-2C-P-2H-P-P-P (6, 6.1, 7.1) ',\n",
       " 'QTx.T8.KQT8x.8xx Axx.AKxx.Axxx.Qx K9x.Qxxx..AKT9xx J8xx.J9x.J9xx.Jx 0.79080 \\n P-P-1N-2C-P-2S-P-P-P (7, 6.7, 7.3)  \\n P-P-1N-2C-P-P-X-P-2S-P-P-3C-P-P-P (10, 9.5, 9.1)  \\n P-P-1N-2C-P-2H-P-3H-P-P-P (8, 7.0, 7.8) ',\n",
       " 'QTx.T8.KQT8x.8xx Jxx.AKJx.Axx.ATx AK9.9xx.J.KQJxxx 8xxx.Qxxx.9xxx.9 0.78557 \\n P-P-1N-2C-P-2S-P-3S-P-P-P (6, 6.0, 7.3)  \\n P-P-1N-2C-P-P-P (9, 9.1, 8.9)  \\n P-P-1N-2C-P-2H-P-3C-P-P-P (9, 9.1, 8.9) ',\n",
       " 'QTx.T8.KQT8x.8xx A9xx.KQJx.Axx.Kx KJx.A9xx.x.ATxxx 8xx.xxx.J9xx.QJ9 0.76851 \\n P-P-1N-2C-P-2S-P-P-P (6, 6.3, 7.5)  \\n P-P-1N-2C-P-P-P (8, 7.7, 7.7)  \\n P-P-1N-2C-P-2H-P-P-P (7, 6.0, 7.2) ',\n",
       " 'QTx.T8.KQT8x.8xx 9xxx.AKQx.Axx.QT AJ8.Jxxx.x.AK9xx Kxx.9xx.J9xx.Jxx 0.75998 \\n P-P-1N-2C-P-2S-P-P-P (6, 6.4, 7.3)  \\n P-P-1N-2C-P-P-P (8, 8.3, 7.7)  \\n P-P-1N-2C-P-2H-P-P-P (6, 6.1, 7.1) ',\n",
       " 'QTx.T8.KQT8x.8xx AJ.Qxxx.AJ9x.K9x Kxxxx.AKxx.x.JTx 98x.J9x.xxx.AQxx 0.75505 \\n P-P-1N-2C-P-2S-P-P-P (7, 7.5, 7.9)  \\n P-P-1N-2C-P-P-P (5, 4.8, 6.1)  \\n P-P-1N-2C-P-2H-P-P-P (5, 5.1, 6.7) ',\n",
       " 'QTx.T8.KQT8x.8xx AJ8x.AJx.xx.AK9x Kx.KQxx.Ax.QJTxx 9xxx.9xxx.J9xx.x 0.75341 \\n P-P-1N-2C-P-2S-P-2N-P-P-P (8, 7.5, 8.0)  \\n P-P-1N-2C-P-P-P (8, 8.4, 8.4)  \\n P-P-1N-2C-P-2H-P-3H-P-P-P (7, 6.6, 7.8) ',\n",
       " 'QTx.T8.KQT8x.8xx AJ8.AKx.Jxxx.Axx K9xx.Q9xxx.A.QTx xxx.Jxx.9xx.KJ9x 0.74967 \\n P-P-1N-2C-P-2S-P-P-P (6, 6.6, 7.2)  \\n P-P-1N-2C-P-P-P (5, 5.5, 6.3)  \\n P-P-1N-2C-P-2H-P-P-P (6, 6.4, 7.2) ',\n",
       " 'QTx.T8.KQT8x.8xx AKxx.Q9xx.Axx.Kx Jxx.AKx.9x.AJ9xx 98x.Jxxx.Jxx.QTx 0.74903 \\n P-P-1N-2C-P-2S-P-P-P (5, 6.3, 7.2)  \\n P-P-1N-2C-P-P-P (8, 7.7, 7.9)  \\n P-P-1N-2C-P-2H-P-P-P (5, 5.4, 6.4) ',\n",
       " 'QTx.T8.KQT8x.8xx Kxxx.QJxx.AJx.Ax AJx.A9xx.x.KJTxx 98x.Kxx.9xxx.Q9x 0.74798 \\n P-P-1N-2C-P-2S-P-P-P (7, 6.6, 7.8)  \\n P-P-1N-2C-P-P-P (7, 8.8, 8.1)  \\n P-P-1N-2C-P-2H-P-3H-P-P-P (7, 6.6, 7.1) ',\n",
       " 'QTx.T8.KQT8x.8xx xxx.Axx.Axx.AKQx AJxx.KQJxx.9x.Tx K98.9xx.Jxx.J9xx 0.74610 \\n P-P-1N-2C-P-2S-P-P-P (8, 7.5, 6.6)  \\n P-P-1N-2C-P-P-P (6, 4.9, 5.8)  \\n P-P-1N-2C-P-2H-P-P-P (8, 7.6, 6.7) ',\n",
       " 'QTx.T8.KQT8x.8xx A8x.9xx.AJx.AQ9x Jxxx.AKQxx.9x.Kx K9x.Jxx.xxx.JTxx 0.74348 \\n P-P-1N-2C-P-2S-P-P-P (8, 7.5, 7.2)  \\n P-P-1N-2C-P-P-P (6, 5.4, 5.7)  \\n P-P-1N-2C-P-2H-P-P-P (9, 7.7, 7.3) ',\n",
       " 'QTx.T8.KQT8x.8xx AK8.Q9xx.Jx.KQTx Jxxxx.AKxx.Ax.xx 9x.Jxx.9xxx.AJ9x 0.74119 \\n P-P-1N-2C-P-2S-P-P-P (9, 8.4, 8.5)  \\n P-P-1N-2C-P-P-P (4, 4.4, 6.0)  \\n P-P-1N-2C-P-2H-P-2S-P-P-P (9, 8.5, 8.3) ',\n",
       " 'QTx.T8.KQT8x.8xx AK98.Kxx.Jxxx.AJ Jxx.AQxx.A.KQT9x xxx.J9xx.9xx.xxx 0.74017 \\n P-P-1N-2C-P-2S-P-P-P (8, 8.2, 8.2)  \\n P-P-1N-2C-P-P-P (10, 9.7, 9.6)  \\n P-P-1N-2C-P-2H-P-3H-P-P-P (8, 8.1, 8.1) ']"
      ]
     },
     "execution_count": 3,
     "metadata": {},
     "output_type": "execute_result"
    }
   ],
   "source": [
    "bid.samples"
   ]
  },
  {
   "cell_type": "markdown",
   "id": "7d0dd8f5",
   "metadata": {},
   "source": [
    "each row is one sample. the hands are in the order: N E S W\n",
    "\n",
    "(West always has the same cards because it's your hand and it's known to you)"
   ]
  },
  {
   "cell_type": "code",
   "execution_count": 4,
   "id": "7101e514",
   "metadata": {},
   "outputs": [
    {
     "name": "stdout",
     "output_type": "stream",
     "text": [
      "Good quality: True\n",
      "QTx.T8.KQT8x.8xx AKxx.AKQx.J9x.xx xxx.J9x.Ax.AKQT9 J98.xxxx.xxx.Jxx\n",
      "QTx.T8.KQT8x.8xx AKxx.Qxxx.Ax.AT9 Jxx.AK9.9x.KQJxx 98x.Jxxx.Jxxx.xx\n",
      "QTx.T8.KQT8x.8xx KJx.Axx.Axx.KQTx A98xx.KQ9xx.x.J9 xx.Jxx.J9xx.Axxx\n",
      "QTx.T8.KQT8x.8xx Axx.AKJx.AJ9x.xx K98.9xx.xx.AKQ9x Jxxx.Qxxx.xx.JTx\n",
      "QTx.T8.KQT8x.8xx xxx.AQx.AJ9x.KJx AKJxx.KJxxx.x.Qx 98.9xx.xxx.AT9xx\n",
      "QTx.T8.KQT8x.8xx Kx.KJx.Axxx.KJ9x A8xxx.Qxxxx.9.AQ J9x.A9x.Jxx.Txxx\n",
      "QTx.T8.KQT8x.8xx A8xx.AQxx.Ax.KTx Kx.K9x.xxx.AQJxx J9xx.Jxxx.J9x.9x\n",
      "QTx.T8.KQT8x.8xx Axx.AKxx.Axxx.Qx K9x.Qxxx..AKT9xx J8xx.J9x.J9xx.Jx\n",
      "QTx.T8.KQT8x.8xx Jxx.AKJx.Axx.ATx AK9.9xx.J.KQJxxx 8xxx.Qxxx.9xxx.9\n",
      "QTx.T8.KQT8x.8xx A9xx.KQJx.Axx.Kx KJx.A9xx.x.ATxxx 8xx.xxx.J9xx.QJ9\n",
      "QTx.T8.KQT8x.8xx 9xxx.AKQx.Axx.QT AJ8.Jxxx.x.AK9xx Kxx.9xx.J9xx.Jxx\n",
      "QTx.T8.KQT8x.8xx AJ.Qxxx.AJ9x.K9x Kxxxx.AKxx.x.JTx 98x.J9x.xxx.AQxx\n",
      "QTx.T8.KQT8x.8xx AJ8x.AJx.xx.AK9x Kx.KQxx.Ax.QJTxx 9xxx.9xxx.J9xx.x\n",
      "QTx.T8.KQT8x.8xx AJ8.AKx.Jxxx.Axx K9xx.Q9xxx.A.QTx xxx.Jxx.9xx.KJ9x\n",
      "QTx.T8.KQT8x.8xx AKxx.Q9xx.Axx.Kx Jxx.AKx.9x.AJ9xx 98x.Jxxx.Jxx.QTx\n",
      "QTx.T8.KQT8x.8xx Kxxx.QJxx.AJx.Ax AJx.A9xx.x.KJTxx 98x.Kxx.9xxx.Q9x\n",
      "QTx.T8.KQT8x.8xx xxx.Axx.Axx.AKQx AJxx.KQJxx.9x.Tx K98.9xx.Jxx.J9xx\n",
      "QTx.T8.KQT8x.8xx A8x.9xx.AJx.AQ9x Jxxx.AKQxx.9x.Kx K9x.Jxx.xxx.JTxx\n",
      "QTx.T8.KQT8x.8xx AK8.Q9xx.Jx.KQTx Jxxxx.AKxx.Ax.xx 9x.Jxx.9xxx.AJ9x\n",
      "QTx.T8.KQT8x.8xx AK98.Kxx.Jxxx.AJ Jxx.AQxx.A.KQT9x xxx.J9xx.9xx.xxx\n",
      "QTx.T8.KQT8x.8xx Axx.AJ9x.AJx.QJx K9xx.Kxx.9.AK9xx J8x.Qxxx.xxxx.Tx\n",
      "QTx.T8.KQT8x.8xx Kx.Kxxx.Axxx.AK9 AJ9xx.AJxx.x.QJx 8xx.Q9x.J9x.Txxx\n",
      "QTx.T8.KQT8x.8xx J9x.AJxx.9x.AKQx AK8xx.KQxx.xx.Tx xx.9xx.AJxx.J9xx\n",
      "QTx.T8.KQT8x.8xx K9x.AKJx.J9x.KJx Axx.Qxx.xx.AQ9xx J8xx.9xxx.Axx.Tx\n",
      "QTx.T8.KQT8x.8xx A9xx.Kxx.AJxx.AJ KJx.AQJ9.9.QT9xx 8xx.xxxx.xxx.Kxx\n",
      "QTx.T8.KQT8x.8xx A8x.AJx.AJxx.QTx K9x.Kxx.xx.AKxxx Jxxx.Q9xxx.9x.J9\n",
      "QTx.T8.KQT8x.8xx AK9.Axxx.Axx.9xx 8xx.KQx.J9.AKTxx Jxxx.J9xx.xxx.QJ\n",
      "QTx.T8.KQT8x.8xx AJ8x.AQJx.9xx.Ax K9x.xx.AJx.KQJTx xxx.K9xxx.xx.9xx\n",
      "QTx.T8.KQT8x.8xx AJ8x.AQ9x.A9x.Tx K9xx.Kx.Jx.AKQ9x xx.Jxxxx.xxx.Jxx\n",
      "QTx.T8.KQT8x.8xx AK9x.A9x.Axxx.Jx Jx.KJxx.xx.AKQTx 8xxx.Qxxx.J9.9xx\n",
      "QTx.T8.KQT8x.8xx A9x.AK9x.A9xx.Qx KJxx.Jx.Jx.AKJxx 8xx.Qxxxx.xx.T9x\n",
      "QTx.T8.KQT8x.8xx Ax.KQJx.Jxx.AJxx KJ9xx.A9xx.x.KT9 8xx.xxx.A9xx.Qxx\n",
      "QTx.T8.KQT8x.8xx K9x.AJx.AJxx.A9x Ax.K9xx.x.KJTxxx J8xxx.Qxxx.9xx.Q\n",
      "QTx.T8.KQT8x.8xx K9x.Axx.Axx.KQxx Axxxx.KQxx.9x.AT J8.J9xx.Jxx.J9xx\n",
      "QTx.T8.KQT8x.8xx 9xxx.Axx.AJx.AKx AK8x.QJ9xx.xx.QJ Jx.Kxx.9xx.T9xxx\n",
      "QTx.T8.KQT8x.8xx K9x.AKxx.Axx.Q9x AJ8xx.Qxxx.9.AKx xx.J9x.Jxxx.JTxx\n",
      "QTx.T8.KQT8x.8xx Kxx.Kxx.xx.AKQ9x A8xx.QJ9xx.Ax.xx J9x.Axx.J9xx.JTx\n",
      "QTx.T8.KQT8x.8xx KJxx.KQ9x.J9.AKT Ax.xxx.Axx.QJxxx 98xx.AJxx.xxx.9x\n",
      "QTx.T8.KQT8x.8xx AK8.QJx.Jxx.KQJx J9xx.AKxxx.x.A9x xxx.9xx.A9xx.Txx\n",
      "QTx.T8.KQT8x.8xx 8xxx.AK9x.Axx.Ax Kxx.Qxx.9x.KQJ9x AJ9.Jxxx.Jxx.Txx\n",
      "QTx.T8.KQT8x.8xx AK8x.KJ9x.J9x.Kx x.Axxx.Axx.AQT9x J9xxx.Qxx.xx.Jxx\n",
      "QTx.T8.KQT8x.8xx AJx.A9xx.AJxx.JT Kxx.KQx.9x.AQ9xx 98xx.Jxxx.xx.Kxx\n",
      "QTx.T8.KQT8x.8xx Axx.AQxx.Jxx.KQJ KJ9xx.KJxx.A9.A9 8x.9xx.xxx.Txxxx\n",
      "QTx.T8.KQT8x.8xx AKx.AJ.J9xx.KTxx J9x.KQxx.A.AJ9xx 8xxx.9xxxx.xxx.Q\n",
      "QTx.T8.KQT8x.8xx AJx.AJxx.xxx.KQ9 K9x.K9x.Jx.AJxxx 8xxx.Qxxx.A9x.Tx\n",
      "QTx.T8.KQT8x.8xx AKJx.AKx.9xx.Q9x 98x.xx.AJx.AKJxx xxx.QJ9xxx.xx.Tx\n"
     ]
    }
   ],
   "source": [
    "# we got some samples above. if we want more, we can always get more\n",
    "\n",
    "sample_hands, sorted_score, p_hcp, p_shp, good_quality = bot_bid.sample_hands_for_auction([\"PAD_START\",\"PAD_START\",\"PAD_START\",\"PASS\", \"PASS\", \"1N\", \"2C\", \"PASS\"],0)\n",
    "print(\"Good quality:\", good_quality)\n",
    "for i in range(sample_hands.shape[0]):\n",
    "    print(f'{hand_to_str(sample_hands[i, 0, :])} {hand_to_str(sample_hands[i, 1, :])} {hand_to_str(sample_hands[i, 2, :])} {hand_to_str(sample_hands[i, 3, :])}')"
   ]
  }
 ],
 "metadata": {
  "kernelspec": {
   "display_name": "Python 3 (ipykernel)",
   "language": "python",
   "name": "python3"
  },
  "language_info": {
   "codemirror_mode": {
    "name": "ipython",
    "version": 3
   },
   "file_extension": ".py",
   "mimetype": "text/x-python",
   "name": "python",
   "nbconvert_exporter": "python",
   "pygments_lexer": "ipython3",
   "version": "3.11.9"
  }
 },
 "nbformat": 4,
 "nbformat_minor": 5
}
