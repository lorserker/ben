{
 "cells": [
  {
   "cell_type": "markdown",
   "id": "75d07246",
   "metadata": {},
   "source": [
    "# Bidding\n",
    "\n",
    "This is a tutorial for how to use the bidding engine"
   ]
  },
  {
   "cell_type": "code",
   "execution_count": 1,
   "id": "59a5664c",
   "metadata": {},
   "outputs": [
    {
     "name": "stdout",
     "output_type": "stream",
     "text": [
      "WARNING:tensorflow:From d:\\GitHub\\ben\\UCBC 2024\\Simulations\\../../src\\nn\\bidderv2.py:3: The name tf.disable_v2_behavior is deprecated. Please use tf.compat.v1.disable_v2_behavior instead.\n",
      "\n",
      "WARNING:tensorflow:From c:\\ProgramData\\miniconda3\\Lib\\site-packages\\tensorflow\\python\\compat\\v2_compat.py:98: disable_resource_variables (from tensorflow.python.ops.resource_variables_toggle) is deprecated and will be removed in a future version.\n",
      "Instructions for updating:\n",
      "non-resource variables are not supported in the long term\n",
      "WARNING:tensorflow:From d:\\GitHub\\ben\\UCBC 2024\\Simulations\\../../src\\nn\\bidderv2.py:12: The name tf.Session is deprecated. Please use tf.compat.v1.Session instead.\n",
      "\n",
      "WARNING:tensorflow:From d:\\GitHub\\ben\\UCBC 2024\\Simulations\\../../src\\nn\\bidderv2.py:21: The name tf.train.import_meta_graph is deprecated. Please use tf.compat.v1.train.import_meta_graph instead.\n",
      "\n",
      "INFO:tensorflow:Restoring parameters from ..\\Models/NS1EW99-bidding_V2-3125000\n",
      "INFO:tensorflow:Restoring parameters from ..\\Models/NS1EW99-bidding_V2-3125000\n",
      "INFO:tensorflow:Restoring parameters from ..\\Models/contract-193200\n",
      "INFO:tensorflow:Restoring parameters from ..\\Models/NS1EW99-binfo_V2-3125000\n",
      "INFO:tensorflow:Restoring parameters from ..\\Models/lead_suit-999000\n",
      "INFO:tensorflow:Restoring parameters from ..\\Models/lead_nt-475000\n",
      "INFO:tensorflow:Restoring parameters from ..\\Models/Jack/lr3-1000000\n",
      "INFO:tensorflow:Restoring parameters from ..\\Models/single_dummy-32768000\n",
      "INFO:tensorflow:Restoring parameters from ..\\Models/lefty_nt-475000\n",
      "INFO:tensorflow:Restoring parameters from ..\\Models/dummy_nt-475000\n",
      "INFO:tensorflow:Restoring parameters from ..\\Models/righty_nt-475000\n",
      "INFO:tensorflow:Restoring parameters from ..\\Models/decl_nt-475000\n",
      "INFO:tensorflow:Restoring parameters from ..\\Models/lefty_suit-999000\n",
      "INFO:tensorflow:Restoring parameters from ..\\Models/dummy_suit-999000\n",
      "INFO:tensorflow:Restoring parameters from ..\\Models/righty_suit-999000\n",
      "INFO:tensorflow:Restoring parameters from ..\\Models/decl_suit-999000\n"
     ]
    }
   ],
   "source": [
    "import sys\n",
    "import os\n",
    "sys.path.append('../../src')\n",
    "os.environ['BEN_HOME'] = \"../..\"\n",
    "\n",
    "from nn.models import Models\n",
    "from bots import BotBid\n",
    "from util import hand_to_str\n",
    "from sample import Sample\n",
    "import conf\n",
    "import numpy as np\n",
    "\n",
    "np.set_printoptions(precision=2, suppress=True, linewidth=200)\n",
    "np.random.seed(42)\n",
    "models = Models.from_conf(conf.load('../Conf/UCBC2024.conf'),'..')   # loading neural networks\n",
    "sampler = Sample.from_conf(conf.load('../Conf/UCBC2024.conf'), True)  # Load sampling strategies\n"
   ]
  },
  {
   "cell_type": "markdown",
   "id": "10d8f2fc",
   "metadata": {},
   "source": [
    "### Running through an example"
   ]
  },
  {
   "cell_type": "code",
   "execution_count": 2,
   "id": "19dbfeb7",
   "metadata": {},
   "outputs": [
    {
     "name": "stderr",
     "output_type": "stream",
     "text": [
      "Loaded lib dds.dll\n",
      "DDSolver being loaded - dds mode 1\n"
     ]
    },
    {
     "name": "stdout",
     "output_type": "stream",
     "text": [
      "Setting seed (Sampling bidding info) from J.32.KJ983.QJT74: 2930407879\n",
      "next_bid_np: Model: SAYC UCBC Version: 2 NS: 1 Alert supported: False\n",
      "bid 2N value 0.6627 is recommended by NN\n",
      "CandidateBid(bid=2N  , insta_score=0.6627, expected_score=---, expected_mp=---, expected_imp=---, expected_tricks=---, adjust=---, alert=  )\n",
      "CandidateBid(bid=PASS, insta_score=0.2486, expected_score=---, expected_mp=---, expected_imp=---, expected_tricks=---, adjust=---, alert=  )\n",
      "CandidateBid(bid=X   , insta_score=0.0772, expected_score=---, expected_mp=---, expected_imp=---, expected_tricks=---, adjust=---, alert=  )\n",
      "Sampling for aution: ['PAD_START', '2C'] trying to find 5000\n",
      "sample_cards_auction, nsteps= 1\n",
      "NS:  1 EW:  99 Auction:  ['PAD_START', '2C']\n",
      "hand J.32.KJ983.QJT74\n",
      "nesw_i 2\n",
      "n_samples 5000\n",
      "Player:  S Hand:  J.xx.KJ98x.QJTxx\n",
      "HCP:  [[ 5.15  4.06 22.46]]\n",
      "Shape:  [[3.93 3.57 2.81 2.62 4.02 3.44 2.74 2.75 3.81 3.53 2.65 2.86]]\n",
      "sample_cards_vec generating 5000 90627759229856945450869042096987209878\n",
      "Missing HCP: 32.0\n",
      "Expected HCP: [ 5.15  4.06 22.46]\n",
      "hcp_reduction_factor:0.82  0.83\n",
      "shp_reduction_factor:0.5\n",
      "Loops to deal the hands 100\n",
      "sample_cards_vec took 0.0927 Deals hcp accepted: 3179 state=188224127526134289505076529152139800398\n",
      "sample_cards_vec took 0.0947 Deals: 3179\n",
      "n_samples 3179 from bidding info\n",
      "n_steps 1\n",
      "get_bid_ids 1 ['PAD_START', '2C'] 0\n",
      "Fetched LHO bidding\n",
      "get_bid_ids 1 ['PAD_START', '2C'] 0\n",
      "Fetched partner bidding\n",
      "get_bid_ids 1 ['PAD_START', '2C'] 0\n",
      "Fetched RHO bidding\n",
      "lho_bids 0 pard_bids 0 rho_bids 1\n",
      "Max distance 1 0 0 1\n",
      "Samples after bidding distance:  1664  Threshold: \n",
      "Samples after bidding filtering:  605  Threshold:  0.7\n",
      "Found 605 samples for bidding. Quality=0.89306640625\n",
      " 2N   0.663 Samples: 200\n",
      "bidding_rollout - n_samples:  200\n"
     ]
    },
    {
     "name": "stderr",
     "output_type": "stream",
     "text": [
      "Sampling: 2C with this deal N Both T8432.96.65.8632 KQ7.AKJT.AQ7.A94 J.73.KJ982.QJT75 A965.Q8542.T43.K to avoid this auction 2C-2N-X-P\n",
      "Sample: 29, Hand KQx.AKJT.AQx.A9x Bid not valid: X insta_score: 0.765\n",
      "Sampling: 2C with this deal N Both 987654.Q762.73.2 AQT2.AJ8.AT4.AK9 J.54.KJ986.QJT53 K3.KT93.Q52.8764 to avoid this auction 2C-2N-X-P\n",
      "Sample: 58, Hand AQTx.AJ8.ATx.AK9 Bid not valid: X insta_score: 0.501\n",
      "Sampling: 2C with this deal N Both T765.J95.T742.87 AK42.AKQ2.65.AK6 J.64.KJ983.QJT54 Q983.T873.AQ.932 to avoid this auction 2C-2N-X-P\n",
      "Sample: 62, Hand AKxx.AKQx.xx.AKx Bid not valid: X insta_score: 0.711\n",
      "Sampling: 2C with this deal N Both 9632.76.Q732.874 AK5.AK93.AT4.A95 J.52.KJ985.QJT62 QT874.QJT84.6.K3 to avoid this auction 2C-2N-X-P\n",
      "Sample: 64, Hand AKx.AK9x.ATx.A9x Bid not valid: X insta_score: 0.693\n",
      "Sampling: 2C with this deal N Both 9842.T75.T53.984 AK75.AQJ.Q2.AK63 J.62.KJ987.QJT75 QT63.K9843.A64.2 to avoid this auction 2C-2N-X-P\n",
      "Sample: 69, Hand AKxx.AQJ.Qx.AKxx Bid not valid: X insta_score: 0.578\n",
      "Sampling: 2C with this deal N Both T9853.T95.Q75.92 AK7.AKQ7.A43.K75 J.62.KJ982.QJT63 Q642.J843.T6.A84 to avoid this auction 2C-2N-X-P\n",
      "Sample: 78, Hand AKx.AKQx.Axx.Kxx Bid not valid: X insta_score: 0.781\n",
      "Sampling: 2C with this deal N Both T6432.432.T2.852 AK75.KJ8.AQ53.AK J.75.KJ984.QJT74 Q98.AQT96.76.963 to avoid this auction 2C-2N-X-P\n",
      "Sample: 80, Hand AKxx.KJ8.AQxx.AK Bid not valid: X insta_score: 0.550\n",
      "Sampling: 2C with this deal N Both QT963.9732.532.4 K75.AKJT.AT.AK73 J.65.KJ984.QJT65 A842.Q84.Q76.982 to avoid this auction 2C-2N-X-P\n",
      "Sample: 112, Hand Kxx.AKJT.AT.AKxx Bid not valid: X insta_score: 0.741\n",
      "Sampling: 2C with this deal N Both T9632.865.32.973 AQ54.AKQJ.QT.AK8 J.72.KJ985.QJT64 K87.T943.A764.52 to avoid this auction 2C-2N-X-P\n",
      "Sample: 123, Hand AQxx.AKQJ.QT.AK8 Bid not valid: X insta_score: 0.631\n",
      "Sampling: 2C with this deal N Both 97643.764.QT4.95 K85.AKJT.A32.AK8 J.52.KJ986.QJT32 AQT2.Q983.75.764 to avoid this auction 2C-2N-X-P\n",
      "Sample: 145, Hand K8x.AKJT.Axx.AK8 Bid not valid: X insta_score: 0.726\n",
      "Sampling: 2C with this deal N Both T9754.983.T53.75 AK3.KJ5.AQ62.AK9 J.74.KJ984.QJT43 Q862.AQT62.7.862 to avoid this auction 2C-2N-X-P\n",
      "Sample: 181, Hand AKx.KJx.AQxx.AK9 Bid not valid: X insta_score: 0.360\n",
      "Sampling: 2C with this deal N Both Q983.T643.T5.864 AT76.KQJ.AQ4.AK9 J.72.KJ983.QJT52 K542.A985.762.73 to avoid this auction 2C-2N-X-P\n",
      "Sample: 185, Hand ATxx.KQJ.AQx.AK9 Bid not valid: X insta_score: 0.591\n"
     ]
    },
    {
     "name": "stdout",
     "output_type": "stream",
     "text": [
      "bidding_rollout - finished  (200, 64)\n",
      "dds took: 1.4740\n",
      "tricks 10.65\n",
      "[ -198.15   249.1   -651.89   -99.16  -568.39  -177.31  -668.65  -143.77  -200.36  -687.59  -237.39  -154.94  -159.7   -686.86  -150.81  -163.88  -608.05  -674.23   -51.93  -665.64  -660.63  -545.53\n",
      " -1213.58  -652.01  -683.58  -603.56   -82.33   137.76 -1023.02 -2020.96  -101.58  -195.43  -684.03  -653.71  -511.5  -1116.14  -629.16  -618.77  -131.64  -632.87  -669.34  -689.13  -176.48  -687.94\n",
      "  -598.21   102.89  -678.43  -495.78  -175.25  -223.7   -589.15  -670.3   -688.67 -1160.     154.25  -171.06  -473.43  -686.78  -679.24  -540.79 -1102.48  -688.21  -688.2   -496.83 -2103.44  -683.04\n",
      " -1109.22 -1228.37  -651.39  -688.69  -641.89  -221.58  -674.89  -636.07  -618.57  -663.08  -193.16  -172.84 -1850.43  -146.9   -686.25  -658.91  -686.64  -681.99  -649.02  -582.79  -678.44  -672.38\n",
      "  -658.68   -49.91 -1146.51  -649.98 -1185.23  -590.27  -691.27 -1154.9   -221.87  -655.02  -170.56 -1065.43  -671.03  -280.48  -641.42  -681.13  -213.27  -667.59  -627.15  -154.98  -151.98  -686.\n",
      "  -144.33   131.77 -1702.11   -96.    -585.84  -232.18   -13.54 -1148.01  -176.84  -195.65  -676.13 -1083.52  -175.99  -688.46  -366.67  -123.78  -167.53  -170.87  -688.42  -165.4    163.64 -1132.51\n",
      "  -680.02  -173.88  -154.11   206.64 -1202.22  -168.38  -638.64  -644.78  -277.    -452.29  -106.21  -521.46 -1743.88 -1934.18  -267.61  -667.03  -374.26  -106.55  -197.94  -649.38  -193.82   -77.49\n",
      "  -595.54  -155.29  -650.62 -1139.97  -163.13  -231.66  -687.29  -679.82  -142.62   116.84  -462.75    47.01  -403.23  -212.56  -689.81  -166.41  -690.23  -655.43  -665.61   -49.28  -649.94 -1064.82\n",
      " -1473.59  -207.02  -146.59  -495.87   -48.01 -1960.08  -681.33 -2286.59  -236.82  -658.74  -486.26  -660.19  -203.24  -684.81  -119.95  -412.52 -1994.12 -1044.66  -678.33 -1121.24  -665.83  -639.42\n",
      "  -686.35  -685.04]\n",
      "Adjust for trust in NN 33.13390016555786\n",
      "CandidateBid(bid=2N  , insta_score=0.6627, expected_score= -557, expected_mp=---, expected_imp=---, expected_tricks=10.65, adjust=33.13, alert=  )\n",
      " PASS 0.249 Samples: 200\n",
      "bidding_rollout - n_samples:  200\n",
      "bidding_rollout - finished  (200, 64)\n",
      "dds took: 1.1224\n",
      "tricks 11.315\n",
      "[ -401.9     97.46  -609.74  -215.15  -634.72  -502.53  -676.74  -570.36  -603.18 -1163.62 -1147.3   -372.86  -406.82  -655.56  -556.82  -456.57  -699.77  -674.23  -600.94  -926.17 -1171.84   137.7\n",
      "  -687.78  -667.46  -675.93  -616.6   -563.37  -657.57  -383.19 -1029.88  -112.1   -438.56 -1105.17  -590.91  -485.24 -1116.14  -316.67  -618.77   113.93 -1067.09  -669.34 -1192.13  -665.69 -1170.03\n",
      "  -530.33   -42.04  -678.43  -585.59  -522.35  -688.92  -589.15  -651.82  -663.31  -654.56  -627.12  -467.37  -473.43 -1149.3   -668.49   -77.17  -642.97 -1174.94  -691.61  -466.48  -656.37 -1090.78\n",
      " -1109.22 -1228.37  -668.46 -1017.    -683.3   -828.47  -674.89  -636.07  -348.8   -584.23  -193.16  -609.17  -643.68  -169.87  -984.16  -658.91 -1146.91 -1076.5   -649.02  -582.79 -1011.07  -672.38\n",
      "  -658.68  -574.9  -1146.51  -655.06  -663.72  -331.5  -1233.92 -1154.9   -661.62  -673.65  -472.62 -1065.43 -1013.92  -601.23  -666.92  -681.13  -657.04  -660.84  -679.77  -416.98  -657.92  -998.94\n",
      "  -323.83  -111.3   -662.45  -492.64   289.69 -1034.11    45.12 -1121.61  -604.55  -583.38  -676.13 -1083.52 -1203.16  -685.63  -428.46  -235.62  -372.77  -565.62 -1178.73  -617.89   -88.16 -1132.51\n",
      " -1051.71  -507.    -608.6   -679.13 -1202.22  -453.44  -587.96  -532.96  -277.    -604.06  -627.43  -521.46  -661.27  -662.49  -336.31  -681.71  -595.6    -78.93  -582.52  -667.21  -591.52  -289.38\n",
      "  -595.54  -370.05  -650.62 -1139.97  -557.81  -679.31  -657.41  -662.97  -374.04  -628.63   -85.3   -232.89  -447.82  -643.04 -1023.25  -548.35 -1213.33 -1150.23  -814.82  -503.81  -592.47  -517.41\n",
      "  -462.94  -641.06  -472.3   -495.87  -652.97 -1068.88 -1067.82  -635.03  -685.92  -645.22  -486.26  -660.19  -643.45  -950.15  -675.4   -412.52  -663.74 -1044.66  -675.32  -665.85  -665.83  -639.42\n",
      " -1142.34 -1120.64]\n",
      "Adjust for trust in NN 12.428559362888336\n",
      "CandidateBid(bid=PASS, insta_score=0.2486, expected_score= -654, expected_mp=---, expected_imp=---, expected_tricks=11.31, adjust=12.43, alert=  )\n",
      " X    0.077 Samples: 200\n",
      "bidding_rollout - n_samples:  200\n",
      "bidding_rollout - finished  (200, 64)\n",
      "dds took: 1.2844\n",
      "tricks 11.2\n",
      "[ -605.13   205.33  -609.74  -143.06  -634.72  -502.53  -676.74  -576.04  -603.18  -687.59 -1147.3   -372.86  -406.82  -655.56  -556.82  -456.57  -673.94  -674.23  -600.94  -665.64 -1171.84  -545.53\n",
      "  -687.78  -667.46  -681.71  -616.6   -563.37  -657.57  -383.19  -686.77  -112.1   -438.56  -684.03  -590.91   -53.21 -1116.14 -1108.38  -618.77   113.93 -1067.09  -669.34 -1192.13  -665.69 -1245.13\n",
      "  -530.33   -42.04  -654.99  -585.59  -522.35  -688.92  -589.15  -651.82 -1183.39 -1146.73  -627.12  -467.37  -473.43  -686.78  -668.49  -578.15  -683.85 -1174.94  -691.61  -174.19  -685.72  -683.04\n",
      "  -690.59 -1228.37  -668.46   327.24  -683.3   -663.86  -674.89  -636.07  -618.57  -638.66  -193.16  -609.17  -643.68    19.25  -984.16  -658.91 -1146.91  -681.99  -649.02  -582.79  -678.44  -672.38\n",
      "  -658.68  -646.9  -1146.51  -655.06 -1185.23    38.73 -1233.92   314.52  -661.62  -655.02  -472.62  -686.13  -964.98  -622.18  -666.92  -681.13  -657.04  -645.71  -679.77  -416.98  -657.92  -620.29\n",
      "  -323.83  -111.3   -662.45  -492.64  -668.47 -1034.11    45.12   408.78  -604.55  -583.38  -676.13 -1083.52 -1203.16  -685.63  -428.46  -313.41   -60.91  -565.62  -688.42  -617.89   -88.16  -650.96\n",
      "   458.14  -507.    -608.6   -679.13 -1202.22  -453.44  -587.96  -644.78  -196.86  -604.06  -627.43  -521.46  -661.27  -662.49  -617.87  -681.71  -595.6    -78.93  -582.52  -667.21  -591.52  -329.42\n",
      "  -595.54  -370.05  -650.62  -686.23  -557.81  -620.36 -1158.33  -662.97  -348.57  -628.63  -462.75  -232.89  -447.82  -643.04  -630.34  -548.35 -1213.33 -1150.23   306.91   145.23  -651.12  -517.41\n",
      "  -462.94  -641.06  -472.3   -495.87  -652.97 -1068.88  -681.33  -635.03  -685.92  -645.22  -486.26  -660.19  -643.45 -1117.01  -675.4   -412.52  -663.74 -1044.66  -675.32  -665.85  -665.83  -639.42\n",
      " -1142.34  -685.04]\n",
      "Adjust for trust in NN 3.858445957303047\n",
      "Adjusted for double if insta_score to low -96.14155404269695\n",
      "CandidateBid(bid=X   , insta_score=0.0772, expected_score= -605, expected_mp=---, expected_imp=---, expected_tricks=11.20, adjust=-96.14, alert=  )\n",
      "0: CandidateBid(bid=2N  , insta_score=0.6627, expected_score= -557, expected_mp=---, expected_imp=---, expected_tricks=10.65, adjust=33.13, alert=  )\n",
      "1: CandidateBid(bid=PASS, insta_score=0.2486, expected_score= -654, expected_mp=---, expected_imp=---, expected_tricks=11.31, adjust=12.43, alert=  )\n",
      "2: CandidateBid(bid=X   , insta_score=0.0772, expected_score= -605, expected_mp=---, expected_imp=---, expected_tricks=11.20, adjust=-96.14, alert=  )\n",
      "Estimating took 1.3137 seconds\n",
      "2N selected\n",
      "Checking if we should evaluate rescue bid True 200\n",
      "Auction ['PAD_START', '2C'] False\n",
      "Candidate CandidateBid(bid=2N  , insta_score=0.6627, expected_score= -557, expected_mp=---, expected_imp=---, expected_tricks=10.65, adjust=33.13, alert=  ) 0.893\n",
      "No rescue bid evaluated\n"
     ]
    },
    {
     "data": {
      "text/plain": [
       "[{'call': '2N',\n",
       "  'insta_score': 0.663,\n",
       "  'adjustment': 33,\n",
       "  'expected_score': -557,\n",
       "  'expected_tricks': 10.7},\n",
       " {'call': 'PASS',\n",
       "  'insta_score': 0.249,\n",
       "  'adjustment': 12,\n",
       "  'expected_score': -654,\n",
       "  'expected_tricks': 11.3},\n",
       " {'call': 'X',\n",
       "  'insta_score': 0.077,\n",
       "  'adjustment': -96,\n",
       "  'expected_score': -605,\n",
       "  'expected_tricks': 11.2}]"
      ]
     },
     "execution_count": 2,
     "metadata": {},
     "output_type": "execute_result"
    }
   ],
   "source": [
    "# East deals, EW vulnerable.\n",
    "vuln_ns, vuln_ew = True, True\n",
    "\n",
    "from ddsolver import ddsolver\n",
    "dds = ddsolver.DDSolver()\n",
    "\n",
    "# You sit North and hold:\n",
    "hand = 'J.32.KJ983.QJT74'\n",
    "\n",
    "auction = [\"PAD_START\",\"2C\"]\n",
    "bot_bid = BotBid([vuln_ns, vuln_ew], hand, models, sampler, 2, 0, dds, True)\n",
    "\n",
    "bid = bot_bid.bid(auction)\n",
    "bid.to_dict()['candidates']\n",
    "\n",
    "# what's your bid?"
   ]
  },
  {
   "cell_type": "markdown",
   "id": "ad120123",
   "metadata": {},
   "source": [
    "in the output above:\n",
    "- `insta_score` reflects what the neural network prefers to bid\n",
    "- `expected_score` is based on what you expect to score on difference samples (for example, 70% of the time you are making and 30% of the time you are going one off, then the expected score is 0.7 * 620 - 0.3 * 100)"
   ]
  },
  {
   "cell_type": "markdown",
   "id": "051ff121",
   "metadata": {},
   "source": [
    "### Samples consistent with the auction so far\n",
    "\n",
    "Above we said that we are computig expected scores on samples consistent with the auction so far.\n",
    "\n",
    "How do we get these samples?\n",
    "\n",
    "We get some samples in the response we get from the bot (i.e `bid.samples`)"
   ]
  },
  {
   "cell_type": "code",
   "execution_count": 3,
   "id": "55b647a5",
   "metadata": {},
   "outputs": [
    {
     "name": "stdout",
     "output_type": "stream",
     "text": [
      "Qxxx.A9x.Tx.98xx AKT.KQJ.Qxx.AKxx J.xx.KJ98x.QJTxx 98xxx.T8xxx.Axx. 0.79248 \n",
      " 2C-2N-P-3C-X-P-3S-P-P-P (11, 10.9)  \n",
      " 2C-P-2D-P-2N-P-3C-P-3D-X-3S-P-3N-P-P-P (7, 9.2)  \n",
      " 2C-X-2D-P-2N-P-3C-P-3D-P-3S-P-4S-P-P-P (11, 10.9) \n",
      "AKxxxx.QJT9x.xx. QTxx.AK8.AQx.AK8 J.xx.KJ98x.QJTxx 98.xxx.Txx.9xxxx 0.84961 \n",
      " 2C-2N-P-3H-X-P-4C-P-P-P (7, 7.5)  \n",
      " 2C-P-2D-P-2N-P-P-P (7, 6.8)  \n",
      " 2C-X-2D-2S-2N-P-3N-P-P-P (7, 6.8) \n",
      "Q8xx.J8xx.Txx.8x AKx.AKT9.AQx.K9x J.xx.KJ98x.QJTxx T9xxx.Qxx.xx.Axx 0.96045 \n",
      " 2C-2N-3S-P-4D-P-4S-P-4N-P-5D-P-6S-P-P-P (12, 11.4)  \n",
      " 2C-P-2D-P-2N-P-3H-P-3S-P-3N-P-4S-P-P-P (12, 11.0)  \n",
      " 2C-X-2D-P-2N-P-3H-P-3S-P-3N-P-4S-P-P-P (12, 11.0) \n",
      "Qxx.QJ9xx.ATxx.x AK8x.AKx.Qx.AK9x J.xx.KJ98x.QJTxx T9xxx.T8x.xx.8xx 0.93018 \n",
      " 2C-2N-P-3D-X-P-3S-P-P-P (9, 9.2)  \n",
      " 2C-P-2D-P-2N-P-3H-P-4S-P-P-P (9, 9.4)  \n",
      " 2C-X-2D-2H-X-P-2S-P-P-P (9, 9.2) \n",
      "Q9xxxx.9xxx.Qx.x AKx.AKQ.Txxx.AK9 J.xx.KJ98x.QJTxx T8x.JT8x.Ax.8xxx 0.93262 \n",
      " 2C-2N-P-3H-X-P-3N-P-P-P (8, 10.0)  \n",
      " 2C-P-2D-P-2N-P-3C-P-3D-X-3N-P-P-P (8, 10.7)  \n",
      " 2C-X-2D-P-2N-P-3C-P-3D-P-3N-P-P-P (8, 10.7) \n",
      "8xxx.Qxx.xxxx.Ax AKQ9.AK98x.AT.Kx J.xx.KJ98x.QJTxx Txxx.JTx.Qx.98xx 0.93994 \n",
      " 2C-2N-P-P-3H-P-P-P (10, 10.3)  \n",
      " 2C-P-2D-P-2H-P-3H-P-3N-P-4H-P-P-P (10, 10.3)  \n",
      " 2C-X-2D-P-2H-P-4H-P-P-P (10, 10.3) \n",
      "9xxxxx.QT8x.x.9x A8x.AKJ9.ATx.AKx J.xx.KJ98x.QJTxx KQT.xxx.Qxxx.8xx 0.96436 \n",
      " 2C-2N-P-P-X-P-3N-P-P-P (11, 11.3)  \n",
      " 2C-P-2D-P-2N-P-3N-P-P-P (11, 11.6)  \n",
      " 2C-X-2D-P-2N-P-3N-P-P-P (11, 11.6) \n",
      "A98xx.9xxx.x.9xx KQTxx.AQJ.Ax.AK8 J.xx.KJ98x.QJTxx xx.KT8x.QTxxx.xx 0.94336 \n",
      " 2C-2N-P-3C-3S-P-P-P (11, 9.7)  \n",
      " 2C-P-2D-P-2S-P-3N-P-P-P (10, 9.9)  \n",
      " 2C-X-2D-P-2S-P-3D-P-3N-P-P-P (10, 10.0) \n",
      "Q8xx.JT8x.QTxx.x AK9x.AKxx.Ax.A9x J.xx.KJ98x.QJTxx Txxx.Q9x.xx.K8xx 0.81641 \n",
      " 2C-2N-P-P-X-P-3S-P-P-P (10, 11.0)  \n",
      " 2C-P-2D-P-2N-P-3C-P-3N-P-4S-P-P-P (11, 11.0)  \n",
      " 2C-X-2D-P-2N-P-3C-P-3N-P-4S-P-P-P (11, 11.0) \n",
      "8xx.J9xx.xxx.98x A9xx.AKTx.AT.AKx J.xx.KJ98x.QJTxx KQTxx.Q8x.Qxx.xx 0.70215 \n",
      " 2C-2N-3S-P-4D-P-4S-P-P-P (12, 12.3)  \n",
      " 2C-P-2S-P-4N-P-5D-P-5H-P-5N-P-6S-P-P-P (12, 12.3)  \n",
      " 2C-X-2S-P-3C-P-3N-P-4C-P-4S-P-P-P (12, 12.3) \n"
     ]
    }
   ],
   "source": [
    "### Samples consistent with the auction so far\n",
    "\n",
    "for i in range(min(10,len(bid.samples))):\n",
    "    print(bid.samples[i])\n"
   ]
  },
  {
   "cell_type": "markdown",
   "id": "7d0dd8f5",
   "metadata": {},
   "source": [
    "each row is one sample. the hands are in the order: N E S W\n",
    "\n",
    "(West always has the same cards because it's your hand and it's known to you)"
   ]
  },
  {
   "cell_type": "code",
   "execution_count": 4,
   "id": "7101e514",
   "metadata": {},
   "outputs": [
    {
     "name": "stdout",
     "output_type": "stream",
     "text": [
      "sample_cards_auction, nsteps= 2\n",
      "NS:  1 EW:  99 Auction:  ['PAD_START', 'PAD_START', 'PAD_START', 'PASS', '1N', 'PASS', '3S', 'PASS']\n",
      "hand J.32.KJ983.QJT74\n",
      "nesw_i 0\n",
      "n_samples 5000\n",
      "Player:  N Hand:  J.xx.KJ98x.QJTxx\n",
      "HCP:  [[ 8.59 16.09  7.72]]\n",
      "Shape:  [[4.05 3.68 2.56 2.65 3.72 3.47 2.86 2.98 4.21 3.68 2.63 2.48]]\n",
      "sample_cards_vec generating 5000 90627759229856945450869042096987209878\n",
      "Missing HCP: 32.0\n",
      "Expected HCP: [ 8.59 16.09  7.72]\n",
      "hcp_reduction_factor:0.84  0.83\n",
      "shp_reduction_factor:0.5\n",
      "Loops to deal the hands 103\n",
      "sample_cards_vec took 0.0687 Deals hcp accepted: 4010 state=223978705108005901088408924238939475061\n",
      "sample_cards_vec took 0.0712 Deals: 4010\n",
      "n_samples 4010 from bidding info\n",
      "n_steps 2\n",
      "get_bid_ids 2 ['PAD_START', 'PAD_START', 'PAD_START', 'PASS', '1N', 'PASS', '3S', 'PASS'] 2\n",
      "Fetched LHO bidding\n",
      "get_bid_ids 2 ['PAD_START', 'PAD_START', 'PAD_START', 'PASS', '1N', 'PASS', '3S', 'PASS'] 2\n",
      "Fetched partner bidding\n",
      "get_bid_ids 2 ['PAD_START', 'PAD_START', 'PAD_START', 'PASS', '1N', 'PASS', '3S', 'PASS'] 2\n",
      "Fetched RHO bidding\n",
      "lho_bids 1 pard_bids 1 rho_bids 2\n",
      "Max distance 5 1 1 2\n",
      "Samples after bidding distance:  60  Threshold: \n",
      "Samples after bidding filtering:  0  Threshold:  0.7\n",
      "Only found 38 20\n",
      "Found 20 samples for bidding. Quality=0.60107421875\n",
      "Good quality: 0.601\n",
      "J.xx.KJ98x.QJTxx AQT8xxx.QJ8x.x.8 x.AKTx.AQTx.K9xx K9xx.9xx.xxx.Axx 0.65\n",
      "J.xx.KJ98x.QJTxx KTxxx.J8x.Txx.9x Ax.AKx.AQxx.AK8x Q98xx.QT9xx.x.xx 0.60\n",
      "J.xx.KJ98x.QJTxx Q9xx.AKJxx.xx.xx ATxx.Q.QTx.AK98x K8xx.T98xx.Axx.x 0.60\n",
      "J.xx.KJ98x.QJTxx KQTxx.JT8x.T.8xx Ax.AQ9.AQxxx.AKx 98xxx.Kxxx.xx.9x 0.60\n",
      "J.xx.KJ98x.QJTxx 8xxxx.Txxx.x.8xx KQ9.AK8.AQTxx.AK ATxx.QJ9x.xx.9xx 0.60\n",
      "J.xx.KJ98x.QJTxx T98xx.T98x.xxx.x AKQ.Ax.AQTx.AK9x xxxx.KQJxx.x.8xx 0.60\n",
      "J.xx.KJ98x.QJTxx T9xxx.AQJTx.Tx.8 AKQx.8.AQxx.A9xx 8xx.K9xxx.xx.Kxx 0.60\n",
      "J.xx.KJ98x.QJTxx AQ8xx.Q8xx.Txxx. Kxx.AJx.A.AK98xx T9xx.KT9x.Qxx.xx 0.60\n",
      "J.xx.KJ98x.QJTxx T98xx.KJ9xx.Qx.x AQxx.A.ATxx.K98x Kxx.QT8xx.xx.Axx 0.60\n",
      "J.xx.KJ98x.QJTxx Q8xxx.QT8x.x.8xx AK.Ax.AQTxxx.AK9 T9xxx.KJ9xx.x.xx 0.60\n"
     ]
    }
   ],
   "source": [
    "# we got some samples above. if we want more, we can always get more\n",
    "\n",
    "auction = [\"PAD_START\", \"PAD_START\", \"PAD_START\", \"PASS\", \"1N\", \"PASS\", \"3S\",\"PASS\"]\n",
    "sample_hands, sorted_score, p_hcp, p_shp, good_quality = bot_bid.sample_hands_for_auction(auction,0)\n",
    "print(\"Good quality:\", good_quality)\n",
    "for i in range(min(10,sample_hands.shape[0])):\n",
    "    print(f'{hand_to_str(sample_hands[i, 0, :])} {hand_to_str(sample_hands[i, 1, :])} {hand_to_str(sample_hands[i, 2, :])} {hand_to_str(sample_hands[i, 3, :])} {sorted_score[i]:.2f}')"
   ]
  }
 ],
 "metadata": {
  "kernelspec": {
   "display_name": "Python 3",
   "language": "python",
   "name": "python3"
  },
  "language_info": {
   "codemirror_mode": {
    "name": "ipython",
    "version": 3
   },
   "file_extension": ".py",
   "mimetype": "text/x-python",
   "name": "python",
   "nbconvert_exporter": "python",
   "pygments_lexer": "ipython3",
   "version": "3.12.3"
  }
 },
 "nbformat": 4,
 "nbformat_minor": 5
}
