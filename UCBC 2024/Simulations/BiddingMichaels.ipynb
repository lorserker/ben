{
 "cells": [
  {
   "cell_type": "markdown",
   "id": "75d07246",
   "metadata": {},
   "source": [
    "# Bidding\n",
    "\n",
    "This is a tutorial for how to use the bidding engine"
   ]
  },
  {
   "cell_type": "code",
   "execution_count": 1,
   "id": "59a5664c",
   "metadata": {},
   "outputs": [
    {
     "name": "stdout",
     "output_type": "stream",
     "text": [
      "WARNING:tensorflow:From d:\\GitHub\\ben\\UCBC 2024\\Simulations\\../../src\\nn\\bidderv2.py:3: The name tf.disable_v2_behavior is deprecated. Please use tf.compat.v1.disable_v2_behavior instead.\n",
      "\n",
      "WARNING:tensorflow:From c:\\ProgramData\\miniconda3\\Lib\\site-packages\\tensorflow\\python\\compat\\v2_compat.py:98: disable_resource_variables (from tensorflow.python.ops.resource_variables_toggle) is deprecated and will be removed in a future version.\n",
      "Instructions for updating:\n",
      "non-resource variables are not supported in the long term\n",
      "WARNING:tensorflow:From d:\\GitHub\\ben\\UCBC 2024\\Simulations\\../../src\\nn\\bidderv2.py:12: The name tf.Session is deprecated. Please use tf.compat.v1.Session instead.\n",
      "\n",
      "WARNING:tensorflow:From d:\\GitHub\\ben\\UCBC 2024\\Simulations\\../../src\\nn\\bidderv2.py:21: The name tf.train.import_meta_graph is deprecated. Please use tf.compat.v1.train.import_meta_graph instead.\n",
      "\n",
      "INFO:tensorflow:Restoring parameters from ..\\Models/NS1EW99-bidding_V2-3125000\n",
      "INFO:tensorflow:Restoring parameters from ..\\Models/NS1EW99-bidding_V2-3125000\n",
      "INFO:tensorflow:Restoring parameters from ..\\Models/contract-193200\n",
      "INFO:tensorflow:Restoring parameters from ..\\Models/NS1EW99-binfo_V2-3125000\n",
      "INFO:tensorflow:Restoring parameters from ..\\Models/lead_suit-999000\n",
      "INFO:tensorflow:Restoring parameters from ..\\Models/lead_nt-475000\n",
      "INFO:tensorflow:Restoring parameters from ..\\Models/Jack/lr3-1000000\n",
      "INFO:tensorflow:Restoring parameters from ..\\Models/single_dummy-32768000\n",
      "INFO:tensorflow:Restoring parameters from ..\\Models/lefty_nt-475000\n",
      "INFO:tensorflow:Restoring parameters from ..\\Models/dummy_nt-475000\n",
      "INFO:tensorflow:Restoring parameters from ..\\Models/righty_nt-475000\n",
      "INFO:tensorflow:Restoring parameters from ..\\Models/decl_nt-475000\n",
      "INFO:tensorflow:Restoring parameters from ..\\Models/lefty_suit-999000\n",
      "INFO:tensorflow:Restoring parameters from ..\\Models/dummy_suit-999000\n",
      "INFO:tensorflow:Restoring parameters from ..\\Models/righty_suit-999000\n",
      "INFO:tensorflow:Restoring parameters from ..\\Models/decl_suit-999000\n"
     ]
    }
   ],
   "source": [
    "import sys\n",
    "import os\n",
    "sys.path.append('../../src')\n",
    "os.environ['BEN_HOME'] = \"../..\"\n",
    "\n",
    "from nn.models import Models\n",
    "from bots import BotBid\n",
    "from util import hand_to_str\n",
    "from sample import Sample\n",
    "import conf\n",
    "import numpy as np\n",
    "\n",
    "np.set_printoptions(precision=2, suppress=True, linewidth=200)\n",
    "np.random.seed(42)\n",
    "models = Models.from_conf(conf.load('../Conf/UCBC2024.conf'),'..')   # loading neural networks\n",
    "sampler = Sample.from_conf(conf.load('../Conf/UCBC2024.conf'), False)  # Load sampling strategies\n"
   ]
  },
  {
   "cell_type": "markdown",
   "id": "10d8f2fc",
   "metadata": {},
   "source": [
    "### Bidding"
   ]
  },
  {
   "cell_type": "code",
   "execution_count": 2,
   "id": "19dbfeb7",
   "metadata": {},
   "outputs": [
    {
     "name": "stderr",
     "output_type": "stream",
     "text": [
      "Loaded lib dds.dll\n",
      "DDSolver being loaded - dds mode 1\n"
     ]
    },
    {
     "data": {
      "text/plain": [
       "[{'call': '2N',\n",
       "  'insta_score': 0.155,\n",
       "  'adjustment': 8,\n",
       "  'expected_score': 571,\n",
       "  'expected_tricks': 11.0},\n",
       " {'call': '4S',\n",
       "  'insta_score': 0.126,\n",
       "  'adjustment': 6,\n",
       "  'expected_score': 571,\n",
       "  'expected_tricks': 11.0},\n",
       " {'call': '3C',\n",
       "  'insta_score': 0.334,\n",
       "  'adjustment': 17,\n",
       "  'expected_score': 73,\n",
       "  'expected_tricks': 8.7},\n",
       " {'call': '4C',\n",
       "  'insta_score': 0.157,\n",
       "  'adjustment': 8,\n",
       "  'expected_score': 37,\n",
       "  'expected_tricks': 8.7}]"
      ]
     },
     "execution_count": 2,
     "metadata": {},
     "output_type": "execute_result"
    }
   ],
   "source": [
    "vuln_ns, vuln_ew = True, False\n",
    "hand = 'K983.8.AJ873.AQ6'\n",
    "\n",
    "from ddsolver import ddsolver\n",
    "dds = ddsolver.DDSolver()\n",
    "\n",
    "auction = [\"PAD_START\",\"1C\",\"2C\",\"PASS\"]\n",
    "bot_bid = BotBid([vuln_ns, vuln_ew], hand, models, sampler, 0, 1, dds, False)\n",
    "\n",
    "bid = bot_bid.bid(auction)\n",
    "bid.to_dict()['candidates']\n",
    "\n",
    "# what's your bid?\n"
   ]
  },
  {
   "cell_type": "code",
   "execution_count": 3,
   "id": "55b647a5",
   "metadata": {},
   "outputs": [
    {
     "name": "stdout",
     "output_type": "stream",
     "text": [
      "K98x.8.AJ8xx.AQx J.KQx.Kxx.KJTxxx QTxxx.AJxxxx.9x. Axx.T9x.QTx.98xx 0.98828 \n",
      " 1C-2C-P-3C-X-3H-P-3N-P-4H-P-4N-P-5C-P-5H-P-P-P (10, 8.8)  \n",
      " 1C-2C-P-4C-X-P-P-4H-P-P-P (10, 8.9)  \n",
      " 1C-2C-P-2N-3C-3H-4C-4S-P-P-P (12, 10.2)  \n",
      " 1C-2C-P-4S-P-P-P (12, 10.2) \n",
      "K98x.8.AJ8xx.AQx AQ.QT.KQ9.K98xxx JTxxx.KJ9xxx.x.x xx.Axxx.Txxx.JTx 0.82764 \n",
      " 1C-2C-P-3C-X-3H-P-3N-P-4H-P-4N-P-5D-P-6S-P-P-P (10, 9.5)  \n",
      " 1C-2C-P-4C-X-P-P-4H-P-P-P (10, 7.4)  \n",
      " 1C-2C-P-2N-3C-3H-P-4S-P-P-P (10, 9.5)  \n",
      " 1C-2C-P-4S-P-P-P (10, 9.5) \n",
      "K98x.8.AJ8xx.AQx A.Axx.Qxxx.Txxxx QJxxx.KQ9xxx.K.9 Txx.JTx.T9x.KJ8x 0.74902 \n",
      " 1C-2C-P-3C-X-P-P-3H-P-4H-P-P-P (10, 9.7)  \n",
      " 1C-2C-P-4C-X-P-P-4H-P-P-P (10, 9.7)  \n",
      " 1C-2C-P-2N-P-3H-P-4S-P-P-P (11, 10.8)  \n",
      " 1C-2C-P-4S-P-P-P (11, 10.8) \n",
      "K98x.8.AJ8xx.AQx A.ATxx.Kx.JT9xxx QTxxx.KJ9xxx.T.8 Jxx.Qx.Q9xxx.Kxx 0.91650 \n",
      " 1C-2C-P-3C-X-P-P-3H-P-P-P (9, 8.4)  \n",
      " 1C-2C-P-4C-X-P-P-4H-P-P-P (9, 8.4)  \n",
      " 1C-2C-P-2N-P-3H-P-4S-P-P-P (11, 10.0)  \n",
      " 1C-2C-P-4S-P-P-P (11, 10.0) \n",
      "K98x.8.AJ8xx.AQx x.AQxx.xx.K98xxx AQJxx.KT9xx.K.Jx Txx.Jxx.QT9xx.Tx 0.74902 \n",
      " 1C-2C-P-3C-X-P-P-3H-P-4H-P-P-P (10, 8.8)  \n",
      " 1C-2C-P-4C-X-P-P-4H-P-P-P (10, 8.8)  \n",
      " 1C-2C-P-2N-P-3H-P-4S-P-P-P (12, 11.7)  \n",
      " 1C-2C-P-4S-P-P-P (12, 11.7) \n",
      "K98x.8.AJ8xx.AQx .KQTx.xxx.KJ98xx QJTxxx.A9xxx.K.T Axx.Jxx.QT9x.xxx 0.74805 \n",
      " 1C-2C-P-3C-X-P-P-3H-P-4H-P-P-P (8, 6.9)  \n",
      " 1C-2C-P-4C-X-P-P-4H-P-P-P (8, 6.9)  \n",
      " 1C-2C-P-2N-P-3H-P-4S-P-P-P (12, 11.1)  \n",
      " 1C-2C-P-4S-P-P-P (12, 11.1) \n",
      "K98x.8.AJ8xx.AQx Q.KTxx.KQ.KJT9xx JTxxxx.AQ9xx.x.x Ax.Jxx.T9xxx.8xx 0.97168 \n",
      " 1C-2C-P-3C-X-P-P-3H-P-P-P (10, 7.4)  \n",
      " 1C-2C-P-4C-X-P-P-4H-P-P-P (10, 7.4)  \n",
      " 1C-2C-P-2N-3C-P-P-4S-P-P-P (12, 11.0)  \n",
      " 1C-2C-P-4S-P-P-P (12, 11.0) \n",
      "K98x.8.AJ8xx.AQx x.AJ9x.Kxx.K9xxx QJxxx.KTxxx.Qx.x ATx.Qxx.T9x.JT8x 0.91260 \n",
      " 1C-2C-P-3C-X-P-P-3H-P-P-P (7, 6.5)  \n",
      " 1C-2C-P-4C-X-P-P-4H-P-P-P (7, 6.5)  \n",
      " 1C-2C-P-2N-P-3H-P-4S-P-P-P (10, 9.8)  \n",
      " 1C-2C-P-4S-P-P-P (10, 9.8) \n",
      "K98x.8.AJ8xx.AQx Ax.xx.QTx.KJTxxx Qxxxx.AK9xx.K.98 JT.QJTxx.9xxx.xx 0.84961 \n",
      " 1C-2C-P-3C-X-P-P-3H-P-4H-P-P-P (9, 8.0)  \n",
      " 1C-2C-P-4C-X-P-P-4H-P-P-P (9, 8.0)  \n",
      " 1C-2C-P-2N-P-3H-P-4S-P-P-P (12, 10.8)  \n",
      " 1C-2C-P-4S-P-P-P (12, 10.8) \n",
      "K98x.8.AJ8xx.AQx AJxx.Kx.Q9x.J98x QTxxx.AQTxx..xxx .J9xxx.KTxxx.KTx 0.72949 \n",
      " 1C-2C-P-3C-P-3H-P-3N-P-P-P (8, 8.3)  \n",
      " 1C-2C-P-4C-P-4S-P-P-P (11, 10.8)  \n",
      " 1C-2C-P-2N-P-3H-P-4S-P-P-P (11, 10.2)  \n",
      " 1C-2C-P-4S-P-P-P (11, 10.2) \n"
     ]
    }
   ],
   "source": [
    "### Samples consistent with the auction so far\n",
    "\n",
    "for i in range(min(10,len(bid.samples))):\n",
    "    print(bid.samples[i])\n"
   ]
  }
 ],
 "metadata": {
  "kernelspec": {
   "display_name": "Python 3",
   "language": "python",
   "name": "python3"
  },
  "language_info": {
   "codemirror_mode": {
    "name": "ipython",
    "version": 3
   },
   "file_extension": ".py",
   "mimetype": "text/x-python",
   "name": "python",
   "nbconvert_exporter": "python",
   "pygments_lexer": "ipython3",
   "version": "3.12.3"
  }
 },
 "nbformat": 4,
 "nbformat_minor": 5
}
