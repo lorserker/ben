{
 "cells": [
  {
   "cell_type": "markdown",
   "id": "75d07246",
   "metadata": {},
   "source": [
    "# Bidding\n",
    "\n",
    "This is a tutorial for how to use the bidding engine"
   ]
  },
  {
   "cell_type": "code",
   "execution_count": 1,
   "id": "59a5664c",
   "metadata": {},
   "outputs": [],
   "source": [
    "import sys\n",
    "import os\n",
    "sys.path.append('../../src')\n",
    "os.environ['BEN_HOME'] = \"../..\"\n",
    "\n",
    "from nn.models import Models\n",
    "from bots import BotBid\n",
    "from util import hand_to_str\n",
    "from sample import Sample\n",
    "import conf\n",
    "import numpy as np\n",
    "\n",
    "np.set_printoptions(precision=2, suppress=True, linewidth=200)\n",
    "np.random.seed(42)\n"
   ]
  },
  {
   "cell_type": "code",
   "execution_count": 2,
   "id": "44786d5d",
   "metadata": {},
   "outputs": [
    {
     "name": "stderr",
     "output_type": "stream",
     "text": [
      "Loading config file d:\\GitHub\\ben\\src\\../UCBC 2024/Conf/UCBC2024.conf\n"
     ]
    },
    {
     "name": "stdout",
     "output_type": "stream",
     "text": [
      "WARNING:tensorflow:From d:\\GitHub\\ben\\UCBC 2024\\Simulations\\../../src\\nn\\bidderv2.py:3: The name tf.disable_v2_behavior is deprecated. Please use tf.compat.v1.disable_v2_behavior instead.\n",
      "\n",
      "WARNING:tensorflow:From c:\\ProgramData\\miniconda3\\Lib\\site-packages\\tensorflow\\python\\compat\\v2_compat.py:98: disable_resource_variables (from tensorflow.python.ops.resource_variables_toggle) is deprecated and will be removed in a future version.\n",
      "Instructions for updating:\n",
      "non-resource variables are not supported in the long term\n",
      "WARNING:tensorflow:From d:\\GitHub\\ben\\UCBC 2024\\Simulations\\../../src\\nn\\bidderv2.py:12: The name tf.Session is deprecated. Please use tf.compat.v1.Session instead.\n",
      "\n",
      "WARNING:tensorflow:From d:\\GitHub\\ben\\UCBC 2024\\Simulations\\../../src\\nn\\bidderv2.py:21: The name tf.train.import_meta_graph is deprecated. Please use tf.compat.v1.train.import_meta_graph instead.\n",
      "\n",
      "INFO:tensorflow:Restoring parameters from ..\\Models/NS1EW99-bidding_V2-3125000\n",
      "INFO:tensorflow:Restoring parameters from ..\\Models/NS1EW99-bidding_V2-3125000\n",
      "INFO:tensorflow:Restoring parameters from ..\\Models/contract-193200\n",
      "INFO:tensorflow:Restoring parameters from ..\\Models/NS1EW99-binfo_V2-3125000\n",
      "INFO:tensorflow:Restoring parameters from ..\\Models/lead_suit-999000\n",
      "INFO:tensorflow:Restoring parameters from ..\\Models/lead_nt-475000\n",
      "INFO:tensorflow:Restoring parameters from ..\\Models/Jack/lr3-1000000\n",
      "INFO:tensorflow:Restoring parameters from ..\\Models/single_dummy-32768000\n",
      "INFO:tensorflow:Restoring parameters from ..\\Models/lefty_nt-475000\n",
      "INFO:tensorflow:Restoring parameters from ..\\Models/dummy_nt-475000\n",
      "INFO:tensorflow:Restoring parameters from ..\\Models/righty_nt-475000\n",
      "INFO:tensorflow:Restoring parameters from ..\\Models/decl_nt-475000\n",
      "INFO:tensorflow:Restoring parameters from ..\\Models/lefty_suit-999000\n",
      "INFO:tensorflow:Restoring parameters from ..\\Models/dummy_suit-999000\n",
      "INFO:tensorflow:Restoring parameters from ..\\Models/righty_suit-999000\n",
      "INFO:tensorflow:Restoring parameters from ..\\Models/decl_suit-999000\n"
     ]
    },
    {
     "name": "stderr",
     "output_type": "stream",
     "text": [
      "Loading config file d:\\GitHub\\ben\\src\\../UCBC 2024/Conf/UCBC2024.conf\n"
     ]
    }
   ],
   "source": [
    "models = Models.from_conf(conf.load('../UCBC 2024/Conf/UCBC2024.conf'),'..')   # loading neural networks\n",
    "sampler = Sample.from_conf(conf.load('../UCBC 2024/Conf/UCBC2024.conf'), False)  # Load sampling strategies\n"
   ]
  },
  {
   "cell_type": "markdown",
   "id": "10d8f2fc",
   "metadata": {},
   "source": [
    "### Running through an example"
   ]
  },
  {
   "cell_type": "code",
   "execution_count": 3,
   "id": "19dbfeb7",
   "metadata": {},
   "outputs": [
    {
     "name": "stderr",
     "output_type": "stream",
     "text": [
      "Loaded lib dds.dll\n",
      "DDSolver being loaded version 2.9.0.0 - dds mode 1\n"
     ]
    },
    {
     "data": {
      "text/plain": [
       "[{'call': '4H',\n",
       "  'insta_score': 0.518,\n",
       "  'adjustment': 259,\n",
       "  'expected_score': 429,\n",
       "  'expected_tricks': 10.8},\n",
       " {'call': '4D',\n",
       "  'insta_score': 0.279,\n",
       "  'adjustment': 139,\n",
       "  'expected_score': 333,\n",
       "  'expected_tricks': 10.7},\n",
       " {'call': '4N',\n",
       "  'insta_score': 0.196,\n",
       "  'adjustment': 98,\n",
       "  'expected_score': 269,\n",
       "  'expected_tricks': 10.8}]"
      ]
     },
     "execution_count": 3,
     "metadata": {},
     "output_type": "execute_result"
    }
   ],
   "source": [
    "# East deals, EW vulnerable.\n",
    "vuln_ns, vuln_ew = False, False\n",
    "\n",
    "from ddsolver import ddsolver\n",
    "dds = ddsolver.DDSolver()\n",
    "\n",
    "# you sit West and hold:\n",
    "hand = 'K62.Q7542.J832.7'\n",
    "\n",
    "auction = [\"PASS\", \"2N\", \"PASS\", \"3D\",\"PASS\", \"4C\", \"PASS\"]\n",
    "bot_bid = BotBid([vuln_ns, vuln_ew], hand, models, sampler, 3, 0, dds, False)\n",
    "\n",
    "bid = bot_bid.bid(auction)\n",
    "bid.to_dict()['candidates']\n",
    "\n",
    "# what's your bid?"
   ]
  },
  {
   "cell_type": "markdown",
   "id": "ad120123",
   "metadata": {},
   "source": [
    "in the output above:\n",
    "- `insta_score` reflects what the neural network prefers to bid\n",
    "- `expected_score` is based on what you expect to score on difference samples (for example, 70% of the time you are making and 30% of the time you are going one off, then the expected score is 0.7 * 620 - 0.3 * 100)"
   ]
  },
  {
   "cell_type": "markdown",
   "id": "051ff121",
   "metadata": {},
   "source": [
    "### Samples consistent with the auction so far\n",
    "\n",
    "Above we said that we are computig expected scores on samples consistent with the auction so far.\n",
    "\n",
    "How do we get these samples?\n",
    "\n",
    "We get some samples in the response we get from the bot (i.e `bid.samples`)"
   ]
  },
  {
   "cell_type": "code",
   "execution_count": 4,
   "id": "55b647a5",
   "metadata": {},
   "outputs": [
    {
     "data": {
      "text/plain": [
       "['J9xx.Tx.Kx.KJ9xx AQTx.A98x.ATx.AQ 8x.KJ.Q9xx.T8xxx Kxx.Qxxxx.J8xx.x 0.53711 \\n P-2N-P-3D-P-4C-P-4H-P-P-P (11, 10.8)  \\n P-2N-P-3D-P-4C-P-4D-P-4H-P-P-P (11, 11.0)  \\n P-2N-P-3D-P-4C-P-4N-P-5D-P-5H-P-P-P (11, 10.8) ',\n",
       " 'J8x.Jx.Axx.QTxxx Qx.AKTx.KQT9.AKx AT9xx.98.xx.J98x Kxx.Qxxxx.J8xx.x 0.52100 \\n P-2N-P-3D-P-4C-P-4H-P-P-P (11, 10.5)  \\n P-2N-P-3D-P-4C-P-4D-P-4H-P-P-P (11, 10.6)  \\n P-2N-P-3D-P-4C-P-4N-P-5C-P-5H-P-P-P (11, 10.5) ',\n",
       " 'A8x.Jx.9xx.98xxx Jx.AKT8.AKTx.AJx QT9xx.9x.Qx.KQTx Kxx.Qxxxx.J8xx.x 0.51123 \\n P-2N-P-3D-P-4C-P-4H-P-P-P (11, 11.1)  \\n P-2N-P-3D-P-4C-P-4D-P-4H-P-P-P (11, 11.2)  \\n P-2N-P-3D-P-4C-P-4N-P-5C-P-5H-P-P-P (11, 11.1) ',\n",
       " 'J8x.x.Q9xx.K8xxx AQ.AJ9x.AKTx.ATx T9xxx.KT8.x.QJ9x Kxx.Qxxxx.J8xx.x 0.50879 \\n P-2N-P-3D-P-4C-P-4H-P-P-P (12, 11.9)  \\n P-2N-P-3D-P-4C-P-4D-P-4N-P-5C-P-6H-P-P-P (12, 11.7)  \\n P-2N-P-3D-P-4C-P-4N-P-5C-P-5H-P-P-P (12, 11.9) ',\n",
       " 'AQ9x.8xx.T9.QT9x xx.AKJ9.AKQx.AJx JT8x.T.xxx.K8xxx Kxx.Qxxxx.J8xx.x 0.50879 \\n P-2N-P-3D-P-4C-P-4H-P-P-P (11, 10.9)  \\n P-2N-P-3D-P-4C-P-4D-P-4N-P-5C-P-6H-P-P-P (11, 10.1)  \\n P-2N-P-3D-P-4C-P-4N-P-5C-P-5H-P-P-P (11, 10.9) ',\n",
       " '9xxx.9x.Q9x.AT9x 8x.AKJx.AKx.KQJx AQJT.T8.Txx.8xxx Kxx.Qxxxx.J8xx.x 0.50879 \\n P-2N-P-3D-P-4C-P-4H-P-P-P (11, 10.8)  \\n P-2N-P-3D-P-4C-P-4D-P-4H-P-P-P (11, 10.7)  \\n P-2N-P-3D-P-4C-P-4N-P-5C-P-5H-P-P-P (11, 10.8) ',\n",
       " '9xx.T98.xx.JT9xx QTxx.AKJx.AK.AQ8 AJ8.x.QT9xx.Kxxx Kxx.Qxxxx.J8xx.x 0.50781 \\n P-2N-P-3D-P-4C-P-4H-P-P-P (11, 11.2)  \\n P-2N-P-3D-P-4C-P-4D-P-4N-P-5C-P-6H-P-P-P (11, 11.3)  \\n P-2N-P-3D-P-4C-P-4N-P-5D-P-5H-P-P-P (11, 11.2) ',\n",
       " 'QT8x.K.ATx.T98xx Ax.ATxx.KQ9x.AKx J9xx.J98.xx.QJxx Kxx.Qxxxx.J8xx.x 0.50781 \\n P-2N-P-3D-P-4C-P-4H-P-P-P (11, 11.0)  \\n P-2N-P-3D-P-4C-P-4D-P-4H-P-P-P (11, 10.9)  \\n P-2N-P-3D-P-4C-P-4N-P-5C-P-5H-P-P-P (11, 11.0) ',\n",
       " 'JT8x.JT9.xx.AJ8x 9x.AK8x.AKQ.KQTx AQxx.x.T9xx.9xxx Kxx.Qxxxx.J8xx.x 0.50586 \\n P-2N-P-3D-P-4C-P-4H-P-P-P (11, 10.8)  \\n P-2N-P-3D-P-4C-P-4D-P-4H-P-P-P (11, 10.8)  \\n P-2N-P-3D-P-4C-P-4N-P-5C-P-5H-P-P-P (11, 10.8) ',\n",
       " 'Txx.x.KQT9.T9xxx AJ9.AKJT.xx.AKQJ Q8xx.98x.Axx.8xx Kxx.Qxxxx.J8xx.x 0.50488 \\n P-2N-P-3D-P-4C-P-4H-P-P-P (11, 10.7)  \\n P-2N-P-3D-P-4C-P-4D-P-4N-P-5C-P-6H-P-P-P (11, 10.3)  \\n P-2N-P-3D-P-4C-P-4N-P-5C-P-5H-P-P-P (11, 10.7) ',\n",
       " '8xx.T.KT9x.98xxx QTxx.AK98.A.AKJx AJ9.Jxx.Qxxx.QTx Kxx.Qxxxx.J8xx.x 0.50488 \\n P-2N-P-3D-P-4C-P-4H-P-P-P (12, 11.4)  \\n P-2N-P-3D-P-4C-P-4D-P-4N-P-5C-P-6H-P-P-P (12, 11.5)  \\n P-2N-P-3D-P-4C-P-4N-P-5D-P-5H-P-P-P (12, 11.4) ',\n",
       " 'A9xxx.Jxx.9x.Jxx Qx.AK.ATxx.AKQTx JT8.T98.KQx.98xx Kxx.Qxxxx.J8xx.x 0.50488 \\n P-2N-P-3D-P-4C-P-4H-P-P-P (11, 10.2)  \\n P-2N-P-3D-P-4C-P-4D-P-4N-P-5C-P-5H-P-P-P (11, 10.1)  \\n P-2N-P-3D-P-4C-P-4N-P-5D-P-5H-P-5N-P-6H-P-6N-P-P-P (9, 10.1) ',\n",
       " 'QT8x.Tx.Axx.JT8x Ax.A98x.KQx.AKQx J9xx.KJ.T9x.9xxx Kxx.Qxxxx.J8xx.x 0.50439 \\n P-2N-P-3D-P-4C-P-4H-P-P-P (11, 10.8)  \\n P-2N-P-3D-P-4C-P-4D-P-4N-P-5C-P-6H-P-P-P (11, 10.9)  \\n P-2N-P-3D-P-4C-P-4N-P-5C-P-5H-P-P-P (11, 10.8) ',\n",
       " 'T98x.J9.Qxx.QJ9x Ax.AKTx.A9x.AKxx QJxx.8x.KTx.T8xx Kxx.Qxxxx.J8xx.x 0.50391 \\n P-2N-P-3D-P-4C-P-4H-P-P-P (11, 12.1)  \\n P-2N-P-3D-P-4C-P-4D-P-4N-P-5C-P-6H-P-P-P (11, 11.1)  \\n P-2N-P-3D-P-4C-P-4N-P-5D-P-5H-P-P-P (11, 12.1) ',\n",
       " 'J98xx.A8.9x.J9xx Tx.KT9x.AKQ.AKQx AQx.Jx.Txxx.T8xx Kxx.Qxxxx.J8xx.x 0.50391 \\n P-2N-P-3D-P-4C-P-4H-P-P-P (11, 10.7)  \\n P-2N-P-3D-P-4C-P-4D-P-4H-P-P-P (11, 10.7)  \\n P-2N-P-3D-P-4C-P-4N-P-5C-P-5H-P-P-P (11, 10.7) ',\n",
       " 'JT9x.Jx.Qxx.JT9x Qx.AK98.A9x.AKxx A8xx.Tx.KTx.Q8xx Kxx.Qxxxx.J8xx.x 0.50391 \\n P-2N-P-3D-P-4C-P-4H-P-P-P (11, 10.2)  \\n P-2N-P-3D-P-4C-P-4D-P-4H-P-P-P (11, 10.1)  \\n P-2N-P-3D-P-4C-P-4N-P-5D-P-5H-P-P-P (11, 10.2) ',\n",
       " 'QJ8.xx.QT9x.Jxxx 9x.AKT8.AKx.AQ8x ATxxx.J9.xx.KT9x Kxx.Qxxxx.J8xx.x 0.50391 \\n P-2N-P-3D-P-4C-P-4H-P-P-P (11, 11.2)  \\n P-2N-P-3D-P-4C-P-4D-P-4H-P-P-P (11, 11.2)  \\n P-2N-P-3D-P-4C-P-4N-P-5D-P-5H-P-P-P (11, 11.2) ',\n",
       " 'T98xx.T.9xx.AJTx AJ.KJ98.AK.KQ9xx Qxx.Axx.QTxx.8xx Kxx.Qxxxx.J8xx.x 0.50391 \\n P-2N-P-3D-P-4C-P-4H-P-P-P (11, 10.7)  \\n P-2N-P-3D-P-4C-P-4D-P-4N-P-5C-P-6H-P-P-P (11, 10.4)  \\n P-2N-P-3D-P-4C-P-4N-P-5C-P-5H-P-P-P (11, 10.7) ',\n",
       " 'Q98xx.J9.Q9x.QJ9 Ax.AKT8.ATx.AKTx JTx.xx.Kxx.8xxxx Kxx.Qxxxx.J8xx.x 0.50342 \\n P-2N-P-3D-P-4C-P-4H-P-P-P (12, 12.1)  \\n P-2N-P-3D-P-4C-P-4D-P-4N-P-5C-P-6H-P-P-P (12, 11.6)  \\n P-2N-P-3D-P-4C-P-4N-P-5D-P-5H-P-P-P (12, 12.1) ',\n",
       " 'QJ9x.T8x.T9.QJ9x T8.AKJ9.KQx.AKTx Axxx.x.Axxx.8xxx Kxx.Qxxxx.J8xx.x 0.50293 \\n P-2N-P-3D-P-4C-P-4H-P-P-P (11, 10.5)  \\n P-2N-P-3D-P-4C-P-4D-P-4H-P-P-P (11, 10.2)  \\n P-2N-P-3D-P-4C-P-4N-P-5C-P-5H-P-P-P (11, 10.5) ']"
      ]
     },
     "execution_count": 4,
     "metadata": {},
     "output_type": "execute_result"
    }
   ],
   "source": [
    "bid.samples"
   ]
  },
  {
   "cell_type": "markdown",
   "id": "7d0dd8f5",
   "metadata": {},
   "source": [
    "each row is one sample. the hands are in the order: N E S W\n",
    "\n",
    "(West always has the same cards because it's your hand and it's known to you)"
   ]
  },
  {
   "cell_type": "code",
   "execution_count": 5,
   "id": "7101e514",
   "metadata": {},
   "outputs": [
    {
     "name": "stdout",
     "output_type": "stream",
     "text": [
      "Good quality: 0.8261333264802632\n",
      "Kxx.Qxxxx.J8xx.x QT8xx.AJ9.9x.K9x J.KTxx.AQx.AT8xx A9xx.8.KTxx.QJxx\n",
      "Kxx.Qxxxx.J8xx.x QT9xxx.x.ATxx.Kx J.AJ9x.Kx.AQT9xx A8x.KT8.Q9x.J8xx\n",
      "Kxx.Qxxxx.J8xx.x AT98x.9.KQ9x.J8x x.AKTx.ATxx.Kxxx QJxx.J8x.x.AQT9x\n",
      "Kxx.Qxxxx.J8xx.x AJ98x.K8.Txx.QJx x.AJTx.AKQxx.9xx QTxx.9x.9.AKT8xx\n",
      "Kxx.Qxxxx.J8xx.x AJT9xx.x.AT.J9xx 8.AKJx.xxx.AKTxx Qxx.T98.KQ9x.Q8x\n",
      "Kxx.Qxxxx.J8xx.x Jxxxx.AJ.Kx.QJTx A.KTxx.Txxx.AKxx QT98.98.AQ9.98xx\n",
      "Kxx.Qxxxx.J8xx.x AQJxx.T8.Q.QT9xx 9.AKJx.KT9x.AJ8x T8xx.9x.Axxx.Kxx\n",
      "Kxx.Qxxxx.J8xx.x AT98x..Axx.JT9xx x.K98x.QT9.AKQ8x QJxx.AJTx.Kxx.xx\n",
      "Kxx.Qxxxx.J8xx.x AQT8x.8.Txx.Q8xx x.AJ9x.AK9x.AJ9x J9xx.KTx.Qx.KTxx\n",
      "Kxx.Qxxxx.J8xx.x AQJ9xx.8.T9x.xxx T.K9xx.AQx.AKJT8 8xx.AJT.Kxx.Q9xx\n",
      "Kxx.Qxxxx.J8xx.x QT8xxx.A9.Txx.9x x.KJ8x.AK.AQT8xx AJ9.Tx.Q9xx.KJxx\n",
      "Kxx.Qxxxx.J8xx.x QT9xx.JTx.A9x.AJ x.AK9x.Qx.KT8xxx AJ8x.8.KTxx.Q9xx\n",
      "Kxx.Qxxxx.J8xx.x AQT9x.Ax.Qx.T9xx 8.JT9x.AKTx.AKJ8 Jxxx.K8.9xx.Qxxx\n",
      "Kxx.Qxxxx.J8xx.x AQT9x.T9x.x.QJ98 .AKJ8.KQ9x.ATxxx J8xxx.x.ATxx.Kxx\n",
      "Kxx.Qxxxx.J8xx.x AJT98.8x.Tx.Txxx x.KJTx.AKQx.AJ98 Qxxx.A9.9xx.KQxx\n",
      "Kxx.Qxxxx.J8xx.x AJ8x.Kxx.Qx.T98x 9.AJT9.Axx.AKJxx QTxxx.8.KT9x.Qxx\n",
      "Kxx.Qxxxx.J8xx.x A9xx.Jx.Q9x.AKJ9 8.AKT8.Kxx.QT8xx QJTxx.9x.ATx.xxx\n",
      "Kxx.Qxxxx.J8xx.x A9xx.KTx.Tx.KQxx x.AJ9x.AKQx.AT8x QJT8x.8.9xx.J9xx\n",
      "Kxx.Qxxxx.J8xx.x T98x.K.AKQ9.T8xx A.AJ9x.Txx.KQJ9x QJxxx.T8x.xx.Axx\n",
      "Kxx.Qxxxx.J8xx.x AQ8xx.A.Qxx.8xxx x.J9xx.A9xx.AKQ9 JT9x.KT8.KT.JTxx\n",
      "Kxx.Qxxxx.J8xx.x QT8xx.x.AKTx.Kxx 9.AKT8.Qxx.A9xxx AJxx.J9x.9x.QJT8\n",
      "Kxx.Qxxxx.J8xx.x QT8xx.Tx.K9xx.QJ x.AK9x.AQxx.Axxx AJ9x.J8.T.KT98xx\n",
      "Kxx.Qxxxx.J8xx.x QJxxxx.ATx.x.Qxx A.KJ8x.KQ9x.AJT8 T98.9.ATxx.K9xxx\n",
      "Kxx.Qxxxx.J8xx.x AQJ98x.J9x.x.AQx .AKTx.KT9x.KJ9xx Txxx.8.AQxx.T8xx\n",
      "Kxx.Qxxxx.J8xx.x AQJT9x.Tx.Q.AJTx .AKJ9.AT9x.K98xx 8xxx.8x.Kxxx.Qxx\n",
      "Kxx.Qxxxx.J8xx.x ATxx.J8x.AT9x.xx x.AT9x.Kxx.AK98x QJ98x.K.Qx.QJTxx\n",
      "Kxx.Qxxxx.J8xx.x AQJ9x.x.xx.KQ9xx x.AK8x.KT9x.A8xx T8xx.JT9.AQx.JTx\n",
      "Kxx.Qxxxx.J8xx.x AQJ9xx.A.T9x.Axx .KT98.AKx.KQJ9xx T8xx.Jxx.Qxx.T8x\n",
      "Kxx.Qxxxx.J8xx.x QJxxx.J8.AQx.K9x A.AKTx.9xx.QJT8x T98x.9x.KTx.Axxx\n",
      "Kxx.Qxxxx.J8xx.x AQJTxx.x.KT.KJxx x.KT9x.Axx.AQxxx 98x.AJ8.Q9xx.T98\n",
      "Kxx.Qxxxx.J8xx.x AQJT9.A.KQxx.Qxx x.K9xx.AT9.AJT8x 8xxx.JT8.xx.K9xx\n",
      "Kxx.Qxxxx.J8xx.x AQJ9xxx.K9.xx.Jx x.ATxx.AKx.ATxxx T8.J8.QT9x.KQ98x\n",
      "Kxx.Qxxxx.J8xx.x AQ98xxx..AQx.K8x J.ATxx.Kx.AJ9xxx Tx.KJ98.T9xx.QTx\n",
      "Kxx.Qxxxx.J8xx.x AQ8x.9.9xx.KQT8x J.A8xx.Axx.AJxxx T9xxx.KJT.KQT.9x\n",
      "Kxx.Qxxxx.J8xx.x QTxx.J.xxx.AKJxx A.KT8x.AKQT.QTxx J98xx.A9x.9x.98x\n",
      "Kxx.Qxxxx.J8xx.x J8xxxx.Tx.KQ9.A8 A.KJ98.Axxx.KQJx QT9.Ax.Tx.T9xxxx\n",
      "Kxx.Qxxxx.J8xx.x Q8xx.T.Qxx.AJTxx A.AJ98.AK9.K9xxx JT9xx.Kxx.Txx.Q8\n",
      "Kxx.Qxxxx.J8xx.x QJ9xx.Tx.AT9x.xx A.AKJ8.KQxx.KQT8 T8xx.9x.x.AJ9xxx\n"
     ]
    }
   ],
   "source": [
    "# we got some samples above. if we want more, we can always get more\n",
    "\n",
    "sample_hands, sorted_score, p_hcp, p_shp, good_quality = bot_bid.sample_hands_for_auction([\"PAD_START\", \"PAD_START\", \"PAD_START\", \"PASS\", \"1N\", \"PASS\", \"3S\",\"PASS\"],0)\n",
    "print(\"Good quality:\", good_quality)\n",
    "for i in range(sample_hands.shape[0]):\n",
    "    print(f'{hand_to_str(sample_hands[i, 0, :])} {hand_to_str(sample_hands[i, 1, :])} {hand_to_str(sample_hands[i, 2, :])} {hand_to_str(sample_hands[i, 3, :])}')"
   ]
  }
 ],
 "metadata": {
  "kernelspec": {
   "display_name": "Python 3",
   "language": "python",
   "name": "python3"
  },
  "language_info": {
   "codemirror_mode": {
    "name": "ipython",
    "version": 3
   },
   "file_extension": ".py",
   "mimetype": "text/x-python",
   "name": "python",
   "nbconvert_exporter": "python",
   "pygments_lexer": "ipython3",
   "version": "3.12.3"
  }
 },
 "nbformat": 4,
 "nbformat_minor": 5
}
