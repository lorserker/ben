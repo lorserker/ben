{
 "cells": [
  {
   "cell_type": "markdown",
   "id": "75d07246",
   "metadata": {},
   "source": [
    "# Bidding\n",
    "\n",
    "This is a tutorial for how to use the bidding engine"
   ]
  },
  {
   "cell_type": "code",
   "execution_count": 1,
   "id": "59a5664c",
   "metadata": {},
   "outputs": [],
   "source": [
    "import sys\n",
    "import os\n",
    "sys.path.append('../../src')\n",
    "os.environ['BEN_HOME'] = \"../..\"\n",
    "\n",
    "from nn.models import Models\n",
    "from bots import BotBid\n",
    "from util import hand_to_str\n",
    "from sample import Sample\n",
    "import conf\n",
    "import numpy as np\n",
    "\n",
    "np.set_printoptions(precision=2, suppress=True, linewidth=200)\n",
    "np.random.seed(42)\n"
   ]
  },
  {
   "cell_type": "code",
   "execution_count": 2,
   "id": "44786d5d",
   "metadata": {},
   "outputs": [
    {
     "name": "stdout",
     "output_type": "stream",
     "text": [
      "WARNING:tensorflow:From d:\\GitHub\\ben\\UCBC 2024\\Simulations\\../../src\\nn\\bidderv2.py:3: The name tf.disable_v2_behavior is deprecated. Please use tf.compat.v1.disable_v2_behavior instead.\n",
      "\n",
      "WARNING:tensorflow:From c:\\ProgramData\\miniconda3\\Lib\\site-packages\\tensorflow\\python\\compat\\v2_compat.py:98: disable_resource_variables (from tensorflow.python.ops.resource_variables_toggle) is deprecated and will be removed in a future version.\n",
      "Instructions for updating:\n",
      "non-resource variables are not supported in the long term\n",
      "WARNING:tensorflow:From d:\\GitHub\\ben\\UCBC 2024\\Simulations\\../../src\\nn\\bidderv2.py:12: The name tf.Session is deprecated. Please use tf.compat.v1.Session instead.\n",
      "\n",
      "WARNING:tensorflow:From d:\\GitHub\\ben\\UCBC 2024\\Simulations\\../../src\\nn\\bidderv2.py:21: The name tf.train.import_meta_graph is deprecated. Please use tf.compat.v1.train.import_meta_graph instead.\n",
      "\n",
      "INFO:tensorflow:Restoring parameters from ..\\Models/NS1EW99-bidding_V2-3125000\n",
      "INFO:tensorflow:Restoring parameters from ..\\Models/NS1EW99-bidding_V2-3125000\n",
      "INFO:tensorflow:Restoring parameters from ..\\Models/contract-193200\n",
      "INFO:tensorflow:Restoring parameters from ..\\Models/NS1EW99-binfo_V2-3125000\n",
      "INFO:tensorflow:Restoring parameters from ..\\Models/lead_suit-999000\n",
      "INFO:tensorflow:Restoring parameters from ..\\Models/lead_nt-475000\n",
      "INFO:tensorflow:Restoring parameters from ..\\Models/Jack/lr3-1000000\n",
      "INFO:tensorflow:Restoring parameters from ..\\Models/single_dummy-32768000\n",
      "INFO:tensorflow:Restoring parameters from ..\\Models/lefty_nt-475000\n",
      "INFO:tensorflow:Restoring parameters from ..\\Models/dummy_nt-475000\n",
      "INFO:tensorflow:Restoring parameters from ..\\Models/righty_nt-475000\n",
      "INFO:tensorflow:Restoring parameters from ..\\Models/decl_nt-475000\n",
      "INFO:tensorflow:Restoring parameters from ..\\Models/lefty_suit-999000\n",
      "INFO:tensorflow:Restoring parameters from ..\\Models/dummy_suit-999000\n",
      "INFO:tensorflow:Restoring parameters from ..\\Models/righty_suit-999000\n",
      "INFO:tensorflow:Restoring parameters from ..\\Models/decl_suit-999000\n"
     ]
    }
   ],
   "source": [
    "models = Models.from_conf(conf.load('../Conf/UCBC2024.conf'),'..')   # loading neural networks\n",
    "sampler = Sample.from_conf(conf.load('../Conf/UCBC2024.conf'), False)  # Load sampling strategies\n"
   ]
  },
  {
   "cell_type": "markdown",
   "id": "10d8f2fc",
   "metadata": {},
   "source": [
    "### Running through an example"
   ]
  },
  {
   "cell_type": "code",
   "execution_count": 3,
   "id": "19dbfeb7",
   "metadata": {},
   "outputs": [
    {
     "name": "stderr",
     "output_type": "stream",
     "text": [
      "Loaded lib dds.dll\n",
      "DDSolver being loaded - dds mode 1\n"
     ]
    },
    {
     "data": {
      "text/plain": [
       "[{'call': '4H',\n",
       "  'insta_score': 0.518,\n",
       "  'adjustment': 259,\n",
       "  'expected_score': 432,\n",
       "  'expected_tricks': 11.2},\n",
       " {'call': '4D',\n",
       "  'insta_score': 0.279,\n",
       "  'adjustment': 139,\n",
       "  'expected_score': 386,\n",
       "  'expected_tricks': 11.2},\n",
       " {'call': '4N',\n",
       "  'insta_score': 0.196,\n",
       "  'adjustment': 98,\n",
       "  'expected_score': 307,\n",
       "  'expected_tricks': 11.2}]"
      ]
     },
     "execution_count": 3,
     "metadata": {},
     "output_type": "execute_result"
    }
   ],
   "source": [
    "# East deals, EW vulnerable.\n",
    "vuln_ns, vuln_ew = False, False\n",
    "\n",
    "from ddsolver import ddsolver\n",
    "dds = ddsolver.DDSolver()\n",
    "\n",
    "# you sit West and hold:\n",
    "hand = 'K62.Q7542.J832.7'\n",
    "\n",
    "auction = [\"PASS\", \"2N\", \"PASS\", \"3D\",\"PASS\", \"4C\", \"PASS\"]\n",
    "bot_bid = BotBid([vuln_ns, vuln_ew], hand, models, sampler, 3, 0, dds, False)\n",
    "\n",
    "bid = bot_bid.bid(auction)\n",
    "bid.to_dict()['candidates']\n",
    "\n",
    "# what's your bid?"
   ]
  },
  {
   "cell_type": "markdown",
   "id": "ad120123",
   "metadata": {},
   "source": [
    "in the output above:\n",
    "- `insta_score` reflects what the neural network prefers to bid\n",
    "- `expected_score` is based on what you expect to score on difference samples (for example, 70% of the time you are making and 30% of the time you are going one off, then the expected score is 0.7 * 620 - 0.3 * 100)"
   ]
  },
  {
   "cell_type": "markdown",
   "id": "051ff121",
   "metadata": {},
   "source": [
    "### Samples consistent with the auction so far\n",
    "\n",
    "Above we said that we are computig expected scores on samples consistent with the auction so far.\n",
    "\n",
    "How do we get these samples?\n",
    "\n",
    "We get some samples in the response we get from the bot (i.e `bid.samples`)"
   ]
  },
  {
   "cell_type": "code",
   "execution_count": 4,
   "id": "55b647a5",
   "metadata": {},
   "outputs": [
    {
     "data": {
      "text/plain": [
       "['Q.JTx.Q9x.J98xxx xxxx.AK98.AKx.AK AJT98.x.Txx.QTxx Kxx.Qxxxx.J8xx.x 0.55615 \\n P-2N-P-3D-P-4C-P-4H-P-P-P (10, 10.1)  \\n P-2N-P-3D-P-4C-P-4D-P-4N-P-5C-P-6H-P-P-P (10, 10.2)  \\n P-2N-P-3D-P-4C-P-4N-P-5D-P-5H-P-P-P (10, 10.1) ',\n",
       " 'T98x.T8x.T.AQ98x AJxx.AKJ9.Axx.KJ Qx.x.KQ9xx.Txxxx Kxx.Qxxxx.J8xx.x 0.54980 \\n P-2N-P-3D-P-4C-P-4H-P-P-P (11, 10.2)  \\n P-2N-P-3D-P-4C-P-4D-P-4H-P-P-P (11, 10.1)  \\n P-2N-P-3D-P-4C-P-4N-P-5D-P-5H-P-P-P (11, 10.2) ',\n",
       " 'Jxxx.T.Axx.KJTxx A9x.AK8x.KT9x.AQ QT8.J9x.Qx.98xxx Kxx.Qxxxx.J8xx.x 0.54199 \\n P-2N-P-3D-P-4C-P-4H-P-P-P (11, 10.9)  \\n P-2N-P-3D-P-4C-P-4D-P-4H-P-P-P (11, 11.1)  \\n P-2N-P-3D-P-4C-P-4N-P-5C-P-5H-P-P-P (11, 10.9) ',\n",
       " 'T9x.Tx.QT.JT9xxx xx.AKJx.A9xx.AKQ AQJ8x.98.Kxx.8xx Kxx.Qxxxx.J8xx.x 0.53906 \\n P-2N-P-3D-P-4C-P-4H-P-P-P (11, 10.4)  \\n P-2N-P-3D-P-4C-P-4D-P-4N-P-5C-P-6H-P-P-P (11, 10.7)  \\n P-2N-P-3D-P-4C-P-4N-P-5C-P-5H-P-P-P (11, 10.4) ',\n",
       " 'Q9xx.T8.Tx.AJxxx Axx.AKJx.AQxx.KT JT8.9x.K9x.Q98xx Kxx.Qxxxx.J8xx.x 0.53662 \\n P-2N-P-3D-P-4C-P-4H-P-P-P (11, 10.7)  \\n P-2N-P-3D-P-4C-P-4D-P-4H-P-P-P (11, 10.4)  \\n P-2N-P-3D-P-4C-P-4N-P-5C-P-5H-P-P-P (11, 10.7) ',\n",
       " 'Qxx.Jx.QT9.QJ9xx 8x.AKT8.AKxx.AKx AJT9x.9x.xx.T8xx Kxx.Qxxxx.J8xx.x 0.52930 \\n P-2N-P-3D-P-4C-P-4H-P-P-P (11, 11.6)  \\n P-2N-P-3D-P-4C-P-4D-P-4N-P-5C-P-6H-P-P-P (11, 11.5)  \\n P-2N-P-3D-P-4C-P-4N-P-5C-P-5H-P-P-P (11, 11.6) ',\n",
       " '98x.Tx.QTx.KJT8x Qx.AKJ8.AK9x.A9x AJTxx.9x.xx.Qxxx Kxx.Qxxxx.J8xx.x 0.52344 \\n P-2N-P-3D-P-4C-P-4H-P-P-P (12, 11.5)  \\n P-2N-P-3D-P-4C-P-4D-P-4H-P-P-P (12, 11.8)  \\n P-2N-P-3D-P-4C-P-4N-P-5C-P-5H-P-P-P (12, 11.5) ',\n",
       " 'Tx.8xx.9xx.AKTxx AQ98.AKJ9.AQT.Qx Jxxx.T.Kxx.J98xx Kxx.Qxxxx.J8xx.x 0.52246 \\n P-2N-P-3D-P-4C-P-4H-P-P-P (11, 11.1)  \\n P-2N-P-3D-P-4C-P-4D-P-4N-P-5C-X-6H-P-P-P (11, 11.1)  \\n P-2N-P-3D-P-4C-P-4N-P-5D-P-5H-P-P-P (11, 11.1) ',\n",
       " 'QJT8.J9.9xx.AK8x Axx.AK8x.AKQT.9x 9xx.Tx.xx.QJTxxx Kxx.Qxxxx.J8xx.x 0.52051 \\n P-2N-P-3D-P-4C-P-4H-P-P-P (11, 11.7)  \\n P-2N-P-3D-P-4C-P-4D-P-4H-P-P-P (11, 11.7)  \\n P-2N-P-3D-P-4C-P-4N-P-5C-P-5H-P-P-P (11, 11.7) ',\n",
       " 'Q9xx.K.Txx.Kxxxx AJxx.AJ9x.AKx.AJ T8.T8x.Q9x.QT98x Kxx.Qxxxx.J8xx.x 0.51953 \\n P-2N-P-3D-P-4C-P-4H-P-P-P (12, 12.2)  \\n P-2N-P-3D-P-4C-P-4D-P-4N-P-5C-P-6H-P-P-P (12, 12.1)  \\n P-2N-P-3D-P-4C-P-4N-P-5C-P-5H-P-P-P (12, 12.2) ',\n",
       " '8xx.8x.Qx.AT98xx AJx.AKJx.AK9x.Qx QT9x.T9.Txx.KJxx Kxx.Qxxxx.J8xx.x 0.51855 \\n P-2N-P-3D-P-4C-P-4H-P-P-P (11, 12.0)  \\n P-2N-P-3D-P-4C-P-4D-P-4N-P-5C-X-6H-P-P-P (11, 12.1)  \\n P-2N-P-3D-P-4C-P-4N-P-5C-P-5H-P-P-P (11, 12.0) ',\n",
       " 'xx.JTx.xxx.KTxxx A8.AK8x.AK9x.QJx QJT9xx.9.QT.A98x Kxx.Qxxxx.J8xx.x 0.51660 \\n P-2N-P-3D-P-4C-P-4H-P-P-P (12, 11.6)  \\n P-2N-P-3D-P-4C-P-4D-P-4H-P-P-P (12, 11.4)  \\n P-2N-P-3D-P-4C-P-4N-P-5C-P-5H-P-P-P (12, 11.6) ',\n",
       " 'QJxx.T.xx.ATxxxx Ax.AJ8x.AKT9.KQx T98x.K9x.Qxx.J98 Kxx.Qxxxx.J8xx.x 0.51270 \\n P-2N-P-3D-P-4C-P-4H-P-P-P (11, 10.8)  \\n P-2N-P-3D-P-4C-P-4D-P-4H-P-P-P (11, 10.8)  \\n P-2N-P-3D-P-4C-P-4N-P-5C-P-5H-P-P-P (11, 10.8) ',\n",
       " 'T8x.T8.KQx.KJ8xx AQ.AKJx.AT9x.QT9 J9xxx.9x.xx.Axxx Kxx.Qxxxx.J8xx.x 0.51074 \\n P-2N-P-3D-P-4C-P-4H-P-P-P (11, 11.2)  \\n P-2N-P-3D-P-4C-P-4D-P-4H-P-P-P (11, 11.1)  \\n P-2N-P-3D-P-4C-P-4N-P-5C-P-5H-P-P-P (11, 11.2) ',\n",
       " 'J9xx.9.K9x.Q9xxx Q8.AKJx.AQxx.KJT ATxx.T8x.Tx.A8xx Kxx.Qxxxx.J8xx.x 0.51074 \\n P-2N-P-3D-P-4C-P-4H-P-P-P (10, 10.3)  \\n P-2N-P-3D-P-4C-P-4D-P-4H-P-P-P (10, 10.3)  \\n P-2N-P-3D-P-4C-P-4N-P-5C-P-5H-P-P-P (10, 10.3) ',\n",
       " 'AT8x.JT.9xx.QTxx Jx.A8xx.AKQx.AKJ Q9xx.K9.Tx.98xxx Kxx.Qxxxx.J8xx.x 0.51074 \\n P-2N-P-3D-P-4C-P-4H-P-P-P (11, 10.8)  \\n P-2N-P-3D-P-4C-P-4D-P-4N-P-5C-P-6H-P-P-P (11, 10.9)  \\n P-2N-P-3D-P-4C-P-4N-P-5C-P-5H-P-P-P (11, 10.8) ',\n",
       " 'J9x.J9.9xx.K98xx Tx.AK8x.AKx.AQJT AQ8xx.Tx.QTx.xxx Kxx.Qxxxx.J8xx.x 0.50684 \\n P-2N-P-3D-P-4C-P-4H-P-P-P (11, 11.7)  \\n P-2N-P-3D-P-4C-P-4D-P-4H-P-P-P (11, 11.5)  \\n P-2N-P-3D-P-4C-P-4N-P-5D-P-5H-P-P-P (11, 11.7) ',\n",
       " 'QJ9x.x.KQxx.JT8x A8.AK8x.A9x.AQxx Txxx.JT9.Tx.K9xx Kxx.Qxxxx.J8xx.x 0.50684 \\n P-2N-P-3D-P-4C-P-4H-P-P-P (11, 11.4)  \\n P-2N-P-3D-P-4C-P-4D-P-4H-P-P-P (11, 11.2)  \\n P-2N-P-3D-P-4C-P-4N-P-5D-P-5H-P-P-P (11, 11.4) ',\n",
       " 'AJ.8x.QT9x.QT8xx xx.AKJ9.AKx.AKJx QT98xx.Tx.xx.9xx Kxx.Qxxxx.J8xx.x 0.50684 \\n P-2N-P-3D-P-4C-P-4H-P-P-P (11, 11.4)  \\n P-2N-P-3D-P-4C-P-4D-P-4N-P-5C-P-6H-P-P-P (11, 10.5)  \\n P-2N-P-3D-P-4C-P-4N-P-5C-P-5H-P-P-P (11, 11.4) ',\n",
       " 'T98x..K9xx.KQ8xx AQJx.AJ9x.AQ.Axx xx.KT8x.Txx.JT9x Kxx.Qxxxx.J8xx.x 0.50586 \\n P-2N-P-3D-P-4C-P-4H-P-P-P (11, 11.1)  \\n P-2N-P-3D-P-4C-P-4D-P-4N-P-5C-X-6H-P-P-P (11, 11.1)  \\n P-2N-P-3D-P-4C-P-4N-P-5D-P-5H-P-P-P (11, 11.1) ']"
      ]
     },
     "execution_count": 4,
     "metadata": {},
     "output_type": "execute_result"
    }
   ],
   "source": [
    "bid.samples"
   ]
  },
  {
   "cell_type": "markdown",
   "id": "7d0dd8f5",
   "metadata": {},
   "source": [
    "each row is one sample. the hands are in the order: N E S W\n",
    "\n",
    "(West always has the same cards because it's your hand and it's known to you)"
   ]
  },
  {
   "cell_type": "code",
   "execution_count": 5,
   "id": "7101e514",
   "metadata": {},
   "outputs": [
    {
     "name": "stdout",
     "output_type": "stream",
     "text": [
      "Good quality: 0.824\n",
      "Kxx.Qxxxx.J8xx.x AJT98.9x.ATx.JTx x.AT8x.Qxx.AKxxx Qxxx.KJ.K9x.Q98x\n",
      "Kxx.Qxxxx.J8xx.x AT9xx.x.Q9xx.Kxx x.AJ9x.KTx.AQJ8x QJ8x.KT8.Ax.T9xx\n",
      "Kxx.Qxxxx.J8xx.x ATxxx.J8.Qx.QT8x J.KT9x.K9x.AKJxx Q98x.Ax.ATxx.9xx\n",
      "Kxx.Qxxxx.J8xx.x AQ98x.9.Txx.A8xx x.AJ8x.A9x.KQTxx JTxx.KTx.KQx.J9x\n",
      "Kxx.Qxxxx.J8xx.x AT9xx.T9.Q9xx.A9 8.AJ8x.AKT.QJTxx QJxx.Kx.xx.K8xxx\n",
      "Kxx.Qxxxx.J8xx.x AQxx.K8.Kxxx.K9x 8.AT9x.A9x.AQJxx JT9xx.Jx.QT.T8xx\n",
      "Kxx.Qxxxx.J8xx.x A8xxx.9.Qx.A8xxx x.AKxx.Kxxx.KT9x QJT9.JT8.AT9.QJx\n",
      "Kxx.Qxxxx.J8xx.x AJ98xx.Tx.A.98xx x.KJ9x.KQ9x.AKJx QTx.A8.Txxx.QTxx\n",
      "Kxx.Qxxxx.J8xx.x AQJT8x.x.T9.KJTx .AKTx.KQxx.AQ8xx 9xxx.J98.Axx.9xx\n",
      "Kxx.Qxxxx.J8xx.x QJTxx.x.AK9x.Txx 8.AKJ9.Qxxx.AQ9x A9xx.T8x.T.KJ8xx\n",
      "Kxx.Qxxxx.J8xx.x AQJ98x.Jx.T.Kxxx x.KT98.AK9x.AQ8x Txx.Ax.Qxxx.JT9x\n",
      "Kxx.Qxxxx.J8xx.x A8xx.T8x.KQ9x.Q8 J.AKJ9.Ax.KTxxxx QT9xx.x.Txx.AJ9x\n",
      "Kxx.Qxxxx.J8xx.x AT8xx.J9.x.QJ9xx J.AKxx.Qxxx.AKxx Q9xx.T8.AKT9.T8x\n",
      "Kxx.Qxxxx.J8xx.x AQTx.K9x.Qxx.T9x 9.AJTx.A9x.AKQxx J8xxx.8.KTx.J8xx\n",
      "Kxx.Qxxxx.J8xx.x ATxx.KJ8.xx.QJTx x.AT9x.AQT9.AKxx QJ98x.x.Kxx.98xx\n",
      "Kxx.Qxxxx.J8xx.x AJT8x.ATx.x.QT8x x.KJ98.AKQT.KJxx Q9xx.x.9xxx.A9xx\n",
      "Kxx.Qxxxx.J8xx.x AQTx.Jxx.9x.8xxx J.KT98.AQx.AKQJT 98xxx.A.KTxx.9xx\n",
      "Kxx.Qxxxx.J8xx.x AJ8x.J9x.KQxx.Jx T.AKTx.ATx.AQxxx Q9xxx.8.9x.KT98x\n",
      "Kxx.Qxxxx.J8xx.x A98x.x.KQ9x.K8xx x.AKJT.AT.AQJxxx QJTxx.98x.xxx.T9\n",
      "Kxx.Qxxxx.J8xx.x J8xxxx.A.QTx.9xx Q.T98x.AKx.AKQxx AT9.KJx.9xx.JT8x\n",
      "Kxx.Qxxxx.J8xx.x T9xxx.J8.KQx.K8x 8.AK9x.ATx.AQJ9x AQJx.Tx.9xx.Txxx\n",
      "Kxx.Qxxxx.J8xx.x QJ9xx.KTx.T9.98x x.A98x.AKx.KQJxx AT8x.J.Qxxx.ATxx\n",
      "Kxx.Qxxxx.J8xx.x Q9xx.x.QTx.AQxxx J.AKJx.AKxx.KJ98 AT8xx.T98.9x.Txx\n",
      "Kxx.Qxxxx.J8xx.x QT8xx.KT9.Q9.98x A.AJxx.KTxx.KQJx J9xx.8.Axx.ATxxx\n",
      "Kxx.Qxxxx.J8xx.x AJT98x..AKQ9.xxx .AJ9x.xxx.AKJT9x Qxxx.KT8x.Tx.Q8x\n",
      "Kxx.Qxxxx.J8xx.x AJ9.Jx.AKxx.Q98x T.AKTx.QT9.KJxxx Q8xxxx.98.xx.ATx\n",
      "Kxx.Qxxxx.J8xx.x 8xxx.KJ.Kx.KT98x T.A9xx.AQ9x.AQJx AQJ9x.T8.Txx.xxx\n",
      "Kxx.Qxxxx.J8xx.x ATxx.Jx.AKx.JTxx Q.AT8x.Qxx.AQ8xx J98xx.K9.T9x.K9x\n",
      "Kxx.Qxxxx.J8xx.x QJT9x.AJx.x.AQxx x.KT9x.AQ9x.KJ8x A8xx.8.KTxx.T9xx\n",
      "Kxx.Qxxxx.J8xx.x Qxxxx.Tx.Ax.KQJx T.AKJ9.KQ9x.AT9x AJ98.8x.Txx.8xxx\n",
      "Kxx.Qxxxx.J8xx.x AJT8x.T98.9xx.QT Q.KJxx.Axx.AKJxx 9xxx.A.KQT.98xxx\n",
      "Kxx.Qxxxx.J8xx.x QJTxx.x.KT9x.JTx x.AKT9.AQxx.AQxx A98x.J8x.x.K98xx\n",
      "Kxx.Qxxxx.J8xx.x Axx.xx.AQ9x.AJ9x Q.AKJ8.KTx.KQT8x JT98xx.T9.xx.xxx\n",
      "Kxx.Qxxxx.J8xx.x T98xx..AQ9x.KT9x Q.AKJ9.KTxx.AQxx AJxx.T8xx.x.J8xx\n",
      "Kxx.Qxxxx.J8xx.x AT8xx.Kx.Ax.QJ8x 9.AJ98.KQTx.AK9x QJxx.Tx.9xx.Txxx\n",
      "Kxx.Qxxxx.J8xx.x QJTx.Tx.AKx.AT8x x.KJ98.Qxx.KQJxx A98xx.Ax.T9x.9xx\n"
     ]
    }
   ],
   "source": [
    "# we got some samples above. if we want more, we can always get more\n",
    "\n",
    "sample_hands, sorted_score, p_hcp, p_shp, good_quality = bot_bid.sample_hands_for_auction([\"PAD_START\", \"PAD_START\", \"PAD_START\", \"PASS\", \"1N\", \"PASS\", \"3S\",\"PASS\"],0)\n",
    "print(\"Good quality:\", good_quality)\n",
    "for i in range(sample_hands.shape[0]):\n",
    "    print(f'{hand_to_str(sample_hands[i, 0, :])} {hand_to_str(sample_hands[i, 1, :])} {hand_to_str(sample_hands[i, 2, :])} {hand_to_str(sample_hands[i, 3, :])}')"
   ]
  }
 ],
 "metadata": {
  "kernelspec": {
   "display_name": "Python 3",
   "language": "python",
   "name": "python3"
  },
  "language_info": {
   "codemirror_mode": {
    "name": "ipython",
    "version": 3
   },
   "file_extension": ".py",
   "mimetype": "text/x-python",
   "name": "python",
   "nbconvert_exporter": "python",
   "pygments_lexer": "ipython3",
   "version": "3.12.3"
  }
 },
 "nbformat": 4,
 "nbformat_minor": 5
}
