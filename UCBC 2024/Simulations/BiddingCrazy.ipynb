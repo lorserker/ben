{
 "cells": [
  {
   "cell_type": "markdown",
   "id": "75d07246",
   "metadata": {},
   "source": [
    "# Bidding\n",
    "\n",
    "This is a tutorial for how to use the bidding engine"
   ]
  },
  {
   "cell_type": "code",
   "execution_count": 1,
   "id": "59a5664c",
   "metadata": {},
   "outputs": [],
   "source": [
    "import sys\n",
    "import os\n",
    "sys.path.append('../../src')\n",
    "os.environ['BEN_HOME'] = \"../..\"\n",
    "\n",
    "import logging\n",
    "\n",
    "# Set logging level to suppress warnings\n",
    "logging.getLogger().setLevel(logging.ERROR)\n",
    "# Just disables the warnings\n",
    "os.environ['TF_CPP_MIN_LOG_LEVEL'] = '2'\n",
    "from nn.models import Models\n",
    "from bots import BotBid\n",
    "from bidding import bidding\n",
    "from util import hand_to_str\n",
    "from deck52 import random_deal\n",
    "from sample import Sample\n",
    "import conf\n",
    "import numpy as np\n",
    "\n",
    "np.set_printoptions(precision=2, suppress=True, linewidth=200)\n",
    "np.random.seed(42)"
   ]
  },
  {
   "cell_type": "code",
   "execution_count": 2,
   "id": "44786d5d",
   "metadata": {},
   "outputs": [
    {
     "name": "stdout",
     "output_type": "stream",
     "text": [
      "WARNING:tensorflow:From d:\\GitHub\\ben\\UCBC 2024\\Simulations\\../../src\\nn\\bidderv2.py:3: The name tf.disable_v2_behavior is deprecated. Please use tf.compat.v1.disable_v2_behavior instead.\n",
      "\n",
      "WARNING:tensorflow:From c:\\ProgramData\\miniconda3\\Lib\\site-packages\\tensorflow\\python\\compat\\v2_compat.py:98: disable_resource_variables (from tensorflow.python.ops.resource_variables_toggle) is deprecated and will be removed in a future version.\n",
      "Instructions for updating:\n",
      "non-resource variables are not supported in the long term\n",
      "WARNING:tensorflow:From d:\\GitHub\\ben\\UCBC 2024\\Simulations\\../../src\\nn\\bidderv2.py:12: The name tf.Session is deprecated. Please use tf.compat.v1.Session instead.\n",
      "\n",
      "WARNING:tensorflow:From d:\\GitHub\\ben\\UCBC 2024\\Simulations\\../../src\\nn\\bidderv2.py:21: The name tf.train.import_meta_graph is deprecated. Please use tf.compat.v1.train.import_meta_graph instead.\n",
      "\n",
      "INFO:tensorflow:Restoring parameters from ..\\Models/NS1EW99-bidding_V2-3125000\n",
      "INFO:tensorflow:Restoring parameters from ..\\Models/NS1EW99-bidding_V2-3125000\n",
      "INFO:tensorflow:Restoring parameters from ..\\Models/contract-193200\n",
      "INFO:tensorflow:Restoring parameters from ..\\Models/NS1EW99-binfo_V2-3125000\n",
      "INFO:tensorflow:Restoring parameters from ..\\Models/lead_suit-999000\n",
      "INFO:tensorflow:Restoring parameters from ..\\Models/lead_nt-475000\n",
      "INFO:tensorflow:Restoring parameters from ..\\Models/Jack/lr3-1000000\n",
      "INFO:tensorflow:Restoring parameters from ..\\Models/single_dummy-32768000\n",
      "INFO:tensorflow:Restoring parameters from ..\\Models/lefty_nt-475000\n",
      "INFO:tensorflow:Restoring parameters from ..\\Models/dummy_nt-475000\n",
      "INFO:tensorflow:Restoring parameters from ..\\Models/righty_nt-475000\n",
      "INFO:tensorflow:Restoring parameters from ..\\Models/decl_nt-475000\n",
      "INFO:tensorflow:Restoring parameters from ..\\Models/lefty_suit-999000\n",
      "INFO:tensorflow:Restoring parameters from ..\\Models/dummy_suit-999000\n",
      "INFO:tensorflow:Restoring parameters from ..\\Models/righty_suit-999000\n",
      "INFO:tensorflow:Restoring parameters from ..\\Models/decl_suit-999000\n"
     ]
    }
   ],
   "source": [
    "models = Models.from_conf(conf.load('../Conf/UCBC2024.conf'),'..')   # loading neural networks\n",
    "models.search_threshold = 0.07\n",
    "models.double_dummy_calculator = True\n",
    "# Filter to remove hands not consistent with the bidding. Used during play\n",
    "models.bid_accept_play_threshold = 0.01\n",
    "sampler = Sample.from_conf(conf.load('../Conf/UCBC2024.conf'), False)  # Load sampling strategies\n",
    "#sampler.use_distance = False\n",
    "#sampler.bidding_threshold_sampling = 0.25\n"
   ]
  },
  {
   "cell_type": "markdown",
   "id": "669da023",
   "metadata": {},
   "source": [
    "### Bidding through an entire auction for all four hands\n",
    "\n",
    "Now we'll take a random deal and let the bot bid for each hand. We assume North deals and nobody is vulnerable.\n",
    "\n",
    "This script was used to detect the reason for some strange bidding. But the error is fixed, so this should look normal now"
   ]
  },
  {
   "cell_type": "code",
   "execution_count": 3,
   "id": "fc27ca79",
   "metadata": {},
   "outputs": [
    {
     "name": "stderr",
     "output_type": "stream",
     "text": [
      "Loaded lib dds.dll\n",
      "DDSolver being loaded - dds mode 1\n"
     ]
    }
   ],
   "source": [
    "from ddsolver import ddsolver\n",
    "dds = ddsolver.DDSolver()\n",
    "\n",
    "hands = [\"AJ.KJ9.A9764.AJ8\",\"T853.AT65.Q8.T52\", \"K976.Q874.KT.K74\", \"Q42.32.J532.Q963\"]\n",
    "#hands = ['AKQJTx.AQTx.Ax.x', 'xxx.Kx.KT8x.KJxx', 'x.J98xxxx.9.QTxx', '98x..QJxxxx.A98x']"
   ]
  },
  {
   "cell_type": "code",
   "execution_count": 4,
   "id": "d480cbba",
   "metadata": {},
   "outputs": [],
   "source": [
    "# North is dealer\n",
    "dealer = 0\n",
    "bidder_bots = [BotBid([False, True], hand, models, sampler, i, dealer, dds, False) for i, hand in enumerate(hands)]"
   ]
  },
  {
   "cell_type": "code",
   "execution_count": 5,
   "id": "7d77351a",
   "metadata": {},
   "outputs": [
    {
     "name": "stdout",
     "output_type": "stream",
     "text": [
      "{'bid': '1D', 'who': 'NN', 'quality': '1', 'candidates': [{'call': '1D', 'insta_score': 0.999}], 'hcp': [6.9, 7.8, 6.9], 'shape': [3.7, 3.2, 2.7, 3.1, 3.7, 3.2, 2.7, 3.2, 3.7, 3.2, 2.8, 3.1]}\n",
      "{'bid': 'PASS', 'who': 'NN', 'quality': '1', 'candidates': [{'call': 'PASS', 'insta_score': 1.0}], 'hcp': [10.4, 9.6, 13.4], 'shape': [3.1, 3.2, 3.0, 3.7, 3.1, 3.2, 3.1, 3.6, 2.7, 2.8, 4.8, 2.9]}\n",
      "{'bid': '1H', 'who': 'NN', 'quality': '1', 'candidates': [{'call': '1H', 'insta_score': 1.0}], 'hcp': [8.3, 13.2, 6.9], 'shape': [3.2, 3.3, 2.9, 3.7, 2.7, 2.7, 4.8, 2.8, 3.0, 3.2, 3.2, 3.7]}\n",
      "{'bid': 'PASS', 'who': 'NN', 'quality': '1', 'candidates': [{'call': 'PASS', 'insta_score': 1.0}], 'hcp': [14.0, 8.2, 11.8], 'shape': [3.2, 3.0, 4.3, 2.5, 3.6, 3.1, 2.7, 3.5, 3.2, 4.8, 1.9, 3.0]}\n",
      "{'bid': '2N', 'who': 'NN', 'quality': '1', 'candidates': [{'call': '2N', 'insta_score': 1.0}], 'hcp': [6.2, 9.6, 6.6], 'shape': [3.9, 2.5, 2.9, 3.6, 3.4, 4.4, 2.3, 3.0, 3.9, 2.7, 2.9, 3.4]}\n",
      "{'bid': 'PASS', 'who': 'NN', 'quality': '1', 'candidates': [{'call': 'PASS', 'insta_score': 1.0}], 'hcp': [9.3, 5.9, 18.3], 'shape': [2.6, 4.4, 2.9, 3.1, 3.4, 2.2, 3.5, 3.8, 3.0, 2.6, 4.4, 3.1]}\n",
      "{'bid': '3N', 'who': 'NN', 'quality': '1.0', 'candidates': [{'call': '3N', 'insta_score': 0.996}], 'samples': ['ATx.AT.AQJ8x.Axx QJ.KJ9x.9x.JT98x K9xx.Q8xx.KT.Kxx 8xxx.xxx.xxxx.Qx 0.99951', 'Ax.AKx.J98xx.AQx 8xx.JTx.Axxx.98x K9xx.Q8xx.KT.Kxx QJTx.9xx.Qx.JTxx 0.99951', 'AQT8.K9x.A9xx.AJ Jxx.JTx.QJxx.98x K9xx.Q8xx.KT.Kxx xx.Axx.8xx.QTxxx 0.99951', 'A8.Axx.A8xx.AQTx QJT.J9.J9xx.98xx K9xx.Q8xx.KT.Kxx xxxx.KTxx.Qxx.Jx 0.99951', 'AQxx.AK9.Axxx.Qx x.JTx.J8xxx.ATxx K9xx.Q8xx.KT.Kxx JT8x.xxx.Q9.J98x 0.99951', 'AQx.AKT.QJxxx.Q8 Jxx.J9xx.98x.Axx K9xx.Q8xx.KT.Kxx T8x.xx.Axx.JT9xx 0.99951', 'AQx.AJ.AQJ9x.JT9 8x.Kxxx.xx.Axxxx K9xx.Q8xx.KT.Kxx JTxx.T9x.8xxx.Q8 0.99902', 'J8x.AK9.AQ9x.A8x Qx.JTx.J8xx.Txxx K9xx.Q8xx.KT.Kxx ATxx.xxx.xxx.QJ9 0.99951', 'Axx.AKx.A9xxx.Ax Tx.9xx.J8xx.T9xx K9xx.Q8xx.KT.Kxx QJ8x.JTx.Qx.QJ8x 0.99902', 'AQ.KJT.Axxxx.AJx xx.Axxx.9x.Q9xxx K9xx.Q8xx.KT.Kxx JT8xx.9x.QJ8x.T8 0.99902', 'A8x.AK9.AQxxx.J8 JT.JTx.J8x.ATxxx K9xx.Q8xx.KT.Kxx Qxxx.xxx.9xx.Q9x 0.99951', 'AQx.AK.QJ9xx.Q9x 8xx.Jxxx.Axx.J8x K9xx.Q8xx.KT.Kxx JTx.T9x.8xx.ATxx 0.99951', 'AQ.KJx.Axxx.A8xx xx.T9xx.Jxx.J9xx K9xx.Q8xx.KT.Kxx JT8xx.Ax.Q98x.QT 0.92480', 'AQJ.KJ.Axxxx.ATx 8xxx.A9x.J9x.xxx K9xx.Q8xx.KT.Kxx Tx.Txxx.Q8x.QJ98 0.99902', 'AJ.Kxx.QJxx.AQJx 8xx.JT9x.A9x.8xx K9xx.Q8xx.KT.Kxx QTxx.Ax.8xxx.T9x 0.99951', 'AQT8.AK.Qxxx.ATx xx.Jxxx.J8x.8xxx K9xx.Q8xx.KT.Kxx Jxx.T9x.A9xx.QJ9 0.99951', 'Ax.AK9.AJxxx.Q9x J8x.Txx.Q8xx.A8x K9xx.Q8xx.KT.Kxx QTxx.Jxx.9x.JTxx 0.99951', 'A8x.AKx.AQJxx.T9 xxx.JT9x.9xxx.8x K9xx.Q8xx.KT.Kxx QJT.xx.8x.AQJxxx 0.99951', 'AQ8.AK.9xxx.AJxx Tx.Jxx.Qxxx.QT8x K9xx.Q8xx.KT.Kxx Jxxx.T9xx.AJ8.9x 0.99951', 'Txx.AKJ.AQJx.Axx AQJ8x.xx.8x.JT8x K9xx.Q8xx.KT.Kxx x.T9xx.9xxxx.Q9x 0.73682'], 'hcp': [5.5, 18.3, 5.2], 'shape': [3.1, 3.2, 3.1, 3.6, 2.9, 2.8, 4.4, 3.0, 3.1, 3.1, 3.3, 3.6]}\n",
      "{'bid': 'PASS', 'who': 'NN', 'quality': '1', 'candidates': [{'call': 'PASS', 'insta_score': 1.0}], 'hcp': [18.6, 6.7, 9.3], 'shape': [3.1, 2.9, 4.1, 2.9, 3.5, 3.8, 2.5, 3.1, 3.2, 4.1, 2.4, 3.3]}\n",
      "{'bid': 'PASS', 'who': 'NN', 'quality': '0.93', 'candidates': [{'call': 'PASS', 'insta_score': 1.0, 'adjustment': 0, 'expected_score': 332, 'expected_tricks': 9.8}], 'samples': ['AJ.KJ9.A9xxx.AJ8 KT98x.Txx.QTx.Qx Qxx.Qxxx.8xx.KTx xxx.A8x.KJ.9xxxx 0.94775', 'AJ.KJ9.A9xxx.AJ8 QT9xx.QTx.J8.9xx 8x.8xxx.KTx.KQTx Kxxx.Axx.Qxx.xxx 0.94922', 'AJ.KJ9.A9xxx.AJ8 T.Txxx.K8xx.9xxx K9xx.AQxx.Jx.xxx Q8xxxx.8x.QT.KQT 0.76221', 'AJ.KJ9.A9xxx.AJ8 8xxx.xx.QT.KQTxx K9x.A8xx.K8xx.xx QTxx.QTxx.Jx.9xx 0.94727', 'AJ.KJ9.A9xxx.AJ8 KQTx.8xxx.QJ.Qxx 8xxx.ATxx.T8x.K9 9xx.Qx.Kxx.Txxxx 0.95850', 'AJ.KJ9.A9xxx.AJ8 T8x.Q8xx.xxx.Kxx Kx.xxxx.QJ.QT9xx Q9xxxx.AT.KT8.xx 0.71875', 'AJ.KJ9.A9xxx.AJ8 Txxx.Axx.8xx.Txx xxx.Txxx.Jx.KQxx KQ98.Q8x.KQT.9xx 0.74609', 'AJ.KJ9.A9xxx.AJ8 xxx.AQxx.QJx.Q9x K9x.T8xx.KTx.xxx QT8xx.xx.8x.KTxx 0.90430', 'AJ.KJ9.A9xxx.AJ8 T8xxx.xx.QJT.9xx Qxx.Axxx.Kx.KTxx K9x.QT8x.8xx.Qxx 0.98926', 'AJ.KJ9.A9xxx.AJ8 9xxxxx.Tx.Jx.xxx Q8x.Axxx.8x.KQ9x KT.Q8xx.KQTx.Txx 0.99512', 'AJ.KJ9.A9xxx.AJ8 Txxx.8xx.Txx.Kxx Q8xx.Axxx.8.QT9x K9x.QTx.KQJx.xxx 0.98535', 'AJ.KJ9.A9xxx.AJ8 T8xx.QT8xx.Kx.xx KQx.Axxx.Tx.KT9x 9xxx.x.QJ8x.Qxxx 0.98779', 'AJ.KJ9.A9xxx.AJ8 xxx.xxx.Txx.T9xx Kxx.Q8xx.KQ.Qxxx QT98x.ATx.J8x.Kx 0.77637', 'AJ.KJ9.A9xxx.AJ8 Qxxx.A8x.T8x.T9x KTx.Txxx.Qx.KQxx 98xx.Qxx.KJx.xxx 0.99805', 'AJ.KJ9.A9xxx.AJ8 xxx.Q8xx.QTxx.xx KT8.Txxx.J8.KTxx Q9xxx.Ax.Kx.Q9xx 0.74121', 'AJ.KJ9.A9xxx.AJ8 K98.AQx.Qxx.xxxx Qxxx.Txxx.JT.KT9 Txxx.8xx.K8x.Qxx 0.93994', 'AJ.KJ9.A9xxx.AJ8 Kxxx.Q8xx.Qx.Qxx 98x.ATxx.KTx.T9x QTxx.xx.J8x.Kxxx 0.93066', 'AJ.KJ9.A9xxx.AJ8 T9xx.Qxxx.Jxx.xx Kxx.Axxx.KQ8.9xx Q8xx.T8.Tx.KQTxx 0.99512', 'AJ.KJ9.A9xxx.AJ8 Qxxx.QTx.T8x.K9x T8x.8xxx.KQJx.xx K9xx.Axx.x.QTxxx 0.74414', 'AJ.KJ9.A9xxx.AJ8 Q98x.Axx.Qxx.9xx Kxx.T8xx.JT8.KQT Txxx.Qxx.Kx.xxxx 0.99170'], 'hcp': [6.5, 9.3, 7.1], 'shape': [3.9, 2.8, 2.9, 3.4, 3.3, 3.9, 2.5, 3.3, 4.0, 2.9, 2.9, 3.2]}\n",
      "{'bid': 'PASS', 'who': 'NN', 'quality': '0.9', 'candidates': [{'call': 'PASS', 'insta_score': 1.0, 'adjustment': 0, 'expected_score': -356, 'expected_tricks': 9.9}], 'samples': ['Jxx.KQ9.ATxx.AKQ T8xx.ATxx.Q8.Txx AKQx.J8xx.Jx.9xx 9x.xx.K9xxx.J8xx 0.99902', 'Kx.Q98.AKJx.AJ8x T8xx.ATxx.Q8.Txx AQxx.Kxxx.xx.Q9x J9x.Jx.T9xxx.Kxx 0.99902', 'AK9x.QJx.AK9x.Jx T8xx.ATxx.Q8.Txx QJx.K9xx.xxx.Axx xx.8x.JTxx.KQ98x 0.99902', 'KJx.K8x.AKJx.Axx T8xx.ATxx.Q8.Txx A9x.Q9xx.9xx.KJx Qxx.Jx.Txxx.Q98x 0.99902', 'QJ9.K8x.AKxx.KQx T8xx.ATxx.Q8.Txx Axxx.Qxxx.Tx.A8x Kx.J9.J9xxx.J9xx 0.99902', 'Axx.KJ.ATxxx.AK9 T8xx.ATxx.Q8.Txx KJx.98xx.KJx.Q8x Q9x.Qxx.9xx.Jxxx 0.99805', 'AQx.Qx.AJT9x.KQx T8xx.ATxx.Q8.Txx KJxx.KJ8x.Kxx.9x 9x.9xx.xxx.AJ8xx 0.99805', 'AK.KJx.KTxx.A8xx T8xx.ATxx.Q8.Txx Q9xx.Q98x.Axx.Kx Jxx.xx.J9xx.QJ9x 0.99805', 'AQx.K9.KTxx.KQJx T8xx.ATxx.Q8.Txx KJxx.QJxx.xxx.Ax 9x.8xx.AJ9x.98xx 0.99805', 'AQ9.Kx.AT9xx.KQ9 T8xx.ATxx.Q8.Txx KJx.J98x.Jx.AJxx xxx.Qxx.Kxxx.8xx 0.99805', 'AKQx.K9.A9xx.QJx T8xx.ATxx.Q8.Txx J9x.Q8xx.JTx.AK8 xx.Jxx.Kxxx.9xxx 0.99805', 'AQx.Qx.AKTxx.QJx T8xx.ATxx.Q8.Txx Kxx.Jxxx.9x.AK8x J9x.K98.Jxxx.9xx 0.99805', 'KQx.K9x.AK9x.Kxx T8xx.ATxx.Q8.Txx Axx.Jxxx.xxx.AQx J9x.Q8.JTxx.J98x 0.99805', 'AKx.K8.Kxxx.KQJx T8xx.ATxx.Q8.Txx QJx.Jxxx.ATx.A98 9xx.Q9x.J9xx.xxx 0.99756', 'KJx.KJx.KT9x.AKx T8xx.ATxx.Q8.Txx AQx.Qxxx.Axx.9xx 9xx.98.Jxxx.QJ8x 0.99756', 'Qxx.Qxx.AKJxx.AK T8xx.ATxx.Q8.Txx A9.KJxx.9xx.Q98x KJxx.98.Txx.Jxxx 0.99756', 'Ax.KQx.KJTx.AQ9x T8xx.ATxx.Q8.Txx KQxx.J98x.xx.Kxx J9x.xx.A9xxx.J8x 0.99756', 'QJx.KQ.AKJTx.QJx T8xx.ATxx.Q8.Txx Axx.8xxx.xx.AKxx K9x.J9x.9xxx.98x 0.99756', 'Kx.KQx.AK9xx.A9x T8xx.ATxx.Q8.Txx AQJ.J8xx.xxx.KJx 9xxx.9x.JTx.Q8xx 0.99756', 'Kxx.KJx.Kxxx.AKQ T8xx.ATxx.Q8.Txx AQ9x.Q8xx.J9.8xx Jx.9x.ATxxx.J9xx 0.99756'], 'hcp': [9.3, 5.8, 18.4], 'shape': [2.7, 4.0, 3.1, 3.2, 3.3, 2.5, 3.5, 3.7, 3.0, 2.7, 4.3, 3.1]}\n",
      "['1D', 'PASS', '1H', 'PASS', '2N', 'PASS', '3N', 'PASS', 'PASS', 'PASS']\n"
     ]
    }
   ],
   "source": [
    "auction = [] \n",
    "\n",
    "turn_i = 0 # whose turn is it to bid\n",
    "step = 0\n",
    "\n",
    "while not bidding.auction_over(auction):\n",
    "    bid = bidder_bots[turn_i].bid(auction)\n",
    "    #if step== 5:\n",
    "    #     bid.bid='X'\n",
    "    #if step== 1:\n",
    "    #     bid.bid='PASS'\n",
    "    print(bid.to_dict())\n",
    "    auction.append(bid.bid)\n",
    "    turn_i = (turn_i + 1) % 4  # next player's turn\n",
    "    step += 1\n",
    "print(auction)"
   ]
  }
 ],
 "metadata": {
  "kernelspec": {
   "display_name": "Python 3",
   "language": "python",
   "name": "python3"
  },
  "language_info": {
   "codemirror_mode": {
    "name": "ipython",
    "version": 3
   },
   "file_extension": ".py",
   "mimetype": "text/x-python",
   "name": "python",
   "nbconvert_exporter": "python",
   "pygments_lexer": "ipython3",
   "version": "3.12.3"
  }
 },
 "nbformat": 4,
 "nbformat_minor": 5
}
