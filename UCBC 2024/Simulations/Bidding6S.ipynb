{
 "cells": [
  {
   "cell_type": "markdown",
   "id": "75d07246",
   "metadata": {},
   "source": [
    "# Bidding\n",
    "\n",
    "This is a tutorial for how to use the bidding engine"
   ]
  },
  {
   "cell_type": "code",
   "execution_count": 1,
   "id": "59a5664c",
   "metadata": {},
   "outputs": [
    {
     "name": "stdout",
     "output_type": "stream",
     "text": [
      "WARNING:tensorflow:From d:\\GitHub\\ben\\UCBC 2024\\Simulations\\../../src\\nn\\bidderv2.py:3: The name tf.disable_v2_behavior is deprecated. Please use tf.compat.v1.disable_v2_behavior instead.\n",
      "\n",
      "WARNING:tensorflow:From c:\\ProgramData\\miniconda3\\Lib\\site-packages\\tensorflow\\python\\compat\\v2_compat.py:98: disable_resource_variables (from tensorflow.python.ops.resource_variables_toggle) is deprecated and will be removed in a future version.\n",
      "Instructions for updating:\n",
      "non-resource variables are not supported in the long term\n",
      "WARNING:tensorflow:From d:\\GitHub\\ben\\UCBC 2024\\Simulations\\../../src\\nn\\bidderv2.py:12: The name tf.Session is deprecated. Please use tf.compat.v1.Session instead.\n",
      "\n",
      "WARNING:tensorflow:From d:\\GitHub\\ben\\UCBC 2024\\Simulations\\../../src\\nn\\bidderv2.py:21: The name tf.train.import_meta_graph is deprecated. Please use tf.compat.v1.train.import_meta_graph instead.\n",
      "\n",
      "INFO:tensorflow:Restoring parameters from ..\\Models/NS1EW99-bidding_V2-3125000\n",
      "INFO:tensorflow:Restoring parameters from ..\\Models/NS1EW99-bidding_V2-3125000\n",
      "INFO:tensorflow:Restoring parameters from ..\\Models/contract-193200\n",
      "INFO:tensorflow:Restoring parameters from ..\\Models/NS1EW99-binfo_V2-3125000\n",
      "INFO:tensorflow:Restoring parameters from ..\\Models/lead_suit-999000\n",
      "INFO:tensorflow:Restoring parameters from ..\\Models/lead_nt-475000\n",
      "INFO:tensorflow:Restoring parameters from ..\\Models/Jack/lr3-1000000\n",
      "INFO:tensorflow:Restoring parameters from ..\\Models/single_dummy-32768000\n",
      "INFO:tensorflow:Restoring parameters from ..\\Models/lefty_nt-475000\n",
      "INFO:tensorflow:Restoring parameters from ..\\Models/dummy_nt-475000\n",
      "INFO:tensorflow:Restoring parameters from ..\\Models/righty_nt-475000\n",
      "INFO:tensorflow:Restoring parameters from ..\\Models/decl_nt-475000\n",
      "INFO:tensorflow:Restoring parameters from ..\\Models/lefty_suit-999000\n",
      "INFO:tensorflow:Restoring parameters from ..\\Models/dummy_suit-999000\n",
      "INFO:tensorflow:Restoring parameters from ..\\Models/righty_suit-999000\n",
      "INFO:tensorflow:Restoring parameters from ..\\Models/decl_suit-999000\n"
     ]
    }
   ],
   "source": [
    "import sys\n",
    "import os\n",
    "sys.path.append('../../src')\n",
    "os.environ['BEN_HOME'] = \"../..\"\n",
    "import logging\n",
    "\n",
    "# Set logging level to suppress warnings\n",
    "logging.getLogger().setLevel(logging.ERROR)\n",
    "# Just disables the warnings\n",
    "os.environ['TF_CPP_MIN_LOG_LEVEL'] = '2'\n",
    "\n",
    "from nn.models import Models\n",
    "from bots import BotBid\n",
    "from util import hand_to_str\n",
    "from sample import Sample\n",
    "import conf\n",
    "import numpy as np\n",
    "\n",
    "np.set_printoptions(precision=2, suppress=True, linewidth=200)\n",
    "np.random.seed(42)\n",
    "\n",
    "models = Models.from_conf(conf.load('../UCBC 2024/Conf/UCBC2024.conf'),'..')   # loading neural networks\n",
    "sampler = Sample.from_conf(conf.load('../UCBC 2024/Conf/UCBC2024.conf'), False)  # Load sampling strategies\n"
   ]
  },
  {
   "cell_type": "markdown",
   "id": "10d8f2fc",
   "metadata": {},
   "source": [
    "### Running through an example"
   ]
  },
  {
   "cell_type": "code",
   "execution_count": 2,
   "id": "19dbfeb7",
   "metadata": {},
   "outputs": [
    {
     "name": "stderr",
     "output_type": "stream",
     "text": [
      "Loaded lib dds.dll\n",
      "DDSolver being loaded - dds mode 1\n"
     ]
    },
    {
     "data": {
      "text/plain": [
       "[{'call': '1S', 'insta_score': 1.0}]"
      ]
     },
     "execution_count": 2,
     "metadata": {},
     "output_type": "execute_result"
    }
   ],
   "source": [
    "# East deals, EW vulnerable.\n",
    "vuln_ns, vuln_ew = False, True\n",
    "\n",
    "from ddsolver import ddsolver\n",
    "dds = ddsolver.DDSolver()\n",
    "\n",
    "# you sit West as dealer and hold:\n",
    "hand = 'Q6542.QJ7.AKT6.7'\n",
    "\n",
    "auction = [\"PAD_START\",\"PAD_START\",\"PAD_START\"]\n",
    "bot_bid = BotBid([vuln_ns, vuln_ew], hand, models, sampler, 3, 3, dds, False)\n",
    "\n",
    "bid = bot_bid.bid(auction)\n",
    "bid.to_dict()['candidates']\n",
    "\n",
    "# what's your bid?"
   ]
  },
  {
   "cell_type": "code",
   "execution_count": 3,
   "metadata": {},
   "outputs": [
    {
     "data": {
      "text/plain": [
       "[]"
      ]
     },
     "execution_count": 3,
     "metadata": {},
     "output_type": "execute_result"
    }
   ],
   "source": [
    "bid.samples"
   ]
  },
  {
   "cell_type": "code",
   "execution_count": 4,
   "id": "bfe98f56",
   "metadata": {},
   "outputs": [
    {
     "data": {
      "text/plain": [
       "[{'call': '3C', 'insta_score': 0.994}]"
      ]
     },
     "execution_count": 4,
     "metadata": {},
     "output_type": "execute_result"
    }
   ],
   "source": [
    "auction = [\"PAD_START\",\"PAD_START\",\"PAD_START\",\"1S\", \"PASS\", \"2N\",\"PASS\"]\n",
    "bid = bot_bid.bid(auction)\n",
    "\n",
    "bid.to_dict()['candidates']"
   ]
  },
  {
   "cell_type": "code",
   "execution_count": 5,
   "id": "55b647a5",
   "metadata": {},
   "outputs": [
    {
     "data": {
      "text/plain": [
       "[]"
      ]
     },
     "execution_count": 5,
     "metadata": {},
     "output_type": "execute_result"
    }
   ],
   "source": [
    "bid.samples"
   ]
  },
  {
   "cell_type": "code",
   "execution_count": 6,
   "id": "7101e514",
   "metadata": {},
   "outputs": [
    {
     "data": {
      "text/plain": [
       "[{'call': '3S',\n",
       "  'insta_score': 0.325,\n",
       "  'adjustment': 162,\n",
       "  'expected_score': 386,\n",
       "  'expected_tricks': 9.8},\n",
       " {'call': '4C',\n",
       "  'insta_score': 0.18,\n",
       "  'adjustment': 90,\n",
       "  'expected_score': 368,\n",
       "  'expected_tricks': 9.8},\n",
       " {'call': '4S',\n",
       "  'insta_score': 0.164,\n",
       "  'adjustment': 82,\n",
       "  'expected_score': 389,\n",
       "  'expected_tricks': 9.8},\n",
       " {'call': '3D',\n",
       "  'insta_score': 0.118,\n",
       "  'adjustment': 59,\n",
       "  'expected_score': 391,\n",
       "  'expected_tricks': 9.9},\n",
       " {'call': '3H',\n",
       "  'insta_score': 0.097,\n",
       "  'adjustment': 49,\n",
       "  'expected_score': 383,\n",
       "  'expected_tricks': 9.8}]"
      ]
     },
     "execution_count": 6,
     "metadata": {},
     "output_type": "execute_result"
    }
   ],
   "source": [
    "auction = [\"PAD_START\",\"PAD_START\",\"PAD_START\", \"1S\", \"PASS\", \"2N\", \"PASS\",\"3C\",\"X\",\"PASS\",\"PASS\"]\n",
    "bid = bot_bid.bid(auction)\n",
    "\n",
    "bid.to_dict()['candidates']"
   ]
  },
  {
   "cell_type": "code",
   "execution_count": 7,
   "metadata": {},
   "outputs": [
    {
     "data": {
      "text/plain": [
       "['x.9xx.8xx.AKQTxx AKT9.KTxx.Q9x.9x J8x.A8x.Jxx.J8xx Qxxxx.QJx.AKTx.x 0.48926 \\n 1S-P-2N-P-3C-X-P-P-3S-P-4S-P-P-P (11, 10.8)  \\n 1S-P-2N-P-3C-X-P-P-4C-X-4S-P-P-P (11, 10.8)  \\n 1S-P-2N-P-3C-X-P-P-4S-P-P-P (11, 10.8)  \\n 1S-P-2N-P-3C-X-P-P-3D-P-3H-P-4S-P-P-P (11, 10.8)  \\n 1S-P-2N-P-3C-X-P-P-3H-P-4C-P-4S-P-P-P (11, 10.8) ',\n",
       " 'A.9xx.8xx.AJT9xx KJxx.KT8.Jx.Kxxx T98.Axxx.Q9xx.Q8 Qxxxx.QJx.AKTx.x 0.48389 \\n 1S-P-2N-P-3C-X-P-P-3S-P-4S-P-P-P (10, 9.8)  \\n 1S-P-2N-P-3C-X-P-P-4C-X-XX-P-4S-P-P-P (10, 9.8)  \\n 1S-P-2N-P-3C-X-P-P-4S-P-P-P (10, 9.8)  \\n 1S-P-2N-P-3C-X-P-P-3D-P-3H-P-4S-P-P-P (10, 9.8)  \\n 1S-P-2N-P-3C-X-P-P-3H-P-4S-P-P-P (10, 9.8) ',\n",
       " '9x.8x.Qxx.AKT8xx AK8x.K9xx.98.Qxx JT.ATxx.Jxxx.J9x Qxxxx.QJx.AKTx.x 0.48340 \\n 1S-P-2N-P-3C-X-P-P-3S-P-4S-P-P-P (11, 10.3)  \\n 1S-P-2N-P-3C-X-P-P-4C-X-XX-P-4S-P-P-P (11, 10.3)  \\n 1S-P-2N-P-3C-X-P-P-4S-P-P-P (11, 10.3)  \\n 1S-P-2N-P-3C-X-P-P-3D-P-3H-P-4S-P-P-P (11, 10.3)  \\n 1S-P-2N-P-3C-X-P-P-3H-P-4C-P-4S-P-P-P (11, 10.3) ',\n",
       " '8x.A98x.x.AJTxxx AT9x.Kx.Q8xx.K98 KJ.Txxx.J9xx.Qxx Qxxxx.QJx.AKTx.x 0.48340 \\n 1S-P-2N-P-3C-X-P-P-3S-P-4S-P-P-P (10, 9.8)  \\n 1S-P-2N-P-3C-X-P-P-4C-X-4S-P-P-P (10, 9.8)  \\n 1S-P-2N-P-3C-X-P-P-4S-P-P-P (10, 9.8)  \\n 1S-P-2N-P-3C-X-P-P-3D-P-3H-P-4S-P-P-P (10, 9.8)  \\n 1S-P-2N-P-3C-X-P-P-3H-P-4S-P-P-P (10, 9.8) ',\n",
       " 'K.9xx.8xx.AKTxxx A98x.ATx.xx.QJ98 JTx.K8xx.QJ9x.xx Qxxxx.QJx.AKTx.x 0.48193 \\n 1S-P-2N-P-3C-X-P-P-3S-P-4S-P-P-P (10, 10.0)  \\n 1S-P-2N-P-3C-X-P-P-4C-X-XX-P-4S-P-P-P (10, 10.0)  \\n 1S-P-2N-P-3C-X-P-P-4S-P-P-P (10, 10.0)  \\n 1S-P-2N-P-3C-X-P-P-3D-P-3H-P-4S-P-P-P (10, 10.0)  \\n 1S-P-2N-P-3C-X-P-P-3H-P-4C-P-4S-P-P-P (10, 10.0) ',\n",
       " 'J.8xx.Q8x.AQJTxx T98x.AKxx.J9x.K8 AKx.T9x.xxx.9xxx Qxxxx.QJx.AKTx.x 0.48047 \\n 1S-P-2N-P-3C-X-P-P-3S-P-4S-P-P-P (10, 9.6)  \\n 1S-P-2N-P-3C-X-P-P-4C-X-4S-P-P-P (10, 9.6)  \\n 1S-P-2N-P-3C-X-P-P-4S-P-P-P (10, 9.6)  \\n 1S-P-2N-P-3C-X-P-P-3D-P-3H-P-4S-P-P-P (10, 9.6)  \\n 1S-P-2N-P-3C-X-P-P-3H-P-4C-P-4S-P-P-P (10, 9.6) ',\n",
       " 'J9.ATx.Qx.AT9xxx AK8x.K98x.xx.J8x Tx.xxx.J98xx.KQx Qxxxx.QJx.AKTx.x 0.47852 \\n 1S-P-2N-P-3C-X-P-P-3S-P-4S-P-P-P (11, 10.1)  \\n 1S-P-2N-P-3C-X-P-P-4C-X-XX-P-4S-P-P-P (11, 10.1)  \\n 1S-P-2N-P-3C-X-P-P-4S-P-P-P (11, 10.1)  \\n 1S-P-2N-P-3C-X-P-P-3D-P-3H-P-4S-P-P-P (11, 10.1)  \\n 1S-P-2N-P-3C-X-P-P-3H-P-4C-P-4S-P-P-P (11, 10.1) ',\n",
       " 'T.xxx.Qxx.KQJ8xx K8.Kxx.J98x.A9xx AJ9xx.AT98.xx.Tx Qxxxx.QJx.AKTx.x 0.47803 \\n 1S-P-2N-P-3C-X-P-P-3S-P-P-P (7, 8.1)  \\n 1S-P-2N-P-3C-X-P-P-4C-X-P-P-4S-P-P-P (7, 8.1)  \\n 1S-P-2N-P-3C-X-P-P-4S-P-P-P (7, 8.1)  \\n 1S-P-2N-P-3C-X-P-P-3D-P-3S-P-4S-P-P-P (7, 8.1)  \\n 1S-P-2N-P-3C-X-P-P-3H-P-3N-P-4S-P-P-P (7, 8.1) ',\n",
       " 'K.xxx.8xx.AQT9xx AJ8x.A98x.9xx.Kx T9x.KTx.QJx.J8xx Qxxxx.QJx.AKTx.x 0.47607 \\n 1S-P-2N-P-3C-X-P-P-3S-P-4S-P-P-P (11, 10.4)  \\n 1S-P-2N-P-3C-X-P-P-4C-X-4S-P-P-P (11, 10.4)  \\n 1S-P-2N-P-3C-X-P-P-4S-P-P-P (11, 10.4)  \\n 1S-P-2N-P-3C-X-P-P-3D-P-3H-P-4S-P-P-P (11, 10.4)  \\n 1S-P-2N-P-3C-X-P-P-3H-P-4C-P-4S-P-P-P (11, 10.4) ',\n",
       " 'K.8xx.Qxx.AJ9xxx J9xx.A9x.Jxx.KQ8 AT8.KTxx.98x.Txx Qxxxx.QJx.AKTx.x 0.47559 \\n 1S-P-2N-P-3C-X-P-P-3S-P-4S-P-P-P (9, 8.9)  \\n 1S-P-2N-P-3C-X-P-P-4C-X-XX-P-4S-P-P-P (9, 8.9)  \\n 1S-P-2N-P-3C-X-P-P-4S-P-P-P (9, 8.9)  \\n 1S-P-2N-P-3C-X-P-P-3D-P-3H-P-4S-P-P-P (9, 8.9)  \\n 1S-P-2N-P-3C-X-P-P-3H-P-4S-P-P-P (9, 8.9) ',\n",
       " 'T.T9x.J9xx.AKQ8x AK8x.K8xx.8x.J9x J9x.Axx.Qxx.Txxx Qxxxx.QJx.AKTx.x 0.47461 \\n 1S-P-2N-P-3C-X-P-P-3S-P-4S-P-P-P (11, 10.1)  \\n 1S-P-2N-P-3C-X-P-P-4C-P-4S-P-P-P (11, 10.1)  \\n 1S-P-2N-P-3C-X-P-P-4S-P-P-P (11, 10.1)  \\n 1S-P-2N-P-3C-X-P-P-3D-P-3H-P-4S-P-P-P (11, 10.1)  \\n 1S-P-2N-P-3C-X-P-P-3H-P-4C-P-4S-P-P-P (11, 10.1) ',\n",
       " '8x.xx.Qxx.AKJTxx AT9x.AT98.Jx.Q9x KJ.Kxxx.98xx.8xx Qxxxx.QJx.AKTx.x 0.47217 \\n 1S-P-2N-P-3C-X-P-P-3S-P-4S-P-P-P (10, 9.9)  \\n 1S-P-2N-P-3C-X-P-P-4C-X-XX-P-4S-P-P-P (10, 9.9)  \\n 1S-P-2N-P-3C-X-P-P-4S-P-P-P (10, 9.9)  \\n 1S-P-2N-P-3C-X-P-P-3D-P-3H-P-4S-P-P-P (10, 9.9)  \\n 1S-P-2N-P-3C-X-P-P-3H-P-4C-P-4S-P-P-P (10, 9.9) ',\n",
       " 'A.9x.Q9xx.KJTxxx K8xx.AKxx.Jxx.8x JT9.T8xx.8x.AQ9x Qxxxx.QJx.AKTx.x 0.47168 \\n 1S-P-2N-P-3C-X-P-P-3S-P-4S-P-P-P (10, 10.1)  \\n 1S-P-2N-P-3C-X-P-P-4C-X-4S-P-P-P (10, 10.1)  \\n 1S-P-2N-P-3C-X-P-P-4S-P-P-P (10, 10.1)  \\n 1S-P-2N-P-3C-X-P-P-3D-P-3H-P-4S-P-P-P (10, 10.1)  \\n 1S-P-2N-P-3C-X-P-P-3H-P-4C-P-4S-P-P-P (10, 10.1) ',\n",
       " 'AT.98xx.9x.AQT9x K9xx.ATx.Jx.K8xx J8.Kxx.Q8xxx.Jxx Qxxxx.QJx.AKTx.x 0.46875 \\n 1S-P-2N-P-3C-X-P-P-3S-P-4S-P-P-P (10, 9.8)  \\n 1S-P-2N-P-3C-X-P-P-4C-P-4S-P-P-P (10, 9.8)  \\n 1S-P-2N-P-3C-X-P-P-4S-P-P-P (10, 9.8)  \\n 1S-P-2N-P-3C-X-P-P-3D-P-3H-P-4S-P-P-P (10, 9.8)  \\n 1S-P-2N-P-3C-X-P-P-3H-P-4C-P-4S-P-P-P (10, 9.8) ',\n",
       " 'Jx.KTx.8x.AQ8xxx A98x.A8xx.xx.KJx KT.9xx.QJ9xx.T9x Qxxxx.QJx.AKTx.x 0.46777 \\n 1S-P-2N-P-3C-X-P-P-3S-P-4S-P-P-P (11, 10.7)  \\n 1S-P-2N-P-3C-X-P-P-4C-X-XX-P-4S-P-P-P (11, 10.7)  \\n 1S-P-2N-P-3C-X-P-P-4S-P-P-P (11, 10.7)  \\n 1S-P-2N-P-3C-X-P-P-3D-P-3H-P-4S-P-P-P (11, 10.7)  \\n 1S-P-2N-P-3C-X-P-P-3H-P-4C-P-4S-P-P-P (11, 10.7) ',\n",
       " '9.KTxx.J8x.KQ8xx J8xx.A8x.Qx.AJ9x AKT.9xx.9xxx.Txx Qxxxx.QJx.AKTx.x 0.46777 \\n 1S-P-2N-P-3C-X-P-P-3S-P-4S-P-P-P (11, 10.2)  \\n 1S-P-2N-P-3C-X-P-P-4C-P-4S-P-P-P (11, 10.2)  \\n 1S-P-2N-P-3C-X-P-P-4S-P-P-P (11, 10.2)  \\n 1S-P-2N-P-3C-X-P-P-3D-P-3H-P-4S-P-P-P (11, 10.2)  \\n 1S-P-2N-P-3C-X-P-P-3H-P-4C-P-4S-P-P-P (11, 10.2) ',\n",
       " 'K.A9x.J9x.KTxxxx J98x.Kxx.xx.AQJ9 ATx.T8xx.Q8xx.8x Qxxxx.QJx.AKTx.x 0.46680 \\n 1S-P-2N-P-3C-X-P-P-3S-P-4S-P-P-P (10, 9.8)  \\n 1S-P-2N-P-3C-X-P-P-4C-X-XX-P-4S-P-P-P (10, 9.8)  \\n 1S-P-2N-P-3C-X-P-P-4S-P-P-P (10, 9.8)  \\n 1S-P-2N-P-3C-X-P-P-3D-P-3H-P-4S-P-P-P (10, 9.8)  \\n 1S-P-2N-P-3C-X-P-P-3H-P-4C-P-4S-P-P-P (10, 9.8) ',\n",
       " '.A9x.9xxx.KJ98xx AKJ98x.KTxx.x.Tx Tx.8xx.QJ8x.AQxx Qxxxx.QJx.AKTx.x 0.46631 \\n 1S-P-2N-P-3C-X-P-P-3S-P-4N-P-5D-P-5S-P-P-P (11, 10.7)  \\n 1S-P-2N-P-3C-X-P-P-4C-X-4N-P-5D-P-6S-P-P-P (11, 10.7)  \\n 1S-P-2N-P-3C-X-P-P-4S-P-P-P (11, 10.7)  \\n 1S-P-2N-P-3C-X-P-P-3D-P-4N-P-5D-P-5S-P-P-P (11, 10.7)  \\n 1S-P-2N-P-3C-X-P-P-3H-P-4N-P-5D-P-6S-P-P-P (11, 10.7) ',\n",
       " 'AJ.9xx.Jx.KJ9xxx xx.AKxx.Q8xx.Qxx KT98.T8x.9xx.AT8 Qxxxx.QJx.AKTx.x 0.46240 \\n 1S-P-2N-P-3C-X-P-P-3S-P-P-P (8, 7.7)  \\n 1S-P-2N-P-3C-X-P-P-4C-X-P-P-4S-P-P-P (8, 7.7)  \\n 1S-P-2N-P-3C-X-P-P-4S-P-P-P (8, 7.7)  \\n 1S-P-2N-P-3C-X-P-P-3D-P-P-P (10, 9.7)  \\n 1S-P-2N-P-3C-X-P-P-3H-P-P-P (9, 9.3) ',\n",
       " 'x.A8xx.98x.AT8xx AT8x.KTx.xx.KQ9x KJ9.9xx.QJxx.Jxx Qxxxx.QJx.AKTx.x 0.46191 \\n 1S-P-2N-P-3C-X-P-P-3S-P-4S-P-P-P (10, 9.8)  \\n 1S-P-2N-P-3C-X-P-P-4C-P-4S-P-P-P (10, 9.8)  \\n 1S-P-2N-P-3C-X-P-P-4S-P-P-P (10, 9.8)  \\n 1S-P-2N-P-3C-X-P-P-3D-P-3H-P-4S-P-P-P (10, 9.8)  \\n 1S-P-2N-P-3C-X-P-P-3H-P-4C-P-4S-P-P-P (10, 9.8) ']"
      ]
     },
     "execution_count": 7,
     "metadata": {},
     "output_type": "execute_result"
    }
   ],
   "source": [
    "bid.samples"
   ]
  },
  {
   "cell_type": "code",
   "execution_count": 8,
   "metadata": {},
   "outputs": [
    {
     "data": {
      "text/plain": [
       "[{'call': 'X',\n",
       "  'insta_score': 0.604,\n",
       "  'adjustment': 302,\n",
       "  'expected_score': 456,\n",
       "  'expected_tricks': 8.7},\n",
       " {'call': '5S',\n",
       "  'insta_score': 0.255,\n",
       "  'adjustment': 128,\n",
       "  'expected_score': 349,\n",
       "  'expected_tricks': 11.1},\n",
       " {'call': 'PASS',\n",
       "  'insta_score': 0.118,\n",
       "  'adjustment': 59,\n",
       "  'expected_score': 457,\n",
       "  'expected_tricks': 8.8}]"
      ]
     },
     "execution_count": 8,
     "metadata": {},
     "output_type": "execute_result"
    }
   ],
   "source": [
    "auction = [\"PAD_START\",\"PAD_START\",\"PAD_START\", \"1S\", \"PASS\", \"2N\", \"PASS\",\"3C\",\"X\",\"PASS\",\"PASS\",\"4S\",\"PASS\",\"PASS\",\"5C\"]\n",
    "bid = bot_bid.bid(auction)\n",
    "\n",
    "bid.to_dict()['candidates']"
   ]
  },
  {
   "cell_type": "code",
   "execution_count": 9,
   "metadata": {},
   "outputs": [
    {
     "data": {
      "text/plain": [
       "['A98.A9x.9x.K9xxx KJTx.x.QJ8xxx.AT x.KT8xxx.x.QJ8xx Qxxxx.QJx.AKTx.x 0.31323 \\n 1S-P-2N-P-3C-X-P-P-4S-P-P-5C-X-P-P-P (10, 9.7)  \\n 1S-P-2N-P-3C-X-P-P-4S-P-P-5C-5S-P-P-P (11, 9.7)  \\n 1S-P-2N-P-3C-X-P-P-4S-P-P-5C-P-P-X-P-P-P (10, 9.7) ',\n",
       " 'x.Kxx.Jxx.KQJT8x AJ8x.AT98xx.Q8x. KT9.x.9xx.A9xxxx Qxxxx.QJx.AKTx.x 0.29956 \\n 1S-P-2N-P-3C-X-P-P-4S-P-P-5C-X-P-5S-P-P-P (12, 11.7)  \\n 1S-P-2N-P-3C-X-P-P-4S-P-P-5C-5S-P-P-P (12, 11.7)  \\n 1S-P-2N-P-3C-X-P-P-4S-P-P-5C-P-P-5S-P-P-P (12, 11.7) ',\n",
       " '9x.xx.xxx.AKQ8xx KJT8x.AK8x.J8x.x A.T9xx.Q9x.JT9xx Qxxxx.QJx.AKTx.x 0.29102 \\n 1S-P-2N-P-3C-X-P-P-4S-P-P-5C-X-P-P-P (8, 8.1)  \\n 1S-P-2N-P-3C-X-P-P-4S-P-P-5C-5S-P-P-P (11, 11.4)  \\n 1S-P-2N-P-3C-X-P-P-4S-P-P-5C-P-P-X-P-P-P (8, 8.1) ',\n",
       " 'K9x.xxx.Qx.KQJxx AJT8.AKT9x.Jxx.8 x.8x.98xx.AT9xxx Qxxxx.QJx.AKTx.x 0.29028 \\n 1S-P-2N-P-3C-X-P-P-4S-P-P-5C-X-P-P-P (8, 7.2)  \\n 1S-P-2N-P-3C-X-P-P-4S-P-P-5C-5S-P-P-P (12, 12.4)  \\n 1S-P-2N-P-3C-X-P-P-4S-P-P-5C-P-P-X-P-P-P (8, 7.2) ',\n",
       " 'T.xxxx.9xx.AKQJ9 KJ98xx.AKT9.Qx.x A.8x.J8xx.T8xxxx Qxxxx.QJx.AKTx.x 0.28979 \\n 1S-P-2N-P-3C-X-P-P-4S-P-P-5C-X-P-P-P (8, 8.2)  \\n 1S-P-2N-P-3C-X-P-P-4S-P-P-5C-5S-P-P-P (11, 11.4)  \\n 1S-P-2N-P-3C-X-P-P-4S-P-P-5C-P-P-X-P-P-P (8, 8.2) ',\n",
       " 'T8.A9x.J8.AJ8xxx AK9x.K8xx.Q9xxx. Jx.Txx.xx.KQT9xx Qxxxx.QJx.AKTx.x 0.28906 \\n 1S-P-2N-P-3C-X-P-P-4S-P-P-5C-X-P-P-P (7, 7.9)  \\n 1S-P-2N-P-3C-X-P-P-4S-P-P-5C-5S-P-P-P (12, 11.6)  \\n 1S-P-2N-P-3C-X-P-P-4S-P-P-5C-P-P-5S-P-P-P (12, 11.6) ',\n",
       " 'T.A98.J98.KQ8xxx AKJ98x.KTxx.Qx.x x.xxx.xxxx.AJT9x Qxxxx.QJx.AKTx.x 0.28833 \\n 1S-P-2N-P-3C-X-P-P-4S-P-P-5C-X-P-P-P (7, 8.4)  \\n 1S-P-2N-P-3C-X-P-P-4S-P-P-5C-5S-P-P-P (11, 11.4)  \\n 1S-P-2N-P-3C-X-P-P-4S-P-P-5C-P-P-X-P-P-P (7, 8.4) ',\n",
       " 'AKx.xxx.9x.KT8xx JT98.Ax.QJxxx.Ax x.KT98x.8x.QJ9xx Qxxxx.QJx.AKTx.x 0.28784 \\n 1S-P-2N-P-3C-X-P-P-4S-P-P-5C-X-P-P-P (8, 8.3)  \\n 1S-P-2N-P-3C-X-P-P-4S-P-P-5C-5S-P-P-P (10, 9.9)  \\n 1S-P-2N-P-3C-X-P-P-4S-P-P-5C-P-P-X-P-P-P (8, 8.3) ',\n",
       " 'KJT.T.QJ9x.KJTxx A9xx.AKxxx.8xx.x 8.98xx.xx.AQ98xx Qxxxx.QJx.AKTx.x 0.28784 \\n 1S-P-2N-P-3C-X-P-P-4S-P-P-5C-X-P-P-P (9, 8.8)  \\n 1S-P-2N-P-3C-X-P-P-4S-P-P-5C-5S-P-P-P (9, 11.1)  \\n 1S-P-2N-P-3C-X-P-P-4S-P-P-5C-P-P-X-P-P-P (9, 8.8) ',\n",
       " 'AJT.Txx.9x.KQ8xx K9xx.A9xx.QJ8x.J 8.K8x.xxx.AT9xxx Qxxxx.QJx.AKTx.x 0.28638 \\n 1S-P-2N-P-3C-X-P-P-4S-P-P-5C-X-P-P-P (9, 9.0)  \\n 1S-P-2N-P-3C-X-P-P-4S-P-P-5C-5S-P-P-P (9, 9.8)  \\n 1S-P-2N-P-3C-X-P-P-4S-P-P-5C-P-P-X-P-P-P (9, 9.0) ',\n",
       " 'x.8xxx.Q8x.AQTxx KJT98x.AKT9.xx.9 A.xx.J9xx.KJ8xxx Qxxxx.QJx.AKTx.x 0.28516 \\n 1S-P-2N-P-3C-X-P-P-4S-P-P-5C-X-P-P-P (8, 8.5)  \\n 1S-P-2N-P-3C-X-P-P-4S-P-P-5C-5S-P-P-P (11, 11.2)  \\n 1S-P-2N-P-3C-X-P-P-4S-P-P-5C-P-P-X-P-P-P (8, 8.5) ',\n",
       " 'T9.9xx.QJx.AJxxx KJ8x.AKT8x.8xx.x Ax.xx.9xx.KQT98x Qxxxx.QJx.AKTx.x 0.28320 \\n 1S-P-2N-P-3C-X-P-P-4S-P-P-5C-X-P-P-P (8, 8.1)  \\n 1S-P-2N-P-3C-X-P-P-4S-P-P-5C-5S-P-P-P (11, 11.2)  \\n 1S-P-2N-P-3C-X-P-P-4S-P-P-5C-P-P-X-P-P-P (8, 8.1) ',\n",
       " 'xx.Ax.J8xx.AJxxx AKJT98.K9xx.9.8x .T8xx.Qxxx.KQT9x Qxxxx.QJx.AKTx.x 0.28320 \\n 1S-P-2N-P-3C-X-P-P-4S-P-P-5C-X-P-P-P (9, 8.9)  \\n 1S-P-2N-P-3C-X-P-P-4S-P-P-5C-5S-P-P-P (11, 10.7)  \\n 1S-P-2N-P-3C-X-P-P-4S-P-P-5C-P-P-X-P-P-P (9, 8.9) ',\n",
       " '8.8x.QJ9x.AJT9xx KJ9xx.AKTxxx.x.x AT.9x.8xxx.KQ8xx Qxxxx.QJx.AKTx.x 0.28247 \\n 1S-P-2N-P-3C-X-P-P-4S-P-P-5C-X-P-5S-P-P-P (11, 11.3)  \\n 1S-P-2N-P-3C-X-P-P-4S-P-P-5C-5S-P-P-P (11, 11.3)  \\n 1S-P-2N-P-3C-X-P-P-4S-P-P-5C-P-P-5S-P-P-P (11, 11.3) ',\n",
       " 'KJT.9x.xxx.AJ9xx A8xx.xxxx.Q8x.KQ 9.AKT8.J9x.T8xxx Qxxxx.QJx.AKTx.x 0.27856 \\n 1S-P-2N-P-3C-X-P-P-4S-P-P-5C-X-P-P-P (8, 8.1)  \\n 1S-P-2N-P-3C-X-P-P-4S-P-P-5C-5S-P-P-P (8, 8.8)  \\n 1S-P-2N-P-3C-X-P-P-4S-P-P-5C-P-P-X-P-P-P (8, 8.1) ',\n",
       " 'AT9.x.QJxx.Axxxx KJ8x.KT8xx.8x.KJ x.A9xx.9xx.QT98x Qxxxx.QJx.AKTx.x 0.27856 \\n 1S-P-2N-P-3C-X-P-P-4S-P-P-5C-X-P-P-P (10, 9.0)  \\n 1S-P-2N-P-3C-X-P-P-4S-P-P-5C-5S-P-P-P (9, 9.0)  \\n 1S-P-2N-P-3C-X-P-P-4S-P-P-5C-P-P-X-P-P-P (10, 9.0) ',\n",
       " 'K9x.x.Qxx.AJ8xxx AJT8.ATxx.98x.Kx x.K98xx.Jxx.QT9x Qxxxx.QJx.AKTx.x 0.27808 \\n 1S-P-2N-P-3C-X-P-P-4S-P-P-5C-X-P-P-P (8, 7.5)  \\n 1S-P-2N-P-3C-X-P-P-4S-P-P-5C-5S-P-P-P (11, 10.0)  \\n 1S-P-2N-P-3C-X-P-P-4S-P-P-5C-P-P-X-P-P-P (8, 7.5) ',\n",
       " 'xx.Kxx.8xx.KQ9xx AJT9.ATxx.QJ9x.x K8.98x.xx.AJT8xx Qxxxx.QJx.AKTx.x 0.27661 \\n 1S-P-2N-P-3C-X-P-P-4S-P-P-5C-X-P-P-P (7, 7.7)  \\n 1S-P-2N-P-3C-X-P-P-4S-P-P-5C-5S-P-P-P (11, 11.7)  \\n 1S-P-2N-P-3C-X-P-P-4S-P-P-5C-P-P-X-P-P-P (7, 7.7) ',\n",
       " 'x.Kxx.J8x.Axxxxx AJTx.A8xx.Q9xx.8 K98.T9x.xx.KQJT9 Qxxxx.QJx.AKTx.x 0.27612 \\n 1S-P-2N-P-3C-X-P-P-4S-P-P-5C-X-P-P-P (8, 8.2)  \\n 1S-P-2N-P-3C-X-P-P-4S-P-P-5C-5S-P-P-P (10, 11.3)  \\n 1S-P-2N-P-3C-X-P-P-4S-P-P-5C-P-P-X-P-P-P (8, 8.2) ',\n",
       " 'JT.Tx.J8x.AKJTxx A8xx.AK8x.9xxx.8 K9.9xxx.Qx.Q9xxx Qxxxx.QJx.AKTx.x 0.27466 \\n 1S-P-2N-P-3C-X-P-P-4S-P-P-5C-X-P-P-P (8, 8.2)  \\n 1S-P-2N-P-3C-X-P-P-4S-P-P-5C-5S-P-P-P (10, 11.8)  \\n 1S-P-2N-P-3C-X-P-P-4S-P-P-5C-P-P-X-P-P-P (8, 8.2) ']"
      ]
     },
     "execution_count": 9,
     "metadata": {},
     "output_type": "execute_result"
    }
   ],
   "source": [
    "bid.samples"
   ]
  },
  {
   "cell_type": "code",
   "execution_count": 10,
   "metadata": {},
   "outputs": [
    {
     "data": {
      "text/plain": [
       "[{'call': 'PASS',\n",
       "  'insta_score': 0.978,\n",
       "  'adjustment': 489,\n",
       "  'expected_score': 414,\n",
       "  'expected_tricks': 11.2},\n",
       " {'call': '6S',\n",
       "  'insta_score': 0.018,\n",
       "  'adjustment': 9,\n",
       "  'expected_score': 471,\n",
       "  'expected_tricks': 11.2}]"
      ]
     },
     "execution_count": 10,
     "metadata": {},
     "output_type": "execute_result"
    }
   ],
   "source": [
    "auction = [\"PAD_START\",\"PAD_START\",\"PAD_START\",\"1S\", \"PASS\", \"2N\", \"PASS\",\"3C\",\"X\",\"PASS\",\"PASS\",\"4S\",\"PASS\",\"PASS\",\"5C\",\"X\",\"PASS\",\"5S\",\"PASS\"]\n",
    "bid = bot_bid.bid(auction)\n",
    "\n",
    "bid.to_dict()['candidates']"
   ]
  },
  {
   "cell_type": "code",
   "execution_count": 11,
   "metadata": {},
   "outputs": [
    {
     "data": {
      "text/plain": [
       "['J.9xxx.Qx.AQJTxx AKTx.Kx.J98xxxx. 98x.AT8x..K98xxx Qxxxx.QJx.AKTx.x 0.31396 \\n 1S-P-2N-P-3C-X-P-P-4S-P-P-5C-X-P-5S-P-P-P (11, 10.5)  \\n 1S-P-2N-P-3C-X-P-P-4S-P-P-5C-X-P-5S-P-6S-P-P-P (11, 10.5) ',\n",
       " 'K8x.xx.9xx.KQJ8x AJT9.AT9xx.Q8xx. x.K8x.Jx.AT9xxxx Qxxxx.QJx.AKTx.x 0.30811 \\n 1S-P-2N-P-3C-X-P-P-4S-P-P-5C-X-P-5S-P-P-P (12, 12.0)  \\n 1S-P-2N-P-3C-X-P-P-4S-P-P-5C-X-P-5S-P-6S-P-P-P (12, 12.0) ',\n",
       " 'x.Kxx.Jxx.KQJT8x AJ8x.AT98xx.Q8x. KT9.x.9xx.A9xxxx Qxxxx.QJx.AKTx.x 0.29932 \\n 1S-P-2N-P-3C-X-P-P-4S-P-P-5C-X-P-5S-P-P-P (12, 11.7)  \\n 1S-P-2N-P-3C-X-P-P-4S-P-P-5C-X-P-5S-P-6S-P-P-P (12, 11.7) ',\n",
       " '98.A9x.8x.KQ8xxx AKJTx.K8xxxx.x.9 x.T.QJ9xxx.AJTxx Qxxxx.QJx.AKTx.x 0.29639 \\n 1S-P-2N-P-3C-X-P-P-4S-P-P-5C-X-P-5S-P-P-P (10, 10.2)  \\n 1S-P-2N-P-3C-X-P-P-4S-P-P-5C-X-P-5S-P-6S-P-P-P (10, 10.2) ',\n",
       " 'A98.A9x.9x.K9xxx KJTx.xx.QJxxx.AT x.KT8xx.8x.QJ8xx Qxxxx.QJx.AKTx.x 0.29346 \\n 1S-P-2N-P-3C-X-P-P-4S-P-P-5C-X-P-5S-P-P-P (10, 9.7)  \\n 1S-P-2N-P-3C-X-P-P-4S-P-P-5C-X-P-5S-P-6S-P-P-P (10, 9.7) ',\n",
       " 'Jx.Ax.Jxx.AJT9xx AKT98x.KTxx.Qx.Q .98xx.98xx.K8xxx Qxxxx.QJx.AKTx.x 0.29199 \\n 1S-P-2N-P-3C-X-P-P-4S-P-P-5C-X-P-5S-P-P-P (11, 11.1)  \\n 1S-P-2N-P-3C-X-P-P-4S-P-P-5C-X-P-5S-P-6S-P-P-P (11, 11.1) ',\n",
       " '9x.xxx.Jx.AKJxxx KJ8x.AKT8x.9xx.8 AT.9x.Q8xx.QT9xx Qxxxx.QJx.AKTx.x 0.29004 \\n 1S-P-2N-P-3C-X-P-P-4S-P-P-5C-X-P-5S-P-P-P (11, 11.3)  \\n 1S-P-2N-P-3C-X-P-P-4S-P-P-5C-X-P-5S-P-6S-P-P-P (11, 11.3) ',\n",
       " 'K9x.xxx.Qx.KQJxx AJT8.AKT9x.Jxx.8 x.8x.98xx.AT9xxx Qxxxx.QJx.AKTx.x 0.29004 \\n 1S-P-2N-P-3C-X-P-P-4S-P-P-5C-X-P-5S-P-P-P (12, 12.4)  \\n 1S-P-2N-P-3C-X-P-P-4S-P-P-5C-X-P-5S-P-6S-P-P-P (12, 12.4) ',\n",
       " 'T.xxxx.9xx.AKQJ9 KJ98xx.AKT9.Qx.x A.8x.J8xx.T8xxxx Qxxxx.QJx.AKTx.x 0.29004 \\n 1S-P-2N-P-3C-X-P-P-4S-P-P-5C-X-P-5S-P-P-P (11, 11.4)  \\n 1S-P-2N-P-3C-X-P-P-4S-P-P-5C-X-P-5S-P-6S-P-P-P (11, 11.4) ',\n",
       " 'J8.T8x.J9x.AKQ9x K9xx.AKxxx.Qxx.T AT.9x.8xx.J8xxxx Qxxxx.QJx.AKTx.x 0.28955 \\n 1S-P-2N-P-3C-X-P-P-4S-P-P-5C-X-P-5S-P-P-P (11, 11.2)  \\n 1S-P-2N-P-3C-X-P-P-4S-P-P-5C-X-P-5S-P-6S-P-P-P (11, 11.2) ',\n",
       " 'T8.A9x.J8.AJ8xxx AK9x.K8xx.Q9xxx. Jx.Txx.xx.KQT9xx Qxxxx.QJx.AKTx.x 0.28906 \\n 1S-P-2N-P-3C-X-P-P-4S-P-P-5C-X-P-5S-P-P-P (12, 11.6)  \\n 1S-P-2N-P-3C-X-P-P-4S-P-P-5C-X-P-5S-P-6S-P-P-P (12, 11.6) ',\n",
       " 'Jx.Txxx.J8.AKQxx KT98.AK8xx.Qxx.x Ax.9.9xxx.JT98xx Qxxxx.QJx.AKTx.x 0.28857 \\n 1S-P-2N-P-3C-X-P-P-4S-P-P-5C-X-P-5S-P-P-P (10, 11.0)  \\n 1S-P-2N-P-3C-X-P-P-4S-P-P-5C-X-P-5S-P-6S-P-P-P (10, 11.0) ',\n",
       " 'AKx.xxx.9x.KT8xx JT98.Ax.QJxxx.Ax x.KT98x.8x.QJ9xx Qxxxx.QJx.AKTx.x 0.28809 \\n 1S-P-2N-P-3C-X-P-P-4S-P-P-5C-X-P-5S-P-P-P (10, 9.9)  \\n 1S-P-2N-P-3C-X-P-P-4S-P-P-5C-X-P-5S-P-6S-P-P-P (10, 9.9) ',\n",
       " 'KJT.T.QJ9x.KJTxx A9xx.AKxxx.8xx.x 8.98xx.xx.AQ98xx Qxxxx.QJx.AKTx.x 0.28809 \\n 1S-P-2N-P-3C-X-P-P-4S-P-P-5C-X-P-5S-P-P-P (9, 11.1)  \\n 1S-P-2N-P-3C-X-P-P-4S-P-P-5C-X-P-5S-P-6S-P-P-P (9, 11.1) ',\n",
       " 'T8.8xx.Qx.AQ98xx KJ9x.AK9xx.J98x. Ax.Tx.xxx.KJTxxx Qxxxx.QJx.AKTx.x 0.28613 \\n 1S-P-2N-P-3C-X-P-P-4S-P-P-5C-X-P-5S-P-P-P (12, 12.0)  \\n 1S-P-2N-P-3C-X-P-P-4S-P-P-5C-X-P-5S-P-6S-P-P-P (12, 12.0) ',\n",
       " 'x.8xxx.Q8x.AQTxx KJT98x.AKT9.xx.9 A.xx.J9xx.KJ8xxx Qxxxx.QJx.AKTx.x 0.28516 \\n 1S-P-2N-P-3C-X-P-P-4S-P-P-5C-X-P-5S-P-P-P (11, 11.2)  \\n 1S-P-2N-P-3C-X-P-P-4S-P-P-5C-X-P-5S-P-6S-P-P-P (11, 11.2) ',\n",
       " 'xx.Ax.J8xx.AJxxx AKJT98.KTxx.9.8x .98xx.Qxxx.KQT9x Qxxxx.QJx.AKTx.x 0.28418 \\n 1S-P-2N-P-3C-X-P-P-4S-P-P-5C-X-P-5S-P-P-P (11, 10.7)  \\n 1S-P-2N-P-3C-X-P-P-4S-P-P-5C-X-P-5S-P-6S-P-P-P (11, 10.7) ',\n",
       " 'A9.Txx.9x.KQTxxx KJTx.A9xx.QJ8x.8 8x.K8x.xxx.AJ9xx Qxxxx.QJx.AKTx.x 0.28418 \\n 1S-P-2N-P-3C-X-P-P-4S-P-P-5C-X-P-5S-P-P-P (10, 10.2)  \\n 1S-P-2N-P-3C-X-P-P-4S-P-P-5C-X-P-5S-P-6S-P-P-P (10, 10.2) ',\n",
       " 'T9.9xx.QJx.AJxxx KJ8x.AKT8x.8xx.x Ax.xx.9xx.KQT98x Qxxxx.QJx.AKTx.x 0.28320 \\n 1S-P-2N-P-3C-X-P-P-4S-P-P-5C-X-P-5S-P-P-P (11, 11.2)  \\n 1S-P-2N-P-3C-X-P-P-4S-P-P-5C-X-P-5S-P-6S-P-P-P (11, 11.2) ',\n",
       " 'Tx.KTx.QJ9.KJ98x AK9x.A9xxx.xxx.x J8.8x.8xx.AQTxxx Qxxxx.QJx.AKTx.x 0.28320 \\n 1S-P-2N-P-3C-X-P-P-4S-P-P-5C-X-P-5S-P-P-P (11, 11.9)  \\n 1S-P-2N-P-3C-X-P-P-4S-P-P-5C-X-P-5S-P-6S-P-P-P (11, 11.9) ']"
      ]
     },
     "execution_count": 11,
     "metadata": {},
     "output_type": "execute_result"
    }
   ],
   "source": [
    "bid.samples"
   ]
  }
 ],
 "metadata": {
  "kernelspec": {
   "display_name": "Python 3",
   "language": "python",
   "name": "python3"
  },
  "language_info": {
   "codemirror_mode": {
    "name": "ipython",
    "version": 3
   },
   "file_extension": ".py",
   "mimetype": "text/x-python",
   "name": "python",
   "nbconvert_exporter": "python",
   "pygments_lexer": "ipython3",
   "version": "3.12.3"
  }
 },
 "nbformat": 4,
 "nbformat_minor": 5
}
