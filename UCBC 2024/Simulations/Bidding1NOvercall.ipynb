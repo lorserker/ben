{
 "cells": [
  {
   "cell_type": "markdown",
   "id": "75d07246",
   "metadata": {},
   "source": [
    "# Bidding\n",
    "\n",
    "This is a tutorial for how to use the bidding engine"
   ]
  },
  {
   "cell_type": "code",
   "execution_count": 1,
   "id": "59a5664c",
   "metadata": {},
   "outputs": [
    {
     "name": "stdout",
     "output_type": "stream",
     "text": [
      "WARNING:tensorflow:From d:\\GitHub\\ben\\UCBC 2024\\Simulations\\../../src\\nn\\bidderv2.py:3: The name tf.disable_v2_behavior is deprecated. Please use tf.compat.v1.disable_v2_behavior instead.\n",
      "\n",
      "WARNING:tensorflow:From c:\\ProgramData\\miniconda3\\Lib\\site-packages\\tensorflow\\python\\compat\\v2_compat.py:98: disable_resource_variables (from tensorflow.python.ops.resource_variables_toggle) is deprecated and will be removed in a future version.\n",
      "Instructions for updating:\n",
      "non-resource variables are not supported in the long term\n",
      "WARNING:tensorflow:From d:\\GitHub\\ben\\UCBC 2024\\Simulations\\../../src\\nn\\bidderv2.py:12: The name tf.Session is deprecated. Please use tf.compat.v1.Session instead.\n",
      "\n",
      "WARNING:tensorflow:From d:\\GitHub\\ben\\UCBC 2024\\Simulations\\../../src\\nn\\bidderv2.py:21: The name tf.train.import_meta_graph is deprecated. Please use tf.compat.v1.train.import_meta_graph instead.\n",
      "\n",
      "INFO:tensorflow:Restoring parameters from ..\\Models/NS1EW99-bidding_V2-3125000\n",
      "INFO:tensorflow:Restoring parameters from ..\\Models/NS1EW99-bidding_V2-3125000\n",
      "INFO:tensorflow:Restoring parameters from ..\\Models/contract-193200\n",
      "INFO:tensorflow:Restoring parameters from ..\\Models/NS1EW99-binfo_V2-3125000\n",
      "INFO:tensorflow:Restoring parameters from ..\\Models/lead_suit-999000\n",
      "INFO:tensorflow:Restoring parameters from ..\\Models/lead_nt-475000\n",
      "INFO:tensorflow:Restoring parameters from ..\\Models/Jack/lr3-1000000\n",
      "INFO:tensorflow:Restoring parameters from ..\\Models/single_dummy-32768000\n",
      "INFO:tensorflow:Restoring parameters from ..\\Models/lefty_nt-475000\n",
      "INFO:tensorflow:Restoring parameters from ..\\Models/dummy_nt-475000\n",
      "INFO:tensorflow:Restoring parameters from ..\\Models/righty_nt-475000\n",
      "INFO:tensorflow:Restoring parameters from ..\\Models/decl_nt-475000\n",
      "INFO:tensorflow:Restoring parameters from ..\\Models/lefty_suit-999000\n",
      "INFO:tensorflow:Restoring parameters from ..\\Models/dummy_suit-999000\n",
      "INFO:tensorflow:Restoring parameters from ..\\Models/righty_suit-999000\n",
      "INFO:tensorflow:Restoring parameters from ..\\Models/decl_suit-999000\n"
     ]
    }
   ],
   "source": [
    "import sys\n",
    "import os\n",
    "sys.path.append('../../src')\n",
    "os.environ['BEN_HOME'] = \"../..\"\n",
    "\n",
    "from nn.models import Models\n",
    "from bots import BotBid\n",
    "from util import hand_to_str\n",
    "from sample import Sample\n",
    "import conf\n",
    "import numpy as np\n",
    "\n",
    "np.set_printoptions(precision=2, suppress=True, linewidth=200)\n",
    "np.random.seed(42)\n",
    "models = Models.from_conf(conf.load('../UCBC 2024/Conf/UCBC2024.conf'),'..')   # loading neural networks\n",
    "sampler = Sample.from_conf(conf.load('../UCBC 2024/Conf/UCBC2024.conf'), False)  # Load sampling strategies\n"
   ]
  },
  {
   "cell_type": "markdown",
   "id": "10d8f2fc",
   "metadata": {},
   "source": [
    "### Bidding"
   ]
  },
  {
   "cell_type": "code",
   "execution_count": 2,
   "id": "19dbfeb7",
   "metadata": {},
   "outputs": [
    {
     "name": "stderr",
     "output_type": "stream",
     "text": [
      "Loaded lib dds.dll\n",
      "DDSolver being loaded - dds mode 1\n"
     ]
    },
    {
     "data": {
      "text/plain": [
       "[{'call': '2C', 'insta_score': 0.952}]"
      ]
     },
     "execution_count": 2,
     "metadata": {},
     "output_type": "execute_result"
    }
   ],
   "source": [
    "vuln_ns, vuln_ew = False, False\n",
    "hand = 'AQJ986.QJ952.7.8'\n",
    "\n",
    "from ddsolver import ddsolver\n",
    "dds = ddsolver.DDSolver()\n",
    "\n",
    "auction = [\"PASS\", \"1N\"]\n",
    "bot_bid = BotBid([vuln_ns, vuln_ew], hand, models, sampler, 2, 0, dds, False)\n",
    "\n",
    "bid = bot_bid.bid(auction)\n",
    "bid.to_dict()['candidates']\n",
    "\n",
    "# what's your bid?"
   ]
  },
  {
   "cell_type": "code",
   "execution_count": 3,
   "id": "55b647a5",
   "metadata": {},
   "outputs": [],
   "source": [
    "### Samples consistent with the auction so far\n",
    "\n",
    "for i in range(min(10,len(bid.samples))):\n",
    "    print(bid.samples[i])\n"
   ]
  },
  {
   "cell_type": "markdown",
   "id": "7d0dd8f5",
   "metadata": {},
   "source": [
    "West always has the same cards because it's your hand and it's known to you"
   ]
  },
  {
   "cell_type": "code",
   "execution_count": 4,
   "id": "7101e514",
   "metadata": {},
   "outputs": [
    {
     "name": "stdout",
     "output_type": "stream",
     "text": [
      "Good quality: 0.978\n",
      "Kx.8xx.J8xx.Kxxx xxxx.AKx.AK.QJxx AQJ98x.QJ9xx.x.8 T.Tx.QT9xxx.AT9x 1.00\n",
      "xx.T8x.AJxxx.Axx KTx.Ax.K8x.KQ9xx AQJ98x.QJ9xx.x.8 xx.Kxx.QT9x.JTxx 1.00\n",
      "xxx.8xx.A8xx.xxx KTxx.AKTx.9x.AJx AQJ98x.QJ9xx.x.8 .x.KQJTxx.KQT9xx 1.00\n",
      "Tx.8x.AJxx.Jxxxx Kx.Ax.KQ8xx.AT9x AQJ98x.QJ9xx.x.8 xxx.KTxx.T9x.KQx 0.76\n",
      "Kxx.8xx.Q98x.xxx Tx.KTx.AKTxx.AKT AQJ98x.QJ9xx.x.8 xx.Ax.Jxx.QJ9xxx 1.00\n",
      "Tx.Axx.Jxx.QJTxx Kx.KT.AQ8x.K9xxx AQJ98x.QJ9xx.x.8 xxx.8xx.KT9xx.Ax 0.79\n",
      "xx.Txx.Txx.AT9xx KTx.K8x.AQ8x.KQx AQJ98x.QJ9xx.x.8 xx.Ax.KJ9xx.Jxxx 1.00\n",
      "xx.xxx.AQx.KQ9xx KTx.AK.Jxxx.AJxx AQJ98x.QJ9xx.x.8 xx.T8x.KT98x.Txx 0.85\n",
      "Kxxx.ATx.Txx.xxx Tx.Kxx.AJxx.AQJT AQJ98x.QJ9xx.x.8 x.8x.KQ98x.K9xxx 1.00\n",
      "Kx.8x.AJxxx.9xxx Txx.Axx.KQx.AQTx AQJ98x.QJ9xx.x.8 xx.KTx.T98x.KJxx 1.00\n"
     ]
    }
   ],
   "source": [
    "# we got some samples above. if we want more, we can always get more\n",
    "auction = [\"PASS\", \"1N\"]\n",
    "sample_hands, sorted_score, p_hcp, p_shp, good_quality = bot_bid.sample_hands_for_auction(auction, 2)\n",
    "print(\"Good quality:\", good_quality)\n",
    "for i in range(min(10,sample_hands.shape[0])):\n",
    "    print(f'{hand_to_str(sample_hands[i, 0, :])} {hand_to_str(sample_hands[i, 1, :])} {hand_to_str(sample_hands[i, 2, :])} {hand_to_str(sample_hands[i, 3, :])} {sorted_score[i]:.2f}')"
   ]
  }
 ],
 "metadata": {
  "kernelspec": {
   "display_name": "Python 3",
   "language": "python",
   "name": "python3"
  },
  "language_info": {
   "codemirror_mode": {
    "name": "ipython",
    "version": 3
   },
   "file_extension": ".py",
   "mimetype": "text/x-python",
   "name": "python",
   "nbconvert_exporter": "python",
   "pygments_lexer": "ipython3",
   "version": "3.12.3"
  }
 },
 "nbformat": 4,
 "nbformat_minor": 5
}
