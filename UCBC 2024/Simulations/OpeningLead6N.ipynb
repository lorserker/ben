{
 "cells": [
  {
   "cell_type": "markdown",
   "id": "170af530",
   "metadata": {},
   "source": [
    "# Opening Lead\n",
    "\n",
    "Checking the opening lead for a specific contract"
   ]
  },
  {
   "cell_type": "code",
   "execution_count": 1,
   "id": "26570686",
   "metadata": {},
   "outputs": [
    {
     "name": "stdout",
     "output_type": "stream",
     "text": [
      "WARNING:tensorflow:From d:\\GitHub\\ben\\UCBC 2024\\Simulations\\../../src\\nn\\bidderv2.py:3: The name tf.disable_v2_behavior is deprecated. Please use tf.compat.v1.disable_v2_behavior instead.\n",
      "\n",
      "WARNING:tensorflow:From c:\\ProgramData\\miniconda3\\Lib\\site-packages\\tensorflow\\python\\compat\\v2_compat.py:98: disable_resource_variables (from tensorflow.python.ops.resource_variables_toggle) is deprecated and will be removed in a future version.\n",
      "Instructions for updating:\n",
      "non-resource variables are not supported in the long term\n",
      "WARNING:tensorflow:From d:\\GitHub\\ben\\UCBC 2024\\Simulations\\../../src\\nn\\bidderv2.py:12: The name tf.Session is deprecated. Please use tf.compat.v1.Session instead.\n",
      "\n",
      "WARNING:tensorflow:From d:\\GitHub\\ben\\UCBC 2024\\Simulations\\../../src\\nn\\bidderv2.py:21: The name tf.train.import_meta_graph is deprecated. Please use tf.compat.v1.train.import_meta_graph instead.\n",
      "\n",
      "INFO:tensorflow:Restoring parameters from ..\\Models/NS1EW99-bidding_V2-3125000\n",
      "INFO:tensorflow:Restoring parameters from ..\\Models/NS1EW99-bidding_V2-3125000\n",
      "INFO:tensorflow:Restoring parameters from ..\\Models/contract-193200\n",
      "INFO:tensorflow:Restoring parameters from ..\\Models/NS1EW99-binfo_V2-3125000\n",
      "INFO:tensorflow:Restoring parameters from ..\\Models/lead_suit-999000\n",
      "INFO:tensorflow:Restoring parameters from ..\\Models/lead_nt-475000\n",
      "INFO:tensorflow:Restoring parameters from ..\\Models/Jack/lr3-1000000\n",
      "INFO:tensorflow:Restoring parameters from ..\\Models/single_dummy-32768000\n",
      "INFO:tensorflow:Restoring parameters from ..\\Models/lefty_nt-475000\n",
      "INFO:tensorflow:Restoring parameters from ..\\Models/dummy_nt-475000\n",
      "INFO:tensorflow:Restoring parameters from ..\\Models/righty_nt-475000\n",
      "INFO:tensorflow:Restoring parameters from ..\\Models/decl_nt-475000\n",
      "INFO:tensorflow:Restoring parameters from ..\\Models/lefty_suit-999000\n",
      "INFO:tensorflow:Restoring parameters from ..\\Models/dummy_suit-999000\n",
      "INFO:tensorflow:Restoring parameters from ..\\Models/righty_suit-999000\n",
      "INFO:tensorflow:Restoring parameters from ..\\Models/decl_suit-999000\n"
     ]
    }
   ],
   "source": [
    "import os\n",
    "import sys\n",
    "sys.path.append('../../src')\n",
    "os.environ['BEN_HOME'] = \"../..\"\n",
    "\n",
    "from nn.models import Models\n",
    "from bots import BotLead\n",
    "from sample import Sample\n",
    "import conf\n",
    "import numpy as np\n",
    "\n",
    "np.set_printoptions(precision=2, suppress=True, linewidth=200)\n",
    "np.random.seed(42)\n",
    "\n",
    "models = Models.from_conf(conf.load('../Conf/UCBC2024.conf'),'..')   # loading neural networks\n",
    "sampler = Sample.from_conf(conf.load('../Conf/UCBC2024.conf'), False)  # Load sampling strategies"
   ]
  },
  {
   "cell_type": "code",
   "execution_count": 2,
   "id": "c3397678",
   "metadata": {},
   "outputs": [
    {
     "name": "stderr",
     "output_type": "stream",
     "text": [
      "Loaded lib dds.dll\n",
      "DDSolver being loaded - dds mode 1\n"
     ]
    }
   ],
   "source": [
    "# both vulnerable. you are sitting North as dealer and you hold\n",
    "hand = 'QJT75.86.63.AT52'\n",
    "\n",
    "# the auction goes:\n",
    "auction = [\"PAD_START\", \"PAD_START\", \"PAD_START\", \"2N\", \"PASS\", \"3C\", \"PASS\", \"3D\", \"PASS\", \"6N\", \"PASS\", \"PASS\", \"PASS\"]\n",
    "\n",
    "from ddsolver import ddsolver\n",
    "dds = ddsolver.DDSolver()\n",
    "\n",
    "# what to lead?\n",
    "lead_bot = BotLead([False, False], hand, models, sampler, seat=0, dealer=3, ddsolver=dds, verbose=False)\n",
    "lead = lead_bot.find_opening_lead(auction)"
   ]
  },
  {
   "cell_type": "code",
   "execution_count": 3,
   "id": "a2b5fe25",
   "metadata": {},
   "outputs": [
    {
     "data": {
      "text/plain": [
       "SQ"
      ]
     },
     "execution_count": 3,
     "metadata": {},
     "output_type": "execute_result"
    }
   ],
   "source": [
    "lead.card"
   ]
  },
  {
   "cell_type": "markdown",
   "id": "02e88396",
   "metadata": {},
   "source": [
    "seems like the engine chose to lead the ace of diamonds\n",
    "\n",
    "the other options it considered were: a small spade and a small club"
   ]
  },
  {
   "cell_type": "code",
   "execution_count": 4,
   "id": "956ef356",
   "metadata": {},
   "outputs": [
    {
     "data": {
      "text/plain": [
       "[{'card': 'SQ',\n",
       "  'insta_score': 0.697,\n",
       "  'expected_tricks_dd': 11.41,\n",
       "  'p_make_contract': 0.46,\n",
       "  'expected_score_dd': 510},\n",
       " {'card': 'H8',\n",
       "  'insta_score': 0.159,\n",
       "  'expected_tricks_dd': 11.49,\n",
       "  'p_make_contract': 0.41,\n",
       "  'expected_score_dd': 559},\n",
       " {'card': 'Cx',\n",
       "  'insta_score': 0.069,\n",
       "  'expected_tricks_dd': 11.64,\n",
       "  'p_make_contract': 0.34,\n",
       "  'expected_score_dd': 639}]"
      ]
     },
     "execution_count": 4,
     "metadata": {},
     "output_type": "execute_result"
    }
   ],
   "source": [
    "lead.to_dict()['candidates']"
   ]
  },
  {
   "cell_type": "markdown",
   "id": "97efc5a1",
   "metadata": {},
   "source": [
    "in the above output:\n",
    "- `insta_score` reflects the preference of the neural network\n",
    "- `expected_tricks` how many tricks declarer is expected to take on this lead\n",
    "- `p_make_contract` is the probability of the contract making on this lead\n",
    "\n",
    "the probability of making and the expected tricks are computed on samples which are consistent with the auction. the samples are estimated single dummy using a neural network (more on this in another tutorial). we could also solve the samples double dummy, but that would be quite a bit slower."
   ]
  },
  {
   "cell_type": "code",
   "execution_count": 5,
   "id": "7cb2bf98",
   "metadata": {},
   "outputs": [
    {
     "data": {
      "text/plain": [
       "['QJTxx.8x.xx.ATxx xx.QJxx.AQT.QJ9x 8xx.9xxx.9xxx.8x AK9.AKT.KJ8x.Kxx 0.83496',\n",
       " 'QJTxx.8x.xx.ATxx Kxx.AQxx.Jxx.J8x 98.Txxx.Q98x.9xx Axx.KJ9.AKTx.KQx 0.83057',\n",
       " 'QJTxx.8x.xx.ATxx xxxx.A9.AT9x.Q8x 9.JTxxxx.Jxxx.9x AK8.KQx.KQ8.KJxx 0.77539',\n",
       " 'QJTxx.8x.xx.ATxx K8x.AQxx.JT9x.Qx xx.T9xx.8xx.J9xx A9x.KJx.AKQx.K8x 0.85693',\n",
       " 'QJTxx.8x.xx.ATxx AK8xx.QJT.JT98.x x.9xxxx.xxx.J8xx 9x.AKx.AKQx.KQ9x 0.77100',\n",
       " 'QJTxx.8x.xx.ATxx A98x.Jxxx.K8.Q8x xx.QT9x.JTxx.9xx Kx.AKx.AQ9xx.KJx 0.77148',\n",
       " 'QJTxx.8x.xx.ATxx xxxx.AKxx.xx.KJx 9.T9xx.Q9xx.8xxx AK8.QJx.AKJT8.Q9 0.83252',\n",
       " 'QJTxx.8x.xx.ATxx Ax.K9xxx.KJ8.9xx 98x.JTx.T9xx.J8x Kxx.AQx.AQxx.KQx 0.77441',\n",
       " 'QJTxx.8x.xx.ATxx A9xx.KQTx.9x.J8x 8x.J9xx.JTxx.xxx Kx.Axx.AKQ8x.KQ9 0.75977',\n",
       " 'QJTxx.8x.xx.ATxx 9x.AQJ9x.Q98xx.J 8xx.Txxx.x.K98xx AKx.Kx.AKJTx.Qxx 0.77148',\n",
       " 'QJTxx.8x.xx.ATxx Axx.xxx.KQ9.J8xx 98.QT9xx.J8xxx.9 Kxx.AKJ.ATx.KQxx 0.77441',\n",
       " 'QJTxx.8x.xx.ATxx Axxx.QTx.K9x.Qxx 9.J9xxx.JT8x.8xx K8x.AKx.AQxx.KJ9 0.86182',\n",
       " 'QJTxx.8x.xx.ATxx A8x.Qxxx.A9.J9xx 9xx.JTxx.JTxxx.8 Kx.AK9.KQ8x.KQxx 0.82910',\n",
       " 'QJTxx.8x.xx.ATxx K9x.ATxx.T8x.K8x xx.Q9xxx.9xxx.Jx A8x.KJ.AKQJ.Q9xx 0.77148',\n",
       " 'QJTxx.8x.xx.ATxx Kx.KQTxx.QT98x.x 9xx.xxx.xxx.K8xx A8x.AJ9.AKJ.QJ9x 0.77393',\n",
       " 'QJTxx.8x.xx.ATxx 98x.KQ9xx.AQxx.9 xx.JTxx.8xx.J8xx AKx.Ax.KJT9.KQxx 0.77539',\n",
       " 'QJTxx.8x.xx.ATxx A.Qxxxx.Q9x.KJ8x 8xxx.JT9.8xxx.9x K9x.AKx.AKJT.Qxx 0.77441',\n",
       " 'QJTxx.8x.xx.ATxx Kxx.QJ9.KQx.J8xx 98.xxxxx.JT9x.9x Axx.AKT.A8xx.KQx 0.77441',\n",
       " 'QJTxx.8x.xx.ATxx K9.AJxx.JT8x.Kxx 8xx.9xxx.9xxx.8x Axx.KQT.AKQ.QJ9x 0.85059',\n",
       " 'QJTxx.8x.xx.ATxx Ax.9xxx.KQTxx.J8 xxx.QTxx.J8x.9xx K98.AKJ.A9x.KQxx 0.77539']"
      ]
     },
     "execution_count": 5,
     "metadata": {},
     "output_type": "execute_result"
    }
   ],
   "source": [
    "# each row is one sample board\n",
    "# the hands are in the order: LHO, Partner, RHO. Your cards are not shown as they are fixed/\n",
    "\n",
    "lead.samples"
   ]
  }
 ],
 "metadata": {
  "kernelspec": {
   "display_name": "Python 3",
   "language": "python",
   "name": "python3"
  },
  "language_info": {
   "codemirror_mode": {
    "name": "ipython",
    "version": 3
   },
   "file_extension": ".py",
   "mimetype": "text/x-python",
   "name": "python",
   "nbconvert_exporter": "python",
   "pygments_lexer": "ipython3",
   "version": "3.12.3"
  }
 },
 "nbformat": 4,
 "nbformat_minor": 5
}
