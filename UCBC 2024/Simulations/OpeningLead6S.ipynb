{
 "cells": [
  {
   "cell_type": "markdown",
   "id": "170af530",
   "metadata": {},
   "source": [
    "# Opening Lead\n",
    "\n",
    "This is a tutorial for how to use the opening lead engine."
   ]
  },
  {
   "cell_type": "code",
   "execution_count": 1,
   "id": "26570686",
   "metadata": {},
   "outputs": [
    {
     "name": "stdout",
     "output_type": "stream",
     "text": [
      "WARNING:tensorflow:From d:\\GitHub\\ben\\UCBC 2024\\Simulations\\../../src\\nn\\bidderv2.py:3: The name tf.disable_v2_behavior is deprecated. Please use tf.compat.v1.disable_v2_behavior instead.\n",
      "\n",
      "WARNING:tensorflow:From c:\\ProgramData\\miniconda3\\Lib\\site-packages\\tensorflow\\python\\compat\\v2_compat.py:98: disable_resource_variables (from tensorflow.python.ops.resource_variables_toggle) is deprecated and will be removed in a future version.\n",
      "Instructions for updating:\n",
      "non-resource variables are not supported in the long term\n",
      "WARNING:tensorflow:From d:\\GitHub\\ben\\UCBC 2024\\Simulations\\../../src\\nn\\bidderv2.py:12: The name tf.Session is deprecated. Please use tf.compat.v1.Session instead.\n",
      "\n",
      "WARNING:tensorflow:From d:\\GitHub\\ben\\UCBC 2024\\Simulations\\../../src\\nn\\bidderv2.py:21: The name tf.train.import_meta_graph is deprecated. Please use tf.compat.v1.train.import_meta_graph instead.\n",
      "\n",
      "INFO:tensorflow:Restoring parameters from ..\\Models/NS1EW99-bidding_V2-3125000\n",
      "INFO:tensorflow:Restoring parameters from ..\\Models/NS1EW99-bidding_V2-3125000\n",
      "INFO:tensorflow:Restoring parameters from ..\\Models/contract-193200\n",
      "INFO:tensorflow:Restoring parameters from ..\\Models/NS1EW99-binfo_V2-3125000\n",
      "INFO:tensorflow:Restoring parameters from ..\\Models/lead_suit-999000\n",
      "INFO:tensorflow:Restoring parameters from ..\\Models/lead_nt-475000\n",
      "INFO:tensorflow:Restoring parameters from ..\\Models/Jack/lr3-1000000\n",
      "INFO:tensorflow:Restoring parameters from ..\\Models/single_dummy-32768000\n",
      "INFO:tensorflow:Restoring parameters from ..\\Models/lefty_nt-475000\n",
      "INFO:tensorflow:Restoring parameters from ..\\Models/dummy_nt-475000\n",
      "INFO:tensorflow:Restoring parameters from ..\\Models/righty_nt-475000\n",
      "INFO:tensorflow:Restoring parameters from ..\\Models/decl_nt-475000\n",
      "INFO:tensorflow:Restoring parameters from ..\\Models/lefty_suit-999000\n",
      "INFO:tensorflow:Restoring parameters from ..\\Models/dummy_suit-999000\n",
      "INFO:tensorflow:Restoring parameters from ..\\Models/righty_suit-999000\n",
      "INFO:tensorflow:Restoring parameters from ..\\Models/decl_suit-999000\n"
     ]
    }
   ],
   "source": [
    "import os\n",
    "import sys\n",
    "sys.path.append('../../src')\n",
    "os.environ['BEN_HOME'] = \"../..\"\n",
    "\n",
    "from nn.models import Models\n",
    "from bots import BotLead\n",
    "from sample import Sample\n",
    "import conf\n",
    "import numpy as np\n",
    "\n",
    "np.set_printoptions(precision=2, suppress=True, linewidth=200)\n",
    "np.random.seed(42)\n",
    "\n",
    "models = Models.from_conf(conf.load('../Conf/UCBC2024.conf'),'..')   # loading neural networks\n",
    "sampler = Sample.from_conf(conf.load('../Conf/UCBC2024.conf'), False)  # Load sampling strategies"
   ]
  },
  {
   "cell_type": "code",
   "execution_count": 2,
   "id": "c3397678",
   "metadata": {},
   "outputs": [
    {
     "name": "stderr",
     "output_type": "stream",
     "text": [
      "Loaded lib dds.dll\n",
      "DDSolver being loaded - dds mode 1\n"
     ]
    }
   ],
   "source": [
    "# both vulnerable. you are sitting South\n",
    "hand = '5.A97643.Q82.QJ5'\n",
    "\n",
    "# the auction goes:\n",
    "auction = [\"PAD_START\",\"PAD_START\",\"PAD_START\",\"1C\", \"PASS\", \"2S\", \"PASS\", \"3S\", \"PASS\", \"4D\",  \"PASS\", \"4S\", \"PASS\", \"4N\", \"PASS\", \"5D\", \"PASS\", \"6S\", \"PASS\", \"PASS\", \"PASS\"]\n",
    "\n",
    "from ddsolver import ddsolver\n",
    "dds = ddsolver.DDSolver()\n",
    "\n",
    "# what to lead?\n",
    "lead_bot = BotLead([True, True], hand, models, sampler, seat=2, dealer=3, ddsolver=dds, verbose=False)\n",
    "lead = lead_bot.find_opening_lead(auction)"
   ]
  },
  {
   "cell_type": "code",
   "execution_count": 3,
   "id": "a2b5fe25",
   "metadata": {},
   "outputs": [
    {
     "data": {
      "text/plain": [
       "HA"
      ]
     },
     "execution_count": 3,
     "metadata": {},
     "output_type": "execute_result"
    }
   ],
   "source": [
    "lead.card"
   ]
  },
  {
   "cell_type": "markdown",
   "id": "02e88396",
   "metadata": {},
   "source": [
    "seems like the engine chose to lead a small diamond\n",
    "\n",
    "Actually HQ was only card, but it was not among the candidates"
   ]
  },
  {
   "cell_type": "code",
   "execution_count": 4,
   "id": "956ef356",
   "metadata": {},
   "outputs": [
    {
     "data": {
      "text/plain": [
       "[{'card': 'HA',\n",
       "  'insta_score': 0.313,\n",
       "  'expected_tricks_dd': 11.4,\n",
       "  'p_make_contract': 0.55,\n",
       "  'expected_score_dd': 580},\n",
       " {'card': 'Sx',\n",
       "  'insta_score': 0.177,\n",
       "  'expected_tricks_dd': 11.6,\n",
       "  'p_make_contract': 0.5,\n",
       "  'expected_score_dd': 668},\n",
       " {'card': 'CQ',\n",
       "  'insta_score': 0.357,\n",
       "  'expected_tricks_dd': 11.8,\n",
       "  'p_make_contract': 0.4,\n",
       "  'expected_score_dd': 824},\n",
       " {'card': 'Dx',\n",
       "  'insta_score': 0.124,\n",
       "  'expected_tricks_dd': 11.8,\n",
       "  'p_make_contract': 0.4,\n",
       "  'expected_score_dd': 824}]"
      ]
     },
     "execution_count": 4,
     "metadata": {},
     "output_type": "execute_result"
    }
   ],
   "source": [
    "lead.to_dict()['candidates']"
   ]
  },
  {
   "cell_type": "markdown",
   "id": "97efc5a1",
   "metadata": {},
   "source": [
    "in the above output:\n",
    "- `insta_score` reflects the preference of the neural network\n",
    "- `expected_tricks` how many tricks declarer is expected to take on this lead\n",
    "- `p_make_contract` is the probability of the contract making on this lead\n",
    "\n",
    "the probability of making and the expected tricks are computed on samples which are consistent with the auction. the samples are estimated single dummy using a neural network (more on this in another tutorial). we could also solve the samples double dummy, but that would be quite a bit slower."
   ]
  },
  {
   "cell_type": "code",
   "execution_count": 5,
   "id": "7cb2bf98",
   "metadata": {},
   "outputs": [
    {
     "data": {
      "text/plain": [
       "['x.A9xxxx.Q8x.QJx T8xx.KJ.J9x.AK98 QJ9.T8x.Txxxx.xx AKxxx.Qx.AK.Txxx 0.63672',\n",
       " 'x.A9xxxx.Q8x.QJx KT8.Tx.JTx.AK9xx Jxxx.J8x.9xxxx.8 AQ9xx.KQ.AK.Txxx 0.63574',\n",
       " 'x.A9xxxx.Q8x.QJx 9xx..KJxx.AKT9xx xx.QT8xx.Txxx.xx AKQJT8x.KJ.A9.8x 0.63135',\n",
       " 'x.A9xxxx.Q8x.QJx xxx.KQx.xxx.AKTx T9xx.T8.JT9xx.xx AKQJ8.Jx.AK.98xx 0.63086',\n",
       " 'x.A9xxxx.Q8x.QJx T9xx.KJx.9xx.AKx K8x.T8.Txxx.98xx AQJxx.Qx.AKJ.Txx 0.62988',\n",
       " 'x.A9xxxx.Q8x.QJx KTxx.QTx.Jx.AKTx Jxx.J8x.T9xxx.xx AQ98x.K.AKx.98xx 0.62891',\n",
       " 'x.A9xxxx.Q8x.QJx Q8xx.Txx.KT.AK8x x.J8.J9xxxx.xxxx AKJT9xx.KQ.Ax.T9 0.62891',\n",
       " 'x.A9xxxx.Q8x.QJx T9xx.Qxx.Kx.AK9x 8xx.T8.J9xx.Txxx AKQJx.KJ.ATxx.8x 0.62793',\n",
       " 'x.A9xxxx.Q8x.QJx Qxx.K8x.ATx.K9xx T9xx.x.J9xxxx.xx AKJ8x.QJT.K.AT8x 0.62744',\n",
       " 'x.A9xxxx.Q8x.QJx Q8x.QTx.K9.A9xxx T9.J8x.JTxxxx.KT AKJxxxx.K.Ax.8xx 0.62744',\n",
       " 'x.A9xxxx.Q8x.QJx 8xx.KJ8.Txx.AK9x QTxx.T.9xxx.T8xx AKJ9x.Qxx.AKJ.xx 0.62744',\n",
       " 'x.A9xxxx.Q8x.QJx 9xx.QTxx.KJx.AKx JT8x.8.T9xxx.T98 AKQxx.KJ.Ax.xxxx 0.62695',\n",
       " 'x.A9xxxx.Q8x.QJx 8xx.Q8.KTx.AK8xx T9x.JTx.J9xxxx.T AKQJxx.Kx.A.9xxx 0.62646',\n",
       " 'x.A9xxxx.Q8x.QJx KQ9.QJ.JTx.K9xxx Txx.KT8x.9xx.8xx AJ8xxx.x.AKxx.AT 0.62598',\n",
       " 'x.A9xxxx.Q8x.QJx KJT9.Jx.Jxx.AK9x xxx.QT8x.Txxx.T8 AQ8xx.K.AK9.xxxx 0.62598',\n",
       " 'x.A9xxxx.Q8x.QJx AQJ.KJ8.Jx.T98xx 9x.Txx.9xxx.Axxx KT8xxxx.Q.AKTx.K 0.62598',\n",
       " 'x.A9xxxx.Q8x.QJx 9xx.QJ8.x.AKT9xx AT8x.Txx.JTx.8xx KQJxx.K.AK9xxx.x 0.62500',\n",
       " 'x.A9xxxx.Q8x.QJx Kxxx.Q8.Txx.AK8x T8x.JTx.J9xx.xxx AQJ9x.Kx.AKx.T9x 0.62500',\n",
       " 'x.A9xxxx.Q8x.QJx QJx.Qx.9xx.AK9xx 98xx.JTx.Jxxx.8x AKTxx.K8.AKT.Txx 0.62354',\n",
       " 'x.A9xxxx.Q8x.QJx xxx.KJT.AKx.Txxx Q8xx.8x.JT9x.98x AKJT9.Qx.xxx.AKx 0.62354']"
      ]
     },
     "execution_count": 5,
     "metadata": {},
     "output_type": "execute_result"
    }
   ],
   "source": [
    "# each row is one sample board\n",
    "# the hands are in the order: You, LHO, Partner, RHO. \n",
    "# After each hand there is a score to tell how well the board match the actual bidding\n",
    "\n",
    "lead.samples"
   ]
  }
 ],
 "metadata": {
  "kernelspec": {
   "display_name": "Python 3",
   "language": "python",
   "name": "python3"
  },
  "language_info": {
   "codemirror_mode": {
    "name": "ipython",
    "version": 3
   },
   "file_extension": ".py",
   "mimetype": "text/x-python",
   "name": "python",
   "nbconvert_exporter": "python",
   "pygments_lexer": "ipython3",
   "version": "3.12.3"
  }
 },
 "nbformat": 4,
 "nbformat_minor": 5
}
