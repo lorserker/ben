{
 "cells": [
  {
   "cell_type": "markdown",
   "id": "170af530",
   "metadata": {},
   "source": [
    "# Opening Lead\n",
    "\n",
    "This is a tutorial for how to use the opening lead engine."
   ]
  },
  {
   "cell_type": "code",
   "execution_count": 1,
   "id": "26570686",
   "metadata": {},
   "outputs": [],
   "source": [
    "import os\n",
    "import sys\n",
    "sys.path.append('../../src')\n",
    "os.environ['BEN_HOME'] = \"../..\"\n",
    "\n",
    "from nn.models import Models\n",
    "from bots import BotLead\n",
    "from sample import Sample\n",
    "import conf\n",
    "import numpy as np\n",
    "\n",
    "np.set_printoptions(precision=2, suppress=True, linewidth=200)\n",
    "np.random.seed(42)\n"
   ]
  },
  {
   "cell_type": "code",
   "execution_count": 2,
   "id": "fe373c76",
   "metadata": {},
   "outputs": [
    {
     "name": "stdout",
     "output_type": "stream",
     "text": [
      "WARNING:tensorflow:From d:\\GitHub\\ben\\UCBC 2024\\Simulations\\../../src\\nn\\bidderv2.py:3: The name tf.disable_v2_behavior is deprecated. Please use tf.compat.v1.disable_v2_behavior instead.\n",
      "\n",
      "WARNING:tensorflow:From c:\\ProgramData\\miniconda3\\Lib\\site-packages\\tensorflow\\python\\compat\\v2_compat.py:98: disable_resource_variables (from tensorflow.python.ops.resource_variables_toggle) is deprecated and will be removed in a future version.\n",
      "Instructions for updating:\n",
      "non-resource variables are not supported in the long term\n",
      "WARNING:tensorflow:From d:\\GitHub\\ben\\UCBC 2024\\Simulations\\../../src\\nn\\bidderv2.py:12: The name tf.Session is deprecated. Please use tf.compat.v1.Session instead.\n",
      "\n",
      "WARNING:tensorflow:From d:\\GitHub\\ben\\UCBC 2024\\Simulations\\../../src\\nn\\bidderv2.py:21: The name tf.train.import_meta_graph is deprecated. Please use tf.compat.v1.train.import_meta_graph instead.\n",
      "\n",
      "INFO:tensorflow:Restoring parameters from ..\\Models/NS1EW99-bidding_V2-3125000\n",
      "INFO:tensorflow:Restoring parameters from ..\\Models/NS1EW99-bidding_V2-3125000\n",
      "INFO:tensorflow:Restoring parameters from ..\\Models/contract-193200\n",
      "INFO:tensorflow:Restoring parameters from ..\\Models/NS1EW99-binfo_V2-3125000\n",
      "INFO:tensorflow:Restoring parameters from ..\\Models/lead_suit-999000\n",
      "INFO:tensorflow:Restoring parameters from ..\\Models/lead_nt-475000\n",
      "INFO:tensorflow:Restoring parameters from ..\\Models/Jack/lr3-1000000\n",
      "INFO:tensorflow:Restoring parameters from ..\\Models/single_dummy-32768000\n",
      "INFO:tensorflow:Restoring parameters from ..\\Models/lefty_nt-475000\n",
      "INFO:tensorflow:Restoring parameters from ..\\Models/dummy_nt-475000\n",
      "INFO:tensorflow:Restoring parameters from ..\\Models/righty_nt-475000\n",
      "INFO:tensorflow:Restoring parameters from ..\\Models/decl_nt-475000\n",
      "INFO:tensorflow:Restoring parameters from ..\\Models/lefty_suit-999000\n",
      "INFO:tensorflow:Restoring parameters from ..\\Models/dummy_suit-999000\n",
      "INFO:tensorflow:Restoring parameters from ..\\Models/righty_suit-999000\n",
      "INFO:tensorflow:Restoring parameters from ..\\Models/decl_suit-999000\n"
     ]
    }
   ],
   "source": [
    "models = Models.from_conf(conf.load('../UCBC 2024/Conf/UCBC2024.conf'),'..')   # loading neural networks\n",
    "sampler = Sample.from_conf(conf.load('../UCBC 2024/Conf/UCBC2024.conf'), False)  # Load sampling strategies"
   ]
  },
  {
   "cell_type": "code",
   "execution_count": 3,
   "id": "c3397678",
   "metadata": {},
   "outputs": [
    {
     "name": "stderr",
     "output_type": "stream",
     "text": [
      "Loaded lib dds.dll\n",
      "DDSolver being loaded - dds mode 1\n"
     ]
    }
   ],
   "source": [
    "# both vulnerable. you are sitting North as dealer and you hold\n",
    "hand = 'AT873.T5.A3.8763'\n",
    "seat = 0\n",
    "# the auction goes:\n",
    "auction = [\"PASS\", \"1N\", \"PASS\", \"2D\", \"X\", \"2H\", \"PASS\", \"4H\", \"PASS\", \"PASS\", \"PASS\"]\n",
    "\n",
    "from ddsolver import ddsolver\n",
    "dds = ddsolver.DDSolver()\n",
    "\n",
    "# what to lead?\n",
    "lead_bot = BotLead([True, True], hand, models, sampler, seat, 0, dds, False)\n",
    "lead = lead_bot.find_opening_lead(auction)"
   ]
  },
  {
   "cell_type": "code",
   "execution_count": 4,
   "id": "a2b5fe25",
   "metadata": {},
   "outputs": [
    {
     "data": {
      "text/plain": [
       "SA"
      ]
     },
     "execution_count": 4,
     "metadata": {},
     "output_type": "execute_result"
    }
   ],
   "source": [
    "lead.card"
   ]
  },
  {
   "cell_type": "markdown",
   "id": "02e88396",
   "metadata": {},
   "source": [
    "seems like the engine chose to lead the ace of diamonds\n",
    "\n",
    "the other options it considered were: a small spade and a small club"
   ]
  },
  {
   "cell_type": "code",
   "execution_count": 5,
   "id": "956ef356",
   "metadata": {},
   "outputs": [
    {
     "data": {
      "text/plain": [
       "[{'card': 'SA',\n",
       "  'insta_score': 0.111,\n",
       "  'expected_tricks_dd': 9.0,\n",
       "  'p_make_contract': 0.7,\n",
       "  'expected_score_dd': 86},\n",
       " {'card': 'DA',\n",
       "  'insta_score': 0.563,\n",
       "  'expected_tricks_dd': 9.15,\n",
       "  'p_make_contract': 0.7,\n",
       "  'expected_score_dd': 98},\n",
       " {'card': 'Cx',\n",
       "  'insta_score': 0.195,\n",
       "  'expected_tricks_dd': 9.35,\n",
       "  'p_make_contract': 0.55,\n",
       "  'expected_score_dd': 207}]"
      ]
     },
     "execution_count": 5,
     "metadata": {},
     "output_type": "execute_result"
    }
   ],
   "source": [
    "lead.to_dict()['candidates']"
   ]
  },
  {
   "cell_type": "markdown",
   "id": "97efc5a1",
   "metadata": {},
   "source": [
    "in the above output:\n",
    "- `insta_score` reflects the preference of the neural network\n",
    "- `expected_tricks` how many tricks declarer is expected to take on this lead\n",
    "- `p_make_contract` is the probability of the contract making on this lead\n",
    "\n",
    "the probability of making and the expected tricks are computed on samples which are consistent with the auction. the samples are estimated single dummy using a neural network (more on this in another tutorial). we could also solve the samples double dummy, but that would be quite a bit slower."
   ]
  },
  {
   "cell_type": "code",
   "execution_count": 6,
   "id": "7cb2bf98",
   "metadata": {},
   "outputs": [
    {
     "data": {
      "text/plain": [
       "['AT8xx.Tx.Ax.8xxx J9.KJxxxx.Q9x.Q9 Kxxx.9.KJTxx.JTx Qx.AQ8x.8xx.AKxx 0.63623',\n",
       " 'AT8xx.Tx.Ax.8xxx xx.AQJ9xxx.9x.Q9 QJ9x..KJT8xx.JTx Kx.K8xx.Qxx.AKxx 0.63184',\n",
       " 'AT8xx.Tx.Ax.8xxx 9x.AJ8xxx.Qx.QTx Jxxx..K98xxx.KJx KQ.KQ9xx.JTx.A9x 0.62891',\n",
       " 'AT8xx.Tx.Ax.8xxx KJ.QJ9xxxx.xx.KT Q9xx..KQ9xx.9xxx xx.AK8x.JT8x.AQJ 0.62598',\n",
       " 'AT8xx.Tx.Ax.8xxx xx.AJ98xx.Txx.Qx KJ9x.x.KQJ9x.T9x Qx.KQxx.8xx.AKJx 0.55908',\n",
       " 'AT8xx.Tx.Ax.8xxx 9x.QJ9xxx.xx.KJx KJxx.x.KJ98x.QTx Qx.AK8x.QTxx.A9x 0.55713',\n",
       " 'AT8xx.Tx.Ax.8xxx Jx.AQ98xx.8x.Q9x KQ9.x.QTxxx.JTxx xxx.KJxx.KJ9x.AK 0.55518',\n",
       " 'AT8xx.Tx.Ax.8xxx Q9x.QJ98xx.Kx.Jx KJx.x.QT9xx.QTxx xx.AKxx.J8xx.AK9 0.55420',\n",
       " 'AT8xx.Tx.Ax.8xxx xx.AQ8xxx.9x.QT9 KJ9x.J.KJT8xx.xx Qx.K9xx.Qxx.AKJx 0.54736',\n",
       " 'AT8xx.Tx.Ax.8xxx Q.Q9xxxx.J98x.KT xx.8x.KQxxx.A9xx KJ9xx.AKJ.Tx.QJx 0.54688',\n",
       " 'AT8xx.Tx.Ax.8xxx x.AJ98xx.Txx.J9x KJ.Kxx.KJ98x.Txx Q9xxx.Qx.Qxx.AKQ 0.54297',\n",
       " 'AT8xx.Tx.Ax.8xxx xx.Q98xxx.Jx.Axx KJxx.x.K9xxx.QJT Q9.AKJx.QT8x.K9x 0.54053',\n",
       " 'AT8xx.Tx.Ax.8xxx 9.QJ98xx.Txx.K9x Qxxx.x.KQ8xx.QJx KJx.AKxx.J9x.ATx 0.53760',\n",
       " 'AT8xx.Tx.Ax.8xxx Q.J8xxxxx.xx.KTx KJxx..QJ8xx.QJ9x 9xx.AKQ9.KT9x.Ax 0.53662',\n",
       " 'AT8xx.Tx.Ax.8xxx 9x.AQ98xx.Jx.9xx Qxxx.x.Q8xxx.AQT KJ.KJxx.KT9x.KJx 0.53564',\n",
       " 'AT8xx.Tx.Ax.8xxx xx.AK98xx.8xx.Tx KQJ9.x.QJT9x.9xx xx.QJxx.Kxx.AKQJ 0.53320',\n",
       " 'AT8xx.Tx.Ax.8xxx x.J98xxx.98x.AQJ xx.Kxx.KQJxx.Txx KQJ9x.AQ.Txx.K9x 0.52979',\n",
       " 'AT8xx.Tx.Ax.8xxx Jx.QJ8xx.Tx.ATxx K9xx.xx.KQ9xxx.J Qx.AK9x.J8x.KQ9x 0.52930',\n",
       " 'AT8xx.Tx.Ax.8xxx x.AJ8xxx.Jxx.J9x Jxx.9.Q98xx.AKTx KQ9x.KQxx.KTx.Qx 0.52783',\n",
       " 'AT8xx.Tx.Ax.8xxx J.KQJ8xx.xxx.9xx 9xx.x.KQ98x.KJTx KQxx.A9xx.JTx.AQ 0.52734']"
      ]
     },
     "execution_count": 6,
     "metadata": {},
     "output_type": "execute_result"
    }
   ],
   "source": [
    "# each row is one sample board\n",
    "# the hands are in the order: LHO, Partner, RHO. Your cards are not shown as they are fixed/\n",
    "\n",
    "lead.samples"
   ]
  }
 ],
 "metadata": {
  "kernelspec": {
   "display_name": "Python 3",
   "language": "python",
   "name": "python3"
  },
  "language_info": {
   "codemirror_mode": {
    "name": "ipython",
    "version": 3
   },
   "file_extension": ".py",
   "mimetype": "text/x-python",
   "name": "python",
   "nbconvert_exporter": "python",
   "pygments_lexer": "ipython3",
   "version": "3.12.3"
  }
 },
 "nbformat": 4,
 "nbformat_minor": 5
}
