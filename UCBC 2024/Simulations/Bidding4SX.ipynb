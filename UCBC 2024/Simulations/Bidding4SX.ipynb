{
 "cells": [
  {
   "cell_type": "markdown",
   "id": "75d07246",
   "metadata": {},
   "source": [
    "# Bidding\n",
    "\n",
    "This is a tutorial for how to use the bidding engine"
   ]
  },
  {
   "cell_type": "code",
   "execution_count": 1,
   "id": "59a5664c",
   "metadata": {},
   "outputs": [],
   "source": [
    "import sys\n",
    "import os\n",
    "sys.path.append('../../src')\n",
    "os.environ['BEN_HOME'] = \"../..\"\n",
    "\n",
    "from nn.models import Models\n",
    "from botbidder import BotBid\n",
    "from util import hand_to_str\n",
    "from sample import Sample\n",
    "import conf\n",
    "import numpy as np\n",
    "\n",
    "np.set_printoptions(precision=2, suppress=True, linewidth=200)\n",
    "np.random.seed(42)\n"
   ]
  },
  {
   "cell_type": "code",
   "execution_count": 2,
   "id": "44786d5d",
   "metadata": {},
   "outputs": [
    {
     "name": "stdout",
     "output_type": "stream",
     "text": [
      "WARNING:tensorflow:From d:\\GitHub\\ben\\UCBC 2024\\Simulations\\../../src\\nn\\bidderv2.py:3: The name tf.disable_v2_behavior is deprecated. Please use tf.compat.v1.disable_v2_behavior instead.\n",
      "\n",
      "WARNING:tensorflow:From c:\\ProgramData\\miniconda3\\Lib\\site-packages\\tensorflow\\python\\compat\\v2_compat.py:98: disable_resource_variables (from tensorflow.python.ops.resource_variables_toggle) is deprecated and will be removed in a future version.\n",
      "Instructions for updating:\n",
      "non-resource variables are not supported in the long term\n",
      "WARNING:tensorflow:From d:\\GitHub\\ben\\UCBC 2024\\Simulations\\../../src\\nn\\bidderv2.py:12: The name tf.Session is deprecated. Please use tf.compat.v1.Session instead.\n",
      "\n",
      "WARNING:tensorflow:From d:\\GitHub\\ben\\UCBC 2024\\Simulations\\../../src\\nn\\bidderv2.py:21: The name tf.train.import_meta_graph is deprecated. Please use tf.compat.v1.train.import_meta_graph instead.\n",
      "\n",
      "INFO:tensorflow:Restoring parameters from ..\\Models/NS1EW99-bidding_V2-3125000\n",
      "INFO:tensorflow:Restoring parameters from ..\\Models/NS1EW99-bidding_V2-3125000\n",
      "INFO:tensorflow:Restoring parameters from ..\\Models/contract-193200\n",
      "INFO:tensorflow:Restoring parameters from ..\\Models/NS1EW99-binfo_V2-3125000\n",
      "INFO:tensorflow:Restoring parameters from ..\\Models/lead_suit-999000\n",
      "INFO:tensorflow:Restoring parameters from ..\\Models/lead_nt-475000\n",
      "INFO:tensorflow:Restoring parameters from ..\\Models/Jack/lr3-1000000\n",
      "INFO:tensorflow:Restoring parameters from ..\\Models/single_dummy-32768000\n",
      "INFO:tensorflow:Restoring parameters from ..\\Models/lefty_nt-475000\n",
      "INFO:tensorflow:Restoring parameters from ..\\Models/dummy_nt-475000\n",
      "INFO:tensorflow:Restoring parameters from ..\\Models/righty_nt-475000\n",
      "INFO:tensorflow:Restoring parameters from ..\\Models/decl_nt-475000\n",
      "INFO:tensorflow:Restoring parameters from ..\\Models/lefty_suit-999000\n",
      "INFO:tensorflow:Restoring parameters from ..\\Models/dummy_suit-999000\n",
      "INFO:tensorflow:Restoring parameters from ..\\Models/righty_suit-999000\n",
      "INFO:tensorflow:Restoring parameters from ..\\Models/decl_suit-999000\n"
     ]
    }
   ],
   "source": [
    "models = Models.from_conf(conf.load('../UCBC 2024/Conf/UCBC2024.conf'),'..')   # loading neural networks\n",
    "sampler = Sample.from_conf(conf.load('../UCBC 2024/Conf/UCBC2024.conf'), False)  # Load sampling strategies\n"
   ]
  },
  {
   "cell_type": "markdown",
   "id": "10d8f2fc",
   "metadata": {},
   "source": [
    "### Running through an example"
   ]
  },
  {
   "cell_type": "code",
   "execution_count": 3,
   "id": "19dbfeb7",
   "metadata": {},
   "outputs": [
    {
     "name": "stderr",
     "output_type": "stream",
     "text": [
      "Loaded lib dds.dll\n",
      "DDSolver being loaded - dds mode 1\n"
     ]
    },
    {
     "data": {
      "text/plain": [
       "[{'call': '1S', 'insta_score': 0.696}, {'call': '2S', 'insta_score': 0.299}]"
      ]
     },
     "execution_count": 3,
     "metadata": {},
     "output_type": "execute_result"
    }
   ],
   "source": [
    "# East deals, EW vulnerable.\n",
    "vuln_ns, vuln_ew = True, True\n",
    "\n",
    "from ddsolver import ddsolver\n",
    "dds = ddsolver.DDSolver()\n",
    "\n",
    "# you sit West and hold:\n",
    "hand = 'KJ7432.9.A.QJT86'\n",
    "\n",
    "# the auction goes:\n",
    "# (a few words about 'PAD_START':\n",
    "# the auction is padded to dealer North\n",
    "# if North is not dealer, than we have to put in a 'PAD_START' for every seat that was skipped\n",
    "# if East deals we have one pad (because North is skipped)\n",
    "# if South deals we have two pads (because North and East are skipped)\n",
    "# etc.)\n",
    "auction = [\"PAD_START\", \"PAD_START\", \"PASS\", \"PASS\"]\n",
    "bot_bid = BotBid([vuln_ns, vuln_ew], hand, models, sampler, 0, 2, dds, False)\n",
    "\n",
    "bid = bot_bid.bid(auction)\n",
    "bid.to_dict()['candidates']\n",
    "\n",
    "# what's your bid?"
   ]
  },
  {
   "cell_type": "code",
   "execution_count": 4,
   "id": "bfe98f56",
   "metadata": {},
   "outputs": [
    {
     "data": {
      "text/plain": [
       "[{'call': 'PASS',\n",
       "  'insta_score': 0.82,\n",
       "  'adjustment': 41,\n",
       "  'expected_score': -181,\n",
       "  'expected_tricks': 9.2},\n",
       " {'call': '3S',\n",
       "  'insta_score': 0.131,\n",
       "  'adjustment': 7,\n",
       "  'expected_score': -236,\n",
       "  'expected_tricks': 8.7}]"
      ]
     },
     "execution_count": 4,
     "metadata": {},
     "output_type": "execute_result"
    }
   ],
   "source": [
    "auction = [\"PAD_START\", \"PAD_START\", \"PASS\", \"PASS\", \"1S\", \"2H\", \"PASS\", \"3D\"]\n",
    "bid = bot_bid.bid(auction)\n",
    "\n",
    "bid.to_dict()['candidates']"
   ]
  },
  {
   "cell_type": "code",
   "execution_count": 5,
   "id": "55b647a5",
   "metadata": {},
   "outputs": [
    {
     "data": {
      "text/plain": [
       "['KJxxxx.9.A.QJT8x Q9x.AQ8xxx.x.AKx T8.Kxx.QJxx.9xxx Ax.JTx.KT98xxx.x 0.71533 \\n P-P-1S-2H-P-3D-P-3H-P-4H-P-P-P (11, 10.0)  \\n P-P-1S-2H-P-3D-3S-P-P-4H-P-P-P (11, 10.0) ',\n",
       " 'KJxxxx.9.A.QJT8x 9xx.AKQJxx.x.Kxx Q8.T8xx.KJT8x.9x AT.xx.Q9xxxx.Axx 0.72119 \\n P-P-1S-2H-P-3D-P-3H-P-3S-X-P-P-4H-P-P-P (9, 9.7)  \\n P-P-1S-2H-P-3D-3S-P-P-P (8, 7.4) ',\n",
       " 'KJxxxx.9.A.QJT8x T.KQT8xx.Kxx.AKx Qx.xx.QJ98x.9xxx A98x.AJxx.Txxx.x 0.71191 \\n P-P-1S-2H-P-3D-P-3H-P-4H-P-P-P (11, 10.8)  \\n P-P-1S-2H-P-3D-3S-4H-P-P-P (11, 10.8) ',\n",
       " 'KJxxxx.9.A.QJT8x A8x.AKxxxx.9.Kxx QT.QJx.JT8xx.9xx 9x.T8x.KQxxxx.Ax 0.71387 \\n P-P-1S-2H-P-3D-P-3H-P-P-P (10, 10.0)  \\n P-P-1S-2H-P-3D-3S-P-P-P (8, 7.2) ',\n",
       " 'KJxxxx.9.A.QJT8x QT9.AKQ8xx.Q.Kxx xx.Jx.JT8xx.A9xx A8.Txxx.K9xxxx.x 0.71240 \\n P-P-1S-2H-P-3D-P-3H-P-4H-P-P-P (10, 9.8)  \\n P-P-1S-2H-P-3D-3S-P-P-4H-P-P-P (10, 9.8) ',\n",
       " 'KJxxxx.9.A.QJT8x Q9x.AKT8xx.Jx.A9 x.QJxxx.8xx.Kxxx AT8.x.KQT9xxx.xx 0.70996 \\n P-P-1S-2H-P-3D-P-3H-P-P-P (7, 7.4)  \\n P-P-1S-2H-P-3D-3S-P-P-P (7, 6.6) ',\n",
       " 'KJxxxx.9.A.QJT8x Ax.AKJxxx.xx.K9x 8x.xx.J9xxx.Axxx QT9.QT8x.KQT8x.x 0.71387 \\n P-P-1S-2H-P-3D-P-3H-P-4H-P-P-P (10, 9.8)  \\n P-P-1S-2H-P-3D-3S-P-P-4H-P-P-P (10, 9.8) ',\n",
       " 'KJxxxx.9.A.QJT8x Axx.AQJ8xx.x.K9x T8.xxx.9xxxx.Axx Q9.KTx.KQJT8x.xx 0.71484 \\n P-P-1S-2H-P-3D-P-3H-P-P-P (9, 9.7)  \\n P-P-1S-2H-P-3D-3S-P-P-4H-P-P-P (9, 9.7) ',\n",
       " 'KJxxxx.9.A.QJT8x Tx.AKQJxx.K8.9xx 9x.8xxx.QTxx.Kxx AQ8.Tx.J9xxxx.Ax 0.71631 \\n P-P-1S-2H-P-3D-P-3H-P-P-P (10, 9.1)  \\n P-P-1S-2H-P-3D-3S-P-P-P (8, 7.9) ',\n",
       " 'KJxxxx.9.A.QJT8x A8x.AK8xx.Kx.Kxx 9x.QJx.Jxxxx.9xx QT.Txxx.QT98x.Ax 0.70557 \\n P-P-1S-2H-P-3D-P-3N-P-4H-P-P-P (10, 10.1)  \\n P-P-1S-2H-P-3D-3S-P-P-P (7, 6.5) ',\n",
       " 'KJxxxx.9.A.QJT8x Ax.AKQJTxx.xxx.x 8x.xxx.KJTxx.9xx QT9.8x.Q98x.AKxx 0.71240 \\n P-P-1S-2H-P-3D-P-4H-P-P-P (11, 9.8)  \\n P-P-1S-2H-P-3D-3S-4H-P-P-P (11, 9.8) ',\n",
       " 'KJxxxx.9.A.QJT8x A.KQ8xxxx.8.Axxx 9x.xx.QJxxx.K9xx QT8x.AJT.KT9xxx. 0.71436 \\n P-P-1S-2H-P-3D-P-4H-P-P-P (12, 11.8)  \\n P-P-1S-2H-P-3D-3S-4H-P-P-P (12, 11.8) ',\n",
       " 'KJxxxx.9.A.QJT8x Qx.AKxxxxx.Q8x.A 8x.QJ.Kxxx.xxxxx AT9.T8x.JT9xx.K9 0.70752 \\n P-P-1S-2H-P-3D-P-4H-P-P-P (11, 9.2)  \\n P-P-1S-2H-P-3D-3S-4H-P-P-P (11, 9.2) ',\n",
       " 'KJxxxx.9.A.QJT8x AT.AKQTxx.Q8x.xx 9x.Jxx.T9x.A9xxx Q8x.8xx.KJxxxx.K 0.71436 \\n P-P-1S-2H-P-3D-P-3H-P-P-P (9, 9.6)  \\n P-P-1S-2H-P-3D-3S-4H-P-P-P (9, 9.6) ',\n",
       " 'KJxxxx.9.A.QJT8x 98x.AKQJx.x.AKxx Ax.Txxxx.xxx.xxx QT.8x.KQJT98xx.9 0.71826 \\n P-P-1S-2H-P-3D-P-3H-P-P-P (7, 7.6)  \\n P-P-1S-2H-P-3D-3S-P-P-P (8, 7.4) ',\n",
       " 'KJxxxx.9.A.QJT8x A.AJT8xx.KJ.A9xx Q9.Qx.98xxxx.xxx T8xx.Kxxx.QTxx.K 0.70166 \\n P-P-1S-2H-P-3D-P-3H-P-P-P (12, 11.0)  \\n P-P-1S-2H-P-3D-3S-4H-P-P-P (12, 11.0) ',\n",
       " 'KJxxxx.9.A.QJT8x QT.AKQxxxx.x.Kxx xx.JT8.KJT9x.9xx A98.xx.Q8xxxx.Ax 0.72559 \\n P-P-1S-2H-P-3D-P-4H-P-P-P (11, 10.0)  \\n P-P-1S-2H-P-3D-3S-4H-P-P-P (11, 10.0) ',\n",
       " 'KJxxxx.9.A.QJT8x AT8.AKTxxx.J.Kxx 9.8xxx.8xxx.Axxx Qxx.QJ.KQT9xxx.9 0.71436 \\n P-P-1S-2H-P-3D-P-3H-P-4H-P-P-P (9, 9.2)  \\n P-P-1S-2H-P-3D-3S-P-P-P (8, 6.9) ',\n",
       " 'KJxxxx.9.A.QJT8x A9.KQTxx.8x.AKxx Q8.J8xx.J9xx.9xx Txx.Axx.KQTxxx.x 0.71484 \\n P-P-1S-2H-P-3D-P-3N-P-4H-P-P-P (10, 10.1)  \\n P-P-1S-2H-P-3D-3S-P-P-4H-P-P-P (10, 10.1) ',\n",
       " 'KJxxxx.9.A.QJT8x A8x.AQTxxx.8.Axx T.8xxx.Q9xxx.Kxx Q9x.KJ.KJTxxx.9x 0.71533 \\n P-P-1S-2H-P-3D-P-3H-P-P-P (9, 9.2)  \\n P-P-1S-2H-P-3D-3S-P-P-P (7, 6.4) ']"
      ]
     },
     "execution_count": 5,
     "metadata": {},
     "output_type": "execute_result"
    }
   ],
   "source": [
    "bid.samples"
   ]
  },
  {
   "cell_type": "code",
   "execution_count": 6,
   "id": "d7bb325c",
   "metadata": {},
   "outputs": [
    {
     "data": {
      "text/plain": [
       "[{'call': 'PASS',\n",
       "  'insta_score': 0.997,\n",
       "  'adjustment': 0,\n",
       "  'expected_score': -186,\n",
       "  'expected_tricks': 8.4}]"
      ]
     },
     "execution_count": 6,
     "metadata": {},
     "output_type": "execute_result"
    }
   ],
   "source": [
    "auction = [\"PAD_START\", \"PAD_START\", \"PASS\", \"PASS\", \"1S\", \"2H\", \"PASS\", \"3D\", \"PASS\", \"3N\" , \"PASS\", \"PASS\"]\n",
    "bid = bot_bid.bid(auction)\n",
    "\n",
    "bid.to_dict()['candidates']"
   ]
  },
  {
   "cell_type": "code",
   "execution_count": 7,
   "id": "7101e514",
   "metadata": {},
   "outputs": [
    {
     "name": "stdout",
     "output_type": "stream",
     "text": [
      "Good quality: 0.8774\n",
      "KJxxxx.9.A.QJT8x QT8x.QTxx.Tx.Kxx A.KJxx.J98xxx.Ax 9x.A8xx.KQxx.9xx\n",
      "KJxxxx.9.A.QJT8x AT8.QJxxx.K8x.9x x.AKTx.JTxxx.Kxx Q9x.8xx.Q9xx.Axx\n",
      "KJxxxx.9.A.QJT8x Qxx.Q8x.JT9x.Kxx A.Jxxx.Kxxxx.A9x T98.AKTxx.Q8x.xx\n",
      "KJxxxx.9.A.QJT8x AQx.KT8xxx.T.9xx T.AJxx.QJxxxx.Kx 98x.Qx.K98xx.Axx\n",
      "KJxxxx.9.A.QJT8x T9x.KQxxx.KJx.xx x.A8xx.98xx.AK9x AQ8.JTx.QTxxx.xx\n",
      "KJxxxx.9.A.QJT8x AQ8.8xxx.Q8x.K9x T.KQTx.KJT9x.xxx 9xx.AJxx.xxxx.Ax\n",
      "KJxxxx.9.A.QJT8x Q8x.AKxxx.K8xx.x 9.QTxx.QTx.AK9xx ATx.J8x.J9xxx.xx\n",
      "KJxxxx.9.A.QJT8x 98x.Q8xxx.9xx.K9 .AKxx.KQTx.Axxxx AQTx.JTx.J8xxx.x\n",
      "KJxxxx.9.A.QJT8x AQ9.Txxx.KT9x.9x 8.AQxx.QJxx.Kxxx Txx.KJ8x.8xxx.Ax\n",
      "KJxxxx.9.A.QJT8x AQx.Qxxx.xxxx.Kx T.AKT8.KQJ8x.9xx 98x.Jxxx.T9x.Axx\n",
      "KJxxxx.9.A.QJT8x A9x.AQxx.KT9x.xx T.KJTx.Jxxxx.A9x Q8x.8xxx.Q8x.Kxx\n",
      "KJxxxx.9.A.QJT8x AQx.JTxxx.KJT.xx T.AQ8x.8xxxx.Axx 98x.Kxx.Q9xx.K9x\n",
      "KJxxxx.9.A.QJT8x ATx.T8xx.Kxx.9xx 9.AJxx.J98xx.AKx Q8x.KQxx.QTxx.xx\n",
      "KJxxxx.9.A.QJT8x Qx.8xxx.KT9x.Axx 8.ATxx.Q8xxx.K9x AT9x.KQJx.Jxx.xx\n",
      "KJxxxx.9.A.QJT8x Ax.QT8x.KJ8xx.xx 8.Axxx.QT9xx.AKx QT9x.KJxx.xx.9xx\n",
      "KJxxxx.9.A.QJT8x AQ9.Kxxx.98xx.xx x.ATxx.KQxxx.9xx T8x.QJ8x.JTx.AKx\n",
      "KJxxxx.9.A.QJT8x AQx.Axxx.Qx.A9xx .Q8xx.KJT8xx.Kxx T98x.KJTx.9xxx.x\n",
      "KJxxxx.9.A.QJT8x Q9x.QTxxx.K98x.x A.8xxx.JTxx.AK9x T8x.AKJ.Qxxx.xxx\n",
      "KJxxxx.9.A.QJT8x A8.T8xxxx.QTx.Kx T.KJxx.KJxxxx.Ax Q9xx.AQ.98x.9xxx\n",
      "KJxxxx.9.A.QJT8x Tx.JT8xx.KJxx.Kx A.Qxxx.QTxx.A9xx Q98x.AKx.98xx.xx\n",
      "KJxxxx.9.A.QJT8x ATx.AJTxx.T8xxx. x.KQ8x.KJxx.Axxx Q98.xxx.Q9x.K9xx\n",
      "KJxxxx.9.A.QJT8x AQ.Jxxx.QJxx.9xx x.KTxx.KT98xx.Kx T98x.AQ8x.xx.Axx\n",
      "KJxxxx.9.A.QJT8x QTx.AQxx.Q9x.xxx 9.K8xx.KJTxx.K9x A8x.JTxx.8xxx.Ax\n",
      "KJxxxx.9.A.QJT8x Qx.AQx.Q8xxx.xxx A.KT8x.Txxx.AK9x T98x.Jxxxx.KJ9.x\n",
      "KJxxxx.9.A.QJT8x Q.QT8xxx.J9x.Axx A.Axxx.KQTxx.K9x T98xx.KJ.8xxx.xx\n",
      "KJxxxx.9.A.QJT8x AQ8x.xxx.KQT8x.K 9.AJ8x.J9xx.A9xx Tx.KQTxx.xxx.xxx\n",
      "KJxxxx.9.A.QJT8x A98x.KJ8xx.9x.xx T.ATxx.QT8x.AK9x Qx.Qxx.KJxxxx.xx\n",
      "KJxxxx.9.A.QJT8x QT9x.AQJTxx.Tx.x A.K8xx.KQxxx.9xx 8x.xx.J98xx.AKxx\n",
      "KJxxxx.9.A.QJT8x Q9x.KQJ.Q8xxx.xx T.AT8x.K9xxx.K9x A8x.xxxxx.JT.Axx\n",
      "KJxxxx.9.A.QJT8x AQx.AT8x.J9x.9xx 8.KQJx.K8xxx.Axx T9x.xxxx.QTxx.Kx\n",
      "KJxxxx.9.A.QJT8x A8.QJxxx.Qxxx.9x .AK8x.JTxx.Kxxxx QT9xx.Txx.K98x.A\n",
      "KJxxxx.9.A.QJT8x Qx.T8xxx.9xxxx.A A.AQxx.KT8x.Kxxx T98x.KJx.QJx.9xx\n",
      "KJxxxx.9.A.QJT8x 8x.AQJTx.9xx.Kxx x.K8xx.KQJT8xx.x AQT9.xxx.xx.A9xx\n",
      "KJxxxx.9.A.QJT8x AQ.KJxx.QJx.9xxx x.QT8x.KTxxx.AKx T98x.Axxx.98xx.x\n",
      "KJxxxx.9.A.QJT8x AQ8.Axx.Qxxx.xxx x.KQ8x.KT98x.AKx T9x.JTxxx.Jxx.9x\n",
      "KJxxxx.9.A.QJT8x AQT.xxx.T8x.xxxx 9.AJxx.K9xx.AK9x 8xx.KQT8x.QJxxx.\n",
      "KJxxxx.9.A.QJT8x AT8xx.Qxx.9xx.Kx 9.KTxx.KT8xxx.Ax Q.AJ8xx.QJx.9xxx\n",
      "KJxxxx.9.A.QJT8x Qx.KQxxx.Txx.9xx A.A8xx.Q9xx.Axxx T98x.JTx.KJ8xx.K\n",
      "KJxxxx.9.A.QJT8x AQ98.T8xx.x.K9xx .KQJx.KJ8xxx.Axx Txx.Axxx.QT9xx.x\n",
      "KJxxxx.9.A.QJT8x Ax.Axxx.JT8xx.xx 8.KQTx.KQ9x.K9xx QT9x.J8xx.xxx.Ax\n",
      "KJxxxx.9.A.QJT8x A8.T8xx.K9xxx.Ax .Kxxx.QJT8xx.Kxx QT9xx.AQJx.x.9xx\n",
      "KJxxxx.9.A.QJT8x AQx.JTxxx.xx.Axx 8.AKxx.QJxxxx.xx T9x.Q8x.KT98.K9x\n",
      "KJxxxx.9.A.QJT8x AT9x.J8xx.QT98.9 .AKQx.KJxxx.Kxxx Q8x.Txxx.xxx.Axx\n",
      "KJxxxx.9.A.QJT8x Q.KJxxx.QJ9.Axxx A.Q8xx.KTxxxx.K9 T98xx.ATx.8xx.xx\n",
      "KJxxxx.9.A.QJT8x Ax.Q8x.8xxxx.9xx 8.AJxx.KQ9xx.Kxx QT9x.KTxxx.JT.Ax\n",
      "KJxxxx.9.A.QJT8x QT98x.AK8.QJT8.x .Qxxx.Kxxx.AKxxx Ax.JTxxx.9xxx.9x\n",
      "KJxxxx.9.A.QJT8x QT8x.KQ8xx.Q8x.K 9.AJTx.KT9xx.Axx Ax.xxx.Jxxx.9xxx\n",
      "KJxxxx.9.A.QJT8x AQ9.AKQT8x.98xx. 8.xxxx.Qxxx.AK9x Txx.Jx.KJTx.xxxx\n",
      "KJxxxx.9.A.QJT8x Q8x.AJTxx.9x.xxx A.K8xx.KJTxx.Kxx T9x.Qxx.Q8xxx.A9\n",
      "KJxxxx.9.A.QJT8x Qx.8xxxx.QT9x.9x 8.AKTx.J8xxx.AKx AT9x.QJx.Kxx.xxx\n",
      "KJxxxx.9.A.QJT8x Q98x.Jxx.J98x.Kx .KQxx.KQxx.A9xxx ATx.AT8xx.Txxx.x\n",
      "KJxxxx.9.A.QJT8x Q8.AQTx.JTxxx.xx x.Jxxx.K98xx.AKx AT9x.K8xx.Qx.9xx\n",
      "KJxxxx.9.A.QJT8x AT98x.KTx.Txx.Ax .AQJx.KQJ8xx.Kxx Qx.8xxxx.9xx.9xx\n",
      "KJxxxx.9.A.QJT8x 98x.A8xxx.Txx.Kx T.KJTx.QJ8x.A9xx AQx.Qxx.K9xxx.xx\n",
      "KJxxxx.9.A.QJT8x AQ.AJxxx.xxx.xxx 9.KQ8x.K9xx.AK9x T8xx.Txx.QJT8x.x\n",
      "KJxxxx.9.A.QJT8x AT8x.Axx.T8xx.K9 .QT8x.KQJ9xx.Axx Q9x.KJxxx.xx.xxx\n",
      "KJxxxx.9.A.QJT8x AQx.QJxxx.KJTx.x 8.A8xx.Q9xxx.Axx T9x.KTx.8xx.K9xx\n",
      "KJxxxx.9.A.QJT8x 8xx.KQxxx.K8x.xx 9.AJTx.J9xxx.AKx AQT.8xx.QTxx.9xx\n",
      "KJxxxx.9.A.QJT8x AQ98.Q8.KJT8.Kxx T.AKxx.Q9xxxx.Ax xx.JTxxxx.xx.9xx\n",
      "KJxxxx.9.A.QJT8x QTx.Axxx.QT8xx.K A.Q8xx.KJx.9xxxx 98x.KJTx.9xxx.Ax\n",
      "KJxxxx.9.A.QJT8x Q8xx.Jxxx.9xx.9x .AK8x.KJT8x.Axxx AT9.QTxx.Qxxx.Kx\n",
      "KJxxxx.9.A.QJT8x A.Qxxx.9xxxx.Kxx T.KT8x.K8x.A9xxx Q98xx.AJxx.QJTx.\n",
      "KJxxxx.9.A.QJT8x AQ8.QTx.9xxx.Kxx .K8xx.QJT8xx.A9x T9xx.AJxxx.Kx.xx\n",
      "KJxxxx.9.A.QJT8x AQTx.QJTx.Jxx.Ax 8.Kxxx.KQxx.K9xx 9x.A8xx.T98xx.xx\n",
      "KJxxxx.9.A.QJT8x Q98.KQxxxx.Kxxx. .AJTx.T8xx.AKxxx ATxx.8x.QJ9x.9xx\n",
      "KJxxxx.9.A.QJT8x QT8xx.AKxx.Q9.Kx A.8xxx.JT8xx.Axx 9.QJTx.Kxxxx.9xx\n",
      "KJxxxx.9.A.QJT8x QTx.K8xx.KT.K9xx 9.AQJT.Q9xxx.xxx A8x.xxxx.J8xxx.A\n",
      "KJxxxx.9.A.QJT8x AQxx.xxx.J9xx.xx T.QJTx.Kxx.AK9xx 98.AK8xx.QT8xx.x\n",
      "KJxxxx.9.A.QJT8x 98.AKTxx.Jxx.xxx A.QJxx.8xxx.AK9x QTxx.8xx.KQT9x.x\n",
      "KJxxxx.9.A.QJT8x AT8x.Qxx.T9xx.xx x.Axxx.Q8xx.AK9x Q9.KJT8x.KJxx.xx\n",
      "KJxxxx.9.A.QJT8x QT9x.AT8x.Qxx.9x 8.xxxx.KJxx.AKxx Ax.KQJx.T98xx.xx\n",
      "KJxxxx.9.A.QJT8x AT9x.KJ8x.8xxx.x x.Axxx.KQTx.AKxx Q8.QTxx.J9xx.9xx\n",
      "KJxxxx.9.A.QJT8x QT9.AJx.J8xx.Kxx A.Kxxx.K9xx.9xxx 8xx.QT8xx.QTxx.A\n",
      "KJxxxx.9.A.QJT8x Q98x.xxx.K8xx.Ax A.JTxx.Qxxx.Kxxx Tx.AKQ8x.JT9x.9x\n",
      "KJxxxx.9.A.QJT8x AQ.J8xx.8xx.K9xx 8.AKQx.JTxxx.Axx T9xx.Txxx.KQ9x.x\n",
      "KJxxxx.9.A.QJT8x Q8.KJTxxx.QTx.xx A.Q8xx.Kxxx.A9xx T9xx.Ax.J98xx.Kx\n",
      "KJxxxx.9.A.QJT8x ATx.Txxx.98xx.Ax .AKxx.KJTxx.K9xx Q98x.QJ8x.Qxx.xx\n",
      "KJxxxx.9.A.QJT8x AT98.KQJxx.9xx.x Q.A8xx.KJTx.A9xx xx.Txx.Q8xxx.Kxx\n",
      "KJxxxx.9.A.QJT8x AT8x.Qxxx.K8x.xx .KTxx.QJ9xxx.Kxx Q9x.AJ8x.Txx.A9x\n",
      "KJxxxx.9.A.QJT8x T8x.AK8xxx.Kx.xx 9.QJxx.J98xx.AK9 AQx.Tx.QTxxx.xxx\n",
      "KJxxxx.9.A.QJT8x A9x.8xxxx.Q8x.Ax 8.AQxx.KJ9xx.Kxx QTx.KJT.Txxx.9xx\n",
      "KJxxxx.9.A.QJT8x Q98x.J8xx.Kxx.xx x.AKTx.J98xx.AKx AT.Qxxx.QTxx.9xx\n",
      "KJxxxx.9.A.QJT8x QT98.KQT8x.Kxx.x x.AJxx.Q8xxx.AKx Ax.xxx.JT9x.9xxx\n",
      "KJxxxx.9.A.QJT8x AQxx.8xx.98x.K9x T.AQJx.KJTxxx.Ax 98.KTxxx.Qxx.xxx\n",
      "KJxxxx.9.A.QJT8x Qxx.xxxx.Txx.AKx A.KJ8x.KJ8xx.xxx T98.AQTx.Q9xx.9x\n",
      "KJxxxx.9.A.QJT8x AQT.KJxx.Tx.xxxx x.Q8xx.KQ98x.AK9 98x.ATxx.Jxxxx.x\n",
      "KJxxxx.9.A.QJT8x Q9x.QT8x.KTx.Kxx x.AKJx.Qxxxx.xxx AT8.xxxx.J98x.A9\n",
      "KJxxxx.9.A.QJT8x AQ.QTxx.T9xx.AKx 9.AJ8x.KJ8xx.xxx T8xx.Kxxx.Qxx.9x\n",
      "KJxxxx.9.A.QJT8x Q9xx.KQTx.xxx.K9 .A8xx.K98xxx.Axx AT8.Jxxx.QJT.xxx\n",
      "KJxxxx.9.A.QJT8x A9.KQ8xxx.QJTx.x x.AJxx.8xxxx.Axx QT8x.Tx.K9x.K9xx\n",
      "KJxxxx.9.A.QJT8x Ax.AQxxx.Kxx.xxx 9.KT8x.T98x.AK9x QT8x.Jxx.QJxxx.x\n",
      "KJxxxx.9.A.QJT8x Axx.K8xx.xx.Kxxx .JTxx.KQJ8xx.Axx QT98.AQxx.T9xx.9\n",
      "KJxxxx.9.A.QJT8x T9x.JTxx.Qxx.Axx A.AK8x.KT9xx.9xx Q8x.Qxxx.J8xx.Kx\n",
      "KJxxxx.9.A.QJT8x 98x.KT8xx.8xx.xx A.QJxx.KQ9x.AK9x QTx.Axx.JTxxx.xx\n",
      "KJxxxx.9.A.QJT8x QTxx.KJxx.Tx.A9x .QTxx.KQJxxx.Kxx A98.A8xx.98xx.xx\n",
      "KJxxxx.9.A.QJT8x Q9x.QTxx.KT8x.Kx A.AJxx.Qxxxx.A9x T8x.K8xx.J9x.xxx\n",
      "KJxxxx.9.A.QJT8x QT9.AQTx.Q8xx.A9 A.KJ8x.K9xxx.xxx 8xx.xxxx.JTx.Kxx\n",
      "KJxxxx.9.A.QJT8x QT9.Q8xx.xx.AKxx A.Kxxx.KQT8xx.xx 8xx.AJTx.J9xx.9x\n",
      "KJxxxx.9.A.QJT8x Q8x.AJxx.K8.A9xx .KQTx.JT9xxx.Kxx AT9x.8xxx.Qxxx.x\n",
      "KJxxxx.9.A.QJT8x A8x.Txxx.Kxxx.xx 9.AKJ8.98xx.A9xx QTx.Qxxx.QJTx.Kx\n",
      "KJxxxx.9.A.QJT8x T8x.KTxx.JTxx.Ax A.AQxx.KQ9xxx.xx Q9x.J8xx.8x.K9xx\n",
      "KJxxxx.9.A.QJT8x A8x.Qxxx.K8x.xxx 9.KJTx.QJ9xx.AK9 QTx.A8xx.Txxx.xx\n",
      "KJxxxx.9.A.QJT8x T8x.ATxxx.Jx.9xx A.QJ8x.QT9xx.AKx Q9x.Kxx.K8xxx.xx\n",
      "KJxxxx.9.A.QJT8x QTx.xxxx.KQJxx.9 9.AQJx.T8xx.AKxx A8x.KT8x.9xx.xxx\n",
      "KJxxxx.9.A.QJT8x QT98.AQx.JT8x.xx x.KTxx.Q9x.AKxxx Ax.J8xxx.Kxxxx.9\n",
      "KJxxxx.9.A.QJT8x Ax.AK8x.J98x.9xx T.QTxx.Qxxx.AKxx Q98x.Jxxx.KTxx.x\n",
      "KJxxxx.9.A.QJT8x AT.KJxxx.Txx.K9x x.AQTx.QJ9xx.Axx Q98x.8xx.K8xx.xx\n",
      "KJxxxx.9.A.QJT8x AT.ATxx.J8xx.xxx x.KJ8x.KT9xx.K9x Q98x.Qxxx.Qxx.Ax\n",
      "KJxxxx.9.A.QJT8x T8xx.A8xxx.Tx.xx .QJTx.KQxxxx.AK9 AQ9.Kxx.J98x.xxx\n",
      "KJxxxx.9.A.QJT8x Q98xx.Qxx.KTx.xx A.KJ8x.QJ8xx.Kxx T.ATxxx.9xxx.A9x\n",
      "KJxxxx.9.A.QJT8x A9x.AKJTx.Qxxx.x .Qxxx.K9xxx.AKxx QT8x.8xx.JT8.9xx\n",
      "KJxxxx.9.A.QJT8x QT98.QT8xx.QJ.Kx .Axxx.K8xxx.A9xx Axx.KJx.T9xxx.xx\n",
      "KJxxxx.9.A.QJT8x Q8.AKT8x.QJ9x.xx 9.QJxx.Kxxx.AKxx ATxx.xxx.T8xx.9x\n",
      "KJxxxx.9.A.QJT8x A98x.KQJTx.xxx.x T.A8xx.Q9x.AKxxx Qx.xxx.KJT8xx.9x\n",
      "KJxxxx.9.A.QJT8x ATx.KQxxxx.K8xx. .AJ8x.QTxxx.A9xx Q98x.Tx.J9x.Kxxx\n",
      "KJxxxx.9.A.QJT8x AQxx.8xx.Tx.9xxx T.AQxx.KJ8xxx.Ax 98.KJTxx.Q9xx.Kx\n",
      "KJxxxx.9.A.QJT8x Q9xx.A8xxx.Tx.Ax 8.KJTx.KQJxx.K9x AT.Qxx.98xxx.xxx\n",
      "KJxxxx.9.A.QJT8x Q8x.Q8xxx.Jx.xxx A.JTxx.Q9xxxx.AK T9x.AKx.KT8x.9xx\n",
      "KJxxxx.9.A.QJT8x AT8x.xxx.Q8xx.Ax x.AKJx.JT9xx.xxx Q9.QT8xx.Kxx.K9x\n",
      "KJxxxx.9.A.QJT8x AT.AT8xx.JTxxx.x 8.KQxx.KQ98x.Kxx Q9xx.Jxx.xx.A9xx\n",
      "KJxxxx.9.A.QJT8x A.J8x.Kxxxx.Kxxx x.KQxx.QT8x.A9xx QT98x.ATxxx.J9x.\n",
      "KJxxxx.9.A.QJT8x AQT8.AK8x.Txx.xx .QJxx.KQJ9xx.K9x 9xx.Txxx.8xx.Axx\n",
      "KJxxxx.9.A.QJT8x AT8x.AT8.QJT8x.x 9.Kxxx.9xx.AKxxx Qx.QJxxx.Kxxx.9x\n",
      "KJxxxx.9.A.QJT8x T8xx.QTxx.Tx.Axx .A8xx.KQ98xx.K9x AQ9.KJxx.Jxxx.xx\n",
      "KJxxxx.9.A.QJT8x QT9.KTxxx.Qx.Axx A.A8xx.J8xxx.9xx 8xx.QJx.KT9xx.Kx\n",
      "KJxxxx.9.A.QJT8x ATx.KJ8xx.8xx.xx .Axxx.KQxx.AK9xx Q98x.QTx.JT9xx.x\n",
      "KJxxxx.9.A.QJT8x QTx.JTx.xx.AK9xx A.Kxxx.KQJ98x.xx 98x.AQ8xx.Txxx.x\n",
      "KJxxxx.9.A.QJT8x AT98.8xxx.Qxx.xx x.AKxx.KJ98x.A9x Qx.QJTx.Txxx.Kxx\n",
      "KJxxxx.9.A.QJT8x T9x.ATxxx.Qxxx.x A.J8xx.K9xx.AK9x Q8x.KQx.JT8x.xxx\n",
      "KJxxxx.9.A.QJT8x 98x.Kxx.Q9xx.K9x A.A8xx.Kxxx.xxxx QTx.QJTxx.JT8x.A\n",
      "KJxxxx.9.A.QJT8x T98x.K8x.Kxxx.A9 .AJTx.QJTxxx.Kxx AQx.Qxxxx.98.xxx\n",
      "KJxxxx.9.A.QJT8x Q8.JT8xx.QJ9xx.A x.AKQx.K8xx.Kxxx AT9x.xxx.Txx.9xx\n",
      "KJxxxx.9.A.QJT8x 98x.JTx.T9xx.Kxx A.A8xx.KQxx.A9xx QTx.KQxxx.J8xx.x\n",
      "KJxxxx.9.A.QJT8x QT8.QJxx.Kxx.9xx A.AT8x.QJT9xx.Kx 9xx.Kxxx.8xx.Axx\n",
      "KJxxxx.9.A.QJT8x AQT8.xxxx.Kx.xxx x.KQJ8.Q8xx.AKxx 9x.ATxx.JT9xxx.9\n",
      "KJxxxx.9.A.QJT8x Qxx.QJ8xx.Kx.Kxx A.ATxx.98xxx.A9x T98.Kxx.QJTxx.xx\n",
      "KJxxxx.9.A.QJT8x ATx.ATxx.8xx.Axx x.KJ8x.QJ9xx.K9x Q98.Qxxx.KTxx.xx\n",
      "KJxxxx.9.A.QJT8x AQxx.Axx.Jxxx.xx .QT8x.K9xxx.AKxx T98.KJxxx.QT8.9x\n",
      "KJxxxx.9.A.QJT8x QTx.K8x.KQ9x.Kxx A.xxxx.J8xxx.A9x 98x.AQJTx.Txx.xx\n",
      "KJxxxx.9.A.QJT8x Q8x.A8xxx.QJx.Kx x.KQTx.KT9xx.Axx AT9.Jxx.8xxx.9xx\n",
      "KJxxxx.9.A.QJT8x AQT8.AJTx.QT.9xx .K8xx.K9xxxx.Axx 9xx.Qxxx.J8xx.Kx\n",
      "KJxxxx.9.A.QJT8x A8x.Q8xx.Jxxx.Kx 9.AJTx.Q9x.A9xxx QTx.Kxxx.KT8xx.x\n",
      "KJxxxx.9.A.QJT8x A8x.T8x.9xxxx.Kx x.Kxxx.KJTx.Axxx QT9.AQJxx.Q8x.9x\n",
      "KJxxxx.9.A.QJT8x 8x.QTxxx.K9xx.Ax A.AKJx.JT8xx.9xx QT9x.8xx.Qxx.Kxx\n",
      "KJxxxx.9.A.QJT8x A98x.A8x.QTxxx.x .QTxx.J98xx.AK9x QTx.KJxxx.Kx.xxx\n",
      "KJxxxx.9.A.QJT8x T.Jxxx.K9x.AK9xx A.AKxx.J8xxxx.xx Q98xx.QT8x.QTx.x\n",
      "KJxxxx.9.A.QJT8x QTx.AQxxx.Kxx.9x A.KJTx.J8xx.AKxx 98x.8xx.QT9xx.xx\n",
      "KJxxxx.9.A.QJT8x AQx.K8xx.9xx.9xx 8.QJTx.KQJ8.AKxx T9x.Axxx.Txxxx.x\n",
      "KJxxxx.9.A.QJT8x AQ8.Txxx.T9xx.K9 x.KJ8x.KQJ8xx.Ax T9x.AQxx.xx.xxxx\n",
      "KJxxxx.9.A.QJT8x AQ9x.Qxx.xxx.9xx x.AKT8.KQT9x.Kxx T8.Jxxxx.J8xx.Ax\n",
      "KJxxxx.9.A.QJT8x A98.Txxx.KQTxx.x T.KQJx.9xxx.Axxx Qxx.A8xx.J8x.K9x\n",
      "KJxxxx.9.A.QJT8x A9x.Qxx.98xx.Kxx T.AKTx.KQJTxx.A9 Q8x.J8xxx.xx.xxx\n",
      "KJxxxx.9.A.QJT8x Q9x.AKJx.QJx.xxx A.Txxx.K9xxx.A9x T8x.Q8xx.T8xx.Kx\n",
      "KJxxxx.9.A.QJT8x 98x.K8xx.QJ9x.xx A.QTxx.KTxx.AKxx QTx.AJxx.8xxx.9x\n",
      "KJxxxx.9.A.QJT8x Q8x.Q8xx.KQ8xx.x x.AKJT.Txxx.AK9x AT9.xxxx.J9x.xxx\n",
      "KJxxxx.9.A.QJT8x Axx.QTx.Jxx.AK9x .AK8x.KT98xx.xxx QT98.Jxxxx.Qxx.x\n",
      "KJxxxx.9.A.QJT8x AT9xx.ATx.Txxx.x 8.Qxxx.KJxx.A9xx Q.KJ8xx.Q98x.Kxx\n",
      "KJxxxx.9.A.QJT8x Q8x.Q8xx.T8x.9xx x.AKJx.KQ9x.AKxx AT9.Txxx.Jxxxx.x\n",
      "KJxxxx.9.A.QJT8x Q8x.ATx.Q8xx.xxx 9.KJ8x.KJxx.AK9x ATx.Qxxxx.T9xx.x\n",
      "KJxxxx.9.A.QJT8x AQ98x.Kxx.98x.xx T.AQT8.KQTxx.K9x x.Jxxxx.Jxxx.Axx\n",
      "KJxxxx.9.A.QJT8x 98.8xxxx.Qxx.Axx T.AKxx.KJ98x.K9x AQxx.QJT.Txxx.xx\n",
      "KJxxxx.9.A.QJT8x AQx.Qxx.JTx.9xxx 8.JT8x.K8xxx.AKx T9x.AKxxx.Q9xx.x\n",
      "KJxxxx.9.A.QJT8x Q9x.AK8xx.QJxx.x 8.QJxx.KTxx.A9xx ATx.Txx.98xx.Kxx\n",
      "KJxxxx.9.A.QJT8x Txx.QJTxx.9xxx.x 9.AKxx.QJ8x.AKxx AQ8.8xx.KTxx.9xx\n",
      "KJxxxx.9.A.QJT8x Qx.KT8xx.Q98xx.x x.AQJx.KJTx.A9xx AT98.xxx.xxx.Kxx\n",
      "KJxxxx.9.A.QJT8x Tx.QTxx.QJxx.Kxx 8.AKJx.K98xxxx.x AQ9x.8xxx.T.A9xx\n",
      "KJxxxx.9.A.QJT8x QTxx.KJ8xx.K8x.9 A.AQTx.Q9xxx.xxx 98.xxx.JTxx.AKxx\n",
      "KJxxxx.9.A.QJT8x AQT8.AJTx.xx.Axx x.8xxx.KQJ98x.Kx 9x.KQxx.Txxx.9xx\n",
      "KJxxxx.9.A.QJT8x AQ.xxx.K8xxx.xxx 9.KJTx.QJ9xx.AKx T8xx.AQ8xx.Tx.9x\n",
      "KJxxxx.9.A.QJT8x AT8.ATx.J8xx.9xx x.KJ8x.KTxxx.Axx Q9x.Qxxxx.Q9x.Kx\n",
      "KJxxxx.9.A.QJT8x AT9x.Jxx.Kxx.9xx .KQTx.Q98xxx.Axx Q8x.A8xxx.JTx.Kx\n",
      "KJxxxx.9.A.QJT8x QT8.A8xxx.98x.9x x.QJTx.KTxxx.AKx A9x.Kxx.QJxx.xxx\n",
      "KJxxxx.9.A.QJT8x Qx.Kxxxx.xxx.K9x 8.AQJx.KQ98xx.xx AT9x.T8x.JTx.Axx\n",
      "KJxxxx.9.A.QJT8x T8x.AKQx.Txxx.xx A.8xxx.Q9xx.K9xx Q9x.JTxx.KJ8x.Ax\n",
      "KJxxxx.9.A.QJT8x A98x.JTxxx.8x.xx .AKQ8.KQxx.K9xxx QTx.xxx.JT9xxx.A\n",
      "KJxxxx.9.A.QJT8x AQ8.ATxxx.Qxx.xx x.Kxxx.T8xx.AK9x T9x.QJ8.KJ9xx.xx\n",
      "KJxxxx.9.A.QJT8x AQ9.AJ8.J9x.9xxx x.xxxx.KQTxx.AKx T8x.KQTxx.8xxx.x\n",
      "KJxxxx.9.A.QJT8x AQx.KQxx.T9x.K9x 8.AJ8x.KJxx.xxxx T9x.Txxx.Q8xxx.A\n",
      "KJxxxx.9.A.QJT8x Q9xx.Q8xx.Jxx.Kx .ATxx.Kxxx.A9xxx AT8.KJxx.QT98x.x\n",
      "KJxxxx.9.A.QJT8x Q8x.KJxxx.K8xx.x .AQ8x.QTxxx.K9xx AT9x.Txx.J9x.Axx\n",
      "KJxxxx.9.A.QJT8x AQT.QTxx.QTx.Kxx 8.KJxx.K8xxx.A9x 9xx.A8xx.J9xx.xx\n",
      "KJxxxx.9.A.QJT8x Q8.AQ8xx.Jxx.Kxx T.KJTx.KT9xx.A9x A9xx.xxx.Q8xx.xx\n",
      "KJxxxx.9.A.QJT8x Q9x.KJT8.J9xx.9x A.Qxxx.KQT8x.Axx T8x.Axxx.xxx.Kxx\n",
      "KJxxxx.9.A.QJT8x T8xx.KTxxx.K9xx. 9.AQJx.T8x.AK9xx AQ.8xx.QJxxx.xxx\n",
      "KJxxxx.9.A.QJT8x AQ9xx.Txx.Jxxx.x .AJ8x.KT8xxx.Kxx T8.KQxxx.Q9.A9xx\n",
      "KJxxxx.9.A.QJT8x AT9x.Jxx.Txx.AKx .AKQT.K98xxx.xxx Q8x.8xxxx.QJx.9x\n",
      "KJxxxx.9.A.QJT8x Tx.AQxx.J8xxx.xx Q.KJ8x.KQxx.K9xx A98x.Txxx.T9x.Ax\n",
      "KJxxxx.9.A.QJT8x T98x.xxx.JTxx.xx A.ATxx.K8xx.AK9x Qx.KQJ8x.Q9xx.xx\n",
      "KJxxxx.9.A.QJT8x AQTx.T8xx.Kx.xxx x.xxxx.QJTxxx.AK 98.AKQJ.98xx.9xx\n",
      "KJxxxx.9.A.QJT8x T98.Jxx.KQxxx.Kx .KQTx.J8xxx.A9xx AQxx.A8xxx.T9.xx\n",
      "KJxxxx.9.A.QJT8x Q8.Jxxx.QTxxx.xx A.AQTx.K98xxx.K9 T9xx.K8xx.J.Axxx\n",
      "KJxxxx.9.A.QJT8x AQT8.x.Qxxxx.A9x x.AKQx.KT9x.Kxxx 9x.JT8xxxx.J8x.x\n",
      "KJxxxx.9.A.QJT8x AT9x.Jxxx.QJ.Kxx .AQxx.KTxxx.A9xx Q8x.KT8x.98xxx.x\n",
      "KJxxxx.9.A.QJT8x Q9.8xxx.QT98x.9x A.AJxx.xxxx.AKxx T8xx.KQTx.KJx.xx\n",
      "KJxxxx.9.A.QJT8x AT9xx.Kxxx.Qxx.x .Jxxx.J8xxx.AK9x Q8.AQT8.KT9x.xxx\n",
      "KJxxxx.9.A.QJT8x A9x.AJT8x.9xxx.9 T.KQxx.KT8xx.Kxx Q8x.xxx.QJx.Axxx\n",
      "KJxxxx.9.A.QJT8x QTx.AQJ.JT8xx.Kx x.Kxxx.KQxx.A9xx A98.T8xxx.9xx.xx\n",
      "KJxxxx.9.A.QJT8x QT.8xxx.Jxx.AK9x x.KJTx.KQ9xxx.xx A98x.AQxx.T8x.xx\n",
      "KJxxxx.9.A.QJT8x Q8x.KQ8xx.9xxx.x T.AJxx.KQJT.AK9x A9x.Txx.8xxx.xxx\n",
      "KJxxxx.9.A.QJT8x Qx.KQ8xx.K9xxx.9 T.AJTx.QJx.Axxxx A98x.xxx.T8xx.Kx\n"
     ]
    }
   ],
   "source": [
    "# we got some samples above. if we want more, we can always get more\n",
    "\n",
    "sample_hands, sorted_score, p_hcp, p_shp, good_quality = bot_bid.sample_hands_for_auction([\"PAD_START\", \"PAD_START\", \"PAD_START\", \"PASS\", \"1N\", \"PASS\", \"3S\",\"PASS\"],0)\n",
    "print(\"Good quality:\", good_quality)\n",
    "for i in range(sample_hands.shape[0]):\n",
    "    print(f'{hand_to_str(sample_hands[i, 0, :])} {hand_to_str(sample_hands[i, 1, :])} {hand_to_str(sample_hands[i, 2, :])} {hand_to_str(sample_hands[i, 3, :])}')"
   ]
  }
 ],
 "metadata": {
  "kernelspec": {
   "display_name": "Python 3",
   "language": "python",
   "name": "python3"
  },
  "language_info": {
   "codemirror_mode": {
    "name": "ipython",
    "version": 3
   },
   "file_extension": ".py",
   "mimetype": "text/x-python",
   "name": "python",
   "nbconvert_exporter": "python",
   "pygments_lexer": "ipython3",
   "version": "3.12.3"
  }
 },
 "nbformat": 4,
 "nbformat_minor": 5
}
