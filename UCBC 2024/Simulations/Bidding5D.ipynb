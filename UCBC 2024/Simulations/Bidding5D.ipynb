{
 "cells": [
  {
   "cell_type": "markdown",
   "id": "75d07246",
   "metadata": {},
   "source": [
    "# Bidding\n",
    "\n",
    "This is a tutorial for how to use the bidding engine"
   ]
  },
  {
   "cell_type": "code",
   "execution_count": 1,
   "id": "59a5664c",
   "metadata": {},
   "outputs": [
    {
     "name": "stdout",
     "output_type": "stream",
     "text": [
      "WARNING:tensorflow:From d:\\GitHub\\ben\\UCBC 2024\\Simulations\\../../src\\nn\\bidderv2.py:3: The name tf.disable_v2_behavior is deprecated. Please use tf.compat.v1.disable_v2_behavior instead.\n",
      "\n",
      "WARNING:tensorflow:From c:\\ProgramData\\miniconda3\\Lib\\site-packages\\tensorflow\\python\\compat\\v2_compat.py:98: disable_resource_variables (from tensorflow.python.ops.resource_variables_toggle) is deprecated and will be removed in a future version.\n",
      "Instructions for updating:\n",
      "non-resource variables are not supported in the long term\n",
      "WARNING:tensorflow:From d:\\GitHub\\ben\\UCBC 2024\\Simulations\\../../src\\nn\\bidderv2.py:12: The name tf.Session is deprecated. Please use tf.compat.v1.Session instead.\n",
      "\n",
      "WARNING:tensorflow:From d:\\GitHub\\ben\\UCBC 2024\\Simulations\\../../src\\nn\\bidderv2.py:21: The name tf.train.import_meta_graph is deprecated. Please use tf.compat.v1.train.import_meta_graph instead.\n",
      "\n",
      "INFO:tensorflow:Restoring parameters from ..\\Models/NS1EW99-bidding_V2-3125000\n",
      "INFO:tensorflow:Restoring parameters from ..\\Models/NS1EW99-bidding_V2-3125000\n",
      "INFO:tensorflow:Restoring parameters from ..\\Models/contract-193200\n",
      "INFO:tensorflow:Restoring parameters from ..\\Models/NS1EW99-binfo_V2-3125000\n",
      "INFO:tensorflow:Restoring parameters from ..\\Models/lead_suit-999000\n",
      "INFO:tensorflow:Restoring parameters from ..\\Models/lead_nt-475000\n",
      "INFO:tensorflow:Restoring parameters from ..\\Models/Jack/lr3-1000000\n",
      "INFO:tensorflow:Restoring parameters from ..\\Models/single_dummy-32768000\n",
      "INFO:tensorflow:Restoring parameters from ..\\Models/lefty_nt-475000\n",
      "INFO:tensorflow:Restoring parameters from ..\\Models/dummy_nt-475000\n",
      "INFO:tensorflow:Restoring parameters from ..\\Models/righty_nt-475000\n",
      "INFO:tensorflow:Restoring parameters from ..\\Models/decl_nt-475000\n",
      "INFO:tensorflow:Restoring parameters from ..\\Models/lefty_suit-999000\n",
      "INFO:tensorflow:Restoring parameters from ..\\Models/dummy_suit-999000\n",
      "INFO:tensorflow:Restoring parameters from ..\\Models/righty_suit-999000\n",
      "INFO:tensorflow:Restoring parameters from ..\\Models/decl_suit-999000\n"
     ]
    }
   ],
   "source": [
    "import sys\n",
    "import os\n",
    "sys.path.append('../../src')\n",
    "os.environ['BEN_HOME'] = \"../..\"\n",
    "\n",
    "from nn.models import Models\n",
    "from botbidder import BotBid\n",
    "from util import hand_to_str\n",
    "from sample import Sample\n",
    "import conf\n",
    "import numpy as np\n",
    "\n",
    "np.set_printoptions(precision=2, suppress=True, linewidth=200)\n",
    "np.random.seed(42)\n",
    "\n",
    "models = Models.from_conf(conf.load('../UCBC 2024/Conf/UCBC2024.conf'),'..')   # loading neural networks\n",
    "sampler = Sample.from_conf(conf.load('../UCBC 2024/Conf/UCBC2024.conf'), False)  # Load sampling strategies"
   ]
  },
  {
   "cell_type": "markdown",
   "id": "10d8f2fc",
   "metadata": {},
   "source": [
    "### Running through an example"
   ]
  },
  {
   "cell_type": "code",
   "execution_count": 2,
   "id": "19dbfeb7",
   "metadata": {},
   "outputs": [
    {
     "name": "stderr",
     "output_type": "stream",
     "text": [
      "Loaded lib dds.dll\n",
      "DDSolver being loaded - dds mode 1\n"
     ]
    },
    {
     "data": {
      "text/plain": [
       "[{'call': '3D',\n",
       "  'insta_score': 0.307,\n",
       "  'adjustment': 15,\n",
       "  'expected_score': -6,\n",
       "  'expected_tricks': 8.6},\n",
       " {'call': 'PASS',\n",
       "  'insta_score': 0.631,\n",
       "  'adjustment': 32,\n",
       "  'expected_score': -88,\n",
       "  'expected_tricks': 8.5}]"
      ]
     },
     "execution_count": 2,
     "metadata": {},
     "output_type": "execute_result"
    }
   ],
   "source": [
    "# East deals, EW vulnerable.\n",
    "vuln_ns, vuln_ew = False, False\n",
    "\n",
    "from ddsolver import ddsolver\n",
    "dds = ddsolver.DDSolver()\n",
    "\n",
    "# you sit West and hold:\n",
    "hand = 'J.J82.A98632.T52'\n",
    "\n",
    "# the auction goes:\n",
    "# (a few words about 'PAD_START':\n",
    "# the auction is padded to dealer North\n",
    "# if North is not dealer, than we have to put in a 'PAD_START' for every seat that was skipped\n",
    "# if East deals we have one pad (because North is skipped)\n",
    "# if South deals we have two pads (because North and East are skipped)\n",
    "# etc.)\n",
    "auction = [\"PAD_START\",\"PAD_START\",\"1H\", \"1N\", \"2S\"]\n",
    "bot_bid = BotBid([vuln_ns, vuln_ew], hand, models, sampler, seat=1, dealer=2, ddsolver=dds, verbose=False)\n",
    "\n",
    "bid = bot_bid.bid(auction)\n",
    "bid.to_dict()['candidates']\n",
    "\n",
    "# what's your bid?"
   ]
  },
  {
   "cell_type": "code",
   "execution_count": 3,
   "id": "ce89b968",
   "metadata": {},
   "outputs": [
    {
     "data": {
      "text/plain": [
       "['Qxxxxxx.x.Qx.KJ8 J.J8x.A98xxx.Txx A9.AKTxxx.Tx.xxx KT8.Q9x.KJx.AQ9x 0.84082 \\n 1H-1N-2S-P-P-P (9, 9.1)  \\n 1H-1N-2S-3D-3H-P-P-P (8, 7.3) ',\n",
       " 'KT8xxx.9.Qxx.K8x J.J8x.A98xxx.Txx Axx.Qxxxx.JT.Axx Q9x.AKTx.Kx.QJ9x 0.84082 \\n 1H-1N-2S-P-P-P (9, 8.8)  \\n 1H-1N-2S-3D-P-P-P (9, 8.1) ',\n",
       " 'AT98xxx..KJx.xxx J.J8x.A98xxx.Txx Kx.KT9xxx.xx.KQ8 Qxx.AQxx.QT.AJ9x 0.83984 \\n 1H-1N-2S-P-P-P (9, 9.1)  \\n 1H-1N-2S-3D-P-P-3S-P-P-P (9, 9.1) ',\n",
       " 'QT9xxxx.x.QJ.Axx J.J8x.A98xxx.Txx A8.AQ9xxx.Txx.9x Kxx.KTx.Kx.KQJ8x 0.81055 \\n 1H-1N-2S-P-P-3C-P-P-P (8, 8.1)  \\n 1H-1N-2S-3D-P-P-P (7, 8.3) ',\n",
       " 'AQxxxx.x.xx.Q8xx J.J8x.A98xxx.Txx 9xx.AK9xx.KT.J9x KT8.QTxx.QJx.AKx 0.79883 \\n 1H-1N-2S-P-P-P (9, 9.1)  \\n 1H-1N-2S-3D-3S-P-P-P (9, 9.1) ',\n",
       " 'AQT8xxx.xx.K.xxx J.J8x.A98xxx.Txx 9.AKT9x.QJTx.98x Kxxx.Qxx.xx.AKQJ 0.79492 \\n 1H-1N-2S-P-P-P (8, 8.4)  \\n 1H-1N-2S-3D-P-3N-P-P-P (6, 5.7) ',\n",
       " 'QT9xxxx.Qx.x.Qxx J.J8x.A98xxx.Txx Kx.T9xxx.KQx.KJx A8x.AKx.JTx.A98x 0.78906 \\n 1H-1N-2S-P-P-P (8, 8.1)  \\n 1H-1N-2S-3D-P-P-P (9, 9.7) ',\n",
       " 'KQ9xxx.Q.JTx.98x J.J8x.A98xxx.Txx Txxx.ATxxx.x.AQJ A8.K9xx.KQx.Kxxx 0.78711 \\n 1H-1N-2S-P-P-P (10, 9.6)  \\n 1H-1N-2S-3D-3S-P-P-P (10, 9.6) ',\n",
       " 'Q98xxxx.T.Kx.Kxx J.J8x.A98xxx.Txx x.AQ9xxx.Qx.QJxx AKTx.Kxx.JTx.A98 0.78711 \\n 1H-1N-2S-P-P-P (8, 7.6)  \\n 1H-1N-2S-3D-P-3N-P-P-P (8, 8.0) ',\n",
       " 'Q98xxxx.Qx.Tx.Jx J.J8x.A98xxx.Txx Ax.9xxxx.Jx.AKxx KTx.AKT.KQx.Q98x 0.77832 \\n 1H-1N-2S-P-P-P (8, 8.0)  \\n 1H-1N-2S-3D-P-P-P (9, 9.4) ',\n",
       " 'QT9xxx.x.Qxx.A9x J.J8x.A98xxx.Txx xx.AKT9xx.T.KJxx AK8x.Qxx.KJx.Q8x 0.77441 \\n 1H-1N-2S-P-P-P (8, 8.3)  \\n 1H-1N-2S-3D-4H-P-P-P (8, 8.3) ',\n",
       " 'AQT98xx.x.Jx.xxx J.J8x.A98xxx.Txx xx.KT9xxx.Qxx.AQ Kxx.AQx.KT.KJ98x 0.77441 \\n 1H-1N-2S-P-P-3C-P-P-P (9, 9.1)  \\n 1H-1N-2S-3D-P-P-P (10, 9.1) ',\n",
       " 'A98xxxx.xx.Jx.Qx J.J8x.A98xxx.Txx Kx.AT9xx.xx.K8xx QTx.KQx.KQT.AJ9x 0.77295 \\n 1H-1N-2S-P-P-P (8, 8.5)  \\n 1H-1N-2S-3D-P-P-P (10, 9.5) ',\n",
       " 'AT98xx.Kx.Jxx.9x J.J8x.A98xxx.Txx Kxx.AQ9xx.T.Q8xx Qxx.Txx.KQx.AKJx 0.76953 \\n 1H-1N-2S-P-P-P (10, 9.0)  \\n 1H-1N-2S-3D-3S-P-P-P (10, 9.0) ',\n",
       " 'QT98xxx.K.x.Q9xx J.J8x.A98xxx.Txx x.Q9xxxx.Kxx.AK8 AKxx.ATx.QJT.Jxx 0.76953 \\n 1H-1N-2S-P-P-P (9, 8.4)  \\n 1H-1N-2S-3D-3H-P-P-P (8, 7.6) ',\n",
       " 'KQ98xx.x.Jxx.Q9x J.J8x.A98xxx.Txx Tx.AKT9xx.Kx.8xx Axxx.Qxx.QT.AKJx 0.76660 \\n 1H-1N-2S-P-P-P (9, 8.0)  \\n 1H-1N-2S-3D-3H-P-P-P (7, 6.1) ',\n",
       " 'AQTxxx.9.xx.J8xx J.J8x.A98xxx.Txx 9xx.QTxxx.QJ.AKx K8x.AKxx.KTx.Q9x 0.76318 \\n 1H-1N-2S-P-P-P (9, 9.5)  \\n 1H-1N-2S-3D-P-P-P (10, 8.2) ',\n",
       " '8xxxxxx.xx.KQ.98 J.J8x.A98xxx.Txx A9.KQT9x.JT.QJxx KQT.Axx.xxx.AKxx 0.76074 \\n 1H-1N-2S-P-P-P (7, 7.2)  \\n 1H-1N-2S-3D-P-P-P (10, 8.9) ',\n",
       " 'Q98xxxx.Ax.xx.8x J.J8x.A98xxx.Txx Kxx.Qxxxx.T.AKJx AT.KT9.KQJx.Q9xx 0.75977 \\n 1H-1N-2S-P-P-P (10, 9.4)  \\n 1H-1N-2S-3D-3S-4D-P-P-P (9, 9.1) ',\n",
       " 'KT9xxxx..KJ.98xx J.J8x.A98xxx.Txx x.ATxxxx.Qxx.KQx AQ8x.KQ9x.Tx.AJx 0.75684 \\n 1H-1N-2S-P-P-P (7, 7.9)  \\n 1H-1N-2S-3D-P-P-P (9, 8.1) ']"
      ]
     },
     "execution_count": 3,
     "metadata": {},
     "output_type": "execute_result"
    }
   ],
   "source": [
    "bid.samples"
   ]
  },
  {
   "cell_type": "code",
   "execution_count": 4,
   "id": "bfe98f56",
   "metadata": {},
   "outputs": [
    {
     "data": {
      "text/plain": [
       "[{'call': 'PASS', 'insta_score': 0.911}]"
      ]
     },
     "execution_count": 4,
     "metadata": {},
     "output_type": "execute_result"
    }
   ],
   "source": [
    "auction = [\"PAD_START\",\"PAD_START\",\"1H\", \"1N\", \"2S\",\"3D\",\"3S\",\"PASS\",\"4S\"]\n",
    "bid = bot_bid.bid(auction)\n",
    "\n",
    "bid.to_dict()['candidates']"
   ]
  },
  {
   "cell_type": "markdown",
   "id": "ad120123",
   "metadata": {},
   "source": [
    "in the output above:\n",
    "- `insta_score` reflects what the neural network prefers to bid\n",
    "- `expected_score` is based on what you expect to score on difference samples (for example, 70% of the time you are making and 30% of the time you are going one off, then the expected score is 0.7 * 620 - 0.3 * 100)"
   ]
  },
  {
   "cell_type": "markdown",
   "id": "051ff121",
   "metadata": {},
   "source": [
    "### Samples consistent with the auction so far\n",
    "\n",
    "Above we said that we are computig expected scores on samples consistent with the auction so far.\n",
    "\n",
    "How do we get these samples?\n",
    "\n",
    "We get some samples in the response we get from the bot (i.e `bid.samples`)"
   ]
  },
  {
   "cell_type": "code",
   "execution_count": 5,
   "id": "55b647a5",
   "metadata": {},
   "outputs": [
    {
     "data": {
      "text/plain": [
       "[]"
      ]
     },
     "execution_count": 5,
     "metadata": {},
     "output_type": "execute_result"
    }
   ],
   "source": [
    "bid.samples"
   ]
  }
 ],
 "metadata": {
  "kernelspec": {
   "display_name": "Python 3",
   "language": "python",
   "name": "python3"
  },
  "language_info": {
   "codemirror_mode": {
    "name": "ipython",
    "version": 3
   },
   "file_extension": ".py",
   "mimetype": "text/x-python",
   "name": "python",
   "nbconvert_exporter": "python",
   "pygments_lexer": "ipython3",
   "version": "3.12.3"
  }
 },
 "nbformat": 4,
 "nbformat_minor": 5
}
