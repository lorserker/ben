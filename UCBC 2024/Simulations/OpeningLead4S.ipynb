{
 "cells": [
  {
   "cell_type": "markdown",
   "id": "170af530",
   "metadata": {},
   "source": [
    "# Opening Lead\n",
    "\n",
    "This is a tutorial for how to use the opening lead engine."
   ]
  },
  {
   "cell_type": "code",
   "execution_count": 1,
   "id": "26570686",
   "metadata": {},
   "outputs": [],
   "source": [
    "import os\n",
    "import sys\n",
    "sys.path.append('../../src')\n",
    "os.environ['BEN_HOME'] = \"../..\"\n",
    "\n",
    "from nn.models import Models\n",
    "from bots import BotLead\n",
    "from sample import Sample\n",
    "import conf\n",
    "import numpy as np\n",
    "\n",
    "np.set_printoptions(precision=2, suppress=True, linewidth=200)\n",
    "np.random.seed(42)\n"
   ]
  },
  {
   "cell_type": "code",
   "execution_count": 2,
   "id": "fe373c76",
   "metadata": {},
   "outputs": [
    {
     "name": "stdout",
     "output_type": "stream",
     "text": [
      "WARNING:tensorflow:From c:\\Python311\\Lib\\site-packages\\tensorflow\\python\\compat\\v2_compat.py:107: disable_resource_variables (from tensorflow.python.ops.variable_scope) is deprecated and will be removed in a future version.\n",
      "Instructions for updating:\n",
      "non-resource variables are not supported in the long term\n",
      "INFO:tensorflow:Restoring parameters from ..\\Models/NS1EW99-bidding_same-5556000\n",
      "INFO:tensorflow:Restoring parameters from ..\\Models/NS1EW99-binfo_same-5556000\n",
      "INFO:tensorflow:Restoring parameters from ..\\Models/lead_suit-999000\n",
      "INFO:tensorflow:Restoring parameters from ..\\Models/lead_nt-475000\n",
      "INFO:tensorflow:Restoring parameters from ..\\Models/Jack/lr3-1000000\n",
      "INFO:tensorflow:Restoring parameters from ..\\Models/single_dummy-32768000\n",
      "INFO:tensorflow:Restoring parameters from ..\\Models/jack/lefty-1000000\n",
      "INFO:tensorflow:Restoring parameters from ..\\Models/jack/dummy-920000\n",
      "INFO:tensorflow:Restoring parameters from ..\\Models/jack/righty-1000000\n",
      "INFO:tensorflow:Restoring parameters from ..\\Models/jack/decl-1000000\n",
      "INFO:tensorflow:Restoring parameters from ..\\Models/jack/lefty-1000000\n",
      "INFO:tensorflow:Restoring parameters from ..\\Models/jack/dummy-920000\n",
      "INFO:tensorflow:Restoring parameters from ..\\Models/jack/righty-1000000\n",
      "INFO:tensorflow:Restoring parameters from ..\\Models/jack/decl-1000000\n"
     ]
    }
   ],
   "source": [
    "models = Models.from_conf(conf.load('../Conf/UCBC2024.conf'),'..')   # loading neural networks\n",
    "sampler = Sample.from_conf(conf.load('../Conf/UCBC2024.conf'), True)  # Load sampling strategies"
   ]
  },
  {
   "cell_type": "code",
   "execution_count": null,
   "id": "c3397678",
   "metadata": {},
   "outputs": [
    {
     "name": "stdout",
     "output_type": "stream",
     "text": [
      "Setting seed (Sampling bidding info) from 4.J954.8632.J975: 588168504\n",
      "Finding leads from neural network\n",
      "Cx 0.368\n",
      "Hx 0.254\n",
      "Dx 0.251\n",
      "Sx 0.107\n",
      "Now generating 50000 deals to find opening lead\n",
      "sample_cards_auction, nsteps= 3\n",
      "NS:  1.0 EW:  99.0 Auction:  ['PASS', '1C', '1S', 'PASS', '3C', 'PASS', '4S', 'PASS', 'PASS', 'PASS']\n",
      "nesw_i 3\n",
      "bids in model 3\n",
      "Player:  W Hand:  x.J9xx.8xxx.J9xx\n",
      "HCP:  [[ 8.6  13.4  13.85]]\n",
      "Shape:  [[4.27 3.46 3.4  1.79 2.35 3.13 3.28 4.35 5.12 2.76 2.58 2.49]]\n",
      "sample_cards_vec generating 50000\n",
      "sample_cards_vec took 1.075 Deals: 37224\n",
      "n_samples 37224 matching bidding info\n",
      "Samples after bidding filtering:  17  Threshold:  0.7\n",
      "Generated samples: 17  OK Quality True\n",
      "Now simulate on 200 deals to find opening lead\n",
      "Opening lead being examined:  C5 17\n",
      "dds took 0.04899\n",
      "Opening lead being examined:  H5 17\n"
     ]
    },
    {
     "name": "stderr",
     "output_type": "stream",
     "text": [
      "Loaded lib dds.dll\n"
     ]
    },
    {
     "name": "stdout",
     "output_type": "stream",
     "text": [
      "dds took 0.076\n",
      "Opening lead being examined:  D6 17\n",
      "dds took 0.05699\n",
      "Opening lead being examined:  S4 17\n",
      "dds took 0.09299\n",
      "True\n",
      "CandidateCard(card=Hx, insta_score=0.2544, exp_tricks_sd=11.176470588235293, exp_tricks_dd=None, p_make_contract=0.058823529411764705, exp_score_sd=None, exp_score_dd=None), msg=None\n",
      "CandidateCard(card=Dx, insta_score=0.2508, exp_tricks_sd=11.294117647058824, exp_tricks_dd=None, p_make_contract=0.058823529411764705, exp_score_sd=None, exp_score_dd=None), msg=None\n",
      "CandidateCard(card=Cx, insta_score=0.3683, exp_tricks_sd=11.235294117647058, exp_tricks_dd=None, p_make_contract=0.0, exp_score_sd=None, exp_score_dd=None), msg=None\n",
      "CandidateCard(card=Sx, insta_score=0.1073, exp_tricks_sd=11.235294117647058, exp_tricks_dd=None, p_make_contract=0.0, exp_score_sd=None, exp_score_dd=None), msg=None\n",
      "Accepted samples for opening lead: 17\n"
     ]
    }
   ],
   "source": [
    "# Camrose 2024 Deal 34\n",
    "# You are sitting North and you hold\n",
    "hand = '4.J954.8632.J975'\n",
    "seat =  3\n",
    "# the auction goes:\n",
    "auction = [\"PASS\", \"1C\", \"1S\", \"PASS\", \"3C\", \"PASS\", \"4S\", \"PASS\", \"PASS\", \"PASS\"]\n",
    "\n",
    "from ddsolver import ddsolver\n",
    "dds = ddsolver.DDSolver()\n",
    "\n",
    "# what to lead?\n",
    "lead_bot = BotLead([True, False], hand, models, sampler, seat, 0, dds, True)\n",
    "lead = lead_bot.find_opening_lead(auction)"
   ]
  },
  {
   "cell_type": "code",
   "execution_count": 5,
   "id": "a2b5fe25",
   "metadata": {},
   "outputs": [
    {
     "data": {
      "text/plain": [
       "H5"
      ]
     },
     "execution_count": 5,
     "metadata": {},
     "output_type": "execute_result"
    }
   ],
   "source": [
    "lead.card"
   ]
  },
  {
   "cell_type": "markdown",
   "id": "02e88396",
   "metadata": {},
   "source": [
    "seems like the engine chose to lead the ace of diamonds\n",
    "\n",
    "the other options it considered were: a small spade and a small club"
   ]
  },
  {
   "cell_type": "code",
   "execution_count": 6,
   "id": "956ef356",
   "metadata": {},
   "outputs": [
    {
     "data": {
      "text/plain": [
       "[{'card': 'Hx',\n",
       "  'insta_score': 0.254,\n",
       "  'expected_tricks_sd': 11.18,\n",
       "  'p_make_contract': 0.06},\n",
       " {'card': 'Dx',\n",
       "  'insta_score': 0.251,\n",
       "  'expected_tricks_sd': 11.29,\n",
       "  'p_make_contract': 0.06},\n",
       " {'card': 'Cx',\n",
       "  'insta_score': 0.368,\n",
       "  'expected_tricks_sd': 11.24,\n",
       "  'p_make_contract': 0.0},\n",
       " {'card': 'Sx',\n",
       "  'insta_score': 0.107,\n",
       "  'expected_tricks_sd': 11.24,\n",
       "  'p_make_contract': 0.0}]"
      ]
     },
     "execution_count": 6,
     "metadata": {},
     "output_type": "execute_result"
    }
   ],
   "source": [
    "lead.to_dict()['candidates']"
   ]
  },
  {
   "cell_type": "markdown",
   "id": "97efc5a1",
   "metadata": {},
   "source": [
    "in the above output:\n",
    "- `insta_score` reflects the preference of the neural network\n",
    "- `expected_tricks` how many tricks declarer is expected to take on this lead\n",
    "- `p_make_contract` is the probability of the contract making on this lead\n",
    "\n",
    "the probability of making and the expected tricks are computed on samples which are consistent with the auction. the samples are estimated single dummy using a neural network (more on this in another tutorial). we could also solve the samples double dummy, but that would be quite a bit slower."
   ]
  },
  {
   "cell_type": "code",
   "execution_count": 7,
   "id": "7cb2bf98",
   "metadata": {},
   "outputs": [
    {
     "data": {
      "text/plain": [
       "['x.J9xx.8xxx.J9xx Txxxx.KQ8x.Tx.A8 J8.ATxx.AQx.Kxxx AKQ9x.x.KJ9x.QTx 0.73415',\n",
       " 'x.J9xx.8xxx.J9xx QJ9xx.T8.AJxxx.x AT.AKxx.QT9.T8xx K8xxx.Qxx.K.AKQx 0.72883',\n",
       " 'x.J9xx.8xxx.J9xx 98xx.A8xx.KJTxx. AJx.KQTx.Q9.QTxx KQTxx.x.Ax.AK8xx 0.72682',\n",
       " 'x.J9xx.8xxx.J9xx AT9xx.T8xx.Axx.T Jx.AKxx.J9x.KQxx KQ8xx.Q.KQT.A8xx 0.72594',\n",
       " 'x.J9xx.8xxx.J9xx K98xx.8xxx.KQx.x Qx.AKTx.A9x.T8xx AJTxx.Q.JTx.AKQx 0.72588',\n",
       " 'x.J9xx.8xxx.J9xx QJT8.8xx.KQJTx.x xxx.KTxx.Ax.AQxx AK9xx.AQ.9x.KT8x 0.72522',\n",
       " 'x.J9xx.8xxx.J9xx T9xx.Axx.AJT9x.x Q8x.KQTx.Kx.AT8x AKJxx.8x.Qx.KQxx 0.72381',\n",
       " 'x.J9xx.8xxx.J9xx KQT9x.Qxxx.QTx.T Ax.AT8x.J9x.Axxx J8xxx.K.AKx.KQ8x 0.72376',\n",
       " 'x.J9xx.8xxx.J9xx AJ8xx.QTx.QTxx.T Tx.AKxx.AKx.8xxx KQ9xx.8x.J9.AKQx 0.72190',\n",
       " 'x.J9xx.8xxx.J9xx Axxx.8xx.KJT9x.x KTx.KTxx.Ax.K8xx QJ98x.AQ.Qx.AQTx 0.71916',\n",
       " 'x.J9xx.8xxx.J9xx AJTxx.T.Axxx.8xx xx.8xxx.QJT.AKQx KQ98x.AKQx.K9.Tx 0.71655',\n",
       " 'x.J9xx.8xxx.J9xx K9xxx.x.QT9x.ATx Jx.Q8xx.AKx.K8xx AQT8x.AKTx.Jx.Qx 0.71356',\n",
       " 'x.J9xx.8xxx.J9xx KJxxx.A8xx.9xx.x 9x.KQTx.AJx.K8xx AQT8x.x.KQT.AQTx 0.70700',\n",
       " 'x.J9xx.8xxx.J9xx Qxxxx.KTxx.x.ATx 98x.Qxx.AK9.K8xx AKJT.A8.QJTxx.Qx 0.70696',\n",
       " 'x.J9xx.8xxx.J9xx AJxx.Tx.KJT9x.xx 98x.AKxx.Qx.KQT8 KQTxx.Q8x.Ax.Axx 0.70617',\n",
       " 'x.J9xx.8xxx.J9xx 8xxx.AK8.QT9xx.8 AJx.Txxx.Jx.AKTx KQT9x.Qx.AK.Qxxx 0.70272',\n",
       " 'x.J9xx.8xxx.J9xx QJ9xx.T8xx.AQx.x Kxx.Kxx.JTx.KQ8x AT8x.AQ.K9x.ATxx 0.70133']"
      ]
     },
     "execution_count": 7,
     "metadata": {},
     "output_type": "execute_result"
    }
   ],
   "source": [
    "# each row is one sample board\n",
    "# the hands are in the order: LHO, Partner, RHO. Your cards are not shown as they are fixed/\n",
    "\n",
    "lead.samples"
   ]
  }
 ],
 "metadata": {
  "kernelspec": {
   "display_name": "Python 3 (ipykernel)",
   "language": "python",
   "name": "python3"
  },
  "language_info": {
   "codemirror_mode": {
    "name": "ipython",
    "version": 3
   },
   "file_extension": ".py",
   "mimetype": "text/x-python",
   "name": "python",
   "nbconvert_exporter": "python",
   "pygments_lexer": "ipython3",
   "version": "3.11.0"
  }
 },
 "nbformat": 4,
 "nbformat_minor": 5
}
