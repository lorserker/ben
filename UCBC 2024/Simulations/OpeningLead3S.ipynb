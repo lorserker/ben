{
 "cells": [
  {
   "cell_type": "markdown",
   "id": "170af530",
   "metadata": {},
   "source": [
    "# Opening Lead\n",
    "\n",
    "This is a tutorial for how to use the opening lead engine."
   ]
  },
  {
   "cell_type": "code",
   "execution_count": 1,
   "id": "26570686",
   "metadata": {},
   "outputs": [
    {
     "name": "stdout",
     "output_type": "stream",
     "text": [
      "WARNING:tensorflow:From d:\\GitHub\\ben\\UCBC 2024\\Simulations\\../../src\\nn\\bidderv2.py:3: The name tf.disable_v2_behavior is deprecated. Please use tf.compat.v1.disable_v2_behavior instead.\n",
      "\n",
      "WARNING:tensorflow:From c:\\ProgramData\\miniconda3\\Lib\\site-packages\\tensorflow\\python\\compat\\v2_compat.py:98: disable_resource_variables (from tensorflow.python.ops.resource_variables_toggle) is deprecated and will be removed in a future version.\n",
      "Instructions for updating:\n",
      "non-resource variables are not supported in the long term\n",
      "WARNING:tensorflow:From d:\\GitHub\\ben\\UCBC 2024\\Simulations\\../../src\\nn\\bidderv2.py:12: The name tf.Session is deprecated. Please use tf.compat.v1.Session instead.\n",
      "\n",
      "WARNING:tensorflow:From d:\\GitHub\\ben\\UCBC 2024\\Simulations\\../../src\\nn\\bidderv2.py:21: The name tf.train.import_meta_graph is deprecated. Please use tf.compat.v1.train.import_meta_graph instead.\n",
      "\n",
      "INFO:tensorflow:Restoring parameters from ..\\Models/NS1EW99-bidding_V2-3125000\n",
      "INFO:tensorflow:Restoring parameters from ..\\Models/NS1EW99-bidding_V2-3125000\n",
      "INFO:tensorflow:Restoring parameters from ..\\Models/contract-193200\n",
      "INFO:tensorflow:Restoring parameters from ..\\Models/NS1EW99-binfo_V2-3125000\n",
      "INFO:tensorflow:Restoring parameters from ..\\Models/lead_suit-999000\n",
      "INFO:tensorflow:Restoring parameters from ..\\Models/lead_nt-475000\n",
      "INFO:tensorflow:Restoring parameters from ..\\Models/Jack/lr3-1000000\n",
      "INFO:tensorflow:Restoring parameters from ..\\Models/single_dummy-32768000\n",
      "INFO:tensorflow:Restoring parameters from ..\\Models/lefty_nt-475000\n",
      "INFO:tensorflow:Restoring parameters from ..\\Models/dummy_nt-475000\n",
      "INFO:tensorflow:Restoring parameters from ..\\Models/righty_nt-475000\n",
      "INFO:tensorflow:Restoring parameters from ..\\Models/decl_nt-475000\n",
      "INFO:tensorflow:Restoring parameters from ..\\Models/lefty_suit-999000\n",
      "INFO:tensorflow:Restoring parameters from ..\\Models/dummy_suit-999000\n",
      "INFO:tensorflow:Restoring parameters from ..\\Models/righty_suit-999000\n",
      "INFO:tensorflow:Restoring parameters from ..\\Models/decl_suit-999000\n"
     ]
    }
   ],
   "source": [
    "import os\n",
    "import sys\n",
    "sys.path.append('../../src')\n",
    "os.environ['BEN_HOME'] = \"../..\"\n",
    "\n",
    "from nn.models import Models\n",
    "from bots import BotLead\n",
    "from sample import Sample\n",
    "import conf\n",
    "import numpy as np\n",
    "\n",
    "np.set_printoptions(precision=2, suppress=True, linewidth=200)\n",
    "np.random.seed(42)\n",
    "\n",
    "models = Models.from_conf(conf.load('../UCBC 2024/Conf/UCBC2024.conf'),'..')   # loading neural networks\n",
    "sampler = Sample.from_conf(conf.load('../UCBC 2024/Conf/UCBC2024.conf'), False)  # Load sampling strategies"
   ]
  },
  {
   "cell_type": "code",
   "execution_count": 2,
   "id": "c3397678",
   "metadata": {},
   "outputs": [
    {
     "name": "stderr",
     "output_type": "stream",
     "text": [
      "Loaded lib dds.dll\n",
      "DDSolver being loaded - dds mode 1\n"
     ]
    }
   ],
   "source": [
    "# both vulnerable. you are sitting East, South is dealer\n",
    "hand = 'AQT8.AKT82.JT.43'\n",
    "seat = 1\n",
    "dealer = 2\n",
    "# the auction goes:\n",
    "auction = [\"PAD_START\",\"PAD_START\", \"PASS\", \"2D\", \"3S\", \"PASS\", \"PASS\", \"PASS\"]\n",
    "\n",
    "from ddsolver import ddsolver\n",
    "dds = ddsolver.DDSolver()\n",
    "\n",
    "# what to lead?\n",
    "lead_bot = BotLead([True, True], hand, models, sampler, seat, dealer, dds, False)\n",
    "lead = lead_bot.find_opening_lead(auction)"
   ]
  },
  {
   "cell_type": "code",
   "execution_count": 3,
   "id": "a2b5fe25",
   "metadata": {},
   "outputs": [
    {
     "data": {
      "text/plain": [
       "HK"
      ]
     },
     "execution_count": 3,
     "metadata": {},
     "output_type": "execute_result"
    }
   ],
   "source": [
    "lead.card"
   ]
  },
  {
   "cell_type": "markdown",
   "id": "02e88396",
   "metadata": {},
   "source": [
    "seems like the engine chose to lead the king of hearts\n",
    "\n",
    "the other options it considered were: Jack of diamonds, Ace of hearts and a small club"
   ]
  },
  {
   "cell_type": "code",
   "execution_count": 4,
   "id": "956ef356",
   "metadata": {},
   "outputs": [
    {
     "data": {
      "text/plain": [
       "[{'card': 'HK',\n",
       "  'insta_score': 0.393,\n",
       "  'expected_tricks_dd': 5.75,\n",
       "  'p_make_contract': 1.0,\n",
       "  'expected_score_dd': -325},\n",
       " {'card': 'DJ',\n",
       "  'insta_score': 0.259,\n",
       "  'expected_tricks_dd': 5.83,\n",
       "  'p_make_contract': 1.0,\n",
       "  'expected_score_dd': -316},\n",
       " {'card': 'HA',\n",
       "  'insta_score': 0.21,\n",
       "  'expected_tricks_dd': 5.75,\n",
       "  'p_make_contract': 1.0,\n",
       "  'expected_score_dd': -325},\n",
       " {'card': 'Cx',\n",
       "  'insta_score': 0.126,\n",
       "  'expected_tricks_dd': 5.91,\n",
       "  'p_make_contract': 1.0,\n",
       "  'expected_score_dd': -310}]"
      ]
     },
     "execution_count": 4,
     "metadata": {},
     "output_type": "execute_result"
    }
   ],
   "source": [
    "lead.to_dict()['candidates']"
   ]
  },
  {
   "cell_type": "markdown",
   "id": "97efc5a1",
   "metadata": {},
   "source": [
    "in the above output:\n",
    "- `insta_score` reflects the preference of the neural network\n",
    "- `expected_tricks` how many tricks declarer is expected to take on this lead\n",
    "- `p_make_contract` is the probability of the contract making on this lead\n",
    "\n",
    "the probability of making and the expected tricks are computed on samples which are consistent with the auction. the samples are estimated single dummy using a neural network (more on this in another tutorial). we could also solve the samples double dummy, but that would be quite a bit slower."
   ]
  },
  {
   "cell_type": "code",
   "execution_count": 5,
   "id": "7cb2bf98",
   "metadata": {},
   "outputs": [
    {
     "data": {
      "text/plain": [
       "['AQT8.AKT8x.JT.xx x.9xx.98x.AQT98x x.Jxx.KQxxxx.KJx KJ9xxxx.Qx.Ax.xx 0.85400',\n",
       " 'AQT8.AKT8x.JT.xx 9.J9xxx.KQ9.T98x J.x.A8xxxx.AJxxx Kxxxxxx.Qx.xx.KQ 0.80908',\n",
       " 'AQT8.AKT8x.JT.xx 9x.xx.98x.AJ9xxx x.QJx.KQxxxx.QT8 KJxxxx.9xx.Ax.Kx 0.83301',\n",
       " 'AQT8.AKT8x.JT.xx x.xx.K8xx.QT98xx xx.Jx.Q9xxxx.AKx KJ9xxx.Q9xx.A.Jx 0.80176',\n",
       " 'AQT8.AKT8x.JT.xx Kx.9x.Q8xx.QT9xx x.Jx.AK9xxx.J8xx J9xxxx.Qxxx.x.AK 0.83594',\n",
       " 'AQT8.AKT8x.JT.xx x.Q9xx.xxx.AQJ9x x.Jxx.KQ98xx.KT8 KJ9xxxx.x.Ax.xxx 0.73389',\n",
       " 'AQT8.AKT8x.JT.xx x.9xxx.AKxx.T8xx x.Jx.Q98xxx.AQJx KJ9xxxx.Qx.x.K9x 0.80322',\n",
       " 'AQT8.AKT8x.JT.xx x.Jxx.8xxx.AK98x K.9x.KQ9xxx.QTxx J9xxxxx.Qxx.A.Jx 0.76318',\n",
       " 'AQT8.AKT8x.JT.xx xx.Jxxx.Qxx.QTxx .Q9x.AK98xx.J8xx KJ9xxxx.x.xx.AK9 0.83838',\n",
       " 'AQT8.AKT8x.JT.xx x.Jxxx.9x.KQJT9x 9x.Qx.AKxxxx.8xx KJxxxx.9x.Q8x.Ax 0.81494',\n",
       " 'AQT8.AKT8x.JT.xx xx.9xxx.9x.AQ9xx x.Jx.KQxxxx.KT8x KJ9xxx.Qx.A8x.Jx 0.82666',\n",
       " 'AQT8.AKT8x.JT.xx x.QJx.xxx.QJT9xx x.xxx.KQ98xx.K8x KJ9xxxx.9x.Ax.Ax 0.84717',\n",
       " 'AQT8.AKT8x.JT.xx xx.Q9xxx.KQxx.Jx x.Jx.A98xxx.KTxx KJ9xxx.x.x.AQ98x 0.71240',\n",
       " 'AQT8.AKT8x.JT.xx x.QJxx.Qxxx.J8xx x.xx.A98xxx.A9xx KJ9xxxx.9x.K.KQT 0.83496',\n",
       " 'AQT8.AKT8x.JT.xx x.Jxx.xxx.KQ98xx Jx.Qx.AQ8xxx.Txx K9xxxx.9xx.K9.AJ 0.83252',\n",
       " 'AQT8.AKT8x.JT.xx 9.Qxxx.Kxxx.JTxx x.J9x.AQ98xx.K9x KJxxxxx.x.x.AQ8x 0.85010',\n",
       " 'AQT8.AKT8x.JT.xx xx.9xxx.K8x.KQT8 xx.x.AQ9xxx.Jxxx KJ9xx.QJx.xx.A9x 0.70068',\n",
       " 'AQT8.AKT8x.JT.xx .Q9xx.K8x.QJT8xx x.x.Q9xxxx.AK9xx KJ9xxxxx.Jxx.Ax. 0.76416',\n",
       " 'AQT8.AKT8x.JT.xx 9x.xxx.KQ9x.KT9x x.Jxx.A8xxxx.AJx KJxxxx.Q9.x.Q8xx 0.79199',\n",
       " 'AQT8.AKT8x.JT.xx 9.QJ9xxx.8xx.9xx x.x.KQ9xxx.KQTxx KJxxxxx.x.Ax.AJ8 0.81787']"
      ]
     },
     "execution_count": 5,
     "metadata": {},
     "output_type": "execute_result"
    }
   ],
   "source": [
    "# each row is one sample board\n",
    "# the hands are in the order: You, LHO, Partner, RHO. \n",
    "\n",
    "lead.samples"
   ]
  }
 ],
 "metadata": {
  "kernelspec": {
   "display_name": "Python 3",
   "language": "python",
   "name": "python3"
  },
  "language_info": {
   "codemirror_mode": {
    "name": "ipython",
    "version": 3
   },
   "file_extension": ".py",
   "mimetype": "text/x-python",
   "name": "python",
   "nbconvert_exporter": "python",
   "pygments_lexer": "ipython3",
   "version": "3.12.3"
  }
 },
 "nbformat": 4,
 "nbformat_minor": 5
}
