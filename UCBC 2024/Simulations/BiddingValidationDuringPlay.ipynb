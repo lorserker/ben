{
 "cells": [
  {
   "cell_type": "markdown",
   "id": "75d07246",
   "metadata": {},
   "source": [
    "# Bidding validation during play\n",
    "\n",
    "When playing the samples are matched against bidding. This is an example of how this is done"
   ]
  },
  {
   "cell_type": "code",
   "execution_count": 1,
   "id": "59a5664c",
   "metadata": {},
   "outputs": [
    {
     "name": "stderr",
     "output_type": "stream",
     "text": [
      "Loading config file d:\\GitHub\\ben\\src\\config/default_tf1x.conf\n"
     ]
    },
    {
     "name": "stdout",
     "output_type": "stream",
     "text": [
      "WARNING:tensorflow:From d:\\GitHub\\ben\\UCBC 2024\\Simulations\\../../src\\nn\\bidderv2.py:3: The name tf.disable_v2_behavior is deprecated. Please use tf.compat.v1.disable_v2_behavior instead.\n",
      "\n",
      "WARNING:tensorflow:From c:\\ProgramData\\miniconda3\\Lib\\site-packages\\tensorflow\\python\\compat\\v2_compat.py:98: disable_resource_variables (from tensorflow.python.ops.resource_variables_toggle) is deprecated and will be removed in a future version.\n",
      "Instructions for updating:\n",
      "non-resource variables are not supported in the long term\n",
      "WARNING:tensorflow:From d:\\GitHub\\ben\\UCBC 2024\\Simulations\\../../src\\nn\\bidderv2.py:12: The name tf.Session is deprecated. Please use tf.compat.v1.Session instead.\n",
      "\n",
      "WARNING:tensorflow:From d:\\GitHub\\ben\\UCBC 2024\\Simulations\\../../src\\nn\\bidderv2.py:21: The name tf.train.import_meta_graph is deprecated. Please use tf.compat.v1.train.import_meta_graph instead.\n",
      "\n",
      "INFO:tensorflow:Restoring parameters from ../..\\models/GIB/2024-07-06_bidding_V2-3114000\n",
      "INFO:tensorflow:Restoring parameters from ../..\\models/GIB/2024-07-06_bidding_V2-3114000\n",
      "INFO:tensorflow:Restoring parameters from ../..\\models/contract/contract-193200\n",
      "INFO:tensorflow:Restoring parameters from ../..\\models/GIB/binfo_V2-1420000\n",
      "INFO:tensorflow:Restoring parameters from ../..\\models/lead/lead_suit-999000\n",
      "INFO:tensorflow:Restoring parameters from ../..\\models/lead/lead_nt-475000\n",
      "INFO:tensorflow:Restoring parameters from ../..\\models/lr3_model/lr3-1000000\n",
      "INFO:tensorflow:Restoring parameters from ../..\\models/single_dummy/single_dummy-32768000\n",
      "INFO:tensorflow:Restoring parameters from ../..\\models/playing/lefty_nt-475000\n",
      "INFO:tensorflow:Restoring parameters from ../..\\models/playing/dummy_nt-475000\n",
      "INFO:tensorflow:Restoring parameters from ../..\\models/playing/righty_nt-475000\n",
      "INFO:tensorflow:Restoring parameters from ../..\\models/playing/decl_nt-475000\n",
      "INFO:tensorflow:Restoring parameters from ../..\\models/playing/lefty_suit-999000\n",
      "INFO:tensorflow:Restoring parameters from ../..\\models/playing/dummy_suit-999000\n",
      "INFO:tensorflow:Restoring parameters from ../..\\models/playing/righty_suit-999000\n",
      "INFO:tensorflow:Restoring parameters from ../..\\models/playing/decl_suit-999000\n"
     ]
    },
    {
     "name": "stderr",
     "output_type": "stream",
     "text": [
      "Loading config file d:\\GitHub\\ben\\src\\config/default_tf1x.conf\n"
     ]
    }
   ],
   "source": [
    "import os\n",
    "import sys\n",
    "sys.path.append('../../src')\n",
    "os.environ['BEN_HOME'] = \"../..\"\n",
    "\n",
    "import os\n",
    "import logging\n",
    "\n",
    "# Set logging level to suppress warnings\n",
    "logging.getLogger().setLevel(logging.ERROR)\n",
    "# Just disables the warnings\n",
    "os.environ['TF_CPP_MIN_LOG_LEVEL'] = '2'\n",
    "from nn.models import Models\n",
    "from bots import BotBid\n",
    "from bidding import bidding\n",
    "from util import hand_to_str\n",
    "from deck52 import random_deal\n",
    "from sample import Sample\n",
    "import conf\n",
    "import numpy as np\n",
    "from binary import parse_hand_f\n",
    "\n",
    "np.set_printoptions(precision=2, suppress=True, linewidth=200)\n",
    "np.random.seed(42)\n",
    "\n",
    "models = Models.from_conf(conf.load('config/default_tf1x.conf'),'../..')   # loading neural networks\n",
    "sampler = Sample.from_conf(conf.load('config/default_tf1x.conf'), False)  # Load sampling strategies"
   ]
  },
  {
   "cell_type": "code",
   "execution_count": null,
   "id": "44786d5d",
   "metadata": {},
   "outputs": [],
   "source": [
    "auction = ['PAD_START', 'PAD_START', 'PASS', '1N', 'PASS', 'PASS', 'PASS']\n",
    "\n",
    "hand_str_list = [\n",
    "    \"J9x.Axxx.AKxx.AT\"\n",
    "]\n",
    "\n",
    "hands = np.array([parse_hand_f(32)(hand_str).reshape(32) for hand_str in hand_str_list])\n",
    "\n",
    "hand_no = 3\n",
    "dealer = 0\n",
    "scores = sampler.get_bid_scores(hand_no,dealer,auction,[True, False],hands, models)\n",
    "print(scores)"
   ]
  },
  {
   "cell_type": "code",
   "execution_count": null,
   "id": "5d7ac78f",
   "metadata": {},
   "outputs": [],
   "source": [
    "hand_str = \"8.9xx.9x.KT8xxxx\"\n",
    "hand = parse_hand_f(32)(hand_str).reshape(32)\n",
    "hands = np.array([hand])\n",
    "hand_no = 0\n",
    "scores = sampler.get_bid_scores(hand_no,dealer,auction,[False, True],hands, models)\n",
    "print(scores)"
   ]
  },
  {
   "cell_type": "code",
   "execution_count": null,
   "id": "44f5dbc0",
   "metadata": {},
   "outputs": [],
   "source": [
    "hand_str = \"A9x.AK.T8xx.Q9xx\"\n",
    "hand = parse_hand_f(32)(hand_str).reshape(32)\n",
    "hands = np.array([hand])\n",
    "hand_no = 2\n",
    "scores = sampler.get_bid_scores(hand_no,dealer,auction,[True, True],hands, models)\n",
    "print(scores)"
   ]
  },
  {
   "cell_type": "code",
   "execution_count": null,
   "metadata": {},
   "outputs": [],
   "source": [
    "hand_str = \"KTxx.J9xx.Qx.AKx\"\n",
    "hand = parse_hand_f(32)(hand_str).reshape(32)\n",
    "hands = np.array([hand])\n",
    "hand_no = 3\n",
    "scores = sampler.get_bid_scores(hand_no,dealer,auction,[True, True],hands, models)\n",
    "print(scores)"
   ]
  }
 ],
 "metadata": {
  "kernelspec": {
   "display_name": "Python 3",
   "language": "python",
   "name": "python3"
  },
  "language_info": {
   "codemirror_mode": {
    "name": "ipython",
    "version": 3
   },
   "file_extension": ".py",
   "mimetype": "text/x-python",
   "name": "python",
   "nbconvert_exporter": "python",
   "pygments_lexer": "ipython3",
   "version": "3.12.3"
  }
 },
 "nbformat": 4,
 "nbformat_minor": 5
}
