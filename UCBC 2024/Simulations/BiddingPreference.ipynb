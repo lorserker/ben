{
 "cells": [
  {
   "cell_type": "markdown",
   "id": "75d07246",
   "metadata": {},
   "source": [
    "# Bidding\n",
    "\n",
    "This is a tutorial for how to use the bidding engine"
   ]
  },
  {
   "cell_type": "code",
   "execution_count": 1,
   "id": "59a5664c",
   "metadata": {},
   "outputs": [],
   "source": [
    "import sys\n",
    "import os\n",
    "sys.path.append('../../src')\n",
    "os.environ['BEN_HOME'] = \"../..\"\n",
    "\n",
    "import os\n",
    "import logging\n",
    "\n",
    "# Set logging level to suppress warnings\n",
    "logging.getLogger().setLevel(logging.ERROR)\n",
    "# Just disables the warnings\n",
    "os.environ['TF_CPP_MIN_LOG_LEVEL'] = '2'\n",
    "from nn.models import Models\n",
    "from bots import BotBid\n",
    "from bidding import bidding\n",
    "from util import hand_to_str\n",
    "from deck52 import random_deal\n",
    "from sample import Sample\n",
    "import conf\n",
    "import numpy as np\n",
    "\n",
    "np.set_printoptions(precision=2, suppress=True, linewidth=200)\n",
    "np.random.seed(42)"
   ]
  },
  {
   "cell_type": "code",
   "execution_count": 2,
   "id": "44786d5d",
   "metadata": {},
   "outputs": [
    {
     "name": "stdout",
     "output_type": "stream",
     "text": [
      "WARNING:tensorflow:From d:\\GitHub\\ben\\UCBC 2024\\Simulations\\../../src\\nn\\bidderv2.py:3: The name tf.disable_v2_behavior is deprecated. Please use tf.compat.v1.disable_v2_behavior instead.\n",
      "\n",
      "WARNING:tensorflow:From c:\\ProgramData\\miniconda3\\Lib\\site-packages\\tensorflow\\python\\compat\\v2_compat.py:98: disable_resource_variables (from tensorflow.python.ops.resource_variables_toggle) is deprecated and will be removed in a future version.\n",
      "Instructions for updating:\n",
      "non-resource variables are not supported in the long term\n",
      "WARNING:tensorflow:From d:\\GitHub\\ben\\UCBC 2024\\Simulations\\../../src\\nn\\bidderv2.py:12: The name tf.Session is deprecated. Please use tf.compat.v1.Session instead.\n",
      "\n",
      "WARNING:tensorflow:From d:\\GitHub\\ben\\UCBC 2024\\Simulations\\../../src\\nn\\bidderv2.py:21: The name tf.train.import_meta_graph is deprecated. Please use tf.compat.v1.train.import_meta_graph instead.\n",
      "\n",
      "INFO:tensorflow:Restoring parameters from ..\\Models/NS1EW99-bidding_V2-3125000\n",
      "INFO:tensorflow:Restoring parameters from ..\\Models/NS1EW99-bidding_V2-3125000\n",
      "INFO:tensorflow:Restoring parameters from ..\\Models/contract-193200\n",
      "INFO:tensorflow:Restoring parameters from ..\\Models/NS1EW99-binfo_V2-3125000\n",
      "INFO:tensorflow:Restoring parameters from ..\\Models/lead_suit-999000\n",
      "INFO:tensorflow:Restoring parameters from ..\\Models/lead_nt-475000\n",
      "INFO:tensorflow:Restoring parameters from ..\\Models/Jack/lr3-1000000\n",
      "INFO:tensorflow:Restoring parameters from ..\\Models/single_dummy-32768000\n",
      "INFO:tensorflow:Restoring parameters from ..\\Models/lefty_nt-475000\n",
      "INFO:tensorflow:Restoring parameters from ..\\Models/dummy_nt-475000\n",
      "INFO:tensorflow:Restoring parameters from ..\\Models/righty_nt-475000\n",
      "INFO:tensorflow:Restoring parameters from ..\\Models/decl_nt-475000\n",
      "INFO:tensorflow:Restoring parameters from ..\\Models/lefty_suit-999000\n",
      "INFO:tensorflow:Restoring parameters from ..\\Models/dummy_suit-999000\n",
      "INFO:tensorflow:Restoring parameters from ..\\Models/righty_suit-999000\n",
      "INFO:tensorflow:Restoring parameters from ..\\Models/decl_suit-999000\n"
     ]
    }
   ],
   "source": [
    "models = Models.from_conf(conf.load('../UCBC 2024/Conf/UCBC2024.conf'),'..')   # loading neural networks\n",
    "sampler = Sample.from_conf(conf.load('../UCBC 2024/Conf/UCBC2024.conf'), False)  # Load sampling strategies"
   ]
  },
  {
   "cell_type": "markdown",
   "id": "669da023",
   "metadata": {},
   "source": [
    "### Bidding through an entire auction for all four hands\n",
    "\n",
    "Now we'll take a random deal and let the bot bid for each hand. We assume North deals and nobody is vulnerable.\n",
    "\n",
    "This script was used to detect the reason for some strange bidding. But the error is fixed, so this should look normal now"
   ]
  },
  {
   "cell_type": "code",
   "execution_count": 3,
   "id": "fc27ca79",
   "metadata": {},
   "outputs": [],
   "source": [
    "hands = ['T8732.K7532.J.Q3', '4.AQJ98.KQ975.94', 'AQ.T6.A863.JT862', 'KJ965.4.T42.AK75']"
   ]
  },
  {
   "cell_type": "code",
   "execution_count": 4,
   "id": "d480cbba",
   "metadata": {},
   "outputs": [
    {
     "name": "stderr",
     "output_type": "stream",
     "text": [
      "Loaded lib dds.dll\n",
      "DDSolver being loaded - dds mode 1\n"
     ]
    }
   ],
   "source": [
    "from ddsolver import ddsolver\n",
    "dds = ddsolver.DDSolver()\n",
    "\n",
    "bidder_bots = [BotBid([True, False], hand, models, sampler, i, 3, dds, False) for i, hand in enumerate(hands)]"
   ]
  },
  {
   "cell_type": "code",
   "execution_count": 6,
   "id": "7d77351a",
   "metadata": {},
   "outputs": [
    {
     "name": "stdout",
     "output_type": "stream",
     "text": [
      "{'bid': '1S', 'who': 'NN', 'quality': '1', 'candidates': [{'call': '1S', 'insta_score': 0.998}], 'hcp': [9.6, 9.6, 9.4], 'shape': [2.6, 4.0, 3.1, 3.0, 2.7, 3.9, 3.1, 3.0, 2.7, 3.9, 3.2, 3.0]}\n",
      "{'bid': 'PASS', 'who': 'NN', 'quality': '1', 'candidates': [{'call': 'PASS', 'insta_score': 1.0}], 'hcp': [10.4, 9.5, 13.8], 'shape': [1.8, 2.9, 4.3, 4.0, 1.8, 3.0, 4.2, 4.0, 5.0, 2.1, 3.0, 2.9]}\n",
      "{'bid': '2H', 'who': 'NN', 'quality': '1', 'candidates': [{'call': '2H', 'insta_score': 0.999}], 'hcp': [7.7, 12.9, 7.1], 'shape': [3.1, 2.9, 2.9, 4.1, 5.2, 2.3, 2.2, 3.2, 3.2, 2.9, 2.9, 4.0]}\n",
      "{'bid': 'PASS', 'who': 'NN', 'quality': '1', 'candidates': [{'call': 'PASS', 'insta_score': 1.0}], 'hcp': [12.0, 5.5, 11.4], 'shape': [5.4, 2.4, 2.7, 2.4, 3.4, 3.0, 3.4, 3.1, 2.0, 5.4, 2.8, 2.6]}\n",
      "{'bid': '2S', 'who': 'NN', 'quality': '1', 'candidates': [{'call': '2S', 'insta_score': 1.0}], 'hcp': [7.6, 12.6, 8.4], 'shape': [3.1, 3.1, 3.6, 3.2, 1.9, 5.5, 3.0, 2.6, 3.0, 3.1, 3.7, 3.1]}\n",
      "{'bid': 'PASS', 'who': 'NN', 'quality': '1', 'candidates': [{'call': 'PASS', 'insta_score': 1.0}], 'hcp': [12.8, 8.6, 12.1], 'shape': [1.1, 5.0, 3.6, 3.2, 2.0, 2.0, 4.6, 4.4, 5.2, 1.3, 3.3, 3.3]}\n",
      "{'bid': '2N', 'who': 'NN', 'quality': '0.96', 'candidates': [{'call': '2N', 'insta_score': 0.974}], 'samples': ['QT.xxxx.8x.AKJTx x.AQJ98.KQ9xx.9x 8xxxx.KT.Jxx.Q8x AKJ9x.xx.ATx.xxx 1.00000', 'AJx.xxx.AJTx.Jxx x.AQJ98.KQ9xx.9x KQT.Txx.8x.QT8xx 98xxxx.Kx.xx.AKx 0.83496', 'T.Kxxx.8xx.KQTxx x.AQJ98.KQ9xx.9x J98xxx.Tx.AT.A8x AKQxx.xx.Jxx.Jxx 0.74756', 'J8.Kx.A8xx.8xxxx x.AQJ98.KQ9xx.9x AQxx.Txxx.JT.QJx KT9xxx.xx.xx.AKT 0.89307', 'J9xx.xxx.xx.AJ8x x.AQJ98.KQ9xx.9x Ax.Txx.JT8x.KQTx KQT8xx.Kx.Ax.xxx 0.99951', 'K9x.KTxx.Jx.J8xx x.AQJ98.KQ9xx.9x QT8.xxx.AT8.KTxx AJxxxx.x.xxx.AQx 0.99219', 'KTxx.Txx.Tx.KTxx x.AQJ98.KQ9xx.9x QJ9.Kxxx.xxx.AJx A8xxx.x.AJ8.Q8xx 0.99707', 'A8xx.Txx.Jx.Axxx x.AQJ98.KQ9xx.9x QTx.Kxx.8xx.QT8x KJ9xx.xx.ATx.KJx 1.00000', 'KQJ.x.T8xx.QJ8xx x.AQJ98.KQ9xx.9x A9x.Txxxx.Jx.KTx T8xxxx.Kx.Ax.Axx 0.99902', 'Kx.KTxxx.xx.T8xx x.AQJ98.KQ9xx.9x QTxx.xx.8x.AKQJx AJ98xx.x.AJTx.xx 0.85107', 'Q9x.Txx.A8x.QTxx x.AQJ98.KQ9xx.9x Txx.xxx.Txx.AKxx AKJ8xx.Kx.Jx.J8x 0.99951', 'AQxx.Kxxxx..Qxxx x.AQJ98.KQ9xx.9x Jxx.Tx.Txxx.AJTx KT98x.x.AJ8x.K8x 0.99463', 'J8x.xxx.xx.AJxxx x.AQJ98.KQ9xx.9x AKTx.Txxx.Tx.KT8 Q9xxx.K.AJ8x.Qxx 0.99658', 'KT8x.KTx.xxx.QJx x.AQJ98.KQ9xx.9x 9xx.xxx.AJ.Txxxx AQJxx.xx.T8x.AK8 0.99902', 'AQJ98.Kxxx.T8.JT x.AQJ98.KQ9xx.9x x.Txx.Jxxx.AQxxx KTxxxx.x.Ax.K8xx 0.91748', '8xx.Kx.AJT.T8xxx x.AQJ98.KQ9xx.9x QJTx.xxxx.xx.AQx AK9xx.Tx.8xx.KJx 0.98975', '9xx.Kxx.J8x.QT8x x.AQJ98.KQ9xx.9x KJT8.Txxx..AKJxx AQxxx.x.ATxxx.xx 0.92920', 'J8x.KTxx.Tx.KQxx x.AQJ98.KQ9xx.9x A9x.xxx.J8x.JTxx KQTxxx.x.Axx.A8x 0.99902', 'Txx.Tx.Axx.AQxxx x.AQJ98.KQ9xx.9x Q9x.Kxxxx.Jxx.JT AKJ8xx.x.T8.K8xx 0.99072', 'Txxx.xx.A8x.Q8xx x.AQJ98.KQ9xx.9x Kx.Kxxx.Txx.KTxx AQJ98x.Tx.Jx.AJx 0.99951'], 'hcp': [8.3, 11.9, 7.7], 'shape': [3.0, 3.1, 3.0, 4.0, 5.5, 1.8, 2.4, 3.3, 3.1, 3.1, 2.9, 3.9]}\n",
      "{'bid': 'PASS', 'who': 'NN', 'quality': '1', 'candidates': [{'call': 'PASS', 'insta_score': 1.0}], 'hcp': [11.6, 5.5, 11.7], 'shape': [5.5, 2.1, 2.8, 2.6, 3.6, 3.8, 3.0, 2.6, 1.8, 5.0, 3.2, 2.9]}\n",
      "{'bid': 'PASS', 'who': 'NN', 'quality': '0.94', 'candidates': [{'call': 'PASS', 'insta_score': 1.0, 'adjustment': 0, 'expected_score': 63, 'expected_tricks': 7.8}], 'samples': ['Tx.Qxx.AJ9x.JTxx A.KJ9xx.KQ8x.9xx Q8xxx.AT8x.xx.Q8 KJ9xx.x.Txx.AKxx 0.75195', 'xxx.Jxx.J9xx.T98 Tx.QT8xx.AKx.Qxx AQ8.AK9x.Q8x.Jxx KJ9xx.x.Txx.AKxx 0.99365', 'T8xx.J9xx.Q9.JTx .QTxxx.AK8xx.Q9x AQxx.AK8.Jxx.8xx KJ9xx.x.Txx.AKxx 0.96582', '8xxx.Kxxx.xx.QJx Q.AQTxx.A98x.9xx ATx.J98.KQJx.T8x KJ9xx.x.Txx.AKxx 0.99365', 'A8.A8xx.8xx.T9xx xx.KQJ9x.Kxx.QJ8 QTxx.Txx.AQJ9.xx KJ9xx.x.Txx.AKxx 0.98682', 'AQxx.KT8x.KQ8.QJ x.AQJ9x.AJx.Txxx T8x.xxx.9xxx.98x KJ9xx.x.Txx.AKxx 0.74316', 'Q8xxx.T9x.AJx.Qx Ax.AQ8xx.Qxx.T8x T.KJxx.K98x.J9xx KJ9xx.x.Txx.AKxx 0.98682', 'A.AJ9x.98xxx.98x x.Txxxx.AKQ.QTxx QT8xxx.KQ8.Jx.Jx KJ9xx.x.Txx.AKxx 0.99463', 'AQ.T9xx.8x.T98xx 8x.AQJ8x.KJ9.Jxx Txxx.Kxx.AQxxx.Q KJ9xx.x.Txx.AKxx 0.99023', 'Txx.QJx.98xx.Txx Q8.AK8xx.Jx.J98x Axx.T9xx.AKQx.Qx KJ9xx.x.Txx.AKxx 0.99707', 'AQT8.Jx.A9.J98xx x.AQ8xx.KQxxx.QT xxx.KT9xx.J8x.xx KJ9xx.x.Txx.AKxx 0.71094', 'Axx.K9xxx.K9.Jxx Qx.AJ8xx.QJxx.Q8 T8x.QT.A8xx.T9xx KJ9xx.x.Txx.AKxx 0.99561', 'Qxx.8xxx.Axx.T9x T.AKJxx.KQ98.8xx A8xx.QT9.Jxx.QJx KJ9xx.x.Txx.AKxx 0.72754', 'A8xxx.Tx.KJx.T8x x.KQ9xx.AQ98x.Jx QT.AJ8xx.xx.Q9xx KJ9xx.x.Txx.AKxx 0.98779', 'Qx.K8x.J8xxx.98x Ax.JTxxx.KQ.QTxx T8xx.AQ9x.A9x.Jx KJ9xx.x.Txx.AKxx 0.99512', '8x.Kxxx.Q9xx.9xx T.AJTxx.KJx.QJT8 AQxxx.Q98.A8x.xx KJ9xx.x.Txx.AKxx 0.98828', 'Q8x.Axxx.J8xx.Qx T.KJT9x.AQx.J9xx Axxx.Q8x.K9x.T8x KJ9xx.x.Txx.AKxx 0.99463', '8xx.K8xx.AK9x.Jx A.AJTxx.8xx.Q9xx QTxx.Q9x.QJx.T8x KJ9xx.x.Txx.AKxx 0.99561', 'Txx.8xx.Jxx.J9xx 8.QJTxx.AK9x.QTx AQxx.AK9x.Q8x.8x KJ9xx.x.Txx.AKxx 0.99561', 'QTx.AT98x.xx.JTx x.KQxxx.AQ8.98xx A8xx.Jx.KJ9xx.Qx KJ9xx.x.Txx.AKxx 0.99561'], 'hcp': [8.3, 11.4, 9.0], 'shape': [3.2, 3.2, 3.5, 3.1, 1.8, 5.2, 3.2, 2.9, 3.1, 3.3, 3.5, 3.0]}\n",
      "{'bid': 'PASS', 'who': 'NN', 'quality': '0.83', 'candidates': [{'call': 'PASS', 'insta_score': 1.0, 'adjustment': 0, 'expected_score': -117, 'expected_tricks': 8.8}], 'samples': ['T8xxx.Kxxxx.J.Qx Ax.JT8xx.KTx.KTx Q.Q9.AQ9xxx.J98x KJ9xx.A.8xx.Axxx 0.99756', 'T8xxx.Kxxxx.J.Qx K.QT9xx.Q8x.AJT8 Qx.J8.AKT9xx.xxx AJ9xx.A.xxx.K9xx 0.99756', 'T8xxx.Kxxxx.J.Qx A.Q98xx.Txx.AJxx Jx.JT.AKQ8xx.T8x KQ9xx.A.9xx.K9xx 0.99756', 'T8xxx.Kxxxx.J.Qx Q.AT98x.Axx.JTxx Jx.Jx.QT98xx.AK8 AK9xx.Q.Kxx.9xxx 0.99756', 'T8xxx.Kxxxx.J.Qx A.AQJ98.98xx.T9x Jx.xx.AKQxx.J8xx KQ9xx.T.Txx.AKxx 0.99658', 'T8xxx.Kxxxx.J.Qx Q9.QT98x.Ax.KJxx K.Ax.K98xxx.T9xx AJxxx.J.QTxx.A8x 0.99658', 'T8xxx.Kxxxx.J.Qx K.AQ9xx.Qxx.Jxxx 9x.T8.K9xxxx.AKx AQJxx.J.AT8.T98x 0.99658', 'T8xxx.Kxxxx.J.Qx .AQJ98.9xxx.A98x AQx.Tx.Q8xx.Kxxx KJ9xx.x.AKTx.JTx 0.99561', 'T8xxx.Kxxxx.J.Qx K.AQJT9.Q98x.Txx 9x.xx.AKx.KJ8xxx AQJxx.8.Txxxx.A9 0.99463', 'T8xxx.Kxxxx.J.Qx Q.AJTxx.Q9x.KT9x Ax.Q8.8xxx.AJ8xx KJ9xx.9.AKTxx.xx 0.99414', 'T8xxx.Kxxxx.J.Qx x.AQJT8.Qxxxx.Kx KJ.xx.KTxx.A8xxx AQ9xx.9.A98.JT9x 0.99414', 'T8xxx.Kxxxx.J.Qx .QJT9x.Axx.AT8xx KQ9.8.KT8xxx.Kxx AJxxx.Ax.Q9x.J9x 0.99316', 'T8xxx.Kxxxx.J.Qx Qx.AJ9xx.xx.KJTx x.QT8.KQ98xx.Axx AKJ9x..ATxx.98xx 0.99316', 'T8xxx.Kxxxx.J.Qx J9.AQJTx.KTx.Jxx Q.98.A8xxx.AT9xx AKxxx.x.Q9xx.K8x 0.99023', 'T8xxx.Kxxxx.J.Qx K.QJ9xx.KT9x.K9x Ax.8.AQxxx.T8xxx QJ9xx.AT.8xx.AJx 0.99023', 'T8xxx.Kxxxx.J.Qx A.QJ98x.Kxx.J8xx Kx.Ax.QT98xx.Kxx QJ9xx.T.Axx.AT9x 0.98975', 'T8xxx.Kxxxx.J.Qx Q.QJT98.KT9x.K98 Jx.x.AQ8xxx.ATxx AK9xx.Ax.xx.Jxxx 0.98877', 'T8xxx.Kxxxx.J.Qx x.AQJ8x.KQx.T9xx KQ.T.98xxx.AJ8xx AJ9xx.9x.ATxx.Kx 0.98535', 'T8xxx.Kxxxx.J.Qx .AJT98.K9xx.AT9x A9x.Q.T8xxx.KJxx KQJxx.xx.AQx.8xx 0.98340', 'T8xxx.Kxxxx.J.Qx x.AQJ9x.9x.AJ98x Ax.Tx.KT8xxx.Kxx KQJ9x.8.AQxx.Txx 0.98242'], 'hcp': [11.9, 10.8, 11.2], 'shape': [1.3, 4.8, 3.5, 3.3, 1.9, 2.1, 4.7, 4.2, 5.1, 1.2, 3.4, 3.4]}\n",
      "['PAD_START', 'PAD_START', 'PAD_START', '1S', 'PASS', '2H', 'PASS', '2S', 'PASS', '2N', 'PASS', 'PASS', 'PASS']\n"
     ]
    }
   ],
   "source": [
    "auction = ['PAD_START','PAD_START','PAD_START']  # since West deals we need 'PAD_START'\n",
    "\n",
    "turn_i = 3 # whose turn is it to bid\n",
    "step = 0\n",
    "\n",
    "while not bidding.auction_over(auction):\n",
    "    bid = bidder_bots[turn_i].bid(auction)\n",
    "    print(bid.to_dict())\n",
    "    auction.append(bid.bid)\n",
    "    turn_i = (turn_i + 1) % 4  # next player's turn\n",
    "    step += 1\n",
    "print(auction)"
   ]
  }
 ],
 "metadata": {
  "kernelspec": {
   "display_name": "Python 3",
   "language": "python",
   "name": "python3"
  },
  "language_info": {
   "codemirror_mode": {
    "name": "ipython",
    "version": 3
   },
   "file_extension": ".py",
   "mimetype": "text/x-python",
   "name": "python",
   "nbconvert_exporter": "python",
   "pygments_lexer": "ipython3",
   "version": "3.12.3"
  }
 },
 "nbformat": 4,
 "nbformat_minor": 5
}
