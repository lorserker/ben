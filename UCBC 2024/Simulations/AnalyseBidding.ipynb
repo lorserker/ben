{
 "cells": [
  {
   "cell_type": "markdown",
   "id": "21a4c878",
   "metadata": {},
   "source": [
    "# Detailed Analysis of bidding"
   ]
  },
  {
   "cell_type": "code",
   "execution_count": 1,
   "id": "16f73f71",
   "metadata": {},
   "outputs": [],
   "source": [
    "import sys\n",
    "import os\n",
    "sys.path.append('../../src')\n",
    "os.environ['BEN_HOME'] = \"../..\"\n",
    "\n",
    "import binary\n",
    "from analysis import CardByCard\n",
    "\n",
    "from nn.models import Models\n",
    "from bots import BotBid\n",
    "from util import hand_to_str\n",
    "from sample import Sample\n",
    "import conf\n",
    "\n",
    "import numpy as np\n",
    "\n",
    "np.set_printoptions(precision=2, suppress=True, linewidth=200)\n",
    "np.random.seed(42)"
   ]
  },
  {
   "cell_type": "code",
   "execution_count": 2,
   "id": "ca7fa897",
   "metadata": {},
   "outputs": [
    {
     "name": "stderr",
     "output_type": "stream",
     "text": [
      "Loading config file d:\\GitHub\\ben\\src\\../UCBC 2024/Conf/UCBC2024.conf\n"
     ]
    },
    {
     "name": "stdout",
     "output_type": "stream",
     "text": [
      "WARNING:tensorflow:From d:\\GitHub\\ben\\UCBC 2024\\Simulations\\../../src\\nn\\bidderv2.py:3: The name tf.disable_v2_behavior is deprecated. Please use tf.compat.v1.disable_v2_behavior instead.\n",
      "\n",
      "WARNING:tensorflow:From c:\\ProgramData\\miniconda3\\Lib\\site-packages\\tensorflow\\python\\compat\\v2_compat.py:98: disable_resource_variables (from tensorflow.python.ops.resource_variables_toggle) is deprecated and will be removed in a future version.\n",
      "Instructions for updating:\n",
      "non-resource variables are not supported in the long term\n",
      "WARNING:tensorflow:From d:\\GitHub\\ben\\UCBC 2024\\Simulations\\../../src\\nn\\bidderv2.py:12: The name tf.Session is deprecated. Please use tf.compat.v1.Session instead.\n",
      "\n",
      "WARNING:tensorflow:From d:\\GitHub\\ben\\UCBC 2024\\Simulations\\../../src\\nn\\bidderv2.py:21: The name tf.train.import_meta_graph is deprecated. Please use tf.compat.v1.train.import_meta_graph instead.\n",
      "\n",
      "INFO:tensorflow:Restoring parameters from ..\\Models/NS1EW99-bidding_V2-3125000\n",
      "INFO:tensorflow:Restoring parameters from ..\\Models/NS1EW99-bidding_V2-3125000\n",
      "INFO:tensorflow:Restoring parameters from ..\\Models/contract-193200\n",
      "INFO:tensorflow:Restoring parameters from ..\\Models/NS1EW99-binfo_V2-3125000\n",
      "INFO:tensorflow:Restoring parameters from ..\\Models/lead_suit-999000\n",
      "INFO:tensorflow:Restoring parameters from ..\\Models/lead_nt-475000\n",
      "INFO:tensorflow:Restoring parameters from ..\\Models/Jack/lr3-1000000\n",
      "INFO:tensorflow:Restoring parameters from ..\\Models/single_dummy-32768000\n",
      "INFO:tensorflow:Restoring parameters from ..\\Models/lefty_nt-475000\n",
      "INFO:tensorflow:Restoring parameters from ..\\Models/dummy_nt-475000\n",
      "INFO:tensorflow:Restoring parameters from ..\\Models/righty_nt-475000\n",
      "INFO:tensorflow:Restoring parameters from ..\\Models/decl_nt-475000\n",
      "INFO:tensorflow:Restoring parameters from ..\\Models/lefty_suit-999000\n",
      "INFO:tensorflow:Restoring parameters from ..\\Models/dummy_suit-999000\n",
      "INFO:tensorflow:Restoring parameters from ..\\Models/righty_suit-999000\n",
      "INFO:tensorflow:Restoring parameters from ..\\Models/decl_suit-999000\n"
     ]
    },
    {
     "name": "stderr",
     "output_type": "stream",
     "text": [
      "Loading config file d:\\GitHub\\ben\\src\\../UCBC 2024/Conf/UCBC2024.conf\n"
     ]
    }
   ],
   "source": [
    "models = Models.from_conf(conf.load('../UCBC 2024/Conf/UCBC2024.conf'),'..')   # loading neural networks\n",
    "sampler = Sample.from_conf(conf.load('../UCBC 2024/Conf/UCBC2024.conf'), False)  # Load sampling strategies\n"
   ]
  },
  {
   "cell_type": "code",
   "execution_count": 3,
   "id": "2940c18a",
   "metadata": {},
   "outputs": [
    {
     "name": "stderr",
     "output_type": "stream",
     "text": [
      "Loaded lib dds.dll\n",
      "DDSolver being loaded version 2.9.0.0 - dds mode 1\n"
     ]
    }
   ],
   "source": [
    "# We specify all the information about a board\n",
    "\n",
    "dealer = 'E'\n",
    "vuln = [False, False]  # first element is NS, second element is EW\n",
    "hands = [ 'AJTx.KJxx.J9x.Ax','Q.A8xx.AQTxxx.Jx','9x.QT9x.xx.K98xx','K8xxxx.x.K8.QTxx']\n",
    "auction = ['1D', 'PASS', '1S', 'PASS', '2D', 'PASS', '2S', 'PASS', 'PASS', 'PASS']\n",
    "\n",
    "card_by_card = CardByCard(dealer, vuln, hands, auction, [], models, sampler, False)"
   ]
  },
  {
   "cell_type": "code",
   "execution_count": 4,
   "id": "7ab0cce5",
   "metadata": {},
   "outputs": [
    {
     "name": "stderr",
     "output_type": "stream",
     "text": [
      "DDSolver being loaded version 2.9.0.0 - dds mode 1\n"
     ]
    },
    {
     "name": "stdout",
     "output_type": "stream",
     "text": [
      "1D OK NN-value: 1.000\n",
      "PASS OK NN-value: 1.000\n",
      "1S OK NN-value: 0.999\n",
      "PASS OK NN-value: 0.940\n",
      "2D OK NN-value: 1.000\n",
      "PASS OK NN-value: 1.000\n",
      "2S OK NN-value: 0.969\n",
      "PASS OK NN-value: 1.000\n",
      "PASS OK NN-value: 0.861\n",
      "PASS OK NN-value: 1.000\n"
     ]
    }
   ],
   "source": [
    "# calling this starts the analysis\n",
    "# it will go bid-by-bid and card-by-card, and will take a few moments\n",
    "# possible mistakes will be annotated with ? or with ?? (if it's a bigger mistake)\n",
    "# (possible mistake means that the engine does not agree with the bid/play. the engine could be wrong too :))\n",
    "\n",
    "card_by_card.analyze_bidding()"
   ]
  }
 ],
 "metadata": {
  "kernelspec": {
   "display_name": "Python 3",
   "language": "python",
   "name": "python3"
  },
  "language_info": {
   "codemirror_mode": {
    "name": "ipython",
    "version": 3
   },
   "file_extension": ".py",
   "mimetype": "text/x-python",
   "name": "python",
   "nbconvert_exporter": "python",
   "pygments_lexer": "ipython3",
   "version": "3.12.3"
  }
 },
 "nbformat": 4,
 "nbformat_minor": 5
}
