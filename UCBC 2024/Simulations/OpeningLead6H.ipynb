{
 "cells": [
  {
   "cell_type": "markdown",
   "id": "170af530",
   "metadata": {},
   "source": [
    "# Opening Lead\n",
    "\n",
    "This is a tutorial for how to use the opening lead engine."
   ]
  },
  {
   "cell_type": "code",
   "execution_count": 1,
   "id": "26570686",
   "metadata": {},
   "outputs": [],
   "source": [
    "import os\n",
    "import sys\n",
    "sys.path.append('../../src')\n",
    "os.environ['BEN_HOME'] = \"../..\"\n",
    "\n",
    "from nn.models import Models\n",
    "from bots import BotLead\n",
    "from sample import Sample\n",
    "import conf\n",
    "import numpy as np\n",
    "\n",
    "np.set_printoptions(precision=2, suppress=True, linewidth=200)\n",
    "np.random.seed(42)\n"
   ]
  },
  {
   "cell_type": "code",
   "execution_count": 2,
   "id": "fe373c76",
   "metadata": {},
   "outputs": [
    {
     "name": "stdout",
     "output_type": "stream",
     "text": [
      "WARNING:tensorflow:From c:\\Python311\\Lib\\site-packages\\tensorflow\\python\\compat\\v2_compat.py:107: disable_resource_variables (from tensorflow.python.ops.variable_scope) is deprecated and will be removed in a future version.\n",
      "Instructions for updating:\n",
      "non-resource variables are not supported in the long term\n",
      "INFO:tensorflow:Restoring parameters from ..\\Models/NS1EW99-bidding_same-5556000\n",
      "INFO:tensorflow:Restoring parameters from ..\\Models/NS1EW99-binfo_same-5556000\n",
      "INFO:tensorflow:Restoring parameters from ..\\Models/lead_suit-999000\n",
      "INFO:tensorflow:Restoring parameters from ..\\Models/lead_nt-475000\n",
      "INFO:tensorflow:Restoring parameters from ..\\Models/Jack/lr3-1000000\n",
      "INFO:tensorflow:Restoring parameters from ..\\Models/single_dummy-32768000\n",
      "INFO:tensorflow:Restoring parameters from ..\\Models/jack/lefty-1000000\n",
      "INFO:tensorflow:Restoring parameters from ..\\Models/jack/dummy-920000\n",
      "INFO:tensorflow:Restoring parameters from ..\\Models/jack/righty-1000000\n",
      "INFO:tensorflow:Restoring parameters from ..\\Models/jack/decl-1000000\n",
      "INFO:tensorflow:Restoring parameters from ..\\Models/jack/lefty-1000000\n",
      "INFO:tensorflow:Restoring parameters from ..\\Models/jack/dummy-920000\n",
      "INFO:tensorflow:Restoring parameters from ..\\Models/jack/righty-1000000\n",
      "INFO:tensorflow:Restoring parameters from ..\\Models/jack/decl-1000000\n"
     ]
    }
   ],
   "source": [
    "models = Models.from_conf(conf.load('../Conf/UCBC2024.conf'),'..')   # loading neural networks\n",
    "sampler = Sample.from_conf(conf.load('../Conf/UCBC2024.conf'), False)  # Load sampling strategies"
   ]
  },
  {
   "cell_type": "code",
   "execution_count": null,
   "id": "c3397678",
   "metadata": {},
   "outputs": [
    {
     "name": "stderr",
     "output_type": "stream",
     "text": [
      "Loaded lib dds.dll\n"
     ]
    }
   ],
   "source": [
    "# both vulnerable. you are sitting East and hold\n",
    "hand = 'KQ854.854.JT96.8'\n",
    "seat = 1\n",
    "\n",
    "# the auction goes:\n",
    "auction = [\"PAD_START\", \"PAD_START\", \"1C\", \"PASS\", \"1H\", \"PASS\", \"3S\", \"PASS\", \"4D\", \"PASS\", \"4H\", \"PASS\", \"4N\", \"PASS\", \"5H\", \"PASS\", \"6H\", \"PASS\", \"PASS\", \"PASS\"]\n",
    "\n",
    "from ddsolver import ddsolver\n",
    "dds = ddsolver.DDSolver()\n",
    "\n",
    "# what to lead?\n",
    "lead_bot = BotLead([True, True], hand, models, sampler, seat, dealer=2, ddsolver=dds, verbose=False)\n",
    "lead = lead_bot.find_opening_lead(auction)"
   ]
  },
  {
   "cell_type": "code",
   "execution_count": 5,
   "id": "a2b5fe25",
   "metadata": {},
   "outputs": [
    {
     "data": {
      "text/plain": [
       "H5"
      ]
     },
     "execution_count": 5,
     "metadata": {},
     "output_type": "execute_result"
    }
   ],
   "source": [
    "lead.card"
   ]
  },
  {
   "cell_type": "markdown",
   "id": "02e88396",
   "metadata": {},
   "source": [
    "seems like the engine chose to lead the ace of diamonds\n",
    "\n",
    "the other options it considered were: a small spade and a small club"
   ]
  },
  {
   "cell_type": "code",
   "execution_count": 6,
   "id": "956ef356",
   "metadata": {},
   "outputs": [
    {
     "data": {
      "text/plain": [
       "[{'card': 'Hx',\n",
       "  'insta_score': 0.104,\n",
       "  'expected_tricks_sd': 12.21,\n",
       "  'p_make_contract': 0.18},\n",
       " {'card': 'Sx',\n",
       "  'insta_score': 0.192,\n",
       "  'expected_tricks_sd': 12.32,\n",
       "  'p_make_contract': 0.15},\n",
       " {'card': 'SK',\n",
       "  'insta_score': 0.136,\n",
       "  'expected_tricks_sd': 12.29,\n",
       "  'p_make_contract': 0.15},\n",
       " {'card': 'Dx',\n",
       "  'insta_score': 0.174,\n",
       "  'expected_tricks_sd': 12.24,\n",
       "  'p_make_contract': 0.12}]"
      ]
     },
     "execution_count": 6,
     "metadata": {},
     "output_type": "execute_result"
    }
   ],
   "source": [
    "lead.to_dict()['candidates']"
   ]
  },
  {
   "cell_type": "markdown",
   "id": "97efc5a1",
   "metadata": {},
   "source": [
    "in the above output:\n",
    "- `insta_score` reflects the preference of the neural network\n",
    "- `expected_tricks` how many tricks declarer is expected to take on this lead\n",
    "- `p_make_contract` is the probability of the contract making on this lead\n",
    "\n",
    "the probability of making and the expected tricks are computed on samples which are consistent with the auction. the samples are estimated single dummy using a neural network (more on this in another tutorial). we could also solve the samples double dummy, but that would be quite a bit slower."
   ]
  },
  {
   "cell_type": "code",
   "execution_count": 7,
   "id": "7cb2bf98",
   "metadata": {},
   "outputs": [
    {
     "data": {
      "text/plain": [
       "['KQ8xx.8xx.JT9x.8 J.KJxx.KQx.AKQxx T9x.T9.A8xxx.JTx Axxx.AQxx.x.9xxx 0.76808',\n",
       " 'KQ8xx.8xx.JT9x.8 A.KJxx.KQ8.KQ9xx Txx.T.xxxxx.JTxx J9xx.AQ9xx.A.Axx 0.76433',\n",
       " 'KQ8xx.8xx.JT9x.8 A.J9xx.AKQ.KQ9xx JTxx.Qx.xxxx.Txx 9xx.AKTx.8x.AJxx 0.76082',\n",
       " 'KQ8xx.8xx.JT9x.8 x.AJxx.AKx.KQJ9x Axxx.9x.8xx.Txxx JT9.KQTx.Qxx.Axx 0.76043',\n",
       " 'KQ8xx.8xx.JT9x.8 x.AJTx.KQx.AKQTx JT9x.xx.8xx.9xxx Axx.KQ9x.Axx.Jxx 0.75455',\n",
       " 'KQ8xx.8xx.JT9x.8 x.AJTx.AKx.KQJxx 9xx.x.Q8xxx.Axxx AJTx.KQ9xx.x.T9x 0.75280',\n",
       " 'KQ8xx.8xx.JT9x.8 x.Axxx.KQx.AKQJx T9xx.T.A8xx.9xxx AJx.KQJ9x.xx.Txx 0.75228',\n",
       " 'KQ8xx.8xx.JT9x.8 x.AK9x.KQx.KQJ9x J9xx.x.A8x.Txxxx ATx.QJTxx.xxx.Ax 0.75225',\n",
       " 'KQ8xx.8xx.JT9x.8 T.J9xx.AKQ.AKJ9x 9xxx.T.xxxx.Qxxx AJx.AKQxx.8x.Txx 0.75147',\n",
       " 'KQ8xx.8xx.JT9x.8 9.AJxx.KQx.AKQTx Txx.Q9.A8xxx.Jxx AJxx.KTxx.x.9xxx 0.75122',\n",
       " 'KQ8xx.8xx.JT9x.8 T.AJTx.AKx.KQJxx 9xxx.Q.xxx.T9xxx AJx.K9xxx.Q8x.Ax 0.75022',\n",
       " 'KQ8xx.8xx.JT9x.8 x.Kxxx.KQx.AKQJx Jxx.AT.8xxx.9xxx AT9x.QJ9x.Ax.Txx 0.74988',\n",
       " 'KQ8xx.8xx.JT9x.8 x.KJxx.KQ8.AKQ9x Txx.Tx.Axxx.Jxxx AJ9x.AQ9x.xx.Txx 0.74987',\n",
       " 'KQ8xx.8xx.JT9x.8 9.9xxx.AKQ.AKQJx Txx.JT.8xx.T9xxx AJxx.AKQx.xxx.xx 0.74941',\n",
       " 'KQ8xx.8xx.JT9x.8 J.JTxx.AKx.AKQJx Txx.Qx.Qxxx.9xxx A9xx.AK9x.8x.Txx 0.74750',\n",
       " 'KQ8xx.8xx.JT9x.8 x.A9xx.KQx.AKQxx 9xxx.T.8xxx.9xxx AJT.KQJxx.Ax.JTx 0.74663',\n",
       " 'KQ8xx.8xx.JT9x.8 x.KTxx.KQx.AKQJ9 9xx.Qx.8xx.Txxxx AJTx.AJ9x.Axx.xx 0.74502',\n",
       " 'KQ8xx.8xx.JT9x.8 9.AJTx.K8x.AKQJx Axxx.xx.Qxxx.9xx JTx.KQ9x.Ax.Txxx 0.74109',\n",
       " 'KQ8xx.8xx.JT9x.8 J.AJxx.K8x.AKQxx ATx.Qx.xxxx.Txxx 9xxx.KT9x.AQ.J9x 0.73714',\n",
       " 'KQ8xx.8xx.JT9x.8 x.AJ9x.AKQ.KJxxx Txx.xx.8xx.AQT9x AJ9x.KQTx.xxx.xx 0.73405']"
      ]
     },
     "execution_count": 7,
     "metadata": {},
     "output_type": "execute_result"
    }
   ],
   "source": [
    "# each row is one sample board\n",
    "# the hands are in the order: LHO, Partner, RHO. Your cards are not shown as they are fixed/\n",
    "\n",
    "lead.samples"
   ]
  }
 ],
 "metadata": {
  "kernelspec": {
   "display_name": "Python 3 (ipykernel)",
   "language": "python",
   "name": "python3"
  },
  "language_info": {
   "codemirror_mode": {
    "name": "ipython",
    "version": 3
   },
   "file_extension": ".py",
   "mimetype": "text/x-python",
   "name": "python",
   "nbconvert_exporter": "python",
   "pygments_lexer": "ipython3",
   "version": "3.11.0"
  }
 },
 "nbformat": 4,
 "nbformat_minor": 5
}
