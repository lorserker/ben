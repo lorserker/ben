{
 "cells": [
  {
   "cell_type": "markdown",
   "id": "75d07246",
   "metadata": {},
   "source": [
    "# Bidding validation during play\n",
    "\n",
    "When playing the samples are matched against bidding. This is an example of how this is done"
   ]
  },
  {
   "cell_type": "code",
   "execution_count": null,
   "id": "59a5664c",
   "metadata": {},
   "outputs": [
    {
     "name": "stderr",
     "output_type": "stream",
     "text": [
      "<>:26: SyntaxWarning: invalid escape sequence '\\.'\n",
      "<>:26: SyntaxWarning: invalid escape sequence '\\.'\n",
      "C:\\Users\\Thorvald.AALBORGDATA\\AppData\\Local\\Temp\\ipykernel_44668\\3593707701.py:26: SyntaxWarning: invalid escape sequence '\\.'\n",
      "  models = Models.from_conf(conf.load('../../Src/config/SAYC PIMC.conf'),'..\\..')   # loading neural networks\n"
     ]
    },
    {
     "name": "stdout",
     "output_type": "stream",
     "text": [
      "WARNING:tensorflow:From d:\\GitHub\\ben\\UCBC 2024\\Simulations\\../../src\\nn\\bidder.py:3: The name tf.disable_v2_behavior is deprecated. Please use tf.compat.v1.disable_v2_behavior instead.\n",
      "\n",
      "WARNING:tensorflow:From c:\\ProgramData\\miniconda3\\Lib\\site-packages\\tensorflow\\python\\compat\\v2_compat.py:98: disable_resource_variables (from tensorflow.python.ops.resource_variables_toggle) is deprecated and will be removed in a future version.\n",
      "Instructions for updating:\n",
      "non-resource variables are not supported in the long term\n",
      "WARNING:tensorflow:From d:\\GitHub\\ben\\UCBC 2024\\Simulations\\../../src\\nn\\bidder.py:16: The name tf.Session is deprecated. Please use tf.compat.v1.Session instead.\n",
      "\n",
      "WARNING:tensorflow:From d:\\GitHub\\ben\\UCBC 2024\\Simulations\\../../src\\nn\\bidder.py:34: The name tf.train.import_meta_graph is deprecated. Please use tf.compat.v1.train.import_meta_graph instead.\n",
      "\n",
      "INFO:tensorflow:Restoring parameters from ..\\..\\models/archive/sayc/bidding-1494000\n",
      "INFO:tensorflow:Restoring parameters from ..\\..\\models/archive/sayc/bidding-1494000\n",
      "INFO:tensorflow:Restoring parameters from ..\\..\\models/contract/contract-193200\n",
      "INFO:tensorflow:Restoring parameters from ..\\..\\models/archive/sayc_info/binfo-1494000\n",
      "INFO:tensorflow:Restoring parameters from ..\\..\\models/lead_model_b/lead-1000000\n",
      "INFO:tensorflow:Restoring parameters from ..\\..\\models/lead_model_b/lead-1000000\n",
      "INFO:tensorflow:Restoring parameters from ..\\..\\models/lr3_model/lr3-1000000\n",
      "INFO:tensorflow:Restoring parameters from ..\\..\\models/single_dummy/single_dummy-32768000\n",
      "INFO:tensorflow:Restoring parameters from ..\\..\\models/playing/lefty_nt-475000\n",
      "INFO:tensorflow:Restoring parameters from ..\\..\\models/playing/dummy_nt-475000\n",
      "INFO:tensorflow:Restoring parameters from ..\\..\\models/playing/righty_nt-475000\n",
      "INFO:tensorflow:Restoring parameters from ..\\..\\models/playing/decl_nt-475000\n",
      "INFO:tensorflow:Restoring parameters from ..\\..\\models/playing/lefty_suit-999000\n",
      "INFO:tensorflow:Restoring parameters from ..\\..\\models/playing/dummy_suit-999000\n",
      "INFO:tensorflow:Restoring parameters from ..\\..\\models/playing/righty_suit-999000\n",
      "INFO:tensorflow:Restoring parameters from ..\\..\\models/playing/decl_suit-999000\n"
     ]
    }
   ],
   "source": [
    "import os\n",
    "import sys\n",
    "sys.path.append('../../src')\n",
    "os.environ['BEN_HOME'] = \"../..\"\n",
    "\n",
    "import os\n",
    "import logging\n",
    "\n",
    "# Set logging level to suppress warnings\n",
    "logging.getLogger().setLevel(logging.ERROR)\n",
    "# Just disables the warnings\n",
    "os.environ['TF_CPP_MIN_LOG_LEVEL'] = '2'\n",
    "from nn.models import Models\n",
    "from bots import BotBid\n",
    "from bidding import bidding\n",
    "from util import hand_to_str\n",
    "from deck52 import random_deal\n",
    "from sample import Sample\n",
    "import conf\n",
    "import numpy as np\n",
    "from binary import parse_hand_f\n",
    "\n",
    "np.set_printoptions(precision=2, suppress=True, linewidth=200)\n",
    "np.random.seed(42)\n",
    "\n",
    "models = Models.from_conf(conf.load('config/SAYC PIMC.conf'),'../..')   # loading neural networks\n",
    "sampler = Sample.from_conf(conf.load('config/SAYC PIMC.conf'), False)  # Load sampling strategies"
   ]
  },
  {
   "cell_type": "code",
   "execution_count": 2,
   "id": "44786d5d",
   "metadata": {},
   "outputs": [
    {
     "name": "stderr",
     "output_type": "stream",
     "text": [
      "Loaded lib dds.dll\n",
      "DDSolver being loaded - dds mode 1\n"
     ]
    },
    {
     "name": "stdout",
     "output_type": "stream",
     "text": [
      "[{'call': '1D', 'insta_score': 0.999}]\n",
      "[{'call': '1D', 'insta_score': 0.999}]\n",
      "[{'call': '1D', 'insta_score': 0.999}]\n",
      "[{'call': '1D', 'insta_score': 0.999}]\n"
     ]
    },
    {
     "ename": "ValueError",
     "evalue": "cannot reshape array of size 40 into shape (5000,1,newaxis)",
     "output_type": "error",
     "traceback": [
      "\u001b[1;31m---------------------------------------------------------------------------\u001b[0m",
      "\u001b[1;31mValueError\u001b[0m                                Traceback (most recent call last)",
      "Cell \u001b[1;32mIn[2], line 32\u001b[0m\n\u001b[0;32m     29\u001b[0m auction \u001b[38;5;241m=\u001b[39m [\u001b[38;5;124m\"\u001b[39m\u001b[38;5;124mPAD_START\u001b[39m\u001b[38;5;124m\"\u001b[39m]  \u001b[38;5;241m*\u001b[39m i\n\u001b[0;32m     30\u001b[0m bot_bid \u001b[38;5;241m=\u001b[39m BotBid([vuln_ns, vuln_ew], hand_str_list[j], models, sampler, i, i, dds, \u001b[38;5;28;01mFalse\u001b[39;00m)\n\u001b[1;32m---> 32\u001b[0m bid \u001b[38;5;241m=\u001b[39m bot_bid\u001b[38;5;241m.\u001b[39mbid(auction)\n\u001b[0;32m     33\u001b[0m \u001b[38;5;28mprint\u001b[39m(bid\u001b[38;5;241m.\u001b[39mto_dict()[\u001b[38;5;124m'\u001b[39m\u001b[38;5;124mcandidates\u001b[39m\u001b[38;5;124m'\u001b[39m])\n",
      "File \u001b[1;32md:\\GitHub\\ben\\UCBC 2024\\Simulations\\../../src\\bots.py:175\u001b[0m, in \u001b[0;36mBotBid.bid\u001b[1;34m(self, auction)\u001b[0m\n\u001b[0;32m    173\u001b[0m \u001b[38;5;28;01mif\u001b[39;00m \u001b[38;5;28mself\u001b[39m\u001b[38;5;241m.\u001b[39mverbose:\n\u001b[0;32m    174\u001b[0m     \u001b[38;5;28mprint\u001b[39m(\u001b[38;5;124mf\u001b[39m\u001b[38;5;124m\"\u001b[39m\u001b[38;5;124mSampling for aution: \u001b[39m\u001b[38;5;132;01m{\u001b[39;00mauction\u001b[38;5;132;01m}\u001b[39;00m\u001b[38;5;124m trying to find \u001b[39m\u001b[38;5;132;01m{\u001b[39;00m\u001b[38;5;28mself\u001b[39m\u001b[38;5;241m.\u001b[39msample_boards_for_auction\u001b[38;5;132;01m}\u001b[39;00m\u001b[38;5;124m\"\u001b[39m)\n\u001b[1;32m--> 175\u001b[0m hands_np, sorted_score, p_hcp, p_shp, quality \u001b[38;5;241m=\u001b[39m \u001b[38;5;28mself\u001b[39m\u001b[38;5;241m.\u001b[39msample_hands_for_auction(auction, \u001b[38;5;28mself\u001b[39m\u001b[38;5;241m.\u001b[39mseat)\n\u001b[0;32m    176\u001b[0m \u001b[38;5;28;01mfor\u001b[39;00m i \u001b[38;5;129;01min\u001b[39;00m \u001b[38;5;28mrange\u001b[39m(hands_np\u001b[38;5;241m.\u001b[39mshape[\u001b[38;5;241m0\u001b[39m]):\n\u001b[0;32m    177\u001b[0m     samples\u001b[38;5;241m.\u001b[39mappend(\u001b[38;5;124m'\u001b[39m\u001b[38;5;132;01m%s\u001b[39;00m\u001b[38;5;124m \u001b[39m\u001b[38;5;132;01m%s\u001b[39;00m\u001b[38;5;124m \u001b[39m\u001b[38;5;132;01m%s\u001b[39;00m\u001b[38;5;124m \u001b[39m\u001b[38;5;132;01m%s\u001b[39;00m\u001b[38;5;124m \u001b[39m\u001b[38;5;132;01m%.5f\u001b[39;00m\u001b[38;5;124m'\u001b[39m \u001b[38;5;241m%\u001b[39m (\n\u001b[0;32m    178\u001b[0m         hand_to_str(hands_np[i,\u001b[38;5;241m0\u001b[39m,:],\u001b[38;5;28mself\u001b[39m\u001b[38;5;241m.\u001b[39mmodels\u001b[38;5;241m.\u001b[39mn_cards_bidding),\n\u001b[0;32m    179\u001b[0m         hand_to_str(hands_np[i,\u001b[38;5;241m1\u001b[39m,:],\u001b[38;5;28mself\u001b[39m\u001b[38;5;241m.\u001b[39mmodels\u001b[38;5;241m.\u001b[39mn_cards_bidding),\n\u001b[1;32m   (...)\u001b[0m\n\u001b[0;32m    182\u001b[0m         sorted_score[i]\n\u001b[0;32m    183\u001b[0m     ))\n",
      "File \u001b[1;32md:\\GitHub\\ben\\UCBC 2024\\Simulations\\../../src\\bots.py:779\u001b[0m, in \u001b[0;36mBotBid.sample_hands_for_auction\u001b[1;34m(self, auction_so_far, turn_to_bid)\u001b[0m\n\u001b[0;32m    777\u001b[0m \u001b[38;5;66;03m# Reset randomizer\u001b[39;00m\n\u001b[0;32m    778\u001b[0m \u001b[38;5;28mself\u001b[39m\u001b[38;5;241m.\u001b[39mrng \u001b[38;5;241m=\u001b[39m \u001b[38;5;28mself\u001b[39m\u001b[38;5;241m.\u001b[39mget_random_generator()\n\u001b[1;32m--> 779\u001b[0m accepted_samples, sorted_scores, p_hcp, p_shp, quality \u001b[38;5;241m=\u001b[39m \u001b[38;5;28mself\u001b[39m\u001b[38;5;241m.\u001b[39msampler\u001b[38;5;241m.\u001b[39msample_cards_auction(\n\u001b[0;32m    780\u001b[0m     auction_so_far, turn_to_bid, \u001b[38;5;28mself\u001b[39m\u001b[38;5;241m.\u001b[39mhand_str, \u001b[38;5;28mself\u001b[39m\u001b[38;5;241m.\u001b[39mvuln, sample_boards_for_auction, \u001b[38;5;28mself\u001b[39m\u001b[38;5;241m.\u001b[39mrng, \u001b[38;5;28mself\u001b[39m\u001b[38;5;241m.\u001b[39mmodels)\n\u001b[0;32m    782\u001b[0m \u001b[38;5;28;01mif\u001b[39;00m \u001b[38;5;28mself\u001b[39m\u001b[38;5;241m.\u001b[39mverbose:\n\u001b[0;32m    783\u001b[0m     \u001b[38;5;28mprint\u001b[39m(\u001b[38;5;124mf\u001b[39m\u001b[38;5;124m\"\u001b[39m\u001b[38;5;124mFound \u001b[39m\u001b[38;5;132;01m{\u001b[39;00maccepted_samples\u001b[38;5;241m.\u001b[39mshape[\u001b[38;5;241m0\u001b[39m]\u001b[38;5;132;01m}\u001b[39;00m\u001b[38;5;124m samples for bidding. Quality=\u001b[39m\u001b[38;5;132;01m{\u001b[39;00mquality\u001b[38;5;132;01m}\u001b[39;00m\u001b[38;5;124m\"\u001b[39m)\n",
      "File \u001b[1;32md:\\GitHub\\ben\\UCBC 2024\\Simulations\\../../src\\sample.py:351\u001b[0m, in \u001b[0;36mSample.sample_cards_auction\u001b[1;34m(self, auction, nesw_i, hand_str, vuln, n_samples, rng, models)\u001b[0m\n\u001b[0;32m    349\u001b[0m     \u001b[38;5;28mprint\u001b[39m(\u001b[38;5;124m\"\u001b[39m\u001b[38;5;124mget_bid_ids\u001b[39m\u001b[38;5;124m\"\u001b[39m, n_steps, auction, (nesw_i \u001b[38;5;241m+\u001b[39m \u001b[38;5;241m2\u001b[39m) \u001b[38;5;241m%\u001b[39m \u001b[38;5;241m4\u001b[39m)\n\u001b[0;32m    350\u001b[0m lho_actual_bids \u001b[38;5;241m=\u001b[39m bidding\u001b[38;5;241m.\u001b[39mget_bid_ids(auction, (nesw_i \u001b[38;5;241m+\u001b[39m \u001b[38;5;241m1\u001b[39m) \u001b[38;5;241m%\u001b[39m \u001b[38;5;241m4\u001b[39m, n_steps)\n\u001b[1;32m--> 351\u001b[0m lho_sample_bids \u001b[38;5;241m=\u001b[39m models\u001b[38;5;241m.\u001b[39mopponent_model\u001b[38;5;241m.\u001b[39mmodel_seq(X_lho)[\u001b[38;5;241m0\u001b[39m]\u001b[38;5;241m.\u001b[39mreshape((n_samples, n_steps, \u001b[38;5;241m-\u001b[39m\u001b[38;5;241m1\u001b[39m))\n\u001b[0;32m    352\u001b[0m \u001b[38;5;28;01mif\u001b[39;00m \u001b[38;5;28mself\u001b[39m\u001b[38;5;241m.\u001b[39mverbose:\n\u001b[0;32m    353\u001b[0m     \u001b[38;5;28mprint\u001b[39m(\u001b[38;5;124m\"\u001b[39m\u001b[38;5;124mFetched LHO bidding\u001b[39m\u001b[38;5;124m\"\u001b[39m)\n",
      "\u001b[1;31mValueError\u001b[0m: cannot reshape array of size 40 into shape (5000,1,newaxis)"
     ]
    }
   ],
   "source": [
    "hand_str_list = [\n",
    "    \"xx.Q.AKT8x.KJ98x\",\n",
    "    \"xx.K9x.AKT8x.J9x\",\n",
    "    \"xx.K9.AKT8x.J98x\",\n",
    "    \"xx.KQ.AKT8x.JT9x\",\n",
    "    \"xx.x.AKT8x.KJ98x\",\n",
    "    \"xx.Kx.AKT8x.JT9x\",\n",
    "    \"xx.Q9x.AKT8x.J9x\",\n",
    "    \"xx.xx.AKT8x.KJ9x\",\n",
    "    \"xx.Kxx.AKT8x.J9x\",\n",
    "    \"xx.xx.AKT8x.J98x\",\n",
    "    \"xx.9.AKT8x.KJ98x\",\n",
    "    \"xx.Qx.AKT8x.KJ9x\",\n",
    "    \"xx.9x.AKT8x.JT9x\",\n",
    "    \"xx.Kx.AKT8x.J98x\",\n",
    "    \"xx.x.AKT8x.KJT9x\",\n",
    "    \"xx.KQx.AKT8x.J9x\",\n",
    "    \"xx.Kx.AKT8x.KJ9x\",\n",
    "    \"xx.KQ9.AKT8x.J9x\",\n",
    "    \"xx.K.AKT8x.JT98x\"\n",
    "]\n",
    "\n",
    "from ddsolver import ddsolver\n",
    "dds = ddsolver.DDSolver()\n",
    "\n",
    "vuln_ns, vuln_ew = False, True\n",
    "for j in range(19):\n",
    "    for i in range(4):\n",
    "        auction = [\"PAD_START\"]  * i\n",
    "        bot_bid = BotBid([vuln_ns, vuln_ew], hand_str_list[j], models, sampler, i, i, dds, False)\n",
    "\n",
    "        bid = bot_bid.bid(auction)\n",
    "        print(bid.to_dict()['candidates'])\n"
   ]
  }
 ],
 "metadata": {
  "kernelspec": {
   "display_name": "Python 3",
   "language": "python",
   "name": "python3"
  },
  "language_info": {
   "codemirror_mode": {
    "name": "ipython",
    "version": 3
   },
   "file_extension": ".py",
   "mimetype": "text/x-python",
   "name": "python",
   "nbconvert_exporter": "python",
   "pygments_lexer": "ipython3",
   "version": "3.12.3"
  }
 },
 "nbformat": 4,
 "nbformat_minor": 5
}
